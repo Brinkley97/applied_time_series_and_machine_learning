{
 "cells": [
  {
   "cell_type": "markdown",
   "id": "204ed677-57bf-45f3-88a8-a16b068b2eed",
   "metadata": {},
   "source": [
    "# A Simple System Design for Forecasting Time Series Stock Data"
   ]
  },
  {
   "cell_type": "markdown",
   "id": "acf0e6dc-a457-4241-8f51-c0a14e357c9f",
   "metadata": {},
   "source": [
    "# Imports"
   ]
  },
  {
   "cell_type": "code",
   "execution_count": 1,
   "id": "5d3af871-d4fe-4bc2-98e7-5eee7bbd6f70",
   "metadata": {},
   "outputs": [
    {
     "name": "stderr",
     "output_type": "stream",
     "text": [
      "2023-06-16 22:15:41.941811: I tensorflow/core/platform/cpu_feature_guard.cc:193] This TensorFlow binary is optimized with oneAPI Deep Neural Network Library (oneDNN) to use the following CPU instructions in performance-critical operations:  SSE4.1 SSE4.2 AVX AVX2 FMA\n",
      "To enable them in other operations, rebuild TensorFlow with the appropriate compiler flags.\n"
     ]
    }
   ],
   "source": [
    "import math\n",
    "import numpy as np\n",
    "import pandas as pd\n",
    "import yfinance as yf\n",
    "\n",
    "from abc import ABC\n",
    "from typing import List\n",
    "from abc import abstractmethod\n",
    "from dataclasses import dataclass\n",
    "\n",
    "from keras.layers import Dense\n",
    "from keras.models import Sequential\n",
    "from sklearn.metrics import mean_squared_error"
   ]
  },
  {
   "cell_type": "markdown",
   "id": "b5d3ab69-0763-48e7-8a7e-4bd1c72c8a91",
   "metadata": {},
   "source": [
    "# Data Processor - Load the stock data\n",
    "\n",
    "- Retrieve the stock data with `data = yf.download(symbol, start=\"YYYY-MM-DD\", end=\"YYYY-MM-DD\")`\n",
    "- Specific what column we're seeking to explore"
   ]
  },
  {
   "cell_type": "code",
   "execution_count": 2,
   "id": "12013e23-aec2-410b-9862-df4eec48e15f",
   "metadata": {},
   "outputs": [],
   "source": [
    "@dataclass\n",
    "class YFinanceDataProcessor:\n",
    "    \"\"\"Handles fetching and returning data. \"\"\"\n",
    "    ticker_symbol: str\n",
    "    start_date: str\n",
    "    end_date: str\n",
    "    \n",
    "    def __post_init__(self):\n",
    "        \"\"\"Operations that are performed after the initialization step.\"\"\"\n",
    "        self.data = yf.download(self.ticker_symbol, start=self.start_date, end=self.end_date)\n",
    "    \n",
    "    def filter_by_col(self, col_name: str):\n",
    "        \"\"\"Returns a filtered univariate dataframe with all the rows.\n",
    "        \n",
    "        Parameter:\n",
    "        col_name -- str (that specifies the column) \n",
    "        \n",
    "        Return:\n",
    "        -- pd DataFrame (of the univariate ts data)\n",
    "        \"\"\"\n",
    "        univariate_ts_df = self.data.loc[:, [col_name]]\n",
    "        return univariate_ts_df\n",
    "    \n",
    "    def convert_uts_sequence_to_sml_with_pd(self, uts_observations: pd.DataFrame, prior_observations: int, forecasting_step: int):\n",
    "        \"\"\"Splits a given UTS into multiple input rows where each input row has a specified number of timestamps and the output is a single timestamp.\n",
    "\n",
    "        Parameters:\n",
    "        uts_observations -- pd DataFrame (of UTS data to transform to SML data with size  b rows/length x 1 dimension)\n",
    "        prior_observations -- py int (of all observations before we get to where we want to start making the predictions)\n",
    "        forecasting_step -- py int (of how far out to forecast, 1 only the next timestamp, 2 the next two timestamps, ... n the next n timestamps)\n",
    "\n",
    "        Return:\n",
    "        -- pd DataFrame (of the sml data)\n",
    "        \"\"\"\n",
    "        df = pd.DataFrame(uts_observations)\n",
    "        cols = list()\n",
    "\n",
    "        lag_col_names = []\n",
    "        count_lag = 0\n",
    "\n",
    "        # print(\"Input Univariate Time Series:\")\n",
    "        # print(uts_observations, \"\\nX of size\", np.shape(uts_observations))\n",
    "        # print()\n",
    "\n",
    "        # input sequence (t-n, ... t-1)\n",
    "        for prior_observation in range(prior_observations, 0, -1):\n",
    "            # print(\"prior_observation: \", prior_observation)\n",
    "            cols.append(df.shift(prior_observation))\n",
    "            new_col_name = \"t-\" + str(prior_observation)\n",
    "            # print(new_col_name)\n",
    "            lag_col_names.append(new_col_name)\n",
    "\n",
    "\n",
    "        # forecast sequence (t, t+1, ... t+n)\n",
    "        for i in range(0, forecasting_step):\n",
    "            cols.append(df.shift(-i))\n",
    "\n",
    "            new_col_name = \"t\" \n",
    "            if forecasting_step == 1:\n",
    "                # print(new_col_name)\n",
    "                lag_col_names.append(new_col_name)\n",
    "\n",
    "            else:\n",
    "                if i == 0:\n",
    "                    lag_col_names.append(new_col_name)\n",
    "                else:\n",
    "                    new_col_name = \"t+\" + str(i)\n",
    "                    # print(new_col_name)\n",
    "                    lag_col_names.append(new_col_name)\n",
    "\n",
    "            # put it all together\n",
    "            uts_sml_df = pd.concat(cols, axis=1) \n",
    "            uts_sml_df.columns=[lag_col_names]\n",
    "            \n",
    "            # drop rows with NaN values\n",
    "            uts_sml_df.dropna(inplace=True)\n",
    "        return uts_sml_df\n",
    "    \n",
    "    def train_test_split(self, uts_sml_df: pd.DataFrame):\n",
    "        \n",
    "        # print(uts_sml_df)\n",
    "        # print(\"Univariate Time Series as Supervised Machine Learning:\")\n",
    "        # colums to use to make prediction for last col\n",
    "\n",
    "        X_train = uts_sml_df.iloc[:, :prior_observations]\n",
    "        # print(\"X_train: \\n\", X_train)\n",
    "\n",
    "        # last column\n",
    "        y_train = uts_sml_df.iloc[:, -forecasting_step:]\n",
    "        # print(\"y_train: \\n\", y_train)\n",
    "        \n",
    "        # Make a prediction for this data\n",
    "        x_input = uts_sml_df.iloc[-1:, forecasting_step:]\n",
    "        \n",
    "        return X_train, y_train, x_input"
   ]
  },
  {
   "cell_type": "code",
   "execution_count": 3,
   "id": "cea87eb8-d6df-4ab5-bc05-0b9b212634d6",
   "metadata": {},
   "outputs": [
    {
     "name": "stdout",
     "output_type": "stream",
     "text": [
      "[*********************100%***********************]  1 of 1 completed\n"
     ]
    },
    {
     "data": {
      "text/html": [
       "<div>\n",
       "<style scoped>\n",
       "    .dataframe tbody tr th:only-of-type {\n",
       "        vertical-align: middle;\n",
       "    }\n",
       "\n",
       "    .dataframe tbody tr th {\n",
       "        vertical-align: top;\n",
       "    }\n",
       "\n",
       "    .dataframe thead th {\n",
       "        text-align: right;\n",
       "    }\n",
       "</style>\n",
       "<table border=\"1\" class=\"dataframe\">\n",
       "  <thead>\n",
       "    <tr style=\"text-align: right;\">\n",
       "      <th></th>\n",
       "      <th>Open</th>\n",
       "    </tr>\n",
       "    <tr>\n",
       "      <th>Date</th>\n",
       "      <th></th>\n",
       "    </tr>\n",
       "  </thead>\n",
       "  <tbody>\n",
       "    <tr>\n",
       "      <th>2022-01-03</th>\n",
       "      <td>437.929993</td>\n",
       "    </tr>\n",
       "    <tr>\n",
       "      <th>2022-01-04</th>\n",
       "      <td>440.579987</td>\n",
       "    </tr>\n",
       "    <tr>\n",
       "      <th>2022-01-05</th>\n",
       "      <td>438.779999</td>\n",
       "    </tr>\n",
       "    <tr>\n",
       "      <th>2022-01-06</th>\n",
       "      <td>430.200012</td>\n",
       "    </tr>\n",
       "    <tr>\n",
       "      <th>2022-01-07</th>\n",
       "      <td>430.209991</td>\n",
       "    </tr>\n",
       "    <tr>\n",
       "      <th>...</th>\n",
       "      <td>...</td>\n",
       "    </tr>\n",
       "    <tr>\n",
       "      <th>2023-06-12</th>\n",
       "      <td>395.980011</td>\n",
       "    </tr>\n",
       "    <tr>\n",
       "      <th>2023-06-13</th>\n",
       "      <td>400.019989</td>\n",
       "    </tr>\n",
       "    <tr>\n",
       "      <th>2023-06-14</th>\n",
       "      <td>401.609985</td>\n",
       "    </tr>\n",
       "    <tr>\n",
       "      <th>2023-06-15</th>\n",
       "      <td>401.000000</td>\n",
       "    </tr>\n",
       "    <tr>\n",
       "      <th>2023-06-16</th>\n",
       "      <td>408.690002</td>\n",
       "    </tr>\n",
       "  </tbody>\n",
       "</table>\n",
       "<p>366 rows × 1 columns</p>\n",
       "</div>"
      ],
      "text/plain": [
       "                  Open\n",
       "Date                  \n",
       "2022-01-03  437.929993\n",
       "2022-01-04  440.579987\n",
       "2022-01-05  438.779999\n",
       "2022-01-06  430.200012\n",
       "2022-01-07  430.209991\n",
       "...                ...\n",
       "2023-06-12  395.980011\n",
       "2023-06-13  400.019989\n",
       "2023-06-14  401.609985\n",
       "2023-06-15  401.000000\n",
       "2023-06-16  408.690002\n",
       "\n",
       "[366 rows x 1 columns]"
      ]
     },
     "execution_count": 3,
     "metadata": {},
     "output_type": "execute_result"
    }
   ],
   "source": [
    "# Set the start and end dates for the data\n",
    "symbol = \"VOO\"\n",
    "# symbol = \"BRK-A\"\n",
    "start_date = \"2022-01-01\"\n",
    "end_date = \"2023-06-25\"\n",
    "\n",
    "\n",
    "data_processor = YFinanceDataProcessor(symbol, start_date, end_date)\n",
    "# data_processor.data\n",
    "uts_observations = data_processor.filter_by_col(\"Open\")\n",
    "uts_observations"
   ]
  },
  {
   "cell_type": "code",
   "execution_count": 4,
   "id": "ab9d4f64-19cf-4a7d-881e-5e59ca3b0e18",
   "metadata": {},
   "outputs": [
    {
     "data": {
      "text/html": [
       "<div>\n",
       "<style scoped>\n",
       "    .dataframe tbody tr th:only-of-type {\n",
       "        vertical-align: middle;\n",
       "    }\n",
       "\n",
       "    .dataframe tbody tr th {\n",
       "        vertical-align: top;\n",
       "    }\n",
       "\n",
       "    .dataframe thead tr th {\n",
       "        text-align: left;\n",
       "    }\n",
       "\n",
       "    .dataframe thead tr:last-of-type th {\n",
       "        text-align: right;\n",
       "    }\n",
       "</style>\n",
       "<table border=\"1\" class=\"dataframe\">\n",
       "  <thead>\n",
       "    <tr>\n",
       "      <th></th>\n",
       "      <th>t-3</th>\n",
       "      <th>t-2</th>\n",
       "      <th>t-1</th>\n",
       "      <th>t</th>\n",
       "    </tr>\n",
       "    <tr>\n",
       "      <th>Date</th>\n",
       "      <th></th>\n",
       "      <th></th>\n",
       "      <th></th>\n",
       "      <th></th>\n",
       "    </tr>\n",
       "  </thead>\n",
       "  <tbody>\n",
       "    <tr>\n",
       "      <th>2022-01-06</th>\n",
       "      <td>437.929993</td>\n",
       "      <td>440.579987</td>\n",
       "      <td>438.779999</td>\n",
       "      <td>430.200012</td>\n",
       "    </tr>\n",
       "    <tr>\n",
       "      <th>2022-01-07</th>\n",
       "      <td>440.579987</td>\n",
       "      <td>438.779999</td>\n",
       "      <td>430.200012</td>\n",
       "      <td>430.209991</td>\n",
       "    </tr>\n",
       "    <tr>\n",
       "      <th>2022-01-10</th>\n",
       "      <td>438.779999</td>\n",
       "      <td>430.200012</td>\n",
       "      <td>430.209991</td>\n",
       "      <td>425.380005</td>\n",
       "    </tr>\n",
       "    <tr>\n",
       "      <th>2022-01-11</th>\n",
       "      <td>430.200012</td>\n",
       "      <td>430.209991</td>\n",
       "      <td>425.380005</td>\n",
       "      <td>427.679993</td>\n",
       "    </tr>\n",
       "    <tr>\n",
       "      <th>2022-01-12</th>\n",
       "      <td>430.209991</td>\n",
       "      <td>425.380005</td>\n",
       "      <td>427.679993</td>\n",
       "      <td>433.559998</td>\n",
       "    </tr>\n",
       "    <tr>\n",
       "      <th>...</th>\n",
       "      <td>...</td>\n",
       "      <td>...</td>\n",
       "      <td>...</td>\n",
       "      <td>...</td>\n",
       "    </tr>\n",
       "    <tr>\n",
       "      <th>2023-06-12</th>\n",
       "      <td>393.670013</td>\n",
       "      <td>391.959991</td>\n",
       "      <td>395.049988</td>\n",
       "      <td>395.980011</td>\n",
       "    </tr>\n",
       "    <tr>\n",
       "      <th>2023-06-13</th>\n",
       "      <td>391.959991</td>\n",
       "      <td>395.049988</td>\n",
       "      <td>395.980011</td>\n",
       "      <td>400.019989</td>\n",
       "    </tr>\n",
       "    <tr>\n",
       "      <th>2023-06-14</th>\n",
       "      <td>395.049988</td>\n",
       "      <td>395.980011</td>\n",
       "      <td>400.019989</td>\n",
       "      <td>401.609985</td>\n",
       "    </tr>\n",
       "    <tr>\n",
       "      <th>2023-06-15</th>\n",
       "      <td>395.980011</td>\n",
       "      <td>400.019989</td>\n",
       "      <td>401.609985</td>\n",
       "      <td>401.000000</td>\n",
       "    </tr>\n",
       "    <tr>\n",
       "      <th>2023-06-16</th>\n",
       "      <td>400.019989</td>\n",
       "      <td>401.609985</td>\n",
       "      <td>401.000000</td>\n",
       "      <td>408.690002</td>\n",
       "    </tr>\n",
       "  </tbody>\n",
       "</table>\n",
       "<p>363 rows × 4 columns</p>\n",
       "</div>"
      ],
      "text/plain": [
       "                   t-3         t-2         t-1           t\n",
       "Date                                                      \n",
       "2022-01-06  437.929993  440.579987  438.779999  430.200012\n",
       "2022-01-07  440.579987  438.779999  430.200012  430.209991\n",
       "2022-01-10  438.779999  430.200012  430.209991  425.380005\n",
       "2022-01-11  430.200012  430.209991  425.380005  427.679993\n",
       "2022-01-12  430.209991  425.380005  427.679993  433.559998\n",
       "...                ...         ...         ...         ...\n",
       "2023-06-12  393.670013  391.959991  395.049988  395.980011\n",
       "2023-06-13  391.959991  395.049988  395.980011  400.019989\n",
       "2023-06-14  395.049988  395.980011  400.019989  401.609985\n",
       "2023-06-15  395.980011  400.019989  401.609985  401.000000\n",
       "2023-06-16  400.019989  401.609985  401.000000  408.690002\n",
       "\n",
       "[363 rows x 4 columns]"
      ]
     },
     "execution_count": 4,
     "metadata": {},
     "output_type": "execute_result"
    }
   ],
   "source": [
    "prior_observations, forecasting_step = [3, 1]\n",
    "sml_data = data_processor.convert_uts_sequence_to_sml_with_pd(uts_observations, prior_observations, forecasting_step)\n",
    "sml_data"
   ]
  },
  {
   "cell_type": "code",
   "execution_count": 5,
   "id": "86dfec0b-db46-473b-9a89-f1d94aba7abc",
   "metadata": {},
   "outputs": [],
   "source": [
    "train_x, train_y, x_input = data_processor.train_test_split(sml_data)"
   ]
  },
  {
   "cell_type": "markdown",
   "id": "a88b718e-80ce-4c18-8fa8-07f0768b9f46",
   "metadata": {},
   "source": [
    "# Machine Learning Models"
   ]
  },
  {
   "cell_type": "code",
   "execution_count": 6,
   "id": "15084148-8971-4927-bee1-1d8f7af1260f",
   "metadata": {},
   "outputs": [],
   "source": [
    "@dataclass\n",
    "class Model(ABC):\n",
    "    \"\"\"This is a base class with an abstract-like implementation. Each specified model inherits from this base class.\n",
    "    \n",
    "    Methods decorated with @abstractmethod must be implemented; if not, the interpreter will throw\n",
    "    an error. Methods not decorated will be shared by all other classes that inherit from Model.\n",
    "    \"\"\"\n",
    "    \n",
    "    @abstractmethod\n",
    "    def __name__(self):\n",
    "        pass\n",
    "    \n",
    "    @abstractmethod\n",
    "    def define_model_with_layers(self):\n",
    "        pass\n",
    "    \n",
    "    @abstractmethod\n",
    "    def fit_model(self):\n",
    "        pass\n",
    "    \n",
    "    @abstractmethod\n",
    "    def predict(self):\n",
    "        pass\n",
    "    \n",
    "    def augment_data(self):\n",
    "        pass\n",
    "    \n",
    "    \n",
    "    "
   ]
  },
  {
   "cell_type": "code",
   "execution_count": 7,
   "id": "2944b391-ce3e-47de-afa1-2a72ddf3f6d3",
   "metadata": {},
   "outputs": [],
   "source": [
    "class MLP(Model):\n",
    "    \n",
    "    \n",
    "    def __name__(self):\n",
    "        return \"MLP\"\n",
    "    \n",
    "    def define_model_with_layers(self, prior_observations, forecasting_step):\n",
    "        model = Sequential()\n",
    "        \n",
    "        layer_1 = Dense(100, activation='relu', input_dim=prior_observations, name=\"1-input_layer\")\n",
    "        model.add(layer_1)\n",
    "        layer_1_weights = layer_1.get_weights()\n",
    "\n",
    "        layer_2 = Dense(forecasting_step, name=\"2-forecasting_layer\")\n",
    "        model.add(layer_2)\n",
    "        fs_ws = layer_2.get_weights()\n",
    "        \n",
    "        model.compile(optimizer='adam', loss='mse')\n",
    "        return model, model.summary()\n",
    "    \n",
    "    def fit_model(self, model_to_fit, X_train, y_train):\n",
    "        \n",
    "        model_to_fit.fit(X_train, y_train, epochs=2000, verbose=0)\n",
    "        \n",
    "        return model_to_fit\n",
    "    \n",
    "    def predict(self, fitted_model, x_input):\n",
    "        yhat = fitted_model.predict(x_input)\n",
    "        return yhat[0]"
   ]
  },
  {
   "cell_type": "code",
   "execution_count": 8,
   "id": "4a78fc99-0d15-4c82-a82b-df03a2da5eca",
   "metadata": {},
   "outputs": [
    {
     "name": "stdout",
     "output_type": "stream",
     "text": [
      "Model: \"sequential\"\n",
      "_________________________________________________________________\n",
      " Layer (type)                Output Shape              Param #   \n",
      "=================================================================\n",
      " 1-input_layer (Dense)       (None, 100)               400       \n",
      "                                                                 \n",
      " 2-forecasting_layer (Dense)  (None, 1)                101       \n",
      "                                                                 \n",
      "=================================================================\n",
      "Total params: 501\n",
      "Trainable params: 501\n",
      "Non-trainable params: 0\n",
      "_________________________________________________________________\n"
     ]
    },
    {
     "name": "stderr",
     "output_type": "stream",
     "text": [
      "2023-06-16 22:15:45.708656: I tensorflow/core/platform/cpu_feature_guard.cc:193] This TensorFlow binary is optimized with oneAPI Deep Neural Network Library (oneDNN) to use the following CPU instructions in performance-critical operations:  SSE4.1 SSE4.2 AVX AVX2 FMA\n",
      "To enable them in other operations, rebuild TensorFlow with the appropriate compiler flags.\n"
     ]
    },
    {
     "data": {
      "text/plain": [
       "(<keras.engine.sequential.Sequential at 0x145489eb0>, None)"
      ]
     },
     "execution_count": 8,
     "metadata": {},
     "output_type": "execute_result"
    }
   ],
   "source": [
    "mlp_model = MLP()\n",
    "model, model_defined = mlp_model.define_model_with_layers(prior_observations, forecasting_step)\n",
    "model, model_defined"
   ]
  },
  {
   "cell_type": "code",
   "execution_count": 9,
   "id": "8754b6f9-1f1d-47b3-9c2d-4a01b31c6603",
   "metadata": {},
   "outputs": [],
   "source": [
    "model_fitted = mlp_model.fit_model(model, train_x, train_y)"
   ]
  },
  {
   "cell_type": "code",
   "execution_count": 10,
   "id": "213710b5-4c2a-489e-bd24-fdbbb9cbe7c3",
   "metadata": {},
   "outputs": [
    {
     "data": {
      "text/plain": [
       "<keras.engine.sequential.Sequential at 0x145489eb0>"
      ]
     },
     "execution_count": 10,
     "metadata": {},
     "output_type": "execute_result"
    }
   ],
   "source": [
    "model_fitted"
   ]
  },
  {
   "cell_type": "code",
   "execution_count": 11,
   "id": "d96610d5-1990-41ae-95b3-b4994bce6fe7",
   "metadata": {},
   "outputs": [
    {
     "name": "stdout",
     "output_type": "stream",
     "text": [
      "1/1 [==============================] - 0s 55ms/step\n"
     ]
    }
   ],
   "source": [
    "model_prediction = mlp_model.predict(model_fitted, x_input)"
   ]
  },
  {
   "cell_type": "code",
   "execution_count": 12,
   "id": "c1a22d30-f04c-4e85-831a-cce456b0bb23",
   "metadata": {},
   "outputs": [
    {
     "data": {
      "text/plain": [
       "array([406.0638], dtype=float32)"
      ]
     },
     "execution_count": 12,
     "metadata": {},
     "output_type": "execute_result"
    }
   ],
   "source": [
    "model_prediction"
   ]
  },
  {
   "cell_type": "code",
   "execution_count": 13,
   "id": "db3c2564-1b2c-40cf-adb7-48d8af384418",
   "metadata": {},
   "outputs": [
    {
     "data": {
      "text/plain": [
       "12.523812255859355"
      ]
     },
     "execution_count": 13,
     "metadata": {},
     "output_type": "execute_result"
    }
   ],
   "source": [
    "ytrue = [393.54]\n",
    "\n",
    "mse = math.sqrt(mean_squared_error(ytrue, model_prediction))\n",
    "mse"
   ]
  },
  {
   "cell_type": "code",
   "execution_count": null,
   "id": "e4e38119-1d26-42c5-96e8-aa9f29849cee",
   "metadata": {},
   "outputs": [],
   "source": []
  }
 ],
 "metadata": {
  "kernelspec": {
   "display_name": "Python 3 (ipykernel)",
   "language": "python",
   "name": "python3"
  },
  "language_info": {
   "codemirror_mode": {
    "name": "ipython",
    "version": 3
   },
   "file_extension": ".py",
   "mimetype": "text/x-python",
   "name": "python",
   "nbconvert_exporter": "python",
   "pygments_lexer": "ipython3",
   "version": "3.9.16"
  }
 },
 "nbformat": 4,
 "nbformat_minor": 5
}
