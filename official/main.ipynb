{
 "cells": [
  {
   "cell_type": "markdown",
   "id": "204ed677-57bf-45f3-88a8-a16b068b2eed",
   "metadata": {},
   "source": [
    "# A Simple System Design for Forecasting Time Series Stock Data"
   ]
  },
  {
   "cell_type": "markdown",
   "id": "acf0e6dc-a457-4241-8f51-c0a14e357c9f",
   "metadata": {},
   "source": [
    "# Imports"
   ]
  },
  {
   "cell_type": "code",
   "execution_count": 68,
   "id": "5d3af871-d4fe-4bc2-98e7-5eee7bbd6f70",
   "metadata": {},
   "outputs": [],
   "source": [
    "import numpy as np\n",
    "import pandas as pd\n",
    "import yfinance as yf\n",
    "\n",
    "from typing import List\n",
    "from dataclasses import dataclass"
   ]
  },
  {
   "cell_type": "markdown",
   "id": "b5d3ab69-0763-48e7-8a7e-4bd1c72c8a91",
   "metadata": {},
   "source": [
    "# Data Processor - Load the stock data\n",
    "\n",
    "- Retrieve the stock data with `data = yf.download(symbol, start=\"YYYY-MM-DD\", end=\"YYYY-MM-DD\")`\n",
    "- Specific what column we're seeking to explore"
   ]
  },
  {
   "cell_type": "code",
   "execution_count": 70,
   "id": "12013e23-aec2-410b-9862-df4eec48e15f",
   "metadata": {},
   "outputs": [],
   "source": [
    "@dataclass\n",
    "class YFinanceDataProcessor:\n",
    "    \"\"\"Handles fetching and returning data. \"\"\"\n",
    "    ticker_symbol: str\n",
    "    start_date: str\n",
    "    end_date: str\n",
    "    \n",
    "    def __post_init__(self):\n",
    "        \"\"\"Operations that are performed after the initialization step.\"\"\"\n",
    "        self.data = yf.download(self.ticker_symbol, start=self.start_date, end=self.end_date)\n",
    "    \n",
    "    def filter_by_col(self, col_name):\n",
    "        \"\"\"Returns a filtered dataframe with all the rows.\"\"\"\n",
    "        univariate_ts_df = self.data.loc[:, [col_name]]\n",
    "        return univariate_ts_df"
   ]
  },
  {
   "cell_type": "code",
   "execution_count": 67,
   "id": "cea87eb8-d6df-4ab5-bc05-0b9b212634d6",
   "metadata": {},
   "outputs": [
    {
     "name": "stdout",
     "output_type": "stream",
     "text": [
      "[*********************100%***********************]  1 of 1 completed\n"
     ]
    },
    {
     "data": {
      "text/html": [
       "<div>\n",
       "<style scoped>\n",
       "    .dataframe tbody tr th:only-of-type {\n",
       "        vertical-align: middle;\n",
       "    }\n",
       "\n",
       "    .dataframe tbody tr th {\n",
       "        vertical-align: top;\n",
       "    }\n",
       "\n",
       "    .dataframe thead th {\n",
       "        text-align: right;\n",
       "    }\n",
       "</style>\n",
       "<table border=\"1\" class=\"dataframe\">\n",
       "  <thead>\n",
       "    <tr style=\"text-align: right;\">\n",
       "      <th></th>\n",
       "      <th>Open</th>\n",
       "    </tr>\n",
       "    <tr>\n",
       "      <th>Date</th>\n",
       "      <th></th>\n",
       "    </tr>\n",
       "  </thead>\n",
       "  <tbody>\n",
       "    <tr>\n",
       "      <th>2022-01-03</th>\n",
       "      <td>452005.0</td>\n",
       "    </tr>\n",
       "    <tr>\n",
       "      <th>2022-01-04</th>\n",
       "      <td>458675.0</td>\n",
       "    </tr>\n",
       "    <tr>\n",
       "      <th>2022-01-05</th>\n",
       "      <td>468500.0</td>\n",
       "    </tr>\n",
       "    <tr>\n",
       "      <th>2022-01-06</th>\n",
       "      <td>470900.0</td>\n",
       "    </tr>\n",
       "    <tr>\n",
       "      <th>2022-01-07</th>\n",
       "      <td>474696.0</td>\n",
       "    </tr>\n",
       "    <tr>\n",
       "      <th>...</th>\n",
       "      <td>...</td>\n",
       "    </tr>\n",
       "    <tr>\n",
       "      <th>2023-06-12</th>\n",
       "      <td>511725.0</td>\n",
       "    </tr>\n",
       "    <tr>\n",
       "      <th>2023-06-13</th>\n",
       "      <td>507627.0</td>\n",
       "    </tr>\n",
       "    <tr>\n",
       "      <th>2023-06-14</th>\n",
       "      <td>519500.0</td>\n",
       "    </tr>\n",
       "    <tr>\n",
       "      <th>2023-06-15</th>\n",
       "      <td>514770.0</td>\n",
       "    </tr>\n",
       "    <tr>\n",
       "      <th>2023-06-16</th>\n",
       "      <td>522000.0</td>\n",
       "    </tr>\n",
       "  </tbody>\n",
       "</table>\n",
       "<p>366 rows × 1 columns</p>\n",
       "</div>"
      ],
      "text/plain": [
       "                Open\n",
       "Date                \n",
       "2022-01-03  452005.0\n",
       "2022-01-04  458675.0\n",
       "2022-01-05  468500.0\n",
       "2022-01-06  470900.0\n",
       "2022-01-07  474696.0\n",
       "...              ...\n",
       "2023-06-12  511725.0\n",
       "2023-06-13  507627.0\n",
       "2023-06-14  519500.0\n",
       "2023-06-15  514770.0\n",
       "2023-06-16  522000.0\n",
       "\n",
       "[366 rows x 1 columns]"
      ]
     },
     "execution_count": 67,
     "metadata": {},
     "output_type": "execute_result"
    }
   ],
   "source": [
    "# Set the start and end dates for the data\n",
    "# symbol = \"VOO\"\n",
    "symbol = \"BRK-A\"\n",
    "start_date = \"2022-01-01\"\n",
    "end_date = \"2023-06-25\"\n",
    "\n",
    "\n",
    "data_processor = YFinanceDataProcessor(symbol, start_date, end_date)\n",
    "# data_processor.data\n",
    "data = data_processor.filter_by_col(\"Open\")\n",
    "data"
   ]
  },
  {
   "cell_type": "code",
   "execution_count": null,
   "id": "149d73ce-1e3f-40ee-9e58-6a5609157ebf",
   "metadata": {},
   "outputs": [],
   "source": []
  }
 ],
 "metadata": {
  "kernelspec": {
   "display_name": "Python 3 (ipykernel)",
   "language": "python",
   "name": "python3"
  },
  "language_info": {
   "codemirror_mode": {
    "name": "ipython",
    "version": 3
   },
   "file_extension": ".py",
   "mimetype": "text/x-python",
   "name": "python",
   "nbconvert_exporter": "python",
   "pygments_lexer": "ipython3",
   "version": "3.9.16"
  }
 },
 "nbformat": 4,
 "nbformat_minor": 5
}
