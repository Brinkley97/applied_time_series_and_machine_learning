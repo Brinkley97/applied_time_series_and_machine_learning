{
 "cells": [
  {
   "cell_type": "markdown",
   "id": "bac7e717",
   "metadata": {},
   "source": [
    "# Table of Contents\n",
    "\n",
    "---\n",
    "\n",
    "## 1. What is time series analysis (TSA)\n",
    "\n",
    "## 2. The importance of TSA\n",
    "\n",
    "## 3. Applications of TSA\n",
    "\n",
    "   1. Simple models/graphs are [here](https://github.com/Brinkley97/time_series_analysis_basics/blob/main/applicationsOfTsaWithExs.ipynb)\n",
    "   2. Complex models/graphs [here](https://github.com/Brinkley97/time_series_analysis_basics/blob/main/applicationsOfTsaWithExs.ipynb)\n",
    "   3. Other concepts similar to TSA or within\n",
    "   \n",
    "## 4. Evolution of TSA\n",
    "\n",
    "## 5. My prediction of the future of TSA\n",
    "\n",
    "## 6. What I don't understand about TSA\n",
    "\n",
    "   1. What's the root of this miss understanding?\n",
    "   2. What do I need to know to negate this misunderstanding?\n",
    "   \n",
    "## 7. Sources\n",
    "\n",
    "## 8. Further Explore\n",
    "\n",
    "---\n",
    "\n",
    "Key Words (Not all are used here) : \n",
    "1. TSA = Time Series Analysis\n",
    "2. SA = Spectral Analysis\n",
    "3. Detrend\n",
    "4. Standardization\n",
    "5. Outliers"
   ]
  },
  {
   "cell_type": "markdown",
   "id": "c7198ed8",
   "metadata": {},
   "source": [
    "---\n",
    "\n",
    "## 1. What is TSA\n",
    "\n",
    "1. Set of numerical measurements of the same entity taken at equally spaced intervals over time [7a]\n",
    "2. Sequence of measurements (data points) that follow a successiver order and taken over regular time intervals [7b]\n",
    "3. Calls on the mathematical fields of \n",
    "    1. Statistics : Ideas such as variance, correlation, and probability distributions [7d | P x/12, 7e | P 1/16]\n",
    "    2. Machine learning : Clustering and decision trees [7d | P x/12]\n",
    "    3. Neural networks : What they are and how they are trained [7d | P x/12]\n",
    "4. In theoretical lit, a time series is just an observed or measured realization of a stochastic process [7e | P 1/16]"
   ]
  },
  {
   "cell_type": "markdown",
   "id": "1838c297",
   "metadata": {},
   "source": [
    "---\n",
    "\n",
    "## 2. The importance of TSA\n",
    "\n",
    "- Motivation(s)\n",
    "- Why is TSA valuable\n",
    "\n",
    "---\n",
    "\n",
    "1. To make informed predictions of future values\n",
    "2. Provides more insight to real life conditions\n",
    "3. Mathematical methods (ie : quantitative analysis, statistical methods) to identify trends, patterns, correlations with in sequential data to ultimately generate signals or filters based on inference or prediction [7c]\n",
    "4. Characterization of time series [7e | P 2/17]\n",
    "5. Understanding and modeling the data generating system [7e | P 2/17]\n",
    "6. Forecasting of future values [7e | P 2/17]\n",
    "7. Optimal control of a system [7e | P 2/17]\n"
   ]
  },
  {
   "cell_type": "markdown",
   "id": "5209d59e",
   "metadata": {},
   "source": [
    "---\n",
    "\n",
    "## 3. Applications of TSA\n",
    "\n",
    "* See figures [here](https://github.com/Brinkley97/time_series_analysis_basics/blob/main/applicationsOfTsaWithExs.ipynb)\n",
    "\n",
    "--- \n",
    "\n",
    "1. Financial/Economics [7a, 7b, 7c, 7e | P 2/17]\n",
    "    - ie : annual profit for a company [7a]\n",
    "    - ie : dollar to euro exchange rate [7e | P2/17]\n",
    "2. Weather forecasting/Geosciences/Environmental sciences [7a, 7b, 7c]\n",
    "    - ie : avg monthly temperature [7a]\n",
    "3. Sale forecasting [7a, 7b]\n",
    "    - ie : quarterly house sales [7a]\n",
    "4. Gas/Fuel [7a, 7b]\n",
    "    - ie : daily petrol price at pump [7a]\n",
    "5. Electricity [7a]\n",
    "    - ie : hourly usage/consumption in a house [7a]\n",
    "6. Health [7c]\n",
    "    - ie : daily #steps, weekly heart rate, monthly sleeping pattern \n",
    "7. Natural language processing [7b]\n",
    "8. Signal forecasting [7b]\n",
    "9. Social sciences [7c]\n",
    "10. Dataset for ML [8d]\n",
    "\n",
    "--- \n",
    "\n",
    "1. Other concepts similar to TSA or within\n",
    "    - SA"
   ]
  },
  {
   "cell_type": "markdown",
   "id": "7a7d9f9d",
   "metadata": {},
   "source": [
    "---\n",
    "\n",
    "## 4. Evolution of TSA\n",
    "\n",
    "- See [7d | P 1/19 - 15/33]"
   ]
  },
  {
   "cell_type": "markdown",
   "id": "146a0931",
   "metadata": {},
   "source": [
    "---\n",
    "\n",
    "## 5. My prediction of the future of TSA"
   ]
  },
  {
   "cell_type": "markdown",
   "id": "e475d9a2",
   "metadata": {},
   "source": [
    "---\n",
    "\n",
    "## 6. What I don't understand about TSA & Questions\n",
    "\n",
    "- What's the root of this miss understanding?\n",
    "- What do I need to know to negate this misunderstanding?\n",
    "\n",
    "---\n",
    "\n",
    "1. How does TSA differ from other ML/Statistical techniques\n",
    "2. How can TSA be applied in health?\n",
    "3. Could data/trends/model inputs be sleep/wake cycle? Fitness activity?\n",
    "4. What is SA in TSA? [8a]"
   ]
  },
  {
   "cell_type": "markdown",
   "id": "919675a5",
   "metadata": {},
   "source": [
    "---\n",
    "\n",
    "## 7. Sources\n",
    "a. YT video : [Introducing Time Series Analysis and forecasting](https://youtu.be/GUq_tO2BjaU) by Dr Nic's Maths and Stats\n",
    "\n",
    "b. Slide Deck : [Time Series Analysis : Theory and Practice](https://www.slideshare.net/TetianaIvanova2/time-series-analysis-theory-and-practice) by Tetiana Ivanova\n",
    "\n",
    "c. Paper : [Automating Time Series Analysis For The Paleogeosciences](https://kdd-milets.github.io/milets2020/papers/MiLeTS2020_paper_15.pdf) by Deborah Khider, Yolanda Gil, etc\n",
    "\n",
    "d. Book : [Practical Time Series Analysis](https://www.oreilly.com/library/view/practical-time-series/9781492041641/ch01.html#:~:text=One%20of%20the%20pioneers%20of,how%20and%20when%20to%20trade.) by Aileen Nielsen\n",
    "\n",
    "e. Book : TSA by Henrik Madsen"
   ]
  },
  {
   "cell_type": "markdown",
   "id": "e0a5ed92",
   "metadata": {},
   "source": [
    "---\n",
    "\n",
    "## 8. Futher Explore\n",
    "\n",
    "a. Article : [TSA and SA](http://web.stanford.edu/class/earthsys214/notes/series.html) by James Holland Jones\n",
    "\n",
    "b. Article : [SA](https://bookdown.org/rdpeng/timeseriesbook/spectral-analysis.html) by Roger D. Peng\n",
    "\n",
    "c. Article : [Goals of TSA](https://bookdown.org/rdpeng/timeseriesbook/spectral-analysis.html) by Roger D. Peng\n",
    "\n",
    "d. Article : [7 TS Datasets for ML](https://machinelearningmastery.com/time-series-datasets-for-machine-learning/) by Jason Brownlee"
   ]
  },
  {
   "cell_type": "code",
   "execution_count": null,
   "id": "befcec31",
   "metadata": {},
   "outputs": [],
   "source": []
  }
 ],
 "metadata": {
  "kernelspec": {
   "display_name": "Python 3",
   "language": "python",
   "name": "python3"
  },
  "language_info": {
   "codemirror_mode": {
    "name": "ipython",
    "version": 3
   },
   "file_extension": ".py",
   "mimetype": "text/x-python",
   "name": "python",
   "nbconvert_exporter": "python",
   "pygments_lexer": "ipython3",
   "version": "3.7.5"
  }
 },
 "nbformat": 4,
 "nbformat_minor": 5
}
