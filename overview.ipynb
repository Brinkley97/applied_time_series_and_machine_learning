{
 "cells": [
  {
   "cell_type": "markdown",
   "id": "bac7e717",
   "metadata": {
    "jupyter": {
     "source_hidden": true
    },
    "tags": []
   },
   "source": [
    "# Table of Contents\n",
    "\n",
    "---\n",
    "## 1. What is time series analysis (TSA)\n",
    "\n",
    "## 2. The importance of TSA\n",
    "\n",
    "## 3. Applications of TSA\n",
    "\n",
    "   1. Simple models/graphs are [here](https://github.com/Brinkley97/time_series_analysis_basics/blob/main/applicationsOfTsaWithExs.ipynb)\n",
    "   2. Complex models/graphs [here](https://github.com/Brinkley97/time_series_analysis_basics/blob/main/applicationsOfTsaWithExs.ipynb)\n",
    "   3. Other concepts similar to TSA or within\n",
    "   \n",
    "## 4. Evolution of TSA\n",
    "\n",
    "## 5. My prediction of the future of TSA\n",
    "\n",
    "## 6. What I don't understand about TSA\n",
    "\n",
    "   1. What's the root of this miss understanding?\n",
    "   2. What do I need to know to negate this misunderstanding?\n",
    "   \n",
    "## 7. Sources\n",
    "\n",
    "## 8. Further Explore\n",
    "\n",
    "---\n",
    "\n",
    "Key Words (Not all are used here) : \n",
    "1. TSA = Time Series Analysis\n",
    "2. SA = Spectral Analysis\n",
    "3. TSF = Time Series Forecasting\n",
    "\n",
    "---"
   ]
  },
  {
   "cell_type": "markdown",
   "id": "ad134fb2-3ef6-4b35-9ae6-54050481196e",
   "metadata": {
    "jupyter": {
     "source_hidden": true
    },
    "tags": []
   },
   "source": [
    "---"
   ]
  },
  {
   "cell_type": "markdown",
   "id": "c7198ed8",
   "metadata": {
    "tags": []
   },
   "source": [
    "---\n",
    "\n",
    "## 1. What is TSA\n",
    "\n",
    "---\n",
    "\n",
    "1. TSA is a set of numerical **measurements** of the same entity taken at equally spaced intervals over time [7a]\n",
    "\n",
    "2. TSA is a sequence of **measurements** (data points) that follow a successiver order and taken over regular time intervals [7b]\n",
    "\n",
    "3. Calls on the mathematical fields of \n",
    "    1. Statistics : Ideas such as variance, correlation, and probability distributions [7d | P x/12, 7e | P 1/16]\n",
    "    2. Machine learning : Clustering and decision trees [7d | P x/12]\n",
    "    3. Neural networks : What they are and how they are trained [7d | P x/12]\n",
    "\n",
    "4. In theoretical lit, a TS is just an observed or measured realization of a stochastic process [7e | P 1/16]\n",
    "\n",
    "5. TSA is the endeavor of extracting meaningful summary and statistical information from points arranged in chronological order [7d | P 1/19]\n",
    "\n",
    "6. Objective is to decompose a TS into its consitutent characteristics and develop mathematical models for each w/ models then used to understand what causes the observed behavior of the TS and to predict the series for future points in time [7f | P 21/33]\n",
    "\n",
    "7. TS is a sequence of observations recorded at regular time intervals [7g]\n",
    "\n",
    "8. TSA involves understanding various aspects about the inherent nature of the series so that you are better informed to create meaningful and accurate forecasts [7g] \n",
    "\n",
    "9. **To me, think as :** \n",
    "    1. TS data is a set or collection of observations over some timeframe\n",
    "        - See mathemtical notation below\n",
    "    2. TSA is a branch of statistics that deals w/ the extraction of characteristics from observations in TS data\n",
    "    3. TSF is taking & utilizing the charateristics from the analysis (TSA) to make future predictions\n"
   ]
  },
  {
   "cell_type": "markdown",
   "id": "7ec7a27a-475a-4f32-bf2a-45dee258298b",
   "metadata": {},
   "source": [
    "### 1.1 Notation : \n",
    "\n",
    "- N, total #observations\n",
    "- z, an observation\n",
    "- t, time\n",
    "- z${_t}$, an observation at some time t\n",
    "- z${_t}{_\\#}$, an obseration at a specific time t\n",
    "- Z, a collection of TS observations\n",
    "\n",
    "### 1.2 Formula(s) : \n",
    "\n",
    "1. General : \n",
    "\n",
    "    - Z = [z${_t}$] = [z${_t}$${_1}$, z${_t}$${_2}$, ..., z${_t}$${_N}$] = [z${_t}$] = [z${_1}$, z${_2}$, ..., z${_N}$] \n",
    "    \n",
    "2. [Of the patterns/components/characteristics](https://github.com/Brinkley97/time_series_analysis_basics/blob/main/dataCharacteristics.ipynb) [7f | P 21/33]\n",
    "    \n",
    "    - General trend (f$_t$)\n",
    "    - Seasonality (s$_t$)\n",
    "    - Cyclical movements (c$_t$)\n",
    "    - Unexpected variations (e$_t$)\n",
    "    \n",
    "    - x$_t$ = f$_t$ + s$_t$ + c$_t$ + e$_t$, where we have a summation of the characteristics, t = 1, 2, ..., N successive and equally spaced points in time\n",
    "\n",
    "\n",
    "---"
   ]
  },
  {
   "cell_type": "markdown",
   "id": "1838c297",
   "metadata": {
    "tags": []
   },
   "source": [
    "---\n",
    "\n",
    "## 2. The importance of TSA\n",
    "\n",
    "- Motivation(s)\n",
    "- Why is TSA valuable\n",
    "\n",
    "---\n",
    "\n",
    "1. To make informed predictions of future values\n",
    "2. Provides more insight to real life conditions\n",
    "3. Mathematical methods (ie : quantitative analysis, statistical methods) to identify trends, patterns, correlations with in sequential data to ultimately generate signals or filters based on inference or prediction [7c]\n",
    "4. Characterization of time series [7e | P 2/17]\n",
    "5. Understanding and modeling the data generating system [7e | P 2/17]\n",
    "6. Forecasting of future values [7e | P 2/17]\n",
    "7. Optimal control of a system [7e | P 2/17]\n",
    "8. To diagnose past behavior as well as predict future behavior [7d | P 1/19]\n",
    "9. It's the preparatory step before you develop a forecast of the series [7g]\n",
    "---"
   ]
  },
  {
   "cell_type": "markdown",
   "id": "5209d59e",
   "metadata": {
    "tags": []
   },
   "source": [
    "---\n",
    "\n",
    "## 3. Applications of TSA\n",
    "\n",
    "* See figures [here](https://github.com/Brinkley97/time_series_analysis_basics/blob/main/applicationsOfTsaWithExs.ipynb)\n",
    "\n",
    "--- \n",
    "\n",
    "1. Financial/Economics [7a, 7b, 7c, 7e | P 2/17]\n",
    "    - ie : annual profit for a company [7a]\n",
    "    - ie : dollar to euro exchange rate [7e | P2/17]\n",
    "2. Weather forecasting/Geosciences/Environmental sciences [7a, 7b, 7c]\n",
    "    - ie : avg monthly temperature [7a]\n",
    "3. Sale forecasting [7a, 7b]\n",
    "    - ie : quarterly house sales [7a]\n",
    "4. Gas/Fuel [7a, 7b]\n",
    "    - ie : daily petrol price at pump [7a]\n",
    "5. Electricity [7a]\n",
    "    - ie : hourly usage/consumption in a house [7a]\n",
    "6. Health [7c]\n",
    "    - ie : daily #steps, weekly heart rate, monthly sleeping pattern \n",
    "7. Natural language processing [7b]\n",
    "8. Signal forecasting [7b]\n",
    "9. Social sciences [7c]\n",
    "10. Dataset for ML [8d]\n",
    "\n",
    "--- \n",
    "\n",
    "1. Other concepts similar to TSA or within\n",
    "    - SA\n",
    "    \n",
    "---"
   ]
  },
  {
   "cell_type": "markdown",
   "id": "7a7d9f9d",
   "metadata": {
    "tags": []
   },
   "source": [
    "---\n",
    "\n",
    "## 4. Evolution of TSA\n",
    "\n",
    "---\n",
    "- [7d | P 1/19 - 15/33]\n",
    "    - Comes to the question of causality: how did the past influence the future? [P 2/20]\n",
    "    - A variety of disciplines have contributed novel ways of thinking about TS data sets. \n",
    "        - Different fields contribute in different ways\n",
    "    - Medicine as a TS Problem\n",
    "        - Slow start to thinking about the math of predicting the future\n",
    "        - Stats and a probabilistic way of thinking disciplines were not available for many centuries\n",
    "        - Most doctors practiced in isolation\n",
    "            - without easy professional communication\n",
    "            - without a formal recordkeeping infrastructure for patient or population health\n",
    "        - John Graunt, a 17th-century London haberdasher\n",
    "            - He undertook a study of the death records that had been kept in London parishes since the early 1500s\n",
    "            - **He originated the discipline of demography**\n",
    "            - In 1662, he published *Natural and Political Observations . . . Made upon the Bills of Mortality* : actuarial tables were one of the first results of time-series- style thinking applied to medical questions\n",
    "                - Actuarial tables : show the the probability that a person of a given age will die before their next birthday\n",
    "                - First person known to have formulated and published life tables\n",
    "                - **First documented statistician of human health**\n",
    "        - Anatomy and physiology > stats\n",
    "        - Little reporting infrastructure in place for physicians to tabulate and share info on the scale that would make statistical methods superior to clinical observations\n",
    "        - Records must be linked together over time, and preferably collected at regular intervals\n",
    "            - $ \\therefore $ Epidemiological practice only emerged very recently and incrementally, once sufficient governmental and scientific infrastructure was in place to ensure reasonably good and lengthy temporal records\n",
    "                - W.E.B. Du Bois as a Founding Father of Social Epidemiology [8e]\n",
    "        - ***Individualized healthcare using TSA remains young***\n"
   ]
  },
  {
   "cell_type": "markdown",
   "id": "146a0931",
   "metadata": {
    "jupyter": {
     "source_hidden": true
    },
    "tags": []
   },
   "source": [
    "---\n",
    "\n",
    "## 5. My prediction of the future of TSA\n",
    "\n",
    "1. Will be more so heavily used with ML/DL models\n",
    "\n",
    "---"
   ]
  },
  {
   "cell_type": "markdown",
   "id": "e475d9a2",
   "metadata": {
    "tags": []
   },
   "source": [
    "---\n",
    "\n",
    "## 6. What I don't understand about TSA & Questions\n",
    "\n",
    "- What's the root of this miss understanding?\n",
    "- What do I need to know to negate this misunderstanding?\n",
    "\n",
    "---\n",
    "\n",
    "1. How does TSA differ from other ML/Statistical techniques such as hidden markov models?\n",
    "2. How can TSA be applied in health?\n",
    "3. Could data/trends/model inputs be sleep/wake cycle? Fitness activity?\n",
    "4. What is SA in TSA? [8a]\n",
    "5. TS data vs Cross-sectional data vs Panel data [7f | P 8/ - 21/33]\n",
    "---"
   ]
  },
  {
   "cell_type": "markdown",
   "id": "919675a5",
   "metadata": {},
   "source": [
    "---\n",
    "\n",
    "## 7. Sources\n",
    "a. YT video : [Introducing TSA and forecasting](https://youtu.be/GUq_tO2BjaU) by Dr Nic's Maths and Stats\n",
    "\n",
    "b. Slide Deck : [TSA : Theory and Practice](https://www.slideshare.net/TetianaIvanova2/time-series-analysis-theory-and-practice) by Tetiana Ivanova\n",
    "\n",
    "c. Paper : [Automating TSA For The Paleogeosciences](https://kdd-milets.github.io/milets2020/papers/MiLeTS2020_paper_15.pdf) by Deborah Khider, Yolanda Gil, etc\n",
    "\n",
    "d. Book : [Practical TSA](https://www.oreilly.com/library/view/practical-time-series/9781492041641/ch01.html#:~:text=One%20of%20the%20pioneers%20of,how%20and%20when%20to%20trade.) by Aileen Nielsen\n",
    "\n",
    "e. Book : [TSA](http://henrikmadsen.org/books/time-series-analysis/) by Henrik Madsen\n",
    "\n",
    "f. Book : [Practical TSA](https://www.packtpub.com/product/practical-time-series-analysis/9781788290227) by Dr. Avishek Pal, Dr. PKS Prakash\n",
    "\n",
    "g. Website : [Time Series Analysis in Python – A Comprehensive Guide with Examples](https://www.machinelearningplus.com/time-series/time-series-analysis-python/) by Selva Prabhakaran\n",
    "\n",
    "---"
   ]
  },
  {
   "cell_type": "markdown",
   "id": "e0a5ed92",
   "metadata": {},
   "source": [
    "---\n",
    "\n",
    "## 8. Futher Explore\n",
    "\n",
    "a. Article : [TSA and SA](http://web.stanford.edu/class/earthsys214/notes/series.html) by James Holland Jones\n",
    "\n",
    "b. Article : [SA](https://bookdown.org/rdpeng/timeseriesbook/spectral-analysis.html) by Roger D. Peng\n",
    "\n",
    "c. Article : [Goals of TSA](https://bookdown.org/rdpeng/timeseriesbook/spectral-analysis.html) by Roger D. Peng\n",
    "\n",
    "d. Article : [7 TS Datasets for ML](https://machinelearningmastery.com/time-series-datasets-for-machine-learning/) by Jason Brownlee\n",
    "\n",
    "e. Paper : [After 121 Years, It’s Time to Recognize W.E.B. Du Bois as a Founding Father of Social Epidemiology](https://www.jstor.org/stable/10.7709/jnegroeducation.87.3.0230#metadata_info_tab_contents)\n",
    "    - In relation to historical perspectie of TSA\n",
    "    \n",
    "f. Paper : [John Graunt: A Tercentenary Tribute](https://www.jstor.org/stable/pdf/2982578.pdf?refreqid=excelsior%3Acc4f61da9d38fd6dc2733c5f802327f7)"
   ]
  },
  {
   "cell_type": "code",
   "execution_count": null,
   "id": "6b849d73",
   "metadata": {},
   "outputs": [],
   "source": []
  }
 ],
 "metadata": {
  "kernelspec": {
   "display_name": "Python 3 (ipykernel)",
   "language": "python",
   "name": "python3"
  },
  "language_info": {
   "codemirror_mode": {
    "name": "ipython",
    "version": 3
   },
   "file_extension": ".py",
   "mimetype": "text/x-python",
   "name": "python",
   "nbconvert_exporter": "python",
   "pygments_lexer": "ipython3",
   "version": "3.9.16"
  },
  "toc-autonumbering": false,
  "toc-showcode": false,
  "toc-showmarkdowntxt": false,
  "toc-showtags": false
 },
 "nbformat": 4,
 "nbformat_minor": 5
}
