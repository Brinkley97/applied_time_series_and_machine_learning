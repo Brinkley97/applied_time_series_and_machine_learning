{
 "cells": [
  {
   "cell_type": "markdown",
   "id": "1c2538da",
   "metadata": {},
   "source": [
    "# Material\n",
    "1. What is time series analysis (TSA)\n",
    "2. The importance of TSA\n",
    "3. Applications of TSA\n",
    "    1. Simple models/graphs\n",
    "    2. Complex models/graphs\n",
    "    3. Other concepts similar to TSA\n",
    "4. Evolution of TSA\n",
    "5. My prediction of the future of TSA\n",
    "6. What I don't understand about TSA\n",
    "    1. What's the root of this miss understanding?\n",
    "    2. What do I need to know to negate this misunderstanding?"
   ]
  },
  {
   "cell_type": "markdown",
   "id": "c0aaf825",
   "metadata": {},
   "source": [
    "## What time series analysis (TSA)\n",
    "1. Set of numerical measurements of the same entity taken at equally spaced intervals over time [a]\n",
    "2. Sequence of measurements (data points) that follow a successiver order and taken over regular time intervals [b]\n",
    "3. Calls on the mathematical fields of Statistics, Probability"
   ]
  },
  {
   "cell_type": "markdown",
   "id": "809e9683",
   "metadata": {},
   "source": [
    "## The importance of TSA\n",
    "* Motivation(s)\n",
    "* Why is TSA valuable\n",
    "---\n",
    "- To make informed predictions of future values\n",
    "- Provides more insight to real life conditions"
   ]
  },
  {
   "cell_type": "markdown",
   "id": "278f510a",
   "metadata": {},
   "source": [
    "## Applications of TSA\n",
    "- Financial [b]\n",
    "    - ie : annual profit for a company [a]\n",
    "- Weather forecasting [b]\n",
    "    - ie : avg monthly temperature [a]\n",
    "- Sale forecasting [b]\n",
    "    - ie : quarterly house sales [a]\n",
    "- Gas/Fuel [b]\n",
    "    - ie : daily petrol price at pump [a]\n",
    "- Electricity [a]\n",
    "    - ie : hourly usage/consumption in a house [a]\n",
    "- Health\n",
    "    - ie : daily #steps, weekly heart rate, monthly sleeping pattern \n",
    "- Natural language processing [b]\n",
    "- Signal forecasting [b]\n",
    "\n",
    "--- \n",
    "1. Simple models/graphs\n",
    "2. Complex models/graphs\n",
    "3. Other concepts similar to TSA"
   ]
  },
  {
   "cell_type": "markdown",
   "id": "792b70c1",
   "metadata": {},
   "source": [
    "## Evolution of TSA"
   ]
  },
  {
   "cell_type": "markdown",
   "id": "e31f6b1f",
   "metadata": {},
   "source": [
    "## My prediction of the future of TSA"
   ]
  },
  {
   "cell_type": "markdown",
   "id": "67535ad1",
   "metadata": {},
   "source": [
    "## What I don't understand about TSA & Questions\n",
    "1. What's the root of this miss understanding?\n",
    "2. What do I need to know to negate this misunderstanding?\n",
    "\n",
    "---\n",
    "\n",
    "- How does TSA differ from other ML/Statistical techniques\n",
    "- How can TSA be applied in health?\n",
    "- Could data/trends/model inputs be sleep/wake cycle? Fitness activity?"
   ]
  },
  {
   "cell_type": "markdown",
   "id": "ed7cef5b",
   "metadata": {},
   "source": [
    "# Sources\n",
    "a. [Dr Nic's Maths and Stats YT](https://youtu.be/GUq_tO2BjaU)\n",
    "\n",
    "b. [Time Series Analysis: Theory and Practice](https://www.slideshare.net/TetianaIvanova2/time-series-analysis-theory-and-practice)"
   ]
  },
  {
   "cell_type": "markdown",
   "id": "4a366861",
   "metadata": {},
   "source": [
    "# Futher Explore"
   ]
  },
  {
   "cell_type": "code",
   "execution_count": null,
   "id": "631f19e3",
   "metadata": {},
   "outputs": [],
   "source": []
  }
 ],
 "metadata": {
  "kernelspec": {
   "display_name": "Python 3",
   "language": "python",
   "name": "python3"
  },
  "language_info": {
   "codemirror_mode": {
    "name": "ipython",
    "version": 3
   },
   "file_extension": ".py",
   "mimetype": "text/x-python",
   "name": "python",
   "nbconvert_exporter": "python",
   "pygments_lexer": "ipython3",
   "version": "3.7.5"
  }
 },
 "nbformat": 4,
 "nbformat_minor": 5
}
