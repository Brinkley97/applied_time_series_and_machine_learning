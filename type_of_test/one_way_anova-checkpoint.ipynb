{
 "cells": [
  {
   "cell_type": "markdown",
   "id": "aec76ff8-ded8-4aa7-8566-16980572f29c",
   "metadata": {},
   "source": [
    "# ANOVA – Super Simple Introduction\n",
    "\n",
    "- [Tutorial](https://www.spss-tutorials.com/anova-what-is-it/)\n",
    "\n",
    "---\n"
   ]
  },
  {
   "cell_type": "markdown",
   "id": "2c6f5179-e42e-4dff-b725-564d57fc80f5",
   "metadata": {},
   "source": [
    "# Import Data"
   ]
  },
  {
   "cell_type": "code",
   "execution_count": null,
   "id": "94205d8e-738b-44eb-9360-e50e7ebcfd61",
   "metadata": {},
   "outputs": [],
   "source": []
  }
 ],
 "metadata": {
  "kernelspec": {
   "display_name": "Python 3",
   "language": "python",
   "name": "python3"
  },
  "language_info": {
   "codemirror_mode": {
    "name": "ipython",
    "version": 3
   },
   "file_extension": ".py",
   "mimetype": "text/x-python",
   "name": "python",
   "nbconvert_exporter": "python",
   "pygments_lexer": "ipython3",
   "version": "3.7.5"
  }
 },
 "nbformat": 4,
 "nbformat_minor": 5
}
