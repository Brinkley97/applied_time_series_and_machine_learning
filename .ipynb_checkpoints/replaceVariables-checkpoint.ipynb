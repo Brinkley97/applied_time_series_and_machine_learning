{
 "cells": [
  {
   "cell_type": "markdown",
   "id": "b9586198-42a4-48a0-a68b-d3cbcd07b4b0",
   "metadata": {},
   "source": [
    "# Create Specific Questions from Question Template"
   ]
  },
  {
   "cell_type": "code",
   "execution_count": 2,
   "id": "6230dc6f-4e0b-42ce-8e40-2e86c2802fe0",
   "metadata": {},
   "outputs": [],
   "source": [
    "import numpy as np"
   ]
  },
  {
   "cell_type": "code",
   "execution_count": null,
   "id": "6f6dbb37-1628-4b64-a883-0718f8e6389b",
   "metadata": {},
   "outputs": [],
   "source": []
  },
  {
   "cell_type": "code",
   "execution_count": 3,
   "id": "0c36428a-4db6-4507-94d7-10605b0cc0b6",
   "metadata": {},
   "outputs": [
    {
     "name": "stdout",
     "output_type": "stream",
     "text": [
      "{'gender': ['female', 'male'], 'age': ['<40', '<=40'], 'highest degree': ['college', 'graduate'], 'native language': ['english', 'non-english']}\n"
     ]
    }
   ],
   "source": [
    "demographic_variables = {\n",
    "                        'gender': ['female', 'male'],\n",
    "                        'age': ['<40', '<=40'],\n",
    "                        'highest degree': ['college', 'graduate'],\n",
    "                        'native language': ['english', 'non-english']\n",
    "                        }\n",
    "print(demographic_variables)"
   ]
  },
  {
   "cell_type": "code",
   "execution_count": 72,
   "id": "7f230dc8-96b6-4721-aad8-a9ee14a2dc09",
   "metadata": {},
   "outputs": [
    {
     "data": {
      "text/plain": [
       "['<group_1>', '<group_2>', '<demographic>', '<behavioral>']"
      ]
     },
     "execution_count": 72,
     "metadata": {},
     "output_type": "execute_result"
    }
   ],
   "source": [
    "key_words = ['<group_1>', '<group_2>', '<demographic>', '<behavioral>']\n",
    "key_words"
   ]
  },
  {
   "cell_type": "code",
   "execution_count": 73,
   "id": "2962a25a-d3ea-4549-acc3-9852e6018d6d",
   "metadata": {},
   "outputs": [
    {
     "name": "stdout",
     "output_type": "stream",
     "text": [
      "{'what are differences in primarily <group_1> nurses and primarily <group_2> nurses for <demographic behavioral>?': []}\n"
     ]
    }
   ],
   "source": [
    "question_templates = {\n",
    "                    'what are differences in primarily <group_1> nurses and primarily <group_2> nurses for <demographic behavioral>?': []\n",
    "                    }\n",
    "print(question_templates)"
   ]
  },
  {
   "cell_type": "code",
   "execution_count": 74,
   "id": "8a634877-b20f-4351-b64c-65812f4c99e6",
   "metadata": {},
   "outputs": [
    {
     "data": {
      "text/plain": [
       "dict_keys(['what are differences in primarily <group_1> nurses and primarily <group_2> nurses for <demographic behavioral>?'])"
      ]
     },
     "execution_count": 74,
     "metadata": {},
     "output_type": "execute_result"
    }
   ],
   "source": [
    "question_templates_keys = question_templates.keys()\n",
    "question_templates_keys"
   ]
  },
  {
   "cell_type": "code",
   "execution_count": 82,
   "id": "07b484b0-d45b-43f1-b412-a5ca21788dca",
   "metadata": {},
   "outputs": [
    {
     "name": "stdout",
     "output_type": "stream",
     "text": [
      "['what', 'are', 'differences', 'in', 'primarily', '<group_1>', 'nurses', 'and', 'primarily', '<group_2>', 'nurses', 'for', '<demographic', 'behavioral>?']\n",
      "what\n",
      "are\n",
      "differences\n",
      "in\n",
      "primarily\n",
      "<group_1>\n",
      "5 True\n",
      "nurses\n",
      "and\n",
      "primarily\n",
      "<group_2>\n",
      "9 True\n",
      "nurses\n",
      "for\n",
      "<demographic\n",
      "behavioral>?\n"
     ]
    }
   ],
   "source": [
    "'''\n",
    "COMPLETED : \n",
    "Take in dict_keys\n",
    "Convert dict_keys to list where each word is it's own string\n",
    "Get each word\n",
    "Compare each word to key words\n",
    "Print True where word matches\n",
    "TODO : \n",
    "    Replace matching word and store in string\n",
    "    Add new strings as value in question_templates\n",
    "'''\n",
    "for key in question_templates_keys:\n",
    "    words_in_key = key.split()\n",
    "    print(words_in_key)\n",
    "    \n",
    "    for word_in_key in range(len(words_in_key)):\n",
    "        specific_word = words_in_key[word_in_key]\n",
    "        print(specific_word)\n",
    "        \n",
    "        if specific_word in key_words:\n",
    "            print(word_in_key, True)"
   ]
  },
  {
   "cell_type": "code",
   "execution_count": 91,
   "id": "5abc219e-dcf2-4313-b08e-80245002ac26",
   "metadata": {},
   "outputs": [
    {
     "name": "stdout",
     "output_type": "stream",
     "text": [
      "['what', 'are', 'differences', 'in', 'primarily', '<group_1>', 'nurses', 'and', 'primarily', '<group_2>', 'nurses', 'for', '<demographic', 'behavioral>?']\n",
      "['what', 'are', 'differences', 'in', 'primarily', 'day-shift', 'nurses', 'and', 'primarily', '<group_2>', 'nurses', 'for', '<demographic', 'behavioral>?']\n",
      "['what', 'are', 'differences', 'in', 'primarily', 'day-shift', 'nurses', 'and', 'primarily', '<group_2>', 'nurses', 'for', '<demographic', 'behavioral>?']\n",
      "['what', 'are', 'differences', 'in', 'primarily', 'day-shift', 'nurses', 'and', 'primarily', '<group_2>', 'nurses', 'for', '<demographic', 'behavioral>?']\n",
      "['what', 'are', 'differences', 'in', 'primarily', 'day-shift', 'nurses', 'and', 'primarily', '<group_2>', 'nurses', 'for', '<demographic', 'behavioral>?']\n"
     ]
    }
   ],
   "source": [
    "'''\n",
    "Use str.replace(), where str is a type and .replace() is a method\n",
    "'''\n",
    "for key in question_templates_keys:\n",
    "    words_in_key = key.split()\n",
    "    print(words_in_key)\n",
    "    for key_word in key_words:\n",
    "        replace = str(words_in_key).replace('<group_1>', 'day-shift')\n",
    "        print(replace)"
   ]
  },
  {
   "cell_type": "code",
   "execution_count": null,
   "id": "a2f9f827-7b8e-4ba4-831e-7efcbe3882ee",
   "metadata": {},
   "outputs": [],
   "source": []
  }
 ],
 "metadata": {
  "kernelspec": {
   "display_name": "Python 3",
   "language": "python",
   "name": "python3"
  },
  "language_info": {
   "codemirror_mode": {
    "name": "ipython",
    "version": 3
   },
   "file_extension": ".py",
   "mimetype": "text/x-python",
   "name": "python",
   "nbconvert_exporter": "python",
   "pygments_lexer": "ipython3",
   "version": "3.7.5"
  }
 },
 "nbformat": 4,
 "nbformat_minor": 5
}
