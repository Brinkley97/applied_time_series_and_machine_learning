{
 "cells": [
  {
   "cell_type": "markdown",
   "id": "bac7e717",
   "metadata": {},
   "source": [
    "# Table of Contents\n",
    "1. What is time series analysis (TSA)\n",
    "2. The importance of TSA\n",
    "3. Applications of TSA\n",
    "    1. Simple models/graphs\n",
    "    2. Complex models/graphs\n",
    "    3. Other concepts similar to TSA\n",
    "4. Evolution of TSA\n",
    "5. My prediction of the future of TSA\n",
    "6. What I don't understand about TSA\n",
    "    1. What's the root of this miss understanding?\n",
    "    2. What do I need to know to negate this misunderstanding?\n",
    "7. Sources\n",
    "8. Further Explore\n",
    "\n",
    "---\n",
    "Key Words : \n",
    "1. TSA = Time Series Analysis\n",
    "2. SA = Spectral Analysis"
   ]
  },
  {
   "cell_type": "markdown",
   "id": "c7198ed8",
   "metadata": {},
   "source": [
    "## 1. What is TSA\n",
    "1. Set of numerical measurements of the same entity taken at equally spaced intervals over time [7a]\n",
    "2. Sequence of measurements (data points) that follow a successiver order and taken over regular time intervals [7b]\n",
    "3. Calls on the mathematical fields of Statistics, Probability"
   ]
  },
  {
   "cell_type": "markdown",
   "id": "1838c297",
   "metadata": {},
   "source": [
    "## 2. The importance of TSA\n",
    "* Motivation(s)\n",
    "* Why is TSA valuable\n",
    "---\n",
    "- To make informed predictions of future values\n",
    "- Provides more insight to real life conditions"
   ]
  },
  {
   "cell_type": "markdown",
   "id": "5209d59e",
   "metadata": {},
   "source": [
    "## 3. Applications of TSA\n",
    "- Financial [7b]\n",
    "    - ie : annual profit for a company [7a]\n",
    "- Weather forecasting [7b]\n",
    "    - ie : avg monthly temperature [7a]\n",
    "- Sale forecasting [7b]\n",
    "    - ie : quarterly house sales [7a]\n",
    "- Gas/Fuel [7b]\n",
    "    - ie : daily petrol price at pump [7a]\n",
    "- Electricity [7a]\n",
    "    - ie : hourly usage/consumption in a house [7a]\n",
    "- Health\n",
    "    - ie : daily #steps, weekly heart rate, monthly sleeping pattern \n",
    "- Natural language processing [7b]\n",
    "- Signal forecasting [7b]\n",
    "\n",
    "--- \n",
    "1. Simple models/graphs\n",
    "2. Complex models/graphs\n",
    "3. Other concepts similar to TSA"
   ]
  },
  {
   "cell_type": "markdown",
   "id": "7a7d9f9d",
   "metadata": {},
   "source": [
    "## 4. Evolution of TSA"
   ]
  },
  {
   "cell_type": "markdown",
   "id": "146a0931",
   "metadata": {},
   "source": [
    "## 5. My prediction of the future of TSA"
   ]
  },
  {
   "cell_type": "markdown",
   "id": "e475d9a2",
   "metadata": {},
   "source": [
    "## 6. What I don't understand about TSA & Questions\n",
    "1. What's the root of this miss understanding?\n",
    "2. What do I need to know to negate this misunderstanding?\n",
    "\n",
    "---\n",
    "\n",
    "- How does TSA differ from other ML/Statistical techniques\n",
    "- How can TSA be applied in health?\n",
    "- Could data/trends/model inputs be sleep/wake cycle? Fitness activity?\n",
    "- What is SA in TSA? [8a]"
   ]
  },
  {
   "cell_type": "markdown",
   "id": "919675a5",
   "metadata": {},
   "source": [
    "## 7. Sources\n",
    "a. YT video : [Dr Nic's Maths and Stats](https://youtu.be/GUq_tO2BjaU)\n",
    "\n",
    "b. Slide Deck : [Time Series Analysis : Theory and Practice](https://www.slideshare.net/TetianaIvanova2/time-series-analysis-theory-and-practice) "
   ]
  },
  {
   "cell_type": "markdown",
   "id": "e0a5ed92",
   "metadata": {},
   "source": [
    "## 8. Futher Explore\n",
    "\n",
    "a. Article :[TSA and SA by James Holland Jones](http://web.stanford.edu/class/earthsys214/notes/series.html)\n",
    "\n",
    "b. Article : [SA by Roger D. Peng](https://bookdown.org/rdpeng/timeseriesbook/spectral-analysis.html)\n",
    "\n",
    "c. Article : [Goals of Roger D. Peng](https://bookdown.org/rdpeng/timeseriesbook/spectral-analysis.html) "
   ]
  },
  {
   "cell_type": "code",
   "execution_count": null,
   "id": "6f39aaaa",
   "metadata": {},
   "outputs": [],
   "source": []
  }
 ],
 "metadata": {
  "kernelspec": {
   "display_name": "Python 3",
   "language": "python",
   "name": "python3"
  },
  "language_info": {
   "codemirror_mode": {
    "name": "ipython",
    "version": 3
   },
   "file_extension": ".py",
   "mimetype": "text/x-python",
   "name": "python",
   "nbconvert_exporter": "python",
   "pygments_lexer": "ipython3",
   "version": "3.7.5"
  }
 },
 "nbformat": 4,
 "nbformat_minor": 5
}
