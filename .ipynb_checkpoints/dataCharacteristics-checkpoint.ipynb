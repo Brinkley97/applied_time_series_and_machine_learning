{
 "cells": [
  {
   "cell_type": "markdown",
   "id": "29c3690a-733f-4f70-86b7-77b1ce3412b7",
   "metadata": {
    "tags": []
   },
   "source": [
    "# Table of Contents\n",
    "\n",
    "---\n",
    "\n",
    "## 1. What are some characteristics of x data?\n",
    "    \n",
    "## 2. What should I\n",
    "\n",
    "## 3. What tools (libraries) exist to help analyze the data w/ code?\n",
    "\n",
    "## 4. Patterns/Components of TSA\n",
    "\n",
    "## 5. References\n",
    "\n",
    "---"
   ]
  },
  {
   "cell_type": "markdown",
   "id": "60ee5d20-c8c0-461e-b2b7-df68ce668bc1",
   "metadata": {},
   "source": [
    "---"
   ]
  },
  {
   "cell_type": "markdown",
   "id": "e8aac4c3-0303-4393-bb37-bbe52bd7830f",
   "metadata": {
    "tags": []
   },
   "source": [
    "---\n",
    "\n",
    "## 1. What are some characteristics of x data? Terminology + Mathematical repesentation\n",
    "\n",
    "1. **Mean** : **average**\n",
    "\n",
    "2. **Median** : **middle** # when ordered from least to greatest\n",
    "\n",
    "3. **Mode** : **most** that occurs\n",
    "\n",
    "4. **Range** : largest value - smallest value\n",
    "    1. Possibly could be used interchangeably w/ but don't confuse\n",
    "        - **Interval** : time span from x to y\n",
    "            - x & y could be in seconds, minutes, hours, days, weeks, months, quarters, years, etc\n",
    "        - **Periodicity** : refers to the frequency of compilation of the data [5.1d]\n",
    "            - Think : items inside a refrigerator\n",
    "            - Ex on [5.1a | P 240/258]\n",
    "        - **Frequency** : refers to the time interval between the observations of a TS [5.1d]\n",
    "            - Think : the refrigerator itself that contains items inside\n",
    "    2. Ex :\n",
    "        - TS available at annual **frequency** but the underlying data are compiled monlthy, $ \\therefore $ have a monthly **periodicity** [5.1d]\n",
    "\n",
    "6. **Outliers** : not normal; very different from what's already there. An anomaly\n",
    "\n",
    "7. **Standard deviation** : $ \\sigma $\n",
    "    - **variance** (spread): $ \\sigma{^2} $\n",
    "\n",
    "8. **Types of standard/common distributions** \n",
    "    - [5.2a | P 20/27, 5.2b | P 621/647, 5.2c | P 559/287, 5.2d | P 437/442, 5.2e | P A1/622, 5.2f | P 373/398]\n",
    "    \n",
    "9. **Lookahead** : to denote any knowledge of the future as in to find out something about the future earlier than you ought to know it. Should be prevented. [5.1a | P 28/46, 5.1a | P 67/85]\n",
    "\n",
    "10. **Upsampling** : [5.1a | P 52/70]\n",
    "    1. Think : Low --> High; When I play pool, I have to 1st rack the balls which increases the \"frequency\"/amount of balls being on the table\n",
    "    \n",
    "11. **Downsampling** : reduce frequency of data [5.1a | P 52/70]\n",
    "    1. Think : High --> Low; When I play pool, I hit the balls to reduce the \"frequency\"/amount of any balls being on the table\n",
    "    \n",
    "12. **Periodogram** : \n",
    "   - [5.1a | P 246/264]\n",
    "   \n",
    "---"
   ]
  },
  {
   "cell_type": "markdown",
   "id": "edf21771-626d-48eb-98f0-8d130433a07a",
   "metadata": {
    "tags": []
   },
   "source": [
    "---\n",
    "\n",
    "## 3. What tools (libraries) exist to help analyze the data w/ code?\n",
    "\n",
    "1. [Python](https://docs.python.org/3/contents.html) : high-level, general-purpose programming language.\n",
    "2. [Numpy](https://numpy.org/doc/stable/user/index.html)\n",
    "3. [Scipy](https://scipy.github.io/devdocs/tutorial/stats.html)\n",
    "4. Pandas : A data frame analysis package in Py. Name refers to “panel data” which is what social scientists call time series data. Based on tables of data with row and column indices. Can index by time period, downsample, etc. [1a | P 31/49]\n",
    "5. [Scikit-learn](https://scikit-learn.org/stable/user_guide.html)\n",
    "6. [Matplotlib](https://matplotlib.org/stable/users/index.html)\n",
    "\n",
    "---"
   ]
  },
  {
   "cell_type": "markdown",
   "id": "db16ebba-fc5c-46d9-8017-f7a90c70171e",
   "metadata": {
    "jp-MarkdownHeadingCollapsed": true,
    "tags": []
   },
   "source": [
    "---\n",
    "\n",
    "## 4. Patterns/Components of TSA\n",
    "\n",
    "1. ***T*rend** : *T*ypical\n",
    "    1. Exists when there is a long-term increase or decrease in the data & does not have to be linear. [5.1b]\n",
    "    2. Shows the variation of data with time or the frequency of data. Can see how data increases or decreases over time as well as if it's stable. [5.1c]\n",
    "\n",
    "\n",
    "2. **Seasonal** : Every so often on a fixed scale\n",
    "    1. Occurs when a TS is affected by seasonal factors (ie : time of the year or the day of the week). Always of a fixed and known period. [5.1b]\n",
    "    2. Used to find the variations which occur at regular intervals of time. [5.1c]\n",
    "    3. Also see [5.1a | P 63/81]\n",
    "\n",
    "\n",
    "3. **Cyclic** : Ups & downs, drastic changes any time\n",
    "    1. Occurs when the data exhibit rises and falls that are not of a fixed frequency. [5.1b]\n",
    "    2. Oscillations (Os) in TS which last for more than a year. [5.1c]\n",
    "        -  (Os) : Movement back and forth at a regular speed.\n",
    "    3. Also see [5.1a | P 63/81]\n",
    "\n",
    "4. **Irregularity** : Outliers\n",
    "    1. Purely random and usually caused by unforeseeable circumstances. [5.1c]\n",
    "    2. See [5.1a | P54/72]\n",
    "      \n",
    "5. ***S*tationary** : *S*ame.  \n",
    "    1. Remain the same anywhere in the series. [5.1c]\n",
    "    2. See **ergodic** [5.1a | P 242/260]\n",
    "    \n",
    "---"
   ]
  },
  {
   "cell_type": "markdown",
   "id": "35bc2410-6a9d-4ed5-983f-8aa87f861dbf",
   "metadata": {
    "tags": []
   },
   "source": [
    "---\n",
    "\n",
    "## 5. References"
   ]
  },
  {
   "cell_type": "markdown",
   "id": "6c260133-369b-472e-ac6e-028cbf5387d2",
   "metadata": {
    "tags": []
   },
   "source": [
    "----\n",
    "### 1. Sources\n",
    "\n",
    "a. Book : [Practical TSA - Prediction with Statistics and Machine Learning](https://www.oreilly.com/library/view/practical-time-series/9781492041641/ch01.html#:~:text=One%20of%20the%20pioneers%20of,how%20and%20when%20to%20trade.) by Aileen Nielsen\n",
    "\n",
    "b. Book : [Forecasting: Principles and Practice 3rd Ed](https://otexts.com/fpp3/) by Rob J Hyndman and George Athanasopoulos\n",
    "\n",
    "c. Article : [Understanding TSA in Python](https://www.simplilearn.com/tutorials/python-tutorial/time-series-analysis-in-python#what_are_the_different_components_of_time_series_analysis) by Simplilearn\n",
    "\n",
    "d. Online Glossary : [Glossary of Statistical Terms](https://stats.oecd.org/glossary/detail.asp?ID=2041) by OECD\n",
    "\n",
    "---"
   ]
  },
  {
   "cell_type": "markdown",
   "id": "2ac18968-5c8d-4262-8954-7c0495852461",
   "metadata": {
    "tags": []
   },
   "source": [
    "---\n",
    "### 2. Further Explore\n",
    "\n",
    "a. Book : Statistical Prediction Analysis by J. Altchison & I.R. Dunsmore\n",
    "\n",
    "b. Book : Statistical Inference 2nd Ed by George Casella & Roger L. Berger\n",
    "\n",
    "c. Book : Statistical Decision Theory and Bayesian Analysis 2nd Ed by James O. Berger\n",
    "\n",
    "d. Book : Mathematical Statistics with Applications 8th Ed by Irwin Miller & Marylees Miller\n",
    "\n",
    "e. Book : Mathematical Statistics and Data Analysis 3rd Ed by John A. Rice\n",
    "\n",
    "f. Book : Bayesian Statistics An Introduction by Peter M. Lee\n",
    "\n",
    "g. Paper : [On a Method of Investigating Periodicities in Disturbed Series, with Special Reference to Wolfer's Sunspot Numbers](https://www.jstor.org/stable/91170) by G. Udny Yule\n",
    "   - Udny Yule’s seminal paper, one of the first applications of autoregressive moving average analysis to real data, illustrates a way to remove the assumption of periodicity from analysis of a putatively periodic phenomenon. [5.1a | 14/32]\n",
    "\n",
    "h. Paper : [Understanding the Lomb-Scargle Periodogram](https://arxiv.org/abs/1703.09824) by Jacob T. VanderPlas\n",
    "   - This expansive article provides an intuitive understanding of periodicity estimators generally and the Lomb-Scargle method in particular. [5.1a | P 258/276]\n",
    "\n",
    "i. Book : [5.1b]\n",
    "   - Practical examples of how to use dynamic regression to supplement traditional statistical forecasting models with a series of alternative models for seasonality when SARIMA is not expected to be a good fit—usually because the periodicity is too complex or the periods are too long relative to the amount of data or computing resources available. [5.1a | P 400/418]"
   ]
  },
  {
   "cell_type": "code",
   "execution_count": null,
   "id": "f001ed63-bc1d-4d35-ad00-2d8b8ad69ee9",
   "metadata": {},
   "outputs": [],
   "source": []
  }
 ],
 "metadata": {
  "kernelspec": {
   "display_name": "Python 3 (ipykernel)",
   "language": "python",
   "name": "python3"
  },
  "language_info": {
   "codemirror_mode": {
    "name": "ipython",
    "version": 3
   },
   "file_extension": ".py",
   "mimetype": "text/x-python",
   "name": "python",
   "nbconvert_exporter": "python",
   "pygments_lexer": "ipython3",
   "version": "3.9.7"
  }
 },
 "nbformat": 4,
 "nbformat_minor": 5
}
