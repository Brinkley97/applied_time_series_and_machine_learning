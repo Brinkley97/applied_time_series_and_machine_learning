{
 "cells": [
  {
   "cell_type": "markdown",
   "id": "29c3690a-733f-4f70-86b7-77b1ce3412b7",
   "metadata": {
    "tags": []
   },
   "source": [
    "# Table of Contents\n",
    "\n",
    "---\n",
    "\n",
    "## 1. What are some characteristics of x data?\n",
    "    1. Terminology + Mathematical repesentation\n",
    "    \n",
    "## 2. What should I\n",
    "    1. Disregard :\n",
    "    2. Keep : Periodicity, outliers\n",
    "\n",
    "## 3. What tools (libraries) exist to help analyze the data w/ code?\n",
    "\n",
    "## 4. Components of TSA\n",
    "\n",
    "## 5. References\n",
    "    1. Sources\n",
    "    2. Further Explore"
   ]
  },
  {
   "cell_type": "markdown",
   "id": "e8aac4c3-0303-4393-bb37-bbe52bd7830f",
   "metadata": {},
   "source": [
    "---\n",
    "\n",
    "## 1. What are some characteristics of x data? Terminology + Mathematical repesentation\n",
    "\n",
    "1. Mean : **average**\n",
    "2. Median : **middle** # when ordered from least to greatest\n",
    "3. Mode : **most** that occurs\n",
    "4. Range : Largest value - smallest value\n",
    "    1. Could be used interchangeably w/ interval : time span from x to y\n",
    "        - x & y could be in seconds, minutes, hours, days, weeks, months, quarters, years, etc\n",
    "5. Periodicity : \n",
    "6. Outliers : \n",
    "7. Standard deviation : spread\n",
    "8. Types of standard/common distributions [5.2a | P 20/27, 5.2b | P 621/647, 5.2c | P 559/287, 5.2d | P 437/442, 5.2e | P A1/622, 5.2f | P 373/398]"
   ]
  },
  {
   "cell_type": "markdown",
   "id": "db16ebba-fc5c-46d9-8017-f7a90c70171e",
   "metadata": {
    "tags": []
   },
   "source": [
    "---\n",
    "\n",
    "## 5. References"
   ]
  },
  {
   "cell_type": "markdown",
   "id": "6c260133-369b-472e-ac6e-028cbf5387d2",
   "metadata": {},
   "source": [
    "---\n",
    "### 1. Sources"
   ]
  },
  {
   "cell_type": "markdown",
   "id": "2ac18968-5c8d-4262-8954-7c0495852461",
   "metadata": {},
   "source": [
    "---\n",
    "\n",
    "### 2. Further Explore\n",
    "\n",
    "a. Book : Statistical Prediction Analysis by J. Altchison & I.R. Dunsmore\n",
    "\n",
    "b. Book : Statistical Inference 2nd Ed by George Casella & Roger L. Berger\n",
    "\n",
    "c. Book : Statistical Decision Theory and Bayesian Analysis 2nd Ed by James O. Berger\n",
    "\n",
    "d. Book : Mathematical Statistics with Applications 8th Ed by Irwin Miller & Marylees Miller\n",
    "\n",
    "e. Book : Mathematical Statistics and Data Analysis 3rd Ed by John A. Rice\n",
    "\n",
    "f. Book : Bayesian Statistics An Introduction by Peter M. Lee"
   ]
  },
  {
   "cell_type": "code",
   "execution_count": null,
   "id": "f001ed63-bc1d-4d35-ad00-2d8b8ad69ee9",
   "metadata": {},
   "outputs": [],
   "source": []
  }
 ],
 "metadata": {
  "kernelspec": {
   "display_name": "Python 3",
   "language": "python",
   "name": "python3"
  },
  "language_info": {
   "codemirror_mode": {
    "name": "ipython",
    "version": 3
   },
   "file_extension": ".py",
   "mimetype": "text/x-python",
   "name": "python",
   "nbconvert_exporter": "python",
   "pygments_lexer": "ipython3",
   "version": "3.7.5"
  }
 },
 "nbformat": 4,
 "nbformat_minor": 5
}
