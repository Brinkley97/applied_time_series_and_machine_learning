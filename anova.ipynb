{
 "cells": [
  {
   "cell_type": "markdown",
   "id": "cf68fb05-bd83-4b3b-a4a3-e6c140600627",
   "metadata": {},
   "source": [
    "# Analysis of Variance (ANOVA)\n",
    "- "
   ]
  },
  {
   "cell_type": "code",
   "execution_count": 1,
   "id": "1b662105-8e97-4e3b-b251-0aa8b0c15e70",
   "metadata": {},
   "outputs": [],
   "source": [
    "import numpy as np"
   ]
  },
  {
   "cell_type": "code",
   "execution_count": 16,
   "id": "483b1849-a281-43bc-bfa7-6ba9ae2d004a",
   "metadata": {},
   "outputs": [
    {
     "name": "stdout",
     "output_type": "stream",
     "text": [
      "(5, 10) [[194 184 189 189 188 186 195 186 183 188]\n",
      " [189 204 190 190 189 207 203 193 181 206]\n",
      " [185 183 186 183 179 191 188 196 189 194]\n",
      " [183 193 184 186 194 199 196 188 193 196]\n",
      " [195 197 194 202 200 211 203 206 202 195]]\n"
     ]
    }
   ],
   "source": [
    "data = np.array([\n",
    "                [7, 9, 5, 8, 6, 8, 6, 10, 7, 4],\n",
    "                [4, 3, 6, 2, 7, 5, 5, 4, 1, 3],\n",
    "                [6, 1, 3, 5, 3, 4, 6, 4, 7, 3]]                \n",
    "                )\n",
    "np.shape(data)\n",
    "\n",
    "brands = np.array([\n",
    "    [194, 189, 185, 183, 195],\n",
    "    [184, 204, 183, 193, 197],\n",
    "    [189, 190, 186, 184, 194],\n",
    "    [189, 190, 183, 186, 202],\n",
    "    [188, 189, 179, 194, 200],\n",
    "    [186, 207, 191, 199, 211],\n",
    "    [195, 203, 188, 196, 203],\n",
    "    [186, 193, 196, 188, 206],\n",
    "    [183, 181, 189, 193, 202],\n",
    "    [188, 206, 194, 196, 195]\n",
    "    ])\n",
    "brands_T = brands.T\n",
    "print(np.shape(brands_T), brands_T)"
   ]
  },
  {
   "cell_type": "markdown",
   "id": "6b52c206-4fd9-4918-8b6d-76905db4396f",
   "metadata": {},
   "source": [
    "# Calculate the Separate Sample Mean"
   ]
  },
  {
   "cell_type": "code",
   "execution_count": 17,
   "id": "8c34af04-c213-4755-97a3-4910249dbcab",
   "metadata": {},
   "outputs": [],
   "source": [
    "each_distribution_mean = []\n",
    "\n",
    "def separate_sample_mean(distributions):\n",
    "\n",
    "    for row in range(len(distributions)):\n",
    "        each_distribution_mean.append(np.mean(distributions[row]))\n",
    "\n",
    "    return each_distribution_mean\n",
    "\n",
    "def grand_mean(ssm):\n",
    "    \n",
    "    return round(np.mean(ssm), 1)"
   ]
  },
  {
   "cell_type": "code",
   "execution_count": 18,
   "id": "6e470a96-d00a-497d-8820-700eaf878eb9",
   "metadata": {},
   "outputs": [
    {
     "data": {
      "text/plain": [
       "[188.2, 195.2, 187.4, 191.2, 200.5]"
      ]
     },
     "execution_count": 18,
     "metadata": {},
     "output_type": "execute_result"
    }
   ],
   "source": [
    "ssm = separate_sample_mean(brands_T)\n",
    "ssm"
   ]
  },
  {
   "cell_type": "code",
   "execution_count": 19,
   "id": "c6993ca5-0d55-4a72-aa2a-bdcecc516cff",
   "metadata": {},
   "outputs": [
    {
     "data": {
      "text/plain": [
       "192.5"
      ]
     },
     "execution_count": 19,
     "metadata": {},
     "output_type": "execute_result"
    }
   ],
   "source": [
    "gm = grand_mean(ssm)\n",
    "gm"
   ]
  },
  {
   "cell_type": "markdown",
   "id": "aa5f1412-29b4-45f1-bd62-f70545e20b3b",
   "metadata": {},
   "source": [
    "---\n",
    "\n",
    "# Calculate the Sum of Squares Between Distributions\n",
    "\n",
    "- When looking at multiple distributions, what's the spread between them?\n",
    "- Analogy : 3 people - LA, Simmons, and Me along with the size of our estate (the latter to get a mean; mean of our estate (avg size/spread of our estate) is represented by name_mean); Here, we will calculate : \n",
    "    - What's the spread between LA and Simmons?\n",
    "    - What's the spread between LA and Me?\n",
    "    - What's the spread between Simmmons and Me?\n",
    "- To calculate :\n",
    "    - Mean of each distribution (ed) : la_mean, simmons_mean, my_mean **$\\rightarrow$ 3 different scalars**\n",
    "    - Grand mean (gm) : np.mean(ed) = la_mean + simmons_mean + my_mean / 3 **$\\rightarrow$ 1 scalar**\n",
    "    - Square gm (sgm) : (ed - gm)^2 = (la_mean - gm)^2 + (simmons_mean)^2 + (my_mean - gm)^2 **$\\rightarrow$ 3 different scalars**\n",
    "    - #distributions (n)\n",
    "    - ss_between (ssb) = (n * sgm) = n * (la_mean - gm)^2 + n * (simmons_mean)^2 + n * (my_mean - gm)^2 **$\\rightarrow$ 1 scalar**"
   ]
  },
  {
   "cell_type": "code",
   "execution_count": 20,
   "id": "1a0a0cee-9e46-4873-9e7c-e31a519f5d81",
   "metadata": {},
   "outputs": [],
   "source": [
    "def calc_ss_between(n, x_i, x_g):\n",
    "\n",
    "    ssb = np.sum(np.multiply(n, np.square(x_i - x_g)))\n",
    "    \n",
    "    return ssb"
   ]
  },
  {
   "cell_type": "code",
   "execution_count": 21,
   "id": "ea8c52c5-3036-4ded-9ae9-8e4de4ba3c16",
   "metadata": {},
   "outputs": [
    {
     "data": {
      "text/plain": [
       "1174.8000000000002"
      ]
     },
     "execution_count": 21,
     "metadata": {},
     "output_type": "execute_result"
    }
   ],
   "source": [
    "calc_ss_between(10, ssm, gm)"
   ]
  },
  {
   "cell_type": "markdown",
   "id": "432907dd-5abd-4c4b-8619-5e18a1a77a3a",
   "metadata": {},
   "source": [
    "---\n",
    "\n",
    "# Calculate the Sum of Squares Within a Single Distribution for Each Distribution\n",
    "\n",
    "- When looking at each distribution alone, what's the spread within it?\n",
    "- The larger the spread between each distribution $\\Rightarrow$ the larger the spead between each distribution (ssm between)"
   ]
  },
  {
   "cell_type": "code",
   "execution_count": null,
   "id": "c750f8ff-43b8-4b6a-83b7-0a8559b18899",
   "metadata": {},
   "outputs": [],
   "source": [
    "def calc_ss_within(n, )"
   ]
  }
 ],
 "metadata": {
  "kernelspec": {
   "display_name": "Python 3",
   "language": "python",
   "name": "python3"
  },
  "language_info": {
   "codemirror_mode": {
    "name": "ipython",
    "version": 3
   },
   "file_extension": ".py",
   "mimetype": "text/x-python",
   "name": "python",
   "nbconvert_exporter": "python",
   "pygments_lexer": "ipython3",
   "version": "3.7.5"
  }
 },
 "nbformat": 4,
 "nbformat_minor": 5
}
