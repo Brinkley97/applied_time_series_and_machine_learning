{
 "cells": [
  {
   "cell_type": "markdown",
   "id": "cf68fb05-bd83-4b3b-a4a3-e6c140600627",
   "metadata": {},
   "source": [
    "# Analysis of Variance (ANOVA)\n",
    "- "
   ]
  },
  {
   "cell_type": "markdown",
   "id": "b781dcef-5431-4509-b8f3-d1892f374a91",
   "metadata": {},
   "source": [
    "## Load Dataset"
   ]
  },
  {
   "cell_type": "code",
   "execution_count": 1,
   "id": "1b662105-8e97-4e3b-b251-0aa8b0c15e70",
   "metadata": {},
   "outputs": [],
   "source": [
    "import numpy as np"
   ]
  },
  {
   "cell_type": "code",
   "execution_count": 2,
   "id": "483b1849-a281-43bc-bfa7-6ba9ae2d004a",
   "metadata": {},
   "outputs": [
    {
     "name": "stdout",
     "output_type": "stream",
     "text": [
      "5 10\n"
     ]
    }
   ],
   "source": [
    "brands = np.array([\n",
    "    [194, 189, 185, 183, 195],\n",
    "    [184, 204, 183, 193, 197],\n",
    "    [189, 190, 186, 184, 194],\n",
    "    [189, 190, 183, 186, 202],\n",
    "    [188, 189, 179, 194, 200],\n",
    "    [186, 207, 191, 199, 211],\n",
    "    [195, 203, 188, 196, 203],\n",
    "    [186, 193, 196, 188, 206],\n",
    "    [183, 181, 189, 193, 202],\n",
    "    [188, 206, 194, 196, 195]\n",
    "    ])\n",
    "brands_T = brands.T\n",
    "print(brands_T.shape[0], brands_T.shape[1])\n",
    "# print(np.shape(brands_T), brands_T, len(brands_T[0]))"
   ]
  },
  {
   "cell_type": "markdown",
   "id": "6b52c206-4fd9-4918-8b6d-76905db4396f",
   "metadata": {},
   "source": [
    "## Calculate the Separate Sample Mean\n",
    "\n",
    "- Mean of each distribution \n",
    "- A single row of scalars makes up a single distribution"
   ]
  },
  {
   "cell_type": "code",
   "execution_count": 3,
   "id": "8c34af04-c213-4755-97a3-4910249dbcab",
   "metadata": {},
   "outputs": [],
   "source": [
    "each_distribution_mean = []\n",
    "\n",
    "def separate_sample_mean(distributions):\n",
    "\n",
    "    for row in range(len(distributions)):\n",
    "        each_distribution_mean.append(np.mean(distributions[row]))\n",
    "\n",
    "    return each_distribution_mean\n",
    "\n",
    "def grand_mean(ssm):\n",
    "    \n",
    "    return round(np.mean(ssm), 1)"
   ]
  },
  {
   "cell_type": "code",
   "execution_count": 4,
   "id": "6e470a96-d00a-497d-8820-700eaf878eb9",
   "metadata": {},
   "outputs": [
    {
     "data": {
      "text/plain": [
       "[188.2, 195.2, 187.4, 191.2, 200.5]"
      ]
     },
     "execution_count": 4,
     "metadata": {},
     "output_type": "execute_result"
    }
   ],
   "source": [
    "ssm = separate_sample_mean(brands_T)\n",
    "ssm"
   ]
  },
  {
   "cell_type": "code",
   "execution_count": 5,
   "id": "c6993ca5-0d55-4a72-aa2a-bdcecc516cff",
   "metadata": {},
   "outputs": [
    {
     "data": {
      "text/plain": [
       "192.5"
      ]
     },
     "execution_count": 5,
     "metadata": {},
     "output_type": "execute_result"
    }
   ],
   "source": [
    "gm = grand_mean(ssm)\n",
    "gm"
   ]
  },
  {
   "cell_type": "markdown",
   "id": "aa5f1412-29b4-45f1-bd62-f70545e20b3b",
   "metadata": {},
   "source": [
    "---\n",
    "\n",
    "## Calculate the Sum of Squares Between Distributions\n",
    "\n",
    "- When looking at multiple distributions, what's the spread between them?\n",
    "- Analogy : 3 people - LA, Simmons, and Me along with the size of our estate (the latter to get a mean; mean of our estate (avg size/spread of our estate) is represented by name_mean); Here, we will calculate : \n",
    "    - What's the spread between LA and Simmons?\n",
    "    - What's the spread between LA and Me?\n",
    "    - What's the spread between Simmmons and Me?\n",
    "- To calculate :\n",
    "    - Mean of each distribution (ed) : la_mean, simmons_mean, my_mean **$\\rightarrow$ 3 different scalars**\n",
    "    - Grand mean (gm) : np.mean(ed) = la_mean + simmons_mean + my_mean / 3 **$\\rightarrow$ 1 scalar**\n",
    "    - Square gm (sgm) : (ed - gm)^2 = (la_mean - gm)^2 + (simmons_mean)^2 + (my_mean - gm)^2 **$\\rightarrow$ 3 different scalars**\n",
    "    - #distributions (n)\n",
    "    - ss_between (ssb) = (n * sgm) = n * (la_mean - gm)^2 + n * (simmons_mean)^2 + n * (my_mean - gm)^2 **$\\rightarrow$ 1 scalar**"
   ]
  },
  {
   "cell_type": "code",
   "execution_count": 6,
   "id": "1a0a0cee-9e46-4873-9e7c-e31a519f5d81",
   "metadata": {},
   "outputs": [],
   "source": [
    "def calc_ss_between(n, x_i, x_g):\n",
    "\n",
    "    ssb = np.sum(np.multiply(n, np.square(x_i - x_g)))\n",
    "    \n",
    "    return ssb"
   ]
  },
  {
   "cell_type": "code",
   "execution_count": 7,
   "id": "ea8c52c5-3036-4ded-9ae9-8e4de4ba3c16",
   "metadata": {},
   "outputs": [
    {
     "data": {
      "text/plain": [
       "1174.8000000000002"
      ]
     },
     "execution_count": 7,
     "metadata": {},
     "output_type": "execute_result"
    }
   ],
   "source": [
    "s_s_b = calc_ss_between(10, ssm, gm)\n",
    "s_s_b"
   ]
  },
  {
   "cell_type": "markdown",
   "id": "432907dd-5abd-4c4b-8619-5e18a1a77a3a",
   "metadata": {},
   "source": [
    "---\n",
    "\n",
    "## Calculate the Sum of Squares Within a Single Distribution for Each Distribution\n",
    "\n",
    "- Also called the Sum of Squares Error\n",
    "- When looking at each distribution alone, what's the spread within it?\n",
    "- The larger the spread between each distribution $\\Rightarrow$ the larger the spead between each distribution (ssm between)"
   ]
  },
  {
   "cell_type": "code",
   "execution_count": 8,
   "id": "c750f8ff-43b8-4b6a-83b7-0a8559b18899",
   "metadata": {},
   "outputs": [],
   "source": [
    "def calc_ss_within(x, x_mean):\n",
    "    # print(x, x_mean)\n",
    "    ss_within = np.sum(np.square(np.subtract(x_mean.T, x)))\n",
    "    return ss_within"
   ]
  },
  {
   "cell_type": "code",
   "execution_count": 9,
   "id": "8aa5a52f-7860-48d1-b8f9-0371c7fee359",
   "metadata": {},
   "outputs": [
    {
     "data": {
      "text/plain": [
       "1661.7"
      ]
     },
     "execution_count": 9,
     "metadata": {},
     "output_type": "execute_result"
    }
   ],
   "source": [
    "s_s_m = calc_ss_within(ssm, brands_T)\n",
    "s_s_m"
   ]
  },
  {
   "cell_type": "markdown",
   "id": "0022e188-0e8f-4e9d-bb93-a7c895c2ec12",
   "metadata": {},
   "source": [
    "---\n",
    "## Calculate the Mean Sum of Squares\n",
    "\n",
    "- MSB = Mean Sum of Squares Between groups = ss_between / df_factor\n",
    "- MSE = Error Mean of Squares = ss_within / df_error\n",
    "\n",
    "- Degrees of freedom (DF) \n",
    "    - Factor : m (groups) -  1 $\\Rightarrow$ 5 - 1\n",
    "    - Error : n (total data points collected) - m $\\Rightarrow$ 50 - 5\n",
    "    - Total : n - 1"
   ]
  },
  {
   "cell_type": "code",
   "execution_count": 10,
   "id": "269e5850-4665-491c-aa9f-9b075c33b364",
   "metadata": {},
   "outputs": [],
   "source": [
    "degrees_of_freedom = []\n",
    "\n",
    "def calc_df(n, m):\n",
    "    # print(n, m)\n",
    "    factor = m - 1\n",
    "    degrees_of_freedom.append(factor)\n",
    "    error = n - m\n",
    "    degrees_of_freedom.append(error)\n",
    "    total = n - 1\n",
    "    degrees_of_freedom.append(total)\n",
    "    \n",
    "    # print(degrees_of_freedom)\n",
    "    return degrees_of_freedom\n",
    "\n",
    "ms = []\n",
    "def calc_ms(x, x_mean, brands, df):\n",
    "    \n",
    "    ss_between = calc_ss_between(len(brands_T[1]), x, x_mean)\n",
    "    ms_between = ss_between / df[0]\n",
    "    ms.append(ms_between)\n",
    "    \n",
    "    ss_within = calc_ss_within(x, brands)\n",
    "    ms_within = ss_within / df[1]\n",
    "    ms.append(ms_within)\n",
    "    \n",
    "    return ms"
   ]
  },
  {
   "cell_type": "code",
   "execution_count": 16,
   "id": "8ad6196d-46a5-4911-8571-88f54e2ad4ee",
   "metadata": {},
   "outputs": [
    {
     "data": {
      "text/plain": [
       "[293.70000000000005, 36.92666666666667, 293.70000000000005, 36.92666666666667]"
      ]
     },
     "execution_count": 16,
     "metadata": {},
     "output_type": "execute_result"
    }
   ],
   "source": [
    "n = len(brands_T) * len(brands_T[1])\n",
    "m = len(brands_T)\n",
    "df = calc_df(n, m)\n",
    "ms = calc_ms(ssm, gm, brands_T, df)\n",
    "ms"
   ]
  },
  {
   "cell_type": "markdown",
   "id": "95da460c-6fb3-472a-892a-28c5abab4618",
   "metadata": {},
   "source": [
    "## Calculate SS Total"
   ]
  },
  {
   "cell_type": "code",
   "execution_count": 12,
   "id": "89a70a35-9666-4be9-bd98-834ce2c33561",
   "metadata": {},
   "outputs": [],
   "source": [
    "def calc_ss_total(ssb, sse):\n",
    "    return ssb + sse"
   ]
  },
  {
   "cell_type": "code",
   "execution_count": 13,
   "id": "73326908-96c2-4878-8bad-e49179d5abe6",
   "metadata": {},
   "outputs": [
    {
     "data": {
      "text/plain": [
       "2836.5"
      ]
     },
     "execution_count": 13,
     "metadata": {},
     "output_type": "execute_result"
    }
   ],
   "source": [
    "calc_ss_total(s_s_b, s_s_m)"
   ]
  },
  {
   "cell_type": "markdown",
   "id": "3167f805-5adc-4937-9002-af5e849fe72e",
   "metadata": {},
   "source": [
    "## Calculate F"
   ]
  },
  {
   "cell_type": "code",
   "execution_count": 14,
   "id": "d14efac9-b6d9-455c-8433-03c8c87bb859",
   "metadata": {},
   "outputs": [],
   "source": [
    "def calc_f(msb, mse):\n",
    "    \n",
    "    return msb / mse"
   ]
  },
  {
   "cell_type": "code",
   "execution_count": 15,
   "id": "e365e988-3390-4192-904d-3fdef848c326",
   "metadata": {},
   "outputs": [
    {
     "data": {
      "text/plain": [
       "7.953601733164832"
      ]
     },
     "execution_count": 15,
     "metadata": {},
     "output_type": "execute_result"
    }
   ],
   "source": [
    "msb = ms[0]\n",
    "mse = ms[1]\n",
    "calc_f(msb, mse)"
   ]
  },
  {
   "cell_type": "code",
   "execution_count": null,
   "id": "46b4743b-ad3d-4174-a5b2-3da740f28117",
   "metadata": {},
   "outputs": [],
   "source": []
  }
 ],
 "metadata": {
  "kernelspec": {
   "display_name": "Python 3",
   "language": "python",
   "name": "python3"
  },
  "language_info": {
   "codemirror_mode": {
    "name": "ipython",
    "version": 3
   },
   "file_extension": ".py",
   "mimetype": "text/x-python",
   "name": "python",
   "nbconvert_exporter": "python",
   "pygments_lexer": "ipython3",
   "version": "3.7.5"
  }
 },
 "nbformat": 4,
 "nbformat_minor": 5
}
