{
 "cells": [
  {
   "cell_type": "markdown",
   "id": "c62c292e-96b6-4e20-a645-33334e429a64",
   "metadata": {
    "tags": []
   },
   "source": [
    "# On Analyzing Real World Time Series for Forecasting: Bitcoin Price Dataset (2017-2023)"
   ]
  },
  {
   "cell_type": "code",
   "execution_count": 1,
   "id": "894b3e18-f6c9-438c-bc7f-148cab92d6b4",
   "metadata": {},
   "outputs": [],
   "source": [
    "import os\n",
    "import sys\n",
    "import torch\n",
    "\n",
    "import torch.nn as nn\n",
    "import torch.optim as optim\n",
    "\n",
    "# Get the current working directory of the notebook\n",
    "notebook_dir = os.getcwd()\n",
    "sys.path.append(os.path.join(notebook_dir, '../tslearn/'))\n",
    "from ml_models import MLP\n",
    "from data_loader import build_bitcoin_uts\n",
    "from ts_models import RandomWalk, ARIMA_model, EvaluationMetric"
   ]
  },
  {
   "cell_type": "markdown",
   "id": "8bf828b6-f0b0-4870-bd37-b28847fef264",
   "metadata": {},
   "source": [
    "## Data Pipeline\n",
    "\n",
    "1. Load Raw Data\n",
    "2. Plot Raw Data\n",
    "3. Get Descriptive Statistics (ie: mean, median, etc) of Raw Data\n",
    "4. Check Stationarity of Raw Data\n",
    "5. Plot Autocorrelation and Partial Autocorrelation of Raw Data\n",
    "6. Initialize & Predict Random Walk Model on Raw Data\n",
    "    1. Split Raw Data\n",
    "7. Difference\n",
    "8. Get Descriptive Statistics (ie: mean, median, etc)\n",
    "9. Check Stationarity of Differenced Data\n",
    "10. Plot Autocorrelation and Partial Autocorrelation of Differenced Data\n",
    "11. Initialize & Predict Random Walk `RW` Model on Raw Data\n",
    "    1. Split Differenced Data\n",
    "12. Initialize Autoregressive `AR(p)` Model\n",
    "13. Predict Forecasts for Returns Data\n",
    "14. Plot Actual Forecasts vs Predicted Forecasts for Returns Data\n",
    "15. Follow-up"
   ]
  },
  {
   "cell_type": "markdown",
   "id": "0e09ba0c-4969-45b5-9917-a5c5e7d95c14",
   "metadata": {},
   "source": [
    "### Load Raw Data"
   ]
  },
  {
   "cell_type": "code",
   "execution_count": 2,
   "id": "1e9f721d-31cb-40ca-b735-d6fe89582cbd",
   "metadata": {},
   "outputs": [],
   "source": [
    "reversed_bitcoin_ts = build_bitcoin_uts()"
   ]
  },
  {
   "cell_type": "code",
   "execution_count": 3,
   "id": "05867ccb-7aef-484e-b385-6770edb303d4",
   "metadata": {},
   "outputs": [
    {
     "data": {
      "text/html": [
       "<div>\n",
       "<style scoped>\n",
       "    .dataframe tbody tr th:only-of-type {\n",
       "        vertical-align: middle;\n",
       "    }\n",
       "\n",
       "    .dataframe tbody tr th {\n",
       "        vertical-align: top;\n",
       "    }\n",
       "\n",
       "    .dataframe thead th {\n",
       "        text-align: right;\n",
       "    }\n",
       "</style>\n",
       "<table border=\"1\" class=\"dataframe\">\n",
       "  <thead>\n",
       "    <tr style=\"text-align: right;\">\n",
       "      <th></th>\n",
       "      <th>close</th>\n",
       "    </tr>\n",
       "    <tr>\n",
       "      <th>Timestamp</th>\n",
       "      <th></th>\n",
       "    </tr>\n",
       "  </thead>\n",
       "  <tbody>\n",
       "    <tr>\n",
       "      <th>2023-08-01</th>\n",
       "      <td>28902.49</td>\n",
       "    </tr>\n",
       "    <tr>\n",
       "      <th>2023-08-01</th>\n",
       "      <td>28902.49</td>\n",
       "    </tr>\n",
       "    <tr>\n",
       "      <th>2023-08-01</th>\n",
       "      <td>28902.49</td>\n",
       "    </tr>\n",
       "    <tr>\n",
       "      <th>2023-08-01</th>\n",
       "      <td>28908.53</td>\n",
       "    </tr>\n",
       "    <tr>\n",
       "      <th>2023-08-01</th>\n",
       "      <td>28907.41</td>\n",
       "    </tr>\n",
       "    <tr>\n",
       "      <th>...</th>\n",
       "      <td>...</td>\n",
       "    </tr>\n",
       "    <tr>\n",
       "      <th>2017-08-17</th>\n",
       "      <td>4261.48</td>\n",
       "    </tr>\n",
       "    <tr>\n",
       "      <th>2017-08-17</th>\n",
       "      <td>4261.48</td>\n",
       "    </tr>\n",
       "    <tr>\n",
       "      <th>2017-08-17</th>\n",
       "      <td>4280.56</td>\n",
       "    </tr>\n",
       "    <tr>\n",
       "      <th>2017-08-17</th>\n",
       "      <td>4261.48</td>\n",
       "    </tr>\n",
       "    <tr>\n",
       "      <th>2017-08-17</th>\n",
       "      <td>4261.48</td>\n",
       "    </tr>\n",
       "  </tbody>\n",
       "</table>\n",
       "<p>3126000 rows × 1 columns</p>\n",
       "</div>"
      ],
      "text/plain": [
       "               close\n",
       "Timestamp           \n",
       "2023-08-01  28902.49\n",
       "2023-08-01  28902.49\n",
       "2023-08-01  28902.49\n",
       "2023-08-01  28908.53\n",
       "2023-08-01  28907.41\n",
       "...              ...\n",
       "2017-08-17   4261.48\n",
       "2017-08-17   4261.48\n",
       "2017-08-17   4280.56\n",
       "2017-08-17   4261.48\n",
       "2017-08-17   4261.48\n",
       "\n",
       "[3126000 rows x 1 columns]"
      ]
     },
     "execution_count": 3,
     "metadata": {},
     "output_type": "execute_result"
    }
   ],
   "source": [
    "reversed_bitcoin_df = reversed_bitcoin_ts.get_as_df()\n",
    "reversed_bitcoin_df"
   ]
  },
  {
   "cell_type": "code",
   "execution_count": 4,
   "id": "e4051394",
   "metadata": {},
   "outputs": [
    {
     "data": {
      "text/plain": [
       "UnivariateTimeSeries(close)"
      ]
     },
     "execution_count": 4,
     "metadata": {},
     "output_type": "execute_result"
    }
   ],
   "source": [
    "bitcoin_ts = reversed_bitcoin_ts.data_augment_reverse()\n",
    "bitcoin_ts"
   ]
  },
  {
   "cell_type": "code",
   "execution_count": 5,
   "id": "44389e99",
   "metadata": {},
   "outputs": [
    {
     "data": {
      "text/html": [
       "<div>\n",
       "<style scoped>\n",
       "    .dataframe tbody tr th:only-of-type {\n",
       "        vertical-align: middle;\n",
       "    }\n",
       "\n",
       "    .dataframe tbody tr th {\n",
       "        vertical-align: top;\n",
       "    }\n",
       "\n",
       "    .dataframe thead th {\n",
       "        text-align: right;\n",
       "    }\n",
       "</style>\n",
       "<table border=\"1\" class=\"dataframe\">\n",
       "  <thead>\n",
       "    <tr style=\"text-align: right;\">\n",
       "      <th></th>\n",
       "      <th>close</th>\n",
       "    </tr>\n",
       "    <tr>\n",
       "      <th>Timestamp</th>\n",
       "      <th></th>\n",
       "    </tr>\n",
       "  </thead>\n",
       "  <tbody>\n",
       "    <tr>\n",
       "      <th>2017-08-17</th>\n",
       "      <td>4261.48</td>\n",
       "    </tr>\n",
       "    <tr>\n",
       "      <th>2017-08-17</th>\n",
       "      <td>4261.48</td>\n",
       "    </tr>\n",
       "    <tr>\n",
       "      <th>2017-08-17</th>\n",
       "      <td>4280.56</td>\n",
       "    </tr>\n",
       "    <tr>\n",
       "      <th>2017-08-17</th>\n",
       "      <td>4261.48</td>\n",
       "    </tr>\n",
       "    <tr>\n",
       "      <th>2017-08-17</th>\n",
       "      <td>4261.48</td>\n",
       "    </tr>\n",
       "    <tr>\n",
       "      <th>...</th>\n",
       "      <td>...</td>\n",
       "    </tr>\n",
       "    <tr>\n",
       "      <th>2023-08-01</th>\n",
       "      <td>28907.41</td>\n",
       "    </tr>\n",
       "    <tr>\n",
       "      <th>2023-08-01</th>\n",
       "      <td>28908.53</td>\n",
       "    </tr>\n",
       "    <tr>\n",
       "      <th>2023-08-01</th>\n",
       "      <td>28902.49</td>\n",
       "    </tr>\n",
       "    <tr>\n",
       "      <th>2023-08-01</th>\n",
       "      <td>28902.49</td>\n",
       "    </tr>\n",
       "    <tr>\n",
       "      <th>2023-08-01</th>\n",
       "      <td>28902.49</td>\n",
       "    </tr>\n",
       "  </tbody>\n",
       "</table>\n",
       "<p>3126000 rows × 1 columns</p>\n",
       "</div>"
      ],
      "text/plain": [
       "               close\n",
       "Timestamp           \n",
       "2017-08-17   4261.48\n",
       "2017-08-17   4261.48\n",
       "2017-08-17   4280.56\n",
       "2017-08-17   4261.48\n",
       "2017-08-17   4261.48\n",
       "...              ...\n",
       "2023-08-01  28907.41\n",
       "2023-08-01  28908.53\n",
       "2023-08-01  28902.49\n",
       "2023-08-01  28902.49\n",
       "2023-08-01  28902.49\n",
       "\n",
       "[3126000 rows x 1 columns]"
      ]
     },
     "execution_count": 5,
     "metadata": {},
     "output_type": "execute_result"
    }
   ],
   "source": [
    "bitcoin_df = bitcoin_ts.get_as_df()\n",
    "bitcoin_df"
   ]
  },
  {
   "cell_type": "markdown",
   "id": "90497964-89a7-4b9d-b6b0-c6eb2d881d5f",
   "metadata": {},
   "source": [
    "### Plot Raw Data\n",
    "\n",
    "- August 2017 to July 2023. The data has been meticulously collected from the Binance API, with price data captured at **one-minute intervals** [About Dataset](https://www.kaggle.com/datasets/jkraak/bitcoin-price-dataset)"
   ]
  },
  {
   "cell_type": "code",
   "execution_count": 6,
   "id": "36c111bb-6cd4-42d5-8b51-f8750f344a23",
   "metadata": {},
   "outputs": [
    {
     "data": {
      "image/png": "[encoded data removed]",
      "text/plain": [
       "<Figure size 2000x500 with 1 Axes>"
      ]
     },
     "metadata": {},
     "output_type": "display_data"
    }
   ],
   "source": [
    "bitcoin_ts.plot(tick_skip=120)"
   ]
  },
  {
   "cell_type": "markdown",
   "id": "fdcc9ce4-db1d-4b86-b03b-aab2ae084f11",
   "metadata": {},
   "source": [
    "### Get Descriptive Statistics of Raw Data"
   ]
  },
  {
   "cell_type": "code",
   "execution_count": 7,
   "id": "e5ed455d-0843-4442-8705-d797913ed3f7",
   "metadata": {},
   "outputs": [
    {
     "data": {
      "text/html": [
       "<div>\n",
       "<style scoped>\n",
       "    .dataframe tbody tr th:only-of-type {\n",
       "        vertical-align: middle;\n",
       "    }\n",
       "\n",
       "    .dataframe tbody tr th {\n",
       "        vertical-align: top;\n",
       "    }\n",
       "\n",
       "    .dataframe thead th {\n",
       "        text-align: right;\n",
       "    }\n",
       "</style>\n",
       "<table border=\"1\" class=\"dataframe\">\n",
       "  <thead>\n",
       "    <tr style=\"text-align: right;\">\n",
       "      <th></th>\n",
       "      <th>close</th>\n",
       "    </tr>\n",
       "  </thead>\n",
       "  <tbody>\n",
       "    <tr>\n",
       "      <th>count</th>\n",
       "      <td>3.126000e+06</td>\n",
       "    </tr>\n",
       "    <tr>\n",
       "      <th>mean</th>\n",
       "      <td>2.008946e+04</td>\n",
       "    </tr>\n",
       "    <tr>\n",
       "      <th>std</th>\n",
       "      <td>1.605896e+04</td>\n",
       "    </tr>\n",
       "    <tr>\n",
       "      <th>min</th>\n",
       "      <td>2.817000e+03</td>\n",
       "    </tr>\n",
       "    <tr>\n",
       "      <th>25%</th>\n",
       "      <td>7.624798e+03</td>\n",
       "    </tr>\n",
       "    <tr>\n",
       "      <th>50%</th>\n",
       "      <td>1.170000e+04</td>\n",
       "    </tr>\n",
       "    <tr>\n",
       "      <th>75%</th>\n",
       "      <td>2.989957e+04</td>\n",
       "    </tr>\n",
       "    <tr>\n",
       "      <th>max</th>\n",
       "      <td>6.900000e+04</td>\n",
       "    </tr>\n",
       "  </tbody>\n",
       "</table>\n",
       "</div>"
      ],
      "text/plain": [
       "              close\n",
       "count  3.126000e+06\n",
       "mean   2.008946e+04\n",
       "std    1.605896e+04\n",
       "min    2.817000e+03\n",
       "25%    7.624798e+03\n",
       "50%    1.170000e+04\n",
       "75%    2.989957e+04\n",
       "max    6.900000e+04"
      ]
     },
     "execution_count": 7,
     "metadata": {},
     "output_type": "execute_result"
    }
   ],
   "source": [
    "bitcoin_ts.get_statistics()"
   ]
  },
  {
   "cell_type": "code",
   "execution_count": 8,
   "id": "9360a53b-9501-4d2e-8133-c66a8f2b4b3c",
   "metadata": {},
   "outputs": [
    {
     "data": {
      "text/plain": [
       "{'Range': close    66183.0\n",
       " dtype: float64,\n",
       " 'Skewness': close    1.029161\n",
       " dtype: float64,\n",
       " 'Kurtosis': close   -0.056707\n",
       " dtype: float64}"
      ]
     },
     "execution_count": 8,
     "metadata": {},
     "output_type": "execute_result"
    }
   ],
   "source": [
    "bitcoin_ts.range_skewness_kurtosis()"
   ]
  },
  {
   "cell_type": "markdown",
   "id": "ed09f284-6ccd-4a9c-8ae7-a228f6a42aab",
   "metadata": {},
   "source": [
    "### Check Stationarity of Raw Data"
   ]
  },
  {
   "cell_type": "code",
   "execution_count": 9,
   "id": "4e30109a-e341-4cd9-99a1-41ad16568bca",
   "metadata": {},
   "outputs": [],
   "source": [
    "# both a taking a while\n",
    "# bitcoin_ts.stationarity_test(bitcoin_df)\n",
    "\n",
    "# from statsmodels.tsa.stattools import adfuller, bds\n",
    "\n",
    "# adfuller(bitcoin_df)"
   ]
  },
  {
   "cell_type": "markdown",
   "id": "21f61d81-f680-491f-9693-06d5f657efd7",
   "metadata": {},
   "source": [
    "- Stationarity test is taking a while. From looking at the graph, we can see that the time series is NOT stationary, so we can difference."
   ]
  },
  {
   "cell_type": "code",
   "execution_count": 10,
   "id": "145f8c06",
   "metadata": {},
   "outputs": [],
   "source": [
    "# bitcoin_series = bitcoin_ts.get_series()\n",
    "# bitcoin_ts.independence_test(bitcoin_series)"
   ]
  },
  {
   "cell_type": "markdown",
   "id": "f9ead2b3",
   "metadata": {},
   "source": [
    "- Independence test is taking a while as well. Assume that the data is dependent as there is correlation due to the time series being non-stationary."
   ]
  },
  {
   "cell_type": "markdown",
   "id": "e28531f6-3922-4e2d-86f2-bfc3ddd0acb9",
   "metadata": {},
   "source": [
    "### Initialize & Predict (RW) Model of Raw Data\n",
    "- RW uses the raw data because the current observation depends on the previous, thus dependency is need and dependency is in raw data. Differencing removes this dependence."
   ]
  },
  {
   "cell_type": "code",
   "execution_count": 11,
   "id": "4fd13a58",
   "metadata": {},
   "outputs": [
    {
     "data": {
      "text/plain": [
       "array([ 4261.48,  4261.48,  4280.56, ..., 28902.49, 28902.49, 28902.49])"
      ]
     },
     "execution_count": 11,
     "metadata": {},
     "output_type": "execute_result"
    }
   ],
   "source": [
    "bitcoin_series = bitcoin_ts.get_series()\n",
    "bitcoin_series"
   ]
  },
  {
   "cell_type": "code",
   "execution_count": 12,
   "id": "2f1d419f-d309-41e8-9671-50125bc502ec",
   "metadata": {},
   "outputs": [
    {
     "data": {
      "text/plain": [
       "2600400"
      ]
     },
     "execution_count": 12,
     "metadata": {},
     "output_type": "execute_result"
    }
   ],
   "source": [
    "day_forecast = 60 * 24\n",
    "year_forecast = day_forecast * 365\n",
    "forecasting_step = year_forecast\n",
    "N = len(bitcoin_ts.get_series())\n",
    "train_length = N - forecasting_step\n",
    "train_length"
   ]
  },
  {
   "cell_type": "code",
   "execution_count": 13,
   "id": "c0f54868",
   "metadata": {},
   "outputs": [
    {
     "name": "stdout",
     "output_type": "stream",
     "text": [
      "1 2600400\n"
     ]
    },
    {
     "data": {
      "text/plain": [
       "(UnivariateTimeSeries(UnivariateTimeSeries(close)[1:2600400]),\n",
       " UnivariateTimeSeries(UnivariateTimeSeries(close)[2600400:3126000]))"
      ]
     },
     "execution_count": 13,
     "metadata": {},
     "output_type": "execute_result"
    }
   ],
   "source": [
    "train_uts, test_uts = bitcoin_ts.get_slice(1, train_length, both_train_test=True)\n",
    "train_uts, test_uts"
   ]
  },
  {
   "cell_type": "code",
   "execution_count": 14,
   "id": "0c5695b5",
   "metadata": {},
   "outputs": [
    {
     "data": {
      "text/html": [
       "<div>\n",
       "<style scoped>\n",
       "    .dataframe tbody tr th:only-of-type {\n",
       "        vertical-align: middle;\n",
       "    }\n",
       "\n",
       "    .dataframe tbody tr th {\n",
       "        vertical-align: top;\n",
       "    }\n",
       "\n",
       "    .dataframe thead th {\n",
       "        text-align: right;\n",
       "    }\n",
       "</style>\n",
       "<table border=\"1\" class=\"dataframe\">\n",
       "  <thead>\n",
       "    <tr style=\"text-align: right;\">\n",
       "      <th></th>\n",
       "      <th>UnivariateTimeSeries(close)[1:2600400]</th>\n",
       "    </tr>\n",
       "    <tr>\n",
       "      <th>Timestamp</th>\n",
       "      <th></th>\n",
       "    </tr>\n",
       "  </thead>\n",
       "  <tbody>\n",
       "    <tr>\n",
       "      <th>2017-08-17</th>\n",
       "      <td>4261.48</td>\n",
       "    </tr>\n",
       "    <tr>\n",
       "      <th>2017-08-17</th>\n",
       "      <td>4280.56</td>\n",
       "    </tr>\n",
       "    <tr>\n",
       "      <th>2017-08-17</th>\n",
       "      <td>4261.48</td>\n",
       "    </tr>\n",
       "    <tr>\n",
       "      <th>2017-08-17</th>\n",
       "      <td>4261.48</td>\n",
       "    </tr>\n",
       "    <tr>\n",
       "      <th>2017-08-17</th>\n",
       "      <td>4261.48</td>\n",
       "    </tr>\n",
       "    <tr>\n",
       "      <th>...</th>\n",
       "      <td>...</td>\n",
       "    </tr>\n",
       "    <tr>\n",
       "      <th>2022-08-01</th>\n",
       "      <td>22932.67</td>\n",
       "    </tr>\n",
       "    <tr>\n",
       "      <th>2022-08-01</th>\n",
       "      <td>22938.14</td>\n",
       "    </tr>\n",
       "    <tr>\n",
       "      <th>2022-08-01</th>\n",
       "      <td>22947.96</td>\n",
       "    </tr>\n",
       "    <tr>\n",
       "      <th>2022-08-01</th>\n",
       "      <td>22937.14</td>\n",
       "    </tr>\n",
       "    <tr>\n",
       "      <th>2022-08-01</th>\n",
       "      <td>22943.94</td>\n",
       "    </tr>\n",
       "  </tbody>\n",
       "</table>\n",
       "<p>2600399 rows × 1 columns</p>\n",
       "</div>"
      ],
      "text/plain": [
       "            UnivariateTimeSeries(close)[1:2600400]\n",
       "Timestamp                                         \n",
       "2017-08-17                                 4261.48\n",
       "2017-08-17                                 4280.56\n",
       "2017-08-17                                 4261.48\n",
       "2017-08-17                                 4261.48\n",
       "2017-08-17                                 4261.48\n",
       "...                                            ...\n",
       "2022-08-01                                22932.67\n",
       "2022-08-01                                22938.14\n",
       "2022-08-01                                22947.96\n",
       "2022-08-01                                22937.14\n",
       "2022-08-01                                22943.94\n",
       "\n",
       "[2600399 rows x 1 columns]"
      ]
     },
     "execution_count": 14,
     "metadata": {},
     "output_type": "execute_result"
    }
   ],
   "source": [
    "train_df = train_uts.get_as_df()\n",
    "train_df"
   ]
  },
  {
   "cell_type": "code",
   "execution_count": 15,
   "id": "b6374beb",
   "metadata": {},
   "outputs": [
    {
     "data": {
      "text/html": [
       "<div>\n",
       "<style scoped>\n",
       "    .dataframe tbody tr th:only-of-type {\n",
       "        vertical-align: middle;\n",
       "    }\n",
       "\n",
       "    .dataframe tbody tr th {\n",
       "        vertical-align: top;\n",
       "    }\n",
       "\n",
       "    .dataframe thead th {\n",
       "        text-align: right;\n",
       "    }\n",
       "</style>\n",
       "<table border=\"1\" class=\"dataframe\">\n",
       "  <thead>\n",
       "    <tr style=\"text-align: right;\">\n",
       "      <th></th>\n",
       "      <th>UnivariateTimeSeries(close)[2600400:3126000]</th>\n",
       "    </tr>\n",
       "    <tr>\n",
       "      <th>Timestamp</th>\n",
       "      <th></th>\n",
       "    </tr>\n",
       "  </thead>\n",
       "  <tbody>\n",
       "    <tr>\n",
       "      <th>2022-08-01</th>\n",
       "      <td>22941.82</td>\n",
       "    </tr>\n",
       "    <tr>\n",
       "      <th>2022-08-01</th>\n",
       "      <td>22914.89</td>\n",
       "    </tr>\n",
       "    <tr>\n",
       "      <th>2022-08-01</th>\n",
       "      <td>22936.11</td>\n",
       "    </tr>\n",
       "    <tr>\n",
       "      <th>2022-08-01</th>\n",
       "      <td>22886.88</td>\n",
       "    </tr>\n",
       "    <tr>\n",
       "      <th>2022-08-01</th>\n",
       "      <td>22873.86</td>\n",
       "    </tr>\n",
       "    <tr>\n",
       "      <th>...</th>\n",
       "      <td>...</td>\n",
       "    </tr>\n",
       "    <tr>\n",
       "      <th>2023-08-01</th>\n",
       "      <td>28907.41</td>\n",
       "    </tr>\n",
       "    <tr>\n",
       "      <th>2023-08-01</th>\n",
       "      <td>28908.53</td>\n",
       "    </tr>\n",
       "    <tr>\n",
       "      <th>2023-08-01</th>\n",
       "      <td>28902.49</td>\n",
       "    </tr>\n",
       "    <tr>\n",
       "      <th>2023-08-01</th>\n",
       "      <td>28902.49</td>\n",
       "    </tr>\n",
       "    <tr>\n",
       "      <th>2023-08-01</th>\n",
       "      <td>28902.49</td>\n",
       "    </tr>\n",
       "  </tbody>\n",
       "</table>\n",
       "<p>525600 rows × 1 columns</p>\n",
       "</div>"
      ],
      "text/plain": [
       "            UnivariateTimeSeries(close)[2600400:3126000]\n",
       "Timestamp                                               \n",
       "2022-08-01                                      22941.82\n",
       "2022-08-01                                      22914.89\n",
       "2022-08-01                                      22936.11\n",
       "2022-08-01                                      22886.88\n",
       "2022-08-01                                      22873.86\n",
       "...                                                  ...\n",
       "2023-08-01                                      28907.41\n",
       "2023-08-01                                      28908.53\n",
       "2023-08-01                                      28902.49\n",
       "2023-08-01                                      28902.49\n",
       "2023-08-01                                      28902.49\n",
       "\n",
       "[525600 rows x 1 columns]"
      ]
     },
     "execution_count": 15,
     "metadata": {},
     "output_type": "execute_result"
    }
   ],
   "source": [
    "test_df = test_uts.get_as_df()\n",
    "test_df"
   ]
  },
  {
   "cell_type": "code",
   "execution_count": 16,
   "id": "cd050860-36c2-4896-9b52-0693ea87a7d9",
   "metadata": {},
   "outputs": [],
   "source": [
    "# rw_model_class = RandomWalk()\n",
    "\n",
    "# rw_predictions = rw_model_class.predict(train_df, test_df)"
   ]
  },
  {
   "cell_type": "code",
   "execution_count": 17,
   "id": "fbf5850a-747d-4c1c-a18f-0236319ee887",
   "metadata": {},
   "outputs": [],
   "source": [
    "# type(rw_predictions[0]), len(rw_predictions), rw_predictions"
   ]
  },
  {
   "cell_type": "code",
   "execution_count": 18,
   "id": "ff0a41a1-8bbc-49a7-b4d6-f1c11c352c48",
   "metadata": {},
   "outputs": [],
   "source": [
    "# rw_mse_gsts = EvaluationMetric.eval_mse(test_df, rw_predictions, per_element=False)\n",
    "# rw_rmse_gsts = EvaluationMetric.eval_rmse(test_df, rw_predictions, per_element=False)"
   ]
  },
  {
   "cell_type": "markdown",
   "id": "ea45612f-8ca2-43da-b5cb-5bc58c2b24c0",
   "metadata": {},
   "source": [
    "- Both `MSE` and `RMSE` for the raw TS are high. Why?"
   ]
  },
  {
   "cell_type": "code",
   "execution_count": 19,
   "id": "dcd70dcb-3fea-456a-9488-87079eccf79b",
   "metadata": {},
   "outputs": [],
   "source": [
    "# EvaluationMetric.plot_forecast(train_df, test_df, rw_predictions, per_element=False)\n",
    "# # EvaluationMetric.plot_forecast_only(test_df, rw_predictions, per_element=True)\n",
    "# # EvaluationMetric.plot_forecast_only(test_df, rw_predictions)\n",
    "\n",
    "# EvaluationMetric.plot_predictions(test_df, rw_predictions)"
   ]
  },
  {
   "cell_type": "markdown",
   "id": "5567745e",
   "metadata": {},
   "source": [
    "### Initialize & Predict ARIMA Model of Raw Data\n",
    "- ARIMA assumes non-stationarity"
   ]
  },
  {
   "cell_type": "code",
   "execution_count": 20,
   "id": "d826499d",
   "metadata": {},
   "outputs": [],
   "source": [
    "# lag_p = 1\n",
    "# integrated_d = 1\n",
    "# error_q = 1\n",
    "# arima_model_class = ARIMA_model()\n",
    "# arima_model = arima_model_class.train_arima_model(train_df, lag_p, integrated_d, error_q)"
   ]
  },
  {
   "cell_type": "code",
   "execution_count": 21,
   "id": "92adf999",
   "metadata": {},
   "outputs": [],
   "source": [
    "# # retrain false\n",
    "# arima_predictions_no_retrain = arima_model_class.predict(arima_model, train_df, test_df, False, lag_p)\n",
    "\n",
    "# # retrain true\n",
    "# arima_predictions_retrain = arima_model_class.predict(arima_model, train_df, test_df, True, lag_p)"
   ]
  },
  {
   "cell_type": "code",
   "execution_count": 22,
   "id": "7de6707f",
   "metadata": {},
   "outputs": [],
   "source": [
    "# arima_predictions_no_retrain"
   ]
  },
  {
   "cell_type": "code",
   "execution_count": 23,
   "id": "64dbb2d2",
   "metadata": {},
   "outputs": [],
   "source": [
    "# arima_predictions_retrain"
   ]
  },
  {
   "cell_type": "code",
   "execution_count": 24,
   "id": "273100d4",
   "metadata": {},
   "outputs": [],
   "source": [
    "# len(test_df), len(arima_predictions_no_retrain), len(arima_predictions_retrain)"
   ]
  },
  {
   "cell_type": "code",
   "execution_count": 25,
   "id": "12ac6dbd",
   "metadata": {},
   "outputs": [],
   "source": [
    "# arima_mse_no_retrain = EvaluationMetric.eval_mse(test_df, arima_predictions_no_retrain, per_element=False)\n",
    "# arima_rmse_no_retrain = EvaluationMetric.eval_rmse(test_df, arima_predictions_no_retrain, per_element=False)\n",
    "\n",
    "# arima_mse_retrain = EvaluationMetric.eval_mse(test_df, arima_predictions_retrain, per_element=False)\n",
    "# arima_rmse_retrain = EvaluationMetric.eval_rmse(test_df, arima_predictions_retrain, per_element=False)"
   ]
  },
  {
   "cell_type": "code",
   "execution_count": 26,
   "id": "25551712",
   "metadata": {},
   "outputs": [],
   "source": [
    "# EvaluationMetric.plot_forecast(train_df, test_df, arima_predictions_no_retrain, False)\n",
    "# EvaluationMetric.plot_forecast(train_df, test_df, arima_predictions_retrain, False)\n",
    "# EvaluationMetric.plot_predictions(test_df, arima_predictions_no_retrain)\n",
    "# EvaluationMetric.plot_predictions(test_df, arima_predictions_retrain)"
   ]
  },
  {
   "cell_type": "markdown",
   "id": "c4228d4d",
   "metadata": {},
   "source": [
    "### MLP Model"
   ]
  },
  {
   "cell_type": "code",
   "execution_count": 27,
   "id": "316ed85c",
   "metadata": {},
   "outputs": [
    {
     "data": {
      "text/html": [
       "<div>\n",
       "<style scoped>\n",
       "    .dataframe tbody tr th:only-of-type {\n",
       "        vertical-align: middle;\n",
       "    }\n",
       "\n",
       "    .dataframe tbody tr th {\n",
       "        vertical-align: top;\n",
       "    }\n",
       "\n",
       "    .dataframe thead th {\n",
       "        text-align: right;\n",
       "    }\n",
       "</style>\n",
       "<table border=\"1\" class=\"dataframe\">\n",
       "  <thead>\n",
       "    <tr style=\"text-align: right;\">\n",
       "      <th></th>\n",
       "      <th>close</th>\n",
       "    </tr>\n",
       "    <tr>\n",
       "      <th>Timestamp</th>\n",
       "      <th></th>\n",
       "    </tr>\n",
       "  </thead>\n",
       "  <tbody>\n",
       "    <tr>\n",
       "      <th>2023-08-01</th>\n",
       "      <td>28902.49</td>\n",
       "    </tr>\n",
       "    <tr>\n",
       "      <th>2023-08-01</th>\n",
       "      <td>28902.49</td>\n",
       "    </tr>\n",
       "    <tr>\n",
       "      <th>2023-08-01</th>\n",
       "      <td>28902.49</td>\n",
       "    </tr>\n",
       "    <tr>\n",
       "      <th>2023-08-01</th>\n",
       "      <td>28908.53</td>\n",
       "    </tr>\n",
       "    <tr>\n",
       "      <th>2023-08-01</th>\n",
       "      <td>28907.41</td>\n",
       "    </tr>\n",
       "    <tr>\n",
       "      <th>...</th>\n",
       "      <td>...</td>\n",
       "    </tr>\n",
       "    <tr>\n",
       "      <th>2017-08-17</th>\n",
       "      <td>4261.48</td>\n",
       "    </tr>\n",
       "    <tr>\n",
       "      <th>2017-08-17</th>\n",
       "      <td>4261.48</td>\n",
       "    </tr>\n",
       "    <tr>\n",
       "      <th>2017-08-17</th>\n",
       "      <td>4280.56</td>\n",
       "    </tr>\n",
       "    <tr>\n",
       "      <th>2017-08-17</th>\n",
       "      <td>4261.48</td>\n",
       "    </tr>\n",
       "    <tr>\n",
       "      <th>2017-08-17</th>\n",
       "      <td>4261.48</td>\n",
       "    </tr>\n",
       "  </tbody>\n",
       "</table>\n",
       "<p>3126000 rows × 1 columns</p>\n",
       "</div>"
      ],
      "text/plain": [
       "               close\n",
       "Timestamp           \n",
       "2023-08-01  28902.49\n",
       "2023-08-01  28902.49\n",
       "2023-08-01  28902.49\n",
       "2023-08-01  28908.53\n",
       "2023-08-01  28907.41\n",
       "...              ...\n",
       "2017-08-17   4261.48\n",
       "2017-08-17   4261.48\n",
       "2017-08-17   4280.56\n",
       "2017-08-17   4261.48\n",
       "2017-08-17   4261.48\n",
       "\n",
       "[3126000 rows x 1 columns]"
      ]
     },
     "execution_count": 27,
     "metadata": {},
     "output_type": "execute_result"
    }
   ],
   "source": [
    "reversed_bitcoin_df = reversed_bitcoin_ts.get_as_df()\n",
    "reversed_bitcoin_df"
   ]
  },
  {
   "cell_type": "markdown",
   "id": "33a76616",
   "metadata": {},
   "source": [
    "#### Data Manipulation"
   ]
  },
  {
   "cell_type": "code",
   "execution_count": 28,
   "id": "7d3d0fb9",
   "metadata": {},
   "outputs": [],
   "source": [
    "n_steps = 3\n",
    "output_size = 2\n",
    "\n",
    "X_train_mvts, y_train_mvts = reversed_bitcoin_ts.data_augment_to_mvts(n_steps, output_size)\n",
    "# type(X_train_mvts)"
   ]
  },
  {
   "cell_type": "code",
   "execution_count": 29,
   "id": "2fd772a5",
   "metadata": {},
   "outputs": [
    {
     "data": {
      "text/html": [
       "<div>\n",
       "<style scoped>\n",
       "    .dataframe tbody tr th:only-of-type {\n",
       "        vertical-align: middle;\n",
       "    }\n",
       "\n",
       "    .dataframe tbody tr th {\n",
       "        vertical-align: top;\n",
       "    }\n",
       "\n",
       "    .dataframe thead th {\n",
       "        text-align: right;\n",
       "    }\n",
       "</style>\n",
       "<table border=\"1\" class=\"dataframe\">\n",
       "  <thead>\n",
       "    <tr style=\"text-align: right;\">\n",
       "      <th></th>\n",
       "      <th>t-2</th>\n",
       "      <th>t-1</th>\n",
       "      <th>t</th>\n",
       "    </tr>\n",
       "    <tr>\n",
       "      <th>Timestamp</th>\n",
       "      <th></th>\n",
       "      <th></th>\n",
       "      <th></th>\n",
       "    </tr>\n",
       "  </thead>\n",
       "  <tbody>\n",
       "    <tr>\n",
       "      <th>2023-08-01</th>\n",
       "      <td>28902.49</td>\n",
       "      <td>28902.49</td>\n",
       "      <td>28902.49</td>\n",
       "    </tr>\n",
       "    <tr>\n",
       "      <th>2023-08-01</th>\n",
       "      <td>28902.49</td>\n",
       "      <td>28902.49</td>\n",
       "      <td>28908.53</td>\n",
       "    </tr>\n",
       "    <tr>\n",
       "      <th>2023-08-01</th>\n",
       "      <td>28902.49</td>\n",
       "      <td>28908.53</td>\n",
       "      <td>28907.41</td>\n",
       "    </tr>\n",
       "    <tr>\n",
       "      <th>2023-08-01</th>\n",
       "      <td>28908.53</td>\n",
       "      <td>28907.41</td>\n",
       "      <td>28895.99</td>\n",
       "    </tr>\n",
       "    <tr>\n",
       "      <th>2023-08-01</th>\n",
       "      <td>28907.41</td>\n",
       "      <td>28895.99</td>\n",
       "      <td>28890.39</td>\n",
       "    </tr>\n",
       "    <tr>\n",
       "      <th>...</th>\n",
       "      <td>...</td>\n",
       "      <td>...</td>\n",
       "      <td>...</td>\n",
       "    </tr>\n",
       "    <tr>\n",
       "      <th>2017-08-17</th>\n",
       "      <td>4261.48</td>\n",
       "      <td>4261.48</td>\n",
       "      <td>4261.48</td>\n",
       "    </tr>\n",
       "    <tr>\n",
       "      <th>2017-08-17</th>\n",
       "      <td>4261.48</td>\n",
       "      <td>4261.48</td>\n",
       "      <td>4261.48</td>\n",
       "    </tr>\n",
       "    <tr>\n",
       "      <th>2017-08-17</th>\n",
       "      <td>4261.48</td>\n",
       "      <td>4261.48</td>\n",
       "      <td>4261.48</td>\n",
       "    </tr>\n",
       "    <tr>\n",
       "      <th>2017-08-17</th>\n",
       "      <td>4261.48</td>\n",
       "      <td>4261.48</td>\n",
       "      <td>4261.48</td>\n",
       "    </tr>\n",
       "    <tr>\n",
       "      <th>2017-08-17</th>\n",
       "      <td>4261.48</td>\n",
       "      <td>4261.48</td>\n",
       "      <td>4280.56</td>\n",
       "    </tr>\n",
       "  </tbody>\n",
       "</table>\n",
       "<p>3125996 rows × 3 columns</p>\n",
       "</div>"
      ],
      "text/plain": [
       "                 t-2       t-1         t\n",
       "Timestamp                               \n",
       "2023-08-01  28902.49  28902.49  28902.49\n",
       "2023-08-01  28902.49  28902.49  28908.53\n",
       "2023-08-01  28902.49  28908.53  28907.41\n",
       "2023-08-01  28908.53  28907.41  28895.99\n",
       "2023-08-01  28907.41  28895.99  28890.39\n",
       "...              ...       ...       ...\n",
       "2017-08-17   4261.48   4261.48   4261.48\n",
       "2017-08-17   4261.48   4261.48   4261.48\n",
       "2017-08-17   4261.48   4261.48   4261.48\n",
       "2017-08-17   4261.48   4261.48   4261.48\n",
       "2017-08-17   4261.48   4261.48   4280.56\n",
       "\n",
       "[3125996 rows x 3 columns]"
      ]
     },
     "execution_count": 29,
     "metadata": {},
     "output_type": "execute_result"
    }
   ],
   "source": [
    "X_train_df = X_train_mvts.get_as_df()\n",
    "X_train_df"
   ]
  },
  {
   "cell_type": "code",
   "execution_count": 30,
   "id": "9268646e",
   "metadata": {},
   "outputs": [
    {
     "data": {
      "text/html": [
       "<div>\n",
       "<style scoped>\n",
       "    .dataframe tbody tr th:only-of-type {\n",
       "        vertical-align: middle;\n",
       "    }\n",
       "\n",
       "    .dataframe tbody tr th {\n",
       "        vertical-align: top;\n",
       "    }\n",
       "\n",
       "    .dataframe thead th {\n",
       "        text-align: right;\n",
       "    }\n",
       "</style>\n",
       "<table border=\"1\" class=\"dataframe\">\n",
       "  <thead>\n",
       "    <tr style=\"text-align: right;\">\n",
       "      <th></th>\n",
       "      <th>t+1</th>\n",
       "      <th>t+2</th>\n",
       "    </tr>\n",
       "    <tr>\n",
       "      <th>Timestamp</th>\n",
       "      <th></th>\n",
       "      <th></th>\n",
       "    </tr>\n",
       "  </thead>\n",
       "  <tbody>\n",
       "    <tr>\n",
       "      <th>2023-08-01</th>\n",
       "      <td>28908.53</td>\n",
       "      <td>28907.41</td>\n",
       "    </tr>\n",
       "    <tr>\n",
       "      <th>2023-08-01</th>\n",
       "      <td>28907.41</td>\n",
       "      <td>28895.99</td>\n",
       "    </tr>\n",
       "    <tr>\n",
       "      <th>2023-08-01</th>\n",
       "      <td>28895.99</td>\n",
       "      <td>28890.39</td>\n",
       "    </tr>\n",
       "    <tr>\n",
       "      <th>2023-08-01</th>\n",
       "      <td>28890.39</td>\n",
       "      <td>28889.64</td>\n",
       "    </tr>\n",
       "    <tr>\n",
       "      <th>2023-08-01</th>\n",
       "      <td>28889.64</td>\n",
       "      <td>28881.54</td>\n",
       "    </tr>\n",
       "    <tr>\n",
       "      <th>...</th>\n",
       "      <td>...</td>\n",
       "      <td>...</td>\n",
       "    </tr>\n",
       "    <tr>\n",
       "      <th>2017-08-17</th>\n",
       "      <td>4261.48</td>\n",
       "      <td>4261.48</td>\n",
       "    </tr>\n",
       "    <tr>\n",
       "      <th>2017-08-17</th>\n",
       "      <td>4261.48</td>\n",
       "      <td>4261.48</td>\n",
       "    </tr>\n",
       "    <tr>\n",
       "      <th>2017-08-17</th>\n",
       "      <td>4261.48</td>\n",
       "      <td>4280.56</td>\n",
       "    </tr>\n",
       "    <tr>\n",
       "      <th>2017-08-17</th>\n",
       "      <td>4280.56</td>\n",
       "      <td>4261.48</td>\n",
       "    </tr>\n",
       "    <tr>\n",
       "      <th>2017-08-17</th>\n",
       "      <td>4261.48</td>\n",
       "      <td>4261.48</td>\n",
       "    </tr>\n",
       "  </tbody>\n",
       "</table>\n",
       "<p>3125996 rows × 2 columns</p>\n",
       "</div>"
      ],
      "text/plain": [
       "                 t+1       t+2\n",
       "Timestamp                     \n",
       "2023-08-01  28908.53  28907.41\n",
       "2023-08-01  28907.41  28895.99\n",
       "2023-08-01  28895.99  28890.39\n",
       "2023-08-01  28890.39  28889.64\n",
       "2023-08-01  28889.64  28881.54\n",
       "...              ...       ...\n",
       "2017-08-17   4261.48   4261.48\n",
       "2017-08-17   4261.48   4261.48\n",
       "2017-08-17   4261.48   4280.56\n",
       "2017-08-17   4280.56   4261.48\n",
       "2017-08-17   4261.48   4261.48\n",
       "\n",
       "[3125996 rows x 2 columns]"
      ]
     },
     "execution_count": 30,
     "metadata": {},
     "output_type": "execute_result"
    }
   ],
   "source": [
    "y_train_df = y_train_mvts.get_as_df()\n",
    "y_train_df"
   ]
  },
  {
   "cell_type": "code",
   "execution_count": 31,
   "id": "9f2322b6",
   "metadata": {},
   "outputs": [],
   "source": [
    "X_test_mvts, y_test_mvts = X_train_mvts.data_augment_to_test(y_train_mvts, n_steps, output_size)"
   ]
  },
  {
   "cell_type": "code",
   "execution_count": 32,
   "id": "892273b3",
   "metadata": {},
   "outputs": [
    {
     "data": {
      "text/html": [
       "<div>\n",
       "<style scoped>\n",
       "    .dataframe tbody tr th:only-of-type {\n",
       "        vertical-align: middle;\n",
       "    }\n",
       "\n",
       "    .dataframe tbody tr th {\n",
       "        vertical-align: top;\n",
       "    }\n",
       "\n",
       "    .dataframe thead th {\n",
       "        text-align: right;\n",
       "    }\n",
       "</style>\n",
       "<table border=\"1\" class=\"dataframe\">\n",
       "  <thead>\n",
       "    <tr style=\"text-align: right;\">\n",
       "      <th></th>\n",
       "      <th>t-2</th>\n",
       "      <th>t-1</th>\n",
       "      <th>t</th>\n",
       "    </tr>\n",
       "    <tr>\n",
       "      <th>Timestamp</th>\n",
       "      <th></th>\n",
       "      <th></th>\n",
       "      <th></th>\n",
       "    </tr>\n",
       "  </thead>\n",
       "  <tbody>\n",
       "    <tr>\n",
       "      <th>2017-08-17</th>\n",
       "      <td>4261.48</td>\n",
       "      <td>4261.48</td>\n",
       "      <td>4280.56</td>\n",
       "    </tr>\n",
       "  </tbody>\n",
       "</table>\n",
       "</div>"
      ],
      "text/plain": [
       "                t-2      t-1        t\n",
       "Timestamp                            \n",
       "2017-08-17  4261.48  4261.48  4280.56"
      ]
     },
     "execution_count": 32,
     "metadata": {},
     "output_type": "execute_result"
    }
   ],
   "source": [
    "X_test_df = X_test_mvts.get_as_df()\n",
    "X_test_df"
   ]
  },
  {
   "cell_type": "code",
   "execution_count": 33,
   "id": "0e9bda78",
   "metadata": {},
   "outputs": [
    {
     "data": {
      "text/html": [
       "<div>\n",
       "<style scoped>\n",
       "    .dataframe tbody tr th:only-of-type {\n",
       "        vertical-align: middle;\n",
       "    }\n",
       "\n",
       "    .dataframe tbody tr th {\n",
       "        vertical-align: top;\n",
       "    }\n",
       "\n",
       "    .dataframe thead th {\n",
       "        text-align: right;\n",
       "    }\n",
       "</style>\n",
       "<table border=\"1\" class=\"dataframe\">\n",
       "  <thead>\n",
       "    <tr style=\"text-align: right;\">\n",
       "      <th></th>\n",
       "      <th>t+1</th>\n",
       "      <th>t+2</th>\n",
       "    </tr>\n",
       "    <tr>\n",
       "      <th>Timestamp</th>\n",
       "      <th></th>\n",
       "      <th></th>\n",
       "    </tr>\n",
       "  </thead>\n",
       "  <tbody>\n",
       "    <tr>\n",
       "      <th>2017-08-17</th>\n",
       "      <td>4261.48</td>\n",
       "      <td>4261.48</td>\n",
       "    </tr>\n",
       "  </tbody>\n",
       "</table>\n",
       "</div>"
      ],
      "text/plain": [
       "                t+1      t+2\n",
       "Timestamp                   \n",
       "2017-08-17  4261.48  4261.48"
      ]
     },
     "execution_count": 33,
     "metadata": {},
     "output_type": "execute_result"
    }
   ],
   "source": [
    "y_test_df = y_test_mvts.get_as_df()\n",
    "y_test_df"
   ]
  },
  {
   "cell_type": "code",
   "execution_count": 34,
   "id": "2ee297e0",
   "metadata": {},
   "outputs": [
    {
     "data": {
      "text/plain": [
       "MLP(\n",
       "  (fc1): Linear(in_features=3, out_features=100, bias=True)\n",
       "  (relu): ReLU()\n",
       "  (fc2): Linear(in_features=100, out_features=2, bias=True)\n",
       ")"
      ]
     },
     "execution_count": 34,
     "metadata": {},
     "output_type": "execute_result"
    }
   ],
   "source": [
    "hidden_size = 100\n",
    "mlp_forecast_model = MLP(n_steps, hidden_size, output_size)\n",
    "mlp_forecast_model"
   ]
  },
  {
   "cell_type": "code",
   "execution_count": 35,
   "id": "a08ec12b",
   "metadata": {},
   "outputs": [
    {
     "name": "stdout",
     "output_type": "stream",
     "text": [
      "Epoch [50/800], Loss: 2449590.25\n",
      "Epoch [100/800], Loss: 3733.85400390625\n",
      "Epoch [150/800], Loss: 2003.04052734375\n",
      "Epoch [200/800], Loss: 1795.6669921875\n",
      "Epoch [250/800], Loss: 1795.26025390625\n",
      "Epoch [300/800], Loss: 1795.2303466796875\n",
      "Epoch [350/800], Loss: 1795.2059326171875\n",
      "Epoch [400/800], Loss: 1795.1790771484375\n",
      "Epoch [450/800], Loss: 1795.1500244140625\n",
      "Epoch [500/800], Loss: 1795.118896484375\n",
      "Epoch [550/800], Loss: 1795.0855712890625\n",
      "Epoch [600/800], Loss: 1795.0506591796875\n",
      "Epoch [650/800], Loss: 1795.013427734375\n",
      "Epoch [700/800], Loss: 1794.9739990234375\n",
      "Epoch [750/800], Loss: 1794.9332275390625\n",
      "Epoch [800/800], Loss: 1794.8900146484375\n"
     ]
    }
   ],
   "source": [
    "criterion = nn.MSELoss()\n",
    "optimizer = optim.Adam(mlp_forecast_model.parameters())\n",
    "N_epochs = 800\n",
    "configs = [criterion, optimizer, N_epochs]\n",
    "train_mlp_forecast_model = mlp_forecast_model.train(X_train_df, y_train_df, configs)"
   ]
  },
  {
   "cell_type": "code",
   "execution_count": 36,
   "id": "d14d05fb",
   "metadata": {},
   "outputs": [
    {
     "name": "stdout",
     "output_type": "stream",
     "text": [
      "Predicted Outputs: [[4266.47900390625, 4264.857421875]]\n"
     ]
    },
    {
     "data": {
      "text/plain": [
       "[[4266.47900390625, 4264.857421875]]"
      ]
     },
     "execution_count": 36,
     "metadata": {},
     "output_type": "execute_result"
    }
   ],
   "source": [
    "mlp_model_predictions = mlp_forecast_model.predict(X_test_df, n_steps)\n",
    "mlp_model_predictions"
   ]
  },
  {
   "cell_type": "code",
   "execution_count": 37,
   "id": "05066edc",
   "metadata": {},
   "outputs": [
    {
     "data": {
      "text/html": [
       "<div>\n",
       "<style scoped>\n",
       "    .dataframe tbody tr th:only-of-type {\n",
       "        vertical-align: middle;\n",
       "    }\n",
       "\n",
       "    .dataframe tbody tr th {\n",
       "        vertical-align: top;\n",
       "    }\n",
       "\n",
       "    .dataframe thead th {\n",
       "        text-align: right;\n",
       "    }\n",
       "</style>\n",
       "<table border=\"1\" class=\"dataframe\">\n",
       "  <thead>\n",
       "    <tr style=\"text-align: right;\">\n",
       "      <th></th>\n",
       "      <th>t+1</th>\n",
       "      <th>t+2</th>\n",
       "    </tr>\n",
       "    <tr>\n",
       "      <th>Timestamp</th>\n",
       "      <th></th>\n",
       "      <th></th>\n",
       "    </tr>\n",
       "  </thead>\n",
       "  <tbody>\n",
       "    <tr>\n",
       "      <th>2017-08-17</th>\n",
       "      <td>4261.48</td>\n",
       "      <td>4261.48</td>\n",
       "    </tr>\n",
       "  </tbody>\n",
       "</table>\n",
       "</div>"
      ],
      "text/plain": [
       "                t+1      t+2\n",
       "Timestamp                   \n",
       "2017-08-17  4261.48  4261.48"
      ]
     },
     "execution_count": 37,
     "metadata": {},
     "output_type": "execute_result"
    }
   ],
   "source": [
    "y_test_df"
   ]
  },
  {
   "cell_type": "code",
   "execution_count": 38,
   "id": "c96042c5",
   "metadata": {},
   "outputs": [
    {
     "name": "stdout",
     "output_type": "stream",
     "text": [
      "Test MSE: 18.199\n"
     ]
    }
   ],
   "source": [
    "per_element = False\n",
    "EvaluationMetric.eval_mse(y_test_df, mlp_model_predictions, per_element)"
   ]
  },
  {
   "cell_type": "markdown",
   "id": "1cb5120e-1acd-4446-a590-73a2c6942264",
   "metadata": {},
   "source": [
    "### Follow-up\n",
    "- What can we determine from this?\n",
    "    - Raw TS\n",
    "        - `RW`\n",
    "        - `ARIMA-no-retrain`\n",
    "        - `ARIMA-retrain`\n",
    "        - `MLP`: Loss not decreasing rapidly after 250."
   ]
  },
  {
   "cell_type": "markdown",
   "id": "f7491408",
   "metadata": {},
   "source": []
  }
 ],
 "metadata": {
  "kernelspec": {
   "display_name": "Python 3 (ipykernel)",
   "language": "python",
   "name": "python3"
  },
  "language_info": {
   "codemirror_mode": {
    "name": "ipython",
    "version": 3
   },
   "file_extension": ".py",
   "mimetype": "text/x-python",
   "name": "python",
   "nbconvert_exporter": "python",
   "pygments_lexer": "ipython3",
   "version": "3.9.16"
  },
  "toc-autonumbering": true
 },
 "nbformat": 4,
 "nbformat_minor": 5
}
