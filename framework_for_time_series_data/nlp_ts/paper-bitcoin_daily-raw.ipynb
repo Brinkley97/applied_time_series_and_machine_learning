{
 "cells": [
  {
   "cell_type": "markdown",
   "id": "c62c292e-96b6-4e20-a645-33334e429a64",
   "metadata": {
    "tags": []
   },
   "source": [
    "# On Analyzing Real World Time Series for Forecasting: Bitcoin Price Dataset (2017-2023)"
   ]
  },
  {
   "cell_type": "code",
   "execution_count": 1,
   "id": "894b3e18-f6c9-438c-bc7f-148cab92d6b4",
   "metadata": {},
   "outputs": [
    {
     "ename": "KeyboardInterrupt",
     "evalue": "",
     "output_type": "error",
     "traceback": [
      "\u001b[0;31m---------------------------------------------------------------------------\u001b[0m",
      "\u001b[0;31mKeyboardInterrupt\u001b[0m                         Traceback (most recent call last)",
      "Cell \u001b[0;32mIn[1], line 3\u001b[0m\n\u001b[1;32m      1\u001b[0m \u001b[38;5;28;01mimport\u001b[39;00m \u001b[38;5;21;01mos\u001b[39;00m\n\u001b[1;32m      2\u001b[0m \u001b[38;5;28;01mimport\u001b[39;00m \u001b[38;5;21;01msys\u001b[39;00m\n\u001b[0;32m----> 3\u001b[0m \u001b[38;5;28;01mimport\u001b[39;00m \u001b[38;5;21;01mtorch\u001b[39;00m\n\u001b[1;32m      5\u001b[0m \u001b[38;5;28;01mimport\u001b[39;00m \u001b[38;5;21;01mtorch\u001b[39;00m\u001b[38;5;21;01m.\u001b[39;00m\u001b[38;5;21;01mnn\u001b[39;00m \u001b[38;5;28;01mas\u001b[39;00m \u001b[38;5;21;01mnn\u001b[39;00m\n\u001b[1;32m      6\u001b[0m \u001b[38;5;28;01mimport\u001b[39;00m \u001b[38;5;21;01mtorch\u001b[39;00m\u001b[38;5;21;01m.\u001b[39;00m\u001b[38;5;21;01moptim\u001b[39;00m \u001b[38;5;28;01mas\u001b[39;00m \u001b[38;5;21;01moptim\u001b[39;00m\n",
      "File \u001b[0;32m~/opt/anaconda3/envs/time_series/lib/python3.9/site-packages/torch/__init__.py:228\u001b[0m\n\u001b[1;32m    217\u001b[0m \u001b[38;5;28;01melse\u001b[39;00m:\n\u001b[1;32m    218\u001b[0m     \u001b[38;5;66;03m# Easy way.  You want this most of the time, because it will prevent\u001b[39;00m\n\u001b[1;32m    219\u001b[0m     \u001b[38;5;66;03m# C++ symbols from libtorch clobbering C++ symbols from other\u001b[39;00m\n\u001b[0;32m   (...)\u001b[0m\n\u001b[1;32m    225\u001b[0m     \u001b[38;5;66;03m#\u001b[39;00m\n\u001b[1;32m    226\u001b[0m     \u001b[38;5;66;03m# See Note [Global dependencies]\u001b[39;00m\n\u001b[1;32m    227\u001b[0m     \u001b[38;5;28;01mif\u001b[39;00m USE_GLOBAL_DEPS:\n\u001b[0;32m--> 228\u001b[0m         \u001b[43m_load_global_deps\u001b[49m\u001b[43m(\u001b[49m\u001b[43m)\u001b[49m\n\u001b[1;32m    229\u001b[0m     \u001b[38;5;28;01mfrom\u001b[39;00m \u001b[38;5;21;01mtorch\u001b[39;00m\u001b[38;5;21;01m.\u001b[39;00m\u001b[38;5;21;01m_C\u001b[39;00m \u001b[38;5;28;01mimport\u001b[39;00m \u001b[38;5;241m*\u001b[39m  \u001b[38;5;66;03m# noqa: F403\u001b[39;00m\n\u001b[1;32m    231\u001b[0m \u001b[38;5;66;03m# Appease the type checker; ordinarily this binding is inserted by the\u001b[39;00m\n\u001b[1;32m    232\u001b[0m \u001b[38;5;66;03m# torch._C module initialization code in C\u001b[39;00m\n",
      "File \u001b[0;32m~/opt/anaconda3/envs/time_series/lib/python3.9/site-packages/torch/__init__.py:168\u001b[0m, in \u001b[0;36m_load_global_deps\u001b[0;34m()\u001b[0m\n\u001b[1;32m    165\u001b[0m lib_path \u001b[38;5;241m=\u001b[39m os\u001b[38;5;241m.\u001b[39mpath\u001b[38;5;241m.\u001b[39mjoin(os\u001b[38;5;241m.\u001b[39mpath\u001b[38;5;241m.\u001b[39mdirname(here), \u001b[38;5;124m'\u001b[39m\u001b[38;5;124mlib\u001b[39m\u001b[38;5;124m'\u001b[39m, lib_name)\n\u001b[1;32m    167\u001b[0m \u001b[38;5;28;01mtry\u001b[39;00m:\n\u001b[0;32m--> 168\u001b[0m     \u001b[43mctypes\u001b[49m\u001b[38;5;241;43m.\u001b[39;49m\u001b[43mCDLL\u001b[49m\u001b[43m(\u001b[49m\u001b[43mlib_path\u001b[49m\u001b[43m,\u001b[49m\u001b[43m \u001b[49m\u001b[43mmode\u001b[49m\u001b[38;5;241;43m=\u001b[39;49m\u001b[43mctypes\u001b[49m\u001b[38;5;241;43m.\u001b[39;49m\u001b[43mRTLD_GLOBAL\u001b[49m\u001b[43m)\u001b[49m\n\u001b[1;32m    169\u001b[0m \u001b[38;5;28;01mexcept\u001b[39;00m \u001b[38;5;167;01mOSError\u001b[39;00m \u001b[38;5;28;01mas\u001b[39;00m err:\n\u001b[1;32m    170\u001b[0m     \u001b[38;5;66;03m# Can only happen for wheel with cuda libs as PYPI deps\u001b[39;00m\n\u001b[1;32m    171\u001b[0m     \u001b[38;5;66;03m# As PyTorch is not purelib, but nvidia-*-cu11 is\u001b[39;00m\n\u001b[1;32m    172\u001b[0m     cuda_libs: Dict[\u001b[38;5;28mstr\u001b[39m, \u001b[38;5;28mstr\u001b[39m] \u001b[38;5;241m=\u001b[39m {\n\u001b[1;32m    173\u001b[0m         \u001b[38;5;124m'\u001b[39m\u001b[38;5;124mcublas\u001b[39m\u001b[38;5;124m'\u001b[39m: \u001b[38;5;124m'\u001b[39m\u001b[38;5;124mlibcublas.so.*[0-9]\u001b[39m\u001b[38;5;124m'\u001b[39m,\n\u001b[1;32m    174\u001b[0m         \u001b[38;5;124m'\u001b[39m\u001b[38;5;124mcudnn\u001b[39m\u001b[38;5;124m'\u001b[39m: \u001b[38;5;124m'\u001b[39m\u001b[38;5;124mlibcudnn.so.*[0-9]\u001b[39m\u001b[38;5;124m'\u001b[39m,\n\u001b[0;32m   (...)\u001b[0m\n\u001b[1;32m    183\u001b[0m         \u001b[38;5;124m'\u001b[39m\u001b[38;5;124mnvtx\u001b[39m\u001b[38;5;124m'\u001b[39m: \u001b[38;5;124m'\u001b[39m\u001b[38;5;124mlibnvToolsExt.so.*[0-9]\u001b[39m\u001b[38;5;124m'\u001b[39m,\n\u001b[1;32m    184\u001b[0m     }\n",
      "File \u001b[0;32m~/opt/anaconda3/envs/time_series/lib/python3.9/ctypes/__init__.py:374\u001b[0m, in \u001b[0;36mCDLL.__init__\u001b[0;34m(self, name, mode, handle, use_errno, use_last_error, winmode)\u001b[0m\n\u001b[1;32m    371\u001b[0m \u001b[38;5;28mself\u001b[39m\u001b[38;5;241m.\u001b[39m_FuncPtr \u001b[38;5;241m=\u001b[39m _FuncPtr\n\u001b[1;32m    373\u001b[0m \u001b[38;5;28;01mif\u001b[39;00m handle \u001b[38;5;129;01mis\u001b[39;00m \u001b[38;5;28;01mNone\u001b[39;00m:\n\u001b[0;32m--> 374\u001b[0m     \u001b[38;5;28mself\u001b[39m\u001b[38;5;241m.\u001b[39m_handle \u001b[38;5;241m=\u001b[39m \u001b[43m_dlopen\u001b[49m\u001b[43m(\u001b[49m\u001b[38;5;28;43mself\u001b[39;49m\u001b[38;5;241;43m.\u001b[39;49m\u001b[43m_name\u001b[49m\u001b[43m,\u001b[49m\u001b[43m \u001b[49m\u001b[43mmode\u001b[49m\u001b[43m)\u001b[49m\n\u001b[1;32m    375\u001b[0m \u001b[38;5;28;01melse\u001b[39;00m:\n\u001b[1;32m    376\u001b[0m     \u001b[38;5;28mself\u001b[39m\u001b[38;5;241m.\u001b[39m_handle \u001b[38;5;241m=\u001b[39m handle\n",
      "\u001b[0;31mKeyboardInterrupt\u001b[0m: "
     ]
    }
   ],
   "source": [
    "import os\n",
    "import sys\n",
    "import torch\n",
    "\n",
    "import torch.nn as nn\n",
    "import torch.optim as optim\n",
    "\n",
    "# Get the current working directory of the notebook\n",
    "notebook_dir = os.getcwd()\n",
    "sys.path.append(os.path.join(notebook_dir, '../tslearn/'))\n",
    "from ml_models import MLP\n",
    "from data_loader import build_bitcoin_uts\n",
    "from ts_models import RandomWalk, ARIMA_model, EvaluationMetric"
   ]
  },
  {
   "cell_type": "markdown",
   "id": "8bf828b6-f0b0-4870-bd37-b28847fef264",
   "metadata": {},
   "source": [
    "## Data Pipeline\n",
    "\n",
    "1. Load Raw Data\n",
    "2. Plot Raw Data\n",
    "3. Get Descriptive Statistics (ie: mean, median, etc) of Raw Data\n",
    "4. Check Stationarity of Raw Data\n",
    "5. Plot Autocorrelation and Partial Autocorrelation of Raw Data\n",
    "6. Initialize & Predict Random Walk Model on Raw Data\n",
    "    1. Split Raw Data\n",
    "7. Difference\n",
    "8. Get Descriptive Statistics (ie: mean, median, etc)\n",
    "9. Check Stationarity of Differenced Data\n",
    "10. Plot Autocorrelation and Partial Autocorrelation of Differenced Data\n",
    "11. Initialize & Predict Random Walk `RW` Model on Raw Data\n",
    "    1. Split Differenced Data\n",
    "12. Initialize Autoregressive `AR(p)` Model\n",
    "13. Predict Forecasts for Returns Data\n",
    "14. Plot Actual Forecasts vs Predicted Forecasts for Returns Data\n",
    "15. Follow-up"
   ]
  },
  {
   "cell_type": "markdown",
   "id": "0e09ba0c-4969-45b5-9917-a5c5e7d95c14",
   "metadata": {},
   "source": [
    "### Load Raw Data"
   ]
  },
  {
   "cell_type": "code",
   "execution_count": null,
   "id": "1e9f721d-31cb-40ca-b735-d6fe89582cbd",
   "metadata": {},
   "outputs": [],
   "source": [
    "reversed_bitcoin_ts = build_bitcoin_uts()"
   ]
  },
  {
   "cell_type": "code",
   "execution_count": null,
   "id": "05867ccb-7aef-484e-b385-6770edb303d4",
   "metadata": {},
   "outputs": [],
   "source": [
    "reversed_bitcoin_df = reversed_bitcoin_ts.get_as_df()\n",
    "reversed_bitcoin_df"
   ]
  },
  {
   "cell_type": "code",
   "execution_count": null,
   "id": "e4051394",
   "metadata": {},
   "outputs": [],
   "source": [
    "bitcoin_ts = reversed_bitcoin_ts.data_augment_reverse()\n",
    "bitcoin_ts"
   ]
  },
  {
   "cell_type": "code",
   "execution_count": null,
   "id": "44389e99",
   "metadata": {},
   "outputs": [],
   "source": [
    "bitcoin_df = bitcoin_ts.get_as_df()\n",
    "bitcoin_df"
   ]
  },
  {
   "cell_type": "markdown",
   "id": "90497964-89a7-4b9d-b6b0-c6eb2d881d5f",
   "metadata": {},
   "source": [
    "### Plot Raw Data\n",
    "\n",
    "- August 2017 to July 2023. The data has been meticulously collected from the Binance API, with price data captured at **one-minute intervals** [About Dataset](https://www.kaggle.com/datasets/jkraak/bitcoin-price-dataset)"
   ]
  },
  {
   "cell_type": "code",
   "execution_count": null,
   "id": "36c111bb-6cd4-42d5-8b51-f8750f344a23",
   "metadata": {},
   "outputs": [],
   "source": [
    "bitcoin_ts.plot(tick_skip=120)"
   ]
  },
  {
   "cell_type": "markdown",
   "id": "fdcc9ce4-db1d-4b86-b03b-aab2ae084f11",
   "metadata": {},
   "source": [
    "### Get Descriptive Statistics of Raw Data"
   ]
  },
  {
   "cell_type": "code",
   "execution_count": null,
   "id": "e5ed455d-0843-4442-8705-d797913ed3f7",
   "metadata": {},
   "outputs": [],
   "source": [
    "bitcoin_ts.get_statistics()"
   ]
  },
  {
   "cell_type": "code",
   "execution_count": null,
   "id": "9360a53b-9501-4d2e-8133-c66a8f2b4b3c",
   "metadata": {},
   "outputs": [],
   "source": [
    "bitcoin_ts.range_skewness_kurtosis()"
   ]
  },
  {
   "cell_type": "markdown",
   "id": "ed09f284-6ccd-4a9c-8ae7-a228f6a42aab",
   "metadata": {},
   "source": [
    "### Check Stationarity of Raw Data"
   ]
  },
  {
   "cell_type": "code",
   "execution_count": null,
   "id": "4e30109a-e341-4cd9-99a1-41ad16568bca",
   "metadata": {},
   "outputs": [],
   "source": [
    "# both a taking a while\n",
    "# bitcoin_ts.stationarity_test(bitcoin_df)\n",
    "\n",
    "# from statsmodels.tsa.stattools import adfuller, bds\n",
    "\n",
    "# adfuller(bitcoin_df)"
   ]
  },
  {
   "cell_type": "markdown",
   "id": "21f61d81-f680-491f-9693-06d5f657efd7",
   "metadata": {},
   "source": [
    "- Stationarity test is taking a while. From looking at the graph, we can see that the time series is NOT stationary, so we can difference."
   ]
  },
  {
   "cell_type": "code",
   "execution_count": null,
   "id": "145f8c06",
   "metadata": {},
   "outputs": [],
   "source": [
    "# bitcoin_series = bitcoin_ts.get_series()\n",
    "# bitcoin_ts.independence_test(bitcoin_series)"
   ]
  },
  {
   "cell_type": "markdown",
   "id": "f9ead2b3",
   "metadata": {},
   "source": [
    "- Independence test is taking a while as well. Assume that the data is dependent as there is correlation due to the time series being non-stationary."
   ]
  },
  {
   "cell_type": "markdown",
   "id": "e28531f6-3922-4e2d-86f2-bfc3ddd0acb9",
   "metadata": {},
   "source": [
    "### Initialize & Predict (RW) Model of Raw Data\n",
    "- RW uses the raw data because the current observation depends on the previous, thus dependency is need and dependency is in raw data. Differencing removes this dependence."
   ]
  },
  {
   "cell_type": "code",
   "execution_count": null,
   "id": "4fd13a58",
   "metadata": {},
   "outputs": [],
   "source": [
    "bitcoin_series = bitcoin_ts.get_series()\n",
    "bitcoin_series"
   ]
  },
  {
   "cell_type": "code",
   "execution_count": null,
   "id": "2f1d419f-d309-41e8-9671-50125bc502ec",
   "metadata": {},
   "outputs": [],
   "source": [
    "day_forecast = 60 * 24\n",
    "year_forecast = day_forecast * 365\n",
    "forecasting_step = year_forecast\n",
    "N = len(bitcoin_ts.get_series())\n",
    "train_length = N - forecasting_step\n",
    "train_length"
   ]
  },
  {
   "cell_type": "code",
   "execution_count": null,
   "id": "c0f54868",
   "metadata": {},
   "outputs": [],
   "source": [
    "train_uts, test_uts = bitcoin_ts.get_slice(1, train_length, both_train_test=True)\n",
    "train_uts, test_uts"
   ]
  },
  {
   "cell_type": "code",
   "execution_count": null,
   "id": "0c5695b5",
   "metadata": {},
   "outputs": [],
   "source": [
    "train_df = train_uts.get_as_df()\n",
    "train_df"
   ]
  },
  {
   "cell_type": "code",
   "execution_count": null,
   "id": "b6374beb",
   "metadata": {},
   "outputs": [],
   "source": [
    "test_df = test_uts.get_as_df()\n",
    "test_df"
   ]
  },
  {
   "cell_type": "code",
   "execution_count": null,
   "id": "cd050860-36c2-4896-9b52-0693ea87a7d9",
   "metadata": {},
   "outputs": [],
   "source": [
    "# rw_model_class = RandomWalk()\n",
    "\n",
    "# rw_predictions = rw_model_class.predict(train_df, test_df)"
   ]
  },
  {
   "cell_type": "code",
   "execution_count": null,
   "id": "fbf5850a-747d-4c1c-a18f-0236319ee887",
   "metadata": {},
   "outputs": [],
   "source": [
    "# type(rw_predictions[0]), len(rw_predictions), rw_predictions"
   ]
  },
  {
   "cell_type": "code",
   "execution_count": null,
   "id": "ff0a41a1-8bbc-49a7-b4d6-f1c11c352c48",
   "metadata": {},
   "outputs": [],
   "source": [
    "# rw_mse_gsts = EvaluationMetric.eval_mse(test_df, rw_predictions, per_element=False)\n",
    "# rw_rmse_gsts = EvaluationMetric.eval_rmse(test_df, rw_predictions, per_element=False)"
   ]
  },
  {
   "cell_type": "markdown",
   "id": "ea45612f-8ca2-43da-b5cb-5bc58c2b24c0",
   "metadata": {},
   "source": [
    "- Both `MSE` and `RMSE` for the raw TS are high. Why?"
   ]
  },
  {
   "cell_type": "code",
   "execution_count": null,
   "id": "dcd70dcb-3fea-456a-9488-87079eccf79b",
   "metadata": {},
   "outputs": [],
   "source": [
    "# EvaluationMetric.plot_forecast(train_df, test_df, rw_predictions, per_element=False)\n",
    "# # EvaluationMetric.plot_forecast_only(test_df, rw_predictions, per_element=True)\n",
    "# # EvaluationMetric.plot_forecast_only(test_df, rw_predictions)\n",
    "\n",
    "# EvaluationMetric.plot_predictions(test_df, rw_predictions)"
   ]
  },
  {
   "cell_type": "markdown",
   "id": "5567745e",
   "metadata": {},
   "source": [
    "### Initialize & Predict ARIMA Model of Raw Data\n",
    "- ARIMA assumes non-stationarity"
   ]
  },
  {
   "cell_type": "code",
   "execution_count": null,
   "id": "d826499d",
   "metadata": {},
   "outputs": [],
   "source": [
    "# lag_p = 1\n",
    "# integrated_d = 1\n",
    "# error_q = 1\n",
    "# arima_model_class = ARIMA_model()\n",
    "# arima_model = arima_model_class.train_arima_model(train_df, lag_p, integrated_d, error_q)"
   ]
  },
  {
   "cell_type": "code",
   "execution_count": null,
   "id": "92adf999",
   "metadata": {},
   "outputs": [],
   "source": [
    "# # retrain false\n",
    "# arima_predictions_no_retrain = arima_model_class.predict(arima_model, train_df, test_df, False, lag_p)\n",
    "\n",
    "# # retrain true\n",
    "# arima_predictions_retrain = arima_model_class.predict(arima_model, train_df, test_df, True, lag_p)"
   ]
  },
  {
   "cell_type": "code",
   "execution_count": null,
   "id": "7de6707f",
   "metadata": {},
   "outputs": [],
   "source": [
    "# arima_predictions_no_retrain"
   ]
  },
  {
   "cell_type": "code",
   "execution_count": null,
   "id": "64dbb2d2",
   "metadata": {},
   "outputs": [],
   "source": [
    "# arima_predictions_retrain"
   ]
  },
  {
   "cell_type": "code",
   "execution_count": null,
   "id": "273100d4",
   "metadata": {},
   "outputs": [],
   "source": [
    "# len(test_df), len(arima_predictions_no_retrain), len(arima_predictions_retrain)"
   ]
  },
  {
   "cell_type": "code",
   "execution_count": null,
   "id": "12ac6dbd",
   "metadata": {},
   "outputs": [],
   "source": [
    "# arima_mse_no_retrain = EvaluationMetric.eval_mse(test_df, arima_predictions_no_retrain, per_element=False)\n",
    "# arima_rmse_no_retrain = EvaluationMetric.eval_rmse(test_df, arima_predictions_no_retrain, per_element=False)\n",
    "\n",
    "# arima_mse_retrain = EvaluationMetric.eval_mse(test_df, arima_predictions_retrain, per_element=False)\n",
    "# arima_rmse_retrain = EvaluationMetric.eval_rmse(test_df, arima_predictions_retrain, per_element=False)"
   ]
  },
  {
   "cell_type": "code",
   "execution_count": null,
   "id": "25551712",
   "metadata": {},
   "outputs": [],
   "source": [
    "# EvaluationMetric.plot_forecast(train_df, test_df, arima_predictions_no_retrain, False)\n",
    "# EvaluationMetric.plot_forecast(train_df, test_df, arima_predictions_retrain, False)\n",
    "# EvaluationMetric.plot_predictions(test_df, arima_predictions_no_retrain)\n",
    "# EvaluationMetric.plot_predictions(test_df, arima_predictions_retrain)"
   ]
  },
  {
   "cell_type": "markdown",
   "id": "c4228d4d",
   "metadata": {},
   "source": [
    "### MLP Model\n",
    "\n",
    "- Reminder: Our data is in **one-minute intervals**.\n",
    "- Predict every hour of the next day. "
   ]
  },
  {
   "cell_type": "code",
   "execution_count": null,
   "id": "316ed85c",
   "metadata": {},
   "outputs": [],
   "source": [
    "reversed_bitcoin_df = reversed_bitcoin_ts.get_as_df()\n",
    "reversed_bitcoin_df"
   ]
  },
  {
   "cell_type": "markdown",
   "id": "33a76616",
   "metadata": {},
   "source": [
    "#### Data Manipulation"
   ]
  },
  {
   "cell_type": "code",
   "execution_count": null,
   "id": "7d3d0fb9",
   "metadata": {},
   "outputs": [],
   "source": [
    "# day_forecast = 60 * 24\n",
    "# year_forecast = day_forecast * 365\n",
    "# forecasting_step = year_forecast\n",
    "previous_steps = 2\n",
    "forecast_ahead = 60\n",
    "\n",
    "X_train_mvts, y_train_mvts = reversed_bitcoin_ts.data_augment_to_mvts(previous_steps, forecast_ahead)\n",
    "# type(X_train_mvts)"
   ]
  },
  {
   "cell_type": "code",
   "execution_count": null,
   "id": "2fd772a5",
   "metadata": {},
   "outputs": [],
   "source": [
    "X_train_df = X_train_mvts.get_as_df()\n",
    "X_train_df"
   ]
  },
  {
   "cell_type": "code",
   "execution_count": null,
   "id": "9268646e",
   "metadata": {},
   "outputs": [],
   "source": [
    "y_train_df = y_train_mvts.get_as_df()\n",
    "y_train_df"
   ]
  },
  {
   "cell_type": "code",
   "execution_count": null,
   "id": "9f2322b6",
   "metadata": {},
   "outputs": [],
   "source": [
    "X_test_mvts, y_test_mvts = X_train_mvts.data_augment_to_test(y_train_mvts, previous_steps, forecast_ahead)"
   ]
  },
  {
   "cell_type": "code",
   "execution_count": null,
   "id": "892273b3",
   "metadata": {},
   "outputs": [],
   "source": [
    "X_test_df = X_test_mvts.get_as_df()\n",
    "X_test_df"
   ]
  },
  {
   "cell_type": "code",
   "execution_count": null,
   "id": "0e9bda78",
   "metadata": {},
   "outputs": [],
   "source": [
    "y_test_df = y_test_mvts.get_as_df()\n",
    "y_test_df"
   ]
  },
  {
   "cell_type": "code",
   "execution_count": null,
   "id": "2ee297e0",
   "metadata": {},
   "outputs": [],
   "source": [
    "hidden_size = 100\n",
    "mlp_forecast_model = MLP(previous_steps, hidden_size, forecast_ahead)\n",
    "mlp_forecast_model"
   ]
  },
  {
   "cell_type": "code",
   "execution_count": null,
   "id": "a08ec12b",
   "metadata": {},
   "outputs": [],
   "source": [
    "criterion = nn.MSELoss()\n",
    "optimizer = optim.Adam(mlp_forecast_model.parameters())\n",
    "N_epochs = 200\n",
    "configs = [criterion, optimizer, N_epochs]\n",
    "train_mlp_forecast_model = mlp_forecast_model.train(X_train_df, y_train_df, configs)"
   ]
  },
  {
   "cell_type": "code",
   "execution_count": null,
   "id": "d14d05fb",
   "metadata": {},
   "outputs": [],
   "source": [
    "mlp_model_predictions = mlp_forecast_model.predict(X_test_df, forecasting_step)\n",
    "mlp_model_predictions"
   ]
  },
  {
   "cell_type": "code",
   "execution_count": null,
   "id": "05066edc",
   "metadata": {},
   "outputs": [],
   "source": [
    "y_test_df"
   ]
  },
  {
   "cell_type": "code",
   "execution_count": null,
   "id": "c96042c5",
   "metadata": {},
   "outputs": [],
   "source": [
    "per_element = False\n",
    "EvaluationMetric.eval_mse(y_test_df, mlp_model_predictions, per_element)"
   ]
  },
  {
   "cell_type": "markdown",
   "id": "1cb5120e-1acd-4446-a590-73a2c6942264",
   "metadata": {},
   "source": [
    "### Follow-up\n",
    "- What can we determine from this?\n",
    "    - Raw TS\n",
    "        - `RW`\n",
    "        - `ARIMA-no-retrain`\n",
    "        - `ARIMA-retrain`\n",
    "        - `MLP`: Loss not decreasing rapidly after 250."
   ]
  },
  {
   "cell_type": "markdown",
   "id": "f7491408",
   "metadata": {},
   "source": []
  }
 ],
 "metadata": {
  "kernelspec": {
   "display_name": "Python 3 (ipykernel)",
   "language": "python",
   "name": "python3"
  },
  "language_info": {
   "codemirror_mode": {
    "name": "ipython",
    "version": 3
   },
   "file_extension": ".py",
   "mimetype": "text/x-python",
   "name": "python",
   "nbconvert_exporter": "python",
   "pygments_lexer": "ipython3",
   "version": "3.9.16"
  },
  "toc-autonumbering": true
 },
 "nbformat": 4,
 "nbformat_minor": 5
}
