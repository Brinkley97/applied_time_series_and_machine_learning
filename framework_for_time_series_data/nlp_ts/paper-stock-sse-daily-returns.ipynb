{
 "cells": [
  {
   "cell_type": "markdown",
   "id": "c62c292e-96b6-4e20-a645-33334e429a64",
   "metadata": {
    "tags": []
   },
   "source": [
    "# Compare - Shanghai Composite Index\n",
    "\n",
    "1. PAPER: [Financial Time Series Forecasting with the Deep Learning Ensemble Model](https://www.mdpi.com/2227-7390/11/4/1054) by He K., et al. 2023\n",
    "2. NOTE (of stock data):\n",
    "    1. **Raw Data** is mostly non-stationary.\n",
    "    2. **Returns Data** is stationary and also called differenced."
   ]
  },
  {
   "cell_type": "code",
   "execution_count": 1,
   "id": "e949351e-c0a0-45c0-969c-2a1281b9a7d2",
   "metadata": {},
   "outputs": [],
   "source": [
    "import os\n",
    "import sys\n",
    "# Get the current working directory of the notebook\n",
    "notebook_dir = os.getcwd()\n",
    "\n",
    "# Add the parent directory to the system path\n",
    "sys.path.append(os.path.join(notebook_dir, '../tslearn/'))\n",
    "\n",
    "from collections import namedtuple\n",
    "from data_loader import build_stock_uts, build_downloaded_stock_uts\n",
    "from time_series import TimeSeriesFactory\n",
    "from data_plotter import InterpolatePlotter\n",
    "from ts_models import AR, ARMA, ARIMA_model, EvaluationMetric"
   ]
  },
  {
   "cell_type": "markdown",
   "id": "f831e037-f926-4bc8-84ec-fdb30ca7802a",
   "metadata": {},
   "source": [
    "## Stock Data: Analysis\n",
    "\n",
    "1. Load Raw Data\n",
    "2. Plot Raw Data\n",
    "3. Get Descriptive Statistics (ie: mean, median, range, etc) of Raw Data\n",
    "4. Check Stationarity of Raw Data\n",
    "5. Plot Autocorrelation and Partial Autocorrelation of Raw Data\n",
    "6. Get Returns Data\n",
    "7. Plot Returns Data\n",
    "8. Get Descriptive Statistics (ie: mean, median, range, etc) of Returns Data\n",
    "9. Check Stationarity of Returns Data\n",
    "10. Plot Autocorrelation and Partial Autocorrelation of Returns Data\n",
    "\n",
    "## Stock Data: Models\n",
    "\n",
    "11. Split Returns Data\n",
    "12. Initialize Models: `AR(p)` and `ARMA(p, q)`\n",
    "13. Split Raw Data\n",
    "14. Initialize Model: `ARMA(p, d, q)`\n",
    "\n",
    "## Stock Data: Evaluation Metrics + Plots\n",
    "\n",
    "15. Evaluation Metrics `MSE`, `RMSE`\n",
    "16. Plot Actual Predictions vs Model Predictions\n",
    "\n",
    "## Follow-up\n",
    "\n",
    "- Notes on above"
   ]
  },
  {
   "cell_type": "markdown",
   "id": "4a88e0b4",
   "metadata": {},
   "source": [
    "## Stock Data: Analysis"
   ]
  },
  {
   "cell_type": "markdown",
   "id": "3d7f3b89-19a4-48bd-b55f-8a995c3ffc34",
   "metadata": {
    "tags": []
   },
   "source": [
    "### Load Raw Data"
   ]
  },
  {
   "cell_type": "code",
   "execution_count": null,
   "id": "642fbd44-3331-4c7f-9393-5d4e3bccea54",
   "metadata": {},
   "outputs": [],
   "source": [
    "# Only grab stocks whose data is available for the entire time period\n",
    "start_date, end_date = \"2010-01-04\", \"2020-02-07\"\n",
    "Stock = namedtuple(\"Stock\", [\"symbol\", \"name\"])\n",
    "stocks = [\n",
    "    (\"000001.SS\", \"Shanghai Composite Index\")\n",
    "]\n",
    "independent_variable = \"Close\"\n",
    "# # frequency = \n",
    "stocks = [Stock(*s) for s in stocks]\n",
    "stocks = {s.symbol: build_stock_uts(s.symbol, s.name, independent_variable, start_date=start_date, end_date=end_date, frequency='1d') for s in stocks}"
   ]
  },
  {
   "cell_type": "code",
   "execution_count": null,
   "id": "2e27ffe0-a0f2-4ce0-bd89-95e8c26380a7",
   "metadata": {},
   "outputs": [],
   "source": [
    "values_cols = list(stocks.keys())\n",
    "stock_mvts = TimeSeriesFactory.create_time_series(\n",
    "    time_col=\"date\",\n",
    "    time_values=stocks[values_cols[0]].data.index,\n",
    "    values_cols=values_cols,\n",
    "    values=[stock.get_series() for stock in stocks.values()]\n",
    ")"
   ]
  },
  {
   "cell_type": "code",
   "execution_count": null,
   "id": "95d9aaad-a3f5-4edf-924f-fa53b8db0b63",
   "metadata": {},
   "outputs": [],
   "source": [
    "stock_symbol = '000001.SS'\n",
    "stock_of_interest = stocks[stock_symbol]\n",
    "type(stock_of_interest), stock_of_interest"
   ]
  },
  {
   "cell_type": "code",
   "execution_count": null,
   "id": "7267734e",
   "metadata": {},
   "outputs": [],
   "source": [
    "stock_df = stock_of_interest.get_as_df()\n",
    "stock_df"
   ]
  },
  {
   "cell_type": "markdown",
   "id": "061bd548-3d60-4afd-adff-eae596d8bc66",
   "metadata": {},
   "source": [
    "### Plot Raw Data"
   ]
  },
  {
   "cell_type": "code",
   "execution_count": null,
   "id": "13f98930-d6d7-4b07-8d2d-074903a6e085",
   "metadata": {},
   "outputs": [],
   "source": [
    "stock_of_interest.plot(tick_skip=75)"
   ]
  },
  {
   "cell_type": "markdown",
   "id": "48c14cd4-5f3d-4160-9373-cb2ad42b7cd1",
   "metadata": {},
   "source": [
    "### Get Descriptive Statistics of Raw Data"
   ]
  },
  {
   "cell_type": "code",
   "execution_count": null,
   "id": "3e9e2a3f-3626-425e-9eae-e6a6845cf4f4",
   "metadata": {},
   "outputs": [],
   "source": [
    "stock_of_interest.get_statistics()"
   ]
  },
  {
   "cell_type": "code",
   "execution_count": null,
   "id": "77327599-59fe-4953-9f1b-0b84be9d8193",
   "metadata": {},
   "outputs": [],
   "source": [
    "stock_of_interest.range_skewness_kurtosis()"
   ]
  },
  {
   "cell_type": "markdown",
   "id": "9bbdf1c3-d15a-4ea3-919e-b53d3b261b16",
   "metadata": {},
   "source": [
    "### Check Stationarity of Raw Data\n",
    "\n",
    "- With financial data, we expect it to be non-stationary (as in there's a change in either or both the mean of the variance between two distant points)."
   ]
  },
  {
   "cell_type": "code",
   "execution_count": null,
   "id": "d3ba3c33",
   "metadata": {},
   "outputs": [],
   "source": [
    "stock_of_interest.stationarity_test(stock_df)"
   ]
  },
  {
   "cell_type": "markdown",
   "id": "8b0b6ced-ee5e-48b1-ad8e-1577ad6a4977",
   "metadata": {},
   "source": [
    "### Plot Autocorrelation and Partial Autocorrelation of Raw Data\n",
    "\n",
    "- Not required for `AR` or `ARMA` models as both models assumes stationary and the TS is non-stationary."
   ]
  },
  {
   "cell_type": "code",
   "execution_count": null,
   "id": "a0380238-3448-461f-8dd0-27fabd877bd2",
   "metadata": {},
   "outputs": [],
   "source": [
    "stock_of_interest.plot_autocorrelation(50)"
   ]
  },
  {
   "cell_type": "markdown",
   "id": "2871d575-0742-4af2-b34d-0f91e9ff8e7a",
   "metadata": {},
   "source": [
    "- What is the above telling us?\n",
    "    - Both plots are the same, just showing differently. \n",
    "    - Both plots confirm that the TS is non-stationary as in the current value depends on the previous value. We don't want this with traditional TS models like `AR`, `ARMA`."
   ]
  },
  {
   "cell_type": "code",
   "execution_count": null,
   "id": "89f3d388-a056-4ba8-bf3a-dbe0dd6f68f1",
   "metadata": {},
   "outputs": [],
   "source": [
    "stock_of_interest.plot_partial_autocorrelation(35)"
   ]
  },
  {
   "cell_type": "markdown",
   "id": "a849ae48-0179-4ff4-983f-cd8c7c5960a0",
   "metadata": {},
   "source": [
    "- What is the above telling us?\n",
    "    - TS is non-stationary. Although data isn't as dependent (like the ACorr plot), the 1st is dependent upon the 0th. "
   ]
  },
  {
   "cell_type": "markdown",
   "id": "d6c8e56a-155f-4112-a3a3-93a7ed007c6e",
   "metadata": {},
   "source": [
    "### Get Returns Data\n",
    "\n",
    "- This should provide us with stationary data that we can pass to both `AR` and `ARMA` models."
   ]
  },
  {
   "cell_type": "code",
   "execution_count": null,
   "id": "d5771f7f-de38-4ce5-ad14-b9b4a6dd56d2",
   "metadata": {},
   "outputs": [],
   "source": [
    "len(stock_of_interest.get_series()), stock_of_interest.get_series()"
   ]
  },
  {
   "cell_type": "code",
   "execution_count": null,
   "id": "a21cd6ad-a2ad-4e82-8694-7ecb20e3e6e3",
   "metadata": {},
   "outputs": [],
   "source": [
    "stock_returns = stock_of_interest.data_augment_for_returns()\n",
    "stock_returns"
   ]
  },
  {
   "cell_type": "markdown",
   "id": "be23dfd2-822d-416b-9f4e-fb53ca27cf75",
   "metadata": {},
   "source": [
    "### Plot Returns"
   ]
  },
  {
   "cell_type": "code",
   "execution_count": null,
   "id": "cad9ac55-1775-4cfe-9ac6-5593b6ebd3be",
   "metadata": {},
   "outputs": [],
   "source": [
    "stock_returns.plot(tick_skip=150)"
   ]
  },
  {
   "cell_type": "markdown",
   "id": "c83a61d6-fb68-447f-b2eb-e5be2bea9a98",
   "metadata": {},
   "source": [
    "- Returns seem to have constant mean and constant variance although there are a few wide spread mean values between ~2014-10-07 to 2016-05-29 and ~2017-08-22 to 2019-04-14."
   ]
  },
  {
   "cell_type": "code",
   "execution_count": null,
   "id": "21dcf112",
   "metadata": {},
   "outputs": [],
   "source": [
    "stock_returns_df = stock_returns.get_as_df()\n",
    "stock_returns_df"
   ]
  },
  {
   "cell_type": "markdown",
   "id": "70e04edf-6baa-400c-aa1d-5c256ac0af0f",
   "metadata": {},
   "source": [
    "### Get Descriptive Statistics of Returns Data"
   ]
  },
  {
   "cell_type": "code",
   "execution_count": null,
   "id": "72976cc3-7b4d-4b9e-9277-4dfdccbaf83e",
   "metadata": {},
   "outputs": [],
   "source": [
    "stock_returns.get_statistics()"
   ]
  },
  {
   "cell_type": "code",
   "execution_count": null,
   "id": "2bda68c9",
   "metadata": {},
   "outputs": [],
   "source": [
    "stock_returns.range_skewness_kurtosis()"
   ]
  },
  {
   "cell_type": "markdown",
   "id": "28403abf-10ff-4db0-8aaf-959c2a7ec554",
   "metadata": {},
   "source": [
    "### Check Stationarity of Returns Data\n",
    "\n",
    "- Data is now stationary. Confirm with independence test which is only conducted on returns and has a null-hypothesis of data being independent (or not dependent)."
   ]
  },
  {
   "cell_type": "code",
   "execution_count": null,
   "id": "b2f4ccf5-12c4-4f39-8612-d5cfafb688e1",
   "metadata": {},
   "outputs": [],
   "source": [
    "stock_returns.stationarity_test(stock_returns_df)"
   ]
  },
  {
   "cell_type": "code",
   "execution_count": null,
   "id": "2bb2dafa",
   "metadata": {},
   "outputs": [],
   "source": [
    "stock_returns.independence_test(stock_returns_df)"
   ]
  },
  {
   "cell_type": "markdown",
   "id": "9585f17c-dbc2-4037-93a2-bc2819743d12",
   "metadata": {},
   "source": [
    "### Plot Autocorrelation and Partial Autocorrelation of Returns Data"
   ]
  },
  {
   "cell_type": "code",
   "execution_count": null,
   "id": "e597074d-4589-4013-9ef5-fc44248f981c",
   "metadata": {},
   "outputs": [],
   "source": [
    "stock_returns.plot_autocorrelation(50)"
   ]
  },
  {
   "cell_type": "markdown",
   "id": "d0a35359-d640-4b30-8745-f1c6ec1f01ea",
   "metadata": {},
   "source": [
    "- What is the above telling us?\n",
    "    - Both plots are the same, just showing differently. \n",
    "    - Both plots confirm that the TS is stationary as in the current value doesn't depend on the previous value. This is what we want for `MA(q)`.\n",
    "    - Lag exponentially decays at 1, thus use lag 1 for `MA(q)` as they have in the PAPER.\n"
   ]
  },
  {
   "cell_type": "code",
   "execution_count": null,
   "id": "013122d0-24fb-4c9c-9925-1c4979481c8e",
   "metadata": {},
   "outputs": [],
   "source": [
    "stock_returns.plot_partial_autocorrelation(50)"
   ]
  },
  {
   "cell_type": "markdown",
   "id": "d6b4f2b3",
   "metadata": {},
   "source": [
    "- What is the above telling us?\n",
    "    - TS is stationary. The 1st is not dependent upon the 0th. This is what we want for `AR(p)`.\n",
    "    - Lag exponentially decays at 1, thus use lag 1 for `AR(p)` as they have in the PAPER."
   ]
  },
  {
   "cell_type": "markdown",
   "id": "9b90dee3",
   "metadata": {},
   "source": [
    "## Stock Data: Models"
   ]
  },
  {
   "cell_type": "markdown",
   "id": "6389e78e",
   "metadata": {},
   "source": [
    "### Split Differenced Data for AR(p) and ARMA(p, q) Models\n",
    "\n",
    "- Make 5-day forecasts"
   ]
  },
  {
   "cell_type": "code",
   "execution_count": null,
   "id": "d241262c",
   "metadata": {},
   "outputs": [],
   "source": [
    "interpolation_step = 5\n",
    "N = len(stock_returns.get_series())\n",
    "diff_train_length = N - interpolation_step"
   ]
  },
  {
   "cell_type": "code",
   "execution_count": null,
   "id": "348bdabe",
   "metadata": {},
   "outputs": [],
   "source": [
    "diff_train_uts, diff_test_uts = stock_returns.get_slice(1, diff_train_length, both_train_test=True)\n",
    "diff_train_uts, diff_test_uts"
   ]
  },
  {
   "cell_type": "code",
   "execution_count": null,
   "id": "76334684",
   "metadata": {},
   "outputs": [],
   "source": [
    "diff_train_df = diff_train_uts.get_as_df()\n",
    "diff_train_df"
   ]
  },
  {
   "cell_type": "markdown",
   "id": "7ebc9cac",
   "metadata": {},
   "source": [
    "- Make 5-day forecasts, hence why test data is only 5 values."
   ]
  },
  {
   "cell_type": "code",
   "execution_count": null,
   "id": "e01b68a1",
   "metadata": {},
   "outputs": [],
   "source": [
    "diff_test_df = diff_test_uts.get_as_df()\n",
    "diff_test_df"
   ]
  },
  {
   "cell_type": "markdown",
   "id": "e7bb9bc8",
   "metadata": {},
   "source": [
    "### Initialize Models: AR(p) and ARMA(p, q)"
   ]
  },
  {
   "cell_type": "code",
   "execution_count": null,
   "id": "02e5f54b",
   "metadata": {},
   "outputs": [],
   "source": [
    "lag_p = 1 # AR\n",
    "error_q = 1 # MA"
   ]
  },
  {
   "cell_type": "code",
   "execution_count": null,
   "id": "65c50655-31a8-4321-b202-ecb26b8c7384",
   "metadata": {},
   "outputs": [],
   "source": [
    "ar_model_class = AR()\n",
    "trained_ar_model = ar_model_class.train_ar_model(diff_train_df, lag_p)\n",
    "trained_ar_model"
   ]
  },
  {
   "cell_type": "code",
   "execution_count": null,
   "id": "10249bf2",
   "metadata": {},
   "outputs": [],
   "source": [
    "trained_ar_model.summary()"
   ]
  },
  {
   "cell_type": "code",
   "execution_count": null,
   "id": "39f28597-3024-482e-a263-a7b6a6c0b1d0",
   "metadata": {},
   "outputs": [],
   "source": [
    "arma_model_class = ARMA()\n",
    "trained_arma_model = arma_model_class.train_arma_model(diff_train_df, lag_p, error_q)\n",
    "trained_arma_model"
   ]
  },
  {
   "cell_type": "code",
   "execution_count": null,
   "id": "fc7a80a9-4132-4a03-8d82-56b005dd2f13",
   "metadata": {},
   "outputs": [],
   "source": [
    "trained_arma_model.summary()"
   ]
  },
  {
   "cell_type": "code",
   "execution_count": null,
   "id": "c2677c5b-d2ab-44b7-afbe-266b1d933e0f",
   "metadata": {},
   "outputs": [],
   "source": [
    "print('Coefficients: %s' % trained_arma_model.params)"
   ]
  },
  {
   "cell_type": "markdown",
   "id": "d08ec4ec-f599-42af-9ddf-52e7aa6f5e48",
   "metadata": {},
   "source": [
    "NOTE: Should Dep. Variable be t as t depends on t - 1?"
   ]
  },
  {
   "cell_type": "code",
   "execution_count": null,
   "id": "2f132657-a966-4d25-8041-cabda66f88bf",
   "metadata": {},
   "outputs": [],
   "source": [
    "# retrain false\n",
    "ar_predictions_no_retrain = ar_model_class.predict(trained_ar_model, diff_train_df, diff_test_df, False, lag_p)\n",
    "\n",
    "# retrain true\n",
    "ar_predictions_retrain = ar_model_class.predict(trained_ar_model, diff_train_df, diff_test_df, True, lag_p)\n",
    "\n",
    "# retrain false\n",
    "arma_predictions_no_retrain = arma_model_class.predict(trained_arma_model, diff_train_df, diff_test_df, False, lag_p)\n",
    "\n",
    "# retrain true\n",
    "arma_predictions_retrain = arma_model_class.predict(trained_arma_model, diff_train_df, diff_test_df, True, lag_p)"
   ]
  },
  {
   "cell_type": "code",
   "execution_count": null,
   "id": "936c3a7c-5716-45c7-9415-63094ab55ec9",
   "metadata": {},
   "outputs": [],
   "source": [
    "len(diff_test_df), len(ar_predictions_no_retrain), len(ar_predictions_retrain), len(arma_predictions_no_retrain), len(arma_predictions_retrain)"
   ]
  },
  {
   "cell_type": "markdown",
   "id": "3d5630a7",
   "metadata": {},
   "source": [
    "### Split Raw Data for ARIMA(p, d, q) Model\n",
    "\n",
    "- Make 5-day forecasts"
   ]
  },
  {
   "cell_type": "code",
   "execution_count": null,
   "id": "5e0315f1",
   "metadata": {},
   "outputs": [],
   "source": [
    "interpolation_step = 5\n",
    "N = len(stock_of_interest.get_series())\n",
    "train_length = N - interpolation_step\n",
    "train_length"
   ]
  },
  {
   "cell_type": "code",
   "execution_count": null,
   "id": "c7c035b9",
   "metadata": {},
   "outputs": [],
   "source": [
    "train_uts, test_uts = stock_of_interest.get_slice(1, train_length, both_train_test=True)\n",
    "train_uts, test_uts"
   ]
  },
  {
   "cell_type": "code",
   "execution_count": null,
   "id": "d65cf0b8",
   "metadata": {},
   "outputs": [],
   "source": [
    "train_df = train_uts.get_as_df()\n",
    "train_df"
   ]
  },
  {
   "cell_type": "code",
   "execution_count": null,
   "id": "9d4a4092",
   "metadata": {},
   "outputs": [],
   "source": [
    "test_df = test_uts.get_as_df()\n",
    "test_df"
   ]
  },
  {
   "cell_type": "markdown",
   "id": "14d9f6b0",
   "metadata": {},
   "source": [
    "### Initialize Models: ARIMA(p, d, q)"
   ]
  },
  {
   "cell_type": "code",
   "execution_count": null,
   "id": "02918456",
   "metadata": {},
   "outputs": [],
   "source": [
    "diff_d = 1\n",
    "\n",
    "arima_model_class = ARIMA_model()\n",
    "arima_model_class"
   ]
  },
  {
   "cell_type": "code",
   "execution_count": null,
   "id": "ab338cef",
   "metadata": {},
   "outputs": [],
   "source": [
    "trained_arima_model = arima_model_class.train_arima_model(train_df, lag_p, diff_d, error_q)\n",
    "trained_arima_model"
   ]
  },
  {
   "cell_type": "code",
   "execution_count": null,
   "id": "68a85d93",
   "metadata": {},
   "outputs": [],
   "source": [
    "trained_arima_model.summary()"
   ]
  },
  {
   "cell_type": "code",
   "execution_count": null,
   "id": "d5f421f1",
   "metadata": {},
   "outputs": [],
   "source": [
    "print('Coefficients: %s' % trained_arima_model.params)"
   ]
  },
  {
   "cell_type": "code",
   "execution_count": null,
   "id": "0b8e5e4f",
   "metadata": {},
   "outputs": [],
   "source": [
    "# retrain false\n",
    "arima_predictions_no_retrain = arima_model_class.predict(trained_arima_model, train_df, test_df, False, lag_p)\n",
    "\n",
    "# retrain true\n",
    "arima_predictions_retrain = arima_model_class.predict(trained_arima_model, train_df, test_df, True, lag_p)\n",
    "\n",
    "len(test_df), len(arima_predictions_no_retrain), len(arima_predictions_retrain)"
   ]
  },
  {
   "cell_type": "markdown",
   "id": "c711081f",
   "metadata": {},
   "source": [
    "## Stock Data: Evaluation Metrics + Plots"
   ]
  },
  {
   "cell_type": "markdown",
   "id": "e598c636-741f-4a36-8aa6-999cf312651f",
   "metadata": {},
   "source": [
    "### Evaluation Metrics: MSE, RMSE"
   ]
  },
  {
   "cell_type": "code",
   "execution_count": null,
   "id": "5c30cb9f-95e3-413b-bbb1-3383b9134115",
   "metadata": {},
   "outputs": [],
   "source": [
    "# AR\n",
    "EvaluationMetric.eval_mse(diff_test_df, ar_predictions_no_retrain, per_element=False)\n",
    "EvaluationMetric.eval_rmse(diff_test_df, ar_predictions_no_retrain, per_element=False)\n",
    "EvaluationMetric.eval_mse(diff_test_df, ar_predictions_retrain, per_element=False)\n",
    "EvaluationMetric.eval_rmse(diff_test_df, ar_predictions_retrain, per_element=False)\n",
    "\n",
    "# ARMA\n",
    "EvaluationMetric.eval_mse(diff_test_df, arma_predictions_no_retrain, per_element=False)\n",
    "EvaluationMetric.eval_rmse(diff_test_df, arma_predictions_no_retrain, per_element=False)\n",
    "EvaluationMetric.eval_mse(diff_test_df, arma_predictions_retrain, per_element=False)\n",
    "EvaluationMetric.eval_rmse(diff_test_df, arma_predictions_retrain, per_element=False)\n",
    "\n",
    "# ARIMA\n",
    "EvaluationMetric.eval_mse(diff_test_df, arima_predictions_no_retrain, per_element=False)\n",
    "EvaluationMetric.eval_rmse(diff_test_df, arima_predictions_no_retrain, per_element=False)\n",
    "EvaluationMetric.eval_mse(diff_test_df, arima_predictions_retrain, per_element=False)\n",
    "EvaluationMetric.eval_rmse(diff_test_df, arima_predictions_retrain, per_element=False)"
   ]
  },
  {
   "cell_type": "markdown",
   "id": "b6d4b317",
   "metadata": {},
   "source": [
    "### Plots Actual Predictions vs Model Predictions\n",
    "- Need to finish plots"
   ]
  },
  {
   "cell_type": "code",
   "execution_count": null,
   "id": "eafd14f8",
   "metadata": {},
   "outputs": [],
   "source": []
  },
  {
   "cell_type": "code",
   "execution_count": null,
   "id": "a9490b10",
   "metadata": {},
   "outputs": [],
   "source": [
    "prediction_plots = InterpolatePlotter(diff_test_df, ar_predictions_no_retrain)\n",
    "prediction_plots.plot_in_sample_predictions()"
   ]
  },
  {
   "cell_type": "markdown",
   "id": "8cf9e730",
   "metadata": {},
   "source": [
    "## Follow-up"
   ]
  },
  {
   "cell_type": "markdown",
   "id": "d874b4b6",
   "metadata": {},
   "source": []
  }
 ],
 "metadata": {
  "kernelspec": {
   "display_name": "Python 3 (ipykernel)",
   "language": "python",
   "name": "python3"
  },
  "language_info": {
   "codemirror_mode": {
    "name": "ipython",
    "version": 3
   },
   "file_extension": ".py",
   "mimetype": "text/x-python",
   "name": "python",
   "nbconvert_exporter": "python",
   "pygments_lexer": "ipython3",
   "version": "3.9.16"
  },
  "toc-autonumbering": true
 },
 "nbformat": 4,
 "nbformat_minor": 5
}
