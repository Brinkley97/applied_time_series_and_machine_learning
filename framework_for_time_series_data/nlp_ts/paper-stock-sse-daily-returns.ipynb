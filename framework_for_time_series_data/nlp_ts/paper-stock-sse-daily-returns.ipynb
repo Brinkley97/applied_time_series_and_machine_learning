{
 "cells": [
  {
   "cell_type": "markdown",
   "id": "c62c292e-96b6-4e20-a645-33334e429a64",
   "metadata": {
    "tags": []
   },
   "source": [
    "# Compare - Shanghai Composite Index\n",
    "\n",
    "1. PAPER: [Financial Time Series Forecasting with the Deep Learning Ensemble Model](https://www.mdpi.com/2227-7390/11/4/1054) by He K., et al. 2023\n",
    "2. NOTE (of stock data):\n",
    "    1. **Raw Data** is mostly non-stationary.\n",
    "    2. **Returns Data** is stationary and also called differenced."
   ]
  },
  {
   "cell_type": "code",
   "execution_count": 1,
   "id": "e949351e-c0a0-45c0-969c-2a1281b9a7d2",
   "metadata": {},
   "outputs": [],
   "source": [
    "import os\n",
    "import sys\n",
    "# Get the current working directory of the notebook\n",
    "notebook_dir = os.getcwd()\n",
    "\n",
    "# Add the parent directory to the system path\n",
    "sys.path.append(os.path.join(notebook_dir, '../tslearn/'))\n",
    "\n",
    "from collections import namedtuple\n",
    "from data_loader import build_stock_uts, build_downloaded_stock_uts\n",
    "from time_series import TimeSeriesFactory\n",
    "from data_plotter import InterpolatePlotter\n",
    "from ts_models_no_retrain import AR_Model, MA_Model, ARMA_Model, ARIMA_Model, EvaluationMetric"
   ]
  },
  {
   "cell_type": "markdown",
   "id": "f831e037-f926-4bc8-84ec-fdb30ca7802a",
   "metadata": {},
   "source": [
    "## Stock Data: Analysis\n",
    "\n",
    "1. Load Raw Data\n",
    "2. Plot Raw Data\n",
    "3. Get Descriptive Statistics (ie: mean, median, range, etc) of Raw Data\n",
    "4. Check Stationarity of Raw Data\n",
    "5. Plot Autocorrelation and Partial Autocorrelation of Raw Data\n",
    "6. Get Returns Data\n",
    "7. Plot Returns Data\n",
    "8. Get Descriptive Statistics (ie: mean, median, range, etc) of Returns Data\n",
    "9. Check Stationarity of Returns Data\n",
    "10. Plot Autocorrelation and Partial Autocorrelation of Returns Data\n",
    "\n",
    "## Stock Data: Models\n",
    "\n",
    "11. Split Returns Data\n",
    "12. Initialize Models: `AR(p)` and `ARMA(p, q)`\n",
    "13. Split Raw Data\n",
    "14. Initialize Model: `ARMA(p, d, q)`\n",
    "\n",
    "## Stock Data: Evaluation Metrics + Plots\n",
    "\n",
    "15. Evaluation Metrics `MSE`, `RMSE`\n",
    "16. Plot Actual Predictions vs Model Predictions\n",
    "\n",
    "## Follow-up\n",
    "\n",
    "- Notes on above"
   ]
  },
  {
   "cell_type": "markdown",
   "id": "4a88e0b4",
   "metadata": {},
   "source": [
    "## Stock Data: Analysis"
   ]
  },
  {
   "cell_type": "markdown",
   "id": "3d7f3b89-19a4-48bd-b55f-8a995c3ffc34",
   "metadata": {
    "tags": []
   },
   "source": [
    "### Load Raw Data"
   ]
  },
  {
   "cell_type": "code",
   "execution_count": 2,
   "id": "642fbd44-3331-4c7f-9393-5d4e3bccea54",
   "metadata": {},
   "outputs": [
    {
     "name": "stderr",
     "output_type": "stream",
     "text": [
      "[*********************100%***********************]  1 of 1 completed"
     ]
    },
    {
     "name": "stdout",
     "output_type": "stream",
     "text": [
      "DatetimeIndex(['2010-01-04', '2010-01-05', '2010-01-06', '2010-01-07',\n",
      "               '2010-01-08', '2010-01-11', '2010-01-12', '2010-01-13',\n",
      "               '2010-01-14', '2010-01-15',\n",
      "               ...\n",
      "               '2020-01-16', '2020-01-17', '2020-01-20', '2020-01-21',\n",
      "               '2020-01-22', '2020-01-23', '2020-02-03', '2020-02-04',\n",
      "               '2020-02-05', '2020-02-06'],\n",
      "              dtype='datetime64[ns]', name='Date', length=2447, freq=None)\n"
     ]
    },
    {
     "name": "stderr",
     "output_type": "stream",
     "text": [
      "\n"
     ]
    }
   ],
   "source": [
    "# Only grab stocks whose data is available for the entire time period\n",
    "start_date, end_date = \"2010-01-04\", \"2020-02-07\"\n",
    "Stock = namedtuple(\"Stock\", [\"symbol\", \"name\"])\n",
    "stocks = [\n",
    "    (\"000001.SS\", \"Shanghai Composite Index\"),\n",
    "    # (\"000001.SS\", \"Shanghai Composite Index\")\n",
    "]\n",
    "independent_variable = \"Close\"\n",
    "# # frequency = \n",
    "stocks = [Stock(*s) for s in stocks]\n",
    "stocks = {s.symbol: build_stock_uts(s.symbol, s.name, independent_variable, start_date=start_date, end_date=end_date, frequency='1d') for s in stocks}"
   ]
  },
  {
   "cell_type": "code",
   "execution_count": 3,
   "id": "2e27ffe0-a0f2-4ce0-bd89-95e8c26380a7",
   "metadata": {},
   "outputs": [
    {
     "name": "stdout",
     "output_type": "stream",
     "text": [
      "Len [2447]\n",
      "Len [2447]\n",
      "DatetimeIndex(['2010-01-04', '2010-01-05', '2010-01-06', '2010-01-07',\n",
      "               '2010-01-08', '2010-01-11', '2010-01-12', '2010-01-13',\n",
      "               '2010-01-14', '2010-01-15',\n",
      "               ...\n",
      "               '2020-01-16', '2020-01-17', '2020-01-20', '2020-01-21',\n",
      "               '2020-01-22', '2020-01-23', '2020-02-03', '2020-02-04',\n",
      "               '2020-02-05', '2020-02-06'],\n",
      "              dtype='datetime64[ns]', name='Date', length=2447, freq=None)\n"
     ]
    }
   ],
   "source": [
    "values_cols = list(stocks.keys())\n",
    "stock_mvts = TimeSeriesFactory.create_time_series(\n",
    "    time_col=\"date\",\n",
    "    time_values=stocks[values_cols[0]].data.index,\n",
    "    values_cols=values_cols,\n",
    "    values=[stock.get_series() for stock in stocks.values()]\n",
    ")"
   ]
  },
  {
   "cell_type": "code",
   "execution_count": 4,
   "id": "95d9aaad-a3f5-4edf-924f-fa53b8db0b63",
   "metadata": {},
   "outputs": [
    {
     "data": {
      "text/plain": [
       "(time_series.UnivariateTimeSeries, UnivariateTimeSeries(Close))"
      ]
     },
     "execution_count": 4,
     "metadata": {},
     "output_type": "execute_result"
    }
   ],
   "source": [
    "stock_symbol = '000001.SS'\n",
    "stock_of_interest = stocks[stock_symbol]\n",
    "type(stock_of_interest), stock_of_interest"
   ]
  },
  {
   "cell_type": "code",
   "execution_count": 5,
   "id": "7267734e",
   "metadata": {},
   "outputs": [
    {
     "data": {
      "text/html": [
       "<div>\n",
       "<style scoped>\n",
       "    .dataframe tbody tr th:only-of-type {\n",
       "        vertical-align: middle;\n",
       "    }\n",
       "\n",
       "    .dataframe tbody tr th {\n",
       "        vertical-align: top;\n",
       "    }\n",
       "\n",
       "    .dataframe thead th {\n",
       "        text-align: right;\n",
       "    }\n",
       "</style>\n",
       "<table border=\"1\" class=\"dataframe\">\n",
       "  <thead>\n",
       "    <tr style=\"text-align: right;\">\n",
       "      <th></th>\n",
       "      <th>Close</th>\n",
       "    </tr>\n",
       "    <tr>\n",
       "      <th>Date</th>\n",
       "      <th></th>\n",
       "    </tr>\n",
       "  </thead>\n",
       "  <tbody>\n",
       "    <tr>\n",
       "      <th>2010-01-04</th>\n",
       "      <td>3243.760010</td>\n",
       "    </tr>\n",
       "    <tr>\n",
       "      <th>2010-01-05</th>\n",
       "      <td>3282.178955</td>\n",
       "    </tr>\n",
       "    <tr>\n",
       "      <th>2010-01-06</th>\n",
       "      <td>3254.215088</td>\n",
       "    </tr>\n",
       "    <tr>\n",
       "      <th>2010-01-07</th>\n",
       "      <td>3192.775879</td>\n",
       "    </tr>\n",
       "    <tr>\n",
       "      <th>2010-01-08</th>\n",
       "      <td>3195.997070</td>\n",
       "    </tr>\n",
       "    <tr>\n",
       "      <th>...</th>\n",
       "      <td>...</td>\n",
       "    </tr>\n",
       "    <tr>\n",
       "      <th>2020-01-23</th>\n",
       "      <td>2976.528076</td>\n",
       "    </tr>\n",
       "    <tr>\n",
       "      <th>2020-02-03</th>\n",
       "      <td>2746.605957</td>\n",
       "    </tr>\n",
       "    <tr>\n",
       "      <th>2020-02-04</th>\n",
       "      <td>2783.288086</td>\n",
       "    </tr>\n",
       "    <tr>\n",
       "      <th>2020-02-05</th>\n",
       "      <td>2818.087891</td>\n",
       "    </tr>\n",
       "    <tr>\n",
       "      <th>2020-02-06</th>\n",
       "      <td>2866.510010</td>\n",
       "    </tr>\n",
       "  </tbody>\n",
       "</table>\n",
       "<p>2447 rows × 1 columns</p>\n",
       "</div>"
      ],
      "text/plain": [
       "                  Close\n",
       "Date                   \n",
       "2010-01-04  3243.760010\n",
       "2010-01-05  3282.178955\n",
       "2010-01-06  3254.215088\n",
       "2010-01-07  3192.775879\n",
       "2010-01-08  3195.997070\n",
       "...                 ...\n",
       "2020-01-23  2976.528076\n",
       "2020-02-03  2746.605957\n",
       "2020-02-04  2783.288086\n",
       "2020-02-05  2818.087891\n",
       "2020-02-06  2866.510010\n",
       "\n",
       "[2447 rows x 1 columns]"
      ]
     },
     "execution_count": 5,
     "metadata": {},
     "output_type": "execute_result"
    }
   ],
   "source": [
    "stock_df = stock_of_interest.get_as_df()\n",
    "stock_df"
   ]
  },
  {
   "cell_type": "markdown",
   "id": "061bd548-3d60-4afd-adff-eae596d8bc66",
   "metadata": {},
   "source": [
    "### Plot Raw Data"
   ]
  },
  {
   "cell_type": "code",
   "execution_count": 6,
   "id": "13f98930-d6d7-4b07-8d2d-074903a6e085",
   "metadata": {},
   "outputs": [
    {
     "data": {
      "image/png": "[encoded data removed]",
      "text/plain": [
       "<Figure size 2000x500 with 1 Axes>"
      ]
     },
     "metadata": {},
     "output_type": "display_data"
    }
   ],
   "source": [
    "stock_of_interest.plot(tick_skip=75)"
   ]
  },
  {
   "cell_type": "markdown",
   "id": "48c14cd4-5f3d-4160-9373-cb2ad42b7cd1",
   "metadata": {},
   "source": [
    "### Get Descriptive Statistics of Raw Data"
   ]
  },
  {
   "cell_type": "code",
   "execution_count": 8,
   "id": "3e9e2a3f-3626-425e-9eae-e6a6845cf4f4",
   "metadata": {},
   "outputs": [
    {
     "name": "stderr",
     "output_type": "stream",
     "text": [
      "/Users/detraviousjamaribrinkley/Documents/Development/self/applied_time_series_and_machine_learning/framework_for_time_series_data/nlp_ts/../tslearn/time_series.py:195: FutureWarning: Calling int on a single element Series is deprecated and will raise a TypeError in the future. Use int(ser.iloc[0]) instead\n",
      "  count_value = int(stats.loc['count'])\n"
     ]
    },
    {
     "data": {
      "text/html": [
       "<div>\n",
       "<style scoped>\n",
       "    .dataframe tbody tr th:only-of-type {\n",
       "        vertical-align: middle;\n",
       "    }\n",
       "\n",
       "    .dataframe tbody tr th {\n",
       "        vertical-align: top;\n",
       "    }\n",
       "\n",
       "    .dataframe thead th {\n",
       "        text-align: right;\n",
       "    }\n",
       "</style>\n",
       "<table border=\"1\" class=\"dataframe\">\n",
       "  <thead>\n",
       "    <tr style=\"text-align: right;\">\n",
       "      <th></th>\n",
       "      <th>Close</th>\n",
       "    </tr>\n",
       "  </thead>\n",
       "  <tbody>\n",
       "    <tr>\n",
       "      <th>total Days</th>\n",
       "      <td>2447.0</td>\n",
       "    </tr>\n",
       "    <tr>\n",
       "      <th>most recent date</th>\n",
       "      <td>2015-06-12 00:00:00</td>\n",
       "    </tr>\n",
       "    <tr>\n",
       "      <th>inception date</th>\n",
       "      <td>2013-06-27 00:00:00</td>\n",
       "    </tr>\n",
       "    <tr>\n",
       "      <th>lowest price</th>\n",
       "      <td>1950.01</td>\n",
       "    </tr>\n",
       "    <tr>\n",
       "      <th>highest price</th>\n",
       "      <td>5166.35</td>\n",
       "    </tr>\n",
       "    <tr>\n",
       "      <th>average price</th>\n",
       "      <td>2801.36</td>\n",
       "    </tr>\n",
       "    <tr>\n",
       "      <th>range</th>\n",
       "      <td>3216.34</td>\n",
       "    </tr>\n",
       "    <tr>\n",
       "      <th>price volatility</th>\n",
       "      <td>529.3</td>\n",
       "    </tr>\n",
       "    <tr>\n",
       "      <th>25th percentile price</th>\n",
       "      <td>2346.35</td>\n",
       "    </tr>\n",
       "    <tr>\n",
       "      <th>median price</th>\n",
       "      <td>2859.76</td>\n",
       "    </tr>\n",
       "    <tr>\n",
       "      <th>75th percentile price</th>\n",
       "      <td>3128.27</td>\n",
       "    </tr>\n",
       "    <tr>\n",
       "      <th>skewness</th>\n",
       "      <td>0.748993</td>\n",
       "    </tr>\n",
       "    <tr>\n",
       "      <th>kurtosis</th>\n",
       "      <td>1.537912</td>\n",
       "    </tr>\n",
       "  </tbody>\n",
       "</table>\n",
       "</div>"
      ],
      "text/plain": [
       "                                     Close\n",
       "total Days                          2447.0\n",
       "most recent date       2015-06-12 00:00:00\n",
       "inception date         2013-06-27 00:00:00\n",
       "lowest price                       1950.01\n",
       "highest price                      5166.35\n",
       "average price                      2801.36\n",
       "range                              3216.34\n",
       "price volatility                     529.3\n",
       "25th percentile price              2346.35\n",
       "median price                       2859.76\n",
       "75th percentile price              3128.27\n",
       "skewness                          0.748993\n",
       "kurtosis                          1.537912"
      ]
     },
     "execution_count": 8,
     "metadata": {},
     "output_type": "execute_result"
    }
   ],
   "source": [
    "stock_of_interest.get_statistics(time_type=\"Days\", stock_data=True)"
   ]
  },
  {
   "cell_type": "code",
   "execution_count": null,
   "id": "77327599-59fe-4953-9f1b-0b84be9d8193",
   "metadata": {},
   "outputs": [],
   "source": [
    "stock_of_interest.range_skewness_kurtosis()"
   ]
  },
  {
   "cell_type": "markdown",
   "id": "9bbdf1c3-d15a-4ea3-919e-b53d3b261b16",
   "metadata": {},
   "source": [
    "### Check Stationarity of Raw Data\n",
    "\n",
    "- With financial data, we expect it to be non-stationary (as in there's a change in either or both the mean of the variance between two distant points)."
   ]
  },
  {
   "cell_type": "code",
   "execution_count": null,
   "id": "d3ba3c33",
   "metadata": {},
   "outputs": [],
   "source": [
    "stock_of_interest.stationarity_test(stock_df)"
   ]
  },
  {
   "cell_type": "markdown",
   "id": "8b0b6ced-ee5e-48b1-ad8e-1577ad6a4977",
   "metadata": {},
   "source": [
    "### Plot Autocorrelation and Partial Autocorrelation of Raw Data\n",
    "\n",
    "- Not required for `AR` or `ARMA` models as both models assumes stationary and the TS is non-stationary."
   ]
  },
  {
   "cell_type": "code",
   "execution_count": null,
   "id": "a0380238-3448-461f-8dd0-27fabd877bd2",
   "metadata": {},
   "outputs": [],
   "source": [
    "stock_of_interest.plot_autocorrelation(50)"
   ]
  },
  {
   "cell_type": "markdown",
   "id": "2871d575-0742-4af2-b34d-0f91e9ff8e7a",
   "metadata": {},
   "source": [
    "- What is the above telling us?\n",
    "    - Both plots are the same, just showing differently. \n",
    "    - Both plots confirm that the TS is non-stationary as in the current value depends on the previous value. We don't want this with traditional TS models like `AR`, `ARMA`."
   ]
  },
  {
   "cell_type": "code",
   "execution_count": null,
   "id": "89f3d388-a056-4ba8-bf3a-dbe0dd6f68f1",
   "metadata": {},
   "outputs": [],
   "source": [
    "stock_of_interest.plot_partial_autocorrelation(35)"
   ]
  },
  {
   "cell_type": "markdown",
   "id": "a849ae48-0179-4ff4-983f-cd8c7c5960a0",
   "metadata": {},
   "source": [
    "- What is the above telling us?\n",
    "    - TS is non-stationary. Although data isn't as dependent (like the ACorr plot), the 1st is dependent upon the 0th. "
   ]
  },
  {
   "cell_type": "markdown",
   "id": "d6c8e56a-155f-4112-a3a3-93a7ed007c6e",
   "metadata": {},
   "source": [
    "### Get Returns Data\n",
    "\n",
    "- This should provide us with stationary data that we can pass to both `AR` and `ARMA` models."
   ]
  },
  {
   "cell_type": "code",
   "execution_count": null,
   "id": "d5771f7f-de38-4ce5-ad14-b9b4a6dd56d2",
   "metadata": {},
   "outputs": [],
   "source": [
    "len(stock_of_interest.get_series()), stock_of_interest.get_series()"
   ]
  },
  {
   "cell_type": "code",
   "execution_count": null,
   "id": "a21cd6ad-a2ad-4e82-8694-7ecb20e3e6e3",
   "metadata": {},
   "outputs": [],
   "source": [
    "stock_returns = stock_of_interest.data_augment_for_returns()\n",
    "stock_returns"
   ]
  },
  {
   "cell_type": "markdown",
   "id": "be23dfd2-822d-416b-9f4e-fb53ca27cf75",
   "metadata": {},
   "source": [
    "### Plot Returns"
   ]
  },
  {
   "cell_type": "code",
   "execution_count": null,
   "id": "cad9ac55-1775-4cfe-9ac6-5593b6ebd3be",
   "metadata": {},
   "outputs": [],
   "source": [
    "stock_returns.plot(tick_skip=150)"
   ]
  },
  {
   "cell_type": "markdown",
   "id": "c83a61d6-fb68-447f-b2eb-e5be2bea9a98",
   "metadata": {},
   "source": [
    "- Returns seem to have constant mean and constant variance although there are a few wide spread mean values between ~2014-10-07 to 2016-05-29 and ~2017-08-22 to 2019-04-14."
   ]
  },
  {
   "cell_type": "code",
   "execution_count": null,
   "id": "21dcf112",
   "metadata": {},
   "outputs": [],
   "source": [
    "stock_returns_df = stock_returns.get_as_df()\n",
    "stock_returns_df"
   ]
  },
  {
   "cell_type": "markdown",
   "id": "70e04edf-6baa-400c-aa1d-5c256ac0af0f",
   "metadata": {},
   "source": [
    "### Get Descriptive Statistics of Returns Data"
   ]
  },
  {
   "cell_type": "code",
   "execution_count": null,
   "id": "72976cc3-7b4d-4b9e-9277-4dfdccbaf83e",
   "metadata": {},
   "outputs": [],
   "source": [
    "stock_returns.get_statistics()"
   ]
  },
  {
   "cell_type": "code",
   "execution_count": null,
   "id": "2bda68c9",
   "metadata": {},
   "outputs": [],
   "source": [
    "stock_returns.range_skewness_kurtosis()"
   ]
  },
  {
   "cell_type": "markdown",
   "id": "28403abf-10ff-4db0-8aaf-959c2a7ec554",
   "metadata": {},
   "source": [
    "### Check Stationarity of Returns Data\n",
    "\n",
    "- Data is now stationary. Confirm with independence test which is only conducted on returns and has a null-hypothesis of data being independent (or not dependent)."
   ]
  },
  {
   "cell_type": "code",
   "execution_count": null,
   "id": "b2f4ccf5-12c4-4f39-8612-d5cfafb688e1",
   "metadata": {},
   "outputs": [],
   "source": [
    "stock_returns.stationarity_test(stock_returns_df)"
   ]
  },
  {
   "cell_type": "code",
   "execution_count": null,
   "id": "2bb2dafa",
   "metadata": {},
   "outputs": [],
   "source": [
    "stock_returns.independence_test(stock_returns_df)"
   ]
  },
  {
   "cell_type": "markdown",
   "id": "9585f17c-dbc2-4037-93a2-bc2819743d12",
   "metadata": {},
   "source": [
    "### Plot Autocorrelation and Partial Autocorrelation of Returns Data"
   ]
  },
  {
   "cell_type": "code",
   "execution_count": null,
   "id": "e597074d-4589-4013-9ef5-fc44248f981c",
   "metadata": {},
   "outputs": [],
   "source": [
    "stock_returns.plot_autocorrelation(50)"
   ]
  },
  {
   "cell_type": "markdown",
   "id": "d0a35359-d640-4b30-8745-f1c6ec1f01ea",
   "metadata": {},
   "source": [
    "- What is the above telling us?\n",
    "    - Both plots are the same, just showing differently. \n",
    "    - Both plots confirm that the TS is stationary as in the current value doesn't depend on the previous value. This is what we want for `MA(q)`.\n",
    "    - Lag exponentially decays at 1, thus use lag 1 for `MA(q)` as they have in the PAPER.\n"
   ]
  },
  {
   "cell_type": "code",
   "execution_count": null,
   "id": "013122d0-24fb-4c9c-9925-1c4979481c8e",
   "metadata": {},
   "outputs": [],
   "source": [
    "stock_returns.plot_partial_autocorrelation(50)"
   ]
  },
  {
   "cell_type": "markdown",
   "id": "d6b4f2b3",
   "metadata": {},
   "source": [
    "- What is the above telling us?\n",
    "    - TS is stationary. The 1st is not dependent upon the 0th. This is what we want for `AR(p)`.\n",
    "    - Lag exponentially decays at 1, thus use lag 1 for `AR(p)` as they have in the PAPER."
   ]
  },
  {
   "cell_type": "markdown",
   "id": "9b90dee3",
   "metadata": {},
   "source": [
    "## Stock Data: Models"
   ]
  },
  {
   "cell_type": "markdown",
   "id": "6389e78e",
   "metadata": {},
   "source": [
    "### Split Differenced Data for `AR(p)`, `MA(q)`, `ARMA(p, q)` Models\n",
    "\n",
    "- Make 5-day forecasts"
   ]
  },
  {
   "cell_type": "code",
   "execution_count": null,
   "id": "9b6bfd62",
   "metadata": {},
   "outputs": [],
   "source": [
    "stock_returns.get_as_df()"
   ]
  },
  {
   "cell_type": "code",
   "execution_count": null,
   "id": "81353079",
   "metadata": {},
   "outputs": [],
   "source": [
    "# interpolation_step = 5\n",
    "# interpolation_step = 120\n",
    "N = len(stock_returns.get_series())\n",
    "interpolation_step = N - int(N * .8)\n",
    "diff_train_length = N - interpolation_step\n",
    "\n",
    "print(f\"IS: {interpolation_step}\\nTrain {diff_train_length}\")"
   ]
  },
  {
   "cell_type": "code",
   "execution_count": null,
   "id": "d241262c",
   "metadata": {},
   "outputs": [],
   "source": [
    "# interpolation_step = 1956\n",
    "# # interpolation_step = 60\n",
    "# N = len(stock_returns.get_series())\n",
    "# diff_train_length = N - interpolation_step\n",
    "# diff_train_length"
   ]
  },
  {
   "cell_type": "code",
   "execution_count": null,
   "id": "348bdabe",
   "metadata": {},
   "outputs": [],
   "source": [
    "diff_train_uts, diff_test_uts = stock_returns.get_slice(1, diff_train_length, both_train_test=True)\n",
    "diff_train_uts, diff_test_uts"
   ]
  },
  {
   "cell_type": "code",
   "execution_count": null,
   "id": "76334684",
   "metadata": {},
   "outputs": [],
   "source": [
    "diff_train_df = diff_train_uts.get_as_df()\n",
    "diff_train_df"
   ]
  },
  {
   "cell_type": "code",
   "execution_count": null,
   "id": "15f43f08",
   "metadata": {},
   "outputs": [],
   "source": [
    "diff_train_values = diff_train_uts.get_series()\n",
    "diff_train_values"
   ]
  },
  {
   "cell_type": "markdown",
   "id": "7ebc9cac",
   "metadata": {},
   "source": [
    "- Make 5-day forecasts, hence why test data is only 5 values."
   ]
  },
  {
   "cell_type": "code",
   "execution_count": null,
   "id": "e01b68a1",
   "metadata": {},
   "outputs": [],
   "source": [
    "diff_test_df = diff_test_uts.get_as_df()\n",
    "diff_test_df"
   ]
  },
  {
   "cell_type": "code",
   "execution_count": null,
   "id": "6ee87d9b",
   "metadata": {},
   "outputs": [],
   "source": [
    "diff_test_values = diff_test_uts.get_series()\n",
    "len(diff_test_values)"
   ]
  },
  {
   "cell_type": "code",
   "execution_count": null,
   "id": "25666024",
   "metadata": {},
   "outputs": [],
   "source": [
    "scatter_type = False\n",
    "data_prediction_plots = InterpolatePlotter()\n",
    "data_prediction_plots.plot_ts_training_and_testing_data(diff_train_df, diff_test_df, scatter_type)"
   ]
  },
  {
   "cell_type": "markdown",
   "id": "e7bb9bc8",
   "metadata": {},
   "source": [
    "#### Initialize Model: `AR(p)`\n",
    "\n",
    "- Pass `diff_test_values` series instead of `diff_train_df` to drop index of the returned prediction"
   ]
  },
  {
   "cell_type": "code",
   "execution_count": null,
   "id": "02e5f54b",
   "metadata": {},
   "outputs": [],
   "source": [
    "lag_p = 1 # AR"
   ]
  },
  {
   "cell_type": "code",
   "execution_count": null,
   "id": "6d33e28f",
   "metadata": {},
   "outputs": [],
   "source": [
    "no_retrain_name = ' - no retrain'\n",
    "no_retrain_bool = False\n",
    "\n",
    "ar_no_retrain_model_class = AR_Model(no_retrain_name, lag_p)\n",
    "ar_no_retrain_model_class.train(diff_train_values)\n",
    "ar_no_retrain_model_class.summary()"
   ]
  },
  {
   "cell_type": "code",
   "execution_count": null,
   "id": "8d551298",
   "metadata": {},
   "outputs": [],
   "source": [
    "# retrain false\n",
    "ar_predictions_no_retrain = ar_no_retrain_model_class.make_predictions(diff_train_values, diff_test_values)\n",
    "ar_predictions_no_retrain\n",
    "all_predictions_df = ar_no_retrain_model_class.model_predictions_to_df(diff_test_df, ar_predictions_no_retrain)\n",
    "all_predictions_df"
   ]
  },
  {
   "cell_type": "code",
   "execution_count": null,
   "id": "99032db5",
   "metadata": {},
   "outputs": [],
   "source": [
    "predictions_df = all_predictions_df.iloc[:, 1]\n",
    "# predictions_df"
   ]
  },
  {
   "cell_type": "code",
   "execution_count": null,
   "id": "ea6a0073",
   "metadata": {},
   "outputs": [],
   "source": [
    "data_prediction_plots.plot_ts_training_and_testing_data(diff_train_df, diff_test_df, scatter_type, predictions_df)"
   ]
  },
  {
   "cell_type": "code",
   "execution_count": null,
   "id": "175ec7ab",
   "metadata": {},
   "outputs": [],
   "source": [
    "EvaluationMetric.eval_mse(all_predictions_df.iloc[:, 0], all_predictions_df.iloc[:, 1], per_element=False)\n",
    "EvaluationMetric.eval_rmse(all_predictions_df.iloc[:, 0], all_predictions_df.iloc[:, 1], per_element=False)"
   ]
  },
  {
   "cell_type": "markdown",
   "id": "cd535134",
   "metadata": {},
   "source": [
    "#### Initialize Model: `MA(q)`"
   ]
  },
  {
   "cell_type": "code",
   "execution_count": null,
   "id": "8144191e",
   "metadata": {},
   "outputs": [],
   "source": [
    "no_retrain_name"
   ]
  },
  {
   "cell_type": "code",
   "execution_count": null,
   "id": "8765e3d0",
   "metadata": {},
   "outputs": [],
   "source": [
    "error_q = 1 # MA\n",
    "ma_model_class = MA_Model(no_retrain_name, error_q=error_q)\n",
    "ma_model_class.train(diff_train_df.values)\n",
    "ma_model_class.summary()"
   ]
  },
  {
   "cell_type": "code",
   "execution_count": null,
   "id": "1aa5ed5a",
   "metadata": {},
   "outputs": [],
   "source": [
    "ma_predictions_no_retrain = ma_model_class.make_predictions(diff_train_df, diff_test_df)\n",
    "all_predictions_df = ma_model_class.model_predictions_to_df(diff_test_df, ma_predictions_no_retrain)\n",
    "all_predictions_df"
   ]
  },
  {
   "cell_type": "code",
   "execution_count": null,
   "id": "3b2ccdb3",
   "metadata": {},
   "outputs": [],
   "source": [
    "ma_predictions_df = all_predictions_df.iloc[:, 2]\n",
    "ma_predictions_df"
   ]
  },
  {
   "cell_type": "code",
   "execution_count": null,
   "id": "0c497212",
   "metadata": {},
   "outputs": [],
   "source": [
    "EvaluationMetric.eval_mse(all_predictions_df.iloc[:, 0], all_predictions_df.iloc[:, 2], per_element=False)\n",
    "EvaluationMetric.eval_rmse(all_predictions_df.iloc[:, 0], all_predictions_df.iloc[:, 2], per_element=False)\n",
    "\n",
    "data_prediction_plots.plot_ts_training_and_testing_data(diff_train_df, diff_test_df, scatter_type, ma_predictions_df)"
   ]
  },
  {
   "cell_type": "markdown",
   "id": "209f9314",
   "metadata": {},
   "source": [
    "#### Initialize Model: `ARMA(p, q)`"
   ]
  },
  {
   "cell_type": "code",
   "execution_count": null,
   "id": "39f28597-3024-482e-a263-a7b6a6c0b1d0",
   "metadata": {},
   "outputs": [],
   "source": [
    "arma_model_class = ARMA_Model(no_retrain_name, lag_p, error_q)\n",
    "arma_model_class.train(diff_train_df.values)\n",
    "arma_model_class.summary()"
   ]
  },
  {
   "cell_type": "markdown",
   "id": "d08ec4ec-f599-42af-9ddf-52e7aa6f5e48",
   "metadata": {},
   "source": [
    "NOTE: Should Dep. Variable be t as t depends on t - 1?"
   ]
  },
  {
   "cell_type": "code",
   "execution_count": null,
   "id": "2f132657-a966-4d25-8041-cabda66f88bf",
   "metadata": {},
   "outputs": [],
   "source": [
    "# retrain false\n",
    "arma_predictions_no_retrain = arma_model_class.make_predictions(diff_train_df, diff_test_df)\n",
    "all_predictions_df = arma_model_class.model_predictions_to_df(diff_test_df, arma_predictions_no_retrain)\n",
    "all_predictions_df"
   ]
  },
  {
   "cell_type": "code",
   "execution_count": null,
   "id": "d394da82",
   "metadata": {},
   "outputs": [],
   "source": [
    "arma_predictions_df = all_predictions_df.iloc[:, 3]\n",
    "arma_predictions_df"
   ]
  },
  {
   "cell_type": "code",
   "execution_count": null,
   "id": "119a5e7a",
   "metadata": {},
   "outputs": [],
   "source": [
    "EvaluationMetric.eval_mse(all_predictions_df.iloc[:, 0], all_predictions_df.iloc[:, 3], per_element=False)\n",
    "EvaluationMetric.eval_rmse(all_predictions_df.iloc[:, 0], all_predictions_df.iloc[:, 3], per_element=False)\n",
    "\n",
    "data_prediction_plots.plot_ts_training_and_testing_data(diff_train_df, diff_test_df, scatter_type, arma_predictions_df)"
   ]
  },
  {
   "cell_type": "markdown",
   "id": "3d5630a7",
   "metadata": {},
   "source": [
    "### Split Raw Data for `ARIMA(p, d, q)` Model\n",
    "\n",
    "- Make 5-day forecasts"
   ]
  },
  {
   "cell_type": "code",
   "execution_count": null,
   "id": "5e0315f1",
   "metadata": {},
   "outputs": [],
   "source": [
    "# interpolation_step = 5\n",
    "# interpolation_step = 60\n",
    "# N = len(stock_of_interest.get_series())\n",
    "# train_length = N - interpolation_step\n",
    "# train_length\n",
    "\n",
    "N = len(stock_of_interest.get_series())\n",
    "interpolation_step = N - int(N * .8)\n",
    "train_length = N - interpolation_step\n",
    "\n",
    "print(f\"IS: {interpolation_step}\\nTrain {diff_train_length}\")"
   ]
  },
  {
   "cell_type": "code",
   "execution_count": null,
   "id": "c7c035b9",
   "metadata": {},
   "outputs": [],
   "source": [
    "train_uts, test_uts = stock_of_interest.get_slice(start=1, end=train_length, both_train_test=True)\n",
    "train_uts, test_uts"
   ]
  },
  {
   "cell_type": "code",
   "execution_count": null,
   "id": "d65cf0b8",
   "metadata": {},
   "outputs": [],
   "source": [
    "train_df = train_uts.get_as_df()\n",
    "test_df = test_uts.get_as_df()\n",
    "train_df.plot(), test_df.plot()"
   ]
  },
  {
   "cell_type": "code",
   "execution_count": null,
   "id": "9d4a4092",
   "metadata": {},
   "outputs": [],
   "source": [
    "train_values = train_uts.get_series()\n",
    "test_values = test_uts.get_series()\n",
    "len(train_values), len(test_values)"
   ]
  },
  {
   "cell_type": "code",
   "execution_count": null,
   "id": "c75ed496",
   "metadata": {},
   "outputs": [],
   "source": [
    "arima_plotter = InterpolatePlotter()\n",
    "arima_plotter.plot_ts_training_and_testing_data(train_df, test_df, True)\n",
    "arima_plotter.plot_ts_training_and_testing_data(train_df, test_df, False)"
   ]
  },
  {
   "cell_type": "markdown",
   "id": "14d9f6b0",
   "metadata": {},
   "source": [
    "#### Initialize Models: `ARIMA(p, d, q)`"
   ]
  },
  {
   "cell_type": "code",
   "execution_count": null,
   "id": "02918456",
   "metadata": {},
   "outputs": [],
   "source": [
    "diff_d = 1\n",
    "\n",
    "arima_model_class = ARIMA_Model(no_retrain_name, lag_p, error_q, diff_d)\n",
    "trained_arima_model = arima_model_class.train(train_values)\n",
    "# trained_arima_model.summary()"
   ]
  },
  {
   "cell_type": "code",
   "execution_count": null,
   "id": "ab338cef",
   "metadata": {},
   "outputs": [],
   "source": [
    "arima_predictions = arima_model_class.make_predictions(diff_train_values, diff_test_values)\n",
    "all_raw_predictions_df = arima_model_class.model_predictions_to_df(test_df, arima_predictions)\n",
    "all_raw_predictions_df"
   ]
  },
  {
   "cell_type": "code",
   "execution_count": null,
   "id": "dcf8f4a9",
   "metadata": {},
   "outputs": [],
   "source": [
    "arima_predictions_df = all_raw_predictions_df.iloc[:, 1]\n",
    "len(arima_predictions_df), arima_predictions_df.head(3)"
   ]
  },
  {
   "cell_type": "code",
   "execution_count": null,
   "id": "109c088a",
   "metadata": {},
   "outputs": [],
   "source": [
    "EvaluationMetric.eval_mse(all_predictions_df.iloc[:, 0], all_predictions_df.iloc[:, 1], per_element=False)\n",
    "EvaluationMetric.eval_rmse(all_predictions_df.iloc[:, 0], all_predictions_df.iloc[:, 1], per_element=False)\n",
    "\n",
    "arima_plotter.plot_ts_training_and_testing_data(train_df, test_df, scatter_type=False, predictions_df=arima_predictions_df)"
   ]
  },
  {
   "cell_type": "code",
   "execution_count": null,
   "id": "bbd30f0e",
   "metadata": {},
   "outputs": [],
   "source": [
    "\n",
    "\n",
    "# EvaluationMetric.eval_mse(test_df, arima_predictions_retrain, per_element=False)\n",
    "# EvaluationMetric.eval_rmse(test_df, arima_predictions_retrain, per_element=False)\n",
    "\n",
    "# arima_predictions_dict = {\n",
    "#     'ARIMA No Retrain': arima_predictions_no_retrain,\n",
    "# }\n",
    "# scatter_plot = False\n",
    "# prediction_plots = InterpolatePlotter(test_df, arima_predictions_dict)\n",
    "# prediction_plots.plot_in_sample_predictions(scatter_plot)\n",
    "\n",
    "# arima_predictions_dict = {\n",
    "#     'ARIMA Retrain': arima_predictions_retrain,\n",
    "# }\n",
    "# scatter_plot = False\n",
    "# prediction_plots = InterpolatePlotter(test_df, arima_predictions_dict)\n",
    "# prediction_plots.plot_in_sample_predictions(scatter_plot)"
   ]
  },
  {
   "cell_type": "markdown",
   "id": "c711081f",
   "metadata": {},
   "source": [
    "## Stock Data: Evaluation Metrics + Plots"
   ]
  },
  {
   "cell_type": "markdown",
   "id": "e598c636-741f-4a36-8aa6-999cf312651f",
   "metadata": {},
   "source": [
    "### Evaluation Metrics: MSE, RMSE"
   ]
  },
  {
   "cell_type": "code",
   "execution_count": null,
   "id": "5c30cb9f-95e3-413b-bbb1-3383b9134115",
   "metadata": {},
   "outputs": [],
   "source": [
    "# AR\n",
    "EvaluationMetric.eval_mse(diff_test_df, ar_predictions_no_retrain, per_element=False)\n",
    "EvaluationMetric.eval_rmse(diff_test_df, ar_predictions_no_retrain, per_element=False)\n",
    "EvaluationMetric.eval_mse(diff_test_df, ar_predictions_retrain, per_element=False)\n",
    "EvaluationMetric.eval_rmse(diff_test_df, ar_predictions_retrain, per_element=False)\n",
    "\n",
    "# ARMA\n",
    "EvaluationMetric.eval_mse(diff_test_df, arma_predictions_no_retrain, per_element=False)\n",
    "EvaluationMetric.eval_rmse(diff_test_df, arma_predictions_no_retrain, per_element=False)\n",
    "EvaluationMetric.eval_mse(diff_test_df, arma_predictions_retrain, per_element=False)\n",
    "EvaluationMetric.eval_rmse(diff_test_df, arma_predictions_retrain, per_element=False)\n",
    "\n",
    "# ARIMA\n",
    "EvaluationMetric.eval_mse(test_df, arima_predictions_no_retrain, per_element=False)\n",
    "EvaluationMetric.eval_rmse(test_df, arima_predictions_no_retrain, per_element=False)\n",
    "EvaluationMetric.eval_mse(test_df, arima_predictions_retrain, per_element=False)\n",
    "EvaluationMetric.eval_rmse(test_df, arima_predictions_retrain, per_element=False)"
   ]
  },
  {
   "cell_type": "markdown",
   "id": "b6d4b317",
   "metadata": {},
   "source": [
    "### Plots Actual Predictions vs Model Predictions\n",
    "- Need to finish plots"
   ]
  },
  {
   "cell_type": "code",
   "execution_count": null,
   "id": "26c505f1",
   "metadata": {},
   "outputs": [],
   "source": [
    "# predictions_dict = {\n",
    "#     'AR No Retrain': ar_predictions_no_retrain,\n",
    "#     'AR Retrain': ar_predictions_retrain,\n",
    "#     'ARMA No Retrain': arma_predictions_no_retrain,\n",
    "#     'ARMA Retrain': arma_predictions_retrain,\n",
    "#     'ARIMA No Retrain': arima_predictions_no_retrain,\n",
    "#     'ARIMA Retrain': arima_predictions_retrain\n",
    "# }"
   ]
  },
  {
   "cell_type": "code",
   "execution_count": null,
   "id": "a9490b10",
   "metadata": {},
   "outputs": [],
   "source": [
    "ar_predictions_dict = {\n",
    "    'AR No Retrain': ar_predictions_no_retrain,\n",
    "    'AR Retrain': ar_predictions_retrain,\n",
    "    # 'ARMA Retrain': arma_predictions_retrain\n",
    "}\n",
    "scatter_plot = False\n",
    "prediction_plots = InterpolatePlotter(diff_test_df, ar_predictions_dict)\n",
    "prediction_plots.plot_in_sample_predictions(scatter_plot)"
   ]
  },
  {
   "cell_type": "code",
   "execution_count": null,
   "id": "8d2bb05b",
   "metadata": {},
   "outputs": [],
   "source": [
    "# 'ARMA No Retrain': arma_predictions_no_retrain,\n",
    "arma_predictions_dict = {\n",
    "\n",
    "    'ARMA Retrain': arma_predictions_retrain,\n",
    "}\n",
    "prediction_plots = InterpolatePlotter(diff_test_df, arma_predictions_dict)\n",
    "prediction_plots.plot_in_sample_predictions(scatter_plot)\n",
    "\n",
    "arma_predictions_dict = {\n",
    "\n",
    "    'ARIMA Retrain': arima_predictions_retrain\n",
    "}\n",
    "prediction_plots = InterpolatePlotter(diff_test_df, arma_predictions_dict)\n",
    "prediction_plots.plot_in_sample_predictions(scatter_plot)\n",
    "\n",
    "arma_predictions_dict = {\n",
    "\n",
    "    'ARMA No Retrain': arma_predictions_no_retrain,\n",
    "}\n",
    "prediction_plots = InterpolatePlotter(diff_test_df, arma_predictions_dict)\n",
    "prediction_plots.plot_in_sample_predictions(scatter_plot)\n",
    "\n",
    "arima_predictions_dict = {\n",
    "\n",
    "    'ARIMA No Retrain': arima_predictions_no_retrain,\n",
    "}\n",
    "prediction_plots = InterpolatePlotter(diff_test_df, arima_predictions_dict)\n",
    "prediction_plots.plot_in_sample_predictions(scatter_plot)"
   ]
  },
  {
   "cell_type": "code",
   "execution_count": null,
   "id": "7d79f104",
   "metadata": {},
   "outputs": [],
   "source": [
    "arima_predictions_no_retrain"
   ]
  },
  {
   "cell_type": "markdown",
   "id": "8cf9e730",
   "metadata": {},
   "source": [
    "## Follow-up"
   ]
  }
 ],
 "metadata": {
  "kernelspec": {
   "display_name": ".venv",
   "language": "python",
   "name": "python3"
  },
  "language_info": {
   "codemirror_mode": {
    "name": "ipython",
    "version": 3
   },
   "file_extension": ".py",
   "mimetype": "text/x-python",
   "name": "python",
   "nbconvert_exporter": "python",
   "pygments_lexer": "ipython3",
   "version": "3.11.12"
  },
  "toc-autonumbering": true
 },
 "nbformat": 4,
 "nbformat_minor": 5
}
