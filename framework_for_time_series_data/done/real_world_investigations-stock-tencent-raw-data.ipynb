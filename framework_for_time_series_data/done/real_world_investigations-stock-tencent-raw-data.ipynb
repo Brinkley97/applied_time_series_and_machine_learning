{
 "cells": [
  {
   "cell_type": "markdown",
   "id": "c62c292e-96b6-4e20-a645-33334e429a64",
   "metadata": {
    "tags": []
   },
   "source": [
    "# On Analyzing Real World Time Series for Forecasting Stock Data - Tencent\n",
    "- NOT splitting the data"
   ]
  },
  {
   "cell_type": "code",
   "execution_count": null,
   "id": "e949351e-c0a0-45c0-969c-2a1281b9a7d2",
   "metadata": {},
   "outputs": [],
   "source": [
    "import os\n",
    "import sys\n",
    "# Get the current working directory of the notebook\n",
    "notebook_dir = os.getcwd()\n",
    "\n",
    "# Add the parent directory to the system path\n",
    "sys.path.append(os.path.join(notebook_dir, '../tslearn/'))\n",
    "\n",
    "from collections import namedtuple\n",
    "from data_loader import build_stock_uts\n",
    "from ts_models import Model, RandomWalk, PersistenceWalkForward, AR, MA, ARMA, ARIMA_model, EvaluationMetric\n",
    "from time_series import TimeSeriesFactory, UnivariateTimeSeries"
   ]
  },
  {
   "cell_type": "markdown",
   "id": "f831e037-f926-4bc8-84ec-fdb30ca7802a",
   "metadata": {},
   "source": [
    "## Stock Data Analysis\n",
    "\n",
    "1. Load Raw TS\n",
    "2. Plot Raw TS\n",
    "3. Get Descriptive Statistics (ie: mean, median, range, etc) of Raw TS\n",
    "4. Check Stationarity of Raw TS\n",
    "5. Plot Autocorrelation and Partial Autocorrelation of Raw TS\n",
    "6. Get Differenced TS\n",
    "7. Plot Differenced TS\n",
    "8. Get Descriptive Statistics of Differenced TS\n",
    "9. Check Stationarity of Raw TS\n",
    "10. Plot Autocorrelation and Partial Autocorrelation of Raw TS\n",
    "11. Initialize and Predict Random Walk `RW` Model for Raw TS\n",
    "12. Plot Actual Forecasts vs Predicted Forecasts for Raw TS\n",
    "13. Initialize Autoregressive Integrated Moving Average `ARIMA(p, d, q)` for Raw TS\n",
    "14. Predict Forecasts for Raw TS\n",
    "15. Plot Actual Forecasts vs Predicted Forecasts for Raw TS\n",
    "16. Follow-up"
   ]
  },
  {
   "cell_type": "markdown",
   "id": "3d7f3b89-19a4-48bd-b55f-8a995c3ffc34",
   "metadata": {
    "tags": []
   },
   "source": [
    "### Load Raw TS"
   ]
  },
  {
   "cell_type": "code",
   "execution_count": null,
   "id": "642fbd44-3331-4c7f-9393-5d4e3bccea54",
   "metadata": {},
   "outputs": [],
   "source": [
    "# Only grab stocks whose data is available for the entire time period\n",
    "start_date, end_date = \"2010-01-05\", \"2023-10-23\"\n",
    "Stock = namedtuple(\"Stock\", [\"symbol\", \"name\"])\n",
    "stocks = [\n",
    "    (\"TCEHY\", \"Tencent\"),\n",
    "    (\"INTC\", \"Intel\")\n",
    "]\n",
    "independent_variable = \"Close\"\n",
    "stocks = [Stock(*s) for s in stocks]\n",
    "stocks = {s.symbol: build_stock_uts(s.symbol, s.name, independent_variable, start_date=start_date, end_date=end_date, frequency='1d') for s in stocks}"
   ]
  },
  {
   "cell_type": "code",
   "execution_count": null,
   "id": "2e27ffe0-a0f2-4ce0-bd89-95e8c26380a7",
   "metadata": {},
   "outputs": [],
   "source": [
    "values_cols = list(stocks.keys())\n",
    "stock_mvts = TimeSeriesFactory.create_time_series(\n",
    "    time_col=\"date\",\n",
    "    time_values=stocks[values_cols[0]].data.index,\n",
    "    values_cols=values_cols,\n",
    "    values=[stock.get_series() for stock in stocks.values()]\n",
    ")"
   ]
  },
  {
   "cell_type": "code",
   "execution_count": null,
   "id": "95d9aaad-a3f5-4edf-924f-fa53b8db0b63",
   "metadata": {},
   "outputs": [],
   "source": [
    "stock_symbol = 'TCEHY'\n",
    "type(stocks[stock_symbol]), stocks[stock_symbol]"
   ]
  },
  {
   "cell_type": "code",
   "execution_count": null,
   "id": "5183c5af-87be-4763-af09-79b7786b70d5",
   "metadata": {},
   "outputs": [],
   "source": [
    "stock_series = stocks[stock_symbol].get_series()\n",
    "stock_series"
   ]
  },
  {
   "cell_type": "code",
   "execution_count": null,
   "id": "8dba5073-14f4-4947-8fc2-e413c30623d9",
   "metadata": {},
   "outputs": [],
   "source": [
    "stock_df = stocks[stock_symbol].get_as_df()\n",
    "stock_df"
   ]
  },
  {
   "cell_type": "markdown",
   "id": "061bd548-3d60-4afd-adff-eae596d8bc66",
   "metadata": {},
   "source": [
    "### Plot Raw TS"
   ]
  },
  {
   "cell_type": "code",
   "execution_count": null,
   "id": "13f98930-d6d7-4b07-8d2d-074903a6e085",
   "metadata": {},
   "outputs": [],
   "source": [
    "stocks[stock_symbol].plot(tick_skip=100)"
   ]
  },
  {
   "cell_type": "markdown",
   "id": "de8fe301-5909-4b95-991d-d3a8211fed4b",
   "metadata": {},
   "source": [
    "- Tencent went public Jan 4, 2010 [yfinance](https://finance.yahoo.com/quote/TCEHY/history?period1=1262649600&period2=1698537600&interval=1d&filter=history&frequency=1d&includeAdjustedClose=true).\n",
    "- What happened in 2018 for the Tencent stock close observations to fall?\n",
    "    - See milestones [Tencent](https://www.tencent.com/en-us/about.html#about-con-2). Which milestones seem contradictory to this fall?\n",
    "- What happened in 2020 for the Tencent stock close observations to fall?\n",
    "    - Covid-19, so what happened in China during Covid? How did customers and end users react to company during the pandemic?\n",
    "    - See milestones [Tencent](https://www.tencent.com/en-us/about.html#about-con-2). Which milestones seem contradictory to this fall?\n",
    "- What's the future of the China market? Tencent?\n",
    "- How long will it take for Tencent to see another peak stock close observation?"
   ]
  },
  {
   "cell_type": "code",
   "execution_count": null,
   "id": "eaf8a7ea-4496-4ca5-830d-2f65de5f8a66",
   "metadata": {},
   "outputs": [],
   "source": [
    "stock_df.loc['2020-01-01':'2022-01-01'].plot()"
   ]
  },
  {
   "cell_type": "markdown",
   "id": "48c14cd4-5f3d-4160-9373-cb2ad42b7cd1",
   "metadata": {},
   "source": [
    "### Get Descriptive Statistics of Raw TS"
   ]
  },
  {
   "cell_type": "code",
   "execution_count": null,
   "id": "3e9e2a3f-3626-425e-9eae-e6a6845cf4f4",
   "metadata": {},
   "outputs": [],
   "source": [
    "stocks[stock_symbol].get_statistics()"
   ]
  },
  {
   "cell_type": "code",
   "execution_count": null,
   "id": "77327599-59fe-4953-9f1b-0b84be9d8193",
   "metadata": {},
   "outputs": [],
   "source": [
    "stocks[stock_symbol].max_min_range()"
   ]
  },
  {
   "cell_type": "markdown",
   "id": "9bbdf1c3-d15a-4ea3-919e-b53d3b261b16",
   "metadata": {},
   "source": [
    "### Check Stationarity of Raw TS\n",
    "\n",
    "- With financial data, we expect it to be non-stationary.\n",
    "    - Can we verify this non-stationary with plotting the Autocorrelation?"
   ]
  },
  {
   "cell_type": "code",
   "execution_count": null,
   "id": "d3ba3c33",
   "metadata": {},
   "outputs": [],
   "source": [
    "stocks[stock_symbol].stationarity_test(stock_df)"
   ]
  },
  {
   "cell_type": "markdown",
   "id": "8b0b6ced-ee5e-48b1-ad8e-1577ad6a4977",
   "metadata": {},
   "source": [
    "### Plot Autocorrelation and Partial Autocorrelation of Raw TS"
   ]
  },
  {
   "cell_type": "code",
   "execution_count": null,
   "id": "a0380238-3448-461f-8dd0-27fabd877bd2",
   "metadata": {},
   "outputs": [],
   "source": [
    "stocks[stock_symbol].plot_autocorrelation(50)"
   ]
  },
  {
   "cell_type": "markdown",
   "id": "2871d575-0742-4af2-b34d-0f91e9ff8e7a",
   "metadata": {},
   "source": [
    "- Above, the data is highly correlated which means that the k-th lag observation has some impact on the most recent observation."
   ]
  },
  {
   "cell_type": "code",
   "execution_count": null,
   "id": "89f3d388-a056-4ba8-bf3a-dbe0dd6f68f1",
   "metadata": {},
   "outputs": [],
   "source": [
    "stocks[stock_symbol].plot_partial_autocorrelation(35)"
   ]
  },
  {
   "cell_type": "markdown",
   "id": "a849ae48-0179-4ff4-983f-cd8c7c5960a0",
   "metadata": {},
   "source": [
    "- Above, the data shows a rapid decay at lag 2. "
   ]
  },
  {
   "cell_type": "markdown",
   "id": "a80cf42e-5f47-4ff9-a2d3-712ed856c501",
   "metadata": {},
   "source": [
    "### Get Differenced TS\n",
    "- To remove the trend"
   ]
  },
  {
   "cell_type": "code",
   "execution_count": null,
   "id": "855320b4-03d4-40ea-8f13-eb083e37da89",
   "metadata": {},
   "outputs": [],
   "source": [
    "stock_diff = stocks[stock_symbol].data_augment_with_differencing(1)\n",
    "stock_diff"
   ]
  },
  {
   "cell_type": "code",
   "execution_count": null,
   "id": "b58f42ef-c358-4897-9200-5aa00feed6e5",
   "metadata": {},
   "outputs": [],
   "source": [
    "stock_stock_diff_df = stock_diff.get_as_df()\n",
    "stock_stock_diff_df"
   ]
  },
  {
   "cell_type": "markdown",
   "id": "feefafc0-2090-4dd8-bb5e-3a1e4c742027",
   "metadata": {},
   "source": [
    "### Plot Differenced TS"
   ]
  },
  {
   "cell_type": "code",
   "execution_count": null,
   "id": "bdc14647-fd25-4399-b9c1-151088d5766c",
   "metadata": {},
   "outputs": [],
   "source": [
    "stock_diff.plot(tick_skip=150)"
   ]
  },
  {
   "cell_type": "markdown",
   "id": "4290c7fd-6949-4eda-8cd5-e7de658da82d",
   "metadata": {},
   "source": [
    "- Differenced TS seems to have constant mean and constant variance although the variance seems to funnel in and out a bit."
   ]
  },
  {
   "cell_type": "markdown",
   "id": "29cd562f-35af-40f8-b27d-4588d98ad0a0",
   "metadata": {},
   "source": [
    "### Get Descriptive Statistics of Differenced TS"
   ]
  },
  {
   "cell_type": "code",
   "execution_count": null,
   "id": "db7692fb-06fd-400b-9b4f-2eea43c22009",
   "metadata": {},
   "outputs": [],
   "source": [
    "stock_diff.get_statistics()"
   ]
  },
  {
   "cell_type": "code",
   "execution_count": null,
   "id": "9ef44298-0b5a-4e2a-a787-725f528677b0",
   "metadata": {},
   "outputs": [],
   "source": [
    "stock_diff.max_min_range()"
   ]
  },
  {
   "cell_type": "markdown",
   "id": "47707fff-da96-41ca-87e3-89534d9b4e3c",
   "metadata": {},
   "source": [
    "### Check Stationarity of Differenced TS"
   ]
  },
  {
   "cell_type": "code",
   "execution_count": null,
   "id": "146d861e-3373-48d2-b07a-ecd5196ee3ba",
   "metadata": {},
   "outputs": [],
   "source": [
    "stock_diff.stationarity_test(stock_stock_diff_df)"
   ]
  },
  {
   "cell_type": "markdown",
   "id": "f97f9c5a-bee5-4853-84b4-0fe00d564d3f",
   "metadata": {},
   "source": [
    "### Plot Autocorrelation and Partial Autocorrelation of Differenced TS"
   ]
  },
  {
   "cell_type": "code",
   "execution_count": null,
   "id": "0c24d144-3461-4504-9104-8841b07e94a3",
   "metadata": {},
   "outputs": [],
   "source": [
    "stock_diff.plot_autocorrelation(50)"
   ]
  },
  {
   "cell_type": "markdown",
   "id": "79b55d07-2387-4a84-a282-c01b4c0c75df",
   "metadata": {},
   "source": [
    "- ACor exponentially decays at 1. Can test a MA(q), where q = 4, 12, 19, 31 as these are where the values are close or outside of the significance line."
   ]
  },
  {
   "cell_type": "code",
   "execution_count": null,
   "id": "bf455551-c94d-47b8-8b2c-aaacd83565d2",
   "metadata": {},
   "outputs": [],
   "source": [
    "stock_diff.plot_partial_autocorrelation(50)"
   ]
  },
  {
   "cell_type": "markdown",
   "id": "db087429-84b7-4b6d-9146-e75f7fad6f71",
   "metadata": {},
   "source": [
    "- PACor exponentially decays at 1. Can test a AR(p), where p = 4, 19, 31, 39, 47 as these are where the values are close or outside of the significance line."
   ]
  },
  {
   "cell_type": "markdown",
   "id": "fee7543d-a76c-48d8-aa11-34792c847024",
   "metadata": {},
   "source": [
    "### Initialize and Predict RW Model for Raw TS\n",
    "- Need to fix as it's looking for the train, test split data."
   ]
  },
  {
   "cell_type": "code",
   "execution_count": null,
   "id": "9a1e17cf-23c0-4161-b202-38dad9059369",
   "metadata": {},
   "outputs": [],
   "source": [
    "rw_model_class = RandomWalk()\n",
    "\n",
    "rw_predictions = rw_model_class.predict(stocks[stock_symbol].get_series(), stocks[stock_symbol].get_series())"
   ]
  },
  {
   "cell_type": "code",
   "execution_count": null,
   "id": "86d2db9b-6c90-4e65-a0ea-a41dfeb0a012",
   "metadata": {},
   "outputs": [],
   "source": [
    "rw_mse_gsts = EvaluationMetric.eval_mse(stocks[stock_symbol].get_series(), rw_predictions, per_element=False)\n",
    "rw_mse_gsts"
   ]
  },
  {
   "cell_type": "code",
   "execution_count": null,
   "id": "599e1478-20f7-4178-bc75-7d38aa18f9b2",
   "metadata": {},
   "outputs": [],
   "source": [
    "rw_rmse_gsts = EvaluationMetric.eval_rmse(stocks[stock_symbol].get_series(), rw_predictions, per_element=False)\n",
    "rw_rmse_gsts"
   ]
  },
  {
   "cell_type": "markdown",
   "id": "0fff8d36-78a3-4277-86ee-ccef9ea5b597",
   "metadata": {},
   "source": [
    "### Plot Actual Forecasts vs Predicted Forecasts for Raw TS"
   ]
  },
  {
   "cell_type": "code",
   "execution_count": null,
   "id": "292b7d8d-5f51-46b5-bb95-2545e73def7a",
   "metadata": {},
   "outputs": [],
   "source": [
    "lags_to_test = []\n",
    "EvaluationMetric.plot_forecast(stocks[stock_symbol].get_series(), rw_predictions, lags_to_test, with_lags=False)"
   ]
  },
  {
   "cell_type": "markdown",
   "id": "0e634ce3-ddd1-4d22-b76e-285650a655a9",
   "metadata": {},
   "source": [
    "### Initialize ARIMA(p, d, q) Model for Raw TS\n",
    "\n",
    "- How to choose d? Compare differenced values 1, 2, etc by looking at the ACor plot. Is there a large change in any difference orders? Should NOT be overdifferenced."
   ]
  },
  {
   "cell_type": "code",
   "execution_count": null,
   "id": "606f3a81-86a6-4929-90d1-c889ff8a5965",
   "metadata": {},
   "outputs": [],
   "source": [
    "true_labels = stocks[stock_symbol].get_series()\n",
    "true_labels"
   ]
  },
  {
   "cell_type": "code",
   "execution_count": null,
   "id": "a11f510b-fc23-4289-a395-60e8234d1065",
   "metadata": {},
   "outputs": [],
   "source": [
    "end = len(stock_df)\n",
    "\n",
    "subset_of_true_labels = true_labels[:end]\n",
    "len(subset_of_true_labels), subset_of_true_labels"
   ]
  },
  {
   "cell_type": "markdown",
   "id": "b1144bde-b740-4287-b1c6-0ef2460ed248",
   "metadata": {},
   "source": [
    "- Maximum Likelihood optimization failed to converge with the below. What does this mean? Should we be concerned with it NOT converging?\n",
    "    1. 4, 1, 4\n",
    "    2. 4, 1, 19\n",
    "    3. 4, 1, 31"
   ]
  },
  {
   "cell_type": "code",
   "execution_count": null,
   "id": "09b9477f-82e1-445b-bdfb-300caa1799c1",
   "metadata": {},
   "outputs": [],
   "source": [
    "# create an object from the ARIMA_model() class\n",
    "arima_model_class = ARIMA_model()\n",
    "\n",
    "# call the function to train our ARIMA model\n",
    "trained_arima_models = arima_model_class.train_arima_model(subset_of_true_labels, 4, 1, 4)"
   ]
  },
  {
   "cell_type": "markdown",
   "id": "803eb01c-ac63-4d60-ab57-404538f233e0",
   "metadata": {},
   "source": [
    "### Predict Forecasts for Raw TS"
   ]
  },
  {
   "cell_type": "code",
   "execution_count": null,
   "id": "6dd490de-8717-45ed-8e0e-132668ed92ba",
   "metadata": {},
   "outputs": [],
   "source": [
    "arima_predictions = arima_model_class.predict(trained_arima_models, 1, end)\n",
    "arima_predictions"
   ]
  },
  {
   "cell_type": "code",
   "execution_count": null,
   "id": "a25c2746-cb1d-4725-92d4-eee910ad320f",
   "metadata": {},
   "outputs": [],
   "source": [
    "mse_gsts = EvaluationMetric.eval_mse(subset_of_true_labels, arima_predictions)\n",
    "mse_gsts"
   ]
  },
  {
   "cell_type": "code",
   "execution_count": null,
   "id": "1d6618c8-3f02-4fa2-817e-a95689f9f5dc",
   "metadata": {},
   "outputs": [],
   "source": [
    "mse_gsts = EvaluationMetric.eval_rmse(subset_of_true_labels, arima_predictions)\n",
    "mse_gsts"
   ]
  },
  {
   "cell_type": "markdown",
   "id": "d94920c3-c5d3-4ea5-bfc6-ad720d93afa4",
   "metadata": {},
   "source": [
    "### Plot Actual Forecasts vs Predicted Forecasts for Raw TS"
   ]
  },
  {
   "cell_type": "code",
   "execution_count": null,
   "id": "03afd154-22e0-409a-9f9d-57e34e6335cd",
   "metadata": {},
   "outputs": [],
   "source": [
    "EvaluationMetric.plot_forecast(subset_of_true_labels, arima_predictions, [1], with_lags=True)"
   ]
  },
  {
   "cell_type": "markdown",
   "id": "076442b8-bfcd-4191-af3e-b964e5b3c74d",
   "metadata": {},
   "source": [
    "### Follow-up\n",
    "- What can we determine from this?\n",
    "    - We are overfitting. I think the reason being is that we are telling our ARIMA model to train and predict on the same data.\n",
    "    \n",
    "- What to consider?\n",
    "    - [ ] Splitting the data into a training set and a testing set.\n",
    "    - [ ] Log Likelihood\n",
    "    - [ ] AIC\n",
    "    - [ ] BIC\n",
    "    - [ ] HQIC\n",
    "    - [ ] Ljung-Box (L1) (Q)\n",
    "    - [ ] Jarque-Bera (JB)\n",
    "    - [ ] Prob(Q):\n",
    "    - [ ] Prob(JB):\n",
    "    - [ ] Heteroskedasticity (H):\n",
    "    - [ ] Skew\n",
    "    - [ ] Prob(H) (two-sided)\n",
    "    - [ ] Kurtosis"
   ]
  },
  {
   "cell_type": "code",
   "execution_count": null,
   "id": "2c9dbd21-0411-4824-a6f7-fe58c11cd435",
   "metadata": {},
   "outputs": [],
   "source": []
  }
 ],
 "metadata": {
  "kernelspec": {
   "display_name": "Python 3 (ipykernel)",
   "language": "python",
   "name": "python3"
  },
  "language_info": {
   "codemirror_mode": {
    "name": "ipython",
    "version": 3
   },
   "file_extension": ".py",
   "mimetype": "text/x-python",
   "name": "python",
   "nbconvert_exporter": "python",
   "pygments_lexer": "ipython3",
   "version": "3.9.16"
  },
  "toc-autonumbering": true
 },
 "nbformat": 4,
 "nbformat_minor": 5
}
