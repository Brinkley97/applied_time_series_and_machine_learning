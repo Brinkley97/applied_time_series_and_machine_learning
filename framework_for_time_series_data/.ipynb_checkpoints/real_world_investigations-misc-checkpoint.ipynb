{
 "cells": [
  {
   "cell_type": "markdown",
   "id": "c62c292e-96b6-4e20-a645-33334e429a64",
   "metadata": {
    "tags": []
   },
   "source": [
    "# On Analyzing Real World Time Series for Forecasting\n",
    "- See base: real_world_investigations-base.ipynb"
   ]
  },
  {
   "cell_type": "code",
   "execution_count": null,
   "id": "894b3e18-f6c9-438c-bc7f-148cab92d6b4",
   "metadata": {},
   "outputs": [],
   "source": [
    "import numpy as np\n",
    "import pandas as pd\n",
    "\n",
    "import matplotlib.pyplot as plt\n",
    "\n",
    "from collections import namedtuple\n",
    "from time_series import TimeSeriesFactory, UnivariateTimeSeries\n",
    "from data_loader import build_airline_passenger_uts, build_stock_uts, build_any_time_series_uts\n",
    "from ts_models import Model, AR"
   ]
  },
  {
   "cell_type": "markdown",
   "id": "8bf828b6-f0b0-4870-bd37-b28847fef264",
   "metadata": {},
   "source": [
    "## Misc Data"
   ]
  },
  {
   "cell_type": "code",
   "execution_count": null,
   "id": "621d6266-5f1d-4aba-aeab-6ea905af297c",
   "metadata": {},
   "outputs": [],
   "source": [
    "file = \"../datasets/generated_stationary_time_series.npy\"\n",
    "time_col_name = \"Time\"\n",
    "value_col_name = \"Observations\""
   ]
  },
  {
   "cell_type": "code",
   "execution_count": null,
   "id": "1e9f721d-31cb-40ca-b735-d6fe89582cbd",
   "metadata": {},
   "outputs": [],
   "source": [
    "generated_stationy_time_series = build_any_time_series_uts(file, time_col_name, value_col_name)"
   ]
  },
  {
   "cell_type": "code",
   "execution_count": null,
   "id": "05867ccb-7aef-484e-b385-6770edb303d4",
   "metadata": {},
   "outputs": [],
   "source": [
    "generated_stationy_time_series"
   ]
  },
  {
   "cell_type": "code",
   "execution_count": null,
   "id": "719f8384-bf64-4555-99f8-e145912d8826",
   "metadata": {},
   "outputs": [],
   "source": [
    "gsts_series = generated_stationy_time_series.get_series(False)\n",
    "gsts_series"
   ]
  },
  {
   "cell_type": "code",
   "execution_count": null,
   "id": "fbf094df-1cf9-46c3-84f6-de6c8b77babb",
   "metadata": {},
   "outputs": [],
   "source": [
    "generated_stationy_time_series.stationarity_test(gsts_series)"
   ]
  },
  {
   "cell_type": "code",
   "execution_count": null,
   "id": "b53717bf-3950-4b27-b1a8-3555595bd89f",
   "metadata": {},
   "outputs": [],
   "source": []
  }
 ],
 "metadata": {
  "kernelspec": {
   "display_name": "Python 3 (ipykernel)",
   "language": "python",
   "name": "python3"
  },
  "language_info": {
   "codemirror_mode": {
    "name": "ipython",
    "version": 3
   },
   "file_extension": ".py",
   "mimetype": "text/x-python",
   "name": "python",
   "nbconvert_exporter": "python",
   "pygments_lexer": "ipython3",
   "version": "3.9.16"
  }
 },
 "nbformat": 4,
 "nbformat_minor": 5
}
