{
 "cells": [
  {
   "cell_type": "markdown",
   "id": "c62c292e-96b6-4e20-a645-33334e429a64",
   "metadata": {
    "tags": []
   },
   "source": [
    "# On Analyzing Real World Time Series for Forecasting\n",
    "- See base: real_world_investigations-base.ipynb"
   ]
  },
  {
   "cell_type": "code",
   "execution_count": 1,
   "id": "e949351e-c0a0-45c0-969c-2a1281b9a7d2",
   "metadata": {},
   "outputs": [],
   "source": [
    "import numpy as np\n",
    "import pandas as pd\n",
    "\n",
    "import matplotlib.pyplot as plt\n",
    "\n",
    "from collections import namedtuple\n",
    "from time_series import TimeSeriesFactory, UnivariateTimeSeries\n",
    "from data_loader import build_airline_passenger_uts, build_stock_uts, build_any_time_series_uts\n",
    "from ts_models import Model, AR"
   ]
  },
  {
   "cell_type": "markdown",
   "id": "7e35bdb8-48f7-49e4-a36f-6af74898f205",
   "metadata": {},
   "source": [
    "## Airline Passenger Data Analysis"
   ]
  },
  {
   "cell_type": "code",
   "execution_count": null,
   "id": "505ebfa8-05b6-45e1-b047-3c40dadde25c",
   "metadata": {},
   "outputs": [],
   "source": [
    "airline_passengers = build_airline_passenger_uts()\n",
    "airline_passengers"
   ]
  },
  {
   "cell_type": "markdown",
   "id": "064f7fd9-25dd-4a44-87a0-566e90ed6337",
   "metadata": {},
   "source": [
    "- `object` `.methods()`"
   ]
  },
  {
   "cell_type": "code",
   "execution_count": null,
   "id": "5c6c4353-78e5-4764-99c9-aec4891f5d5b",
   "metadata": {},
   "outputs": [],
   "source": [
    "print(airline_passengers.get_time_col_name)\n",
    "print(airline_passengers.get_value_col_name)\n",
    "ap_df = airline_passengers.get_as_df\n",
    "ap_df"
   ]
  },
  {
   "cell_type": "code",
   "execution_count": null,
   "id": "a24caf38-1418-461c-a9a6-8205605d901d",
   "metadata": {},
   "outputs": [],
   "source": [
    "ap_df.iloc[0:, :0]\n",
    "# ap_df.iloc[:1, :0]\n",
    "# ap_df.iloc[-1:, :0]"
   ]
  },
  {
   "cell_type": "code",
   "execution_count": null,
   "id": "fc84ae11-9c4f-4064-88f0-0bde216b988a",
   "metadata": {},
   "outputs": [],
   "source": [
    "data = ap_df.iloc[0:, 0].values"
   ]
  },
  {
   "cell_type": "code",
   "execution_count": null,
   "id": "ca6813aa-67e9-42c0-9dd7-d14d8852dd71",
   "metadata": {},
   "outputs": [],
   "source": [
    "Model.plot1D(col_name=\"month\", dataset_name=\"Airline\", data_df=ap_df)"
   ]
  },
  {
   "cell_type": "code",
   "execution_count": null,
   "id": "264c415e-b4b4-4103-9dc8-f37cfe328ac6",
   "metadata": {},
   "outputs": [],
   "source": [
    "ap_series = airline_passengers.get_series(False)\n",
    "print(ap_series)"
   ]
  },
  {
   "cell_type": "code",
   "execution_count": null,
   "id": "bca2dbb8-38f6-4dca-8eba-c0a56bcbc428",
   "metadata": {},
   "outputs": [],
   "source": [
    "airline_passengers.stationarity_test(ap_df)"
   ]
  },
  {
   "cell_type": "code",
   "execution_count": null,
   "id": "020b0903-8b48-4d56-bbcc-69b407acd6d5",
   "metadata": {},
   "outputs": [],
   "source": [
    "airline_passengers.stationarity_test(ap_df)"
   ]
  },
  {
   "cell_type": "code",
   "execution_count": null,
   "id": "a1c21c21-9877-4369-8e89-1f6a8b90c919",
   "metadata": {},
   "outputs": [],
   "source": [
    "# train, validation, test = airline_passengers.get_train_validation_test_split(60, 40)\n",
    "print(train), print(validation), print(test)"
   ]
  },
  {
   "cell_type": "code",
   "execution_count": null,
   "id": "826d406f-7760-414a-bfbb-ddb1eba66b0a",
   "metadata": {},
   "outputs": [],
   "source": [
    "print(airline_passengers.get_slice(1, 50))"
   ]
  },
  {
   "cell_type": "code",
   "execution_count": null,
   "id": "78e8cc48-e260-4b3e-acd8-92b66aaeb31b",
   "metadata": {},
   "outputs": [],
   "source": [
    "print(airline_passengers.autocovariance(3))\n",
    "print(airline_passengers.autocorrelation(3))\n",
    "print(airline_passengers.autocorrelation_matrix(3))"
   ]
  },
  {
   "cell_type": "code",
   "execution_count": null,
   "id": "92c464af-afef-4ed1-b60a-0eb453dd015e",
   "metadata": {},
   "outputs": [],
   "source": [
    "ap_acov_matrix = airline_passengers.autocovariance_matrix(1)\n",
    "ap_acov_matrix"
   ]
  },
  {
   "cell_type": "code",
   "execution_count": null,
   "id": "74b629c4-148f-46de-bf2c-ca0dbdfb3f5c",
   "metadata": {},
   "outputs": [],
   "source": [
    "ap_series = airline_passengers.get_series(True)\n",
    "ap_series"
   ]
  },
  {
   "cell_type": "code",
   "execution_count": null,
   "id": "58b8bbd7-9483-4e4a-a40d-a0fc4f9699c5",
   "metadata": {},
   "outputs": [],
   "source": [
    "cov_matrix = np.cov(ap_series, bias=True)\n",
    "cov_matrix"
   ]
  },
  {
   "cell_type": "code",
   "execution_count": null,
   "id": "3ceed034-fb2e-46ca-9ca9-40c160b05bd4",
   "metadata": {},
   "outputs": [],
   "source": [
    "A = [45, 37, 42, 35, 39]\n",
    "B = [38, 31, 26, 28, 33]\n",
    "C = [10, 15, 17, 21, 12]\n",
    "\n",
    "data = np.array([A, B, C])\n",
    "data"
   ]
  },
  {
   "cell_type": "code",
   "execution_count": null,
   "id": "8ff3c585-d347-430d-aaa2-110a1208115f",
   "metadata": {},
   "outputs": [],
   "source": [
    "np.std(ap_acov_matrix)"
   ]
  },
  {
   "cell_type": "code",
   "execution_count": null,
   "id": "f82c5952-feae-486d-89ef-b94cddcd0b5d",
   "metadata": {},
   "outputs": [],
   "source": [
    "np.allclose(np.mean(ap_acov_matrix), np.std(ap_acov_matrix))"
   ]
  },
  {
   "cell_type": "code",
   "execution_count": null,
   "id": "75fe59c4-0f70-4275-8dd6-88ad9a80505b",
   "metadata": {
    "tags": []
   },
   "outputs": [],
   "source": [
    "new_uts = airline_passengers.normalize()\n",
    "new_uts"
   ]
  },
  {
   "cell_type": "code",
   "execution_count": null,
   "id": "17eefe4c-5fb6-4438-ae69-23564111d7e9",
   "metadata": {},
   "outputs": [],
   "source": [
    "new_uts.data"
   ]
  },
  {
   "cell_type": "code",
   "execution_count": null,
   "id": "a1da6570-812f-4d8c-b403-6f24380a178e",
   "metadata": {},
   "outputs": [],
   "source": []
  },
  {
   "cell_type": "code",
   "execution_count": null,
   "id": "29922800-eeb5-49b7-a8df-7086cc6f1d22",
   "metadata": {},
   "outputs": [],
   "source": [
    "print(airline_passengers.get_order_k_diff(2))"
   ]
  },
  {
   "cell_type": "code",
   "execution_count": null,
   "id": "8b82d654-2cd5-46d4-afd9-d394df2eb1af",
   "metadata": {},
   "outputs": [],
   "source": [
    "print(airline_passengers.mean())\n",
    "print(airline_passengers.std())\n",
    "print(airline_passengers.variance())\n",
    "print(airline_passengers.max_min_range())\n",
    "print(airline_passengers.get_statistics())"
   ]
  },
  {
   "cell_type": "code",
   "execution_count": null,
   "id": "765bbf55-dc98-48ca-b24e-7de81ce11179",
   "metadata": {},
   "outputs": [],
   "source": [
    "airline_passengers.plot(90)"
   ]
  },
  {
   "cell_type": "code",
   "execution_count": null,
   "id": "633c4826-fcbd-451b-862f-40f9ef448d5c",
   "metadata": {},
   "outputs": [],
   "source": [
    "airline_passengers.plot_autocorrelation(30, plot_full=True)"
   ]
  },
  {
   "cell_type": "code",
   "execution_count": null,
   "id": "43026d16-3d13-4fe8-ab62-75cdc2aef091",
   "metadata": {},
   "outputs": [],
   "source": [
    "airline_passengers.scatter_plot(1)"
   ]
  },
  {
   "cell_type": "code",
   "execution_count": null,
   "id": "a9a0c383-f281-41e4-9b64-1b73518ce0a0",
   "metadata": {},
   "outputs": [],
   "source": [
    "print(airline_passengers.get_historical_data(series))"
   ]
  },
  {
   "cell_type": "code",
   "execution_count": null,
   "id": "44aeb5a5-8f8a-436c-aabe-257e5af84767",
   "metadata": {},
   "outputs": [],
   "source": [
    "print(airline_passengers.get_true_label_data(series))"
   ]
  },
  {
   "cell_type": "code",
   "execution_count": null,
   "id": "04b3a977-4fbe-42e1-bddd-290903be9c2f",
   "metadata": {},
   "outputs": [],
   "source": [
    "stationary_series"
   ]
  }
 ],
 "metadata": {
  "kernelspec": {
   "display_name": "Python 3 (ipykernel)",
   "language": "python",
   "name": "python3"
  },
  "language_info": {
   "codemirror_mode": {
    "name": "ipython",
    "version": 3
   },
   "file_extension": ".py",
   "mimetype": "text/x-python",
   "name": "python",
   "nbconvert_exporter": "python",
   "pygments_lexer": "ipython3",
   "version": "3.9.16"
  }
 },
 "nbformat": 4,
 "nbformat_minor": 5
}
