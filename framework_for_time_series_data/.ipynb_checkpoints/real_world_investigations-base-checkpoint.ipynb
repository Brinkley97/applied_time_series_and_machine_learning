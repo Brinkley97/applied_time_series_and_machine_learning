{
 "cells": [
  {
   "cell_type": "markdown",
   "id": "c62c292e-96b6-4e20-a645-33334e429a64",
   "metadata": {
    "tags": []
   },
   "source": [
    "# On Analyzing Real World Time Series for Forecasting\n",
    "Throughtout this notebook, we will do some preliminary investigations on time series datasets that come from real world problems. We'll begin by conducting exploratory data analysis and then begin developing our models.\n",
    "\n",
    "## What Needs to be Done\n",
    "- [ ] Map out system structure for performing our computations of interest.\n",
    "- [ ] Flush out a few models of interest so we can make forecast on real world data.\n",
    "- [ ] Develop the abstraction for our `Model` class that most models typically have when forecasting\n",
    "- [x] Figure out whether the data we're analyzing is stationary or not.\n",
    "- [ ] Write support for `ARIMA` class of models.\n",
    "- [ ] Revisit chapter 2 and add support for other quantities of interest to compute.\n",
    "- [ ] When ploting actual forecasts vs predicted forecasts, add dates.\n",
    "- [ ] Return the specific date for the max, min, and range. See max_min_range() in time_series.py\n",
    "- [ ] Graph the reciprocal roots\n",
    "\n",
    "### Attributes:\n",
    "1. data: A list or array-like structure storing the time series data points.\n",
    "2. timestamps: A list or array-like structure that stores the timestamps for each data point. It could be dates, times, or simply indices.\n",
    "3. frequency: A string or some identifier representing the frequency of data collection (e.g., 'daily', 'monthly').\n",
    "\n",
    "### Methods:\n",
    "5. decompose(): To decompose the time series into trend, seasonality, and residuals.\n",
    "7. train_test_split(split_ratio): To split the data into a training and test set.\n",
    "8. smoothing(method): Apply various smoothing techniques (e.g., moving average).\n",
    "\n",
    "### Files:\n",
    "8. time_series: A python module that contain classes and methods/functions.\n",
    "9. data_loader: A python module that loads data. In this module, we have functions for loading passenger airline and Yahoo Finance stock data."
   ]
  },
  {
   "cell_type": "markdown",
   "id": "7e35bdb8-48f7-49e4-a36f-6af74898f205",
   "metadata": {},
   "source": [
    "## Airline Passenger Data Analysis"
   ]
  },
  {
   "cell_type": "markdown",
   "id": "f831e037-f926-4bc8-84ec-fdb30ca7802a",
   "metadata": {},
   "source": [
    "## Stock Data Analysis"
   ]
  },
  {
   "cell_type": "markdown",
   "id": "8bf828b6-f0b0-4870-bd37-b28847fef264",
   "metadata": {},
   "source": [
    "## Misc Data"
   ]
  }
 ],
 "metadata": {
  "kernelspec": {
   "display_name": "Python 3 (ipykernel)",
   "language": "python",
   "name": "python3"
  },
  "language_info": {
   "codemirror_mode": {
    "name": "ipython",
    "version": 3
   },
   "file_extension": ".py",
   "mimetype": "text/x-python",
   "name": "python",
   "nbconvert_exporter": "python",
   "pygments_lexer": "ipython3",
   "version": "3.9.16"
  }
 },
 "nbformat": 4,
 "nbformat_minor": 5
}
