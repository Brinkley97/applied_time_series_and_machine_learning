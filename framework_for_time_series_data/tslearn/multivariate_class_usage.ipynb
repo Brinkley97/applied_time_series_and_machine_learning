{
 "cells": [
  {
   "cell_type": "markdown",
   "metadata": {},
   "source": [
    "# Multivariate Class Usage"
   ]
  },
  {
   "cell_type": "code",
   "execution_count": null,
   "metadata": {},
   "outputs": [],
   "source": [
    "import os\n",
    "import sys\n",
    "# Get the current working directory of the notebook\n",
    "# notebook_dir = os.getcwd()\n",
    "\n",
    "# Add the parent directory to the system path\n",
    "# sys.path.append(os.path.join(notebook_dir, '../tslearn/'))\n",
    "\n",
    "from collections import namedtuple\n",
    "from data_loader import build_stock_uts, build_downloaded_stock_uts\n",
    "from ts_models import RandomWalk, ARMA, EvaluationMetric\n",
    "from time_series import TimeSeriesFactory, TimeSeriesMixin, UnivariateTimeSeries"
   ]
  },
  {
   "cell_type": "markdown",
   "metadata": {},
   "source": [
    "## Stock Data Analysis with Forecasts\n",
    "\n",
    "1. Load Raw Data\n",
    "2. Plot Raw Data\n",
    "3. Get Descriptive Statistics (ie: mean, median, range, etc) of Raw Data\n",
    "4. Check Stationarity of Raw Data\n",
    "5. Plot Autocorrelation and Partial Autocorrelation of Raw Data\n",
    "6. Get Returns Data\n",
    "7. Plot Returns Data\n",
    "8. Get Descriptive Statistics (ie: mean, median, range, etc) of Returns Data\n",
    "9. Check Stationarity of Returns Data\n",
    "10. Plot Autocorrelation and Partial Autocorrelation of Returns Data\n",
    "11. Split Returns Data\n",
    "12. Initialize Autoregressive `AR(p)` Model\n",
    "13. Predict Forecasts for Returns Data\n",
    "14. Plot Actual Forecasts vs Predicted Forecasts for Returns Data\n",
    "24. Follow-up"
   ]
  },
  {
   "cell_type": "markdown",
   "metadata": {},
   "source": [
    "### Load Raw Data"
   ]
  },
  {
   "cell_type": "code",
   "execution_count": null,
   "metadata": {},
   "outputs": [],
   "source": [
    "# # Only grab stocks whose data is available for the entire time period\n",
    "# start_date, end_date = \"2010-01-04\", \"2024-12-30\"\n",
    "# Stock = namedtuple(\"Stock\", [\"symbol\", \"name\"])\n",
    "# stocks = [\n",
    "#     (\"000001.SS\", \"Shanghai Composite Index\")\n",
    "# ]\n",
    "independent_variable = \"Close\"\n",
    "# # frequency = \n",
    "# stocks = [Stock(*s) for s in stocks]\n",
    "# stocks = {s.symbol: build_stock_uts(s.symbol, s.name, independent_variable, start_date=start_date, end_date=end_date, frequency='1d') for s in stocks}"
   ]
  },
  {
   "cell_type": "code",
   "execution_count": null,
   "metadata": {},
   "outputs": [],
   "source": [
    "# values_cols = list(stocks.keys())\n",
    "# stock_mvts = TimeSeriesFactory.create_time_series(\n",
    "#     time_col=\"date\",\n",
    "#     time_values=stocks[values_cols[0]].data.index,\n",
    "#     values_cols=values_cols,\n",
    "#     values=[stock.get_series() for stock in stocks.values()]\n",
    "# )"
   ]
  },
  {
   "cell_type": "code",
   "execution_count": null,
   "metadata": {},
   "outputs": [],
   "source": [
    "# stock_symbol = '000001.SS'\n",
    "# stock_of_interest = stocks[stock_symbol]\n",
    "# type(stock_of_interest), stock_of_interest"
   ]
  },
  {
   "cell_type": "code",
   "execution_count": null,
   "metadata": {},
   "outputs": [],
   "source": [
    "FILE_NAME = 'VOO_DAILY_06-02-23_TO_06-06-22'\n",
    "stock_of_interest = build_downloaded_stock_uts(FILE_NAME, independent_variable)\n",
    "type(stock_of_interest), stock_of_interest"
   ]
  },
  {
   "cell_type": "code",
   "execution_count": null,
   "metadata": {},
   "outputs": [],
   "source": [
    "stock_series = stock_of_interest.get_as_df()\n",
    "stock_series"
   ]
  },
  {
   "cell_type": "code",
   "execution_count": null,
   "metadata": {},
   "outputs": [],
   "source": [
    "n_steps = 3\n",
    "output_size = 2\n",
    "\n",
    "mv_stock_of_interest = stock_of_interest.augment_data(n_steps, output_size)\n",
    "mv_stock_of_interest"
   ]
  },
  {
   "cell_type": "code",
   "execution_count": null,
   "metadata": {},
   "outputs": [],
   "source": [
    "mv_stock_of_interest.get_as_df()"
   ]
  },
  {
   "cell_type": "markdown",
   "metadata": {},
   "source": [
    "### Plot Raw Data"
   ]
  },
  {
   "cell_type": "code",
   "execution_count": null,
   "metadata": {},
   "outputs": [],
   "source": [
    "# mv_stock_of_interest.get_columns()"
   ]
  },
  {
   "cell_type": "code",
   "execution_count": null,
   "metadata": {},
   "outputs": [],
   "source": [
    "uv_stock_of_interest = mv_stock_of_interest.__getitem__(\"t-2\")\n",
    "uv_stock_of_interest"
   ]
  },
  {
   "cell_type": "code",
   "execution_count": null,
   "metadata": {},
   "outputs": [],
   "source": [
    "uv_stock_of_interest.get_as_df()"
   ]
  },
  {
   "cell_type": "code",
   "execution_count": null,
   "metadata": {},
   "outputs": [],
   "source": [
    "mv_stock_of_interest.plot()"
   ]
  },
  {
   "cell_type": "code",
   "execution_count": null,
   "metadata": {},
   "outputs": [],
   "source": []
  }
 ],
 "metadata": {
  "kernelspec": {
   "display_name": "time_series",
   "language": "python",
   "name": "python3"
  },
  "language_info": {
   "codemirror_mode": {
    "name": "ipython",
    "version": 3
   },
   "file_extension": ".py",
   "mimetype": "text/x-python",
   "name": "python",
   "nbconvert_exporter": "python",
   "pygments_lexer": "ipython3",
   "version": "3.9.-1"
  }
 },
 "nbformat": 4,
 "nbformat_minor": 2
}
