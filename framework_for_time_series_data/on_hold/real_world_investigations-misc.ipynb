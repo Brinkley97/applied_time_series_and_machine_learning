{
 "cells": [
  {
   "cell_type": "markdown",
   "id": "c62c292e-96b6-4e20-a645-33334e429a64",
   "metadata": {
    "tags": []
   },
   "source": [
    "# On Analyzing Real World Time Series for Forecasting: Generated Stationary Data\n",
    "- NOTES: [real_world_investigations-base.ipynb](https://github.com/Brinkley97/applied_time_series_and_machine_learning/blob/main/framework_for_time_series_data/real_world_investigations-base.ipynb) by Detravious"
   ]
  },
  {
   "cell_type": "code",
   "execution_count": 1,
   "id": "894b3e18-f6c9-438c-bc7f-148cab92d6b4",
   "metadata": {},
   "outputs": [],
   "source": [
    "import os\n",
    "import sys\n",
    "# Get the current working directory of the notebook\n",
    "notebook_dir = os.getcwd()\n",
    "\n",
    "# Add the parent directory to the system path\n",
    "sys.path.append(os.path.join(notebook_dir, '..'))\n",
    "\n",
    "from collections import namedtuple\n",
    "from ts_models import Model, AR, EvaluationMetric\n",
    "from data_loader import build_any_univariate_time_series\n",
    "from time_series import TimeSeriesFactory, UnivariateTimeSeries"
   ]
  },
  {
   "cell_type": "markdown",
   "id": "8bf828b6-f0b0-4870-bd37-b28847fef264",
   "metadata": {},
   "source": [
    "## Generated Stationary Data Pipeline\n",
    "\n",
    "1. Load Raw Data\n",
    "2. Plot Raw Data\n",
    "3. Get Descriptive Statistics (ie: mean, median, etc)\n",
    "4. Check Stationarity of Raw Data\n",
    "5. Plot Autocorrelation and Partial Autocorrelation\n",
    "6. Split Data\n",
    "7. Initialize Autoregressive AR(p) Model\n",
    "8. Predict Forecasts\n",
    "9. Plot Actual Forecasts vs Predicted Forecasts"
   ]
  },
  {
   "cell_type": "markdown",
   "id": "0e09ba0c-4969-45b5-9917-a5c5e7d95c14",
   "metadata": {},
   "source": [
    "### Load Raw Data"
   ]
  },
  {
   "cell_type": "code",
   "execution_count": 2,
   "id": "d426242d-c187-424c-8800-ff9fee0efec7",
   "metadata": {},
   "outputs": [],
   "source": [
    "file = \"../datasets/generated_stationary_time_series.npy\""
   ]
  },
  {
   "cell_type": "code",
   "execution_count": 3,
   "id": "1e9f721d-31cb-40ca-b735-d6fe89582cbd",
   "metadata": {},
   "outputs": [
    {
     "data": {
      "text/plain": [
       "UnivariateTimeSeries(Observations)"
      ]
     },
     "execution_count": 3,
     "metadata": {},
     "output_type": "execute_result"
    }
   ],
   "source": [
    "generated_stationary_ts = build_any_univariate_time_series(file)\n",
    "generated_stationary_ts"
   ]
  },
  {
   "cell_type": "markdown",
   "id": "3ef67638-ca66-4250-b48a-6f3ce04b4fe1",
   "metadata": {},
   "source": [
    "- `class`: UnivariateTimeSeries\n",
    "- `object`: temperatures\n",
    "- `.method()`: get_as_df() and see more below"
   ]
  },
  {
   "cell_type": "code",
   "execution_count": 4,
   "id": "05867ccb-7aef-484e-b385-6770edb303d4",
   "metadata": {},
   "outputs": [
    {
     "data": {
      "text/html": [
       "<div>\n",
       "<style scoped>\n",
       "    .dataframe tbody tr th:only-of-type {\n",
       "        vertical-align: middle;\n",
       "    }\n",
       "\n",
       "    .dataframe tbody tr th {\n",
       "        vertical-align: top;\n",
       "    }\n",
       "\n",
       "    .dataframe thead th {\n",
       "        text-align: right;\n",
       "    }\n",
       "</style>\n",
       "<table border=\"1\" class=\"dataframe\">\n",
       "  <thead>\n",
       "    <tr style=\"text-align: right;\">\n",
       "      <th></th>\n",
       "      <th>Observations</th>\n",
       "    </tr>\n",
       "    <tr>\n",
       "      <th>Timestamp</th>\n",
       "      <th></th>\n",
       "    </tr>\n",
       "  </thead>\n",
       "  <tbody>\n",
       "    <tr>\n",
       "      <th>0</th>\n",
       "      <td>0.000000e+00</td>\n",
       "    </tr>\n",
       "    <tr>\n",
       "      <th>1</th>\n",
       "      <td>5.877853e-01</td>\n",
       "    </tr>\n",
       "    <tr>\n",
       "      <th>2</th>\n",
       "      <td>9.510565e-01</td>\n",
       "    </tr>\n",
       "    <tr>\n",
       "      <th>3</th>\n",
       "      <td>9.510565e-01</td>\n",
       "    </tr>\n",
       "    <tr>\n",
       "      <th>4</th>\n",
       "      <td>5.877853e-01</td>\n",
       "    </tr>\n",
       "    <tr>\n",
       "      <th>...</th>\n",
       "      <td>...</td>\n",
       "    </tr>\n",
       "    <tr>\n",
       "      <th>95</th>\n",
       "      <td>5.879543e-15</td>\n",
       "    </tr>\n",
       "    <tr>\n",
       "      <th>96</th>\n",
       "      <td>-5.877853e-01</td>\n",
       "    </tr>\n",
       "    <tr>\n",
       "      <th>97</th>\n",
       "      <td>-9.510565e-01</td>\n",
       "    </tr>\n",
       "    <tr>\n",
       "      <th>98</th>\n",
       "      <td>-9.510565e-01</td>\n",
       "    </tr>\n",
       "    <tr>\n",
       "      <th>99</th>\n",
       "      <td>-5.877853e-01</td>\n",
       "    </tr>\n",
       "  </tbody>\n",
       "</table>\n",
       "<p>100 rows × 1 columns</p>\n",
       "</div>"
      ],
      "text/plain": [
       "           Observations\n",
       "Timestamp              \n",
       "0          0.000000e+00\n",
       "1          5.877853e-01\n",
       "2          9.510565e-01\n",
       "3          9.510565e-01\n",
       "4          5.877853e-01\n",
       "...                 ...\n",
       "95         5.879543e-15\n",
       "96        -5.877853e-01\n",
       "97        -9.510565e-01\n",
       "98        -9.510565e-01\n",
       "99        -5.877853e-01\n",
       "\n",
       "[100 rows x 1 columns]"
      ]
     },
     "execution_count": 4,
     "metadata": {},
     "output_type": "execute_result"
    }
   ],
   "source": [
    "gsts_df = generated_stationary_ts.get_as_df()\n",
    "gsts_df"
   ]
  },
  {
   "cell_type": "markdown",
   "id": "90497964-89a7-4b9d-b6b0-c6eb2d881d5f",
   "metadata": {},
   "source": [
    "### Plot Raw Data"
   ]
  },
  {
   "cell_type": "code",
   "execution_count": 5,
   "id": "36c111bb-6cd4-42d5-8b51-f8750f344a23",
   "metadata": {},
   "outputs": [
    {
     "data": {
      "image/png": "[encoded data removed]",
      "text/plain": [
       "<Figure size 2000x500 with 1 Axes>"
      ]
     },
     "metadata": {},
     "output_type": "display_data"
    }
   ],
   "source": [
    "generated_stationary_ts.plot(tick_skip=20)"
   ]
  },
  {
   "cell_type": "markdown",
   "id": "fdcc9ce4-db1d-4b86-b03b-aab2ae084f11",
   "metadata": {},
   "source": [
    "### Get Descriptive Statistics"
   ]
  },
  {
   "cell_type": "code",
   "execution_count": 6,
   "id": "e5ed455d-0843-4442-8705-d797913ed3f7",
   "metadata": {},
   "outputs": [
    {
     "data": {
      "text/html": [
       "<div>\n",
       "<style scoped>\n",
       "    .dataframe tbody tr th:only-of-type {\n",
       "        vertical-align: middle;\n",
       "    }\n",
       "\n",
       "    .dataframe tbody tr th {\n",
       "        vertical-align: top;\n",
       "    }\n",
       "\n",
       "    .dataframe thead th {\n",
       "        text-align: right;\n",
       "    }\n",
       "</style>\n",
       "<table border=\"1\" class=\"dataframe\">\n",
       "  <thead>\n",
       "    <tr style=\"text-align: right;\">\n",
       "      <th></th>\n",
       "      <th>Observations</th>\n",
       "    </tr>\n",
       "  </thead>\n",
       "  <tbody>\n",
       "    <tr>\n",
       "      <th>count</th>\n",
       "      <td>1.000000e+02</td>\n",
       "    </tr>\n",
       "    <tr>\n",
       "      <th>mean</th>\n",
       "      <td>-2.553513e-17</td>\n",
       "    </tr>\n",
       "    <tr>\n",
       "      <th>std</th>\n",
       "      <td>7.106691e-01</td>\n",
       "    </tr>\n",
       "    <tr>\n",
       "      <th>min</th>\n",
       "      <td>-9.510565e-01</td>\n",
       "    </tr>\n",
       "    <tr>\n",
       "      <th>25%</th>\n",
       "      <td>-5.877853e-01</td>\n",
       "    </tr>\n",
       "    <tr>\n",
       "      <th>50%</th>\n",
       "      <td>-3.673940e-16</td>\n",
       "    </tr>\n",
       "    <tr>\n",
       "      <th>75%</th>\n",
       "      <td>5.877853e-01</td>\n",
       "    </tr>\n",
       "    <tr>\n",
       "      <th>max</th>\n",
       "      <td>9.510565e-01</td>\n",
       "    </tr>\n",
       "  </tbody>\n",
       "</table>\n",
       "</div>"
      ],
      "text/plain": [
       "       Observations\n",
       "count  1.000000e+02\n",
       "mean  -2.553513e-17\n",
       "std    7.106691e-01\n",
       "min   -9.510565e-01\n",
       "25%   -5.877853e-01\n",
       "50%   -3.673940e-16\n",
       "75%    5.877853e-01\n",
       "max    9.510565e-01"
      ]
     },
     "execution_count": 6,
     "metadata": {},
     "output_type": "execute_result"
    }
   ],
   "source": [
    "generated_stationary_ts.get_statistics()"
   ]
  },
  {
   "cell_type": "code",
   "execution_count": 7,
   "id": "9360a53b-9501-4d2e-8133-c66a8f2b4b3c",
   "metadata": {},
   "outputs": [
    {
     "data": {
      "text/plain": [
       "{'Max': Observations    0.951057\n",
       " dtype: float64,\n",
       " 'Min': Observations   -0.951057\n",
       " dtype: float64,\n",
       " 'Range': Observations    1.902113\n",
       " dtype: float64}"
      ]
     },
     "execution_count": 7,
     "metadata": {},
     "output_type": "execute_result"
    }
   ],
   "source": [
    "generated_stationary_ts.max_min_range()"
   ]
  },
  {
   "cell_type": "markdown",
   "id": "ed09f284-6ccd-4a9c-8ae7-a228f6a42aab",
   "metadata": {},
   "source": [
    "### Check Stationarity of Raw Data"
   ]
  },
  {
   "cell_type": "code",
   "execution_count": 8,
   "id": "4e30109a-e341-4cd9-99a1-41ad16568bca",
   "metadata": {},
   "outputs": [
    {
     "name": "stdout",
     "output_type": "stream",
     "text": [
      "ADF Statistic: -1002118370977237.000000\n",
      "p-value: 0.000000 < 0.05 , so reject null-hypothesis as the TS is stationary\n",
      "Critical Values:\n",
      "\t1%: -3.499\n",
      "\t5%: -2.892\n",
      "\t10%: -2.583\n"
     ]
    }
   ],
   "source": [
    "generated_stationary_ts.stationarity_test(gsts_df)"
   ]
  },
  {
   "cell_type": "markdown",
   "id": "1572de72-edce-47f9-ad63-597928622f74",
   "metadata": {},
   "source": [
    "### Plot Autocorrelation and Partial Autocorrelation\n",
    "- How the relationship between the current observation and it's historical observations correlate at that specific k-th lag.\n",
    "- In this case, we have a cycle of postive correlation and negative correlation for every 4 observations.\n",
    "- Look at which points fall outside of blue region."
   ]
  },
  {
   "cell_type": "code",
   "execution_count": 9,
   "id": "eb90142d-e9c7-4cd9-bc85-6ab590b95b86",
   "metadata": {},
   "outputs": [
    {
     "data": {
      "image/png": "[encoded data removed]",
      "text/plain": [
       "<Figure size 2000x400 with 1 Axes>"
      ]
     },
     "metadata": {},
     "output_type": "display_data"
    },
    {
     "data": {
      "image/png": "[encoded data removed]",
      "text/plain": [
       "<Figure size 640x480 with 1 Axes>"
      ]
     },
     "metadata": {},
     "output_type": "display_data"
    }
   ],
   "source": [
    "generated_stationary_ts.plot_autocorrelation(35)"
   ]
  },
  {
   "cell_type": "markdown",
   "id": "3979977a-8d30-4b64-aae4-e5d4034ab3a7",
   "metadata": {},
   "source": [
    "- Here, the k-th observations is the 3rd that falls outside of blue region\n",
    "- Why do this differ from ACor so much?"
   ]
  },
  {
   "cell_type": "code",
   "execution_count": 10,
   "id": "b7b6deee-e43c-4d58-b632-fb51d1ae5fa6",
   "metadata": {},
   "outputs": [
    {
     "data": {
      "image/png": "[encoded data removed]",
      "text/plain": [
       "<Figure size 640x480 with 1 Axes>"
      ]
     },
     "metadata": {},
     "output_type": "display_data"
    }
   ],
   "source": [
    "generated_stationary_ts.plot_partial_autocorrelation(35)"
   ]
  },
  {
   "cell_type": "markdown",
   "id": "f2f85933-1d31-44d7-9bab-efcef6f30249",
   "metadata": {},
   "source": [
    "### Split Data\n",
    "- Splitting so we can forecast the last 7 days. Do this type of forecast to see how model is performing. If model performs how we need, then update notebook to forecast the next 7 days."
   ]
  },
  {
   "cell_type": "code",
   "execution_count": 11,
   "id": "1f76615a-ec4c-472b-973a-0c3e12a11fc5",
   "metadata": {},
   "outputs": [
    {
     "name": "stdout",
     "output_type": "stream",
     "text": [
      "0 93\n",
      "93 93\n",
      "93 100\n"
     ]
    }
   ],
   "source": [
    "train, validation, test = generated_stationary_ts.get_train_validation_test_split(0.93, 0.0)"
   ]
  },
  {
   "cell_type": "code",
   "execution_count": 12,
   "id": "90dac4cd-c920-4e6e-bf45-1650effe8b2a",
   "metadata": {},
   "outputs": [
    {
     "data": {
      "text/html": [
       "<div>\n",
       "<style scoped>\n",
       "    .dataframe tbody tr th:only-of-type {\n",
       "        vertical-align: middle;\n",
       "    }\n",
       "\n",
       "    .dataframe tbody tr th {\n",
       "        vertical-align: top;\n",
       "    }\n",
       "\n",
       "    .dataframe thead th {\n",
       "        text-align: right;\n",
       "    }\n",
       "</style>\n",
       "<table border=\"1\" class=\"dataframe\">\n",
       "  <thead>\n",
       "    <tr style=\"text-align: right;\">\n",
       "      <th></th>\n",
       "      <th>UnivariateTimeSeries(Observations)[0:93]</th>\n",
       "    </tr>\n",
       "    <tr>\n",
       "      <th>Timestamp</th>\n",
       "      <th></th>\n",
       "    </tr>\n",
       "  </thead>\n",
       "  <tbody>\n",
       "    <tr>\n",
       "      <th>0</th>\n",
       "      <td>0.000000e+00</td>\n",
       "    </tr>\n",
       "    <tr>\n",
       "      <th>1</th>\n",
       "      <td>5.877853e-01</td>\n",
       "    </tr>\n",
       "    <tr>\n",
       "      <th>2</th>\n",
       "      <td>9.510565e-01</td>\n",
       "    </tr>\n",
       "    <tr>\n",
       "      <th>3</th>\n",
       "      <td>9.510565e-01</td>\n",
       "    </tr>\n",
       "    <tr>\n",
       "      <th>4</th>\n",
       "      <td>5.877853e-01</td>\n",
       "    </tr>\n",
       "    <tr>\n",
       "      <th>...</th>\n",
       "      <td>...</td>\n",
       "    </tr>\n",
       "    <tr>\n",
       "      <th>88</th>\n",
       "      <td>-9.510565e-01</td>\n",
       "    </tr>\n",
       "    <tr>\n",
       "      <th>89</th>\n",
       "      <td>-5.877853e-01</td>\n",
       "    </tr>\n",
       "    <tr>\n",
       "      <th>90</th>\n",
       "      <td>-2.204364e-15</td>\n",
       "    </tr>\n",
       "    <tr>\n",
       "      <th>91</th>\n",
       "      <td>5.877853e-01</td>\n",
       "    </tr>\n",
       "    <tr>\n",
       "      <th>92</th>\n",
       "      <td>9.510565e-01</td>\n",
       "    </tr>\n",
       "  </tbody>\n",
       "</table>\n",
       "<p>93 rows × 1 columns</p>\n",
       "</div>"
      ],
      "text/plain": [
       "           UnivariateTimeSeries(Observations)[0:93]\n",
       "Timestamp                                          \n",
       "0                                      0.000000e+00\n",
       "1                                      5.877853e-01\n",
       "2                                      9.510565e-01\n",
       "3                                      9.510565e-01\n",
       "4                                      5.877853e-01\n",
       "...                                             ...\n",
       "88                                    -9.510565e-01\n",
       "89                                    -5.877853e-01\n",
       "90                                    -2.204364e-15\n",
       "91                                     5.877853e-01\n",
       "92                                     9.510565e-01\n",
       "\n",
       "[93 rows x 1 columns]"
      ]
     },
     "execution_count": 12,
     "metadata": {},
     "output_type": "execute_result"
    }
   ],
   "source": [
    "train.get_as_df()"
   ]
  },
  {
   "cell_type": "code",
   "execution_count": 13,
   "id": "61227798-ff68-4e09-9251-e5beaf4ba385",
   "metadata": {},
   "outputs": [
    {
     "data": {
      "text/html": [
       "<div>\n",
       "<style scoped>\n",
       "    .dataframe tbody tr th:only-of-type {\n",
       "        vertical-align: middle;\n",
       "    }\n",
       "\n",
       "    .dataframe tbody tr th {\n",
       "        vertical-align: top;\n",
       "    }\n",
       "\n",
       "    .dataframe thead th {\n",
       "        text-align: right;\n",
       "    }\n",
       "</style>\n",
       "<table border=\"1\" class=\"dataframe\">\n",
       "  <thead>\n",
       "    <tr style=\"text-align: right;\">\n",
       "      <th></th>\n",
       "      <th>UnivariateTimeSeries(Observations)[93:93]</th>\n",
       "    </tr>\n",
       "    <tr>\n",
       "      <th>Timestamp</th>\n",
       "      <th></th>\n",
       "    </tr>\n",
       "  </thead>\n",
       "  <tbody>\n",
       "  </tbody>\n",
       "</table>\n",
       "</div>"
      ],
      "text/plain": [
       "Empty DataFrame\n",
       "Columns: [UnivariateTimeSeries(Observations)[93:93]]\n",
       "Index: []"
      ]
     },
     "execution_count": 13,
     "metadata": {},
     "output_type": "execute_result"
    }
   ],
   "source": [
    "validation.get_as_df()"
   ]
  },
  {
   "cell_type": "code",
   "execution_count": 14,
   "id": "b25f4ac2-fc83-4ef4-a20a-5587760932ab",
   "metadata": {},
   "outputs": [
    {
     "data": {
      "text/html": [
       "<div>\n",
       "<style scoped>\n",
       "    .dataframe tbody tr th:only-of-type {\n",
       "        vertical-align: middle;\n",
       "    }\n",
       "\n",
       "    .dataframe tbody tr th {\n",
       "        vertical-align: top;\n",
       "    }\n",
       "\n",
       "    .dataframe thead th {\n",
       "        text-align: right;\n",
       "    }\n",
       "</style>\n",
       "<table border=\"1\" class=\"dataframe\">\n",
       "  <thead>\n",
       "    <tr style=\"text-align: right;\">\n",
       "      <th></th>\n",
       "      <th>UnivariateTimeSeries(Observations)[93:100]</th>\n",
       "    </tr>\n",
       "    <tr>\n",
       "      <th>Timestamp</th>\n",
       "      <th></th>\n",
       "    </tr>\n",
       "  </thead>\n",
       "  <tbody>\n",
       "    <tr>\n",
       "      <th>93</th>\n",
       "      <td>9.510565e-01</td>\n",
       "    </tr>\n",
       "    <tr>\n",
       "      <th>94</th>\n",
       "      <td>5.877853e-01</td>\n",
       "    </tr>\n",
       "    <tr>\n",
       "      <th>95</th>\n",
       "      <td>5.879543e-15</td>\n",
       "    </tr>\n",
       "    <tr>\n",
       "      <th>96</th>\n",
       "      <td>-5.877853e-01</td>\n",
       "    </tr>\n",
       "    <tr>\n",
       "      <th>97</th>\n",
       "      <td>-9.510565e-01</td>\n",
       "    </tr>\n",
       "    <tr>\n",
       "      <th>98</th>\n",
       "      <td>-9.510565e-01</td>\n",
       "    </tr>\n",
       "    <tr>\n",
       "      <th>99</th>\n",
       "      <td>-5.877853e-01</td>\n",
       "    </tr>\n",
       "  </tbody>\n",
       "</table>\n",
       "</div>"
      ],
      "text/plain": [
       "           UnivariateTimeSeries(Observations)[93:100]\n",
       "Timestamp                                            \n",
       "93                                       9.510565e-01\n",
       "94                                       5.877853e-01\n",
       "95                                       5.879543e-15\n",
       "96                                      -5.877853e-01\n",
       "97                                      -9.510565e-01\n",
       "98                                      -9.510565e-01\n",
       "99                                      -5.877853e-01"
      ]
     },
     "execution_count": 14,
     "metadata": {},
     "output_type": "execute_result"
    }
   ],
   "source": [
    "test.get_as_df()"
   ]
  },
  {
   "cell_type": "code",
   "execution_count": 15,
   "id": "4d2df063-1269-4b98-a713-8b412efbcffb",
   "metadata": {},
   "outputs": [
    {
     "data": {
      "text/plain": [
       "array([ 9.51056516e-01,  5.87785252e-01,  5.87954260e-15, -5.87785252e-01,\n",
       "       -9.51056516e-01, -9.51056516e-01, -5.87785252e-01])"
      ]
     },
     "execution_count": 15,
     "metadata": {},
     "output_type": "execute_result"
    }
   ],
   "source": [
    "expected_forecast = test.get_series()\n",
    "expected_forecast"
   ]
  },
  {
   "cell_type": "markdown",
   "id": "ef9b1484-352d-4f74-9d9d-a2766538dce6",
   "metadata": {},
   "source": [
    "### Initialize Autoregressive AR(p) Model\n",
    "- How to determine the proper lag value? Look at the Partial ACor plot. Being that we're out of the blue area at lag 3, we'll set our lag to be 3. \n",
    "    - Why Partial ACor plot and not ACor plot?\n",
    "    - What if we take lags from ACor plot anyway? Say lags 5, 10, and 15 because they all have the most correlation (postive and negative) for their clusters, respectfully.\n",
    "- How to understand the model summary?"
   ]
  },
  {
   "cell_type": "code",
   "execution_count": 16,
   "id": "fdbc669d-6f1b-4190-a2d7-e36369b4c83b",
   "metadata": {},
   "outputs": [],
   "source": [
    "lags_to_test = [3, 5, 10, 15]"
   ]
  },
  {
   "cell_type": "code",
   "execution_count": 17,
   "id": "c65cbdd0-bb55-4632-9e95-24bf6fc8bcec",
   "metadata": {},
   "outputs": [
    {
     "name": "stdout",
     "output_type": "stream",
     "text": [
      "Model 1 with a lag of 3\n",
      "                            AutoReg Model Results                             \n",
      "==============================================================================\n",
      "Dep. Variable:                      y   No. Observations:                   93\n",
      "Model:                     AutoReg(3)   Log Likelihood                 236.649\n",
      "Method:               Conditional MLE   S.D. of innovations              0.017\n",
      "Date:                Sat, 09 Dec 2023   AIC                           -463.297\n",
      "Time:                        19:35:25   BIC                           -450.798\n",
      "Sample:                             3   HQIC                          -458.257\n",
      "                                   93                                         \n",
      "==============================================================================\n",
      "                 coef    std err          z      P>|z|      [0.025      0.975]\n",
      "------------------------------------------------------------------------------\n",
      "const      -5.551e-17      0.002  -3.02e-14      1.000      -0.004       0.004\n",
      "y.L1           1.0322   7.62e+11   1.35e-12      1.000   -1.49e+12    1.49e+12\n",
      "y.L2          -0.0215   1.23e+12  -1.74e-14      1.000   -2.42e+12    2.42e+12\n",
      "y.L3          -0.5938   7.62e+11  -7.79e-13      1.000   -1.49e+12    1.49e+12\n",
      "                                    Roots                                    \n",
      "=============================================================================\n",
      "                  Real          Imaginary           Modulus         Frequency\n",
      "-----------------------------------------------------------------------------\n",
      "AR.1            0.8193           -0.5783j            1.0028           -0.0978\n",
      "AR.2            0.8193           +0.5783j            1.0028            0.0978\n",
      "AR.3           -1.6747           -0.0000j            1.6747           -0.5000\n",
      "-----------------------------------------------------------------------------\n",
      "\n",
      "Model 2 with a lag of 5\n",
      "                            AutoReg Model Results                             \n",
      "==============================================================================\n",
      "Dep. Variable:                      y   No. Observations:                   93\n",
      "Model:                     AutoReg(5)   Log Likelihood                 327.261\n",
      "Method:               Conditional MLE   S.D. of innovations              0.006\n",
      "Date:                Sat, 09 Dec 2023   AIC                           -640.522\n",
      "Time:                        19:35:25   BIC                           -623.181\n",
      "Sample:                             5   HQIC                          -633.536\n",
      "                                   93                                         \n",
      "==============================================================================\n",
      "                 coef    std err          z      P>|z|      [0.025      0.975]\n",
      "------------------------------------------------------------------------------\n",
      "const      -4.727e-17      0.001  -7.69e-14      1.000      -0.001       0.001\n",
      "y.L1           0.0742   2.27e+11   3.27e-13      1.000   -4.45e+11    4.45e+11\n",
      "y.L2           0.1680   3.23e+11   5.19e-13      1.000   -6.34e+11    6.34e+11\n",
      "y.L3           0.1875   3.82e+11   4.91e-13      1.000   -7.49e+11    7.49e+11\n",
      "y.L4          -0.6514   3.12e+11  -2.08e-12      1.000   -6.12e+11    6.12e+11\n",
      "y.L5          -0.4272   2.16e+11  -1.98e-12      1.000   -4.23e+11    4.23e+11\n",
      "                                    Roots                                    \n",
      "=============================================================================\n",
      "                  Real          Imaginary           Modulus         Frequency\n",
      "-----------------------------------------------------------------------------\n",
      "AR.1            0.8075           -0.5866j            0.9981           -0.1000\n",
      "AR.2            0.8075           +0.5866j            0.9981            0.1000\n",
      "AR.3           -0.6365           -0.9240j            1.1220           -0.3460\n",
      "AR.4           -0.6365           +0.9240j            1.1220            0.3460\n",
      "AR.5           -1.8664           -0.0000j            1.8664           -0.5000\n",
      "-----------------------------------------------------------------------------\n",
      "\n",
      "Model 3 with a lag of 10\n",
      "                            AutoReg Model Results                             \n",
      "==============================================================================\n",
      "Dep. Variable:                      y   No. Observations:                   93\n",
      "Model:                    AutoReg(10)   Log Likelihood                 276.896\n",
      "Method:               Conditional MLE   S.D. of innovations              0.009\n",
      "Date:                Sat, 09 Dec 2023   AIC                           -529.792\n",
      "Time:                        19:35:25   BIC                           -500.766\n",
      "Sample:                            10   HQIC                          -518.131\n",
      "                                   93                                         \n",
      "==============================================================================\n",
      "                 coef    std err          z      P>|z|      [0.025      0.975]\n",
      "------------------------------------------------------------------------------\n",
      "const      -5.898e-17      0.001  -6.57e-14      1.000      -0.002       0.002\n",
      "y.L1           0.0879   2.41e+11   3.64e-13      1.000   -4.73e+11    4.73e+11\n",
      "y.L2           0.0015   2.27e+11   6.46e-15      1.000   -4.45e+11    4.45e+11\n",
      "y.L3           0.1157   2.66e+11   4.36e-13      1.000   -5.21e+11    5.21e+11\n",
      "y.L4          -0.2549   1.94e+11  -1.32e-12      1.000    -3.8e+11     3.8e+11\n",
      "y.L5          -0.2505   2.01e+11  -1.24e-12      1.000   -3.94e+11    3.94e+11\n",
      "y.L6          -0.0713   1.97e+11  -3.63e-13      1.000   -3.85e+11    3.85e+11\n",
      "y.L7          -0.2168   2.45e+11  -8.84e-13      1.000    -4.8e+11     4.8e+11\n",
      "y.L8           0.0957    2.3e+11   4.16e-13      1.000   -4.51e+11    4.51e+11\n",
      "y.L9           0.3049   2.26e+11   1.35e-12      1.000   -4.42e+11    4.42e+11\n",
      "y.L10          0.1147   1.36e+11   8.44e-13      1.000   -2.66e+11    2.66e+11\n",
      "                                    Roots                                     \n",
      "==============================================================================\n",
      "                   Real          Imaginary           Modulus         Frequency\n",
      "------------------------------------------------------------------------------\n",
      "AR.1             0.8072           -0.5879j            0.9986           -0.1002\n",
      "AR.2             0.8072           +0.5879j            0.9986            0.1002\n",
      "AR.3             1.2118           -0.0000j            1.2118           -0.0000\n",
      "AR.4             0.2116           -1.1260j            1.1457           -0.2204\n",
      "AR.5             0.2116           +1.1260j            1.1457            0.2204\n",
      "AR.6            -0.5700           -0.9311j            1.0917           -0.3374\n",
      "AR.7            -0.5700           +0.9311j            1.0917            0.3374\n",
      "AR.8            -1.6405           -0.0000j            1.6405           -0.5000\n",
      "AR.9            -1.5631           -0.6058j            1.6764           -0.4412\n",
      "AR.10           -1.5631           +0.6058j            1.6764            0.4412\n",
      "------------------------------------------------------------------------------\n",
      "\n",
      "Model 4 with a lag of 15\n",
      "                            AutoReg Model Results                             \n",
      "==============================================================================\n",
      "Dep. Variable:                      y   No. Observations:                   93\n",
      "Model:                    AutoReg(15)   Log Likelihood                 231.576\n",
      "Method:               Conditional MLE   S.D. of innovations              0.012\n",
      "Date:                Sat, 09 Dec 2023   AIC                           -429.153\n",
      "Time:                        19:35:25   BIC                           -389.089\n",
      "Sample:                            15   HQIC                          -413.115\n",
      "                                   93                                         \n",
      "==============================================================================\n",
      "                 coef    std err          z      P>|z|      [0.025      0.975]\n",
      "------------------------------------------------------------------------------\n",
      "const      -4.857e-17      0.001  -3.79e-14      1.000      -0.003       0.003\n",
      "y.L1           0.0957   2.99e+11    3.2e-13      1.000   -5.87e+11    5.87e+11\n",
      "y.L2           0.0696   3.18e+11   2.19e-13      1.000   -6.23e+11    6.23e+11\n",
      "y.L3           0.0234   3.18e+11   7.37e-14      1.000   -6.23e+11    6.23e+11\n",
      "y.L4          -0.1523   2.16e+11  -7.04e-13      1.000   -4.24e+11    4.24e+11\n",
      "y.L5          -0.1548   2.68e+11  -5.77e-13      1.000   -5.26e+11    5.26e+11\n",
      "y.L6          -0.1017   1.68e+11  -6.04e-13      1.000    -3.3e+11     3.3e+11\n",
      "y.L7          -0.0879   2.63e+11  -3.34e-13      1.000   -5.16e+11    5.16e+11\n",
      "y.L8           0.0835    2.8e+11   2.99e-13      1.000   -5.48e+11    5.48e+11\n",
      "y.L9           0.1548   2.68e+11   5.77e-13      1.000   -5.25e+11    5.25e+11\n",
      "y.L10          0.0999   1.46e+11   6.86e-13      1.000   -2.85e+11    2.85e+11\n",
      "y.L11          0.1152   2.44e+11   4.72e-13      1.000   -4.78e+11    4.78e+11\n",
      "y.L12          0.0220   2.39e+11    9.2e-14      1.000   -4.68e+11    4.68e+11\n",
      "y.L13         -0.0869   2.72e+11  -3.19e-13      1.000   -5.34e+11    5.34e+11\n",
      "y.L14         -0.0662   2.53e+11  -2.62e-13      1.000   -4.96e+11    4.96e+11\n",
      "y.L15         -0.1064   2.61e+11  -4.07e-13      1.000   -5.13e+11    5.13e+11\n",
      "                                    Roots                                     \n",
      "==============================================================================\n",
      "                   Real          Imaginary           Modulus         Frequency\n",
      "------------------------------------------------------------------------------\n",
      "AR.1             0.8071           -0.5868j            0.9979           -0.1000\n",
      "AR.2             0.8071           +0.5868j            0.9979            0.1000\n",
      "AR.3             1.1428           -0.2109j            1.1621           -0.0290\n",
      "AR.4             1.1428           +0.2109j            1.1621            0.0290\n",
      "AR.5             0.5045           -1.0587j            1.1727           -0.1792\n",
      "AR.6             0.5045           +1.0587j            1.1727            0.1792\n",
      "AR.7            -1.1830           -0.0000j            1.1830           -0.5000\n",
      "AR.8            -1.0780           -0.4755j            1.1782           -0.4339\n",
      "AR.9            -1.0780           +0.4755j            1.1782            0.4339\n",
      "AR.10            0.0551           -1.2025j            1.2038           -0.2427\n",
      "AR.11            0.0551           +1.2025j            1.2038            0.2427\n",
      "AR.12           -0.7300           -0.8838j            1.1464           -0.3599\n",
      "AR.13           -0.7300           +0.8838j            1.1464            0.3599\n",
      "AR.14           -0.4208           -1.2030j            1.2745           -0.3036\n",
      "AR.15           -0.4208           +1.2030j            1.2745            0.3036\n",
      "------------------------------------------------------------------------------\n",
      "\n"
     ]
    }
   ],
   "source": [
    "ar_model_class = AR()\n",
    "\n",
    "trained_ar_models = ar_model_class.train_ar_model(train.get_series(), lags_to_test)"
   ]
  },
  {
   "cell_type": "code",
   "execution_count": 18,
   "id": "eb223774-f4bb-4a45-9f90-1987bf7b31c8",
   "metadata": {},
   "outputs": [
    {
     "data": {
      "text/plain": [
       "93"
      ]
     },
     "execution_count": 18,
     "metadata": {},
     "output_type": "execute_result"
    }
   ],
   "source": [
    "len_historical_data, historical_data = train.get_historical_data()\n",
    "len_historical_data"
   ]
  },
  {
   "cell_type": "markdown",
   "id": "f0e98694-2202-46f4-bfd7-5250970db5ef",
   "metadata": {},
   "source": [
    "### Predict Forecasts"
   ]
  },
  {
   "cell_type": "code",
   "execution_count": 19,
   "id": "e27c5042-af3c-4a59-83f4-12e85d7fee1d",
   "metadata": {},
   "outputs": [
    {
     "ename": "TypeError",
     "evalue": "predict() takes 4 positional arguments but 5 were given",
     "output_type": "error",
     "traceback": [
      "\u001b[0;31m---------------------------------------------------------------------------\u001b[0m",
      "\u001b[0;31mTypeError\u001b[0m                                 Traceback (most recent call last)",
      "Cell \u001b[0;32mIn[19], line 1\u001b[0m\n\u001b[0;32m----> 1\u001b[0m predictions \u001b[38;5;241m=\u001b[39m \u001b[43mar_model_class\u001b[49m\u001b[38;5;241;43m.\u001b[39;49m\u001b[43mpredict\u001b[49m\u001b[43m(\u001b[49m\u001b[43mtrained_ar_models\u001b[49m\u001b[43m,\u001b[49m\u001b[43m \u001b[49m\u001b[43mlen_historical_data\u001b[49m\u001b[43m,\u001b[49m\u001b[43m \u001b[49m\u001b[43mtrain\u001b[49m\u001b[43m,\u001b[49m\u001b[43m \u001b[49m\u001b[43mtest\u001b[49m\u001b[43m)\u001b[49m\n\u001b[1;32m      2\u001b[0m predictions\n",
      "\u001b[0;31mTypeError\u001b[0m: predict() takes 4 positional arguments but 5 were given"
     ]
    }
   ],
   "source": [
    "predictions = ar_model_class.predict(trained_ar_models, len_historical_data, train, test)\n",
    "predictions"
   ]
  },
  {
   "cell_type": "code",
   "execution_count": null,
   "id": "16842595-3bea-4624-a0aa-4f06819488e4",
   "metadata": {},
   "outputs": [],
   "source": [
    "mse_gsts = EvaluationMetric.eval_mse(expected_forecast, predictions)\n",
    "mse_gsts"
   ]
  },
  {
   "cell_type": "markdown",
   "id": "b7299876-cf6a-425a-af1f-ac6ef5dfd0d0",
   "metadata": {},
   "source": [
    "### Plot Actual Forecasts vs Predicted Forecasts"
   ]
  },
  {
   "cell_type": "code",
   "execution_count": null,
   "id": "020621ec-9bb3-4b62-86d2-62bc0c60d7cc",
   "metadata": {},
   "outputs": [],
   "source": [
    "EvaluationMetric.plot_forecast(expected_forecast, predictions, lags_to_test)"
   ]
  },
  {
   "cell_type": "markdown",
   "id": "1cb5120e-1acd-4446-a590-73a2c6942264",
   "metadata": {},
   "source": [
    "### Follow-up\n",
    "- What can we determine from this?\n",
    "- Which AR(p) lag performs the best?\n",
    "- Can we do better?"
   ]
  },
  {
   "cell_type": "code",
   "execution_count": null,
   "id": "989f5b7f-8026-4632-ba79-410924a630b1",
   "metadata": {},
   "outputs": [],
   "source": []
  }
 ],
 "metadata": {
  "kernelspec": {
   "display_name": "Python 3 (ipykernel)",
   "language": "python",
   "name": "python3"
  },
  "language_info": {
   "codemirror_mode": {
    "name": "ipython",
    "version": 3
   },
   "file_extension": ".py",
   "mimetype": "text/x-python",
   "name": "python",
   "nbconvert_exporter": "python",
   "pygments_lexer": "ipython3",
   "version": "3.9.16"
  },
  "toc-autonumbering": true
 },
 "nbformat": 4,
 "nbformat_minor": 5
}
