{
 "cells": [
  {
   "cell_type": "markdown",
   "id": "0d508158-c2d4-4d66-976a-dd0bf8582831",
   "metadata": {},
   "source": [
    "TODO :\n",
    "\n",
    "- [x] Load all the SX_activity.cvs to see differences in time\n",
    "- [ ] Load all the SX_RespiBAN.h5 to see data\n",
    "    - HDFStore.keys() for each dataset is empty so data not properly formatted\n",
    "    - Possibly use an online software to view file\n",
    "- [ ] Load all the Empatica E4 to see data"
   ]
  },
  {
   "cell_type": "code",
   "execution_count": 1,
   "id": "2bb26186-757c-4463-ad8d-ccf43798a4b0",
   "metadata": {},
   "outputs": [],
   "source": [
    "import os\n",
    "import pandas as pd"
   ]
  },
  {
   "cell_type": "code",
   "execution_count": 92,
   "id": "d4afa7f8-1fc5-4491-a774-b9f77da99a38",
   "metadata": {},
   "outputs": [],
   "source": [
    "\n",
    "\n",
    "def load_csv_data(data):\n",
    "    files = []\n",
    "    for d in range(len(data)):\n",
    "\n",
    "        dataset = pd.read_csv(data[d])\n",
    "        print(dataset)\n",
    "\n",
    "        files.append(dataset)\n",
    "    return files\n",
    "\n",
    "def load_h_data(data):\n",
    "    \n",
    "    files = []\n",
    "    for d in range(len(data)):\n",
    "        # print(data[d])\n",
    "        read_dataset = pd.HDFStore(data[d])\n",
    "        print(\">> \", read_dataset.keys())\n",
    "        # dataset = pd.HDFStore.keys(self)\n",
    "        # dataset = pd.read_hdf(convert)\n",
    "        # print(dataset)\n",
    "\n",
    "        files.append(read_dataset)\n",
    "    return files\n",
    "\n",
    "# def load_pkl_data(data): \n",
    "#     files = []\n",
    "#     dataset = pd.read_pickle(data)"
   ]
  },
  {
   "cell_type": "code",
   "execution_count": 93,
   "id": "4b9ff8a6-661a-4fcf-a25e-e48b23849250",
   "metadata": {},
   "outputs": [],
   "source": [
    "folders = \"../2-pre_autoTS_and_wings_analysis/heart_rate_estimation/PPG_FieldStudy/\"\n",
    "participant_files = [\"S1\", \"S2\", \"S3\", \"S4\", \"S5\", \"S6\", \"S7\", \"S8\", \"S9\", \"S10\", \"S11\", \"S12\", \"S13\", \"S14\", \"S15\"]\n",
    "activity = \"_activity.csv\"\n",
    "respiban = \"_RespiBAN.h5\"\n",
    "\n",
    "activity_datasets = []\n",
    "respiban_datasets = []\n",
    "\n",
    "for participant_file in range(len(participant_files)):\n",
    "    directory = folders + participant_files[participant_file] + \"/\"\n",
    "    # print(directory)\n",
    "    activity_file = participant_files[participant_file] + activity\n",
    "    # print(activity_file)\n",
    "    respiban_file = participant_files[participant_file] + respiban\n",
    "    # print(respiban_file)\n",
    "    # path = directory + file\n",
    "    activity_datasets.append(directory + activity_file)\n",
    "    respiban_datasets.append(directory + respiban_file)"
   ]
  },
  {
   "cell_type": "code",
   "execution_count": 94,
   "id": "1e77c22a-a75c-4092-9040-4ffeea796b17",
   "metadata": {},
   "outputs": [],
   "source": [
    "# activty_data = load_csv_data(activity_datasets)"
   ]
  },
  {
   "cell_type": "code",
   "execution_count": 95,
   "id": "9515d989-edb2-42c4-b117-b60155e26856",
   "metadata": {},
   "outputs": [
    {
     "name": "stdout",
     "output_type": "stream",
     "text": [
      ">>  []\n",
      ">>  []\n",
      ">>  []\n",
      ">>  []\n",
      ">>  []\n",
      ">>  []\n",
      ">>  []\n",
      ">>  []\n",
      ">>  []\n",
      ">>  []\n",
      ">>  []\n",
      ">>  []\n",
      ">>  []\n",
      ">>  []\n",
      ">>  []\n"
     ]
    },
    {
     "data": {
      "text/plain": [
       "[<class 'pandas.io.pytables.HDFStore'>\n",
       " File path: ../2-pre_autoTS_and_wings_analysis/heart_rate_estimation/PPG_FieldStudy/S1/S1_RespiBAN.h5,\n",
       " <class 'pandas.io.pytables.HDFStore'>\n",
       " File path: ../2-pre_autoTS_and_wings_analysis/heart_rate_estimation/PPG_FieldStudy/S2/S2_RespiBAN.h5,\n",
       " <class 'pandas.io.pytables.HDFStore'>\n",
       " File path: ../2-pre_autoTS_and_wings_analysis/heart_rate_estimation/PPG_FieldStudy/S3/S3_RespiBAN.h5,\n",
       " <class 'pandas.io.pytables.HDFStore'>\n",
       " File path: ../2-pre_autoTS_and_wings_analysis/heart_rate_estimation/PPG_FieldStudy/S4/S4_RespiBAN.h5,\n",
       " <class 'pandas.io.pytables.HDFStore'>\n",
       " File path: ../2-pre_autoTS_and_wings_analysis/heart_rate_estimation/PPG_FieldStudy/S5/S5_RespiBAN.h5,\n",
       " <class 'pandas.io.pytables.HDFStore'>\n",
       " File path: ../2-pre_autoTS_and_wings_analysis/heart_rate_estimation/PPG_FieldStudy/S6/S6_RespiBAN.h5,\n",
       " <class 'pandas.io.pytables.HDFStore'>\n",
       " File path: ../2-pre_autoTS_and_wings_analysis/heart_rate_estimation/PPG_FieldStudy/S7/S7_RespiBAN.h5,\n",
       " <class 'pandas.io.pytables.HDFStore'>\n",
       " File path: ../2-pre_autoTS_and_wings_analysis/heart_rate_estimation/PPG_FieldStudy/S8/S8_RespiBAN.h5,\n",
       " <class 'pandas.io.pytables.HDFStore'>\n",
       " File path: ../2-pre_autoTS_and_wings_analysis/heart_rate_estimation/PPG_FieldStudy/S9/S9_RespiBAN.h5,\n",
       " <class 'pandas.io.pytables.HDFStore'>\n",
       " File path: ../2-pre_autoTS_and_wings_analysis/heart_rate_estimation/PPG_FieldStudy/S10/S10_RespiBAN.h5,\n",
       " <class 'pandas.io.pytables.HDFStore'>\n",
       " File path: ../2-pre_autoTS_and_wings_analysis/heart_rate_estimation/PPG_FieldStudy/S11/S11_RespiBAN.h5,\n",
       " <class 'pandas.io.pytables.HDFStore'>\n",
       " File path: ../2-pre_autoTS_and_wings_analysis/heart_rate_estimation/PPG_FieldStudy/S12/S12_RespiBAN.h5,\n",
       " <class 'pandas.io.pytables.HDFStore'>\n",
       " File path: ../2-pre_autoTS_and_wings_analysis/heart_rate_estimation/PPG_FieldStudy/S13/S13_RespiBAN.h5,\n",
       " <class 'pandas.io.pytables.HDFStore'>\n",
       " File path: ../2-pre_autoTS_and_wings_analysis/heart_rate_estimation/PPG_FieldStudy/S14/S14_RespiBAN.h5,\n",
       " <class 'pandas.io.pytables.HDFStore'>\n",
       " File path: ../2-pre_autoTS_and_wings_analysis/heart_rate_estimation/PPG_FieldStudy/S15/S15_RespiBAN.h5]"
      ]
     },
     "execution_count": 95,
     "metadata": {},
     "output_type": "execute_result"
    }
   ],
   "source": [
    "respiban_data = load_h_data(respiban_datasets)\n",
    "respiban_data"
   ]
  },
  {
   "cell_type": "code",
   "execution_count": null,
   "id": "d959b6b7-3160-4ade-987c-8798f2fba570",
   "metadata": {},
   "outputs": [],
   "source": []
  }
 ],
 "metadata": {
  "kernelspec": {
   "display_name": "Python 3",
   "language": "python",
   "name": "python3"
  },
  "language_info": {
   "codemirror_mode": {
    "name": "ipython",
    "version": 3
   },
   "file_extension": ".py",
   "mimetype": "text/x-python",
   "name": "python",
   "nbconvert_exporter": "python",
   "pygments_lexer": "ipython3",
   "version": "3.7.5"
  }
 },
 "nbformat": 4,
 "nbformat_minor": 5
}
