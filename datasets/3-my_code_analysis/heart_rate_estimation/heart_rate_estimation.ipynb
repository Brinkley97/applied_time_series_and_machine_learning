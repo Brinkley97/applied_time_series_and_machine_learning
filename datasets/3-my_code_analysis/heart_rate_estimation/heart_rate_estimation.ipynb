{
 "cells": [
  {
   "cell_type": "markdown",
   "id": "05d188a9-f84e-4f67-b89f-48bcc96c5869",
   "metadata": {},
   "source": [
    "# Analysis of Heart Rate Estimation Dataset\n",
    "---\n",
    "\n",
    "1. General info : \n",
    "    - 15 participants w/ a folder for each\n",
    "    - Files  \n",
    "        1. IBI.csv\n",
    "            - Time between individuals heart beats extracted from the BVP signal. No sample rate is needed for this file. The first column is the time (respect to the initial time) of the detected inter-beat interval expressed in seconds (s). The second column is the duration in seconds (s) of the detected inter-beat interval (i.e., the distance in seconds from the previous beat).\n",
    "        2. EDA.csv\n",
    "            - Data from the electrodermal activity sensor expressed as microsiemens (μS).\n",
    "\n",
    "        3. BVP.csv\n",
    "            - Data from photoplethysmograph.\n",
    "            \n",
    "        4. ACC.csv\n",
    "            - Data from 3-axis accelerometer sensor. The accelerometer is configured to measure acceleration in the range [-2g, 2g]. Therefore the unit in this file is 1/64g.Data from x, y, and z axis are respectively in first, second, and third column.\n",
    "            \n",
    "\n",
    "2. TODO : \n",
    "    - [ ] W/ code, clean data by adding Files 2 - 4 to 1\n",
    "        - Reasoning is : We have 3 different sensors & all 3 occur at some time in secs. This is only possible when there's a match from the secs to all 3 sensors, respectively.\n",
    "    - [ ] Start analyzing for 1 participant\n",
    "        - [ ] What is important here? Can I generalize this to the other participants?\n",
    "    - [ ] Once know what to track, do for all participants\n",
    "        - Should this be done invididually so 15 different files or collectively so clean & organize data into a single file?"
   ]
  },
  {
   "cell_type": "code",
   "execution_count": 1,
   "id": "bb67b0ab-73ce-4060-8d68-3e1571778f3a",
   "metadata": {},
   "outputs": [],
   "source": [
    "import pandas as pd\n",
    "import numpy as np"
   ]
  },
  {
   "cell_type": "markdown",
   "id": "88a412eb-b6fd-43e5-bde2-d046b4f0d2b9",
   "metadata": {
    "tags": []
   },
   "source": [
    "# Load Data"
   ]
  },
  {
   "cell_type": "code",
   "execution_count": 2,
   "id": "64c0a3ac-d2a0-428e-833f-209d37f9d1a4",
   "metadata": {},
   "outputs": [],
   "source": [
    "def load_data(data):\n",
    "    \n",
    "    original_data = pd.read_pickle(data)    \n",
    "    return original_data"
   ]
  },
  {
   "cell_type": "code",
   "execution_count": 3,
   "id": "3d11e8e6-3c8b-450e-8fdb-842fe4de6fd2",
   "metadata": {},
   "outputs": [
    {
     "data": {
      "text/plain": [
       "{'rpeaks': array([    240,    1174,    2128, ..., 6447292, 6447748, 6448224],\n",
       "       dtype=int32),\n",
       " 'signal': {'chest': {'ACC': array([[ 0.85640001, -0.06779999, -0.36559999],\n",
       "          [ 0.8556    , -0.06900001, -0.3646    ],\n",
       "          [ 0.852     , -0.07020003, -0.3642    ],\n",
       "          ...,\n",
       "          [ 0.88759995, -0.1038    , -0.27920002],\n",
       "          [ 0.88619995, -0.10159999, -0.27819997],\n",
       "          [ 0.88680005, -0.10140002, -0.27380002]]),\n",
       "   'ECG': array([[0.01560974],\n",
       "          [0.01812744],\n",
       "          [0.01753235],\n",
       "          ...,\n",
       "          [0.21368408],\n",
       "          [0.21556091],\n",
       "          [0.21702576]]),\n",
       "   'EMG': array([[-1.5],\n",
       "          [-1.5],\n",
       "          [-1.5],\n",
       "          ...,\n",
       "          [-1.5],\n",
       "          [-1.5],\n",
       "          [-1.5]]),\n",
       "   'EDA': array([[0.],\n",
       "          [0.],\n",
       "          [0.],\n",
       "          ...,\n",
       "          [0.],\n",
       "          [0.],\n",
       "          [0.]]),\n",
       "   'Temp': array([[-273.15],\n",
       "          [-273.15],\n",
       "          [-273.15],\n",
       "          ...,\n",
       "          [-273.15],\n",
       "          [-273.15],\n",
       "          [-273.15]], dtype=float32),\n",
       "   'Resp': array([[ 4.4418335 ],\n",
       "          [ 4.45098877],\n",
       "          [ 4.47387695],\n",
       "          ...,\n",
       "          [-3.05023193],\n",
       "          [-3.05328369],\n",
       "          [-3.05633545]])},\n",
       "  'wrist': {'ACC': array([[-0.765625, -0.078125,  0.671875],\n",
       "          [-0.765625, -0.078125,  0.65625 ],\n",
       "          [-0.765625, -0.078125,  0.671875],\n",
       "          ...,\n",
       "          [-0.375   , -0.015625,  0.9375  ],\n",
       "          [-0.390625,  0.      ,  0.9375  ],\n",
       "          [-0.375   ,  0.      ,  0.9375  ]]),\n",
       "   'BVP': array([[  7.28],\n",
       "          [  6.33],\n",
       "          [  5.46],\n",
       "          ...,\n",
       "          [105.02],\n",
       "          [109.44],\n",
       "          [111.06]]),\n",
       "   'EDA': array([[4.722437],\n",
       "          [4.728843],\n",
       "          [4.718594],\n",
       "          ...,\n",
       "          [3.170867],\n",
       "          [3.159336],\n",
       "          [3.151649]]),\n",
       "   'TEMP': array([[32.13],\n",
       "          [32.16],\n",
       "          [32.16],\n",
       "          ...,\n",
       "          [34.37],\n",
       "          [34.37],\n",
       "          [34.37]])}},\n",
       " 'label': array([49.61136908, 50.32399248, 52.70833578, ..., 84.004991  ,\n",
       "        85.79625673, 87.4113988 ]),\n",
       " 'activity': array([[0.],\n",
       "        [0.],\n",
       "        [0.],\n",
       "        ...,\n",
       "        [0.],\n",
       "        [0.],\n",
       "        [0.]]),\n",
       " 'questionnaire': {'WEIGHT': 78.0,\n",
       "  'Gender': ' m',\n",
       "  'AGE': 34,\n",
       "  'HEIGHT': 182.0,\n",
       "  'SKIN': 3,\n",
       "  'SPORT': 6},\n",
       " 'subject': 'S1'}"
      ]
     },
     "execution_count": 3,
     "metadata": {},
     "output_type": "execute_result"
    }
   ],
   "source": [
    "file = \"S1.pkl\"\n",
    "path = \"../../2-pre_autoTS_and_wings_analysis/heart_rate_estimation/PPG_FieldStudy/S1/\"\n",
    "data = path + file\n",
    "dataset = load_data(data)\n",
    "dataset"
   ]
  },
  {
   "cell_type": "code",
   "execution_count": 4,
   "id": "ab14bf13-69f9-4a49-9e1c-93171beddb43",
   "metadata": {},
   "outputs": [
    {
     "data": {
      "text/plain": [
       "['rpeaks', 'signal', 'label', 'activity', 'questionnaire', 'subject']"
      ]
     },
     "execution_count": 4,
     "metadata": {},
     "output_type": "execute_result"
    }
   ],
   "source": [
    "# copy dataset so I can make proper adjustments\n",
    "dataset_copy = dataset.copy()\n",
    "\n",
    "keys = []\n",
    "# get the keys\n",
    "for key in dataset_copy.keys():\n",
    "    # print(\"key : \", key)\n",
    "    keys.append(key)\n",
    "# Create dataframe only with data we care about\n",
    "keys"
   ]
  },
  {
   "cell_type": "code",
   "execution_count": 5,
   "id": "71fb4278-6bdc-42c0-85e6-3bd804c429b9",
   "metadata": {},
   "outputs": [],
   "source": [
    "# set each key\n",
    "rpeaks = dataset_copy['rpeaks']\n",
    "signal = dataset_copy['signal']\n",
    "label = dataset_copy['label']\n",
    "activity = dataset_copy['activity']\n",
    "questionnaire = dataset_copy['questionnaire']\n",
    "subject = dataset_copy['subject']"
   ]
  },
  {
   "cell_type": "code",
   "execution_count": 6,
   "id": "5396b222-7afa-4fc1-b9d3-f13be1d28da8",
   "metadata": {},
   "outputs": [],
   "source": [
    "# set each key\n",
    "# rpeaks = dataset_copy[keys[0]]\n",
    "# signal = dataset_copy[keys[1]]\n",
    "# label = dataset_copy[keys[2]]\n",
    "# activity = dataset_copy[keys[3]]\n",
    "# questionnaire = dataset_copy[keys[4]]\n",
    "# subject = dataset_copy[keys[5]]"
   ]
  },
  {
   "cell_type": "code",
   "execution_count": 7,
   "id": "defa76d3-5ffa-4a98-8ce5-7cd31a2e7ff1",
   "metadata": {},
   "outputs": [
    {
     "name": "stdout",
     "output_type": "stream",
     "text": [
      "dict_keys(['ACC', 'ECG', 'EMG', 'EDA', 'Temp', 'Resp']) \n",
      " \n",
      " {'ACC': array([[ 0.85640001, -0.06779999, -0.36559999],\n",
      "       [ 0.8556    , -0.06900001, -0.3646    ],\n",
      "       [ 0.852     , -0.07020003, -0.3642    ],\n",
      "       ...,\n",
      "       [ 0.88759995, -0.1038    , -0.27920002],\n",
      "       [ 0.88619995, -0.10159999, -0.27819997],\n",
      "       [ 0.88680005, -0.10140002, -0.27380002]]), 'ECG': array([[0.01560974],\n",
      "       [0.01812744],\n",
      "       [0.01753235],\n",
      "       ...,\n",
      "       [0.21368408],\n",
      "       [0.21556091],\n",
      "       [0.21702576]]), 'EMG': array([[-1.5],\n",
      "       [-1.5],\n",
      "       [-1.5],\n",
      "       ...,\n",
      "       [-1.5],\n",
      "       [-1.5],\n",
      "       [-1.5]]), 'EDA': array([[0.],\n",
      "       [0.],\n",
      "       [0.],\n",
      "       ...,\n",
      "       [0.],\n",
      "       [0.],\n",
      "       [0.]]), 'Temp': array([[-273.15],\n",
      "       [-273.15],\n",
      "       [-273.15],\n",
      "       ...,\n",
      "       [-273.15],\n",
      "       [-273.15],\n",
      "       [-273.15]], dtype=float32), 'Resp': array([[ 4.4418335 ],\n",
      "       [ 4.45098877],\n",
      "       [ 4.47387695],\n",
      "       ...,\n",
      "       [-3.05023193],\n",
      "       [-3.05328369],\n",
      "       [-3.05633545]])}\n"
     ]
    }
   ],
   "source": [
    "chest = signal['chest']\n",
    "print(chest.keys(), \"\\n\",  \"\\n\", chest)"
   ]
  },
  {
   "cell_type": "code",
   "execution_count": null,
   "id": "6ab16a70-3a56-4c99-914b-81fca6be8aa5",
   "metadata": {},
   "outputs": [],
   "source": [
    "acc = chest['ACC']\n",
    "acc.shape, acc\n",
    "# acc_df = pd.DataFrame(acc)\n",
    "# acc_df"
   ]
  },
  {
   "cell_type": "markdown",
   "id": "409d4e95-26cd-42ee-be6e-1fc15312a852",
   "metadata": {},
   "source": [
    "# End of Load Data"
   ]
  },
  {
   "cell_type": "markdown",
   "id": "96dab5aa-f641-4657-8a09-0e069ab94b05",
   "metadata": {},
   "source": [
    "---\n",
    "\n",
    "# Sensors\n",
    "- ECG for heart rate ground truth\n",
    "- BVP for heart rate on wrist\n",
    "- ACC for heart rate on wrist\n",
    "\n",
    "- TODO : \n",
    "    - [ ] Check the phenomenon of each sensor"
   ]
  },
  {
   "cell_type": "markdown",
   "id": "8ba3050e-1806-4609-81ae-0e1360edd6b8",
   "metadata": {},
   "source": [
    "## ECG"
   ]
  },
  {
   "cell_type": "code",
   "execution_count": 8,
   "id": "38ce094b-2c0d-4777-8aab-bda121321b39",
   "metadata": {},
   "outputs": [
    {
     "data": {
      "text/plain": [
       "(pandas.core.frame.DataFrame,\n",
       "       Mean of ECG-based Institaneous Heart Rate Measurement\n",
       " 0                                             49.611369    \n",
       " 1                                             50.323992    \n",
       " 2                                             52.708336    \n",
       " 3                                             55.640794    \n",
       " 4                                             57.658406    \n",
       " ...                                                 ...    \n",
       " 4598                                          74.058629    \n",
       " 4599                                          80.442006    \n",
       " 4600                                          84.004991    \n",
       " 4601                                          85.796257    \n",
       " 4602                                          87.411399    \n",
       " \n",
       " [4603 rows x 1 columns])"
      ]
     },
     "execution_count": 8,
     "metadata": {},
     "output_type": "execute_result"
    }
   ],
   "source": [
    "len(label), label\n",
    "heart_rate_measurement = pd.DataFrame(label, columns=['Mean of ECG-based Institaneous Heart Rate Measurement'])\n",
    "type(heart_rate_measurement), heart_rate_measurement"
   ]
  },
  {
   "cell_type": "code",
   "execution_count": 110,
   "id": "8edac8f4-a6e1-462f-9f35-969f9237818d",
   "metadata": {},
   "outputs": [
    {
     "name": "stdout",
     "output_type": "stream",
     "text": [
      "check_1:  False\n",
      "check_2:  0\n"
     ]
    },
    {
     "data": {
      "text/plain": [
       "False"
      ]
     },
     "execution_count": 110,
     "metadata": {},
     "output_type": "execute_result"
    }
   ],
   "source": [
    "'''\n",
    "Check NaN\n",
    "See : https://datatofish.com/check-nan-pandas-dataframe/\n",
    "'''\n",
    "\n",
    "# Check NaN under DataFrame\n",
    "check_1 = heart_rate_measurement.isnull().values.any()\n",
    "print(\"check_1: \", check_1)\n",
    "\n",
    "# Count NaN under DataFrame\n",
    "check_2 = heart_rate_measurement.isnull().sum().sum()\n",
    "print(\"check_2: \", check_2)\n",
    "\n",
    "# Less than 0?\n",
    "neg = heart_rate_measurement.values < 0\n",
    "d = neg.any()\n",
    "d"
   ]
  },
  {
   "cell_type": "code",
   "execution_count": 17,
   "id": "82606e91-b322-4457-baa0-75c226434915",
   "metadata": {},
   "outputs": [
    {
     "data": {
      "text/plain": [
       "(Heart Rate Measurement    41.862467\n",
       " dtype: float64,\n",
       " Heart Rate Measurement    150.154572\n",
       " dtype: float64)"
      ]
     },
     "execution_count": 17,
     "metadata": {},
     "output_type": "execute_result"
    }
   ],
   "source": [
    "heart_rate_measurement.min(), heart_rate_measurement.max()"
   ]
  },
  {
   "cell_type": "code",
   "execution_count": 27,
   "id": "05c9752e-83c2-4c1f-a0dd-2aaf653400f1",
   "metadata": {},
   "outputs": [
    {
     "data": {
      "text/plain": [
       "<matplotlib.axes._subplots.AxesSubplot at 0x7ff4d819ad90>"
      ]
     },
     "execution_count": 27,
     "metadata": {},
     "output_type": "execute_result"
    },
    {
     "data": {
      "image/png": "[encoded data removed]",
      "text/plain": [
       "<Figure size 432x288 with 1 Axes>"
      ]
     },
     "metadata": {
      "needs_background": "light"
     },
     "output_type": "display_data"
    }
   ],
   "source": [
    "heart_rate_measurement.plot()"
   ]
  },
  {
   "cell_type": "code",
   "execution_count": 28,
   "id": "ded5aeb2-6c96-45f3-9a0e-7b90e558da09",
   "metadata": {},
   "outputs": [
    {
     "data": {
      "text/plain": [
       "array([[<matplotlib.axes._subplots.AxesSubplot object at 0x7ff4e8b249d0>]],\n",
       "      dtype=object)"
      ]
     },
     "execution_count": 28,
     "metadata": {},
     "output_type": "execute_result"
    },
    {
     "data": {
      "image/png": "[encoded data removed]",
      "text/plain": [
       "<Figure size 432x288 with 1 Axes>"
      ]
     },
     "metadata": {
      "needs_background": "light"
     },
     "output_type": "display_data"
    }
   ],
   "source": [
    "heart_rate_measurement.hist()"
   ]
  },
  {
   "cell_type": "markdown",
   "id": "1ea54056-dfee-4750-8340-fd2558bbcc9f",
   "metadata": {},
   "source": [
    "## End of ECG"
   ]
  },
  {
   "cell_type": "code",
   "execution_count": 18,
   "id": "f033243d-6de8-4871-9151-64c06edf4467",
   "metadata": {},
   "outputs": [
    {
     "name": "stdout",
     "output_type": "stream",
     "text": [
      "Chest :  {'ACC': array([[ 0.85640001, -0.06779999, -0.36559999],\n",
      "       [ 0.8556    , -0.06900001, -0.3646    ],\n",
      "       [ 0.852     , -0.07020003, -0.3642    ],\n",
      "       ...,\n",
      "       [ 0.88759995, -0.1038    , -0.27920002],\n",
      "       [ 0.88619995, -0.10159999, -0.27819997],\n",
      "       [ 0.88680005, -0.10140002, -0.27380002]]), 'ECG': array([[0.01560974],\n",
      "       [0.01812744],\n",
      "       [0.01753235],\n",
      "       ...,\n",
      "       [0.21368408],\n",
      "       [0.21556091],\n",
      "       [0.21702576]]), 'EMG': array([[-1.5],\n",
      "       [-1.5],\n",
      "       [-1.5],\n",
      "       ...,\n",
      "       [-1.5],\n",
      "       [-1.5],\n",
      "       [-1.5]]), 'EDA': array([[0.],\n",
      "       [0.],\n",
      "       [0.],\n",
      "       ...,\n",
      "       [0.],\n",
      "       [0.],\n",
      "       [0.]]), 'Temp': array([[-273.15],\n",
      "       [-273.15],\n",
      "       [-273.15],\n",
      "       ...,\n",
      "       [-273.15],\n",
      "       [-273.15],\n",
      "       [-273.15]], dtype=float32), 'Resp': array([[ 4.4418335 ],\n",
      "       [ 4.45098877],\n",
      "       [ 4.47387695],\n",
      "       ...,\n",
      "       [-3.05023193],\n",
      "       [-3.05328369],\n",
      "       [-3.05633545]])}\n"
     ]
    },
    {
     "data": {
      "text/plain": [
       "{'ACC': array([[-0.765625, -0.078125,  0.671875],\n",
       "        [-0.765625, -0.078125,  0.65625 ],\n",
       "        [-0.765625, -0.078125,  0.671875],\n",
       "        ...,\n",
       "        [-0.375   , -0.015625,  0.9375  ],\n",
       "        [-0.390625,  0.      ,  0.9375  ],\n",
       "        [-0.375   ,  0.      ,  0.9375  ]]),\n",
       " 'BVP': array([[  7.28],\n",
       "        [  6.33],\n",
       "        [  5.46],\n",
       "        ...,\n",
       "        [105.02],\n",
       "        [109.44],\n",
       "        [111.06]]),\n",
       " 'EDA': array([[4.722437],\n",
       "        [4.728843],\n",
       "        [4.718594],\n",
       "        ...,\n",
       "        [3.170867],\n",
       "        [3.159336],\n",
       "        [3.151649]]),\n",
       " 'TEMP': array([[32.13],\n",
       "        [32.16],\n",
       "        [32.16],\n",
       "        ...,\n",
       "        [34.37],\n",
       "        [34.37],\n",
       "        [34.37]])}"
      ]
     },
     "execution_count": 18,
     "metadata": {},
     "output_type": "execute_result"
    }
   ],
   "source": [
    "chest = signal['chest']\n",
    "print(\"Chest : \", chest)\n",
    "\n",
    "wrist = signal['wrist']\n",
    "wrist"
   ]
  },
  {
   "cell_type": "markdown",
   "id": "92d3199b-d044-4edb-abac-30ac8ac3cfa6",
   "metadata": {},
   "source": [
    "## BVP"
   ]
  },
  {
   "cell_type": "code",
   "execution_count": 55,
   "id": "54550e0f-3348-4c54-960c-1bd6bbb44727",
   "metadata": {},
   "outputs": [
    {
     "data": {
      "text/plain": [
       "(pandas.core.frame.DataFrame,\n",
       "         BVP Measurements\n",
       " 0                   7.28\n",
       " 1                   6.33\n",
       " 2                   5.46\n",
       " 3                   4.60\n",
       " 4                   3.74\n",
       " ...                  ...\n",
       " 589563             85.88\n",
       " 589564             97.30\n",
       " 589565            105.02\n",
       " 589566            109.44\n",
       " 589567            111.06\n",
       " \n",
       " [589568 rows x 1 columns])"
      ]
     },
     "execution_count": 55,
     "metadata": {},
     "output_type": "execute_result"
    }
   ],
   "source": [
    "bvp = wrist['BVP']\n",
    "len(bvp), bvp\n",
    "hrt_rate = pd.DataFrame(bvp, columns=['BVP Measurements'])\n",
    "type(hrt_rate), hrt_rate"
   ]
  },
  {
   "cell_type": "code",
   "execution_count": 111,
   "id": "ccc9f9e9-0e9a-4653-9c90-beda26c1a63a",
   "metadata": {},
   "outputs": [
    {
     "name": "stdout",
     "output_type": "stream",
     "text": [
      "False\n",
      "0\n"
     ]
    },
    {
     "data": {
      "text/plain": [
       "True"
      ]
     },
     "execution_count": 111,
     "metadata": {},
     "output_type": "execute_result"
    }
   ],
   "source": [
    "a = hrt_rate.isnull().values.any()\n",
    "print(a)\n",
    "b = hrt_rate.isnull().sum().sum()\n",
    "print(b)\n",
    "c = hrt_rate.values < 0\n",
    "d = c.any()\n",
    "d"
   ]
  },
  {
   "cell_type": "code",
   "execution_count": 112,
   "id": "5052a390-5bb0-4140-ba12-3023a785265a",
   "metadata": {},
   "outputs": [
    {
     "data": {
      "text/plain": [
       "(BVP Measurements   -1647.39\n",
       " dtype: float64,\n",
       " BVP Measurements    1557.58\n",
       " dtype: float64)"
      ]
     },
     "execution_count": 112,
     "metadata": {},
     "output_type": "execute_result"
    }
   ],
   "source": [
    "hrt_rate.min(), hrt_rate.max()"
   ]
  },
  {
   "cell_type": "code",
   "execution_count": 113,
   "id": "caa0d50e-5795-4175-a57c-d6bed37be144",
   "metadata": {},
   "outputs": [
    {
     "data": {
      "text/plain": [
       "<matplotlib.axes._subplots.AxesSubplot at 0x7fd760629a50>"
      ]
     },
     "execution_count": 113,
     "metadata": {},
     "output_type": "execute_result"
    },
    {
     "data": {
      "image/png": "[encoded data removed]",
      "text/plain": [
       "<Figure size 432x288 with 1 Axes>"
      ]
     },
     "metadata": {
      "needs_background": "light"
     },
     "output_type": "display_data"
    }
   ],
   "source": [
    "hrt_rate.plot()"
   ]
  },
  {
   "cell_type": "code",
   "execution_count": 115,
   "id": "35fc47de-397c-4f30-8717-39426298b2c8",
   "metadata": {},
   "outputs": [
    {
     "data": {
      "text/plain": [
       "array([[<matplotlib.axes._subplots.AxesSubplot object at 0x7fd710f4ba10>]],\n",
       "      dtype=object)"
      ]
     },
     "execution_count": 115,
     "metadata": {},
     "output_type": "execute_result"
    },
    {
     "data": {
      "image/png": "[encoded data removed]",
      "text/plain": [
       "<Figure size 432x288 with 1 Axes>"
      ]
     },
     "metadata": {
      "needs_background": "light"
     },
     "output_type": "display_data"
    }
   ],
   "source": [
    "hrt_rate.hist()"
   ]
  },
  {
   "cell_type": "markdown",
   "id": "e20d1c5e-01cd-4353-bc0c-af5c6396d98f",
   "metadata": {},
   "source": [
    "## End of BVP"
   ]
  },
  {
   "cell_type": "markdown",
   "id": "bce1284e-a6d6-46a4-9ea8-99ba693a3bc0",
   "metadata": {},
   "source": [
    "---\n",
    "\n",
    "## ACC "
   ]
  },
  {
   "cell_type": "code",
   "execution_count": 121,
   "id": "edf5c536-7568-44db-981e-1671074bea84",
   "metadata": {},
   "outputs": [
    {
     "data": {
      "text/html": [
       "<div>\n",
       "<style scoped>\n",
       "    .dataframe tbody tr th:only-of-type {\n",
       "        vertical-align: middle;\n",
       "    }\n",
       "\n",
       "    .dataframe tbody tr th {\n",
       "        vertical-align: top;\n",
       "    }\n",
       "\n",
       "    .dataframe thead th {\n",
       "        text-align: right;\n",
       "    }\n",
       "</style>\n",
       "<table border=\"1\" class=\"dataframe\">\n",
       "  <thead>\n",
       "    <tr style=\"text-align: right;\">\n",
       "      <th></th>\n",
       "      <th>Accelerometer Channel 1</th>\n",
       "      <th>Accelerometer Channel 2</th>\n",
       "      <th>Accelerometer Channel 3</th>\n",
       "    </tr>\n",
       "  </thead>\n",
       "  <tbody>\n",
       "    <tr>\n",
       "      <th>0</th>\n",
       "      <td>-0.765625</td>\n",
       "      <td>-0.078125</td>\n",
       "      <td>0.671875</td>\n",
       "    </tr>\n",
       "    <tr>\n",
       "      <th>1</th>\n",
       "      <td>-0.765625</td>\n",
       "      <td>-0.078125</td>\n",
       "      <td>0.656250</td>\n",
       "    </tr>\n",
       "    <tr>\n",
       "      <th>2</th>\n",
       "      <td>-0.765625</td>\n",
       "      <td>-0.078125</td>\n",
       "      <td>0.671875</td>\n",
       "    </tr>\n",
       "    <tr>\n",
       "      <th>3</th>\n",
       "      <td>-0.765625</td>\n",
       "      <td>-0.078125</td>\n",
       "      <td>0.671875</td>\n",
       "    </tr>\n",
       "    <tr>\n",
       "      <th>4</th>\n",
       "      <td>-0.750000</td>\n",
       "      <td>-0.078125</td>\n",
       "      <td>0.671875</td>\n",
       "    </tr>\n",
       "    <tr>\n",
       "      <th>...</th>\n",
       "      <td>...</td>\n",
       "      <td>...</td>\n",
       "      <td>...</td>\n",
       "    </tr>\n",
       "    <tr>\n",
       "      <th>294779</th>\n",
       "      <td>-0.375000</td>\n",
       "      <td>0.000000</td>\n",
       "      <td>0.937500</td>\n",
       "    </tr>\n",
       "    <tr>\n",
       "      <th>294780</th>\n",
       "      <td>-0.375000</td>\n",
       "      <td>0.000000</td>\n",
       "      <td>0.937500</td>\n",
       "    </tr>\n",
       "    <tr>\n",
       "      <th>294781</th>\n",
       "      <td>-0.375000</td>\n",
       "      <td>-0.015625</td>\n",
       "      <td>0.937500</td>\n",
       "    </tr>\n",
       "    <tr>\n",
       "      <th>294782</th>\n",
       "      <td>-0.390625</td>\n",
       "      <td>0.000000</td>\n",
       "      <td>0.937500</td>\n",
       "    </tr>\n",
       "    <tr>\n",
       "      <th>294783</th>\n",
       "      <td>-0.375000</td>\n",
       "      <td>0.000000</td>\n",
       "      <td>0.937500</td>\n",
       "    </tr>\n",
       "  </tbody>\n",
       "</table>\n",
       "<p>294784 rows × 3 columns</p>\n",
       "</div>"
      ],
      "text/plain": [
       "        Accelerometer Channel 1  Accelerometer Channel 2  \\\n",
       "0                     -0.765625                -0.078125   \n",
       "1                     -0.765625                -0.078125   \n",
       "2                     -0.765625                -0.078125   \n",
       "3                     -0.765625                -0.078125   \n",
       "4                     -0.750000                -0.078125   \n",
       "...                         ...                      ...   \n",
       "294779                -0.375000                 0.000000   \n",
       "294780                -0.375000                 0.000000   \n",
       "294781                -0.375000                -0.015625   \n",
       "294782                -0.390625                 0.000000   \n",
       "294783                -0.375000                 0.000000   \n",
       "\n",
       "        Accelerometer Channel 3  \n",
       "0                      0.671875  \n",
       "1                      0.656250  \n",
       "2                      0.671875  \n",
       "3                      0.671875  \n",
       "4                      0.671875  \n",
       "...                         ...  \n",
       "294779                 0.937500  \n",
       "294780                 0.937500  \n",
       "294781                 0.937500  \n",
       "294782                 0.937500  \n",
       "294783                 0.937500  \n",
       "\n",
       "[294784 rows x 3 columns]"
      ]
     },
     "execution_count": 121,
     "metadata": {},
     "output_type": "execute_result"
    }
   ],
   "source": [
    "acc = wrist['ACC']\n",
    "len(acc), acc\n",
    "heart_r = pd.DataFrame(acc, columns=['Accelerometer Channel 1', 'Accelerometer Channel 2', 'Accelerometer Channel 3'])\n",
    "heart_r"
   ]
  },
  {
   "cell_type": "markdown",
   "id": "69f23fb7-96ee-411c-a148-159445ee4411",
   "metadata": {},
   "source": [
    "## End of ACC"
   ]
  },
  {
   "cell_type": "code",
   "execution_count": null,
   "id": "6933d2e9-0074-4908-abcd-59c77fbfcd3c",
   "metadata": {},
   "outputs": [],
   "source": []
  }
 ],
 "metadata": {
  "kernelspec": {
   "display_name": "Python 3",
   "language": "python",
   "name": "python3"
  },
  "language_info": {
   "codemirror_mode": {
    "name": "ipython",
    "version": 3
   },
   "file_extension": ".py",
   "mimetype": "text/x-python",
   "name": "python",
   "nbconvert_exporter": "python",
   "pygments_lexer": "ipython3",
   "version": "3.7.5"
  }
 },
 "nbformat": 4,
 "nbformat_minor": 5
}
