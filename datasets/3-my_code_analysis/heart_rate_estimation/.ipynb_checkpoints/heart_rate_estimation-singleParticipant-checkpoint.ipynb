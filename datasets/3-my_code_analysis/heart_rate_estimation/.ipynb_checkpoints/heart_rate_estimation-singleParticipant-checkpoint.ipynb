{
 "cells": [
  {
   "cell_type": "markdown",
   "id": "05d188a9-f84e-4f67-b89f-48bcc96c5869",
   "metadata": {},
   "source": [
    "# Analysis of Heart Rate Estimation Dataset\n",
    "\n",
    "- Of a single participant (S1)\n",
    "\n",
    "---"
   ]
  },
  {
   "cell_type": "code",
   "execution_count": 1,
   "id": "bb67b0ab-73ce-4060-8d68-3e1571778f3a",
   "metadata": {},
   "outputs": [],
   "source": [
    "import pandas as pd\n",
    "import numpy as np"
   ]
  },
  {
   "cell_type": "markdown",
   "id": "88a412eb-b6fd-43e5-bde2-d046b4f0d2b9",
   "metadata": {
    "tags": []
   },
   "source": [
    "## Load Data"
   ]
  },
  {
   "cell_type": "code",
   "execution_count": 2,
   "id": "64c0a3ac-d2a0-428e-833f-209d37f9d1a4",
   "metadata": {},
   "outputs": [],
   "source": [
    "def load_data(data):\n",
    "    \n",
    "    original_data = pd.read_pickle(data)    \n",
    "    return original_data"
   ]
  },
  {
   "cell_type": "code",
   "execution_count": 3,
   "id": "3d11e8e6-3c8b-450e-8fdb-842fe4de6fd2",
   "metadata": {},
   "outputs": [
    {
     "data": {
      "text/plain": [
       "{'rpeaks': array([    240,    1174,    2128, ..., 6447292, 6447748, 6448224],\n",
       "       dtype=int32),\n",
       " 'signal': {'chest': {'ACC': array([[ 0.85640001, -0.06779999, -0.36559999],\n",
       "          [ 0.8556    , -0.06900001, -0.3646    ],\n",
       "          [ 0.852     , -0.07020003, -0.3642    ],\n",
       "          ...,\n",
       "          [ 0.88759995, -0.1038    , -0.27920002],\n",
       "          [ 0.88619995, -0.10159999, -0.27819997],\n",
       "          [ 0.88680005, -0.10140002, -0.27380002]]),\n",
       "   'ECG': array([[0.01560974],\n",
       "          [0.01812744],\n",
       "          [0.01753235],\n",
       "          ...,\n",
       "          [0.21368408],\n",
       "          [0.21556091],\n",
       "          [0.21702576]]),\n",
       "   'EMG': array([[-1.5],\n",
       "          [-1.5],\n",
       "          [-1.5],\n",
       "          ...,\n",
       "          [-1.5],\n",
       "          [-1.5],\n",
       "          [-1.5]]),\n",
       "   'EDA': array([[0.],\n",
       "          [0.],\n",
       "          [0.],\n",
       "          ...,\n",
       "          [0.],\n",
       "          [0.],\n",
       "          [0.]]),\n",
       "   'Temp': array([[-273.15],\n",
       "          [-273.15],\n",
       "          [-273.15],\n",
       "          ...,\n",
       "          [-273.15],\n",
       "          [-273.15],\n",
       "          [-273.15]], dtype=float32),\n",
       "   'Resp': array([[ 4.4418335 ],\n",
       "          [ 4.45098877],\n",
       "          [ 4.47387695],\n",
       "          ...,\n",
       "          [-3.05023193],\n",
       "          [-3.05328369],\n",
       "          [-3.05633545]])},\n",
       "  'wrist': {'ACC': array([[-0.765625, -0.078125,  0.671875],\n",
       "          [-0.765625, -0.078125,  0.65625 ],\n",
       "          [-0.765625, -0.078125,  0.671875],\n",
       "          ...,\n",
       "          [-0.375   , -0.015625,  0.9375  ],\n",
       "          [-0.390625,  0.      ,  0.9375  ],\n",
       "          [-0.375   ,  0.      ,  0.9375  ]]),\n",
       "   'BVP': array([[  7.28],\n",
       "          [  6.33],\n",
       "          [  5.46],\n",
       "          ...,\n",
       "          [105.02],\n",
       "          [109.44],\n",
       "          [111.06]]),\n",
       "   'EDA': array([[4.722437],\n",
       "          [4.728843],\n",
       "          [4.718594],\n",
       "          ...,\n",
       "          [3.170867],\n",
       "          [3.159336],\n",
       "          [3.151649]]),\n",
       "   'TEMP': array([[32.13],\n",
       "          [32.16],\n",
       "          [32.16],\n",
       "          ...,\n",
       "          [34.37],\n",
       "          [34.37],\n",
       "          [34.37]])}},\n",
       " 'label': array([49.61136908, 50.32399248, 52.70833578, ..., 84.004991  ,\n",
       "        85.79625673, 87.4113988 ]),\n",
       " 'activity': array([[0.],\n",
       "        [0.],\n",
       "        [0.],\n",
       "        ...,\n",
       "        [0.],\n",
       "        [0.],\n",
       "        [0.]]),\n",
       " 'questionnaire': {'WEIGHT': 78.0,\n",
       "  'Gender': ' m',\n",
       "  'AGE': 34,\n",
       "  'HEIGHT': 182.0,\n",
       "  'SKIN': 3,\n",
       "  'SPORT': 6},\n",
       " 'subject': 'S1'}"
      ]
     },
     "execution_count": 3,
     "metadata": {},
     "output_type": "execute_result"
    }
   ],
   "source": [
    "file = \"S1.pkl\"\n",
    "path = \"../../2-pre_autoTS_and_wings_analysis/heart_rate_estimation/PPG_FieldStudy/S1/\"\n",
    "data = path + file\n",
    "dataset = load_data(data)\n",
    "dataset"
   ]
  },
  {
   "cell_type": "code",
   "execution_count": 4,
   "id": "ab14bf13-69f9-4a49-9e1c-93171beddb43",
   "metadata": {},
   "outputs": [
    {
     "data": {
      "text/plain": [
       "['rpeaks', 'signal', 'label', 'activity', 'questionnaire', 'subject']"
      ]
     },
     "execution_count": 4,
     "metadata": {},
     "output_type": "execute_result"
    }
   ],
   "source": [
    "# copy dataset so I can make proper adjustments\n",
    "dataset_copy = dataset.copy()\n",
    "\n",
    "keys = []\n",
    "# get the keys\n",
    "for key in dataset_copy.keys():\n",
    "    # print(\"key : \", key)\n",
    "    keys.append(key)\n",
    "# Create dataframe only with data we care about\n",
    "keys"
   ]
  },
  {
   "cell_type": "code",
   "execution_count": 5,
   "id": "71fb4278-6bdc-42c0-85e6-3bd804c429b9",
   "metadata": {},
   "outputs": [],
   "source": [
    "# set each key\n",
    "rpeaks = dataset_copy['rpeaks']\n",
    "signal = dataset_copy['signal']\n",
    "label = dataset_copy['label']\n",
    "activity = dataset_copy['activity']\n",
    "questionnaire = dataset_copy['questionnaire']\n",
    "subject = dataset_copy['subject']"
   ]
  },
  {
   "cell_type": "markdown",
   "id": "409d4e95-26cd-42ee-be6e-1fc15312a852",
   "metadata": {},
   "source": [
    "## End of Load Data"
   ]
  },
  {
   "cell_type": "markdown",
   "id": "96dab5aa-f641-4657-8a09-0e069ab94b05",
   "metadata": {},
   "source": [
    "---\n",
    "\n",
    "## Sensors\n",
    "\n",
    "### Chest (RespiBAN)\n",
    "- ECG\n",
    "- ACC\n",
    "- RESP\n",
    "\n",
    "### Wrist (Empatica E4)\n",
    "- BVP\n",
    "- ACC"
   ]
  },
  {
   "cell_type": "code",
   "execution_count": 6,
   "id": "1af7c48d-2f47-43a5-b9b5-83587006bd7d",
   "metadata": {},
   "outputs": [],
   "source": [
    "# maybe change func name to format_data_to_df\n",
    "def format_data_to_df(sensor, cols):\n",
    "    data = pd.DataFrame(sensor, columns=cols)\n",
    "    return data"
   ]
  },
  {
   "cell_type": "code",
   "execution_count": 7,
   "id": "a6c80048-0609-435c-8b12-365aa027cfbd",
   "metadata": {},
   "outputs": [],
   "source": [
    "def about_data(data):\n",
    "    check_nan = data.isnull().values.sum()\n",
    "    print(\"check_nan : \", check_nan)\n",
    "    \n",
    "    min_measurement = data.min()\n",
    "    print(\"min_measurement : \", min_measurement)\n",
    "    \n",
    "    max_measurement = data.max()\n",
    "    print(\"max_measurement : \", max_measurement)"
   ]
  },
  {
   "cell_type": "markdown",
   "id": "2b289add-b27b-475d-aa39-a4cd7229597f",
   "metadata": {
    "tags": []
   },
   "source": [
    "### 1. Chest (RespiBAN)"
   ]
  },
  {
   "cell_type": "code",
   "execution_count": 9,
   "id": "5a9698bd-df3c-4393-9961-cc90d1660a89",
   "metadata": {
    "tags": []
   },
   "outputs": [
    {
     "data": {
      "text/plain": [
       "{'ACC': array([[ 0.85640001, -0.06779999, -0.36559999],\n",
       "        [ 0.8556    , -0.06900001, -0.3646    ],\n",
       "        [ 0.852     , -0.07020003, -0.3642    ],\n",
       "        ...,\n",
       "        [ 0.88759995, -0.1038    , -0.27920002],\n",
       "        [ 0.88619995, -0.10159999, -0.27819997],\n",
       "        [ 0.88680005, -0.10140002, -0.27380002]]),\n",
       " 'ECG': array([[0.01560974],\n",
       "        [0.01812744],\n",
       "        [0.01753235],\n",
       "        ...,\n",
       "        [0.21368408],\n",
       "        [0.21556091],\n",
       "        [0.21702576]]),\n",
       " 'EMG': array([[-1.5],\n",
       "        [-1.5],\n",
       "        [-1.5],\n",
       "        ...,\n",
       "        [-1.5],\n",
       "        [-1.5],\n",
       "        [-1.5]]),\n",
       " 'EDA': array([[0.],\n",
       "        [0.],\n",
       "        [0.],\n",
       "        ...,\n",
       "        [0.],\n",
       "        [0.],\n",
       "        [0.]]),\n",
       " 'Temp': array([[-273.15],\n",
       "        [-273.15],\n",
       "        [-273.15],\n",
       "        ...,\n",
       "        [-273.15],\n",
       "        [-273.15],\n",
       "        [-273.15]], dtype=float32),\n",
       " 'Resp': array([[ 4.4418335 ],\n",
       "        [ 4.45098877],\n",
       "        [ 4.47387695],\n",
       "        ...,\n",
       "        [-3.05023193],\n",
       "        [-3.05328369],\n",
       "        [-3.05633545]])}"
      ]
     },
     "execution_count": 9,
     "metadata": {},
     "output_type": "execute_result"
    }
   ],
   "source": [
    "chest = signal['chest']\n",
    "chest"
   ]
  },
  {
   "cell_type": "markdown",
   "id": "8ba3050e-1806-4609-81ae-0e1360edd6b8",
   "metadata": {
    "tags": []
   },
   "source": [
    "#### 1.1. Electrocardiogram (ECG)\n",
    "\n",
    "- Provides heart rate ground truth\n",
    "   - Ground truth heart rate is then defined as the mean instantaneous heart rate (IHR) within each 8-second window.\n",
    "- RespiBAN Professional ECG-signal was acquired via a standard three-point\n",
    "- Artefacts on signal so they manually inspected and corrected the R-peak measurements\n",
    "    - Instantaneous heart rate is computed with the R-peak measurement \n",
    "- Segmented with a shifted window approach (window length: 8 seconds, window shift: 2 seconds)\n",
    "\n",
    "---\n",
    "#### Questions/Further Explore\n",
    "   1. Meaning of labels in \"The labels were extracted from\" [this sensor]?\n",
    "   2. RespiBAN sensor\n",
    "   3. R-peak with respect to why it's need\n",
    "   4. ECG with respect to the mathematical notation of the R-peak and other measurements\n",
    "   5. Why 8/2 with respect to window lenght and shift? Read about in reference list\n",
    "       - Ex : 1 - 8 secs is the 1st avg (IHR). Will the next avg (IRH) be within timestamps 6 - 14 secs? 8 to 16 secs? 6 - 16 secs?"
   ]
  },
  {
   "cell_type": "code",
   "execution_count": 14,
   "id": "f7e71d91-6adb-4ade-823a-976c6a4e5b12",
   "metadata": {},
   "outputs": [
    {
     "data": {
      "text/html": [
       "<div>\n",
       "<style scoped>\n",
       "    .dataframe tbody tr th:only-of-type {\n",
       "        vertical-align: middle;\n",
       "    }\n",
       "\n",
       "    .dataframe tbody tr th {\n",
       "        vertical-align: top;\n",
       "    }\n",
       "\n",
       "    .dataframe thead th {\n",
       "        text-align: right;\n",
       "    }\n",
       "</style>\n",
       "<table border=\"1\" class=\"dataframe\">\n",
       "  <thead>\n",
       "    <tr style=\"text-align: right;\">\n",
       "      <th></th>\n",
       "      <th>ECG Measurements</th>\n",
       "    </tr>\n",
       "  </thead>\n",
       "  <tbody>\n",
       "    <tr>\n",
       "      <th>0</th>\n",
       "      <td>0.015610</td>\n",
       "    </tr>\n",
       "    <tr>\n",
       "      <th>1</th>\n",
       "      <td>0.018127</td>\n",
       "    </tr>\n",
       "    <tr>\n",
       "      <th>2</th>\n",
       "      <td>0.017532</td>\n",
       "    </tr>\n",
       "    <tr>\n",
       "      <th>3</th>\n",
       "      <td>0.013412</td>\n",
       "    </tr>\n",
       "    <tr>\n",
       "      <th>4</th>\n",
       "      <td>0.011948</td>\n",
       "    </tr>\n",
       "    <tr>\n",
       "      <th>...</th>\n",
       "      <td>...</td>\n",
       "    </tr>\n",
       "    <tr>\n",
       "      <th>6448395</th>\n",
       "      <td>0.212082</td>\n",
       "    </tr>\n",
       "    <tr>\n",
       "      <th>6448396</th>\n",
       "      <td>0.210159</td>\n",
       "    </tr>\n",
       "    <tr>\n",
       "      <th>6448397</th>\n",
       "      <td>0.213684</td>\n",
       "    </tr>\n",
       "    <tr>\n",
       "      <th>6448398</th>\n",
       "      <td>0.215561</td>\n",
       "    </tr>\n",
       "    <tr>\n",
       "      <th>6448399</th>\n",
       "      <td>0.217026</td>\n",
       "    </tr>\n",
       "  </tbody>\n",
       "</table>\n",
       "<p>6448400 rows × 1 columns</p>\n",
       "</div>"
      ],
      "text/plain": [
       "         ECG Measurements\n",
       "0                0.015610\n",
       "1                0.018127\n",
       "2                0.017532\n",
       "3                0.013412\n",
       "4                0.011948\n",
       "...                   ...\n",
       "6448395          0.212082\n",
       "6448396          0.210159\n",
       "6448397          0.213684\n",
       "6448398          0.215561\n",
       "6448399          0.217026\n",
       "\n",
       "[6448400 rows x 1 columns]"
      ]
     },
     "execution_count": 14,
     "metadata": {},
     "output_type": "execute_result"
    }
   ],
   "source": [
    "ecg = chest['ECG']\n",
    "ecg\n",
    "columns = ['ECG Measurements']\n",
    "ecg_measurements = format_data_to_df(ecg, columns)\n",
    "ecg_measurements"
   ]
  },
  {
   "cell_type": "code",
   "execution_count": 11,
   "id": "393796d3-a77a-4ffd-b1b0-9d81b3af97ec",
   "metadata": {},
   "outputs": [
    {
     "name": "stdout",
     "output_type": "stream",
     "text": [
      "check_nan :  0\n",
      "min_measurement :  ECG Measurements   -1.499908\n",
      "dtype: float64\n",
      "max_measurement :  ECG Measurements    1.499954\n",
      "dtype: float64\n"
     ]
    }
   ],
   "source": [
    "ecg_characteristics = about_data(ecg_measurements)\n",
    "# ecg_characteristics"
   ]
  },
  {
   "cell_type": "markdown",
   "id": "33580afc-fecb-438d-9cca-6f5d1f8ca11d",
   "metadata": {},
   "source": [
    "#### 1.2. 3-Axis Accelerometer (ACC)\n",
    "\n",
    "- 3D-accelerometer embedded in the same device as the PPG-sensor, used to compensate motion artefacts\n",
    "- Used in the RespiBAN Professional device\n",
    "- Three-axis acceleration was acquired via a 3D-accelerometer, which is integrated into the RespiBAN wearable device \n",
    "- The 3 data columns refer to the 3 accelerometer channels. Data is provided in units of 1/64g.\n",
    "- Used in Empatica E4 data as well\n",
    "\n",
    "---\n",
    "#### Questions/Further Explore\n",
    "1. Why 3D?\n",
    "2. What are some differences between each axis/channel?\n",
    "3. Why accelerometer is confiugred to measure acceleration in range [-2g, 2g]?"
   ]
  },
  {
   "cell_type": "code",
   "execution_count": 17,
   "id": "13f9cbf7-e7bd-4fc6-b18a-4a87cc398b30",
   "metadata": {},
   "outputs": [
    {
     "data": {
      "text/html": [
       "<div>\n",
       "<style scoped>\n",
       "    .dataframe tbody tr th:only-of-type {\n",
       "        vertical-align: middle;\n",
       "    }\n",
       "\n",
       "    .dataframe tbody tr th {\n",
       "        vertical-align: top;\n",
       "    }\n",
       "\n",
       "    .dataframe thead th {\n",
       "        text-align: right;\n",
       "    }\n",
       "</style>\n",
       "<table border=\"1\" class=\"dataframe\">\n",
       "  <thead>\n",
       "    <tr style=\"text-align: right;\">\n",
       "      <th></th>\n",
       "      <th>x</th>\n",
       "      <th>y</th>\n",
       "      <th>z</th>\n",
       "    </tr>\n",
       "  </thead>\n",
       "  <tbody>\n",
       "    <tr>\n",
       "      <th>0</th>\n",
       "      <td>0.8564</td>\n",
       "      <td>-0.0678</td>\n",
       "      <td>-0.3656</td>\n",
       "    </tr>\n",
       "    <tr>\n",
       "      <th>1</th>\n",
       "      <td>0.8556</td>\n",
       "      <td>-0.0690</td>\n",
       "      <td>-0.3646</td>\n",
       "    </tr>\n",
       "    <tr>\n",
       "      <th>2</th>\n",
       "      <td>0.8520</td>\n",
       "      <td>-0.0702</td>\n",
       "      <td>-0.3642</td>\n",
       "    </tr>\n",
       "    <tr>\n",
       "      <th>3</th>\n",
       "      <td>0.8526</td>\n",
       "      <td>-0.0690</td>\n",
       "      <td>-0.3640</td>\n",
       "    </tr>\n",
       "    <tr>\n",
       "      <th>4</th>\n",
       "      <td>0.8526</td>\n",
       "      <td>-0.0698</td>\n",
       "      <td>-0.3654</td>\n",
       "    </tr>\n",
       "    <tr>\n",
       "      <th>...</th>\n",
       "      <td>...</td>\n",
       "      <td>...</td>\n",
       "      <td>...</td>\n",
       "    </tr>\n",
       "    <tr>\n",
       "      <th>6448395</th>\n",
       "      <td>0.8862</td>\n",
       "      <td>-0.1022</td>\n",
       "      <td>-0.2760</td>\n",
       "    </tr>\n",
       "    <tr>\n",
       "      <th>6448396</th>\n",
       "      <td>0.8866</td>\n",
       "      <td>-0.1036</td>\n",
       "      <td>-0.2766</td>\n",
       "    </tr>\n",
       "    <tr>\n",
       "      <th>6448397</th>\n",
       "      <td>0.8876</td>\n",
       "      <td>-0.1038</td>\n",
       "      <td>-0.2792</td>\n",
       "    </tr>\n",
       "    <tr>\n",
       "      <th>6448398</th>\n",
       "      <td>0.8862</td>\n",
       "      <td>-0.1016</td>\n",
       "      <td>-0.2782</td>\n",
       "    </tr>\n",
       "    <tr>\n",
       "      <th>6448399</th>\n",
       "      <td>0.8868</td>\n",
       "      <td>-0.1014</td>\n",
       "      <td>-0.2738</td>\n",
       "    </tr>\n",
       "  </tbody>\n",
       "</table>\n",
       "<p>6448400 rows × 3 columns</p>\n",
       "</div>"
      ],
      "text/plain": [
       "              x       y       z\n",
       "0        0.8564 -0.0678 -0.3656\n",
       "1        0.8556 -0.0690 -0.3646\n",
       "2        0.8520 -0.0702 -0.3642\n",
       "3        0.8526 -0.0690 -0.3640\n",
       "4        0.8526 -0.0698 -0.3654\n",
       "...         ...     ...     ...\n",
       "6448395  0.8862 -0.1022 -0.2760\n",
       "6448396  0.8866 -0.1036 -0.2766\n",
       "6448397  0.8876 -0.1038 -0.2792\n",
       "6448398  0.8862 -0.1016 -0.2782\n",
       "6448399  0.8868 -0.1014 -0.2738\n",
       "\n",
       "[6448400 rows x 3 columns]"
      ]
     },
     "execution_count": 17,
     "metadata": {},
     "output_type": "execute_result"
    }
   ],
   "source": [
    "acc_c = chest['ACC']\n",
    "acc_c\n",
    "columns = ['x', 'y', 'z']\n",
    "acc_c_measurements = format_data_to_df(acc_c, columns)\n",
    "acc_c_measurements"
   ]
  },
  {
   "cell_type": "code",
   "execution_count": 20,
   "id": "82122474-72f9-429e-9975-27a1263b2886",
   "metadata": {},
   "outputs": [
    {
     "name": "stdout",
     "output_type": "stream",
     "text": [
      "check_nan :  0\n",
      "min_measurement :  x   -0.6956\n",
      "y   -1.4830\n",
      "z   -4.2490\n",
      "dtype: float64\n",
      "max_measurement :  x    3.9512\n",
      "y    1.2442\n",
      "z    2.9578\n",
      "dtype: float64\n"
     ]
    }
   ],
   "source": [
    "acc_c_characteristics = about_data(acc_c_measurements)"
   ]
  },
  {
   "cell_type": "markdown",
   "id": "4fecd961-c6c8-4015-8bba-a29e99d72104",
   "metadata": {},
   "source": [
    "#### 1.3. Respiration (RESP)\n",
    "\n",
    "- SX_RespiBAN.h5: contains data from the RespiBAN device. Data is organised in a dictionary, corresponding to the sensor modalities. \n",
    "- Signal was acquired with an inductive respiration sensor, which is embedded into the RespiBAN chest strap.\n",
    "- Three-axis acceleration was acquired via a 3D-accelerometer, which is integrated into the RespiBAN wearable device.\n",
    "- Raw data is contained in SX_RespiBAN.h5. \n",
    "- ‘chest’: RespiBAN data (all the modalities: ACC, ECG, EDA, EMG, RESP, TEMP). As mentioned above, the modalities ‘EDA’, ‘EMG’ and ‘Temp’ only include dummy data and should thus be ignored.\n",
    "\n",
    "---\n",
    "#### Questions/Further Explore\n",
    "1. Does manually synchronizing the data affect it at all?\n",
    "2. [ ] Clearly distinguish the differences between S1_RespiBAN.h5 and S1.pkl $\\rightarrow$ signal $\\rightarrow$ chest $\\rightarrow$ Resp"
   ]
  },
  {
   "cell_type": "code",
   "execution_count": 22,
   "id": "e93f86d8-b532-481a-9532-7cc0a0359fa7",
   "metadata": {},
   "outputs": [
    {
     "data": {
      "text/html": [
       "<div>\n",
       "<style scoped>\n",
       "    .dataframe tbody tr th:only-of-type {\n",
       "        vertical-align: middle;\n",
       "    }\n",
       "\n",
       "    .dataframe tbody tr th {\n",
       "        vertical-align: top;\n",
       "    }\n",
       "\n",
       "    .dataframe thead th {\n",
       "        text-align: right;\n",
       "    }\n",
       "</style>\n",
       "<table border=\"1\" class=\"dataframe\">\n",
       "  <thead>\n",
       "    <tr style=\"text-align: right;\">\n",
       "      <th></th>\n",
       "      <th>Resp Measurements</th>\n",
       "    </tr>\n",
       "  </thead>\n",
       "  <tbody>\n",
       "    <tr>\n",
       "      <th>0</th>\n",
       "      <td>4.441833</td>\n",
       "    </tr>\n",
       "    <tr>\n",
       "      <th>1</th>\n",
       "      <td>4.450989</td>\n",
       "    </tr>\n",
       "    <tr>\n",
       "      <th>2</th>\n",
       "      <td>4.473877</td>\n",
       "    </tr>\n",
       "    <tr>\n",
       "      <th>3</th>\n",
       "      <td>4.478455</td>\n",
       "    </tr>\n",
       "    <tr>\n",
       "      <th>4</th>\n",
       "      <td>4.510498</td>\n",
       "    </tr>\n",
       "    <tr>\n",
       "      <th>...</th>\n",
       "      <td>...</td>\n",
       "    </tr>\n",
       "    <tr>\n",
       "      <th>6448395</th>\n",
       "      <td>-3.062439</td>\n",
       "    </tr>\n",
       "    <tr>\n",
       "      <th>6448396</th>\n",
       "      <td>-3.051758</td>\n",
       "    </tr>\n",
       "    <tr>\n",
       "      <th>6448397</th>\n",
       "      <td>-3.050232</td>\n",
       "    </tr>\n",
       "    <tr>\n",
       "      <th>6448398</th>\n",
       "      <td>-3.053284</td>\n",
       "    </tr>\n",
       "    <tr>\n",
       "      <th>6448399</th>\n",
       "      <td>-3.056335</td>\n",
       "    </tr>\n",
       "  </tbody>\n",
       "</table>\n",
       "<p>6448400 rows × 1 columns</p>\n",
       "</div>"
      ],
      "text/plain": [
       "         Resp Measurements\n",
       "0                 4.441833\n",
       "1                 4.450989\n",
       "2                 4.473877\n",
       "3                 4.478455\n",
       "4                 4.510498\n",
       "...                    ...\n",
       "6448395          -3.062439\n",
       "6448396          -3.051758\n",
       "6448397          -3.050232\n",
       "6448398          -3.053284\n",
       "6448399          -3.056335\n",
       "\n",
       "[6448400 rows x 1 columns]"
      ]
     },
     "execution_count": 22,
     "metadata": {},
     "output_type": "execute_result"
    }
   ],
   "source": [
    "resp = chest['Resp']\n",
    "resp\n",
    "columns = ['Respiration Measurements']\n",
    "resp_characteristics = format_data_to_df(resp, columns)\n",
    "resp_characteristics"
   ]
  },
  {
   "cell_type": "code",
   "execution_count": null,
   "id": "ae9aed99-161a-44d9-8634-2d9fc66607f7",
   "metadata": {},
   "outputs": [],
   "source": [
    "about_data(resp_characteristics)"
   ]
  },
  {
   "cell_type": "markdown",
   "id": "737686bc-d43a-44d1-9e29-a7d5e199fc25",
   "metadata": {
    "tags": []
   },
   "source": [
    "### 2. Wrist (Empatica E4)"
   ]
  },
  {
   "cell_type": "code",
   "execution_count": 27,
   "id": "0892486f-8c5b-4ad2-a6ec-44f42663365e",
   "metadata": {},
   "outputs": [
    {
     "data": {
      "text/plain": [
       "{'ACC': array([[-0.765625, -0.078125,  0.671875],\n",
       "        [-0.765625, -0.078125,  0.65625 ],\n",
       "        [-0.765625, -0.078125,  0.671875],\n",
       "        ...,\n",
       "        [-0.375   , -0.015625,  0.9375  ],\n",
       "        [-0.390625,  0.      ,  0.9375  ],\n",
       "        [-0.375   ,  0.      ,  0.9375  ]]),\n",
       " 'BVP': array([[  7.28],\n",
       "        [  6.33],\n",
       "        [  5.46],\n",
       "        ...,\n",
       "        [105.02],\n",
       "        [109.44],\n",
       "        [111.06]]),\n",
       " 'EDA': array([[4.722437],\n",
       "        [4.728843],\n",
       "        [4.718594],\n",
       "        ...,\n",
       "        [3.170867],\n",
       "        [3.159336],\n",
       "        [3.151649]]),\n",
       " 'TEMP': array([[32.13],\n",
       "        [32.16],\n",
       "        [32.16],\n",
       "        ...,\n",
       "        [34.37],\n",
       "        [34.37],\n",
       "        [34.37]])}"
      ]
     },
     "execution_count": 27,
     "metadata": {},
     "output_type": "execute_result"
    }
   ],
   "source": [
    "wrist = signal['wrist']\n",
    "wrist"
   ]
  },
  {
   "cell_type": "markdown",
   "id": "b54f1c9e-06f2-4f77-8942-fcd792b18f33",
   "metadata": {},
   "source": [
    "#### 2.1. Blood Volume Pulse (BVP)\n",
    "- BVP.csv\n",
    "- Data from photoplethysmograph (PPG)"
   ]
  },
  {
   "cell_type": "code",
   "execution_count": 28,
   "id": "4d1a5499-97d8-42b5-80d5-e96a9a0688e2",
   "metadata": {},
   "outputs": [
    {
     "data": {
      "text/html": [
       "<div>\n",
       "<style scoped>\n",
       "    .dataframe tbody tr th:only-of-type {\n",
       "        vertical-align: middle;\n",
       "    }\n",
       "\n",
       "    .dataframe tbody tr th {\n",
       "        vertical-align: top;\n",
       "    }\n",
       "\n",
       "    .dataframe thead th {\n",
       "        text-align: right;\n",
       "    }\n",
       "</style>\n",
       "<table border=\"1\" class=\"dataframe\">\n",
       "  <thead>\n",
       "    <tr style=\"text-align: right;\">\n",
       "      <th></th>\n",
       "      <th>BVP Measurements</th>\n",
       "    </tr>\n",
       "  </thead>\n",
       "  <tbody>\n",
       "    <tr>\n",
       "      <th>0</th>\n",
       "      <td>7.28</td>\n",
       "    </tr>\n",
       "    <tr>\n",
       "      <th>1</th>\n",
       "      <td>6.33</td>\n",
       "    </tr>\n",
       "    <tr>\n",
       "      <th>2</th>\n",
       "      <td>5.46</td>\n",
       "    </tr>\n",
       "    <tr>\n",
       "      <th>3</th>\n",
       "      <td>4.60</td>\n",
       "    </tr>\n",
       "    <tr>\n",
       "      <th>4</th>\n",
       "      <td>3.74</td>\n",
       "    </tr>\n",
       "    <tr>\n",
       "      <th>...</th>\n",
       "      <td>...</td>\n",
       "    </tr>\n",
       "    <tr>\n",
       "      <th>589563</th>\n",
       "      <td>85.88</td>\n",
       "    </tr>\n",
       "    <tr>\n",
       "      <th>589564</th>\n",
       "      <td>97.30</td>\n",
       "    </tr>\n",
       "    <tr>\n",
       "      <th>589565</th>\n",
       "      <td>105.02</td>\n",
       "    </tr>\n",
       "    <tr>\n",
       "      <th>589566</th>\n",
       "      <td>109.44</td>\n",
       "    </tr>\n",
       "    <tr>\n",
       "      <th>589567</th>\n",
       "      <td>111.06</td>\n",
       "    </tr>\n",
       "  </tbody>\n",
       "</table>\n",
       "<p>589568 rows × 1 columns</p>\n",
       "</div>"
      ],
      "text/plain": [
       "        BVP Measurements\n",
       "0                   7.28\n",
       "1                   6.33\n",
       "2                   5.46\n",
       "3                   4.60\n",
       "4                   3.74\n",
       "...                  ...\n",
       "589563             85.88\n",
       "589564             97.30\n",
       "589565            105.02\n",
       "589566            109.44\n",
       "589567            111.06\n",
       "\n",
       "[589568 rows x 1 columns]"
      ]
     },
     "execution_count": 28,
     "metadata": {},
     "output_type": "execute_result"
    }
   ],
   "source": [
    "bvp = wrist['BVP']\n",
    "bvp\n",
    "columns = ['BVP Measurements']\n",
    "bvp_measurements = format_data_to_df(bvp, columns)\n",
    "bvp_measurements"
   ]
  },
  {
   "cell_type": "code",
   "execution_count": 29,
   "id": "d3b1e955-8630-491d-992b-4c0d974560d3",
   "metadata": {},
   "outputs": [
    {
     "name": "stdout",
     "output_type": "stream",
     "text": [
      "check_nan :  0\n",
      "min_measurement :  BVP Measurements   -1647.39\n",
      "dtype: float64\n",
      "max_measurement :  BVP Measurements    1557.58\n",
      "dtype: float64\n"
     ]
    }
   ],
   "source": [
    "bvp_characteristics = about_data(bvp_measurements)"
   ]
  },
  {
   "cell_type": "markdown",
   "id": "fb65d1c4-36ad-4d9e-9b48-603b75176bb6",
   "metadata": {},
   "source": [
    "#### 2.2. ACC\n",
    "\n",
    "- 3D-accelerometer embedded in the same device as the PPG-sensor, used to compensate motion artefacts\n",
    "- Used in Empatica E4 data\n",
    "- The 3 data columns refer to the 3 accelerometer channels. Data is provided in units of 1/64g.\n",
    "\n",
    "---\n",
    "#### Questions/Further Explore\n",
    "1. Why 3D?\n",
    "2. What are some differences between each axis/channel?\n",
    "3. Why accelerometer is confiugred to measure acceleration in range [-2g, 2g]?"
   ]
  },
  {
   "cell_type": "code",
   "execution_count": 31,
   "id": "be511753-edab-40ec-8fa6-8babb49a64e2",
   "metadata": {},
   "outputs": [
    {
     "data": {
      "text/html": [
       "<div>\n",
       "<style scoped>\n",
       "    .dataframe tbody tr th:only-of-type {\n",
       "        vertical-align: middle;\n",
       "    }\n",
       "\n",
       "    .dataframe tbody tr th {\n",
       "        vertical-align: top;\n",
       "    }\n",
       "\n",
       "    .dataframe thead th {\n",
       "        text-align: right;\n",
       "    }\n",
       "</style>\n",
       "<table border=\"1\" class=\"dataframe\">\n",
       "  <thead>\n",
       "    <tr style=\"text-align: right;\">\n",
       "      <th></th>\n",
       "      <th>x</th>\n",
       "      <th>y</th>\n",
       "      <th>z</th>\n",
       "    </tr>\n",
       "  </thead>\n",
       "  <tbody>\n",
       "    <tr>\n",
       "      <th>0</th>\n",
       "      <td>-0.765625</td>\n",
       "      <td>-0.078125</td>\n",
       "      <td>0.671875</td>\n",
       "    </tr>\n",
       "    <tr>\n",
       "      <th>1</th>\n",
       "      <td>-0.765625</td>\n",
       "      <td>-0.078125</td>\n",
       "      <td>0.656250</td>\n",
       "    </tr>\n",
       "    <tr>\n",
       "      <th>2</th>\n",
       "      <td>-0.765625</td>\n",
       "      <td>-0.078125</td>\n",
       "      <td>0.671875</td>\n",
       "    </tr>\n",
       "    <tr>\n",
       "      <th>3</th>\n",
       "      <td>-0.765625</td>\n",
       "      <td>-0.078125</td>\n",
       "      <td>0.671875</td>\n",
       "    </tr>\n",
       "    <tr>\n",
       "      <th>4</th>\n",
       "      <td>-0.750000</td>\n",
       "      <td>-0.078125</td>\n",
       "      <td>0.671875</td>\n",
       "    </tr>\n",
       "    <tr>\n",
       "      <th>...</th>\n",
       "      <td>...</td>\n",
       "      <td>...</td>\n",
       "      <td>...</td>\n",
       "    </tr>\n",
       "    <tr>\n",
       "      <th>294779</th>\n",
       "      <td>-0.375000</td>\n",
       "      <td>0.000000</td>\n",
       "      <td>0.937500</td>\n",
       "    </tr>\n",
       "    <tr>\n",
       "      <th>294780</th>\n",
       "      <td>-0.375000</td>\n",
       "      <td>0.000000</td>\n",
       "      <td>0.937500</td>\n",
       "    </tr>\n",
       "    <tr>\n",
       "      <th>294781</th>\n",
       "      <td>-0.375000</td>\n",
       "      <td>-0.015625</td>\n",
       "      <td>0.937500</td>\n",
       "    </tr>\n",
       "    <tr>\n",
       "      <th>294782</th>\n",
       "      <td>-0.390625</td>\n",
       "      <td>0.000000</td>\n",
       "      <td>0.937500</td>\n",
       "    </tr>\n",
       "    <tr>\n",
       "      <th>294783</th>\n",
       "      <td>-0.375000</td>\n",
       "      <td>0.000000</td>\n",
       "      <td>0.937500</td>\n",
       "    </tr>\n",
       "  </tbody>\n",
       "</table>\n",
       "<p>294784 rows × 3 columns</p>\n",
       "</div>"
      ],
      "text/plain": [
       "               x         y         z\n",
       "0      -0.765625 -0.078125  0.671875\n",
       "1      -0.765625 -0.078125  0.656250\n",
       "2      -0.765625 -0.078125  0.671875\n",
       "3      -0.765625 -0.078125  0.671875\n",
       "4      -0.750000 -0.078125  0.671875\n",
       "...          ...       ...       ...\n",
       "294779 -0.375000  0.000000  0.937500\n",
       "294780 -0.375000  0.000000  0.937500\n",
       "294781 -0.375000 -0.015625  0.937500\n",
       "294782 -0.390625  0.000000  0.937500\n",
       "294783 -0.375000  0.000000  0.937500\n",
       "\n",
       "[294784 rows x 3 columns]"
      ]
     },
     "execution_count": 31,
     "metadata": {},
     "output_type": "execute_result"
    }
   ],
   "source": [
    "acc_w = wrist['ACC']\n",
    "acc_w\n",
    "columns = ['x', 'y', 'z']\n",
    "acc_w_measurements = format_data_to_df(acc_w, columns)\n",
    "acc_w_measurements"
   ]
  },
  {
   "cell_type": "code",
   "execution_count": 32,
   "id": "1b252342-f861-4718-8084-df4e721185a8",
   "metadata": {},
   "outputs": [
    {
     "name": "stdout",
     "output_type": "stream",
     "text": [
      "check_nan :  0\n",
      "min_measurement :  x   -2.0\n",
      "y   -2.0\n",
      "z   -2.0\n",
      "dtype: float64\n",
      "max_measurement :  x    1.984375\n",
      "y    1.984375\n",
      "z    1.984375\n",
      "dtype: float64\n"
     ]
    }
   ],
   "source": [
    "acc_w_characteristics = about_data(acc_w_measurements)"
   ]
  },
  {
   "cell_type": "code",
   "execution_count": null,
   "id": "2df659a3-b18e-41d8-85b2-bf9624a16a38",
   "metadata": {},
   "outputs": [],
   "source": []
  }
 ],
 "metadata": {
  "kernelspec": {
   "display_name": "Python 3",
   "language": "python",
   "name": "python3"
  },
  "language_info": {
   "codemirror_mode": {
    "name": "ipython",
    "version": 3
   },
   "file_extension": ".py",
   "mimetype": "text/x-python",
   "name": "python",
   "nbconvert_exporter": "python",
   "pygments_lexer": "ipython3",
   "version": "3.7.5"
  }
 },
 "nbformat": 4,
 "nbformat_minor": 5
}
