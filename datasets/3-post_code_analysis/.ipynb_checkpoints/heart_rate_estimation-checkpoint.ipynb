{
 "cells": [
  {
   "cell_type": "markdown",
   "id": "05d188a9-f84e-4f67-b89f-48bcc96c5869",
   "metadata": {},
   "source": [
    "# Analysis of Heart Rate Estimation Dataset\n",
    "---\n",
    "\n",
    "1. General info : \n",
    "    - 15 participants w/ a folder for each\n",
    "    - Files  \n",
    "        1. IBI.csv\n",
    "            - Time between individuals heart beats extracted from the BVP signal. No sample rate is needed for this file. The first column is the time (respect to the initial time) of the detected inter-beat interval expressed in seconds (s). The second column is the duration in seconds (s) of the detected inter-beat interval (i.e., the distance in seconds from the previous beat).\n",
    "        2. EDA.csv\n",
    "            - Data from the electrodermal activity sensor expressed as microsiemens (μS).\n",
    "\n",
    "        3. BVP.csv\n",
    "            - Data from photoplethysmograph.\n",
    "            \n",
    "        4. ACC.csv\n",
    "            - Data from 3-axis accelerometer sensor. The accelerometer is configured to measure acceleration in the range [-2g, 2g]. Therefore the unit in this file is 1/64g.Data from x, y, and z axis are respectively in first, second, and third column.\n",
    "            \n",
    "\n",
    "2. TODO : \n",
    "    - [ ] W/ code, clean data by adding Files 2 - 4 to 1\n",
    "        - Reasoning is : We have 3 different sensors & all 3 occur at some time in secs. This is only possible when there's a match from the secs to all 3 sensors, respectively.\n",
    "    - [ ] Start analyzing for 1 participant\n",
    "        - [ ] What is important here? Can I generalize this to the other participants?\n",
    "    - [ ] Once know what to track, do for all participants\n",
    "        - Should this be done invididually so 15 different files or collectively so clean & organize data into a single file?"
   ]
  },
  {
   "cell_type": "code",
   "execution_count": null,
   "id": "64c0a3ac-d2a0-428e-833f-209d37f9d1a4",
   "metadata": {},
   "outputs": [],
   "source": []
  }
 ],
 "metadata": {
  "kernelspec": {
   "display_name": "Python 3",
   "language": "python",
   "name": "python3"
  },
  "language_info": {
   "codemirror_mode": {
    "name": "ipython",
    "version": 3
   },
   "file_extension": ".py",
   "mimetype": "text/x-python",
   "name": "python",
   "nbconvert_exporter": "python",
   "pygments_lexer": "ipython3",
   "version": "3.7.5"
  }
 },
 "nbformat": 4,
 "nbformat_minor": 5
}
