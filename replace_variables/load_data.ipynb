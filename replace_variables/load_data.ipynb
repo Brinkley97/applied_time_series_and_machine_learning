{
 "cells": [
  {
   "cell_type": "markdown",
   "id": "b18129f0-e4e5-4534-8fc7-a0878bfec1c9",
   "metadata": {},
   "source": [
    "# Specific Questions + Proper Colums in Dataframes\n",
    "\n",
    "1. Import specific questions\n",
    "2. Get * variable name * from specific question to match with dataframe in data"
   ]
  },
  {
   "cell_type": "code",
   "execution_count": 16,
   "id": "e29a74bc-d94d-47a1-96c1-fe2f5aa4d3a4",
   "metadata": {},
   "outputs": [],
   "source": [
    "from scipy import stats"
   ]
  },
  {
   "cell_type": "code",
   "execution_count": 2,
   "id": "9b82ebed-d40d-409d-b7e3-88321cec5a58",
   "metadata": {},
   "outputs": [],
   "source": [
    "path_to_data = '../../tiles-day-night/code/ground_truth/demographics_day_night.py'\n",
    "# path_to_data = '../../tiles-day-night/code/util/load_data_basic.py'"
   ]
  },
  {
   "cell_type": "code",
   "execution_count": 3,
   "id": "26684b40-5482-4958-aa35-faa7743583f3",
   "metadata": {},
   "outputs": [],
   "source": [
    "# # %load path_to_data\n",
    "# ../../tiles-day-night/code/ground_truth/demographics_day_night.py"
   ]
  },
  {
   "cell_type": "code",
   "execution_count": 4,
   "id": "8049a422-0bfa-4562-8808-896248aae851",
   "metadata": {},
   "outputs": [
    {
     "name": "stderr",
     "output_type": "stream",
     "text": [
      "/Users/brinkley97/opt/anaconda3/envs/tiles_day_night/lib/python3.7/site-packages/pandas/compat/_optional.py:138: UserWarning: Pandas requires version '2.7.0' or newer of 'numexpr' (version '2.6.8' currently installed).\n",
      "  warnings.warn(msg, UserWarning)\n"
     ]
    },
    {
     "name": "stdout",
     "output_type": "stream",
     "text": [
      "Total number of participants: 113\n",
      "\n",
      "\\multicolumn{1}{l|}{{Gender (Female)}} &\n",
      "\\multicolumn{1}{c|}{{51 (73.9\\%)}} &\n",
      "\\multicolumn{1}{c|}{{31 (70.5\\%)}} &\n",
      "\\multicolumn{1}{c|}{{82 (72.6\\%)}} &\n",
      "\\multicolumn{1}{c|}{} &\n",
      "\\multicolumn{1}{c}{} \\rule{0pt}{2.25ex} \\\\\n",
      "\\hline\n",
      "\n",
      "\\multicolumn{1}{l|}{{Native Language = English}} &\n",
      "\\multicolumn{1}{c|}{{39 (56.5\\%)}} &\n",
      "\\multicolumn{1}{c|}{{25 (56.8\\%)}} &\n",
      "\\multicolumn{1}{c|}{{64 (56.6\\%)}} &\n",
      "\\multicolumn{1}{c|}{} &\n",
      "\\multicolumn{1}{c}{} \\rule{0pt}{2.25ex} \\\\\n",
      "\\hline\n",
      "\n",
      "\\multicolumn{1}{l|}{{{Education}}} & & & & & & \\rule{0pt}{2.25ex} \\\\ \\hline \n",
      "\n",
      "\\multicolumn{1}{l|}{{College}} &\n",
      "\\multicolumn{1}{c|}{{59 (85.5\\%)}} &\n",
      "\\multicolumn{1}{c|}{{33 (75.0\\%)}} &\n",
      "\\multicolumn{1}{c|}{{92 (81.4\\%)}} &\n",
      "\\multicolumn{1}{c|}{} &\n",
      "\\multicolumn{1}{c}{} \\rule{0pt}{2.25ex} \\\\\n",
      "\n",
      "\\multicolumn{1}{l|}{{Graduate}} &\n",
      "\\multicolumn{1}{c|}{{10 (14.5\\%)}} &\n",
      "\\multicolumn{1}{c|}{{11 (25.0\\%)}} &\n",
      "\\multicolumn{1}{c|}{{21 (18.6\\%)}} &\n",
      "\\multicolumn{1}{c|}{} &\n",
      "\\multicolumn{1}{c}{} \\rule{0pt}{2.25ex} \\\\\n",
      "\\hline\n",
      "\n",
      "\\multicolumn{1}{l|}{{Age(Mean $\\pm$ SD)}} &\n",
      "\\multicolumn{1}{c|}{{34.3 $\\pm$ 13.5}} &\n",
      "\\multicolumn{1}{c|}{{29.1 $\\pm$ 14.9}} &\n",
      "\\multicolumn{1}{c|}{{32.3 $\\pm$ 14.3}} &\n",
      "\\multicolumn{1}{c|}{{0.0 - 50.0}} &\n",
      "\\multicolumn{1}{c}{$0.067$} \\rule{0pt}{2.25ex} \\\\\n",
      "\n",
      "\\multicolumn{1}{l|}{{Age < 40 Years (n (\\%))}} &\n",
      "\\multicolumn{1}{c|}{{40 (58.0\\%)}} &\n",
      "\\multicolumn{1}{c|}{{32 (72.7\\%)}} &\n",
      "\\multicolumn{1}{c|}{{72 (63.7\\%)}} &\n",
      "\\multicolumn{1}{c|}{} &\n",
      "\\multicolumn{1}{c}{} \\rule{0pt}{2.25ex} \\\\\n",
      "\n",
      "\\multicolumn{1}{l|}{{Age >= 40 Years (n (\\%))}} &\n",
      "\\multicolumn{1}{c|}{{29 (42.0\\%)}} &\n",
      "\\multicolumn{1}{c|}{{12 (27.3\\%)}} &\n",
      "\\multicolumn{1}{c|}{{41 (36.3\\%)}} &\n",
      "\\multicolumn{1}{c|}{} &\n",
      "\\multicolumn{1}{c}{} \\rule{0pt}{2.25ex} \\\\\n",
      "\\hline\n",
      "\n",
      "\\multicolumn{1}{l|}{{Anxiety(Mean $\\pm$ SD)}} &\n",
      "\\multicolumn{1}{c|}{{32.9 $\\pm$ 7.6}} &\n",
      "\\multicolumn{1}{c|}{{35.4 $\\pm$ 9.1}} &\n",
      "\\multicolumn{1}{c|}{{33.9 $\\pm$ 8.3}} &\n",
      "\\multicolumn{1}{c|}{{20.0 - 55.0}} &\n",
      "\\multicolumn{1}{c}{$0.130$} \\rule{0pt}{2.25ex} \\\\\n",
      "\n",
      "\\multicolumn{1}{l|}{{Positive Affect(Mean $\\pm$ SD)}} &\n",
      "\\multicolumn{1}{c|}{{37.0 $\\pm$ 6.4}} &\n",
      "\\multicolumn{1}{c|}{{37.3 $\\pm$ 6.6}} &\n",
      "\\multicolumn{1}{c|}{{37.1 $\\pm$ 6.5}} &\n",
      "\\multicolumn{1}{c|}{{16.0 - 50.0}} &\n",
      "\\multicolumn{1}{c}{$0.764$} \\rule{0pt}{2.25ex} \\\\\n",
      "\n",
      "\\multicolumn{1}{l|}{{Negative Affect(Mean $\\pm$ SD)}} &\n",
      "\\multicolumn{1}{c|}{{14.9 $\\pm$ 3.7}} &\n",
      "\\multicolumn{1}{c|}{{16.5 $\\pm$ 4.9}} &\n",
      "\\multicolumn{1}{c|}{{15.5 $\\pm$ 4.3}} &\n",
      "\\multicolumn{1}{c|}{{10.0 - 31.0}} &\n",
      "\\multicolumn{1}{c}{$0.065$} \\rule{0pt}{2.25ex} \\\\\n",
      "\n",
      "\\multicolumn{1}{l|}{{Life Satisfaction(Mean $\\pm$ SD)}} &\n",
      "\\multicolumn{1}{c|}{{5.4 $\\pm$ 1.1}} &\n",
      "\\multicolumn{1}{c|}{{4.8 $\\pm$ 1.4}} &\n",
      "\\multicolumn{1}{c|}{{5.2 $\\pm$ 1.2}} &\n",
      "\\multicolumn{1}{c|}{{1.0 - 7.0}} &\n",
      "\\multicolumn{1}{c}{$\\mathbf{0.030^*}$} \\rule{0pt}{2.25ex} \\\\\n",
      "\n",
      "\\multicolumn{1}{l|}{{Neuroticism(Mean $\\pm$ SD)}} &\n",
      "\\multicolumn{1}{c|}{{2.1 $\\pm$ 0.7}} &\n",
      "\\multicolumn{1}{c|}{{2.3 $\\pm$ 0.7}} &\n",
      "\\multicolumn{1}{c|}{{2.2 $\\pm$ 0.7}} &\n",
      "\\multicolumn{1}{c|}{{1.0 - 4.0}} &\n",
      "\\multicolumn{1}{c}{$0.166$} \\rule{0pt}{2.25ex} \\\\\n",
      "\n",
      "\\multicolumn{1}{l|}{{Conscientiousness(Mean $\\pm$ SD)}} &\n",
      "\\multicolumn{1}{c|}{{4.2 $\\pm$ 0.6}} &\n",
      "\\multicolumn{1}{c|}{{4.1 $\\pm$ 0.6}} &\n",
      "\\multicolumn{1}{c|}{{4.2 $\\pm$ 0.6}} &\n",
      "\\multicolumn{1}{c|}{{2.3 - 5.0}} &\n",
      "\\multicolumn{1}{c}{$0.601$} \\rule{0pt}{2.25ex} \\\\\n",
      "\n",
      "\\multicolumn{1}{l|}{{Extraversion(Mean $\\pm$ SD)}} &\n",
      "\\multicolumn{1}{c|}{{3.6 $\\pm$ 0.7}} &\n",
      "\\multicolumn{1}{c|}{{3.5 $\\pm$ 0.8}} &\n",
      "\\multicolumn{1}{c|}{{3.6 $\\pm$ 0.7}} &\n",
      "\\multicolumn{1}{c|}{{1.8 - 5.0}} &\n",
      "\\multicolumn{1}{c}{$0.600$} \\rule{0pt}{2.25ex} \\\\\n",
      "\n",
      "\\multicolumn{1}{l|}{{Agreeableness(Mean $\\pm$ SD)}} &\n",
      "\\multicolumn{1}{c|}{{4.2 $\\pm$ 0.5}} &\n",
      "\\multicolumn{1}{c|}{{4.2 $\\pm$ 0.4}} &\n",
      "\\multicolumn{1}{c|}{{4.2 $\\pm$ 0.5}} &\n",
      "\\multicolumn{1}{c|}{{2.6 - 5.0}} &\n",
      "\\multicolumn{1}{c}{$0.994$} \\rule{0pt}{2.25ex} \\\\\n",
      "\n",
      "\\multicolumn{1}{l|}{{Openness(Mean $\\pm$ SD)}} &\n",
      "\\multicolumn{1}{c|}{{3.7 $\\pm$ 0.6}} &\n",
      "\\multicolumn{1}{c|}{{3.9 $\\pm$ 0.6}} &\n",
      "\\multicolumn{1}{c|}{{3.8 $\\pm$ 0.6}} &\n",
      "\\multicolumn{1}{c|}{{1.9 - 4.9}} &\n",
      "\\multicolumn{1}{c}{$0.058$} \\rule{0pt}{2.25ex} \\\\\n",
      "\n",
      "\\multicolumn{1}{l|}{{PSQI(Mean $\\pm$ SD)}} &\n",
      "\\multicolumn{1}{c|}{{7.0 $\\pm$ 2.0}} &\n",
      "\\multicolumn{1}{c|}{{8.4 $\\pm$ 2.5}} &\n",
      "\\multicolumn{1}{c|}{{7.5 $\\pm$ 2.3}} &\n",
      "\\multicolumn{1}{c|}{{4.0 - 14.0}} &\n",
      "\\multicolumn{1}{c}{$\\mathbf{0.004^{**}}$} \\rule{0pt}{2.25ex} \\\\\n",
      "\n",
      "\\multicolumn{1}{l|}{{PSQI < 7 (n (\\%))}} &\n",
      "\\multicolumn{1}{c|}{{30 (43.5\\%)}} &\n",
      "\\multicolumn{1}{c|}{{11 (25.0\\%)}} &\n",
      "\\multicolumn{1}{c|}{{41 (36.3\\%)}} &\n",
      "\\multicolumn{1}{c|}{} &\n",
      "\\multicolumn{1}{c}{} \\rule{0pt}{2.25ex} \\\\\n",
      "\n",
      "\\multicolumn{1}{l|}{{PSQI >= 7 (n (\\%))}} &\n",
      "\\multicolumn{1}{c|}{{39 (56.5\\%)}} &\n",
      "\\multicolumn{1}{c|}{{33 (75.0\\%)}} &\n",
      "\\multicolumn{1}{c|}{{72 (63.7\\%)}} &\n",
      "\\multicolumn{1}{c|}{} &\n",
      "\\multicolumn{1}{c}{} \\rule{0pt}{2.25ex} \\\\\n",
      "\\hline\n",
      "\n",
      "Age\n",
      "oddsratio : 0.517, pvalue: 0.160 \n",
      "\n",
      "Gender\n",
      "oddsratio : 1.188, pvalue: 0.829 \n",
      "\n",
      "Highest Degree Earned\n",
      "oddsratio : 1.967, pvalue: 0.215 \n",
      "\n",
      "Native language = English\n",
      "oddsratio : 0.988, pvalue: 1.000 \n",
      "\n"
     ]
    }
   ],
   "source": [
    "%run '../../tiles-day-night/code/ground_truth/demographics_day_night.py'\n",
    "# %run '../../tiles-day-night/code/util/load_data_basic.py'"
   ]
  },
  {
   "cell_type": "code",
   "execution_count": 301,
   "id": "50c04259-e7fc-42d8-8413-cc48041a5e7c",
   "metadata": {},
   "outputs": [],
   "source": [
    "# save as csv and load\n",
    "# nurse_df"
   ]
  },
  {
   "cell_type": "code",
   "execution_count": 299,
   "id": "7a14b0c8-b2e0-4bfa-ba87-41ba7cb34745",
   "metadata": {},
   "outputs": [],
   "source": [
    "# os.makedirs('/lab-information_sciences_institute/datasets/tiles_dataset/nurse_data.csv', exist_ok=True)\n",
    "nurse_df.to_csv('/Users/brinkley97/Documents/development/lab-information_sciences_institute/datasets/tiles_dataset/nurse_data.csv')"
   ]
  },
  {
   "cell_type": "code",
   "execution_count": 15,
   "id": "c449f602-1dc6-497f-8983-781380b19262",
   "metadata": {},
   "outputs": [],
   "source": [
    "# nurse_df.info()"
   ]
  },
  {
   "cell_type": "code",
   "execution_count": 14,
   "id": "881aa591-0b4a-408e-b4b0-1c22f553a167",
   "metadata": {},
   "outputs": [],
   "source": [
    "# nurse_df.keys()"
   ]
  },
  {
   "cell_type": "code",
   "execution_count": 13,
   "id": "1e8af668-2d23-4cdf-8124-78b64f3cfa6d",
   "metadata": {},
   "outputs": [],
   "source": [
    "# gender = nurse_df[\"Gender\"]\n",
    "# gender"
   ]
  },
  {
   "cell_type": "code",
   "execution_count": 12,
   "id": "55cc9fa6-500c-451a-ba8a-1f059d01d0f0",
   "metadata": {},
   "outputs": [],
   "source": [
    "# count_gender = gender.value_counts()\n",
    "# count_gender"
   ]
  },
  {
   "cell_type": "code",
   "execution_count": 11,
   "id": "212384bb-733a-4497-8b71-958c4979b65a",
   "metadata": {},
   "outputs": [],
   "source": [
    "# stai = nurse_df[\"stai\"]\n",
    "# stai"
   ]
  },
  {
   "cell_type": "code",
   "execution_count": 10,
   "id": "02c662e0-9c92-4d19-97de-9856a08ae58f",
   "metadata": {},
   "outputs": [],
   "source": [
    "# shift = nurse_df[\"Shift\"]\n",
    "# shift"
   ]
  },
  {
   "cell_type": "code",
   "execution_count": 9,
   "id": "4e4337ea-0abd-41cb-b3a8-be32c546ea05",
   "metadata": {},
   "outputs": [],
   "source": [
    "# shift.unique()"
   ]
  },
  {
   "cell_type": "code",
   "execution_count": 8,
   "id": "9d76750f-0473-4a9c-a620-06f3e4667975",
   "metadata": {},
   "outputs": [],
   "source": [
    "# count_shifts = shift.value_counts()\n",
    "# count_shifts"
   ]
  },
  {
   "cell_type": "code",
   "execution_count": 7,
   "id": "03ebd2ab-73b1-4163-8aaf-bcbe58e0f865",
   "metadata": {},
   "outputs": [],
   "source": [
    "# day_shift = shift == \"Day shift\"\n",
    "# day_shift"
   ]
  },
  {
   "cell_type": "code",
   "execution_count": 5,
   "id": "52dc046e-2329-4fd4-88e0-37750da9f914",
   "metadata": {},
   "outputs": [],
   "source": [
    "# age = nurse_df[\"age\"]\n",
    "# age"
   ]
  },
  {
   "cell_type": "code",
   "execution_count": 6,
   "id": "df954d4c-c235-4cd2-afb2-98d615805bd6",
   "metadata": {},
   "outputs": [],
   "source": [
    "# day_shift_mean = day_shift.mean()\n",
    "# age_mean = age.mean()\n",
    "\n",
    "# day_shift_mean, age_mean"
   ]
  },
  {
   "cell_type": "code",
   "execution_count": 17,
   "id": "71fcc151-dcc0-4837-b143-c5f727c41041",
   "metadata": {},
   "outputs": [],
   "source": [
    "# t = stats.ttest_ind(day_shift_mean, age_mean)\n",
    "# t"
   ]
  },
  {
   "cell_type": "code",
   "execution_count": 1,
   "id": "72ee41cc-c3c2-4e12-942a-e19912daf78a",
   "metadata": {},
   "outputs": [],
   "source": [
    "# day_df"
   ]
  },
  {
   "cell_type": "code",
   "execution_count": 2,
   "id": "688018fc-f0ee-47c0-ae31-8ab0906a5be6",
   "metadata": {},
   "outputs": [],
   "source": [
    "# day_df.keys()"
   ]
  },
  {
   "cell_type": "code",
   "execution_count": 90,
   "id": "1c23f850-088d-46b5-8e23-09b4adefaac6",
   "metadata": {},
   "outputs": [],
   "source": [
    "def fisher_odds_p_value(first_df, second_df, demo, demo_option1, demo_option2, print_col):\n",
    "    tabel_df = pd.DataFrame(index=['day', 'night'], columns=[demo_option1, demo_option2])\n",
    "    tabel_df.loc['day', demo_option1] = len(first_df.loc[first_df[demo] == demo_option1])\n",
    "    tabel_df.loc['day', demo_option2] = len(first_df.loc[first_df[demo] == demo_option2])\n",
    "    tabel_df.loc['night', demo_option1] = len(second_df.loc[second_df[demo] == demo_option1])\n",
    "    tabel_df.loc['night', demo_option2] = len(second_df.loc[second_df[demo] == demo_option2])\n",
    "    oddsratio, pvalue = stats.fisher_exact(np.array(tabel_df))\n",
    "    print(tabel_df)\n",
    "    # print()\n",
    "    \n",
    "    return 'oddsratio : %.3f, pvalue: %.3f \\n' % (oddsratio, pvalue)"
   ]
  },
  {
   "cell_type": "code",
   "execution_count": 4,
   "id": "1f404e09-a105-4104-924b-3d85976c75db",
   "metadata": {},
   "outputs": [],
   "source": [
    "# age_p_value = fisher_odds_p_value(day_df, night_df, demo='Age', demo_option1='< 40 Years', demo_option2='>= 40 Years', print_col='Age')\n",
    "# age_p_value"
   ]
  },
  {
   "cell_type": "markdown",
   "id": "e6bd5e88-100a-4ce7-8f44-ed76d5724fc3",
   "metadata": {},
   "source": [
    "---"
   ]
  },
  {
   "cell_type": "code",
   "execution_count": 21,
   "id": "3a6f2afc-0dad-40e5-9f6e-46de55a6369f",
   "metadata": {},
   "outputs": [],
   "source": [
    "path_to_vars = 'mainReplaceVariables.ipynb'"
   ]
  },
  {
   "cell_type": "code",
   "execution_count": 22,
   "id": "0c4a8f56-82f1-4a54-b3b0-546d3f7b18fe",
   "metadata": {},
   "outputs": [],
   "source": [
    "# # %load path_to_vars\n",
    "# mainReplaceVariables.ipynb"
   ]
  },
  {
   "cell_type": "code",
   "execution_count": 280,
   "id": "8b61d85a-b9c4-4f3f-ac9e-aa9df6326280",
   "metadata": {},
   "outputs": [
    {
     "name": "stdout",
     "output_type": "stream",
     "text": [
      "group_1  ::  day-shift\n",
      "group_2  ::  night-shift\n",
      "demographic  ::  {'Gender': ['Female', 'Male'], 'Age': ['< 40 Years', '>= 40 Years'], 'Educ': ['Some college or College', 'Graduate'], 'native_lang': ['English', 'non-english']}\n",
      "behavioral  ::  ['sleep quality (PSQI)', 'affect (PANAS)', 'anxiety (STAI)', 'life satisfaction (SWLS)', 'personality (BFI-2)']\n",
      "physiological  ::  ['step count', 'heart rate', 'sleep', 'average rest-activity ratio', 'average walk activity ratio', 'average vigorous activity duration']\n",
      "demo_vars :  [['Gender', 'Age', 'Educ', 'native_lang'], ['Female', 'Male', '< 40 Years', '>= 40 Years', 'Some college or College', 'Graduate', 'English', 'non-english']]\n"
     ]
    }
   ],
   "source": [
    "%run 'mainReplaceVariables.ipynb'"
   ]
  },
  {
   "cell_type": "code",
   "execution_count": 281,
   "id": "9f9022df-db08-4ca0-8ee2-5f72f172ba34",
   "metadata": {},
   "outputs": [
    {
     "data": {
      "text/plain": [
       "['what are differences in primarily *day-shift* nurses and primarily *night-shift* nurses for *Gender* ?',\n",
       " 'what are differences in primarily *day-shift* nurses and primarily *night-shift* nurses for *Age* ?',\n",
       " 'what are differences in primarily *day-shift* nurses and primarily *night-shift* nurses for *Educ* ?',\n",
       " 'what are differences in primarily *day-shift* nurses and primarily *night-shift* nurses for *native_lang* ?',\n",
       " 'what are differences in primarily *day-shift* nurses and primarily *night-shift* nurses for *Female* ?',\n",
       " 'what are differences in primarily *day-shift* nurses and primarily *night-shift* nurses for *Male* ?',\n",
       " 'what are differences in primarily *day-shift* nurses and primarily *night-shift* nurses for *< 40 Years* ?',\n",
       " 'what are differences in primarily *day-shift* nurses and primarily *night-shift* nurses for *>= 40 Years* ?',\n",
       " 'what are differences in primarily *day-shift* nurses and primarily *night-shift* nurses for *Some college or College* ?',\n",
       " 'what are differences in primarily *day-shift* nurses and primarily *night-shift* nurses for *Graduate* ?',\n",
       " 'what are differences in primarily *day-shift* nurses and primarily *night-shift* nurses for *English* ?',\n",
       " 'what are differences in primarily *day-shift* nurses and primarily *night-shift* nurses for *non-english* ?']"
      ]
     },
     "execution_count": 281,
     "metadata": {},
     "output_type": "execute_result"
    }
   ],
   "source": [
    "demo_specific_questions = list(t_test_questions.values())[0]\n",
    "demo_specific_questions"
   ]
  },
  {
   "cell_type": "code",
   "execution_count": 284,
   "id": "420167b8-7dd5-4d66-890b-93d1f9e85acf",
   "metadata": {},
   "outputs": [
    {
     "name": "stdout",
     "output_type": "stream",
     "text": [
      "what are differences in primarily *day-shift* nurses and primarily *night-shift* nurses for *Gender* ?\n",
      "Gender\n",
      "demo_option1 :  Female\n",
      "demo_option2 :  Male\n",
      "      Female Male\n",
      "day       51   18\n",
      "night     31   13\n",
      "oddsratio : 1.188, pvalue: 0.829 \n",
      "\n",
      "Age\n",
      "Educ\n",
      "native_lang\n",
      "what are differences in primarily *day-shift* nurses and primarily *night-shift* nurses for *Age* ?\n",
      "Gender\n",
      "Age\n",
      "demo_option1 :  < 40 Years\n",
      "demo_option2 :  >= 40 Years\n",
      "      < 40 Years >= 40 Years\n",
      "day           40          29\n",
      "night         32          12\n",
      "oddsratio : 0.517, pvalue: 0.160 \n",
      "\n",
      "Educ\n",
      "native_lang\n",
      "what are differences in primarily *day-shift* nurses and primarily *night-shift* nurses for *Educ* ?\n",
      "Gender\n",
      "Age\n",
      "Educ\n",
      "demo_option1 :  Some college or College\n",
      "demo_option2 :  Graduate\n",
      "      Some college or College Graduate\n",
      "day                        59       10\n",
      "night                      33       11\n",
      "oddsratio : 1.967, pvalue: 0.215 \n",
      "\n",
      "native_lang\n",
      "what are differences in primarily *day-shift* nurses and primarily *night-shift* nurses for *native_lang* ?\n",
      "Gender\n",
      "Age\n",
      "Educ\n",
      "native_lang\n",
      "demo_option1 :  English\n",
      "demo_option2 :  non-english\n",
      "      English non-english\n",
      "day         0           0\n",
      "night       0           0\n",
      "oddsratio : nan, pvalue: 1.000 \n",
      "\n",
      "what are differences in primarily *day-shift* nurses and primarily *night-shift* nurses for *Female* ?\n",
      "Gender\n",
      "Age\n",
      "Educ\n",
      "native_lang\n",
      "what are differences in primarily *day-shift* nurses and primarily *night-shift* nurses for *Male* ?\n",
      "Gender\n",
      "Age\n",
      "Educ\n",
      "native_lang\n",
      "what are differences in primarily *day-shift* nurses and primarily *night-shift* nurses for *< 40 Years* ?\n",
      "Gender\n",
      "Age\n",
      "Educ\n",
      "native_lang\n",
      "what are differences in primarily *day-shift* nurses and primarily *night-shift* nurses for *>= 40 Years* ?\n",
      "Gender\n",
      "Age\n",
      "Educ\n",
      "native_lang\n",
      "what are differences in primarily *day-shift* nurses and primarily *night-shift* nurses for *Some college or College* ?\n",
      "Gender\n",
      "Age\n",
      "Educ\n",
      "native_lang\n",
      "what are differences in primarily *day-shift* nurses and primarily *night-shift* nurses for *Graduate* ?\n",
      "Gender\n",
      "Age\n",
      "Educ\n",
      "native_lang\n",
      "what are differences in primarily *day-shift* nurses and primarily *night-shift* nurses for *English* ?\n",
      "Gender\n",
      "Age\n",
      "Educ\n",
      "native_lang\n",
      "what are differences in primarily *day-shift* nurses and primarily *night-shift* nurses for *non-english* ?\n",
      "Gender\n",
      "Age\n",
      "Educ\n",
      "native_lang\n"
     ]
    }
   ],
   "source": [
    "key_words = []\n",
    "\n",
    "for demo_specific_question in demo_specific_questions:\n",
    "    print(demo_specific_question)\n",
    "    demos = list(key_words_in_study[\"demographic\"])\n",
    "    # print(demos)\n",
    "    demo_values = list(key_words_in_study.values())[2]\n",
    "    # print(\"demo_values : \", demo_values)\n",
    "    for demo in demos:\n",
    "        print(demo)\n",
    "        if demo in demo_specific_question.split(\"*\"):\n",
    "            # print(demo, True)\n",
    "            demo_option1 = demo_values[demo][0]\n",
    "            print(\"demo_option1 : \", demo_option1)\n",
    "            demo_option2 = demo_values[demo][1]\n",
    "            print(\"demo_option2 : \", demo_option2)\n",
    "            age_p_value = fisher_odds_p_value(day_df, night_df, demo=demo, demo_option1=demo_option1, demo_option2=demo_option2, print_col=demo)\n",
    "            print(age_p_value)"
   ]
  },
  {
   "cell_type": "code",
   "execution_count": 287,
   "id": "558bea39-e929-40df-88ae-eb053036c0c9",
   "metadata": {},
   "outputs": [
    {
     "data": {
      "text/plain": [
       "['what are differences in primarily *day-shift* nurses and primarily *night-shift* nurses for *sleep quality (PSQI)* ?',\n",
       " 'what are differences in primarily *day-shift* nurses and primarily *night-shift* nurses for *affect (PANAS)* ?',\n",
       " 'what are differences in primarily *day-shift* nurses and primarily *night-shift* nurses for *anxiety (STAI)* ?',\n",
       " 'what are differences in primarily *day-shift* nurses and primarily *night-shift* nurses for *life satisfaction (SWLS)* ?',\n",
       " 'what are differences in primarily *day-shift* nurses and primarily *night-shift* nurses for *personality (BFI-2)* ?']"
      ]
     },
     "execution_count": 287,
     "metadata": {},
     "output_type": "execute_result"
    }
   ],
   "source": [
    "dem_specific_questions = list(t_test_questions.values())[1]\n",
    "dem_specific_questions"
   ]
  },
  {
   "cell_type": "code",
   "execution_count": null,
   "id": "537c2abd-355a-4301-a61b-97ad2044bd44",
   "metadata": {},
   "outputs": [],
   "source": []
  },
  {
   "cell_type": "code",
   "execution_count": null,
   "id": "9c01b473-2d2c-4b1d-9e96-1ca76414de01",
   "metadata": {},
   "outputs": [],
   "source": []
  }
 ],
 "metadata": {
  "kernelspec": {
   "display_name": "Python 3",
   "language": "python",
   "name": "python3"
  },
  "language_info": {
   "codemirror_mode": {
    "name": "ipython",
    "version": 3
   },
   "file_extension": ".py",
   "mimetype": "text/x-python",
   "name": "python",
   "nbconvert_exporter": "python",
   "pygments_lexer": "ipython3",
   "version": "3.7.5"
  }
 },
 "nbformat": 4,
 "nbformat_minor": 5
}
