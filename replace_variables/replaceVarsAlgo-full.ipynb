{
 "cells": [
  {
   "cell_type": "markdown",
   "id": "c5033109-facd-44b1-b567-9ed96a2485c1",
   "metadata": {},
   "source": [
    "# Replace Variables\n",
    "\n",
    "---"
   ]
  },
  {
   "cell_type": "code",
   "execution_count": null,
   "id": "5e11502f-c517-4319-b4f9-9a2ed2314150",
   "metadata": {},
   "outputs": [],
   "source": [
    "import numpy as np"
   ]
  },
  {
   "cell_type": "code",
   "execution_count": 32,
   "id": "f52280e8-9ff0-4268-96ab-f925150974ff",
   "metadata": {},
   "outputs": [],
   "source": [
    "key_words_in_study = {\n",
    "                        'group_1': ['day-shift'],\n",
    "                        'group_2': ['night-shift'],\n",
    "                        'demographic':  {\n",
    "                            'gender': ['female', 'male'],\n",
    "                            'age': ['<40', '<=40'],\n",
    "                            'highest degree': ['college', 'graduate'],\n",
    "                            'native language': ['english', 'non-english'],\n",
    "                        },\n",
    "                        'behavioral': ['sleep quality (PSQI)', 'affect', 'anxiety', 'life satisfaction', 'personality']\n",
    "}"
   ]
  },
  {
   "cell_type": "code",
   "execution_count": 33,
   "id": "35881f56-69d6-48d2-839e-7456e55726be",
   "metadata": {},
   "outputs": [
    {
     "name": "stdout",
     "output_type": "stream",
     "text": [
      "group_1  ::  ['day-shift']\n",
      "group_2  ::  ['night-shift']\n",
      "demographic  ::  {'gender': ['female', 'male'], 'age': ['<40', '<=40'], 'highest degree': ['college', 'graduate'], 'native language': ['english', 'non-english']}\n",
      "behavioral  ::  ['sleep quality (PSQI)', 'affect', 'anxiety', 'life satisfaction', 'personality']\n"
     ]
    }
   ],
   "source": [
    "for key, value in key_words_in_study.items():\n",
    "    print(key, \" :: \", value)"
   ]
  },
  {
   "cell_type": "code",
   "execution_count": 34,
   "id": "2813c1a0-a4a4-4519-b78c-65726e75edc7",
   "metadata": {},
   "outputs": [],
   "source": [
    "question_templates = {\n",
    "                    'what are differences in primarily <group_1> nurses and primarily <group_2> nurses for <demographic behavioral>?': []\n",
    "                    }"
   ]
  },
  {
   "cell_type": "code",
   "execution_count": 35,
   "id": "a338d6a1-dc08-4253-ab2b-10d3c8f5a446",
   "metadata": {},
   "outputs": [
    {
     "data": {
      "text/plain": [
       "dict_keys(['what are differences in primarily <group_1> nurses and primarily <group_2> nurses for <demographic behavioral>?'])"
      ]
     },
     "execution_count": 35,
     "metadata": {},
     "output_type": "execute_result"
    }
   ],
   "source": [
    "question_templates_keys = question_templates.keys()\n",
    "question_templates_keys"
   ]
  },
  {
   "cell_type": "code",
   "execution_count": 36,
   "id": "74027eb5-bafe-4935-be02-7ed95fa087c4",
   "metadata": {},
   "outputs": [],
   "source": [
    "def get_base_question_template(question_templates_keys):\n",
    "\n",
    "    for key in question_templates_keys:\n",
    "        question_template = key\n",
    "\n",
    "    return question_template"
   ]
  },
  {
   "cell_type": "code",
   "execution_count": null,
   "id": "36973c41-53b0-47ca-b223-161a6d2e208c",
   "metadata": {},
   "outputs": [],
   "source": [
    "question_template = get_base_question_template(question_templates_keys)"
   ]
  },
  {
   "cell_type": "code",
   "execution_count": null,
   "id": "b4b6c2be-03aa-4e0d-a6f4-4fd19bd9836e",
   "metadata": {},
   "outputs": [],
   "source": [
    "question_template"
   ]
  },
  {
   "cell_type": "code",
   "execution_count": null,
   "id": "15bb569c-5ed6-427f-a9c0-ae49396dfc40",
   "metadata": {},
   "outputs": [],
   "source": [
    "find_word = 'group_1'\n",
    "replace = 'day-shift'"
   ]
  },
  {
   "cell_type": "code",
   "execution_count": null,
   "id": "51f3c9cf-aca1-41ac-a35b-b880ba4353ba",
   "metadata": {},
   "outputs": [],
   "source": [
    "start_index_of_key_word = question_template.find(find_word)"
   ]
  },
  {
   "cell_type": "code",
   "execution_count": null,
   "id": "850acfdb-5c35-4ba3-a899-3b2356a49030",
   "metadata": {},
   "outputs": [],
   "source": [
    "start_index_of_key_word"
   ]
  },
  {
   "cell_type": "code",
   "execution_count": null,
   "id": "47b1750a-740a-4af3-a229-5066e328e25d",
   "metadata": {},
   "outputs": [],
   "source": [
    "while(start_index_of_key_word != -1):\n",
    "    substring = question_template[0 : start_index_of_key_word]\n",
    "    substring = substring + replace\n",
    "    substring = substring + question_template[start_index_of_key_word + len(find_word):]\n",
    "    question_template = substring\n",
    "    start_index_of_key_word = question_template.find(find_word, start_index_of_key_word + 1, len(question_template))\n",
    "    \n",
    "print(substring)"
   ]
  },
  {
   "cell_type": "markdown",
   "id": "d475b9f7-a80f-4b60-b1e1-a66d4d16c0b1",
   "metadata": {},
   "source": [
    "# Build for my case"
   ]
  },
  {
   "cell_type": "code",
   "execution_count": null,
   "id": "a04748cd-f602-4a38-b6e6-007d7176b211",
   "metadata": {},
   "outputs": [],
   "source": [
    "key_words_in_template = []\n",
    "key_specific_words = key_words_in_study.keys()\n",
    "convert_key_specific_words = list(key_specific_words)\n",
    "convert_key_specific_words"
   ]
  },
  {
   "cell_type": "code",
   "execution_count": null,
   "id": "b3aac9aa-983b-46c7-a1f7-ef3b12b662d4",
   "metadata": {},
   "outputs": [],
   "source": [
    "key_words_in_template.append(convert_key_specific_words)\n",
    "key_words_in_template"
   ]
  },
  {
   "cell_type": "code",
   "execution_count": null,
   "id": "4a1d75f6-eec8-4a3e-9ea7-e75ddd5795df",
   "metadata": {},
   "outputs": [],
   "source": [
    "# compress to 1D\n",
    "key_words_in_template = sum(key_words_in_template, [])\n",
    "key_words_in_template"
   ]
  },
  {
   "cell_type": "code",
   "execution_count": null,
   "id": "0779aa74-082d-41f6-8ef4-5a034f764d6a",
   "metadata": {},
   "outputs": [],
   "source": [
    "for key_word_in_template in key_words_in_template:\n",
    "    find_word = key_word_in_template\n",
    "    print(find_word)"
   ]
  },
  {
   "cell_type": "code",
   "execution_count": null,
   "id": "a1f845a7-dc2a-4089-86c7-ef09cc15beb3",
   "metadata": {},
   "outputs": [],
   "source": [
    "key_specific_terms = list(key_words_in_study.values())\n",
    "key_specific_terms"
   ]
  },
  {
   "cell_type": "code",
   "execution_count": null,
   "id": "058ce08e-57ab-4932-b074-ff36a7a9bc94",
   "metadata": {},
   "outputs": [],
   "source": [
    "new_list = []\n",
    "for key_specific_term in key_specific_terms:\n",
    "    new_list.append(key_specific_term)"
   ]
  },
  {
   "cell_type": "code",
   "execution_count": null,
   "id": "8719bf80-1cc3-4280-9dee-e00b853af066",
   "metadata": {},
   "outputs": [],
   "source": [
    "new_list"
   ]
  },
  {
   "cell_type": "code",
   "execution_count": null,
   "id": "1a059dfb-acc6-4cb9-b0e8-2c93a6e2ccf6",
   "metadata": {},
   "outputs": [],
   "source": [
    "new_list[0][0]"
   ]
  },
  {
   "cell_type": "code",
   "execution_count": null,
   "id": "1a6c5ab5-3049-4290-afa2-8613d17f2a08",
   "metadata": {},
   "outputs": [],
   "source": [
    "new_list[2].keys()"
   ]
  },
  {
   "cell_type": "code",
   "execution_count": null,
   "id": "509463a6-a9ba-45f2-a1ee-aa967b118bb2",
   "metadata": {},
   "outputs": [],
   "source": [
    "new_list[2].values()"
   ]
  },
  {
   "cell_type": "code",
   "execution_count": null,
   "id": "7f7f70cd-92fe-43e5-9e5d-8af65abbe6b6",
   "metadata": {},
   "outputs": [],
   "source": [
    "convert_g_a_hd_nl = list(new_list[2].keys())\n",
    "convert_g_a_hd_nl"
   ]
  },
  {
   "cell_type": "code",
   "execution_count": null,
   "id": "6f041ecc-bf28-45f8-9a41-216e9d8c017d",
   "metadata": {},
   "outputs": [],
   "source": [
    "if find_word == \"group_1\":\n",
    "    replace = new_list[0][0]\n",
    "    \n",
    "elif find_word == \"group_2\":\n",
    "    replace = new_list[1][0]"
   ]
  },
  {
   "cell_type": "code",
   "execution_count": null,
   "id": "8ab5e6c2-9cda-4333-a61f-8a602af58504",
   "metadata": {},
   "outputs": [],
   "source": [
    "def replace_words(question_template, key_words_in_study, start_index_of_key_word):\n",
    "    key_words_in_template = []\n",
    "    key_specific_words = key_words_in_study.keys()\n",
    "    convert_key_specific_words = list(key_specific_words)\n",
    "    key_words_in_template.append(convert_key_specific_words)\n",
    "    key_words_in_template = sum(key_words_in_template, [])\n",
    "    # print(\"key_words_in_template : \", key_words_in_template)\n",
    "    \n",
    "    while(start_index_of_key_word != -1):\n",
    "        for key_word_in_template in key_words_in_template:\n",
    "            find_word = key_word_in_template\n",
    "            print(\"find_word : \", find_word)\n",
    "\n",
    "            key_specific_terms = list(key_words_in_study.values())\n",
    "            new_list = []\n",
    "            for key_specific_term in key_specific_terms:\n",
    "                new_list.append(key_specific_term)\n",
    "            # print(new_list)\n",
    "            \n",
    "            convert_g_a_hd_nl = list(new_list[2].keys())\n",
    "            print(convert_g_a_hd_nl)\n",
    "        \n",
    "#             if find_word == \"group_1\":\n",
    "#                 replace = new_list[0][0]\n",
    "#                 substring = question_template[0 : start_index_of_key_word]\n",
    "#                 substring = substring + replace\n",
    "#                 substring = substring + question_template[start_index_of_key_word + len(find_word):]\n",
    "#                 question_template = substring\n",
    "#                 start_index_of_key_word = question_template.find(find_word, start_index_of_key_word + 1, len(question_template))\n",
    "#                 # print(substring)\n",
    "#             elif find_word == \"group_2\":\n",
    "#                 replace = new_list[1][0]    \n",
    "#                 substring = question_template[0 : start_index_of_key_word]\n",
    "#                 substring = substring + replace\n",
    "#                 substring = substring + question_template[start_index_of_key_word + len(find_word):]\n",
    "#                 question_template = substring\n",
    "#                 start_index_of_key_word = question_template.find(find_word, start_index_of_key_word + 1, len(question_template))\n",
    "\n",
    "#                 # print(substring)\n",
    "#         return substring"
   ]
  },
  {
   "cell_type": "code",
   "execution_count": null,
   "id": "7a384f39-8958-4f25-932b-f54b87f1869d",
   "metadata": {},
   "outputs": [],
   "source": [
    "replace_words(question_template, key_words_in_study, start_index_of_key_word)"
   ]
  },
  {
   "cell_type": "raw",
   "id": "14ea8751-cebf-4b3d-a010-50588b383661",
   "metadata": {},
   "source": []
  },
  {
   "cell_type": "markdown",
   "id": "685fe9c2-873c-418b-aca0-449d536f9d57",
   "metadata": {},
   "source": [
    "# Another way"
   ]
  },
  {
   "cell_type": "code",
   "execution_count": null,
   "id": "5e83c23d-0821-4623-985a-20c87a46a169",
   "metadata": {},
   "outputs": [],
   "source": []
  },
  {
   "cell_type": "code",
   "execution_count": 37,
   "id": "3f55d1ce-30e6-48de-bbd1-59c029e3e72a",
   "metadata": {},
   "outputs": [],
   "source": [
    "def get_base_question_template(question_templates_keys):\n",
    "\n",
    "    for key in question_templates_keys:\n",
    "        question_template = key\n",
    "\n",
    "    return question_template"
   ]
  },
  {
   "cell_type": "code",
   "execution_count": 38,
   "id": "341cd6f5-b443-4c83-88cb-c63600e4300f",
   "metadata": {},
   "outputs": [],
   "source": [
    "question_template = get_base_question_template(question_templates.keys())"
   ]
  },
  {
   "cell_type": "code",
   "execution_count": 39,
   "id": "aef10598-bacb-496e-8cd7-754a8aabf703",
   "metadata": {},
   "outputs": [
    {
     "data": {
      "text/plain": [
       "'what are differences in primarily <group_1> nurses and primarily <group_2> nurses for <demographic behavioral>?'"
      ]
     },
     "execution_count": 39,
     "metadata": {},
     "output_type": "execute_result"
    }
   ],
   "source": [
    "question_template"
   ]
  },
  {
   "cell_type": "code",
   "execution_count": 40,
   "id": "fb883e91-cf69-4a7a-bf61-29497754bb59",
   "metadata": {},
   "outputs": [],
   "source": [
    "def replacement(question_template, find_word, replace, start_index_of_key_word):\n",
    "    while(start_index_of_key_word != -1):\n",
    "        substring = question_template[0 : start_index_of_key_word]\n",
    "        substring = substring + replace\n",
    "        substring = substring + question_template[start_index_of_key_word + len(find_word):]\n",
    "        question_template = substring\n",
    "        start_index_of_key_word = question_template.find(find_word, start_index_of_key_word + 1, len(question_template))\n",
    "    return substring"
   ]
  },
  {
   "cell_type": "code",
   "execution_count": 41,
   "id": "c6984179-569d-4b4a-96fe-50b7c01d1660",
   "metadata": {},
   "outputs": [],
   "source": [
    "# replacement(question_template, find_word, replace, start_index_of_key_word)"
   ]
  },
  {
   "cell_type": "code",
   "execution_count": 42,
   "id": "183c5c7d-8d32-44e3-8117-caf5de51a26f",
   "metadata": {},
   "outputs": [
    {
     "data": {
      "text/plain": [
       "[['day-shift'],\n",
       " ['night-shift'],\n",
       " {'gender': ['female', 'male'],\n",
       "  'age': ['<40', '<=40'],\n",
       "  'highest degree': ['college', 'graduate'],\n",
       "  'native language': ['english', 'non-english']},\n",
       " ['sleep quality (PSQI)',\n",
       "  'affect',\n",
       "  'anxiety',\n",
       "  'life satisfaction',\n",
       "  'personality']]"
      ]
     },
     "execution_count": 42,
     "metadata": {},
     "output_type": "execute_result"
    }
   ],
   "source": [
    "key_specific_terms = list(key_words_in_study.values())\n",
    "key_specific_terms"
   ]
  },
  {
   "cell_type": "code",
   "execution_count": 43,
   "id": "80269001-cff6-4064-a3b5-721ce19ef4fd",
   "metadata": {},
   "outputs": [],
   "source": [
    "new_list = []\n",
    "for key_specific_term in key_specific_terms:\n",
    "    new_list.append(key_specific_term)"
   ]
  },
  {
   "cell_type": "code",
   "execution_count": null,
   "id": "9c841805-7531-4a2b-857d-0bc7f6e0826c",
   "metadata": {},
   "outputs": [],
   "source": []
  },
  {
   "cell_type": "code",
   "execution_count": 44,
   "id": "5e2b2f6b-8467-45cf-9052-9f7c3b4588b5",
   "metadata": {},
   "outputs": [
    {
     "data": {
      "text/plain": [
       "dict_keys(['gender', 'age', 'highest degree', 'native language'])"
      ]
     },
     "execution_count": 44,
     "metadata": {},
     "output_type": "execute_result"
    }
   ],
   "source": [
    "new_list[2].keys()"
   ]
  },
  {
   "cell_type": "code",
   "execution_count": 45,
   "id": "544ba89a-4a55-4dbc-ba1f-3340a258fe79",
   "metadata": {},
   "outputs": [
    {
     "data": {
      "text/plain": [
       "['gender', 'age', 'highest degree', 'native language']"
      ]
     },
     "execution_count": 45,
     "metadata": {},
     "output_type": "execute_result"
    }
   ],
   "source": [
    "convert_g_a_hd_nl = list(new_list[2].keys())\n",
    "convert_g_a_hd_nl"
   ]
  },
  {
   "cell_type": "code",
   "execution_count": 46,
   "id": "9a7a807a-c01f-4ef0-b46e-fd46473c21df",
   "metadata": {},
   "outputs": [
    {
     "data": {
      "text/plain": [
       "dict_values([['female', 'male'], ['<40', '<=40'], ['college', 'graduate'], ['english', 'non-english']])"
      ]
     },
     "execution_count": 46,
     "metadata": {},
     "output_type": "execute_result"
    }
   ],
   "source": [
    "new_list[2].values()"
   ]
  },
  {
   "cell_type": "code",
   "execution_count": 47,
   "id": "2e751234-d261-46bd-8e9f-a7f26e595716",
   "metadata": {},
   "outputs": [
    {
     "data": {
      "text/plain": [
       "[['female', 'male'],\n",
       " ['<40', '<=40'],\n",
       " ['college', 'graduate'],\n",
       " ['english', 'non-english']]"
      ]
     },
     "execution_count": 47,
     "metadata": {},
     "output_type": "execute_result"
    }
   ],
   "source": [
    "convert_g_a_hd_nl = list(new_list[2].values())\n",
    "convert_g_a_hd_nl"
   ]
  },
  {
   "cell_type": "code",
   "execution_count": 48,
   "id": "b32dc6c7-baca-49c4-bffe-b5da709d8c61",
   "metadata": {},
   "outputs": [
    {
     "data": {
      "text/plain": [
       "['female',\n",
       " 'male',\n",
       " '<40',\n",
       " '<=40',\n",
       " 'college',\n",
       " 'graduate',\n",
       " 'english',\n",
       " 'non-english']"
      ]
     },
     "execution_count": 48,
     "metadata": {},
     "output_type": "execute_result"
    }
   ],
   "source": [
    "dems = sum(convert_g_a_hd_nl, [])\n",
    "dems"
   ]
  },
  {
   "cell_type": "code",
   "execution_count": 59,
   "id": "52c34e31-7f6b-4b03-abbb-760f5d4af050",
   "metadata": {},
   "outputs": [
    {
     "data": {
      "text/plain": [
       "['sleep quality (PSQI)',\n",
       " 'affect',\n",
       " 'anxiety',\n",
       " 'life satisfaction',\n",
       " 'personality']"
      ]
     },
     "execution_count": 59,
     "metadata": {},
     "output_type": "execute_result"
    }
   ],
   "source": [
    "behaviorals = new_list[3]\n",
    "behaviorals"
   ]
  },
  {
   "cell_type": "code",
   "execution_count": 53,
   "id": "0b577ca4-63bc-4ed8-b807-2f8ab8ececde",
   "metadata": {},
   "outputs": [
    {
     "name": "stdout",
     "output_type": "stream",
     "text": [
      "sleep quality (PSQI)\n",
      "affect\n",
      "anxiety\n",
      "life satisfaction\n",
      "personality\n"
     ]
    }
   ],
   "source": [
    "for behavioral in behaviorals:\n",
    "    print(behavioral)"
   ]
  },
  {
   "cell_type": "code",
   "execution_count": 71,
   "id": "54e92096-2c97-4c71-b1b6-7963dc03a020",
   "metadata": {},
   "outputs": [
    {
     "name": "stdout",
     "output_type": "stream",
     "text": [
      "['what are differences in primarily <day-shift> nurses and primarily <group_2> nurses for <demographic behavioral>?']\n",
      "\n",
      "* ['what are differences in primarily <day-shift> nurses and primarily <group_2> nurses for <demographic behavioral>?', 'what are differences in primarily <day-shift> nurses and primarily <night-shift> nurses for <demographic behavioral>?']\n",
      "\n",
      "** ['what are differences in primarily <day-shift> nurses and primarily <group_2> nurses for <demographic behavioral>?', 'what are differences in primarily <day-shift> nurses and primarily <night-shift> nurses for <demographic behavioral>?', 'what are differences in primarily <day-shift> nurses and primarily <night-shift> nurses for <female behavioral>?']\n",
      "\n",
      "** ['what are differences in primarily <day-shift> nurses and primarily <group_2> nurses for <demographic behavioral>?', 'what are differences in primarily <day-shift> nurses and primarily <night-shift> nurses for <demographic behavioral>?', 'what are differences in primarily <day-shift> nurses and primarily <night-shift> nurses for <female behavioral>?', 'what are differences in primarily <day-shift> nurses and primarily <night-shift> nurses for <male behavioral>?']\n",
      "\n",
      "** ['what are differences in primarily <day-shift> nurses and primarily <group_2> nurses for <demographic behavioral>?', 'what are differences in primarily <day-shift> nurses and primarily <night-shift> nurses for <demographic behavioral>?', 'what are differences in primarily <day-shift> nurses and primarily <night-shift> nurses for <female behavioral>?', 'what are differences in primarily <day-shift> nurses and primarily <night-shift> nurses for <male behavioral>?', 'what are differences in primarily <day-shift> nurses and primarily <night-shift> nurses for <<40 behavioral>?']\n",
      "\n",
      "** ['what are differences in primarily <day-shift> nurses and primarily <group_2> nurses for <demographic behavioral>?', 'what are differences in primarily <day-shift> nurses and primarily <night-shift> nurses for <demographic behavioral>?', 'what are differences in primarily <day-shift> nurses and primarily <night-shift> nurses for <female behavioral>?', 'what are differences in primarily <day-shift> nurses and primarily <night-shift> nurses for <male behavioral>?', 'what are differences in primarily <day-shift> nurses and primarily <night-shift> nurses for <<40 behavioral>?', 'what are differences in primarily <day-shift> nurses and primarily <night-shift> nurses for <<=40 behavioral>?']\n",
      "\n",
      "** ['what are differences in primarily <day-shift> nurses and primarily <group_2> nurses for <demographic behavioral>?', 'what are differences in primarily <day-shift> nurses and primarily <night-shift> nurses for <demographic behavioral>?', 'what are differences in primarily <day-shift> nurses and primarily <night-shift> nurses for <female behavioral>?', 'what are differences in primarily <day-shift> nurses and primarily <night-shift> nurses for <male behavioral>?', 'what are differences in primarily <day-shift> nurses and primarily <night-shift> nurses for <<40 behavioral>?', 'what are differences in primarily <day-shift> nurses and primarily <night-shift> nurses for <<=40 behavioral>?', 'what are differences in primarily <day-shift> nurses and primarily <night-shift> nurses for <college behavioral>?']\n",
      "\n",
      "** ['what are differences in primarily <day-shift> nurses and primarily <group_2> nurses for <demographic behavioral>?', 'what are differences in primarily <day-shift> nurses and primarily <night-shift> nurses for <demographic behavioral>?', 'what are differences in primarily <day-shift> nurses and primarily <night-shift> nurses for <female behavioral>?', 'what are differences in primarily <day-shift> nurses and primarily <night-shift> nurses for <male behavioral>?', 'what are differences in primarily <day-shift> nurses and primarily <night-shift> nurses for <<40 behavioral>?', 'what are differences in primarily <day-shift> nurses and primarily <night-shift> nurses for <<=40 behavioral>?', 'what are differences in primarily <day-shift> nurses and primarily <night-shift> nurses for <college behavioral>?', 'what are differences in primarily <day-shift> nurses and primarily <night-shift> nurses for <graduate behavioral>?']\n",
      "\n",
      "** ['what are differences in primarily <day-shift> nurses and primarily <group_2> nurses for <demographic behavioral>?', 'what are differences in primarily <day-shift> nurses and primarily <night-shift> nurses for <demographic behavioral>?', 'what are differences in primarily <day-shift> nurses and primarily <night-shift> nurses for <female behavioral>?', 'what are differences in primarily <day-shift> nurses and primarily <night-shift> nurses for <male behavioral>?', 'what are differences in primarily <day-shift> nurses and primarily <night-shift> nurses for <<40 behavioral>?', 'what are differences in primarily <day-shift> nurses and primarily <night-shift> nurses for <<=40 behavioral>?', 'what are differences in primarily <day-shift> nurses and primarily <night-shift> nurses for <college behavioral>?', 'what are differences in primarily <day-shift> nurses and primarily <night-shift> nurses for <graduate behavioral>?', 'what are differences in primarily <day-shift> nurses and primarily <night-shift> nurses for <english behavioral>?']\n",
      "\n",
      "** ['what are differences in primarily <day-shift> nurses and primarily <group_2> nurses for <demographic behavioral>?', 'what are differences in primarily <day-shift> nurses and primarily <night-shift> nurses for <demographic behavioral>?', 'what are differences in primarily <day-shift> nurses and primarily <night-shift> nurses for <female behavioral>?', 'what are differences in primarily <day-shift> nurses and primarily <night-shift> nurses for <male behavioral>?', 'what are differences in primarily <day-shift> nurses and primarily <night-shift> nurses for <<40 behavioral>?', 'what are differences in primarily <day-shift> nurses and primarily <night-shift> nurses for <<=40 behavioral>?', 'what are differences in primarily <day-shift> nurses and primarily <night-shift> nurses for <college behavioral>?', 'what are differences in primarily <day-shift> nurses and primarily <night-shift> nurses for <graduate behavioral>?', 'what are differences in primarily <day-shift> nurses and primarily <night-shift> nurses for <english behavioral>?', 'what are differences in primarily <day-shift> nurses and primarily <night-shift> nurses for <non-english behavioral>?']\n",
      "\n",
      "*** ['what are differences in primarily <day-shift> nurses and primarily <group_2> nurses for <demographic behavioral>?', 'what are differences in primarily <day-shift> nurses and primarily <night-shift> nurses for <demographic behavioral>?', 'what are differences in primarily <day-shift> nurses and primarily <night-shift> nurses for <female behavioral>?', 'what are differences in primarily <day-shift> nurses and primarily <night-shift> nurses for <male behavioral>?', 'what are differences in primarily <day-shift> nurses and primarily <night-shift> nurses for <<40 behavioral>?', 'what are differences in primarily <day-shift> nurses and primarily <night-shift> nurses for <<=40 behavioral>?', 'what are differences in primarily <day-shift> nurses and primarily <night-shift> nurses for <college behavioral>?', 'what are differences in primarily <day-shift> nurses and primarily <night-shift> nurses for <graduate behavioral>?', 'what are differences in primarily <day-shift> nurses and primarily <night-shift> nurses for <english behavioral>?', 'what are differences in primarily <day-shift> nurses and primarily <night-shift> nurses for <non-english behavioral>?', 'what are differences in primarily <day-shift> nurses and primarily <night-shift> nurses for <non-english sleep quality (PSQI)>?']\n",
      "\n",
      "*** ['what are differences in primarily <day-shift> nurses and primarily <group_2> nurses for <demographic behavioral>?', 'what are differences in primarily <day-shift> nurses and primarily <night-shift> nurses for <demographic behavioral>?', 'what are differences in primarily <day-shift> nurses and primarily <night-shift> nurses for <female behavioral>?', 'what are differences in primarily <day-shift> nurses and primarily <night-shift> nurses for <male behavioral>?', 'what are differences in primarily <day-shift> nurses and primarily <night-shift> nurses for <<40 behavioral>?', 'what are differences in primarily <day-shift> nurses and primarily <night-shift> nurses for <<=40 behavioral>?', 'what are differences in primarily <day-shift> nurses and primarily <night-shift> nurses for <college behavioral>?', 'what are differences in primarily <day-shift> nurses and primarily <night-shift> nurses for <graduate behavioral>?', 'what are differences in primarily <day-shift> nurses and primarily <night-shift> nurses for <english behavioral>?', 'what are differences in primarily <day-shift> nurses and primarily <night-shift> nurses for <non-english behavioral>?', 'what are differences in primarily <day-shift> nurses and primarily <night-shift> nurses for <non-english sleep quality (PSQI)>?', 'what are differences in primarily <day-shift> nurses and primarily <night-shift> nurses for <non-english affect>?']\n",
      "\n",
      "*** ['what are differences in primarily <day-shift> nurses and primarily <group_2> nurses for <demographic behavioral>?', 'what are differences in primarily <day-shift> nurses and primarily <night-shift> nurses for <demographic behavioral>?', 'what are differences in primarily <day-shift> nurses and primarily <night-shift> nurses for <female behavioral>?', 'what are differences in primarily <day-shift> nurses and primarily <night-shift> nurses for <male behavioral>?', 'what are differences in primarily <day-shift> nurses and primarily <night-shift> nurses for <<40 behavioral>?', 'what are differences in primarily <day-shift> nurses and primarily <night-shift> nurses for <<=40 behavioral>?', 'what are differences in primarily <day-shift> nurses and primarily <night-shift> nurses for <college behavioral>?', 'what are differences in primarily <day-shift> nurses and primarily <night-shift> nurses for <graduate behavioral>?', 'what are differences in primarily <day-shift> nurses and primarily <night-shift> nurses for <english behavioral>?', 'what are differences in primarily <day-shift> nurses and primarily <night-shift> nurses for <non-english behavioral>?', 'what are differences in primarily <day-shift> nurses and primarily <night-shift> nurses for <non-english sleep quality (PSQI)>?', 'what are differences in primarily <day-shift> nurses and primarily <night-shift> nurses for <non-english affect>?', 'what are differences in primarily <day-shift> nurses and primarily <night-shift> nurses for <non-english anxiety>?']\n",
      "\n",
      "*** ['what are differences in primarily <day-shift> nurses and primarily <group_2> nurses for <demographic behavioral>?', 'what are differences in primarily <day-shift> nurses and primarily <night-shift> nurses for <demographic behavioral>?', 'what are differences in primarily <day-shift> nurses and primarily <night-shift> nurses for <female behavioral>?', 'what are differences in primarily <day-shift> nurses and primarily <night-shift> nurses for <male behavioral>?', 'what are differences in primarily <day-shift> nurses and primarily <night-shift> nurses for <<40 behavioral>?', 'what are differences in primarily <day-shift> nurses and primarily <night-shift> nurses for <<=40 behavioral>?', 'what are differences in primarily <day-shift> nurses and primarily <night-shift> nurses for <college behavioral>?', 'what are differences in primarily <day-shift> nurses and primarily <night-shift> nurses for <graduate behavioral>?', 'what are differences in primarily <day-shift> nurses and primarily <night-shift> nurses for <english behavioral>?', 'what are differences in primarily <day-shift> nurses and primarily <night-shift> nurses for <non-english behavioral>?', 'what are differences in primarily <day-shift> nurses and primarily <night-shift> nurses for <non-english sleep quality (PSQI)>?', 'what are differences in primarily <day-shift> nurses and primarily <night-shift> nurses for <non-english affect>?', 'what are differences in primarily <day-shift> nurses and primarily <night-shift> nurses for <non-english anxiety>?', 'what are differences in primarily <day-shift> nurses and primarily <night-shift> nurses for <non-english life satisfaction>?']\n",
      "\n",
      "*** ['what are differences in primarily <day-shift> nurses and primarily <group_2> nurses for <demographic behavioral>?', 'what are differences in primarily <day-shift> nurses and primarily <night-shift> nurses for <demographic behavioral>?', 'what are differences in primarily <day-shift> nurses and primarily <night-shift> nurses for <female behavioral>?', 'what are differences in primarily <day-shift> nurses and primarily <night-shift> nurses for <male behavioral>?', 'what are differences in primarily <day-shift> nurses and primarily <night-shift> nurses for <<40 behavioral>?', 'what are differences in primarily <day-shift> nurses and primarily <night-shift> nurses for <<=40 behavioral>?', 'what are differences in primarily <day-shift> nurses and primarily <night-shift> nurses for <college behavioral>?', 'what are differences in primarily <day-shift> nurses and primarily <night-shift> nurses for <graduate behavioral>?', 'what are differences in primarily <day-shift> nurses and primarily <night-shift> nurses for <english behavioral>?', 'what are differences in primarily <day-shift> nurses and primarily <night-shift> nurses for <non-english behavioral>?', 'what are differences in primarily <day-shift> nurses and primarily <night-shift> nurses for <non-english sleep quality (PSQI)>?', 'what are differences in primarily <day-shift> nurses and primarily <night-shift> nurses for <non-english affect>?', 'what are differences in primarily <day-shift> nurses and primarily <night-shift> nurses for <non-english anxiety>?', 'what are differences in primarily <day-shift> nurses and primarily <night-shift> nurses for <non-english life satisfaction>?', 'what are differences in primarily <day-shift> nurses and primarily <night-shift> nurses for <non-english personality>?']\n"
     ]
    }
   ],
   "source": [
    "g1 = []\n",
    "g2 = []\n",
    "demog = []\n",
    "behav = [] \n",
    "new = []\n",
    "\n",
    "key_words_in_template = []\n",
    "# r_update = []\n",
    "key_specific_words = key_words_in_study.keys()\n",
    "convert_key_specific_words = list(key_specific_words)\n",
    "key_words_in_template.append(convert_key_specific_words)\n",
    "key_words_in_template = sum(key_words_in_template, [])\n",
    "# print(\"key_words_in_template : \", key_words_in_template)\n",
    "\n",
    "for key_word_in_template in key_words_in_template:\n",
    "    find_word = key_word_in_template\n",
    "    \n",
    "    # print(\"find_word : \", find_word)\n",
    "    if find_word == \"group_1\":\n",
    "        # print(True)\n",
    "        start_index_of_key_word = question_template.find(find_word)\n",
    "        replace = new_list[0][0]\n",
    "        r = replacement(question_template, find_word, replace, start_index_of_key_word)\n",
    "        # print(r)\n",
    "        new.append(r)\n",
    "        print(new)\n",
    "\n",
    "    elif find_word == \"group_2\":\n",
    "        # print(True)\n",
    "        start_index_of_key_word = new[-1].find(find_word)\n",
    "        replace = new_list[1][0]\n",
    "        r = replacement(new[-1], find_word, replace, start_index_of_key_word)\n",
    "        # print(r)\n",
    "        new.append(r)\n",
    "        print(\"\\n*\", new)\n",
    " \n",
    "    elif find_word == \"demographic\":\n",
    "        # print(True)\n",
    "        dem_new = []\n",
    "        for dem in dems:\n",
    "            # print(\"new[-1] : \", new[-1])\n",
    "            dem_new.append(new[-1])\n",
    "            start_index_of_key_word = dem_new[0].find(find_word)\n",
    "            replace = dem\n",
    "            # print(replace)\n",
    "            r = replacement(dem_new[0], find_word, replace, start_index_of_key_word)\n",
    "            # # print(r)\n",
    "            new.append(r)\n",
    "            print(\"\\n**\", new)\n",
    "            \n",
    "            # print(new)\n",
    "    elif find_word == \"behavioral\":\n",
    "        behavorial_new = []\n",
    "        for behavioral in behaviorals:\n",
    "            # print(\"behavioral : \", behavioral)\n",
    "            # print(\"new[-1] : \", new[-1])\n",
    "            behavorial_new.append(new[-1])\n",
    "            start_index_of_key_word = behavorial_new[0].find(find_word)\n",
    "            replace = behavioral\n",
    "            # # print(replace)\n",
    "            r = replacement(behavorial_new[0], find_word, replace, start_index_of_key_word)\n",
    "            # # print(r)\n",
    "            new.append(r)\n",
    "            print(\"\\n***\", new)\n",
    "# new"
   ]
  },
  {
   "cell_type": "code",
   "execution_count": null,
   "id": "bbe2cf8d-6f49-4140-b814-88ddffa9947e",
   "metadata": {},
   "outputs": [],
   "source": []
  },
  {
   "cell_type": "code",
   "execution_count": null,
   "id": "b71d6276-94ca-4ec9-a649-198619e04d6b",
   "metadata": {},
   "outputs": [],
   "source": []
  }
 ],
 "metadata": {
  "kernelspec": {
   "display_name": "Python 3",
   "language": "python",
   "name": "python3"
  },
  "language_info": {
   "codemirror_mode": {
    "name": "ipython",
    "version": 3
   },
   "file_extension": ".py",
   "mimetype": "text/x-python",
   "name": "python",
   "nbconvert_exporter": "python",
   "pygments_lexer": "ipython3",
   "version": "3.7.5"
  }
 },
 "nbformat": 4,
 "nbformat_minor": 5
}
