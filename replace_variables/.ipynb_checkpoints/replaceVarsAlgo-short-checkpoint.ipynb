{
 "cells": [
  {
   "cell_type": "markdown",
   "id": "c5033109-facd-44b1-b567-9ed96a2485c1",
   "metadata": {},
   "source": [
    "# Replace Variables\n",
    "\n",
    "---"
   ]
  },
  {
   "cell_type": "code",
   "execution_count": 1,
   "id": "5e11502f-c517-4319-b4f9-9a2ed2314150",
   "metadata": {},
   "outputs": [],
   "source": [
    "import numpy as np"
   ]
  },
  {
   "cell_type": "code",
   "execution_count": 2,
   "id": "f52280e8-9ff0-4268-96ab-f925150974ff",
   "metadata": {},
   "outputs": [],
   "source": [
    "key_words_in_study = {\n",
    "                        'group_1': ['day-shift'],\n",
    "                        'group_2': ['night-shift'],\n",
    "                        'demographic':  {\n",
    "                            'gender': ['female', 'male'],\n",
    "                            'age': ['<40', '>=40'],\n",
    "                            'highest degree': ['college', 'graduate'],\n",
    "                            'native language': ['english', 'non-english'],\n",
    "                        },\n",
    "                        'behavioral': ['sleep quality (PSQI)', 'affect (PANAS)', 'anxiety (STAI)', 'life satisfaction (SWLS)', 'personality (BFI-2)'],\n",
    "                        'physiological': ['step count', 'heart rate', 'sleep', 'average rest-activity ratio', 'average walk activity ratio', 'average vigorous activity duration']\n",
    "    \n",
    "}"
   ]
  },
  {
   "cell_type": "code",
   "execution_count": 3,
   "id": "35881f56-69d6-48d2-839e-7456e55726be",
   "metadata": {},
   "outputs": [
    {
     "name": "stdout",
     "output_type": "stream",
     "text": [
      "group_1  ::  ['day-shift']\n",
      "group_2  ::  ['night-shift']\n",
      "demographic  ::  {'gender': ['female', 'male'], 'age': ['<40', '>=40'], 'highest degree': ['college', 'graduate'], 'native language': ['english', 'non-english']}\n",
      "behavioral  ::  ['sleep quality (PSQI)', 'affect (PANAS)', 'anxiety (STAI)', 'life satisfaction (SWLS)', 'personality (BFI-2)']\n",
      "physiological  ::  ['step count', 'heart rate', 'sleep', 'average rest-activity ratio', 'average walk activity ratio', 'average vigorous activity duration']\n"
     ]
    }
   ],
   "source": [
    "for key, value in key_words_in_study.items():\n",
    "    print(key, \" :: \", value)"
   ]
  },
  {
   "cell_type": "code",
   "execution_count": 4,
   "id": "b136ef19-3519-4a66-88d1-7bceb533e265",
   "metadata": {},
   "outputs": [
    {
     "data": {
      "text/plain": [
       "['group_1', 'group_2', 'demographic', 'behavioral', 'physiological']"
      ]
     },
     "execution_count": 4,
     "metadata": {},
     "output_type": "execute_result"
    }
   ],
   "source": [
    "list(key_words_in_study.keys())"
   ]
  },
  {
   "cell_type": "code",
   "execution_count": 5,
   "id": "ad4cce14-3f91-47fb-aacf-4d7b326c597c",
   "metadata": {},
   "outputs": [
    {
     "data": {
      "text/plain": [
       "[['day-shift'],\n",
       " ['night-shift'],\n",
       " {'gender': ['female', 'male'],\n",
       "  'age': ['<40', '>=40'],\n",
       "  'highest degree': ['college', 'graduate'],\n",
       "  'native language': ['english', 'non-english']},\n",
       " ['sleep quality (PSQI)',\n",
       "  'affect (PANAS)',\n",
       "  'anxiety (STAI)',\n",
       "  'life satisfaction (SWLS)',\n",
       "  'personality (BFI-2)'],\n",
       " ['step count',\n",
       "  'heart rate',\n",
       "  'sleep',\n",
       "  'average rest-activity ratio',\n",
       "  'average walk activity ratio',\n",
       "  'average vigorous activity duration']]"
      ]
     },
     "execution_count": 5,
     "metadata": {},
     "output_type": "execute_result"
    }
   ],
   "source": [
    "list(key_words_in_study.values())"
   ]
  },
  {
   "cell_type": "markdown",
   "id": "0439803c-b398-4af8-993b-bc0f895bee62",
   "metadata": {},
   "source": [
    "- for now, add space between last word and ?"
   ]
  },
  {
   "cell_type": "code",
   "execution_count": 6,
   "id": "2813c1a0-a4a4-4519-b78c-65726e75edc7",
   "metadata": {},
   "outputs": [],
   "source": [
    "# question_templates = {\n",
    "#                     'what are differences in primarily group_1 nurses and primarily group_2 nurses for demographic ?': [],\n",
    "#                     'what are differences in primarily group_1 nurses and primarily group_2 nurses for behavioral ?': [],\n",
    "#                     'what are some differences between primarily group_1 nurses and primarily group_2 nurses on daily physiological with the covariate demographic and the covariate demographic ?': []\n",
    "\n",
    "#                     }\n",
    "question_templates = {\n",
    "                    'what are differences in primarily group_1 nurses and primarily group_2 nurses for demographic ?': [],\n",
    "                    }"
   ]
  },
  {
   "cell_type": "code",
   "execution_count": 7,
   "id": "a338d6a1-dc08-4253-ab2b-10d3c8f5a446",
   "metadata": {},
   "outputs": [
    {
     "data": {
      "text/plain": [
       "['what are differences in primarily group_1 nurses and primarily group_2 nurses for demographic ?']"
      ]
     },
     "execution_count": 7,
     "metadata": {},
     "output_type": "execute_result"
    }
   ],
   "source": [
    "question_templates_keys = list(question_templates.keys())\n",
    "question_templates_keys"
   ]
  },
  {
   "cell_type": "code",
   "execution_count": 8,
   "id": "b761b2b1-788a-46e6-b39c-8cc37d06ec06",
   "metadata": {},
   "outputs": [
    {
     "name": "stdout",
     "output_type": "stream",
     "text": [
      "what are differences in primarily group_1 nurses and primarily group_2 nurses for demographic ?\n"
     ]
    }
   ],
   "source": [
    "qtks = question_templates.keys()\n",
    "for keys in question_templates.keys():\n",
    "    print(keys)\n",
    "    "
   ]
  },
  {
   "cell_type": "markdown",
   "id": "1737e1cb-09e0-41cb-a068-92afc2b0a63e",
   "metadata": {},
   "source": [
    "---\n",
    "\n",
    "# Decompose Question Template Keys\n",
    "\n",
    "- Question template keys are type dict, so change to type list so I can manipulate the variables"
   ]
  },
  {
   "cell_type": "code",
   "execution_count": 9,
   "id": "341cd6f5-b443-4c83-88cb-c63600e4300f",
   "metadata": {},
   "outputs": [],
   "source": [
    "# question_templates = list(question_templates_keys)\n",
    "# question_templates"
   ]
  },
  {
   "cell_type": "markdown",
   "id": "3bdfb237-b08f-4676-9556-b5cb6b655bb3",
   "metadata": {},
   "source": [
    "---\n",
    "\n",
    "# Convert Type of Key Terms"
   ]
  },
  {
   "cell_type": "code",
   "execution_count": 10,
   "id": "93db1c13-eb3b-4c61-9293-695a40497b08",
   "metadata": {},
   "outputs": [
    {
     "data": {
      "text/plain": [
       "['group_1',\n",
       " 'group_2',\n",
       " 'demographic',\n",
       " 'behavioral',\n",
       " 'physiological',\n",
       " 'demographic/behavioral']"
      ]
     },
     "execution_count": 10,
     "metadata": {},
     "output_type": "execute_result"
    }
   ],
   "source": [
    "additional_check_words = 'demographic/behavioral'\n",
    "words_to_replace = list(key_words_in_study.keys())\n",
    "words_to_replace.append(additional_check_words)\n",
    "words_to_replace"
   ]
  },
  {
   "cell_type": "code",
   "execution_count": 11,
   "id": "183c5c7d-8d32-44e3-8117-caf5de51a26f",
   "metadata": {},
   "outputs": [
    {
     "data": {
      "text/plain": [
       "[['day-shift'],\n",
       " ['night-shift'],\n",
       " {'gender': ['female', 'male'],\n",
       "  'age': ['<40', '>=40'],\n",
       "  'highest degree': ['college', 'graduate'],\n",
       "  'native language': ['english', 'non-english']},\n",
       " ['sleep quality (PSQI)',\n",
       "  'affect (PANAS)',\n",
       "  'anxiety (STAI)',\n",
       "  'life satisfaction (SWLS)',\n",
       "  'personality (BFI-2)'],\n",
       " ['step count',\n",
       "  'heart rate',\n",
       "  'sleep',\n",
       "  'average rest-activity ratio',\n",
       "  'average walk activity ratio',\n",
       "  'average vigorous activity duration']]"
      ]
     },
     "execution_count": 11,
     "metadata": {},
     "output_type": "execute_result"
    }
   ],
   "source": [
    "key_specific_terms = list(key_words_in_study.values())\n",
    "key_specific_terms"
   ]
  },
  {
   "cell_type": "code",
   "execution_count": 12,
   "id": "dee7e050-4ad8-4788-9491-1e609a14dcbe",
   "metadata": {},
   "outputs": [],
   "source": [
    "\n",
    "def convert_group_1_keys(key_specific_terms):\n",
    "    group_1_keys = key_specific_terms[0]\n",
    "    return group_1_keys\n",
    "\n",
    "def convert_group_2_keys(key_specific_terms):\n",
    "    group_2_keys = key_specific_terms[1]\n",
    "    return group_2_keys"
   ]
  },
  {
   "cell_type": "code",
   "execution_count": 13,
   "id": "14a0df1b-6556-4adc-9f0e-58d13583bdd8",
   "metadata": {},
   "outputs": [
    {
     "data": {
      "text/plain": [
       "['day-shift']"
      ]
     },
     "execution_count": 13,
     "metadata": {},
     "output_type": "execute_result"
    }
   ],
   "source": [
    "convert_group_1_keys(key_specific_terms)"
   ]
  },
  {
   "cell_type": "code",
   "execution_count": 14,
   "id": "2eb0bbb5-cc68-4dff-89e1-d0c724035de5",
   "metadata": {},
   "outputs": [
    {
     "data": {
      "text/plain": [
       "['night-shift']"
      ]
     },
     "execution_count": 14,
     "metadata": {},
     "output_type": "execute_result"
    }
   ],
   "source": [
    "convert_group_2_keys(key_specific_terms)"
   ]
  },
  {
   "cell_type": "code",
   "execution_count": 15,
   "id": "80269001-cff6-4064-a3b5-721ce19ef4fd",
   "metadata": {},
   "outputs": [],
   "source": [
    "def convert_demo_keys(key_specific_terms):\n",
    "    demo_keys = list(key_specific_terms.keys())\n",
    "    \n",
    "    return demo_keys"
   ]
  },
  {
   "cell_type": "code",
   "execution_count": 16,
   "id": "9c841805-7531-4a2b-857d-0bc7f6e0826c",
   "metadata": {},
   "outputs": [
    {
     "data": {
      "text/plain": [
       "['group_1', 'group_2', 'demographic', 'behavioral', 'physiological']"
      ]
     },
     "execution_count": 16,
     "metadata": {},
     "output_type": "execute_result"
    }
   ],
   "source": [
    "demo_keys_converted = convert_demo_keys(key_words_in_study)\n",
    "demo_keys_converted"
   ]
  },
  {
   "cell_type": "code",
   "execution_count": 17,
   "id": "38c484c7-be53-4472-b74e-d6b983514c47",
   "metadata": {},
   "outputs": [
    {
     "name": "stdout",
     "output_type": "stream",
     "text": [
      "group_1\n",
      "group_2\n",
      "demographic\n",
      "behavioral\n",
      "physiological\n"
     ]
    }
   ],
   "source": [
    "for demo_key_converted in demo_keys_converted:\n",
    "    demo_key = demo_key_converted\n",
    "    print(demo_key)\n",
    "      "
   ]
  },
  {
   "cell_type": "code",
   "execution_count": 18,
   "id": "2e751234-d261-46bd-8e9f-a7f26e595716",
   "metadata": {},
   "outputs": [],
   "source": [
    "def convert_demo_values(key_specific_terms):\n",
    "    demo_values = list(key_specific_terms[2].values())\n",
    "    demo_values = sum(demo_values, [])\n",
    "    # print(demo_values)\n",
    "    \n",
    "    # for demo_value in demo_values:\n",
    "    #     demo_var = demo_values[demo_value]\n",
    "        \n",
    "    return demo_values"
   ]
  },
  {
   "cell_type": "code",
   "execution_count": 19,
   "id": "89c38325-3b64-47c7-a982-3033c6f9c43d",
   "metadata": {},
   "outputs": [
    {
     "data": {
      "text/plain": [
       "['female',\n",
       " 'male',\n",
       " '<40',\n",
       " '>=40',\n",
       " 'college',\n",
       " 'graduate',\n",
       " 'english',\n",
       " 'non-english']"
      ]
     },
     "execution_count": 19,
     "metadata": {},
     "output_type": "execute_result"
    }
   ],
   "source": [
    "demo_values_converted = convert_demo_values(key_specific_terms)\n",
    "demo_values_converted"
   ]
  },
  {
   "cell_type": "code",
   "execution_count": null,
   "id": "f7ab3c7f-780f-4041-9579-2ab6aab7f8ef",
   "metadata": {},
   "outputs": [],
   "source": []
  },
  {
   "cell_type": "code",
   "execution_count": 20,
   "id": "605ff995-7744-4da1-b3fc-24463155ebd0",
   "metadata": {},
   "outputs": [],
   "source": [
    "def convert_behav_values(key_specific_terms):\n",
    "    behav_values = list(key_specific_terms[3])\n",
    "    \n",
    "    return behav_values"
   ]
  },
  {
   "cell_type": "code",
   "execution_count": 21,
   "id": "2ffb2dbf-6e91-4e3d-a41e-76b3f312c212",
   "metadata": {},
   "outputs": [
    {
     "data": {
      "text/plain": [
       "['sleep quality (PSQI)',\n",
       " 'affect (PANAS)',\n",
       " 'anxiety (STAI)',\n",
       " 'life satisfaction (SWLS)',\n",
       " 'personality (BFI-2)']"
      ]
     },
     "execution_count": 21,
     "metadata": {},
     "output_type": "execute_result"
    }
   ],
   "source": [
    "behav_keys_converted = convert_behav_values(key_specific_terms)\n",
    "behav_keys_converted"
   ]
  },
  {
   "cell_type": "code",
   "execution_count": 22,
   "id": "0b577ca4-63bc-4ed8-b807-2f8ab8ececde",
   "metadata": {},
   "outputs": [
    {
     "name": "stdout",
     "output_type": "stream",
     "text": [
      "sleep quality (PSQI)\n",
      "affect (PANAS)\n",
      "anxiety (STAI)\n",
      "life satisfaction (SWLS)\n",
      "personality (BFI-2)\n"
     ]
    }
   ],
   "source": [
    "for behav_key_converted in behav_keys_converted:\n",
    "    print(behav_key_converted)"
   ]
  },
  {
   "cell_type": "code",
   "execution_count": 23,
   "id": "5112764c-2cbb-4a45-8e32-5e4cf92cd51c",
   "metadata": {},
   "outputs": [],
   "source": [
    "def convert_physio_values(key_specific_terms):\n",
    "    physio_values = key_specific_terms[4]\n",
    "    \n",
    "    return physio_values"
   ]
  },
  {
   "cell_type": "code",
   "execution_count": 24,
   "id": "0fde7c3a-ff3b-427c-9457-1dbaf456c3e9",
   "metadata": {},
   "outputs": [
    {
     "data": {
      "text/plain": [
       "['step count',\n",
       " 'heart rate',\n",
       " 'sleep',\n",
       " 'average rest-activity ratio',\n",
       " 'average walk activity ratio',\n",
       " 'average vigorous activity duration']"
      ]
     },
     "execution_count": 24,
     "metadata": {},
     "output_type": "execute_result"
    }
   ],
   "source": [
    "physio_keys_converted = convert_physio_values(key_specific_terms)\n",
    "physio_keys_converted"
   ]
  },
  {
   "cell_type": "code",
   "execution_count": 25,
   "id": "9b1d88fd-bbb8-4bb1-96e6-51ad929be508",
   "metadata": {},
   "outputs": [],
   "source": [
    "demo_and_behav_values = [] \n",
    "def demo_and_behav(key_specific_terms):\n",
    "    \n",
    "    demo_values_converted = convert_demo_values(key_specific_terms)\n",
    "    demo_and_behav_values.append(demo_values_converted)\n",
    "\n",
    "    behav_keys_converted = convert_behav_values(key_specific_terms)\n",
    "    demo_and_behav_values.append(behav_keys_converted)\n",
    "\n",
    "    return sum(demo_and_behav_values, [])"
   ]
  },
  {
   "cell_type": "code",
   "execution_count": 26,
   "id": "690e680c-a9df-440d-aabc-faf863bff48c",
   "metadata": {},
   "outputs": [
    {
     "data": {
      "text/plain": [
       "['female',\n",
       " 'male',\n",
       " '<40',\n",
       " '>=40',\n",
       " 'college',\n",
       " 'graduate',\n",
       " 'english',\n",
       " 'non-english',\n",
       " 'sleep quality (PSQI)',\n",
       " 'affect (PANAS)',\n",
       " 'anxiety (STAI)',\n",
       " 'life satisfaction (SWLS)',\n",
       " 'personality (BFI-2)']"
      ]
     },
     "execution_count": 26,
     "metadata": {},
     "output_type": "execute_result"
    }
   ],
   "source": [
    "replace_with_both = demo_and_behav(key_specific_terms)\n",
    "replace_with_both"
   ]
  },
  {
   "cell_type": "markdown",
   "id": "d8a4dc39-b304-41de-8633-19fda8a2bed5",
   "metadata": {},
   "source": [
    "---\n",
    "\n",
    "# Replace"
   ]
  },
  {
   "cell_type": "code",
   "execution_count": 27,
   "id": "ef60fd19-5c57-457f-aac5-2a588a10cbc7",
   "metadata": {},
   "outputs": [],
   "source": [
    "def replacement(question_template, find_word, replace, start_index_of_key_word):\n",
    "    while(start_index_of_key_word != -1):\n",
    "        substring = question_template[0 : start_index_of_key_word]\n",
    "        substring = substring + replace\n",
    "        substring = substring + question_template[start_index_of_key_word + len(find_word):]\n",
    "        question_template = substring\n",
    "        start_index_of_key_word = question_template.find(find_word, start_index_of_key_word + 1, len(question_template))\n",
    "    return substring"
   ]
  },
  {
   "cell_type": "raw",
   "id": "51ce8e43-ff1a-4a00-af02-b7c6a6a5236c",
   "metadata": {},
   "source": [
    "updated_question_template = []\n",
    "specific_questions = []\n",
    "\n",
    "def replace_group(ques_templates, words_to_replace, key_specific_terms):\n",
    "    for ques_template in range(len(ques_templates)):\n",
    "        question_template = ques_templates[ques_template]\n",
    "        print(\"question_template is : \", question_template)\n",
    "        \n",
    "        for word_to_replace in words_to_replace:\n",
    "            print(word_to_replace)\n",
    "            \n",
    "            if word_to_replace in question_template: \n",
    "                if word_to_replace == \"group_1\":\n",
    "                # print(True)\n",
    "                    start_index_of_word_to_replace = question_template.find(word_to_replace)\n",
    "                    replace_with = key_specific_terms[0][0]\n",
    "                    replace = replacement(question_template, word_to_replace, replace_with, start_index_of_word_to_replace)\n",
    "                    # print(r)\n",
    "                    updated_question_template.append(replace)                \n",
    "                if word_to_replace == \"group_2\":\n",
    "                    # print(True)\n",
    "                    start_index_of_word_to_replace = updated_question_template[-1].find(word_to_replace)\n",
    "                    replace_with = key_specific_terms[1][0]\n",
    "                    replace = replacement(updated_question_template[-1], word_to_replace, replace_with, start_index_of_word_to_replace)\n",
    "                    # print(r)\n",
    "                    updated_question_template.append(replace)\n",
    "                    \n",
    "                if word_to_replace == \"physiological\":\n",
    "                    # print(True)\n",
    "                    start_index_of_word_to_replace = updated_question_template[-1].find(word_to_replace)\n",
    "                    \n",
    "                    replace_with_physio = convert_physio_values(key_specific_terms)\n",
    "                    for replace_idx in range(len(replace_with_physio)):\n",
    "                        replace_with = replace_with_physio[replace_idx] \n",
    "                        # print(replace_with)\n",
    "                        replace = replacement(updated_question_template[-1], word_to_replace, replace_with, start_index_of_word_to_replace)\n",
    "                        # print(r)\n",
    "                        updated_question_template.append(replace)\n",
    "                        specific_questions.append(updated_question_template[-1])\n",
    "            # else:\n",
    "                specific_questions.append(updated_question_template[-1])\n",
    "            \n",
    "\n",
    "    return specific_questions"
   ]
  },
  {
   "cell_type": "raw",
   "id": "db1896f7-f899-4b14-a17c-1bb1a307ec8f",
   "metadata": {},
   "source": [
    "replace_group_vars = replace_group(question_templates_keys, words_to_replace, key_specific_terms)\n",
    "replace_group_vars"
   ]
  },
  {
   "cell_type": "raw",
   "id": "584bafb9-a1c5-4af1-822c-4959f62a0d0e",
   "metadata": {},
   "source": [
    "q = []\n",
    "# replace_with_both = demo_and_behav(key_specific_terms)\n",
    "\n",
    "def replace_other_vars(ques_templates, words_to_replace, key_specific_terms, question_templates):\n",
    "    for ques_template in range(len(ques_templates)):\n",
    "        updated_question_template = []\n",
    "        specific_questions = []\n",
    "        \n",
    "        \n",
    "        question_template = ques_templates[ques_template]\n",
    "        print(\"question_template @\", ques_template, \"is \", question_template)\n",
    "        \n",
    "        # print(replace_with_both)\n",
    "        \n",
    "        for replace_idx in range(len(replace_with_both)):\n",
    "            replace_with = replace_with_both[replace_idx]\n",
    "            # print(\"replace_with : \", replace_with)\n",
    "\n",
    "            word_to_replace = \"demographic/behavioral\"\n",
    "            start_index_of_word_to_replace = question_template.find(word_to_replace)\n",
    "\n",
    "\n",
    "            replace = replacement(question_template, word_to_replace, replace_with, start_index_of_word_to_replace)\n",
    "            updated_question_template.append(replace)\n",
    "            specific_questions.append(updated_question_template[-1])\n",
    "            # print(\"\\n\", specific_questions)\n",
    "        # print(\"\\n NEW QUESTION TEMPLATE\")  \n",
    "        q.append(specific_questions)        \n",
    "    return q"
   ]
  },
  {
   "cell_type": "raw",
   "id": "f5d487e4-d131-4f0d-a456-a439dd66bac6",
   "metadata": {},
   "source": [
    "replace_group_vars = replace_other_vars(replace_group_vars, words_to_replace, replace_with_both, question_templates)\n",
    "replace_group_vars"
   ]
  },
  {
   "cell_type": "raw",
   "id": "a45096f0-4db7-4a31-8d6b-f0993cb8019b",
   "metadata": {},
   "source": [
    "replace_group_vars[0]"
   ]
  },
  {
   "cell_type": "raw",
   "id": "864381b2-e023-43c9-8e2b-db9f31a4abc8",
   "metadata": {},
   "source": [
    "replace_group_vars[1]"
   ]
  },
  {
   "cell_type": "raw",
   "id": "e2e41624-80bc-4012-9f6a-bc732ec6203e",
   "metadata": {},
   "source": [
    "question_templates.keys()"
   ]
  },
  {
   "cell_type": "code",
   "execution_count": 28,
   "id": "4aecaac0-e7c2-4ec6-823b-3453932d5868",
   "metadata": {},
   "outputs": [],
   "source": [
    "def insert_to_dic(question_templates, replace_group_vars):\n",
    "    idx = 0\n",
    "    \n",
    "    for key, value in question_templates.items():\n",
    "        print(key, \" :: \", value)\n",
    "        value = replace_group_vars[idx]\n",
    "        idx = idx + 1\n",
    "        question_templates[key] = value\n",
    "    return question_templates"
   ]
  },
  {
   "cell_type": "code",
   "execution_count": 29,
   "id": "fb835799-c8d2-400d-a778-8b9ee3da425c",
   "metadata": {},
   "outputs": [],
   "source": [
    "# new_question_templates = insert_to_dic(question_templates, replace_group_vars)"
   ]
  },
  {
   "cell_type": "code",
   "execution_count": 30,
   "id": "d20b4e77-9b46-44c7-9c1e-cf095e061e0b",
   "metadata": {},
   "outputs": [],
   "source": [
    "# new_question_templates"
   ]
  },
  {
   "cell_type": "code",
   "execution_count": 31,
   "id": "9c6ea34d-005b-417c-a1ae-cb12b926e9f3",
   "metadata": {},
   "outputs": [],
   "source": [
    "# new_question_templates['what are differences in primarily group_1 nurses and primarily group_2 nurses for demographic/behavioral?']"
   ]
  },
  {
   "cell_type": "markdown",
   "id": "2c2e2765-d5d7-479e-a0c1-ec09fcadfbfe",
   "metadata": {},
   "source": [
    "# Replace all at once"
   ]
  },
  {
   "cell_type": "code",
   "execution_count": 32,
   "id": "daddb81c-fb7c-489a-a219-5c96b8d34d8d",
   "metadata": {},
   "outputs": [],
   "source": [
    "all_replacement_words = []\n",
    "\n",
    "def replace_with(key_words_in_study):\n",
    "#     words_to_replace = list(key_words_in_study.keys())\n",
    "    \n",
    "#     for word_to_replace in words_to_replace: \n",
    "        \n",
    "#         replace_with = key_words_in_study[word_to_replace]\n",
    "        \n",
    "        # replace_with = sum(replace_with, [])\n",
    "        # print(replace_with)\n",
    "        # for word in range(len(word_to_replace)):\n",
    "        #     print(word_to_replace[word])\n",
    "    # replace_with_words = convert_demo_keys(key_words_in_study)\n",
    "    \n",
    "    replace_with_vars = list(key_words_in_study.values())\n",
    "    \n",
    "    # group_1 = convert_group_1_keys(replace_with_vars)\n",
    "    # all_replacement_words.append(group_1)\n",
    "    # group_2 = convert_group_2_keys(replace_with_vars)\n",
    "    # all_replacement_words.append(group_2)\n",
    "    demos = convert_demo_values(replace_with_vars)\n",
    "    all_replacement_words.append(demos)\n",
    "    # behavs = convert_behav_values(replace_with_vars)\n",
    "    # all_replacement_words.append(behavs)\n",
    "    # physios = convert_physio_values(replace_with_vars)\n",
    "    # all_replacement_words.append(physios)\n",
    "    # print(all_replacement_words)\n",
    "    \n",
    "    idx = 0 \n",
    "    for key, value in key_words_in_study.items():  \n",
    "        # key_words_in_study[words_to_replace[word_to_replace]] = all_replacement_words[all_replacement_words]\n",
    "        print(key, \"::\", value)\n",
    "        # print(\"\\n\", key_words_in_study[key])\n",
    "        # key_words_in_study[key] = all_replacement_words[idx]\n",
    "        # idx = idx + 1\n",
    "        for all_replacement_word in range(len(all_replacement_words)):\n",
    "            # print(all_replacement_word, all_replacement_words[all_replacement_word])\n",
    "            key_words_in_study[\"demographic\"] = demos = convert_demo_values(replace_with_vars)\n",
    "        \n",
    "    \n",
    "    return key_words_in_study.values()"
   ]
  },
  {
   "cell_type": "code",
   "execution_count": 33,
   "id": "1f8d904a-049f-4c99-891d-79511322beb3",
   "metadata": {},
   "outputs": [
    {
     "name": "stdout",
     "output_type": "stream",
     "text": [
      "group_1 :: ['day-shift']\n",
      "group_2 :: ['night-shift']\n",
      "demographic :: ['female', 'male', '<40', '>=40', 'college', 'graduate', 'english', 'non-english']\n",
      "behavioral :: ['sleep quality (PSQI)', 'affect (PANAS)', 'anxiety (STAI)', 'life satisfaction (SWLS)', 'personality (BFI-2)']\n",
      "physiological :: ['step count', 'heart rate', 'sleep', 'average rest-activity ratio', 'average walk activity ratio', 'average vigorous activity duration']\n"
     ]
    },
    {
     "data": {
      "text/plain": [
       "dict_values([['day-shift'], ['night-shift'], ['female', 'male', '<40', '>=40', 'college', 'graduate', 'english', 'non-english'], ['sleep quality (PSQI)', 'affect (PANAS)', 'anxiety (STAI)', 'life satisfaction (SWLS)', 'personality (BFI-2)'], ['step count', 'heart rate', 'sleep', 'average rest-activity ratio', 'average walk activity ratio', 'average vigorous activity duration']])"
      ]
     },
     "execution_count": 33,
     "metadata": {},
     "output_type": "execute_result"
    }
   ],
   "source": [
    "replace_with(key_words_in_study)"
   ]
  },
  {
   "cell_type": "code",
   "execution_count": 34,
   "id": "af7e1cc4-aa97-4e63-a562-c25f4f5a17f5",
   "metadata": {},
   "outputs": [],
   "source": [
    "def replace_vars(ques_templates, key_words_in_study):\n",
    "    # count = 1\n",
    "    all_specific_questions = []\n",
    "    specific_questions = []\n",
    "    \n",
    "    # key_specific_terms = key_words_in_study\n",
    "    \n",
    "    words_to_replace = list(key_words_in_study.keys())\n",
    "    # print(words_to_replace)\n",
    "    \n",
    "    key_specific_terms = key_words_in_study.values() \n",
    "    # print(key_specific_terms)\n",
    "    \n",
    "    for ques_template in range(len(ques_templates)):\n",
    "        \n",
    "\n",
    "        updated_question_template = []\n",
    "        question_template = ques_templates[ques_template]\n",
    "        print(\"\\n\", ques_template, type(question_template), question_template)\n",
    "        question_template_words = question_template.split(\" \")\n",
    "        # print(\"\\nquestion_template_words : \", question_template_words)\n",
    "        \n",
    "        for word_to_replace in words_to_replace:\n",
    "            # print(word_to_replace)\n",
    "            # updated_question_template = []\n",
    "            \n",
    "            if word_to_replace in question_template_words: \n",
    "                # print(True)\n",
    "                # print(word_to_replace)\n",
    "                replaces_with_word = key_words_in_study[word_to_replace]\n",
    "\n",
    "                for replace_with_word in replaces_with_word:\n",
    "                    \n",
    "                    start_index_of_word_to_replace = question_template.find(word_to_replace)\n",
    "                \n",
    "#                 # get values at that key ==> key_words_in_study['group_1'] where  'group_1': ['day-shift'] \n",
    "                    replace_with = replace_with_word\n",
    "                    # print(\"replace : \", word_to_replace, \" with \", replace_with)\n",
    "                    replace = replacement(question_template, word_to_replace, replace_with, start_index_of_word_to_replace)\n",
    "                    updated_question_template.append(replace)\n",
    "                    question_template = ' '.join(updated_question_template)\n",
    "                    split_question_template = question_template.split(\" ? \")\n",
    "                    \n",
    "                    # print(split_question_template)\n",
    "                    word_to_replace = replace_with\n",
    "                    \n",
    "                    specific_questions.append(split_question_template[-1])\n",
    "                    # specific_questions.append(updated_question_template[-1])\n",
    "                    print(specific_questions[-1])\n",
    "    # all_specific_questions.append(specific_questions)\n",
    "    # print(all_specific_questions)\n",
    "    return specific_questions[-1]"
   ]
  },
  {
   "cell_type": "code",
   "execution_count": null,
   "id": "9451548a-c6a1-4b98-b628-02721105d392",
   "metadata": {},
   "outputs": [
    {
     "name": "stdout",
     "output_type": "stream",
     "text": [
      "\n",
      " 0 <class 'str'> what are differences in primarily group_1 nurses and primarily group_2 nurses for demographic ?\n",
      "what are differences in primarily day-shift nurses and primarily group_2 nurses for demographic ?\n",
      "what are differences in primarily day-shift nurses and primarily night-shift nurses for demographic ?\n",
      "what are differences in primarily day-shift nurses and primarily night-shift nurses for female ?\n",
      "what are differences in primarily day-shift nurses and primarily night-shift nurses for male ?\n",
      "what are differences in primarily day-shift nurses and primarily night-shift nurses for <40 ?\n",
      "what are differences in primarily day-shift nurses and primarily night-shift nurses for >=40 ?\n",
      "what are differences in primarily day-shift nurses and primarily night-shift nurses for college ?\n",
      "what are differences in primarily day-shift nurses and primarily night-shift nurses for graduate ?\n",
      "what are differences in primarily day-shift nurses and primarily night-shift nurses for english ?\n"
     ]
    }
   ],
   "source": [
    "replace_group_vars = replace_vars(question_templates_keys, key_words_in_study)\n",
    "replace_group_vars"
   ]
  },
  {
   "cell_type": "code",
   "execution_count": null,
   "id": "42f257da-12a7-4bed-9cde-9e0a4e368acd",
   "metadata": {},
   "outputs": [],
   "source": []
  },
  {
   "cell_type": "code",
   "execution_count": null,
   "id": "3b003486-7a48-4e6b-a715-d03845895b84",
   "metadata": {},
   "outputs": [],
   "source": []
  }
 ],
 "metadata": {
  "kernelspec": {
   "display_name": "Python 3",
   "language": "python",
   "name": "python3"
  },
  "language_info": {
   "codemirror_mode": {
    "name": "ipython",
    "version": 3
   },
   "file_extension": ".py",
   "mimetype": "text/x-python",
   "name": "python",
   "nbconvert_exporter": "python",
   "pygments_lexer": "ipython3",
   "version": "3.7.5"
  }
 },
 "nbformat": 4,
 "nbformat_minor": 5
}
