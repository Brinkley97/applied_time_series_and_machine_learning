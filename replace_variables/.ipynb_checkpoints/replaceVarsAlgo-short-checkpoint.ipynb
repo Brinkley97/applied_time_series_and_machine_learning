{
 "cells": [
  {
   "cell_type": "markdown",
   "id": "c5033109-facd-44b1-b567-9ed96a2485c1",
   "metadata": {},
   "source": [
    "# Replace Variables\n",
    "\n",
    "---"
   ]
  },
  {
   "cell_type": "code",
   "execution_count": 1,
   "id": "5e11502f-c517-4319-b4f9-9a2ed2314150",
   "metadata": {},
   "outputs": [],
   "source": [
    "import numpy as np"
   ]
  },
  {
   "cell_type": "code",
   "execution_count": 2,
   "id": "f52280e8-9ff0-4268-96ab-f925150974ff",
   "metadata": {},
   "outputs": [],
   "source": [
    "key_words_in_study = {\n",
    "                        'group_1': ['day-shift'],\n",
    "                        'group_2': ['night-shift'],\n",
    "                        'demographic':  {\n",
    "                            'gender': ['female', 'male'],\n",
    "                            'age': ['<40', '<=40'],\n",
    "                            'highest degree': ['college', 'graduate'],\n",
    "                            'native language': ['english', 'non-english'],\n",
    "                        },\n",
    "                        'behavioral': ['sleep quality (PSQI)', 'affect', 'anxiety', 'life satisfaction', 'personality']\n",
    "    \n",
    "}"
   ]
  },
  {
   "cell_type": "code",
   "execution_count": 3,
   "id": "35881f56-69d6-48d2-839e-7456e55726be",
   "metadata": {},
   "outputs": [
    {
     "name": "stdout",
     "output_type": "stream",
     "text": [
      "group_1  ::  ['day-shift']\n",
      "group_2  ::  ['night-shift']\n",
      "demographic  ::  {'gender': ['female', 'male'], 'age': ['<40', '<=40'], 'highest degree': ['college', 'graduate'], 'native language': ['english', 'non-english']}\n",
      "behavioral  ::  ['sleep quality (PSQI)', 'affect', 'anxiety', 'life satisfaction', 'personality']\n"
     ]
    }
   ],
   "source": [
    "for key, value in key_words_in_study.items():\n",
    "    print(key, \" :: \", value)"
   ]
  },
  {
   "cell_type": "code",
   "execution_count": 4,
   "id": "2813c1a0-a4a4-4519-b78c-65726e75edc7",
   "metadata": {},
   "outputs": [],
   "source": [
    "question_templates = {\n",
    "                    'what are differences in primarily group_1 nurses and primarily group_2 nurses for demographic/behavioral?': [],\n",
    "                    'XXXX differences in primarily group_1 nurses and primarily group_2 nurses for demographic/behavioral?': []\n",
    "\n",
    "                    }"
   ]
  },
  {
   "cell_type": "code",
   "execution_count": 5,
   "id": "a338d6a1-dc08-4253-ab2b-10d3c8f5a446",
   "metadata": {},
   "outputs": [
    {
     "data": {
      "text/plain": [
       "dict_keys(['what are differences in primarily group_1 nurses and primarily group_2 nurses for demographic/behavioral?', 'XXXX differences in primarily group_1 nurses and primarily group_2 nurses for demographic/behavioral?'])"
      ]
     },
     "execution_count": 5,
     "metadata": {},
     "output_type": "execute_result"
    }
   ],
   "source": [
    "question_templates_keys = question_templates.keys()\n",
    "question_templates_keys"
   ]
  },
  {
   "cell_type": "markdown",
   "id": "1737e1cb-09e0-41cb-a068-92afc2b0a63e",
   "metadata": {},
   "source": [
    "---\n",
    "\n",
    "# Decompose Question Template Keys\n",
    "\n",
    "- Question template keys are type dict, so change to type list so I can manipulate the variables"
   ]
  },
  {
   "cell_type": "code",
   "execution_count": 6,
   "id": "341cd6f5-b443-4c83-88cb-c63600e4300f",
   "metadata": {},
   "outputs": [
    {
     "data": {
      "text/plain": [
       "['what are differences in primarily group_1 nurses and primarily group_2 nurses for demographic/behavioral?',\n",
       " 'XXXX differences in primarily group_1 nurses and primarily group_2 nurses for demographic/behavioral?']"
      ]
     },
     "execution_count": 6,
     "metadata": {},
     "output_type": "execute_result"
    }
   ],
   "source": [
    "question_templates = list(question_templates_keys)\n",
    "question_templates"
   ]
  },
  {
   "cell_type": "markdown",
   "id": "3bdfb237-b08f-4676-9556-b5cb6b655bb3",
   "metadata": {},
   "source": [
    "---\n",
    "\n",
    "# Convert Type of Key Terms"
   ]
  },
  {
   "cell_type": "code",
   "execution_count": 7,
   "id": "93db1c13-eb3b-4c61-9293-695a40497b08",
   "metadata": {},
   "outputs": [
    {
     "data": {
      "text/plain": [
       "['group_1', 'group_2', 'demographic', 'behavioral', 'demographic/behavioral']"
      ]
     },
     "execution_count": 7,
     "metadata": {},
     "output_type": "execute_result"
    }
   ],
   "source": [
    "additional_check_words = \"demographic/behavioral\"\n",
    "words_to_replace = list(key_words_in_study.keys())\n",
    "words_to_replace.append(additional_check_words)\n",
    "words_to_replace"
   ]
  },
  {
   "cell_type": "code",
   "execution_count": 8,
   "id": "183c5c7d-8d32-44e3-8117-caf5de51a26f",
   "metadata": {},
   "outputs": [
    {
     "data": {
      "text/plain": [
       "[['day-shift'],\n",
       " ['night-shift'],\n",
       " {'gender': ['female', 'male'],\n",
       "  'age': ['<40', '<=40'],\n",
       "  'highest degree': ['college', 'graduate'],\n",
       "  'native language': ['english', 'non-english']},\n",
       " ['sleep quality (PSQI)',\n",
       "  'affect',\n",
       "  'anxiety',\n",
       "  'life satisfaction',\n",
       "  'personality']]"
      ]
     },
     "execution_count": 8,
     "metadata": {},
     "output_type": "execute_result"
    }
   ],
   "source": [
    "key_specific_terms = list(key_words_in_study.values())\n",
    "key_specific_terms"
   ]
  },
  {
   "cell_type": "code",
   "execution_count": 9,
   "id": "dee7e050-4ad8-4788-9491-1e609a14dcbe",
   "metadata": {},
   "outputs": [
    {
     "data": {
      "text/plain": [
       "{'gender': ['female', 'male'],\n",
       " 'age': ['<40', '<=40'],\n",
       " 'highest degree': ['college', 'graduate'],\n",
       " 'native language': ['english', 'non-english']}"
      ]
     },
     "execution_count": 9,
     "metadata": {},
     "output_type": "execute_result"
    }
   ],
   "source": [
    "key_specific_terms[2]"
   ]
  },
  {
   "cell_type": "code",
   "execution_count": 10,
   "id": "80269001-cff6-4064-a3b5-721ce19ef4fd",
   "metadata": {},
   "outputs": [],
   "source": [
    "def convert_demo_keys(key_specific_terms):\n",
    "    demo_keys = list(key_specific_terms[2].keys())\n",
    "    \n",
    "    return demo_keys"
   ]
  },
  {
   "cell_type": "code",
   "execution_count": 11,
   "id": "9c841805-7531-4a2b-857d-0bc7f6e0826c",
   "metadata": {},
   "outputs": [
    {
     "data": {
      "text/plain": [
       "['gender', 'age', 'highest degree', 'native language']"
      ]
     },
     "execution_count": 11,
     "metadata": {},
     "output_type": "execute_result"
    }
   ],
   "source": [
    "demo_keys_converted = convert_demo_keys(key_specific_terms)\n",
    "demo_keys_converted"
   ]
  },
  {
   "cell_type": "code",
   "execution_count": 12,
   "id": "38c484c7-be53-4472-b74e-d6b983514c47",
   "metadata": {},
   "outputs": [
    {
     "name": "stdout",
     "output_type": "stream",
     "text": [
      "gender\n",
      "age\n",
      "highest degree\n",
      "native language\n"
     ]
    }
   ],
   "source": [
    "for demo_key_converted in demo_keys_converted:\n",
    "        demo_key = demo_key_converted\n",
    "        print(demo_key)"
   ]
  },
  {
   "cell_type": "code",
   "execution_count": 13,
   "id": "2e751234-d261-46bd-8e9f-a7f26e595716",
   "metadata": {},
   "outputs": [],
   "source": [
    "def convert_demo_values(key_specific_terms):\n",
    "    demo_values = list(key_specific_terms[2].values())\n",
    "    demo_values = sum(demo_values, [])\n",
    "    # print(demo_values)\n",
    "    \n",
    "    # for demo_value in demo_values:\n",
    "    #     demo_var = demo_values[demo_value]\n",
    "        \n",
    "    return demo_values"
   ]
  },
  {
   "cell_type": "code",
   "execution_count": 14,
   "id": "89c38325-3b64-47c7-a982-3033c6f9c43d",
   "metadata": {},
   "outputs": [
    {
     "data": {
      "text/plain": [
       "['female',\n",
       " 'male',\n",
       " '<40',\n",
       " '<=40',\n",
       " 'college',\n",
       " 'graduate',\n",
       " 'english',\n",
       " 'non-english']"
      ]
     },
     "execution_count": 14,
     "metadata": {},
     "output_type": "execute_result"
    }
   ],
   "source": [
    "demo_values_converted = convert_demo_values(key_specific_terms)\n",
    "demo_values_converted"
   ]
  },
  {
   "cell_type": "code",
   "execution_count": null,
   "id": "f7ab3c7f-780f-4041-9579-2ab6aab7f8ef",
   "metadata": {},
   "outputs": [],
   "source": []
  },
  {
   "cell_type": "code",
   "execution_count": 15,
   "id": "605ff995-7744-4da1-b3fc-24463155ebd0",
   "metadata": {},
   "outputs": [],
   "source": [
    "def convert_behav_values(key_specific_terms):\n",
    "    behav_values = key_specific_terms[3]\n",
    "    \n",
    "    return behav_values"
   ]
  },
  {
   "cell_type": "code",
   "execution_count": 16,
   "id": "2ffb2dbf-6e91-4e3d-a41e-76b3f312c212",
   "metadata": {},
   "outputs": [
    {
     "data": {
      "text/plain": [
       "['sleep quality (PSQI)',\n",
       " 'affect',\n",
       " 'anxiety',\n",
       " 'life satisfaction',\n",
       " 'personality']"
      ]
     },
     "execution_count": 16,
     "metadata": {},
     "output_type": "execute_result"
    }
   ],
   "source": [
    "behav_keys_converted = convert_behav_values(key_specific_terms)\n",
    "behav_keys_converted"
   ]
  },
  {
   "cell_type": "code",
   "execution_count": 17,
   "id": "0b577ca4-63bc-4ed8-b807-2f8ab8ececde",
   "metadata": {},
   "outputs": [
    {
     "name": "stdout",
     "output_type": "stream",
     "text": [
      "sleep quality (PSQI)\n",
      "affect\n",
      "anxiety\n",
      "life satisfaction\n",
      "personality\n"
     ]
    }
   ],
   "source": [
    "for behav_key_converted in behav_keys_converted:\n",
    "    print(behav_key_converted)"
   ]
  },
  {
   "cell_type": "code",
   "execution_count": 113,
   "id": "9b1d88fd-bbb8-4bb1-96e6-51ad929be508",
   "metadata": {},
   "outputs": [],
   "source": [
    "demo_and_behav_values = [] \n",
    "def demo_and_behav(key_specific_terms):\n",
    "    \n",
    "    demo_values_converted = convert_demo_values(key_specific_terms)\n",
    "    demo_and_behav_values.append(demo_values_converted)\n",
    "\n",
    "    behav_keys_converted = convert_behav_values(key_specific_terms)\n",
    "    demo_and_behav_values.append(behav_keys_converted)\n",
    "\n",
    "    return sum(demo_and_behav_values, [])"
   ]
  },
  {
   "cell_type": "code",
   "execution_count": 114,
   "id": "690e680c-a9df-440d-aabc-faf863bff48c",
   "metadata": {},
   "outputs": [
    {
     "data": {
      "text/plain": [
       "['female',\n",
       " 'male',\n",
       " '<40',\n",
       " '<=40',\n",
       " 'college',\n",
       " 'graduate',\n",
       " 'english',\n",
       " 'non-english',\n",
       " 'sleep quality (PSQI)',\n",
       " 'affect',\n",
       " 'anxiety',\n",
       " 'life satisfaction',\n",
       " 'personality']"
      ]
     },
     "execution_count": 114,
     "metadata": {},
     "output_type": "execute_result"
    }
   ],
   "source": [
    "replace_with_both = demo_and_behav(key_specific_terms)\n",
    "replace_with_both"
   ]
  },
  {
   "cell_type": "markdown",
   "id": "d8a4dc39-b304-41de-8633-19fda8a2bed5",
   "metadata": {},
   "source": [
    "---\n",
    "\n",
    "# Replace"
   ]
  },
  {
   "cell_type": "code",
   "execution_count": 130,
   "id": "ef60fd19-5c57-457f-aac5-2a588a10cbc7",
   "metadata": {},
   "outputs": [],
   "source": [
    "def replacement(question_template, find_word, replace, start_index_of_key_word):\n",
    "    while(start_index_of_key_word != -1):\n",
    "        substring = question_template[0 : start_index_of_key_word]\n",
    "        substring = substring + replace\n",
    "        substring = substring + question_template[start_index_of_key_word + len(find_word):]\n",
    "        question_template = substring\n",
    "        start_index_of_key_word = question_template.find(find_word, start_index_of_key_word + 1, len(question_template))\n",
    "    return substring"
   ]
  },
  {
   "cell_type": "code",
   "execution_count": 131,
   "id": "7c3d4d43-f004-4ac3-a5ad-388c325dcdcf",
   "metadata": {},
   "outputs": [],
   "source": [
    "updated_question_template = []\n",
    "specific_questions = []\n",
    "\n",
    "def replace_group(ques_templates, words_to_replace, key_specific_terms):\n",
    "    for ques_template in range(len(ques_templates)):\n",
    "        question_template = ques_templates[ques_template]\n",
    "        # print(\"question_template is : \", question_template)\n",
    "        \n",
    "        for word_to_replace in words_to_replace:\n",
    "            # print(word_to_replace)\n",
    "\n",
    "            if word_to_replace == \"group_1\":\n",
    "            # print(True)\n",
    "                start_index_of_word_to_replace = question_template.find(word_to_replace)\n",
    "                replace_with = key_specific_terms[0][0]\n",
    "                replace = replacement(question_template, word_to_replace, replace_with, start_index_of_word_to_replace)\n",
    "                # print(r)\n",
    "                updated_question_template.append(replace)                \n",
    "            if word_to_replace == \"group_2\":\n",
    "                # print(True)\n",
    "                start_index_of_word_to_replace = updated_question_template[-1].find(word_to_replace)\n",
    "                replace_with = key_specific_terms[1][0]\n",
    "                replace = replacement(updated_question_template[-1], word_to_replace, replace_with, start_index_of_word_to_replace)\n",
    "                # print(r)\n",
    "                updated_question_template.append(replace)\n",
    "                specific_questions.append(updated_question_template[-1])\n",
    "\n",
    "            # if word_to_replace == \"demographic/behavioral\":\n",
    "            #     start_index_of_word_to_replace = updated_question_template[-1].find(word_to_replace)\n",
    "            #     replace_with_both = demo_and_behav(key_specific_terms)\n",
    "            #     replace_idx = 0\n",
    "            #     while replace_idx < len(replace_with_both):\n",
    "            #         replace_with = replace_with_both[replace_idx]\n",
    "            #         replace_idx = replace_idx + 1\n",
    "            #         replace = replacement(updated_question_template[-1], word_to_replace, replace_with, start_index_of_word_to_replace)\n",
    "            #         updated_question_template.append(replace)\n",
    "            #         specific_questions.append(updated_question_template[-1])\n",
    "\n",
    "    return specific_questions"
   ]
  },
  {
   "cell_type": "code",
   "execution_count": 132,
   "id": "6126d77d-b352-4fca-9771-fbab4fa0dcd7",
   "metadata": {},
   "outputs": [
    {
     "data": {
      "text/plain": [
       "['what are differences in primarily day-shift nurses and primarily night-shift nurses for demographic/behavioral?',\n",
       " 'XXXX differences in primarily day-shift nurses and primarily night-shift nurses for demographic/behavioral?']"
      ]
     },
     "execution_count": 132,
     "metadata": {},
     "output_type": "execute_result"
    }
   ],
   "source": [
    "replace_group_vars = replace_group(question_templates, words_to_replace, key_specific_terms)\n",
    "replace_group_vars"
   ]
  },
  {
   "cell_type": "code",
   "execution_count": 133,
   "id": "35a299b6-b4af-42b1-9a23-3bb684d8516a",
   "metadata": {},
   "outputs": [],
   "source": [
    "updated_question_template = []\n",
    "specific_questions = []\n",
    "# replace_with_both = demo_and_behav(key_specific_terms)\n",
    "\n",
    "def replace_other_vars(ques_templates, words_to_replace, key_specific_terms):\n",
    "    for ques_template in range(len(ques_templates)):\n",
    "        question_template = ques_templates[ques_template]\n",
    "        # print(\"question_template is : \", question_template)\n",
    "        \n",
    "        # print(replace_with_both)\n",
    "        \n",
    "        for replace_idx in range(len(replace_with_both)):\n",
    "            replace_with = replace_with_both[replace_idx]\n",
    "            # print(\"replace_with : \", replace_with)\n",
    "\n",
    "            word_to_replace = \"demographic/behavioral\"\n",
    "            start_index_of_word_to_replace = question_template.find(word_to_replace)\n",
    "\n",
    "\n",
    "            replace = replacement(question_template, word_to_replace, replace_with, start_index_of_word_to_replace)\n",
    "            updated_question_template.append(replace)\n",
    "            specific_questions.append(updated_question_template[-1])\n",
    "            \n",
    "    return specific_questions"
   ]
  },
  {
   "cell_type": "code",
   "execution_count": 134,
   "id": "bbe2cf8d-6f49-4140-b814-88ddffa9947e",
   "metadata": {},
   "outputs": [
    {
     "data": {
      "text/plain": [
       "['what are differences in primarily day-shift nurses and primarily night-shift nurses for female?',\n",
       " 'what are differences in primarily day-shift nurses and primarily night-shift nurses for male?',\n",
       " 'what are differences in primarily day-shift nurses and primarily night-shift nurses for <40?',\n",
       " 'what are differences in primarily day-shift nurses and primarily night-shift nurses for <=40?',\n",
       " 'what are differences in primarily day-shift nurses and primarily night-shift nurses for college?',\n",
       " 'what are differences in primarily day-shift nurses and primarily night-shift nurses for graduate?',\n",
       " 'what are differences in primarily day-shift nurses and primarily night-shift nurses for english?',\n",
       " 'what are differences in primarily day-shift nurses and primarily night-shift nurses for non-english?',\n",
       " 'what are differences in primarily day-shift nurses and primarily night-shift nurses for sleep quality (PSQI)?',\n",
       " 'what are differences in primarily day-shift nurses and primarily night-shift nurses for affect?',\n",
       " 'what are differences in primarily day-shift nurses and primarily night-shift nurses for anxiety?',\n",
       " 'what are differences in primarily day-shift nurses and primarily night-shift nurses for life satisfaction?',\n",
       " 'what are differences in primarily day-shift nurses and primarily night-shift nurses for personality?',\n",
       " 'XXXX differences in primarily day-shift nurses and primarily night-shift nurses for female?',\n",
       " 'XXXX differences in primarily day-shift nurses and primarily night-shift nurses for male?',\n",
       " 'XXXX differences in primarily day-shift nurses and primarily night-shift nurses for <40?',\n",
       " 'XXXX differences in primarily day-shift nurses and primarily night-shift nurses for <=40?',\n",
       " 'XXXX differences in primarily day-shift nurses and primarily night-shift nurses for college?',\n",
       " 'XXXX differences in primarily day-shift nurses and primarily night-shift nurses for graduate?',\n",
       " 'XXXX differences in primarily day-shift nurses and primarily night-shift nurses for english?',\n",
       " 'XXXX differences in primarily day-shift nurses and primarily night-shift nurses for non-english?',\n",
       " 'XXXX differences in primarily day-shift nurses and primarily night-shift nurses for sleep quality (PSQI)?',\n",
       " 'XXXX differences in primarily day-shift nurses and primarily night-shift nurses for affect?',\n",
       " 'XXXX differences in primarily day-shift nurses and primarily night-shift nurses for anxiety?',\n",
       " 'XXXX differences in primarily day-shift nurses and primarily night-shift nurses for life satisfaction?',\n",
       " 'XXXX differences in primarily day-shift nurses and primarily night-shift nurses for personality?']"
      ]
     },
     "execution_count": 134,
     "metadata": {},
     "output_type": "execute_result"
    }
   ],
   "source": [
    "replace_group_vars = replace_other_vars(replace_group_vars, words_to_replace, replace_with_both)\n",
    "replace_group_vars"
   ]
  },
  {
   "cell_type": "code",
   "execution_count": null,
   "id": "b71d6276-94ca-4ec9-a649-198619e04d6b",
   "metadata": {},
   "outputs": [],
   "source": []
  }
 ],
 "metadata": {
  "kernelspec": {
   "display_name": "Python 3",
   "language": "python",
   "name": "python3"
  },
  "language_info": {
   "codemirror_mode": {
    "name": "ipython",
    "version": 3
   },
   "file_extension": ".py",
   "mimetype": "text/x-python",
   "name": "python",
   "nbconvert_exporter": "python",
   "pygments_lexer": "ipython3",
   "version": "3.7.5"
  }
 },
 "nbformat": 4,
 "nbformat_minor": 5
}
