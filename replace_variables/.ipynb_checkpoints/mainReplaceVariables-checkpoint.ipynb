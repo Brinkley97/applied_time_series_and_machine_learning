{
 "cells": [
  {
   "cell_type": "markdown",
   "id": "33ca2fd8-5773-4c98-a8cd-fce924fdba17",
   "metadata": {},
   "source": [
    "# Storing data\n",
    "- questions -- A dictionary of question templates as the keys and values as list of specific questions\n",
    "- key_words_in_study -- A dictionary of the variables used in the study. Keys are the main variables and values are the sub variables. \n",
    "    - keys :: values\n",
    "        - group_1, group_2, behavioral, physiological values are lists\n",
    "        - demographic and xxx values are dict with their values as lists (see function to convert to demographic :: values are list)\n",
    "- def reformat_key_words_in_study -- Updates the structure of the key_words_in_study and stores in updated_key_words_in_study"
   ]
  },
  {
   "cell_type": "code",
   "execution_count": 1,
   "id": "1c6f67fc-02fd-498f-8c3e-99dd26216569",
   "metadata": {},
   "outputs": [],
   "source": [
    "# previously questions\n",
    "t_test_questions = {\n",
    "                    'what are differences in primarily *group_1* nurses and primarily *group_2* nurses for *demographic* ?': [],\n",
    "                    'what are differences in primarily *group_1* nurses and primarily *group_2* nurses for *behavioral* ?': [],\n",
    "}\n",
    "\n",
    "# three_way_anova_questions = {\n",
    "#             'what are some differences between primarily *group_1* nurses and primarily *group_2* nurses on daily *physiological* with the covariate *demographic* and the covariate *demographic*?': []\n",
    "# }"
   ]
  },
  {
   "cell_type": "code",
   "execution_count": 2,
   "id": "74979fb0-c09c-4c25-87ef-fd215a9a8e7b",
   "metadata": {},
   "outputs": [
    {
     "data": {
      "text/plain": [
       "{'what are differences in primarily *group_1* nurses and primarily *group_2* nurses for *demographic* ?': [],\n",
       " 'what are differences in primarily *group_1* nurses and primarily *group_2* nurses for *behavioral* ?': []}"
      ]
     },
     "execution_count": 2,
     "metadata": {},
     "output_type": "execute_result"
    }
   ],
   "source": [
    "t_test_questions"
   ]
  },
  {
   "cell_type": "code",
   "execution_count": 3,
   "id": "cd13c339-1878-4ef6-b542-067043bdf4bb",
   "metadata": {},
   "outputs": [],
   "source": [
    "# types_of_analysis = {\n",
    "#     't_test': [],\n",
    "#     'two_way_anova': [],\n",
    "#     'three_way_anova': [],\n",
    "# }"
   ]
  },
  {
   "cell_type": "code",
   "execution_count": 4,
   "id": "4f4f6275-2e1e-48ea-8ef8-2d34069e7cbb",
   "metadata": {},
   "outputs": [],
   "source": [
    "# types_of_analysis"
   ]
  },
  {
   "cell_type": "code",
   "execution_count": 5,
   "id": "a485465f-a4d6-42ac-97d1-b7e2ac07135b",
   "metadata": {},
   "outputs": [],
   "source": [
    "key_words_in_study = {\n",
    "                        'group_1': 'day-shift',\n",
    "                        'group_2': 'night-shift',\n",
    "                        'demographic':  {\n",
    "                            'Gender': ['Female', 'Male'],\n",
    "                            'Age': ['< 40 Years', '>= 40 Years'],\n",
    "                            'Educ': ['Some college or College', 'Graduate'],\n",
    "                            'native_lang': ['English', 'non-english'],\n",
    "                        },\n",
    "                        'behavioral': ['sleep quality (PSQI)', 'affect (PANAS)', 'anxiety (STAI)', 'life satisfaction (SWLS)', 'personality (BFI-2)'],\n",
    "                        'physiological': ['step count', 'heart rate', 'sleep', 'average rest-activity ratio', 'average walk activity ratio', 'average vigorous activity duration']\n",
    "    \n",
    "}"
   ]
  },
  {
   "cell_type": "code",
   "execution_count": 6,
   "id": "99a869f1-f9d0-459d-a52f-7993d312c0e2",
   "metadata": {},
   "outputs": [
    {
     "name": "stdout",
     "output_type": "stream",
     "text": [
      "group_1  ::  day-shift\n",
      "group_2  ::  night-shift\n",
      "demographic  ::  {'Gender': ['Female', 'Male'], 'Age': ['< 40 Years', '>= 40 Years'], 'Educ': ['College', 'Graduate'], 'native_lang': ['English', 'non-english']}\n",
      "behavioral  ::  ['sleep quality (PSQI)', 'affect (PANAS)', 'anxiety (STAI)', 'life satisfaction (SWLS)', 'personality (BFI-2)']\n",
      "physiological  ::  ['step count', 'heart rate', 'sleep', 'average rest-activity ratio', 'average walk activity ratio', 'average vigorous activity duration']\n"
     ]
    }
   ],
   "source": [
    "for key, value in key_words_in_study.items():\n",
    "    print(key, \" :: \", value)"
   ]
  },
  {
   "cell_type": "code",
   "execution_count": 7,
   "id": "61b78a3f-fff9-49a2-84c3-ce035a8a9721",
   "metadata": {},
   "outputs": [],
   "source": [
    "# def convert_demo_values(key_words_in_study):\n",
    "#     demo_values = list(key_words_in_study.values())[2]\n",
    "#     print(\"demo_values : \", demo_values)\n",
    "#     # demo_values = sum(demo_values, [])\n",
    "#     # print(\"demo_values: \", demo_values)\n",
    "    \n",
    "#     # for demo_value in demo_values:\n",
    "#     #     demo_var = demo_values[demo_value]\n",
    "        \n",
    "#     return demo_values[\"gender\"]"
   ]
  },
  {
   "cell_type": "code",
   "execution_count": 8,
   "id": "b6868b7c-df9d-4192-ad44-b2cb1f1d1c0c",
   "metadata": {},
   "outputs": [],
   "source": [
    "# convert_demo_values(key_words_in_study)"
   ]
  },
  {
   "cell_type": "markdown",
   "id": "026642f0-a42d-4aad-88a2-cbc27c18b2db",
   "metadata": {},
   "source": [
    "## Reformatting key words in study"
   ]
  },
  {
   "cell_type": "code",
   "execution_count": 9,
   "id": "38b3b2ed-14e5-4d5a-8e39-d4603c4168e6",
   "metadata": {},
   "outputs": [],
   "source": [
    "def reformat_key_words_in_study(key_words_in_study):\n",
    "   \n",
    "    '''Convert the values of that specific key in key words in study\n",
    "    \n",
    "    Argument:\n",
    "    key_words_in_study -- dict\n",
    "        keys -- str\n",
    "        values -- \n",
    "            str : group_1, group_2 (remain)\n",
    "            dict : gender, age, highest degree, native language (convert to list)\n",
    "            list : behavioral, physiological (remain)\n",
    "    Functions:\n",
    "    convert_demo_vars\n",
    "    '''\n",
    "    demo_vars = []\n",
    "    updated_key_words_in_study = key_words_in_study.copy()\n",
    "    replace_with_vars = list(updated_key_words_in_study.values()) \n",
    "    demo_keys = list(replace_with_vars[2].keys())\n",
    "    # demo_keys = sum(demo_keys, [])\n",
    "    demo_vals = list(replace_with_vars[2].values())\n",
    "    demo_vals = sum(demo_vals, [])\n",
    "    demo_vars.append(demo_keys)\n",
    "    demo_vars.append(demo_vals)\n",
    "    print(\"demo_vars : \", demo_vars)\n",
    "    \n",
    "    # if demo_val\n",
    "\n",
    "    updated_key_words_in_study[\"demographic\"] = sum(demo_vars, [])\n",
    "        \n",
    "    return updated_key_words_in_study"
   ]
  },
  {
   "cell_type": "code",
   "execution_count": 10,
   "id": "56dfd53a-333d-436a-b090-7e8acdbc4cfc",
   "metadata": {},
   "outputs": [
    {
     "name": "stdout",
     "output_type": "stream",
     "text": [
      "demo_vars :  [['Gender', 'Age', 'Educ', 'native_lang'], ['Female', 'Male', '< 40 Years', '>= 40 Years', 'College', 'Graduate', 'English', 'non-english']]\n"
     ]
    },
    {
     "data": {
      "text/plain": [
       "{'group_1': 'day-shift',\n",
       " 'group_2': 'night-shift',\n",
       " 'demographic': ['Gender',\n",
       "  'Age',\n",
       "  'Educ',\n",
       "  'native_lang',\n",
       "  'Female',\n",
       "  'Male',\n",
       "  '< 40 Years',\n",
       "  '>= 40 Years',\n",
       "  'College',\n",
       "  'Graduate',\n",
       "  'English',\n",
       "  'non-english'],\n",
       " 'behavioral': ['sleep quality (PSQI)',\n",
       "  'affect (PANAS)',\n",
       "  'anxiety (STAI)',\n",
       "  'life satisfaction (SWLS)',\n",
       "  'personality (BFI-2)'],\n",
       " 'physiological': ['step count',\n",
       "  'heart rate',\n",
       "  'sleep',\n",
       "  'average rest-activity ratio',\n",
       "  'average walk activity ratio',\n",
       "  'average vigorous activity duration']}"
      ]
     },
     "execution_count": 10,
     "metadata": {},
     "output_type": "execute_result"
    }
   ],
   "source": [
    "updated_key_words_in_study = reformat_key_words_in_study(key_words_in_study)\n",
    "updated_key_words_in_study"
   ]
  },
  {
   "cell_type": "code",
   "execution_count": 11,
   "id": "faa34c54-2158-442d-9bfe-1ca80f69380f",
   "metadata": {},
   "outputs": [
    {
     "data": {
      "text/plain": [
       "{'group_1': 'day-shift',\n",
       " 'group_2': 'night-shift',\n",
       " 'demographic': {'Gender': ['Female', 'Male'],\n",
       "  'Age': ['< 40 Years', '>= 40 Years'],\n",
       "  'Educ': ['College', 'Graduate'],\n",
       "  'native_lang': ['English', 'non-english']},\n",
       " 'behavioral': ['sleep quality (PSQI)',\n",
       "  'affect (PANAS)',\n",
       "  'anxiety (STAI)',\n",
       "  'life satisfaction (SWLS)',\n",
       "  'personality (BFI-2)'],\n",
       " 'physiological': ['step count',\n",
       "  'heart rate',\n",
       "  'sleep',\n",
       "  'average rest-activity ratio',\n",
       "  'average walk activity ratio',\n",
       "  'average vigorous activity duration']}"
      ]
     },
     "execution_count": 11,
     "metadata": {},
     "output_type": "execute_result"
    }
   ],
   "source": [
    "key_words_in_study"
   ]
  },
  {
   "cell_type": "code",
   "execution_count": 12,
   "id": "5bb095fb-ed88-4680-a7aa-c407ac23c5e2",
   "metadata": {},
   "outputs": [],
   "source": [
    "def convert_question_templates(t_test_questions):\n",
    "    '''Convert question templates to their own individual lists\n",
    "    \n",
    "    Arguments:\n",
    "    t_test_questions -- dict\n",
    "    \n",
    "    Return:\n",
    "    2D list with each index being a single question\n",
    "    '''\n",
    "    # print(type(questions), questions)\n",
    "    \n",
    "    # Convert from dict --> list\n",
    "    question_templates = list(t_test_questions.keys())\n",
    "    # print(type(question_templates), question_templates)\n",
    "    \n",
    "    specific_questions = []\n",
    "    \n",
    "    # Get specific question template\n",
    "    for question_template in range(len(question_templates)):\n",
    "        \n",
    "        specific_question_templates = []\n",
    "        \n",
    "        template_of_question = question_templates[question_template]\n",
    "        # print(type(template_of_question), template_of_question)\n",
    "        specific_question_templates.append(template_of_question)\n",
    "        # print(type(specific_question_templates), specific_question_templates)\n",
    "        specific_questions.append(specific_question_templates)\n",
    "    return specific_questions"
   ]
  },
  {
   "cell_type": "code",
   "execution_count": 13,
   "id": "d5d1e4e2-b16b-490e-8442-884017d55dec",
   "metadata": {},
   "outputs": [
    {
     "data": {
      "text/plain": [
       "[['what are differences in primarily *group_1* nurses and primarily *group_2* nurses for *demographic* ?'],\n",
       " ['what are differences in primarily *group_1* nurses and primarily *group_2* nurses for *behavioral* ?']]"
      ]
     },
     "execution_count": 13,
     "metadata": {},
     "output_type": "execute_result"
    }
   ],
   "source": [
    "converted_question_templates = convert_question_templates(t_test_questions)\n",
    "converted_question_templates"
   ]
  },
  {
   "cell_type": "code",
   "execution_count": 14,
   "id": "d3c773a4-744c-4b69-a49f-09c01d21a227",
   "metadata": {},
   "outputs": [],
   "source": [
    "# def replacement(specific_question_template, updated_key_words_in_study, key, find_matching_study_variable, matching_study_variables_start_index):\n",
    "#     '''Find matching study variables and replace with matching study values\n",
    "    \n",
    "#     Arguments:\n",
    "#     specific_question_template -- string\n",
    "#     updated_key_words_in_study_keys -- dict\n",
    "#     find_matching_study_variable -- string\n",
    "#     matching_study_variables_start_index -- int\n",
    "    \n",
    "#     '''\n",
    "   \n",
    "        \n",
    "#     return specific_question_template"
   ]
  },
  {
   "cell_type": "code",
   "execution_count": 15,
   "id": "1d04edc9-77f3-4098-b7df-dafdaf1ee200",
   "metadata": {},
   "outputs": [],
   "source": [
    "def generate_specific_questions(converted_question_templates, updated_key_words_in_study):\n",
    "    '''Cycle through each question template and return the specific questions\n",
    "    \n",
    "    Arguments:\n",
    "    converted_question_templates -- 2D list of question templates\n",
    "    updated_key_words_in_study -- dict\n",
    "    \n",
    "    Functions:\n",
    "    convert_question_templates -- dict --> list\n",
    "    '''\n",
    "    \n",
    "    updated_key_words_in_study_keys = list(updated_key_words_in_study.keys())\n",
    "    updated_key_words_in_study_values = list(updated_key_words_in_study.values())\n",
    "    question_templates = converted_question_templates\n",
    "    # print(type(updated_key_words_in_study), updated_key_words_in_study, \"\\n\\n\",\n",
    "    #       type(updated_key_words_in_study_keys), updated_key_words_in_study_keys, \"\\n\\n\",\n",
    "    #       type(updated_key_words_in_study_values), updated_key_words_in_study_values, \"\\n\\n\",\n",
    "    #       type(converted_question_templates), converted_question_templates)\n",
    "\n",
    "    specific_questions = []\n",
    "    \n",
    "    # Get specific question template\n",
    "    for question_template in range(len(question_templates)):\n",
    "        \n",
    "        # Reset every new specific_question_template\n",
    "        \n",
    "        specific_question_template = ''.join(question_templates[question_template])\n",
    "        # print(\"...\", type(specific_question_template), specific_question_template)   \n",
    "        \n",
    "        \n",
    "        # Replace matching variables \n",
    "        for index_of_key, key in enumerate(updated_key_words_in_study_keys): \n",
    "            # print((index_of_key, key))\n",
    "            \n",
    "            matching_study_variables_start_index = specific_question_template.find(key)\n",
    "            # print(matching_study_variables_start_index)\n",
    "            \n",
    "            \n",
    "            if matching_study_variables_start_index != -1:\n",
    "                specific_question_templates = []\n",
    "                # key_word_is_in_sqt = True\n",
    "                # print((index_of_key, key))\n",
    "                # print(key_word_is_in_sqt)\n",
    "                value_in_key = updated_key_words_in_study[key]\n",
    "                # print(\"\\n\",(index_of_key, key), \"is of type\", type(value_in_key))\n",
    "                key_words_values_is_type_list = isinstance(updated_key_words_in_study[key], list) \n",
    "                \n",
    "                # print(\"...\", type(specific_question_template), specific_question_template)\n",
    "                if key_words_values_is_type_list == True:\n",
    "                    for value in value_in_key:\n",
    "                        # value = \n",
    "                        # print(value, value_in_key)\n",
    "                        replace = specific_question_template.replace(key, value)\n",
    "                        # print(\"\\n>>\", replace)\n",
    "                        key = value\n",
    "                        # print(\"key: \", key)\n",
    "                        specific_question_template = replace\n",
    "                        specific_question_templates.append(specific_question_template)\n",
    "                        # print(\"specific_question_templates : \", specific_question_templates)\n",
    "                        \n",
    "                else:\n",
    "                    replace = specific_question_template.replace(key, value_in_key)\n",
    "                    # print(\"\\n>>\", replace)\n",
    "                    # key = value\n",
    "                    # print(\"key: \", key)\n",
    "                    specific_question_template = replace\n",
    "                    specific_question_templates.append(specific_question_template)\n",
    "                    \n",
    "                    # print(\"specific_question_templates : \", specific_question_templates)\n",
    "            else:\n",
    "                # key_word_is_in_sqt = False\n",
    "                # print(key_word_is_in_sqt)\n",
    "                continue\n",
    "        specific_questions.append(specific_question_templates)\n",
    "            \n",
    "        # print(specific_questions)\n",
    "    return specific_questions"
   ]
  },
  {
   "cell_type": "code",
   "execution_count": 16,
   "id": "9e1ff1ef-451f-4ebf-9381-0f1e128582d0",
   "metadata": {},
   "outputs": [
    {
     "data": {
      "text/plain": [
       "[['what are differences in primarily *day-shift* nurses and primarily *night-shift* nurses for *Gender* ?',\n",
       "  'what are differences in primarily *day-shift* nurses and primarily *night-shift* nurses for *Age* ?',\n",
       "  'what are differences in primarily *day-shift* nurses and primarily *night-shift* nurses for *Educ* ?',\n",
       "  'what are differences in primarily *day-shift* nurses and primarily *night-shift* nurses for *native_lang* ?',\n",
       "  'what are differences in primarily *day-shift* nurses and primarily *night-shift* nurses for *Female* ?',\n",
       "  'what are differences in primarily *day-shift* nurses and primarily *night-shift* nurses for *Male* ?',\n",
       "  'what are differences in primarily *day-shift* nurses and primarily *night-shift* nurses for *< 40 Years* ?',\n",
       "  'what are differences in primarily *day-shift* nurses and primarily *night-shift* nurses for *>= 40 Years* ?',\n",
       "  'what are differences in primarily *day-shift* nurses and primarily *night-shift* nurses for *College* ?',\n",
       "  'what are differences in primarily *day-shift* nurses and primarily *night-shift* nurses for *Graduate* ?',\n",
       "  'what are differences in primarily *day-shift* nurses and primarily *night-shift* nurses for *English* ?',\n",
       "  'what are differences in primarily *day-shift* nurses and primarily *night-shift* nurses for *non-english* ?'],\n",
       " ['what are differences in primarily *day-shift* nurses and primarily *night-shift* nurses for *sleep quality (PSQI)* ?',\n",
       "  'what are differences in primarily *day-shift* nurses and primarily *night-shift* nurses for *affect (PANAS)* ?',\n",
       "  'what are differences in primarily *day-shift* nurses and primarily *night-shift* nurses for *anxiety (STAI)* ?',\n",
       "  'what are differences in primarily *day-shift* nurses and primarily *night-shift* nurses for *life satisfaction (SWLS)* ?',\n",
       "  'what are differences in primarily *day-shift* nurses and primarily *night-shift* nurses for *personality (BFI-2)* ?']]"
      ]
     },
     "execution_count": 16,
     "metadata": {},
     "output_type": "execute_result"
    }
   ],
   "source": [
    "specific_questions = generate_specific_questions(converted_question_templates, updated_key_words_in_study)\n",
    "specific_questions"
   ]
  },
  {
   "cell_type": "markdown",
   "id": "fc6dad40-1fbf-4437-92a1-591850b0b793",
   "metadata": {},
   "source": [
    "# Update original dictionary with specific questions"
   ]
  },
  {
   "cell_type": "code",
   "execution_count": 17,
   "id": "3ecda57c-d3a1-4c99-a3e0-918d2d89456f",
   "metadata": {},
   "outputs": [],
   "source": [
    "def update_questions(t_test_questions):\n",
    "    '''\n",
    "    Arguments:\n",
    "    questions -- dict\n",
    "    \n",
    "    '''\n",
    "    question_keys = list(t_test_questions.keys())\n",
    "    # print(question_keys)\n",
    "    # types_of_analysis_keys = list(types_of_analysis.keys())\n",
    "   \n",
    "\n",
    "    idx = 0 \n",
    "    for specific_question in range(len(specific_questions)):\n",
    "        question_key = question_keys[idx]\n",
    "        t_test_questions[question_key] = specific_questions[specific_question]\n",
    "                                  \n",
    "                                  \n",
    "        idx = idx + 1 \n",
    "    \n",
    "    return t_test_questions"
   ]
  },
  {
   "cell_type": "code",
   "execution_count": 18,
   "id": "65695e11-d95c-4158-b8d8-1d10db08cb21",
   "metadata": {},
   "outputs": [
    {
     "data": {
      "text/plain": [
       "{'what are differences in primarily *group_1* nurses and primarily *group_2* nurses for *demographic* ?': ['what are differences in primarily *day-shift* nurses and primarily *night-shift* nurses for *Gender* ?',\n",
       "  'what are differences in primarily *day-shift* nurses and primarily *night-shift* nurses for *Age* ?',\n",
       "  'what are differences in primarily *day-shift* nurses and primarily *night-shift* nurses for *Educ* ?',\n",
       "  'what are differences in primarily *day-shift* nurses and primarily *night-shift* nurses for *native_lang* ?',\n",
       "  'what are differences in primarily *day-shift* nurses and primarily *night-shift* nurses for *Female* ?',\n",
       "  'what are differences in primarily *day-shift* nurses and primarily *night-shift* nurses for *Male* ?',\n",
       "  'what are differences in primarily *day-shift* nurses and primarily *night-shift* nurses for *< 40 Years* ?',\n",
       "  'what are differences in primarily *day-shift* nurses and primarily *night-shift* nurses for *>= 40 Years* ?',\n",
       "  'what are differences in primarily *day-shift* nurses and primarily *night-shift* nurses for *College* ?',\n",
       "  'what are differences in primarily *day-shift* nurses and primarily *night-shift* nurses for *Graduate* ?',\n",
       "  'what are differences in primarily *day-shift* nurses and primarily *night-shift* nurses for *English* ?',\n",
       "  'what are differences in primarily *day-shift* nurses and primarily *night-shift* nurses for *non-english* ?'],\n",
       " 'what are differences in primarily *group_1* nurses and primarily *group_2* nurses for *behavioral* ?': ['what are differences in primarily *day-shift* nurses and primarily *night-shift* nurses for *sleep quality (PSQI)* ?',\n",
       "  'what are differences in primarily *day-shift* nurses and primarily *night-shift* nurses for *affect (PANAS)* ?',\n",
       "  'what are differences in primarily *day-shift* nurses and primarily *night-shift* nurses for *anxiety (STAI)* ?',\n",
       "  'what are differences in primarily *day-shift* nurses and primarily *night-shift* nurses for *life satisfaction (SWLS)* ?',\n",
       "  'what are differences in primarily *day-shift* nurses and primarily *night-shift* nurses for *personality (BFI-2)* ?']}"
      ]
     },
     "execution_count": 18,
     "metadata": {},
     "output_type": "execute_result"
    }
   ],
   "source": [
    "update_questions(t_test_questions)"
   ]
  },
  {
   "cell_type": "code",
   "execution_count": 19,
   "id": "33edb995-cb12-485d-888a-50d5dd2b5d72",
   "metadata": {},
   "outputs": [
    {
     "data": {
      "text/plain": [
       "['what are differences in primarily *day-shift* nurses and primarily *night-shift* nurses for *sleep quality (PSQI)* ?',\n",
       " 'what are differences in primarily *day-shift* nurses and primarily *night-shift* nurses for *affect (PANAS)* ?',\n",
       " 'what are differences in primarily *day-shift* nurses and primarily *night-shift* nurses for *anxiety (STAI)* ?',\n",
       " 'what are differences in primarily *day-shift* nurses and primarily *night-shift* nurses for *life satisfaction (SWLS)* ?',\n",
       " 'what are differences in primarily *day-shift* nurses and primarily *night-shift* nurses for *personality (BFI-2)* ?']"
      ]
     },
     "execution_count": 19,
     "metadata": {},
     "output_type": "execute_result"
    }
   ],
   "source": [
    "list(t_test_questions.values())[1]"
   ]
  },
  {
   "cell_type": "markdown",
   "id": "7b097433-d6e2-4266-b01a-c948c57f92d0",
   "metadata": {},
   "source": [
    "---\n",
    "# Key words match dataframe's key words"
   ]
  },
  {
   "cell_type": "code",
   "execution_count": 20,
   "id": "3f5ce7d9-997f-48da-a720-52484a0c5c90",
   "metadata": {},
   "outputs": [],
   "source": [
    "# import numpy as np\n",
    "# import pandas as pd\n",
    "# from scipy import stats"
   ]
  },
  {
   "cell_type": "code",
   "execution_count": 21,
   "id": "28fd8435-fa29-4b5a-9210-8bce635eb230",
   "metadata": {},
   "outputs": [],
   "source": [
    "# def generate_df():\n",
    "    \n",
    "#     data = np.array([\n",
    "#                     [39.4+6.3, 35.4+6.45],\n",
    "#                     [39.4-6.3, 35.4-6.45],\n",
    "#     ])\n",
    "    \n",
    "#     df = pd.DataFrame(data, columns=[\"*day - sleep quality (PSQI)*\", \"*night - sleep quality (PSQI)*\"])\n",
    "    \n",
    "#     return df"
   ]
  },
  {
   "cell_type": "code",
   "execution_count": 22,
   "id": "befa0ded-d36c-4773-9952-10a47fc37b51",
   "metadata": {},
   "outputs": [],
   "source": [
    "# df = generate_df()\n",
    "# df"
   ]
  },
  {
   "cell_type": "code",
   "execution_count": 23,
   "id": "b7e8ef9e-dc1a-476b-af7d-47c92f30516c",
   "metadata": {},
   "outputs": [],
   "source": [
    "# day_psqi = df[\"*day - sleep quality (PSQI)*\"]\n",
    "# # print(day_psqi)\n",
    "# mean_of_day_psqi = round(day_psqi.mean(), 1)\n",
    "# std_of_day_psqi = round(day_psqi.std(), 1)\n",
    "# print(mean_of_day_psqi, std_of_day_psqi)\n",
    "\n",
    "# night_psqi = df[\"*night - sleep quality (PSQI)*\"]\n",
    "# # print(night_psqi)\n",
    "# mean_of_night_psqi = round(night_psqi.mean(), 1)\n",
    "# std_of_night_psqi = round(night_psqi.std(), 1)\n",
    "# print(mean_of_night_psqi, std_of_night_psqi)"
   ]
  },
  {
   "cell_type": "code",
   "execution_count": null,
   "id": "2b05e1fd-d5d1-45ad-80fa-e280ec804abd",
   "metadata": {},
   "outputs": [],
   "source": []
  },
  {
   "cell_type": "code",
   "execution_count": 24,
   "id": "0767448f-4e37-421f-b16d-89debe82598f",
   "metadata": {},
   "outputs": [],
   "source": [
    "# p_value_out = stats.mstats.ttest_ind(day_psqi, night_psqi)\n",
    "# p_value_out"
   ]
  },
  {
   "cell_type": "code",
   "execution_count": null,
   "id": "91060c71-e1f8-4ea7-8d00-a38a356efe17",
   "metadata": {},
   "outputs": [],
   "source": []
  },
  {
   "cell_type": "code",
   "execution_count": 25,
   "id": "f6b7b591-a05e-46dd-a97a-a2f9728da8a1",
   "metadata": {},
   "outputs": [],
   "source": [
    "# data_columns = list(df.keys())\n",
    "# data_columns"
   ]
  },
  {
   "cell_type": "code",
   "execution_count": 26,
   "id": "18633626-0938-4c32-beb1-f43f2bacfa1d",
   "metadata": {},
   "outputs": [],
   "source": [
    "# behav_qt_sqs = list(t_test_questions.values())[1]\n",
    "# behav_qt_sqs"
   ]
  },
  {
   "cell_type": "code",
   "execution_count": 27,
   "id": "04b1612f-55dc-479c-9a94-4b5260935ba3",
   "metadata": {},
   "outputs": [],
   "source": [
    "# behav_sq_1 = behav_qt_sqs[0]\n",
    "# behav_sq_1"
   ]
  },
  {
   "cell_type": "code",
   "execution_count": 28,
   "id": "e4188010-4c87-4fc1-a96c-7781f7ff1739",
   "metadata": {},
   "outputs": [],
   "source": [
    "# words_in_sq_1 = behav_sq_1.split(\" \")\n",
    "# words_in_sq_1"
   ]
  },
  {
   "cell_type": "code",
   "execution_count": 29,
   "id": "b188aed0-1211-4dc8-8ce7-ef2f237d3b2e",
   "metadata": {},
   "outputs": [],
   "source": [
    "# for word in words_in_sq_1:\n",
    "#     print(word)\n",
    "#     if word in data_columns:\n",
    "#         print(True)\n",
    "        "
   ]
  },
  {
   "cell_type": "code",
   "execution_count": 30,
   "id": "522bdef2-61a5-4eb0-a821-12cafe7e5745",
   "metadata": {},
   "outputs": [],
   "source": [
    "# def sort_by_matching_cols():\n",
    "\n",
    "#     sorted_data = []\n",
    "#     for col in data_columns:\n",
    "\n",
    "\n",
    "#         # print(col)\n",
    "#         if col in words_in_sq_1:\n",
    "#             # print(True)\n",
    "#             sorted_df = df.loc[:, col]\n",
    "#             # print(sorted_df)\n",
    "#             sorted_data.append(sorted_df)\n",
    "#             data = pd.DataFrame(sorted_data)\n",
    "#             # print(\"data : \", data.T)\n",
    "#     return data.T"
   ]
  },
  {
   "cell_type": "code",
   "execution_count": 31,
   "id": "8b8d19c9-1caf-44c3-8b16-61d3ba9c8710",
   "metadata": {},
   "outputs": [],
   "source": [
    "# data = sort_by_matching_cols()\n",
    "# data"
   ]
  },
  {
   "cell_type": "code",
   "execution_count": 32,
   "id": "abd793ed-8a3f-47ef-9f5a-319e8990c14d",
   "metadata": {},
   "outputs": [],
   "source": [
    "# mean = []\n",
    "# grand_mean = []\n",
    "# variance = []\n",
    "# grand_variance = []\n",
    "# sum_of_squares = []\n",
    "# degrees_of_freedom = []\n",
    "# mean_square = []\n",
    "\n",
    "# def calc_statistical_data(data):\n",
    "    \n",
    "#     '''\n",
    "#     Descriptives Data\n",
    "#         Mean\n",
    "#         Grand mean\n",
    "#         Variance\n",
    "#         Grand variance\n",
    "#     '''\n",
    "#     mean.append(data.mean())\n",
    "#     grand_mean.append(np.mean(mean))\n",
    "#     variance.append(round(data.var(), 1))\n",
    "#     # grand_variance.append(round((np.sum(variance)/3), 1))\n",
    "    \n",
    "#     '''\n",
    "#     Sum of squares between groups\n",
    "#     '''\n",
    "#     gm_mean_diff = np.subtract(grand_mean, mean)\n",
    "#     gm_mean_diff_per_group_squared = np.square(gm_mean_diff)\n",
    "#     sum_of_squares_between = round(np.sum(np.multiply(data.shape[0], gm_mean_diff_per_group_squared)), 3)\n",
    "#     sum_of_squares.append(sum_of_squares_between)\n",
    "    \n",
    "\n",
    "#     '''\n",
    "#     Sum of squares within groups\n",
    "#     '''\n",
    "#     datapoint_mean_diff = np.subtract(data, mean)\n",
    "#     datapoint_mean_diff_per_group_squared = np.square(datapoint_mean_diff)\n",
    "#     sum_of_squares_within = round(np.sum(np.sum(datapoint_mean_diff_per_group_squared)), 3)\n",
    "#     sum_of_squares.append(sum_of_squares_within)\n",
    "    \n",
    "    \n",
    "#     '''\n",
    "#     Total sum of squares\n",
    "#     '''\n",
    "#     sum_of_squares_total = round((sum_of_squares_between + sum_of_squares_within), 3)\n",
    "#     sum_of_squares.append(sum_of_squares_total)\n",
    "    \n",
    "#     '''\n",
    "#     Degrees of freedom\n",
    "#     '''\n",
    "#     degrees_of_freedom_between = data.shape[1] - 1\n",
    "#     degrees_of_freedom.append(degrees_of_freedom_between)\n",
    "#     degrees_of_freedom_within = (data.shape[0] * data.shape[1]) - data.shape[1]\n",
    "#     degrees_of_freedom.append(degrees_of_freedom_within)\n",
    "#     degrees_of_freedom_total = degrees_of_freedom_between + degrees_of_freedom_within\n",
    "#     degrees_of_freedom.append(degrees_of_freedom_total)\n",
    "    \n",
    "#     '''\n",
    "#     Mean square\n",
    "#     '''\n",
    "#     mean_square_between = round((sum_of_squares_between / degrees_of_freedom_between), 3)\n",
    "#     mean_square.append(mean_square_between)\n",
    "#     mean_square_within = round((sum_of_squares_within / degrees_of_freedom_within), 3)\n",
    "#     mean_square.append(mean_square_within)\n",
    "\n",
    "    \n",
    "#     '''\n",
    "#     F\n",
    "#     '''\n",
    "#     f_score = round((mean_square_between / mean_square_within), 3)\n",
    "    \n",
    "    \n",
    "#     '''\n",
    "#     Significance\n",
    "#     '''\n",
    "# #     total = 0\n",
    "# #     for ms in mean_square:\n",
    "# #         if any(ms >= mean_square):\n",
    "# #             total += 1\n",
    "    \n",
    "# #     significance_p_value = total\n",
    "#     significance_p_value = np.sum(np.random.f(degrees_of_freedom_between, degrees_of_freedom_within, size=30))\n",
    "#     # significance_p_value = ttest_ind(data[0], data[1])\n",
    "    \n",
    "#     '''\n",
    "#     Effect size\n",
    "#     '''\n",
    "#     effect_size_eta_squared = round(sum_of_squares_between / (sum_of_squares_between + sum_of_squares_within), 2)\n",
    "    \n",
    "#     return mean, grand_mean, variance, grand_variance, sum_of_squares, degrees_of_freedom, mean_square, f_score, significance_p_value, effect_size_eta_squared"
   ]
  },
  {
   "cell_type": "code",
   "execution_count": 33,
   "id": "f9f0a179-7dfa-4e27-b5d4-39023cad01af",
   "metadata": {},
   "outputs": [],
   "source": [
    "# calc_statistical_data(data)"
   ]
  },
  {
   "cell_type": "code",
   "execution_count": null,
   "id": "e9371863-c35f-4bd3-8c5d-7c351cda1fc4",
   "metadata": {},
   "outputs": [],
   "source": []
  }
 ],
 "metadata": {
  "kernelspec": {
   "display_name": "Python 3",
   "language": "python",
   "name": "python3"
  },
  "language_info": {
   "codemirror_mode": {
    "name": "ipython",
    "version": 3
   },
   "file_extension": ".py",
   "mimetype": "text/x-python",
   "name": "python",
   "nbconvert_exporter": "python",
   "pygments_lexer": "ipython3",
   "version": "3.7.5"
  }
 },
 "nbformat": 4,
 "nbformat_minor": 5
}
