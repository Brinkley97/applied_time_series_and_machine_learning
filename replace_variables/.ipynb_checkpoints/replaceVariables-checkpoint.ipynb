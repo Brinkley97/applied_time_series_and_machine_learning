{
 "cells": [
  {
   "cell_type": "markdown",
   "id": "b9586198-42a4-48a0-a68b-d3cbcd07b4b0",
   "metadata": {},
   "source": [
    "# Create Specific Questions from Question Template\n",
    "- reference : https://www.geeksforgeeks.org/python-replace-k-with-multiple-values/"
   ]
  },
  {
   "cell_type": "code",
   "execution_count": 218,
   "id": "a4751d0b-f34d-4955-9fdf-7eb336ef859e",
   "metadata": {},
   "outputs": [],
   "source": [
    "import numpy as np\n",
    "from collections import OrderedDict\n"
   ]
  },
  {
   "cell_type": "code",
   "execution_count": 2,
   "id": "0c36428a-4db6-4507-94d7-10605b0cc0b6",
   "metadata": {},
   "outputs": [
    {
     "name": "stdout",
     "output_type": "stream",
     "text": [
      "group  ::  {'group_1': ['day-shift'], 'group_2': ['night-shift']}\n",
      "demographic_variables  ::  {'gender': ['female', 'male'], 'age': ['<40', '<=40'], 'highest degree': ['college', 'graduate'], 'native language': ['english', 'non-english']}\n",
      "key_words_in_template  ::  ['group_1', 'group_2', 'demographic', 'behavioral']\n"
     ]
    }
   ],
   "source": [
    "key_words_in_study = {\n",
    "                        'group': {\n",
    "                            'group_1': ['day-shift'],\n",
    "                            'group_2': ['night-shift'],\n",
    "                        },\n",
    "                        'demographic_variables':  {\n",
    "                            'gender': ['female', 'male'],\n",
    "                            'age': ['<40', '<=40'],\n",
    "                            'highest degree': ['college', 'graduate'],\n",
    "                            'native language': ['english', 'non-english'],\n",
    "                        },\n",
    "                        'key_words_in_template': ['group_1', 'group_2', 'demographic', 'behavioral']\n",
    "}\n",
    "\n",
    "replace_key_words_with_keys = []\n",
    "replace_key_words_with_values = []\n",
    "\n",
    "for key, value in key_words_in_study.items():\n",
    "    print(key, \" :: \", value)"
   ]
  },
  {
   "cell_type": "code",
   "execution_count": 8,
   "id": "7f230dc8-96b6-4721-aad8-a9ee14a2dc09",
   "metadata": {},
   "outputs": [
    {
     "data": {
      "text/plain": [
       "{'group_1': ['day-shift'], 'group_2': ['night-shift']}"
      ]
     },
     "execution_count": 8,
     "metadata": {},
     "output_type": "execute_result"
    }
   ],
   "source": [
    "group = key_words_in_study['group']\n",
    "group "
   ]
  },
  {
   "cell_type": "code",
   "execution_count": null,
   "id": "c1096ba7-cdc9-45dd-9446-98a0a7ffbb31",
   "metadata": {},
   "outputs": [],
   "source": [
    "group1 = group['group_1']\n",
    "group1"
   ]
  },
  {
   "cell_type": "code",
   "execution_count": null,
   "id": "d171485a-83de-4081-a36b-5085d3f6c3fa",
   "metadata": {},
   "outputs": [],
   "source": [
    "demographic_variables = key_words_in_study['demographic_variables']\n",
    "demographic_variables"
   ]
  },
  {
   "cell_type": "code",
   "execution_count": 5,
   "id": "7ea37bdb-453f-4ea4-982e-0762f89ff638",
   "metadata": {},
   "outputs": [
    {
     "data": {
      "text/plain": [
       "['group_1', 'group_2', 'demographic', 'behavioral']"
      ]
     },
     "execution_count": 5,
     "metadata": {},
     "output_type": "execute_result"
    }
   ],
   "source": [
    "template_key_words = key_words_in_study['key_words_in_template']\n",
    "template_key_words"
   ]
  },
  {
   "cell_type": "code",
   "execution_count": 49,
   "id": "a6ec4110-ca8b-4b73-95cb-50824a7aec23",
   "metadata": {},
   "outputs": [
    {
     "data": {
      "text/plain": [
       "{'group_1': 'day-shift', 'group_2': 'night-shift'}"
      ]
     },
     "execution_count": 49,
     "metadata": {},
     "output_type": "execute_result"
    }
   ],
   "source": [
    "group = {\n",
    "        'group_1': 'day-shift',\n",
    "        'group_2': 'night-shift',\n",
    "\n",
    "}\n",
    "group"
   ]
  },
  {
   "cell_type": "code",
   "execution_count": 3,
   "id": "2962a25a-d3ea-4549-acc3-9852e6018d6d",
   "metadata": {},
   "outputs": [
    {
     "name": "stdout",
     "output_type": "stream",
     "text": [
      "{'what are differences in primarily <group_1> nurses and primarily <group_2> nurses for <demographic behavioral>?': []}\n"
     ]
    }
   ],
   "source": [
    "question_templates = {\n",
    "                    'what are differences in primarily <group_1> nurses and primarily <group_2> nurses for <demographic behavioral>?': []\n",
    "                    }\n",
    "print(question_templates)"
   ]
  },
  {
   "cell_type": "code",
   "execution_count": 9,
   "id": "8a634877-b20f-4351-b64c-65812f4c99e6",
   "metadata": {},
   "outputs": [
    {
     "data": {
      "text/plain": [
       "dict_keys(['what are differences in primarily <group_1> nurses and primarily <group_2> nurses for <demographic behavioral>?'])"
      ]
     },
     "execution_count": 9,
     "metadata": {},
     "output_type": "execute_result"
    }
   ],
   "source": [
    "question_templates_keys = question_templates.keys()\n",
    "question_templates_keys"
   ]
  },
  {
   "cell_type": "code",
   "execution_count": null,
   "id": "07b484b0-d45b-43f1-b412-a5ca21788dca",
   "metadata": {},
   "outputs": [],
   "source": [
    "'''\n",
    "COMPLETED : \n",
    "Take in dict_keys\n",
    "Convert dict_keys to list where each word is it's own string\n",
    "Get each word\n",
    "Compare each word to key words\n",
    "Print True where word matches\n",
    "TODO : \n",
    "    Replace matching word and store in string\n",
    "    Add new strings as value in question_templates\n",
    "'''\n",
    "specific_question = []\n",
    "i = 0\n",
    "for key in question_templates_keys:\n",
    "    words_in_key = key.split()\n",
    "    print(words_in_key)\n",
    "    \n",
    "    for word_in_key in range(len(words_in_key)):\n",
    "        specific_word = words_in_key[word_in_key]\n",
    "        \n",
    "        \n",
    "#         if specific_word in key_words:\n",
    "#             # print(\"key word : \", specific_word, word_in_key, True)\n",
    "#             replacement = specific_word.replace(specific_word, replace_key_words_with_keys.iteritems())\n",
    "#             specific_question.append(replacement)\n",
    "#             i += 1\n",
    "#         else:\n",
    "#             # print(specific_word)\n",
    "#             specific_question.append(specific_word)\n",
    "# specific_question"
   ]
  },
  {
   "cell_type": "code",
   "execution_count": null,
   "id": "5abc219e-dcf2-4313-b08e-80245002ac26",
   "metadata": {},
   "outputs": [],
   "source": [
    "'''\n",
    "Use str.replace(), where str is a type and .replace() is a method\n",
    "'''\n",
    "for key in question_templates_keys:\n",
    "    words_in_key = key.split()\n",
    "    print(\"question template : \\n\", words_in_key)\n",
    "    for key_word in key_words:\n",
    "        replace = str(words_in_key).replace('<group_1>', 'day-shift')\n",
    "        print(\"\\nspecific question : \\n\", replace)"
   ]
  },
  {
   "cell_type": "code",
   "execution_count": null,
   "id": "a2f9f827-7b8e-4ba4-831e-7efcbe3882ee",
   "metadata": {},
   "outputs": [],
   "source": []
  },
  {
   "cell_type": "code",
   "execution_count": 213,
   "id": "ca1a3f30-5eb1-40eb-b9af-17b39003c908",
   "metadata": {},
   "outputs": [],
   "source": [
    "words_from_question_tempate = []\n",
    "def format_question(question_templates_keys):\n",
    "    \n",
    "    for key in question_templates_keys:\n",
    "        words_in_question_template = key.split()\n",
    "        # print(words_in_question_template)\n",
    "        \n",
    "        for word_in_question_template in range(len(words_in_question_template)):\n",
    "            question_template_word = words_in_question_template[word_in_question_template]\n",
    "            quest_temp_word = question_template_word.translate({ord(special_character): None for special_character in '<>?'})\n",
    "            # print(quest_temp_word)\n",
    "            \n",
    "            words_from_question_tempate.append(quest_temp_word)\n",
    "            \n",
    "    return words_from_question_tempate\n",
    "words_from_question_tempate = []\n"
   ]
  },
  {
   "cell_type": "code",
   "execution_count": 214,
   "id": "9da84515-ca2b-4284-88f4-c5697f8cc238",
   "metadata": {},
   "outputs": [
    {
     "data": {
      "text/plain": [
       "['what',\n",
       " 'are',\n",
       " 'differences',\n",
       " 'in',\n",
       " 'primarily',\n",
       " 'group_1',\n",
       " 'nurses',\n",
       " 'and',\n",
       " 'primarily',\n",
       " 'group_2',\n",
       " 'nurses',\n",
       " 'for',\n",
       " 'demographic',\n",
       " 'behavioral']"
      ]
     },
     "execution_count": 214,
     "metadata": {},
     "output_type": "execute_result"
    }
   ],
   "source": [
    "a = format_question(question_templates_keys)\n",
    "a"
   ]
  },
  {
   "cell_type": "code",
   "execution_count": null,
   "id": "404162e9-9bc0-408a-85bc-b2cce6a575da",
   "metadata": {},
   "outputs": [],
   "source": []
  },
  {
   "cell_type": "code",
   "execution_count": null,
   "id": "833f51fe-8db0-4f82-9642-2fa1b89a2cb4",
   "metadata": {},
   "outputs": [],
   "source": [
    "[any(a) == any(template_key_words)]"
   ]
  },
  {
   "cell_type": "code",
   "execution_count": 54,
   "id": "81a3d913-c087-490c-a2b6-b6ff5db60427",
   "metadata": {},
   "outputs": [],
   "source": [
    "words_to_replace = []\n",
    "\n",
    "def get_words_to_replace(words_from_question_tempate):\n",
    "\n",
    "    for word_from_question_template in range(len(words_from_question_tempate)):\n",
    "        word = words_from_question_tempate[word_from_question_template]\n",
    "        # print(word_from_question_template, word)\n",
    "        cdd = ' '.join(a) \n",
    "        # print(cdd)\n",
    "        # mmm = [x for x in template_key_words]\n",
    "        # print(mmm)\n",
    "        # if word == mmm:\n",
    "        #     print(True)\n",
    "#         for k in range(len(template_key_words)):\n",
    "#             print(k, template_key_words[k])\n",
    "            \n",
    "#             if template_key_words[k] == word:\n",
    "#                 print(True)\n",
    "#                 c = word.replace(word, \"0000\")\n",
    "#                 print(c)\n",
    "        for k in group.keys():\n",
    "            # print(\"000\")\n",
    "            addddd = cdd.replace(k, group[k])\n",
    "            print(addddd)\n",
    "    return words_to_replace"
   ]
  },
  {
   "cell_type": "code",
   "execution_count": 55,
   "id": "ce732388-e191-4d8c-a0cf-c1ac5e7484d2",
   "metadata": {},
   "outputs": [
    {
     "name": "stdout",
     "output_type": "stream",
     "text": [
      "what are differences in primarily day-shift nurses and primarily group_2 nurses for demographic behavioral\n",
      "what are differences in primarily group_1 nurses and primarily night-shift nurses for demographic behavioral\n",
      "what are differences in primarily day-shift nurses and primarily group_2 nurses for demographic behavioral\n",
      "what are differences in primarily group_1 nurses and primarily night-shift nurses for demographic behavioral\n",
      "what are differences in primarily day-shift nurses and primarily group_2 nurses for demographic behavioral\n",
      "what are differences in primarily group_1 nurses and primarily night-shift nurses for demographic behavioral\n",
      "what are differences in primarily day-shift nurses and primarily group_2 nurses for demographic behavioral\n",
      "what are differences in primarily group_1 nurses and primarily night-shift nurses for demographic behavioral\n",
      "what are differences in primarily day-shift nurses and primarily group_2 nurses for demographic behavioral\n",
      "what are differences in primarily group_1 nurses and primarily night-shift nurses for demographic behavioral\n",
      "what are differences in primarily day-shift nurses and primarily group_2 nurses for demographic behavioral\n",
      "what are differences in primarily group_1 nurses and primarily night-shift nurses for demographic behavioral\n",
      "what are differences in primarily day-shift nurses and primarily group_2 nurses for demographic behavioral\n",
      "what are differences in primarily group_1 nurses and primarily night-shift nurses for demographic behavioral\n",
      "what are differences in primarily day-shift nurses and primarily group_2 nurses for demographic behavioral\n",
      "what are differences in primarily group_1 nurses and primarily night-shift nurses for demographic behavioral\n",
      "what are differences in primarily day-shift nurses and primarily group_2 nurses for demographic behavioral\n",
      "what are differences in primarily group_1 nurses and primarily night-shift nurses for demographic behavioral\n",
      "what are differences in primarily day-shift nurses and primarily group_2 nurses for demographic behavioral\n",
      "what are differences in primarily group_1 nurses and primarily night-shift nurses for demographic behavioral\n",
      "what are differences in primarily day-shift nurses and primarily group_2 nurses for demographic behavioral\n",
      "what are differences in primarily group_1 nurses and primarily night-shift nurses for demographic behavioral\n",
      "what are differences in primarily day-shift nurses and primarily group_2 nurses for demographic behavioral\n",
      "what are differences in primarily group_1 nurses and primarily night-shift nurses for demographic behavioral\n",
      "what are differences in primarily day-shift nurses and primarily group_2 nurses for demographic behavioral\n",
      "what are differences in primarily group_1 nurses and primarily night-shift nurses for demographic behavioral\n",
      "what are differences in primarily day-shift nurses and primarily group_2 nurses for demographic behavioral\n",
      "what are differences in primarily group_1 nurses and primarily night-shift nurses for demographic behavioral\n"
     ]
    },
    {
     "data": {
      "text/plain": [
       "[]"
      ]
     },
     "execution_count": 55,
     "metadata": {},
     "output_type": "execute_result"
    }
   ],
   "source": [
    "get_words_to_replace(words_from_question_tempate)"
   ]
  },
  {
   "cell_type": "code",
   "execution_count": 191,
   "id": "cde83b72-dea1-422b-bb70-fc1c58b98035",
   "metadata": {},
   "outputs": [
    {
     "ename": "SyntaxError",
     "evalue": "invalid syntax (<ipython-input-191-cc6e82bede6b>, line 9)",
     "output_type": "error",
     "traceback": [
      "\u001b[0;36m  File \u001b[0;32m\"<ipython-input-191-cc6e82bede6b>\"\u001b[0;36m, line \u001b[0;32m9\u001b[0m\n\u001b[0;31m    n = replace_word.replace(replace_word, 'day-shift')\u001b[0m\n\u001b[0m    ^\u001b[0m\n\u001b[0;31mSyntaxError\u001b[0m\u001b[0;31m:\u001b[0m invalid syntax\n"
     ]
    }
   ],
   "source": [
    "new_words = []\n",
    "\n",
    "def replace_word(words_to_replace):\n",
    "    print(words_to_replace)\n",
    "    for word_to_replace in range(len(words_to_replace)):\n",
    "        replace_word = words_to_replace[word_to_replace]\n",
    "        # print(replace_word)\n",
    "        if any(word in group\n",
    "        n = replace_word.replace(replace_word, 'day-shift')\n",
    "        print(n)\n",
    "    return new_words"
   ]
  },
  {
   "cell_type": "code",
   "execution_count": 192,
   "id": "1ecae3a0-67ef-49b1-9f12-f64c6f93505d",
   "metadata": {},
   "outputs": [
    {
     "ename": "NameError",
     "evalue": "name 'replace_word' is not defined",
     "output_type": "error",
     "traceback": [
      "\u001b[0;31m---------------------------------------------------------------------------\u001b[0m",
      "\u001b[0;31mNameError\u001b[0m                                 Traceback (most recent call last)",
      "\u001b[0;32m<ipython-input-192-080a11b351e6>\u001b[0m in \u001b[0;36m<module>\u001b[0;34m\u001b[0m\n\u001b[0;32m----> 1\u001b[0;31m \u001b[0mreplace_word\u001b[0m\u001b[0;34m(\u001b[0m\u001b[0mwords_to_replace\u001b[0m\u001b[0;34m)\u001b[0m\u001b[0;34m\u001b[0m\u001b[0;34m\u001b[0m\u001b[0m\n\u001b[0m",
      "\u001b[0;31mNameError\u001b[0m: name 'replace_word' is not defined"
     ]
    }
   ],
   "source": [
    "replace_word(words_to_replace)"
   ]
  },
  {
   "cell_type": "code",
   "execution_count": 190,
   "id": "72ae2488-7d5e-426b-8755-9eacad922e69",
   "metadata": {},
   "outputs": [
    {
     "data": {
      "text/plain": [
       "[]"
      ]
     },
     "execution_count": 190,
     "metadata": {},
     "output_type": "execute_result"
    }
   ],
   "source": [
    "a"
   ]
  },
  {
   "cell_type": "code",
   "execution_count": null,
   "id": "6457bdcb-5e1e-4e56-aca4-7987c2d1c821",
   "metadata": {},
   "outputs": [],
   "source": [
    "a.st"
   ]
  },
  {
   "cell_type": "code",
   "execution_count": null,
   "id": "fbbc79e4-ef4e-4835-bf8e-83d21231a8dd",
   "metadata": {},
   "outputs": [],
   "source": [
    "if any(template_key_words) == 'group_1':\n",
    "    print(True)\n",
    "    "
   ]
  },
  {
   "cell_type": "code",
   "execution_count": 12,
   "id": "d438b8bb-dbd7-4640-8fe7-e71ff6a2aab8",
   "metadata": {},
   "outputs": [
    {
     "ename": "NameError",
     "evalue": "name 'word' is not defined",
     "output_type": "error",
     "traceback": [
      "\u001b[0;31m---------------------------------------------------------------------------\u001b[0m",
      "\u001b[0;31mNameError\u001b[0m                                 Traceback (most recent call last)",
      "\u001b[0;32m<ipython-input-12-4fb4faaaaefe>\u001b[0m in \u001b[0;36m<module>\u001b[0;34m\u001b[0m\n\u001b[0;32m----> 1\u001b[0;31m \u001b[0mword\u001b[0m\u001b[0;34m.\u001b[0m\u001b[0mreplace\u001b[0m\u001b[0;34m(\u001b[0m\u001b[0;34m\"group1\"\u001b[0m\u001b[0;34m,\u001b[0m \u001b[0;34m\"000\"\u001b[0m\u001b[0;34m)\u001b[0m\u001b[0;34m\u001b[0m\u001b[0;34m\u001b[0m\u001b[0m\n\u001b[0m",
      "\u001b[0;31mNameError\u001b[0m: name 'word' is not defined"
     ]
    }
   ],
   "source": [
    "word.replace(\"group1\", \"000\")"
   ]
  },
  {
   "cell_type": "code",
   "execution_count": 15,
   "id": "f8c36db4-12b7-4f8c-8165-2f9658a30af3",
   "metadata": {},
   "outputs": [
    {
     "ename": "AttributeError",
     "evalue": "'list' object has no attribute 'upper'",
     "output_type": "error",
     "traceback": [
      "\u001b[0;31m---------------------------------------------------------------------------\u001b[0m",
      "\u001b[0;31mAttributeError\u001b[0m                            Traceback (most recent call last)",
      "\u001b[0;32m<ipython-input-15-77c4804c364d>\u001b[0m in \u001b[0;36m<module>\u001b[0;34m\u001b[0m\n\u001b[1;32m      1\u001b[0m \u001b[0;32mfor\u001b[0m \u001b[0mk\u001b[0m\u001b[0;34m,\u001b[0m \u001b[0mv\u001b[0m \u001b[0;32min\u001b[0m \u001b[0mkey_words_in_study\u001b[0m\u001b[0;34m.\u001b[0m\u001b[0mitems\u001b[0m\u001b[0;34m(\u001b[0m\u001b[0;34m)\u001b[0m\u001b[0;34m:\u001b[0m\u001b[0;34m\u001b[0m\u001b[0;34m\u001b[0m\u001b[0m\n\u001b[0;32m----> 2\u001b[0;31m     \u001b[0ma\u001b[0m \u001b[0;34m=\u001b[0m \u001b[0ma\u001b[0m\u001b[0;34m.\u001b[0m\u001b[0mupper\u001b[0m\u001b[0;34m(\u001b[0m\u001b[0;34m)\u001b[0m\u001b[0;34m.\u001b[0m\u001b[0mreplace\u001b[0m\u001b[0;34m(\u001b[0m\u001b[0mk\u001b[0m\u001b[0;34m,\u001b[0m \u001b[0mv\u001b[0m\u001b[0;34m)\u001b[0m\u001b[0;34m\u001b[0m\u001b[0;34m\u001b[0m\u001b[0m\n\u001b[0m\u001b[1;32m      3\u001b[0m     \u001b[0mprint\u001b[0m\u001b[0;34m(\u001b[0m\u001b[0ma\u001b[0m\u001b[0;34m)\u001b[0m\u001b[0;34m\u001b[0m\u001b[0;34m\u001b[0m\u001b[0m\n",
      "\u001b[0;31mAttributeError\u001b[0m: 'list' object has no attribute 'upper'"
     ]
    }
   ],
   "source": [
    "for k, v in key_words_in_study.items():\n",
    "    a = a.upper().replace(k, v)\n",
    "    print(a)"
   ]
  },
  {
   "cell_type": "code",
   "execution_count": 57,
   "id": "8a8ef053-3fe8-4a5e-918a-ba8123b22fe6",
   "metadata": {},
   "outputs": [
    {
     "data": {
      "text/plain": [
       "['what',\n",
       " 'are',\n",
       " 'differences',\n",
       " 'in',\n",
       " 'primarily',\n",
       " 'group_1',\n",
       " 'nurses',\n",
       " 'and',\n",
       " 'primarily',\n",
       " 'group_2',\n",
       " 'nurses',\n",
       " 'for',\n",
       " 'demographic',\n",
       " 'behavioral']"
      ]
     },
     "execution_count": 57,
     "metadata": {},
     "output_type": "execute_result"
    }
   ],
   "source": [
    "a"
   ]
  },
  {
   "cell_type": "code",
   "execution_count": 215,
   "id": "8316f440-a305-4314-a2c9-5ab2348010b3",
   "metadata": {},
   "outputs": [
    {
     "data": {
      "text/plain": [
       "'what are differences in primarily group_1 nurses and primarily group_2 nurses for demographic behavioral'"
      ]
     },
     "execution_count": 215,
     "metadata": {},
     "output_type": "execute_result"
    }
   ],
   "source": [
    "cdd = ' '.join(a)\n",
    "cdd"
   ]
  },
  {
   "cell_type": "code",
   "execution_count": 82,
   "id": "fed0ff79-85ba-4358-bc15-ab80945eea4d",
   "metadata": {},
   "outputs": [],
   "source": [
    "words_to_replace = []\n",
    "\n",
    "def get_words_to_replace2(words_from_question_tempate):\n",
    "    # print(words_from_question_tempate)\n",
    "    dd = words_from_question_tempate\n",
    "\n",
    "    for k, v in group.items():\n",
    "        # print(\"000\")\n",
    "        print(k)\n",
    "        addddd = dd.replace(k, v)\n",
    "        print(addddd)\n",
    "    return 1"
   ]
  },
  {
   "cell_type": "code",
   "execution_count": 83,
   "id": "bd548a93-a8f7-4910-ae6f-9c028f4ab0ce",
   "metadata": {},
   "outputs": [
    {
     "name": "stdout",
     "output_type": "stream",
     "text": [
      "group_1\n",
      "what are differences in primarily day-shift nurses and primarily group_2 nurses for demographic behavioral\n",
      "group_2\n",
      "what are differences in primarily group_1 nurses and primarily night-shift nurses for demographic behavioral\n"
     ]
    },
    {
     "data": {
      "text/plain": [
       "1"
      ]
     },
     "execution_count": 91,
     "metadata": {},
     "output_type": "execute_result"
    }
   ],
   "source": [
    "get_words_to_replace2(cdd)"
   ]
  },
  {
   "cell_type": "code",
   "execution_count": 216,
   "id": "962da5e8-7a5d-4bc1-a522-bed0dd1d199b",
   "metadata": {},
   "outputs": [],
   "source": [
    "a = []\n",
    "\n",
    "def get_words_to_replace3(words_from_question_tempate):\n",
    "    # print(words_from_question_tempate)\n",
    "    \n",
    "    # print(dd)\n",
    "\n",
    "    for key, value in group.items():\n",
    "        # print(key, value)\n",
    "  \n",
    "        dd = dd.replace(key, value)\n",
    "        # print(dd)\n",
    "    return dd"
   ]
  },
  {
   "cell_type": "code",
   "execution_count": 217,
   "id": "b4dcc9f1-5ac0-4ae1-9892-b2ca5b77ba60",
   "metadata": {},
   "outputs": [
    {
     "data": {
      "text/plain": [
       "'what are differences in primarily what are differences in primarily what are differences in primarily what are differences in primarily day-shift nurses and primarily what are differences in primarily group_1 nurses and primarily what are differences in primarily group_1 nurses and primarily night-shift nurses for demographic behavioral nurses for demographic behavioral nurses for demographic behavioral nurses and primarily what are differences in primarily group_1 nurses and primarily what are differences in primarily group_1 nurses and primarily night-shift nurses for demographic behavioral nurses for demographic behavioral nurses for demographic behavioral nurses and primarily what are differences in primarily group_1 nurses and primarily what are differences in primarily group_1 nurses and primarily night-shift nurses for demographic behavioral nurses for demographic behavioral nurses for demographic behavioral nurses and primarily what are differences in primarily group_1 nurses and primarily what are differences in primarily group_1 nurses and primarily night-shift nurses for demographic behavioral nurses for demographic behavioral nurses for demographic behavioral'"
      ]
     },
     "execution_count": 217,
     "metadata": {},
     "output_type": "execute_result"
    }
   ],
   "source": [
    "\n",
    "get_words_to_replace3(cdd)"
   ]
  },
  {
   "cell_type": "code",
   "execution_count": 235,
   "id": "cb280546-609f-4399-904e-83b74b51dfbe",
   "metadata": {},
   "outputs": [],
   "source": [
    "def replace_all(text, dic):\n",
    "    for i, j in dic.items():\n",
    "        print(i, j)\n",
    "        text = text.replace(i, j)\n",
    "    return text\n"
   ]
  },
  {
   "cell_type": "code",
   "execution_count": 239,
   "id": "0597e8d4-8f51-4a4f-b71d-399f60c0d2df",
   "metadata": {},
   "outputs": [
    {
     "name": "stdout",
     "output_type": "stream",
     "text": [
      "group_1 day-shift\n",
      "group_2 night-shift\n",
      "what are differences in primarily day-shift nurses and primarily night-shift nurses for demographic behavioral\n"
     ]
    }
   ],
   "source": [
    "od = OrderedDict([(\"group_1\", \"day-shift\"), (\"group_2\", \"night-shift\")])\n",
    "# my_sentence = \"This is my group_1 and this is my dog.\"\n",
    "c = replace_all(cdd, od)\n",
    "print(c)"
   ]
  },
  {
   "cell_type": "code",
   "execution_count": null,
   "id": "f13c64e0-dbc7-433a-9f6c-a4d59d62ef08",
   "metadata": {},
   "outputs": [],
   "source": []
  }
 ],
 "metadata": {
  "kernelspec": {
   "display_name": "Python 3",
   "language": "python",
   "name": "python3"
  },
  "language_info": {
   "codemirror_mode": {
    "name": "ipython",
    "version": 3
   },
   "file_extension": ".py",
   "mimetype": "text/x-python",
   "name": "python",
   "nbconvert_exporter": "python",
   "pygments_lexer": "ipython3",
   "version": "3.7.5"
  }
 },
 "nbformat": 4,
 "nbformat_minor": 5
}
