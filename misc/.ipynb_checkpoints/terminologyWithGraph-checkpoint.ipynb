{
 "cells": [
  {
   "cell_type": "markdown",
   "id": "627699f7-f0c2-4104-8217-1ad684c66378",
   "metadata": {},
   "source": [
    "# Breakdown of Terminology w/ a Chart"
   ]
  },
  {
   "cell_type": "code",
   "execution_count": 1,
   "id": "154ce5bc-5029-41ba-9474-44bcca803057",
   "metadata": {},
   "outputs": [],
   "source": [
    "import numpy as np\n",
    "import pandas as pd\n",
    "import matplotlib as plt"
   ]
  },
  {
   "cell_type": "code",
   "execution_count": 2,
   "id": "60a2fe96-3f7c-4225-9c03-555935564210",
   "metadata": {},
   "outputs": [],
   "source": [
    "def random_plots(data, index, x_axis, y_axis):\n",
    "    plot_ts = pd.DataFrame(data, index, columns=[\"Observations (z)\"])\n",
    "    # plot_ts.cumsum()\n",
    "    print(plot_ts.columns)\n",
    "    ax = plot_ts.plot(style='.-')\n",
    "    ax.set(xlabel=x_axis, ylabel=y_axis)"
   ]
  },
  {
   "cell_type": "code",
   "execution_count": 3,
   "id": "440320f5-a081-415f-adbf-637539fe69db",
   "metadata": {},
   "outputs": [
    {
     "name": "stdout",
     "output_type": "stream",
     "text": [
      "Index(['Observations (z)'], dtype='object')\n"
     ]
    },
    {
     "data": {
      "image/png": "[encoded data removed]",
      "text/plain": [
       "<Figure size 432x288 with 1 Axes>"
      ]
     },
     "metadata": {
      "needs_background": "light"
     },
     "output_type": "display_data"
    }
   ],
   "source": [
    "data = np.random.randn(10)\n",
    "t = pd.date_range('4/29/2022', periods=10, freq='5H')\n",
    "x_axis = 'Time (hours)'\n",
    "y_axis = 'Numerical Measurements'\n",
    "\n",
    "rp = random_plots(data, t, x_axis, y_axis)"
   ]
  },
  {
   "cell_type": "code",
   "execution_count": 4,
   "id": "2e52b747-dfa2-485e-a0a5-9be228df7eba",
   "metadata": {},
   "outputs": [],
   "source": [
    "d_list = data.tolist()"
   ]
  },
  {
   "cell_type": "code",
   "execution_count": 5,
   "id": "1f099b64-e381-4a67-8b13-31425f966a70",
   "metadata": {},
   "outputs": [
    {
     "name": "stdout",
     "output_type": "stream",
     "text": [
      "  Time (hours)  Numerical Measurements\n",
      "0   2022-04-29                2.318411\n",
      "         Time (hours)  Numerical Measurements\n",
      "0 2022-04-29 05:00:00                0.662052\n",
      "         Time (hours)  Numerical Measurements\n",
      "0 2022-04-29 10:00:00               -0.229907\n",
      "         Time (hours)  Numerical Measurements\n",
      "0 2022-04-29 15:00:00               -0.845412\n",
      "         Time (hours)  Numerical Measurements\n",
      "0 2022-04-29 20:00:00               -0.783293\n",
      "         Time (hours)  Numerical Measurements\n",
      "0 2022-04-30 01:00:00                1.320906\n",
      "         Time (hours)  Numerical Measurements\n",
      "0 2022-04-30 06:00:00                 0.23347\n",
      "         Time (hours)  Numerical Measurements\n",
      "0 2022-04-30 11:00:00               -0.607972\n",
      "         Time (hours)  Numerical Measurements\n",
      "0 2022-04-30 16:00:00                0.194643\n",
      "         Time (hours)  Numerical Measurements\n",
      "0 2022-04-30 21:00:00                0.986824\n"
     ]
    }
   ],
   "source": [
    "idx = 0\n",
    "for time in t:\n",
    "    # print(time)\n",
    "    \n",
    "    d = {x_axis:[time], \n",
    "         y_axis:[d_list[idx]]}\n",
    "    g = pd.DataFrame(d)\n",
    "    print(g)\n",
    "    idx += 1"
   ]
  },
  {
   "cell_type": "code",
   "execution_count": null,
   "id": "922a5625-8a75-45e5-8577-bfcca67fb68a",
   "metadata": {},
   "outputs": [],
   "source": [
    "    "
   ]
  },
  {
   "cell_type": "code",
   "execution_count": null,
   "id": "e881d6ee-3f93-4557-a2c1-d12d331f37d4",
   "metadata": {},
   "outputs": [],
   "source": []
  }
 ],
 "metadata": {
  "kernelspec": {
   "display_name": "Python 3",
   "language": "python",
   "name": "python3"
  },
  "language_info": {
   "codemirror_mode": {
    "name": "ipython",
    "version": 3
   },
   "file_extension": ".py",
   "mimetype": "text/x-python",
   "name": "python",
   "nbconvert_exporter": "python",
   "pygments_lexer": "ipython3",
   "version": "3.7.5"
  }
 },
 "nbformat": 4,
 "nbformat_minor": 5
}
