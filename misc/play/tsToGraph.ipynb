{
 "cells": [
  {
   "cell_type": "markdown",
   "metadata": {},
   "source": [
    "# Convert time series to graph"
   ]
  },
  {
   "cell_type": "code",
   "execution_count": null,
   "metadata": {},
   "outputs": [],
   "source": [
    "import os\n",
    "import sys\n",
    "import torch\n",
    "import subprocess\n",
    "\n",
    "import numpy as np\n",
    "import pandas as pd\n",
    "\n",
    "import torch.nn as nn\n",
    "import matplotlib.pyplot as plt\n",
    "import rpy2.robjects as robjects\n",
    "\n",
    "from tqdm import tqdm\n",
    "\n",
    "from rpy2.robjects import pandas2ri\n",
    "pandas2ri.activate()\n",
    "\n",
    "%load_ext rpy2.ipython\n",
    "# Get the current working directory of the notebook\n",
    "notebook_dir = os.getcwd()\n",
    "\n",
    "# Add the parent directory to the system path\n",
    "sys.path.append(os.path.join(notebook_dir, '../framework_for_time_series_data/tslearn/'))\n",
    "\n",
    "# Install the remotes package\n",
    "subprocess.run(['R', '-e', 'install.packages(\"remotes\")'])\n",
    "\n",
    "# Install the ts2net package from GitHub\n",
    "subprocess.run(['R', '-e', 'remotes::install_github(\"lnferreira/ts2net\")'])\n"
   ]
  },
  {
   "cell_type": "code",
   "execution_count": null,
   "metadata": {},
   "outputs": [],
   "source": [
    "# !pip install rpy2"
   ]
  },
  {
   "cell_type": "code",
   "execution_count": null,
   "metadata": {},
   "outputs": [],
   "source": [
    "# Verify R package is downloaded\n",
    "# %%R\n",
    "# Load the ts2net package\n",
    "from rpy2.robjects.packages import importr\n",
    "\n",
    "importr(\"ts2net\")\n"
   ]
  },
  {
   "cell_type": "code",
   "execution_count": null,
   "metadata": {},
   "outputs": [],
   "source": [
    "observations = [10, 20, 30, 40, 50, 60, 70, 80, 90]\n",
    "r_observations = robjects.FloatVector(observations)\n",
    "robjects.globalenv['observations'] = r_observations\n"
   ]
  },
  {
   "cell_type": "code",
   "execution_count": null,
   "metadata": {},
   "outputs": [],
   "source": [
    "%%R\n",
    "library(ts2net)\n",
    "# Calculating the distance matrix\n",
    "D = ts_dist(observations, dist_func = tsdist_dtw)\n",
    "# Finding the epsilon that corresponds to 30% of the shortest distances\n",
    "eps = dist_percentile(D, percentile = 0.3)\n",
    "# Constructing the network\n",
    "net = net_enn(D, eps)\n",
    "\n",
    "print(net)\n"
   ]
  },
  {
   "cell_type": "code",
   "execution_count": null,
   "metadata": {},
   "outputs": [],
   "source": []
  },
  {
   "cell_type": "code",
   "execution_count": 1,
   "metadata": {},
   "outputs": [
    {
     "name": "stdout",
     "output_type": "stream",
     "text": [
      "\n",
      "R version 4.2.1 (2022-06-23) -- \"Funny-Looking Kid\"\n",
      "Copyright (C) 2022 The R Foundation for Statistical Computing\n",
      "Platform: x86_64-apple-darwin17.0 (64-bit)\n",
      "\n",
      "R is free software and comes with ABSOLUTELY NO WARRANTY.\n",
      "You are welcome to redistribute it under certain conditions.\n",
      "Type 'license()' or 'licence()' for distribution details.\n",
      "\n",
      "  Natural language support but running in an English locale\n",
      "\n",
      "R is a collaborative project with many contributors.\n",
      "Type 'contributors()' for more information and\n",
      "'citation()' on how to cite R or R packages in publications.\n",
      "\n",
      "Type 'demo()' for some demos, 'help()' for on-line help, or\n",
      "'help.start()' for an HTML browser interface to help.\n",
      "Type 'q()' to quit R.\n",
      "\n",
      "> install.packages(\"ts2net\")\n"
     ]
    },
    {
     "name": "stderr",
     "output_type": "stream",
     "text": [
      "Error in contrib.url(repos, \"source\") : \n",
      "  trying to use CRAN without setting a mirror\n",
      "Calls: install.packages -> contrib.url\n",
      "Execution halted\n"
     ]
    },
    {
     "data": {
      "text/plain": [
       "CompletedProcess(args=['R', '-e', 'install.packages(\"ts2net\")'], returncode=1)"
      ]
     },
     "execution_count": 1,
     "metadata": {},
     "output_type": "execute_result"
    }
   ],
   "source": [
    "import numpy as np\n",
    "import pandas as pd\n",
    "import subprocess\n",
    "from rpy2.robjects import r, pandas2ri\n",
    "from rpy2.robjects.packages import importr\n",
    "from rpy2.robjects.vectors import FloatVector\n",
    "\n",
    "# Activate pandas2ri for easier data exchange\n",
    "pandas2ri.activate()\n",
    "\n",
    "# Install ts2net (only run once)\n",
    "subprocess.run(['R', '-e', 'install.packages(\"ts2net\")'])"
   ]
  },
  {
   "cell_type": "code",
   "execution_count": 2,
   "metadata": {},
   "outputs": [
    {
     "ename": "PackageNotInstalledError",
     "evalue": "The R package \"ts2net\" is not installed.",
     "output_type": "error",
     "traceback": [
      "\u001b[0;31m---------------------------------------------------------------------------\u001b[0m",
      "\u001b[0;31mPackageNotInstalledError\u001b[0m                  Traceback (most recent call last)",
      "Input \u001b[0;32mIn [2]\u001b[0m, in \u001b[0;36m<cell line: 2>\u001b[0;34m()\u001b[0m\n\u001b[1;32m      1\u001b[0m \u001b[38;5;66;03m# Load ts2net library in R\u001b[39;00m\n\u001b[0;32m----> 2\u001b[0m \u001b[43mimportr\u001b[49m\u001b[43m(\u001b[49m\u001b[38;5;124;43m\"\u001b[39;49m\u001b[38;5;124;43mts2net\u001b[39;49m\u001b[38;5;124;43m\"\u001b[39;49m\u001b[43m)\u001b[49m\n",
      "File \u001b[0;32m~/opt/anaconda3/envs/graphbreeding_rpy2/lib/python3.9/site-packages/rpy2/robjects/packages.py:472\u001b[0m, in \u001b[0;36mimportr\u001b[0;34m(name, lib_loc, robject_translations, signature_translation, suppress_messages, on_conflict, symbol_r2python, symbol_resolve, data)\u001b[0m\n\u001b[1;32m    440\u001b[0m \u001b[38;5;124;03m\"\"\" Import an R package.\u001b[39;00m\n\u001b[1;32m    441\u001b[0m \n\u001b[1;32m    442\u001b[0m \u001b[38;5;124;03mArguments:\u001b[39;00m\n\u001b[0;32m   (...)\u001b[0m\n\u001b[1;32m    468\u001b[0m \n\u001b[1;32m    469\u001b[0m \u001b[38;5;124;03m\"\"\"\u001b[39;00m\n\u001b[1;32m    471\u001b[0m \u001b[38;5;28;01mif\u001b[39;00m \u001b[38;5;129;01mnot\u001b[39;00m isinstalled(name, lib_loc\u001b[38;5;241m=\u001b[39mlib_loc):\n\u001b[0;32m--> 472\u001b[0m     \u001b[38;5;28;01mraise\u001b[39;00m PackageNotInstalledError(\n\u001b[1;32m    473\u001b[0m         \u001b[38;5;124m'\u001b[39m\u001b[38;5;124mThe R package \u001b[39m\u001b[38;5;124m\"\u001b[39m\u001b[38;5;132;01m%s\u001b[39;00m\u001b[38;5;124m\"\u001b[39m\u001b[38;5;124m is not installed.\u001b[39m\u001b[38;5;124m'\u001b[39m \u001b[38;5;241m%\u001b[39m name\n\u001b[1;32m    474\u001b[0m     )\n\u001b[1;32m    476\u001b[0m \u001b[38;5;28;01mif\u001b[39;00m suppress_messages:\n\u001b[1;32m    477\u001b[0m     ok \u001b[38;5;241m=\u001b[39m quiet_require(name, lib_loc\u001b[38;5;241m=\u001b[39mlib_loc)\n",
      "\u001b[0;31mPackageNotInstalledError\u001b[0m: The R package \"ts2net\" is not installed."
     ]
    }
   ],
   "source": [
    "# Load ts2net library in R\n",
    "importr(\"ts2net\")"
   ]
  },
  {
   "cell_type": "code",
   "execution_count": null,
   "metadata": {},
   "outputs": [],
   "source": [
    "# Create observations (your time series)\n",
    "observations = [10, 20, 30, 40, 50, 60, 70, 80, 90]\n",
    "\n",
    "# Convert observations to R vector\n",
    "r_observations = FloatVector(observations)\n",
    "\n",
    "# Use rpy2 magic to run R code in Python\n",
    "from rpy2.robjects import globalenv"
   ]
  },
  {
   "cell_type": "code",
   "execution_count": null,
   "metadata": {},
   "outputs": [],
   "source": [
    "globalenv[\"observations\"] = r_observations\n",
    "\n",
    "# Run R code to convert time series to network\n",
    "r(\"\"\"\n",
    "library(ts2net)\n",
    "# Calculating the distance matrix\n",
    "D <- ts_dist(list(observations), dist_func = tsdist_dtw)\n",
    "# Finding the epsilon that corresponds to 30% of the shortest distances\n",
    "eps <- dist_percentile(D, percentile = 0.3)\n",
    "# Constructing the network\n",
    "net <- net_enn(D, eps)\n",
    "\"\"\")\n",
    "\n",
    "# Optionally, retrieve the R object back to Python\n",
    "network = r[\"net\"]\n",
    "print(network)"
   ]
  }
 ],
 "metadata": {
  "kernelspec": {
   "display_name": "graphbreeding_rpy2",
   "language": "python",
   "name": "python3"
  },
  "language_info": {
   "codemirror_mode": {
    "name": "ipython",
    "version": 3
   },
   "file_extension": ".py",
   "mimetype": "text/x-python",
   "name": "python",
   "nbconvert_exporter": "python",
   "pygments_lexer": "ipython3",
   "version": "3.9.13"
  }
 },
 "nbformat": 4,
 "nbformat_minor": 2
}
