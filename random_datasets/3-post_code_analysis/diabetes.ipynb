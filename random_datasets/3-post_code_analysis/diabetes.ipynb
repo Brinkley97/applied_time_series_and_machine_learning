{
 "cells": [
  {
   "cell_type": "code",
   "execution_count": 1,
   "id": "a9e61788-5427-4a1f-afc0-a56ee01bbdc8",
   "metadata": {},
   "outputs": [],
   "source": [
    "import pandas as pd\n",
    "import matplotlib.pyplot as plt"
   ]
  },
  {
   "cell_type": "markdown",
   "id": "81d7a239-b25f-42aa-aa01-d7c74ae52f84",
   "metadata": {
    "tags": []
   },
   "source": [
    "# Analysis of Heart Rate Estimation Dataset\n",
    "---\n",
    "\n",
    "1. General info : \n",
    "    - Credit : AIM-94 data set provided by Michael Kahn, MD, PhD, Washington University, St. Louis, MO\n",
    "    - 70 participants w/ a file for each\n",
    "    - Columns of each individual file \n",
    "        1. Date in MM-DD-YYYY format\n",
    "            - High level time\n",
    "            - Can set a range (ie : give me values from x day to y day or for entire month)\n",
    "        2. Time in XX:YY format\n",
    "            - Low level time\n",
    "            - Can set a range (ie : for mornings, give me values between 8 AM - noon for entire data/ each month)\n",
    "        3. Code\n",
    "            - 20 in total\n",
    "            - Two are 58 = Pre-breakfast blood glucose measurement, 59 = Post-breakfast blood glucose \n",
    "        4. Value\n",
    "            - Actual value of blood sugar\n",
    "\n",
    "2. TODO : \n",
    "    - [ ] Start analyzing for 1 participant\n",
    "        - [ ] What is important here? Can I generalize this to the other participants?\n",
    "        - [ ] How should I index the data as in what shall be my fix variable? \n",
    "            - Should I index on mornings wrt time?\n",
    "            - Should I index on per month?\n",
    "            - Can I fix on code?\n",
    "    - [ ] Once know what to track, do for all participants\n",
    "        - Should this be done invididually so 70 different files or collectively so clean & organize data into a single file?\n",
    "        \n",
    "        \n",
    "3. Questions & Answers: \n",
    "    - **Is the dataset about one variable reading or several variables?**\n",
    "        - This dataset contains mulitple variable readings [see under General Info | Columns...].  \n",
    "    - **Is the dataset coming from a single type of sensor or several?**\n",
    "        - Single sensor which is blood glucose reader\n",
    "    - **Are the time intervals regular versus irregular?**\n",
    "        - Irregular as glucose readings only come from when participant check & $ \\nexists $ a specified time to check \n",
    "    - **Are there datapoints for all variables for each timepoint versus not?**\n",
    "        - Will need to analyze & see but if not, then may need to interpolate?\n",
    "    - **Is it a dataset where you expect periodical repetition versus not?**\n",
    "    - **Any other aspects I observe or notice?**\n"
   ]
  },
  {
   "cell_type": "code",
   "execution_count": 21,
   "id": "9bb89d1c-3fe8-47e1-a9d1-cdb06771af4f",
   "metadata": {},
   "outputs": [],
   "source": [
    "def load_data(file) :\n",
    "    get_data = pd.read_table(file)\n",
    "\n",
    "    \n",
    "#     rename cols\n",
    "    get_data.columns = ['Date', 'Time', 'Code', 'Value (Blood Glucose)']\n",
    "    # print(data)\n",
    "    return get_data"
   ]
  },
  {
   "cell_type": "code",
   "execution_count": 22,
   "id": "672f1be9-0388-4fa4-802e-699b3d167361",
   "metadata": {},
   "outputs": [
    {
     "data": {
      "text/html": [
       "<div>\n",
       "<style scoped>\n",
       "    .dataframe tbody tr th:only-of-type {\n",
       "        vertical-align: middle;\n",
       "    }\n",
       "\n",
       "    .dataframe tbody tr th {\n",
       "        vertical-align: top;\n",
       "    }\n",
       "\n",
       "    .dataframe thead th {\n",
       "        text-align: right;\n",
       "    }\n",
       "</style>\n",
       "<table border=\"1\" class=\"dataframe\">\n",
       "  <thead>\n",
       "    <tr style=\"text-align: right;\">\n",
       "      <th></th>\n",
       "      <th>Date</th>\n",
       "      <th>Time</th>\n",
       "      <th>Code</th>\n",
       "      <th>Value (Blood Glucose)</th>\n",
       "    </tr>\n",
       "  </thead>\n",
       "  <tbody>\n",
       "    <tr>\n",
       "      <th>0</th>\n",
       "      <td>04-21-1991</td>\n",
       "      <td>9:09</td>\n",
       "      <td>33</td>\n",
       "      <td>9</td>\n",
       "    </tr>\n",
       "    <tr>\n",
       "      <th>1</th>\n",
       "      <td>04-21-1991</td>\n",
       "      <td>9:09</td>\n",
       "      <td>34</td>\n",
       "      <td>13</td>\n",
       "    </tr>\n",
       "    <tr>\n",
       "      <th>2</th>\n",
       "      <td>04-21-1991</td>\n",
       "      <td>17:08</td>\n",
       "      <td>62</td>\n",
       "      <td>119</td>\n",
       "    </tr>\n",
       "    <tr>\n",
       "      <th>3</th>\n",
       "      <td>04-21-1991</td>\n",
       "      <td>17:08</td>\n",
       "      <td>33</td>\n",
       "      <td>7</td>\n",
       "    </tr>\n",
       "    <tr>\n",
       "      <th>4</th>\n",
       "      <td>04-21-1991</td>\n",
       "      <td>22:51</td>\n",
       "      <td>48</td>\n",
       "      <td>123</td>\n",
       "    </tr>\n",
       "    <tr>\n",
       "      <th>...</th>\n",
       "      <td>...</td>\n",
       "      <td>...</td>\n",
       "      <td>...</td>\n",
       "      <td>...</td>\n",
       "    </tr>\n",
       "    <tr>\n",
       "      <th>937</th>\n",
       "      <td>09-02-1991</td>\n",
       "      <td>17:30</td>\n",
       "      <td>33</td>\n",
       "      <td>7</td>\n",
       "    </tr>\n",
       "    <tr>\n",
       "      <th>938</th>\n",
       "      <td>09-02-1991</td>\n",
       "      <td>23:00</td>\n",
       "      <td>48</td>\n",
       "      <td>155</td>\n",
       "    </tr>\n",
       "    <tr>\n",
       "      <th>939</th>\n",
       "      <td>09-03-1991</td>\n",
       "      <td>7:20</td>\n",
       "      <td>58</td>\n",
       "      <td>110</td>\n",
       "    </tr>\n",
       "    <tr>\n",
       "      <th>940</th>\n",
       "      <td>09-03-1991</td>\n",
       "      <td>7:20</td>\n",
       "      <td>33</td>\n",
       "      <td>9</td>\n",
       "    </tr>\n",
       "    <tr>\n",
       "      <th>941</th>\n",
       "      <td>09-03-1991</td>\n",
       "      <td>7:20</td>\n",
       "      <td>34</td>\n",
       "      <td>16</td>\n",
       "    </tr>\n",
       "  </tbody>\n",
       "</table>\n",
       "<p>942 rows × 4 columns</p>\n",
       "</div>"
      ],
      "text/plain": [
       "           Date   Time  Code  Value (Blood Glucose)\n",
       "0    04-21-1991   9:09    33                      9\n",
       "1    04-21-1991   9:09    34                     13\n",
       "2    04-21-1991  17:08    62                    119\n",
       "3    04-21-1991  17:08    33                      7\n",
       "4    04-21-1991  22:51    48                    123\n",
       "..          ...    ...   ...                    ...\n",
       "937  09-02-1991  17:30    33                      7\n",
       "938  09-02-1991  23:00    48                    155\n",
       "939  09-03-1991   7:20    58                    110\n",
       "940  09-03-1991   7:20    33                      9\n",
       "941  09-03-1991   7:20    34                     16\n",
       "\n",
       "[942 rows x 4 columns]"
      ]
     },
     "execution_count": 22,
     "metadata": {},
     "output_type": "execute_result"
    }
   ],
   "source": [
    "file_path = \"../2-pre_code_analysis/diabetes_1994/data/data-01\"\n",
    "data = load_data(file_path)\n",
    "data"
   ]
  },
  {
   "cell_type": "code",
   "execution_count": 23,
   "id": "3566dbc4-eef2-4500-a5f9-e3383bd00f8d",
   "metadata": {},
   "outputs": [
    {
     "data": {
      "text/plain": [
       "0      04-21-1991\n",
       "1      04-21-1991\n",
       "2      04-21-1991\n",
       "3      04-21-1991\n",
       "4      04-21-1991\n",
       "          ...    \n",
       "937    09-02-1991\n",
       "938    09-02-1991\n",
       "939    09-03-1991\n",
       "940    09-03-1991\n",
       "941    09-03-1991\n",
       "Name: Date, Length: 942, dtype: object"
      ]
     },
     "execution_count": 23,
     "metadata": {},
     "output_type": "execute_result"
    }
   ],
   "source": [
    "date = 'Date'\n",
    "col_date = data[date]\n",
    "col_date"
   ]
  },
  {
   "cell_type": "markdown",
   "id": "a151847a-2203-4626-a4c3-a51288528d08",
   "metadata": {},
   "source": [
    "1. What is the total #days this participant tracked their blood glucose?"
   ]
  },
  {
   "cell_type": "code",
   "execution_count": 24,
   "id": "05260190-5b08-49e0-bd10-82bcecde2637",
   "metadata": {},
   "outputs": [
    {
     "data": {
      "text/plain": [
       "0     1991-04-21\n",
       "1     1991-04-21\n",
       "2     1991-04-21\n",
       "3     1991-04-21\n",
       "4     1991-04-21\n",
       "         ...    \n",
       "937   1991-09-02\n",
       "938   1991-09-02\n",
       "939   1991-09-03\n",
       "940   1991-09-03\n",
       "941   1991-09-03\n",
       "Name: Date, Length: 942, dtype: datetime64[ns]"
      ]
     },
     "execution_count": 24,
     "metadata": {},
     "output_type": "execute_result"
    }
   ],
   "source": [
    "# convert from String to datetime\n",
    "cov_col_date = pd.to_datetime(col_date)\n",
    "cov_col_date"
   ]
  },
  {
   "cell_type": "code",
   "execution_count": 25,
   "id": "a5ae0adb-e6f2-4d43-a971-d736db6d1365",
   "metadata": {
    "tags": []
   },
   "outputs": [
    {
     "data": {
      "text/plain": [
       "0      4\n",
       "1      4\n",
       "2      4\n",
       "3      4\n",
       "4      4\n",
       "      ..\n",
       "937    9\n",
       "938    9\n",
       "939    9\n",
       "940    9\n",
       "941    9\n",
       "Name: Month, Length: 942, dtype: int64"
      ]
     },
     "execution_count": 25,
     "metadata": {},
     "output_type": "execute_result"
    }
   ],
   "source": [
    "# add new col to measure month\n",
    "data['Month'] = cov_col_date.dt.month\n",
    "col_month = data['Month']\n",
    "col_month"
   ]
  },
  {
   "cell_type": "code",
   "execution_count": 26,
   "id": "aebe759d-d321-43df-a1ac-94ab124a56df",
   "metadata": {
    "tags": []
   },
   "outputs": [
    {
     "data": {
      "text/plain": [
       "0      21\n",
       "1      21\n",
       "2      21\n",
       "3      21\n",
       "4      21\n",
       "       ..\n",
       "937     2\n",
       "938     2\n",
       "939     3\n",
       "940     3\n",
       "941     3\n",
       "Name: Day, Length: 942, dtype: int64"
      ]
     },
     "execution_count": 26,
     "metadata": {},
     "output_type": "execute_result"
    }
   ],
   "source": [
    "data['Day'] = cov_col_date.dt.day\n",
    "col_day = data['Day']\n",
    "col_day"
   ]
  },
  {
   "cell_type": "code",
   "execution_count": 27,
   "id": "dce7e050-7c8c-4d0b-8614-6ea26526243c",
   "metadata": {},
   "outputs": [
    {
     "data": {
      "text/plain": [
       "0       9:09\n",
       "1       9:09\n",
       "2      17:08\n",
       "3      17:08\n",
       "4      22:51\n",
       "       ...  \n",
       "937    17:30\n",
       "938    23:00\n",
       "939     7:20\n",
       "940     7:20\n",
       "941     7:20\n",
       "Name: Time, Length: 942, dtype: object"
      ]
     },
     "execution_count": 27,
     "metadata": {},
     "output_type": "execute_result"
    }
   ],
   "source": [
    "time = 'Time'\n",
    "col_time = data[time]\n",
    "col_time"
   ]
  },
  {
   "cell_type": "code",
   "execution_count": 28,
   "id": "02f85b4e-3779-4ef1-91b5-fb717c079d82",
   "metadata": {},
   "outputs": [
    {
     "data": {
      "text/plain": [
       "0        9\n",
       "1       13\n",
       "2      119\n",
       "3        7\n",
       "4      123\n",
       "      ... \n",
       "937      7\n",
       "938    155\n",
       "939    110\n",
       "940      9\n",
       "941     16\n",
       "Name: Value (Blood Glucose), Length: 942, dtype: int64"
      ]
     },
     "execution_count": 28,
     "metadata": {},
     "output_type": "execute_result"
    }
   ],
   "source": [
    "bg = 'Value (Blood Glucose)'\n",
    "col_bg = data[bg]\n",
    "col_bg"
   ]
  },
  {
   "cell_type": "code",
   "execution_count": 29,
   "id": "098e218a-b502-4c9c-b999-5d64f27854e7",
   "metadata": {},
   "outputs": [
    {
     "data": {
      "text/plain": [
       "Timedelta('135 days 00:00:00')"
      ]
     },
     "execution_count": 29,
     "metadata": {},
     "output_type": "execute_result"
    }
   ],
   "source": [
    "time_frame = cov_col_date.max() - cov_col_date.min()\n",
    "time_frame"
   ]
  },
  {
   "cell_type": "markdown",
   "id": "6d62c082-7e2b-45d9-9c6a-498499ae0cf7",
   "metadata": {},
   "source": [
    "2. What is the avg blood glucose per month for this participant?"
   ]
  },
  {
   "cell_type": "code",
   "execution_count": 30,
   "id": "afa6491f-a46d-401f-a9b4-a0c2a40a2a44",
   "metadata": {},
   "outputs": [
    {
     "data": {
      "text/plain": [
       "Month\n",
       "4    77.257576\n",
       "5    62.519048\n",
       "6    69.517241\n",
       "7    69.061674\n",
       "8    64.431579\n",
       "9    70.176471\n",
       "Name: Value (Blood Glucose), dtype: float64"
      ]
     },
     "execution_count": 30,
     "metadata": {},
     "output_type": "execute_result"
    }
   ],
   "source": [
    "avg_monthly_bg = data.groupby([col_month])[bg].mean()\n",
    "avg_monthly_bg"
   ]
  },
  {
   "cell_type": "code",
   "execution_count": 31,
   "id": "0f6b3ac9-cf04-436f-9d35-e861911b08cf",
   "metadata": {},
   "outputs": [
    {
     "data": {
      "text/plain": [
       "Text(0, 0.5, 'Blood Glugose Avg')"
      ]
     },
     "execution_count": 31,
     "metadata": {},
     "output_type": "execute_result"
    },
    {
     "data": {
      "image/png": "[encoded data removed]",
      "text/plain": [
       "<Figure size 432x288 with 1 Axes>"
      ]
     },
     "metadata": {
      "needs_background": "light"
     },
     "output_type": "display_data"
    }
   ],
   "source": [
    "plot_avg_month_bg = avg_monthly_bg.plot()\n",
    "plt.xlabel(\"Month\")\n",
    "plt.ylabel(\"Blood Glugose Avg\")"
   ]
  },
  {
   "cell_type": "markdown",
   "id": "28fe8764-38f0-490b-8749-e873e3ec5c14",
   "metadata": {},
   "source": []
  },
  {
   "cell_type": "code",
   "execution_count": 36,
   "id": "4c26e5af-d039-4fce-a6bc-95b4060822c8",
   "metadata": {},
   "outputs": [
    {
     "data": {
      "text/html": [
       "<div>\n",
       "<style scoped>\n",
       "    .dataframe tbody tr th:only-of-type {\n",
       "        vertical-align: middle;\n",
       "    }\n",
       "\n",
       "    .dataframe tbody tr th {\n",
       "        vertical-align: top;\n",
       "    }\n",
       "\n",
       "    .dataframe thead th {\n",
       "        text-align: right;\n",
       "    }\n",
       "</style>\n",
       "<table border=\"1\" class=\"dataframe\">\n",
       "  <thead>\n",
       "    <tr style=\"text-align: right;\">\n",
       "      <th></th>\n",
       "      <th>Date</th>\n",
       "      <th>Time</th>\n",
       "      <th>Code</th>\n",
       "      <th>Value (Blood Glucose)</th>\n",
       "      <th>Month</th>\n",
       "      <th>Day</th>\n",
       "    </tr>\n",
       "  </thead>\n",
       "  <tbody>\n",
       "    <tr>\n",
       "      <th>0</th>\n",
       "      <td>04-21-1991</td>\n",
       "      <td>9:09</td>\n",
       "      <td>33</td>\n",
       "      <td>9</td>\n",
       "      <td>4</td>\n",
       "      <td>21</td>\n",
       "    </tr>\n",
       "    <tr>\n",
       "      <th>1</th>\n",
       "      <td>04-21-1991</td>\n",
       "      <td>9:09</td>\n",
       "      <td>34</td>\n",
       "      <td>13</td>\n",
       "      <td>4</td>\n",
       "      <td>21</td>\n",
       "    </tr>\n",
       "    <tr>\n",
       "      <th>2</th>\n",
       "      <td>04-21-1991</td>\n",
       "      <td>17:08</td>\n",
       "      <td>62</td>\n",
       "      <td>119</td>\n",
       "      <td>4</td>\n",
       "      <td>21</td>\n",
       "    </tr>\n",
       "    <tr>\n",
       "      <th>3</th>\n",
       "      <td>04-21-1991</td>\n",
       "      <td>17:08</td>\n",
       "      <td>33</td>\n",
       "      <td>7</td>\n",
       "      <td>4</td>\n",
       "      <td>21</td>\n",
       "    </tr>\n",
       "    <tr>\n",
       "      <th>4</th>\n",
       "      <td>04-21-1991</td>\n",
       "      <td>22:51</td>\n",
       "      <td>48</td>\n",
       "      <td>123</td>\n",
       "      <td>4</td>\n",
       "      <td>21</td>\n",
       "    </tr>\n",
       "    <tr>\n",
       "      <th>...</th>\n",
       "      <td>...</td>\n",
       "      <td>...</td>\n",
       "      <td>...</td>\n",
       "      <td>...</td>\n",
       "      <td>...</td>\n",
       "      <td>...</td>\n",
       "    </tr>\n",
       "    <tr>\n",
       "      <th>937</th>\n",
       "      <td>09-02-1991</td>\n",
       "      <td>17:30</td>\n",
       "      <td>33</td>\n",
       "      <td>7</td>\n",
       "      <td>9</td>\n",
       "      <td>2</td>\n",
       "    </tr>\n",
       "    <tr>\n",
       "      <th>938</th>\n",
       "      <td>09-02-1991</td>\n",
       "      <td>23:00</td>\n",
       "      <td>48</td>\n",
       "      <td>155</td>\n",
       "      <td>9</td>\n",
       "      <td>2</td>\n",
       "    </tr>\n",
       "    <tr>\n",
       "      <th>939</th>\n",
       "      <td>09-03-1991</td>\n",
       "      <td>7:20</td>\n",
       "      <td>58</td>\n",
       "      <td>110</td>\n",
       "      <td>9</td>\n",
       "      <td>3</td>\n",
       "    </tr>\n",
       "    <tr>\n",
       "      <th>940</th>\n",
       "      <td>09-03-1991</td>\n",
       "      <td>7:20</td>\n",
       "      <td>33</td>\n",
       "      <td>9</td>\n",
       "      <td>9</td>\n",
       "      <td>3</td>\n",
       "    </tr>\n",
       "    <tr>\n",
       "      <th>941</th>\n",
       "      <td>09-03-1991</td>\n",
       "      <td>7:20</td>\n",
       "      <td>34</td>\n",
       "      <td>16</td>\n",
       "      <td>9</td>\n",
       "      <td>3</td>\n",
       "    </tr>\n",
       "  </tbody>\n",
       "</table>\n",
       "<p>942 rows × 6 columns</p>\n",
       "</div>"
      ],
      "text/plain": [
       "           Date   Time  Code  Value (Blood Glucose)  Month  Day\n",
       "0    04-21-1991   9:09    33                      9      4   21\n",
       "1    04-21-1991   9:09    34                     13      4   21\n",
       "2    04-21-1991  17:08    62                    119      4   21\n",
       "3    04-21-1991  17:08    33                      7      4   21\n",
       "4    04-21-1991  22:51    48                    123      4   21\n",
       "..          ...    ...   ...                    ...    ...  ...\n",
       "937  09-02-1991  17:30    33                      7      9    2\n",
       "938  09-02-1991  23:00    48                    155      9    2\n",
       "939  09-03-1991   7:20    58                    110      9    3\n",
       "940  09-03-1991   7:20    33                      9      9    3\n",
       "941  09-03-1991   7:20    34                     16      9    3\n",
       "\n",
       "[942 rows x 6 columns]"
      ]
     },
     "execution_count": 36,
     "metadata": {},
     "output_type": "execute_result"
    }
   ],
   "source": [
    "data"
   ]
  },
  {
   "cell_type": "code",
   "execution_count": 42,
   "id": "e5c13a63-9b63-4025-86fe-cc08a961cf70",
   "metadata": {},
   "outputs": [
    {
     "data": {
      "text/html": [
       "<div>\n",
       "<style scoped>\n",
       "    .dataframe tbody tr th:only-of-type {\n",
       "        vertical-align: middle;\n",
       "    }\n",
       "\n",
       "    .dataframe tbody tr th {\n",
       "        vertical-align: top;\n",
       "    }\n",
       "\n",
       "    .dataframe thead th {\n",
       "        text-align: right;\n",
       "    }\n",
       "</style>\n",
       "<table border=\"1\" class=\"dataframe\">\n",
       "  <thead>\n",
       "    <tr style=\"text-align: right;\">\n",
       "      <th></th>\n",
       "      <th>Value (Blood Glucose)</th>\n",
       "      <th>Month</th>\n",
       "      <th>Day</th>\n",
       "    </tr>\n",
       "  </thead>\n",
       "  <tbody>\n",
       "    <tr>\n",
       "      <th>0</th>\n",
       "      <td>9</td>\n",
       "      <td>4</td>\n",
       "      <td>21</td>\n",
       "    </tr>\n",
       "    <tr>\n",
       "      <th>1</th>\n",
       "      <td>13</td>\n",
       "      <td>4</td>\n",
       "      <td>21</td>\n",
       "    </tr>\n",
       "    <tr>\n",
       "      <th>2</th>\n",
       "      <td>119</td>\n",
       "      <td>4</td>\n",
       "      <td>21</td>\n",
       "    </tr>\n",
       "    <tr>\n",
       "      <th>3</th>\n",
       "      <td>7</td>\n",
       "      <td>4</td>\n",
       "      <td>21</td>\n",
       "    </tr>\n",
       "    <tr>\n",
       "      <th>4</th>\n",
       "      <td>123</td>\n",
       "      <td>4</td>\n",
       "      <td>21</td>\n",
       "    </tr>\n",
       "    <tr>\n",
       "      <th>...</th>\n",
       "      <td>...</td>\n",
       "      <td>...</td>\n",
       "      <td>...</td>\n",
       "    </tr>\n",
       "    <tr>\n",
       "      <th>937</th>\n",
       "      <td>7</td>\n",
       "      <td>9</td>\n",
       "      <td>2</td>\n",
       "    </tr>\n",
       "    <tr>\n",
       "      <th>938</th>\n",
       "      <td>155</td>\n",
       "      <td>9</td>\n",
       "      <td>2</td>\n",
       "    </tr>\n",
       "    <tr>\n",
       "      <th>939</th>\n",
       "      <td>110</td>\n",
       "      <td>9</td>\n",
       "      <td>3</td>\n",
       "    </tr>\n",
       "    <tr>\n",
       "      <th>940</th>\n",
       "      <td>9</td>\n",
       "      <td>9</td>\n",
       "      <td>3</td>\n",
       "    </tr>\n",
       "    <tr>\n",
       "      <th>941</th>\n",
       "      <td>16</td>\n",
       "      <td>9</td>\n",
       "      <td>3</td>\n",
       "    </tr>\n",
       "  </tbody>\n",
       "</table>\n",
       "<p>942 rows × 3 columns</p>\n",
       "</div>"
      ],
      "text/plain": [
       "     Value (Blood Glucose)  Month  Day\n",
       "0                        9      4   21\n",
       "1                       13      4   21\n",
       "2                      119      4   21\n",
       "3                        7      4   21\n",
       "4                      123      4   21\n",
       "..                     ...    ...  ...\n",
       "937                      7      9    2\n",
       "938                    155      9    2\n",
       "939                    110      9    3\n",
       "940                      9      9    3\n",
       "941                     16      9    3\n",
       "\n",
       "[942 rows x 3 columns]"
      ]
     },
     "execution_count": 42,
     "metadata": {},
     "output_type": "execute_result"
    }
   ],
   "source": [
    "data_m_d = data.drop(['Date', 'Time', 'Code'], axis=1)\n",
    "data_m_d"
   ]
  },
  {
   "cell_type": "markdown",
   "id": "e1acc555-01a7-4c65-9988-35987d368b59",
   "metadata": {},
   "source": [
    "3. What is the daily blood glucose for April?"
   ]
  },
  {
   "cell_type": "code",
   "execution_count": 49,
   "id": "5926304c-bc0b-4f8f-ba34-6e6895aa3bac",
   "metadata": {},
   "outputs": [
    {
     "data": {
      "text/html": [
       "<div>\n",
       "<style scoped>\n",
       "    .dataframe tbody tr th:only-of-type {\n",
       "        vertical-align: middle;\n",
       "    }\n",
       "\n",
       "    .dataframe tbody tr th {\n",
       "        vertical-align: top;\n",
       "    }\n",
       "\n",
       "    .dataframe thead th {\n",
       "        text-align: right;\n",
       "    }\n",
       "</style>\n",
       "<table border=\"1\" class=\"dataframe\">\n",
       "  <thead>\n",
       "    <tr style=\"text-align: right;\">\n",
       "      <th></th>\n",
       "      <th>Value (Blood Glucose)</th>\n",
       "      <th>Month</th>\n",
       "      <th>Day</th>\n",
       "    </tr>\n",
       "  </thead>\n",
       "  <tbody>\n",
       "    <tr>\n",
       "      <th>0</th>\n",
       "      <td>9</td>\n",
       "      <td>4</td>\n",
       "      <td>21</td>\n",
       "    </tr>\n",
       "    <tr>\n",
       "      <th>1</th>\n",
       "      <td>13</td>\n",
       "      <td>4</td>\n",
       "      <td>21</td>\n",
       "    </tr>\n",
       "    <tr>\n",
       "      <th>2</th>\n",
       "      <td>119</td>\n",
       "      <td>4</td>\n",
       "      <td>21</td>\n",
       "    </tr>\n",
       "    <tr>\n",
       "      <th>3</th>\n",
       "      <td>7</td>\n",
       "      <td>4</td>\n",
       "      <td>21</td>\n",
       "    </tr>\n",
       "    <tr>\n",
       "      <th>4</th>\n",
       "      <td>123</td>\n",
       "      <td>4</td>\n",
       "      <td>21</td>\n",
       "    </tr>\n",
       "    <tr>\n",
       "      <th>...</th>\n",
       "      <td>...</td>\n",
       "      <td>...</td>\n",
       "      <td>...</td>\n",
       "    </tr>\n",
       "    <tr>\n",
       "      <th>61</th>\n",
       "      <td>4</td>\n",
       "      <td>4</td>\n",
       "      <td>30</td>\n",
       "    </tr>\n",
       "    <tr>\n",
       "      <th>62</th>\n",
       "      <td>185</td>\n",
       "      <td>4</td>\n",
       "      <td>30</td>\n",
       "    </tr>\n",
       "    <tr>\n",
       "      <th>63</th>\n",
       "      <td>7</td>\n",
       "      <td>4</td>\n",
       "      <td>30</td>\n",
       "    </tr>\n",
       "    <tr>\n",
       "      <th>64</th>\n",
       "      <td>0</td>\n",
       "      <td>4</td>\n",
       "      <td>30</td>\n",
       "    </tr>\n",
       "    <tr>\n",
       "      <th>65</th>\n",
       "      <td>104</td>\n",
       "      <td>4</td>\n",
       "      <td>30</td>\n",
       "    </tr>\n",
       "  </tbody>\n",
       "</table>\n",
       "<p>66 rows × 3 columns</p>\n",
       "</div>"
      ],
      "text/plain": [
       "    Value (Blood Glucose)  Month  Day\n",
       "0                       9      4   21\n",
       "1                      13      4   21\n",
       "2                     119      4   21\n",
       "3                       7      4   21\n",
       "4                     123      4   21\n",
       "..                    ...    ...  ...\n",
       "61                      4      4   30\n",
       "62                    185      4   30\n",
       "63                      7      4   30\n",
       "64                      0      4   30\n",
       "65                    104      4   30\n",
       "\n",
       "[66 rows x 3 columns]"
      ]
     },
     "execution_count": 49,
     "metadata": {},
     "output_type": "execute_result"
    }
   ],
   "source": [
    "april_table = col_month==4\n",
    "april_table = data_m_d[april]\n",
    "april_table"
   ]
  },
  {
   "cell_type": "code",
   "execution_count": 51,
   "id": "dad412ca-f94d-46a1-9c7a-a75a4e1a6604",
   "metadata": {},
   "outputs": [
    {
     "data": {
      "text/plain": [
       "<matplotlib.axes._subplots.AxesSubplot at 0x7fe93050a150>"
      ]
     },
     "execution_count": 51,
     "metadata": {},
     "output_type": "execute_result"
    },
    {
     "data": {
      "image/png": "[encoded data removed]",
      "text/plain": [
       "<Figure size 432x288 with 1 Axes>"
      ]
     },
     "metadata": {
      "needs_background": "light"
     },
     "output_type": "display_data"
    }
   ],
   "source": [
    "# plot all bg testings for april\n",
    "april = col_month==4\n",
    "april_line = data_m_d[april][bg]\n",
    "april_line.plot()"
   ]
  },
  {
   "cell_type": "code",
   "execution_count": 53,
   "id": "7c7df9ff-c0be-47a5-8a02-139ba3d6eee1",
   "metadata": {},
   "outputs": [
    {
     "data": {
      "text/html": [
       "<div>\n",
       "<style scoped>\n",
       "    .dataframe tbody tr th:only-of-type {\n",
       "        vertical-align: middle;\n",
       "    }\n",
       "\n",
       "    .dataframe tbody tr th {\n",
       "        vertical-align: top;\n",
       "    }\n",
       "\n",
       "    .dataframe thead th {\n",
       "        text-align: right;\n",
       "    }\n",
       "</style>\n",
       "<table border=\"1\" class=\"dataframe\">\n",
       "  <thead>\n",
       "    <tr style=\"text-align: right;\">\n",
       "      <th></th>\n",
       "      <th>Value (Blood Glucose)</th>\n",
       "      <th>Month</th>\n",
       "    </tr>\n",
       "    <tr>\n",
       "      <th>Day</th>\n",
       "      <th></th>\n",
       "      <th></th>\n",
       "    </tr>\n",
       "  </thead>\n",
       "  <tbody>\n",
       "    <tr>\n",
       "      <th>21</th>\n",
       "      <td>54.200000</td>\n",
       "      <td>4.0</td>\n",
       "    </tr>\n",
       "    <tr>\n",
       "      <th>22</th>\n",
       "      <td>76.500000</td>\n",
       "      <td>4.0</td>\n",
       "    </tr>\n",
       "    <tr>\n",
       "      <th>23</th>\n",
       "      <td>83.400000</td>\n",
       "      <td>4.0</td>\n",
       "    </tr>\n",
       "    <tr>\n",
       "      <th>24</th>\n",
       "      <td>105.857143</td>\n",
       "      <td>4.0</td>\n",
       "    </tr>\n",
       "    <tr>\n",
       "      <th>25</th>\n",
       "      <td>74.625000</td>\n",
       "      <td>4.0</td>\n",
       "    </tr>\n",
       "    <tr>\n",
       "      <th>26</th>\n",
       "      <td>56.666667</td>\n",
       "      <td>4.0</td>\n",
       "    </tr>\n",
       "    <tr>\n",
       "      <th>27</th>\n",
       "      <td>109.400000</td>\n",
       "      <td>4.0</td>\n",
       "    </tr>\n",
       "    <tr>\n",
       "      <th>28</th>\n",
       "      <td>72.666667</td>\n",
       "      <td>4.0</td>\n",
       "    </tr>\n",
       "    <tr>\n",
       "      <th>29</th>\n",
       "      <td>77.777778</td>\n",
       "      <td>4.0</td>\n",
       "    </tr>\n",
       "    <tr>\n",
       "      <th>30</th>\n",
       "      <td>65.666667</td>\n",
       "      <td>4.0</td>\n",
       "    </tr>\n",
       "  </tbody>\n",
       "</table>\n",
       "</div>"
      ],
      "text/plain": [
       "     Value (Blood Glucose)  Month\n",
       "Day                              \n",
       "21               54.200000    4.0\n",
       "22               76.500000    4.0\n",
       "23               83.400000    4.0\n",
       "24              105.857143    4.0\n",
       "25               74.625000    4.0\n",
       "26               56.666667    4.0\n",
       "27              109.400000    4.0\n",
       "28               72.666667    4.0\n",
       "29               77.777778    4.0\n",
       "30               65.666667    4.0"
      ]
     },
     "execution_count": 53,
     "metadata": {},
     "output_type": "execute_result"
    }
   ],
   "source": [
    "# avg bg per day\n",
    "apr_day_avg = april_table.groupby(['Day']).mean()\n",
    "apr_day_avg"
   ]
  },
  {
   "cell_type": "code",
   "execution_count": 55,
   "id": "de9b5822-7aa6-4d32-a29c-bb1b30bd4424",
   "metadata": {},
   "outputs": [
    {
     "data": {
      "image/png": "[encoded data removed]",
      "text/plain": [
       "<Figure size 432x288 with 1 Axes>"
      ]
     },
     "metadata": {
      "needs_background": "light"
     },
     "output_type": "display_data"
    }
   ],
   "source": [
    "# plot avg bg per day\n",
    "plot_apr_day_avg = apr_day_avg[bg].plot()"
   ]
  },
  {
   "cell_type": "code",
   "execution_count": 47,
   "id": "7752b27c-511d-44ab-a963-2bb18d31d34f",
   "metadata": {},
   "outputs": [
    {
     "data": {
      "text/plain": [
       "<matplotlib.axes._subplots.AxesSubplot at 0x7fe9289d0f90>"
      ]
     },
     "execution_count": 47,
     "metadata": {},
     "output_type": "execute_result"
    },
    {
     "data": {
      "image/png": "[encoded data removed]",
      "text/plain": [
       "<Figure size 432x288 with 1 Axes>"
      ]
     },
     "metadata": {
      "needs_background": "light"
     },
     "output_type": "display_data"
    }
   ],
   "source": [
    "may = col_month==5\n",
    "may_line = data_m_d[may][bg]\n",
    "may_line.plot()"
   ]
  },
  {
   "cell_type": "code",
   "execution_count": null,
   "id": "1c65a570-a132-4dcc-a566-8274054c5c6d",
   "metadata": {},
   "outputs": [],
   "source": []
  },
  {
   "cell_type": "code",
   "execution_count": null,
   "id": "82017c62-bb75-4f3a-86f8-2551601d56d6",
   "metadata": {},
   "outputs": [],
   "source": []
  },
  {
   "cell_type": "code",
   "execution_count": null,
   "id": "15fa1cd0-3b6c-42ef-b1df-c0d26f65fcea",
   "metadata": {},
   "outputs": [],
   "source": []
  },
  {
   "cell_type": "code",
   "execution_count": null,
   "id": "a1f64ec1-4c06-4881-80fd-780d10d67376",
   "metadata": {},
   "outputs": [],
   "source": []
  }
 ],
 "metadata": {
  "kernelspec": {
   "display_name": "Python 3",
   "language": "python",
   "name": "python3"
  },
  "language_info": {
   "codemirror_mode": {
    "name": "ipython",
    "version": 3
   },
   "file_extension": ".py",
   "mimetype": "text/x-python",
   "name": "python",
   "nbconvert_exporter": "python",
   "pygments_lexer": "ipython3",
   "version": "3.7.5"
  }
 },
 "nbformat": 4,
 "nbformat_minor": 5
}
