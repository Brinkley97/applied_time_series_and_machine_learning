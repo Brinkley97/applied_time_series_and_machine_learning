{
 "cells": [
  {
   "cell_type": "code",
   "execution_count": 2,
   "id": "a9e61788-5427-4a1f-afc0-a56ee01bbdc8",
   "metadata": {},
   "outputs": [],
   "source": [
    "import pandas as pd"
   ]
  },
  {
   "cell_type": "markdown",
   "id": "81d7a239-b25f-42aa-aa01-d7c74ae52f84",
   "metadata": {
    "tags": []
   },
   "source": [
    "# Analysis of Heart Rate Estimation Dataset\n",
    "---\n",
    "\n",
    "1. General info : \n",
    "    - Credit : AIM-94 data set provided by Michael Kahn, MD, PhD, Washington University, St. Louis, MO\n",
    "    - 70 participants w/ a file for each\n",
    "    - Columns of each individual file \n",
    "        1. Date in MM-DD-YYYY format\n",
    "            - High level time\n",
    "            - Can set a range (ie : give me values from x day to y day or for entire month)\n",
    "        2. Time in XX:YY format\n",
    "            - Low level time\n",
    "            - Can set a range (ie : for mornings, give me values between 8 AM - noon for entire data/ each month)\n",
    "        3. Code\n",
    "            - 20 in total\n",
    "            - Two are 58 = Pre-breakfast blood glucose measurement, 59 = Post-breakfast blood glucose \n",
    "        4. Value\n",
    "            - Actual value of blood sugar\n",
    "\n",
    "2. TODO : \n",
    "    - [ ] Start analyzing for 1 participant\n",
    "        - [ ] What is important here? Can I generalize this to the other participants?\n",
    "        - [ ] How should I index the data as in what shall be my fix variable? \n",
    "            - Should I index on mornings wrt time?\n",
    "            - Should I index on per month?\n",
    "            - Can I fix on code?\n",
    "    - [ ] Once know what to track, do for all participants\n",
    "        - Should this be done invididually so 70 different files or collectively so clean & organize data into a single file?\n",
    "        \n",
    "        \n",
    "3. Questions & Answers: \n",
    "    - **Is the dataset about one variable reading or several variables?**\n",
    "        - This dataset contains mulitple variable readings [see under General Info | Columns...].  \n",
    "    - **Is the dataset coming from a single type of sensor or several?**\n",
    "        - Single sensor which is blood glucose reader\n",
    "    - **Are the time intervals regular versus irregular?**\n",
    "        - Irregular as glucose readings only come from when participant check & $ \\nexists $ a specified time to check \n",
    "    - **Are there datapoints for all variables for each timepoint versus not?**\n",
    "        - Will need to analyze & see but if not, then may need to interpolate?\n",
    "    - **Is it a dataset where you expect periodical repetition versus not?**\n",
    "    - **Any other aspects I observe or notice?**\n"
   ]
  },
  {
   "cell_type": "code",
   "execution_count": 6,
   "id": "9bb89d1c-3fe8-47e1-a9d1-cdb06771af4f",
   "metadata": {},
   "outputs": [],
   "source": [
    "def get_data(file) :\n",
    "    data = pd.read_table(file)\n",
    "\n",
    "    \n",
    "#     rename cols\n",
    "    data.columns = ['Date', 'Time', 'Code', 'Value (Blood Glucose)']\n",
    "    print(data)"
   ]
  },
  {
   "cell_type": "code",
   "execution_count": 7,
   "id": "672f1be9-0388-4fa4-802e-699b3d167361",
   "metadata": {},
   "outputs": [
    {
     "name": "stdout",
     "output_type": "stream",
     "text": [
      "           Date   Time  Code  Value (Blood Glucose)\n",
      "0    04-21-1991   9:09    33                      9\n",
      "1    04-21-1991   9:09    34                     13\n",
      "2    04-21-1991  17:08    62                    119\n",
      "3    04-21-1991  17:08    33                      7\n",
      "4    04-21-1991  22:51    48                    123\n",
      "..          ...    ...   ...                    ...\n",
      "937  09-02-1991  17:30    33                      7\n",
      "938  09-02-1991  23:00    48                    155\n",
      "939  09-03-1991   7:20    58                    110\n",
      "940  09-03-1991   7:20    33                      9\n",
      "941  09-03-1991   7:20    34                     16\n",
      "\n",
      "[942 rows x 4 columns]\n"
     ]
    }
   ],
   "source": [
    "file_path = \"../2-pre_code_analysis/diabetes_1994/data/data-01\"\n",
    "get_data(file_path)"
   ]
  },
  {
   "cell_type": "code",
   "execution_count": null,
   "id": "3566dbc4-eef2-4500-a5f9-e3383bd00f8d",
   "metadata": {},
   "outputs": [],
   "source": []
  }
 ],
 "metadata": {
  "kernelspec": {
   "display_name": "Python 3",
   "language": "python",
   "name": "python3"
  },
  "language_info": {
   "codemirror_mode": {
    "name": "ipython",
    "version": 3
   },
   "file_extension": ".py",
   "mimetype": "text/x-python",
   "name": "python",
   "nbconvert_exporter": "python",
   "pygments_lexer": "ipython3",
   "version": "3.7.5"
  }
 },
 "nbformat": 4,
 "nbformat_minor": 5
}
