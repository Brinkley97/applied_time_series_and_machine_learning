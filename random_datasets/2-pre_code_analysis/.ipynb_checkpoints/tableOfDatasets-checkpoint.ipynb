{
 "cells": [
  {
   "cell_type": "markdown",
   "id": "352abe10-9285-4b66-8cbe-daaa6b647baa",
   "metadata": {},
   "source": [
    "| Dataset |  | Type of sensor | Misreadings | Continuous or Discrete | Sampling | Timeframe | Periodicity | Pattern\n",
    "| --- | --- | | --- | --- | --- | --- | --- | --- |\n",
    "| diabetes || (1) Automatic Electronic Recording Device & (2) Paper Records | - | D | - | Diff per participant | Seconds  | - |\n",
    "| heart rate || (1) Photoplethysmography (PPG)-based heart rate estimation <br> <br> (2) 3D-accelerometer embedded in the same device as the PPG-sensor <br> <br> (3) ECG which provides heart rate ground truth | - | - | - | - | (1) Seconds <br> <br> (2) Seconds <br> <br> (3) Seconds | - |\n",
    "| istanbul stock exchange || (1) imkb.gov.tr <br> <br> (2) finance.yahoo.com | - | C | - | 5 Jan 09 - 22 Feb 11 | daily | - |\n",
    "| (1) online retail <br> <br> (2) online retail || (1) website <br> <br> (2) website| negative #s | - | - | (1) 12 Jan 10 to 12 Sep 11 <br> <br> (2) 12 Jan 09 to 12 Sep 11 | (1) not constant so everytime a new shopper buy <br> <br> (2) not constant so everytime a new shopper buy | - |\n",
    "| physical activity || (1) 3 Colibri wireless inertial measurement units (IMU): (1.1) IMU over the wrist on the dominant arm (1.2) IMU on the chest (1.3) IMU on the dominant side's ankle <br> <br> (2) Heart Rate Monitor | Yes, labeled as NaN | - | (1) Sampling frequency = 100 Hz <br> <br> (2) Sampling frequency = ~9 Hz | - | seconds | - |\n",
    "| sales transaction || (1) website  <br> <br> (2) website | - | - | - | Entire 2014 | Weekly | - |\n",
    "| stock market prediction || (1) website | Yes, some days aren't tracked | - | - | 2010 - 2017 | Daily (closing amount/price) | - |"
   ]
  },
  {
   "cell_type": "code",
   "execution_count": null,
   "id": "a831dbe5-39a9-4e5c-b2fa-9f4733a3784e",
   "metadata": {},
   "outputs": [],
   "source": []
  }
 ],
 "metadata": {
  "kernelspec": {
   "display_name": "Python 3",
   "language": "python",
   "name": "python3"
  },
  "language_info": {
   "codemirror_mode": {
    "name": "ipython",
    "version": 3
   },
   "file_extension": ".py",
   "mimetype": "text/x-python",
   "name": "python",
   "nbconvert_exporter": "python",
   "pygments_lexer": "ipython3",
   "version": "3.7.5"
  }
 },
 "nbformat": 4,
 "nbformat_minor": 5
}
