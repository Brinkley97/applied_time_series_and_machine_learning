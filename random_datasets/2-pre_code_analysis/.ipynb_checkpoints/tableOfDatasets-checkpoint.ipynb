{
 "cells": [
  {
   "cell_type": "markdown",
   "id": "b4301414-6299-4ceb-81e1-3afaae2eb9e2",
   "metadata": {},
   "source": [
    "- **Dataset** : random time series datasets\n",
    "- **Type of sensor** : the instrument used to capture the time series data\n",
    "- **Misreadings** : error in the observed dataset (ie : NaN, negative #s when all should be positive)\n",
    "- **Continuous** : infinite within (2) bounds\n",
    "- **Discrete** : finite TS\n",
    "- **Timeframe** : from x to y, also known as range, interval\n",
    "- **Frequency** : **data** (not observations) occurs every so often and can adapt according to readings\n",
    "- **Periodicity/Sampling** : extract **observation** of data every so often (ie : every 9 seconds)\n",
    "- **TF vs F vs P/S** : data = stock market price from 2015 - 2020\n",
    "    - **TF** : 5 years/60 months/260 weeks\n",
    "    - **F** : Collected annually\n",
    "    - **P** : Daily change in stock amount\n",
    "- **Pattern** : \n",
    "    - **General trend** : typical increase/decrease \n",
    "    - **Seasonality** : Seasonal factors (ie : the 4 seasons, quarterly, etc) effect the patterns of the regularly observed measurements\n",
    "        - Fixed calendar-based measurements are observed\n",
    "    - **Cylical** : Seasonal factors have no effect on the patterns of the regularly observed measurements\n",
    "        - Observerd measurements are not on a fixed calendar\n",
    "    - **Irregular** : outliers "
   ]
  },
  {
   "cell_type": "markdown",
   "id": "352abe10-9285-4b66-8cbe-daaa6b647baa",
   "metadata": {},
   "source": [
    "| Dataset |  | Type of sensor | Misreadings | Continuous or Discrete | Timeframe | Frequency | Periodicity/Sampling | Pattern\n",
    "| --- | --- | | --- | --- | --- | --- | --- | --- |\n",
    "| diabetes || (1) Automatic Electronic Recording Device & (2) Paper Records | (-) Some readings are 0. Need to explore \"The Code\" beside each reading to see if it's a misreading or not <br> <br> (-) Possibly if a measurement is not taken on x day | Discrete because $ \\exists $ specific days and times of measurements | Differs for each participant | Mostly daily w/ actual dates being different per participant | Not consistent, anytime throughout the day  | - |\n",
    "| heart rate || (1) Photoplethysmography (PPG)-based heart rate estimation <br> <br> (2) 3D-accelerometer embedded in the same device as the PPG-sensor <br> <br> (3) ECG which provides heart rate ground truth | (1) Can $ \\exists $ negative heart rates? <br> <br> (2) - <br> <br> (3) - | (1) - <br> <br> (2) - <br> <br> (3) - | (1) - <br> <br> (2) - <br> <br> (3) - | (1) - <br> <br> (2) - <br> <br> (3) - | (1) Seconds <br> <br> (2) Seconds <br> <br> (3) Seconds | - |\n",
    "| istanbul stock exchange || (1) imkb.gov.tr <br> <br> (2) finance.yahoo.com | - | Continuous | 5 Jan 09 - 22 Feb 11 |  | daily | - |\n",
    "| (1) online retail <br> <br> (2) online retail || (1) website <br> <br> (2) website| negative #s | - | (1) 12 Jan 10 to 12 Sep 11 <br> <br> (2) 12 Jan 09 to 12 Sep 11 | - | (1) not constant so everytime a new shopper buy <br> <br> (2) not constant so everytime a new shopper buy | - |\n",
    "| physical activity || (1) 3 Colibri wireless inertial measurement units (IMU): (1.1) IMU over the wrist on the dominant arm (1.2) IMU on the chest (1.3) IMU on the dominant side's ankle <br> <br> (2) Heart Rate Monitor | Yes, labeled as NaN | - | (1) Sampling frequency = 100 Hz <br> <br> (2) Sampling frequency = ~9 Hz | - | seconds | - |\n",
    "| sales transaction || (1) website  <br> <br> (2) website | - | - | Entire 2014 |  | Weekly | - |\n",
    "| stock market prediction || (1) website | Yes, some days aren't tracked | - | 2010 - 2017 | - | Daily (closing amount/price) | - |"
   ]
  },
  {
   "cell_type": "code",
   "execution_count": null,
   "id": "f5ed30fe-3906-4409-9ad6-eb142d3acae1",
   "metadata": {},
   "outputs": [],
   "source": []
  },
  {
   "cell_type": "code",
   "execution_count": null,
   "id": "a831dbe5-39a9-4e5c-b2fa-9f4733a3784e",
   "metadata": {},
   "outputs": [],
   "source": []
  }
 ],
 "metadata": {
  "kernelspec": {
   "display_name": "Python 3",
   "language": "python",
   "name": "python3"
  },
  "language_info": {
   "codemirror_mode": {
    "name": "ipython",
    "version": 3
   },
   "file_extension": ".py",
   "mimetype": "text/x-python",
   "name": "python",
   "nbconvert_exporter": "python",
   "pygments_lexer": "ipython3",
   "version": "3.7.5"
  }
 },
 "nbformat": 4,
 "nbformat_minor": 5
}
