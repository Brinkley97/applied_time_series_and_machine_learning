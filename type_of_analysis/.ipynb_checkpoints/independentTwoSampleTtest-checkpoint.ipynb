{
 "cells": [
  {
   "cell_type": "markdown",
   "id": "ecafe593-4477-4f39-819f-935377f025b5",
   "metadata": {
    "tags": []
   },
   "source": [
    "# Independent Two-Sample T-test\n",
    "\n",
    "- Can \"Run All Cells\""
   ]
  },
  {
   "cell_type": "markdown",
   "id": "eb84903c-284a-40b6-817b-6fadb4a782a7",
   "metadata": {
    "tags": []
   },
   "source": [
    "# TODOs\n",
    "\n",
    "1. [x] Imports\n",
    "2. [x] Calculate Independent Two-Sample T-test (verify with [1])"
   ]
  },
  {
   "cell_type": "markdown",
   "id": "46488f5b-47f4-470f-9786-a59251f3a2a6",
   "metadata": {
    "tags": []
   },
   "source": [
    "## 1. Imports + Load Data"
   ]
  },
  {
   "cell_type": "code",
   "execution_count": 1,
   "id": "f77fe85a-2b2d-49f8-b053-ab2837cd1d9d",
   "metadata": {},
   "outputs": [],
   "source": [
    "import pandas as pd\n",
    "from scipy.stats import ttest_ind"
   ]
  },
  {
   "cell_type": "code",
   "execution_count": 2,
   "id": "7d37dfa9-4795-48d2-91a6-80ffe55e6ff0",
   "metadata": {},
   "outputs": [],
   "source": [
    "A_1 = [30.02, 29.99, 30.11, 29.97, 30.01, 29.99]\n",
    "A_1_series = pd.Series(A_1)\n",
    "\n",
    "A_2 = [29.89, 29.93, 29.72, 29.98, 30.02, 29.98]\n",
    "A_2_series = pd.Series(A_2)"
   ]
  },
  {
   "cell_type": "code",
   "execution_count": 3,
   "id": "65e4975d-fd4b-4ada-99e5-643730d83d7d",
   "metadata": {},
   "outputs": [],
   "source": [
    "def ind_two_sample_t_test(group_1, group_2):\n",
    "    \"\"\"\n",
    "    \n",
    "    Parameters:\n",
    "    group_1 -- pd series\n",
    "    group_2 -- pd series\n",
    "    \n",
    "    Return:\n",
    "    t -- float\n",
    "    \"\"\"\n",
    "    n_1 = len(group_1)\n",
    "    n_2 = len(group_2)\n",
    "    \n",
    "    X_1_sample_mean = group_1.mean()\n",
    "    X_2_sample_mean = group_2.mean()\n",
    "    \n",
    "    X_1_variance = group_1.std() ** 2\n",
    "    X_2_variance = group_2.std() ** 2\n",
    "    \n",
    "    s_p = (((n_1 - 1) * X_1_variance + (n_2 - 1) * X_2_variance) / (n_1 + n_2 - 2)) ** (1/2)\n",
    "    print(s_p)\n",
    "\n",
    "    t = (X_1_sample_mean - X_2_sample_mean) / (s_p * (((1 / n_1) + (1 / n_2)) ** (1/2)))\n",
    "    return t"
   ]
  },
  {
   "cell_type": "code",
   "execution_count": 4,
   "id": "7f5d5024-ff40-47ce-aede-e34d28cbfef5",
   "metadata": {},
   "outputs": [
    {
     "name": "stdout",
     "output_type": "stream",
     "text": [
      "0.08399404740813515\n"
     ]
    },
    {
     "data": {
      "text/plain": [
       "1.9590058081081436"
      ]
     },
     "execution_count": 4,
     "metadata": {},
     "output_type": "execute_result"
    }
   ],
   "source": [
    "ind_two_sample_t_test(A_1_series, A_2_series)"
   ]
  },
  {
   "cell_type": "code",
   "execution_count": 5,
   "id": "07dd1d59-e1af-4cf9-9815-89f08ed6e9c6",
   "metadata": {},
   "outputs": [
    {
     "data": {
      "text/plain": [
       "Ttest_indResult(statistic=1.9590058081081436, pvalue=0.07856577385723071)"
      ]
     },
     "execution_count": 5,
     "metadata": {},
     "output_type": "execute_result"
    }
   ],
   "source": [
    "# verify outcome of my function with\n",
    "ttest_ind(A_1_series, A_2_series)"
   ]
  },
  {
   "cell_type": "markdown",
   "id": "cd8fbbb9-164f-4478-b17e-b382d6733d8c",
   "metadata": {
    "tags": []
   },
   "source": [
    "# References"
   ]
  },
  {
   "cell_type": "markdown",
   "id": "92a5818c-fd14-4e42-95bb-63eb181a74a3",
   "metadata": {},
   "source": [
    "1. [Student T-test wiki](https://en.wikipedia.org/wiki/Student%27s_t-test)"
   ]
  },
  {
   "cell_type": "code",
   "execution_count": null,
   "id": "0c5f8b57-0238-4d8b-a30b-0c00929f686e",
   "metadata": {},
   "outputs": [],
   "source": []
  }
 ],
 "metadata": {
  "kernelspec": {
   "display_name": "Python 3 (ipykernel)",
   "language": "python",
   "name": "python3"
  },
  "language_info": {
   "codemirror_mode": {
    "name": "ipython",
    "version": 3
   },
   "file_extension": ".py",
   "mimetype": "text/x-python",
   "name": "python",
   "nbconvert_exporter": "python",
   "pygments_lexer": "ipython3",
   "version": "3.9.7"
  }
 },
 "nbformat": 4,
 "nbformat_minor": 5
}
