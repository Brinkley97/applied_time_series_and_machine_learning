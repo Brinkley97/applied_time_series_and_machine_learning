{
 "cells": [
  {
   "cell_type": "markdown",
   "id": "ecafe593-4477-4f39-819f-935377f025b5",
   "metadata": {
    "tags": []
   },
   "source": [
    "# Independent Two-Sample T-test\n",
    "\n",
    "- Can \"Run All Cells\""
   ]
  },
  {
   "cell_type": "markdown",
   "id": "eb84903c-284a-40b6-817b-6fadb4a782a7",
   "metadata": {
    "tags": []
   },
   "source": [
    "# TODOs\n",
    "\n",
    "1. [x] Imports\n",
    "2. [x] Calculate Independent Two-Sample T-test (verify with [1])"
   ]
  },
  {
   "cell_type": "markdown",
   "id": "46488f5b-47f4-470f-9786-a59251f3a2a6",
   "metadata": {
    "tags": []
   },
   "source": [
    "## 1. Imports + Load Data"
   ]
  },
  {
   "cell_type": "code",
   "execution_count": 1,
   "id": "f77fe85a-2b2d-49f8-b053-ab2837cd1d9d",
   "metadata": {},
   "outputs": [],
   "source": [
    "import pandas as pd"
   ]
  },
  {
   "cell_type": "code",
   "execution_count": 2,
   "id": "7d37dfa9-4795-48d2-91a6-80ffe55e6ff0",
   "metadata": {},
   "outputs": [],
   "source": [
    "A_1 = [30.02, 29.99, 30.11, 29.97, 30.01, 29.99]\n",
    "A_1_df = pd.Series(A_1)\n",
    "\n",
    "A_2 = [29.89, 29.93, 29.72, 29.98, 30.02, 29.98]\n",
    "A_2_df = pd.Series(A_2)"
   ]
  },
  {
   "cell_type": "code",
   "execution_count": 3,
   "id": "c4cd954a-0da0-4a15-ac98-c805d0d7e3c0",
   "metadata": {},
   "outputs": [
    {
     "name": "stdout",
     "output_type": "stream",
     "text": [
      "30.015\n",
      "29.919999999999998\n",
      "0.09500000000000242\n"
     ]
    }
   ],
   "source": [
    "a1m = A_1_df.mean()\n",
    "print(a1m)\n",
    "a2m = A_2_df.mean()\n",
    "print(a2m)\n",
    "final_mean = a1m - a2m\n",
    "print(final_mean)"
   ]
  },
  {
   "cell_type": "code",
   "execution_count": 4,
   "id": "21231af4-fc6a-45a5-a6e9-06c95377120e",
   "metadata": {},
   "outputs": [
    {
     "name": "stdout",
     "output_type": "stream",
     "text": [
      "0.05\n",
      "0.11\n",
      "0.04969909455915697\n",
      "0.10788883167408982\n"
     ]
    }
   ],
   "source": [
    "a1std = round(A_1_df.std(), 2)\n",
    "print(a1std)\n",
    "a2std = round(A_2_df.std(), 2)\n",
    "print(a2std)\n",
    "\n",
    "a1std = A_1_df.std()\n",
    "print(a1std)\n",
    "a2std = A_2_df.std()\n",
    "print(a2std)"
   ]
  },
  {
   "cell_type": "code",
   "execution_count": 5,
   "id": "28b0bcfa-9bb0-43c1-bbe9-71487c8cdea2",
   "metadata": {},
   "outputs": [
    {
     "name": "stdout",
     "output_type": "stream",
     "text": [
      "0.08399404740813515\n"
     ]
    },
    {
     "data": {
      "text/plain": [
       "1.9590058081081436"
      ]
     },
     "execution_count": 5,
     "metadata": {},
     "output_type": "execute_result"
    }
   ],
   "source": [
    "n1 = len(A_1_df)\n",
    "n2 = len(A_2_df)\n",
    "\n",
    "v1 = a1std ** 2\n",
    "v2 = a2std ** 2\n",
    "\n",
    "a1 = (n1 - 1) * v1\n",
    "# print(a1)\n",
    "a2 = (n2 - 1) * v2\n",
    "# print(a2)\n",
    "\n",
    "a = a1 + a2\n",
    "n = n1 + n2 - 2\n",
    "\n",
    "s_p = (a / n) ** (1/2)\n",
    "print(s_p)\n",
    "\n",
    "ns = (1 / n1) + (1 / n2)\n",
    "b = ns ** (1/2)\n",
    "\n",
    "t = final_mean / (s_p * b)\n",
    "t"
   ]
  },
  {
   "cell_type": "markdown",
   "id": "cd8fbbb9-164f-4478-b17e-b382d6733d8c",
   "metadata": {
    "tags": []
   },
   "source": [
    "# References"
   ]
  },
  {
   "cell_type": "markdown",
   "id": "92a5818c-fd14-4e42-95bb-63eb181a74a3",
   "metadata": {},
   "source": [
    "1. [Student T-test wiki](https://en.wikipedia.org/wiki/Student%27s_t-test)"
   ]
  },
  {
   "cell_type": "code",
   "execution_count": null,
   "id": "0c5f8b57-0238-4d8b-a30b-0c00929f686e",
   "metadata": {},
   "outputs": [],
   "source": []
  }
 ],
 "metadata": {
  "kernelspec": {
   "display_name": "Python 3 (ipykernel)",
   "language": "python",
   "name": "python3"
  },
  "language_info": {
   "codemirror_mode": {
    "name": "ipython",
    "version": 3
   },
   "file_extension": ".py",
   "mimetype": "text/x-python",
   "name": "python",
   "nbconvert_exporter": "python",
   "pygments_lexer": "ipython3",
   "version": "3.9.7"
  }
 },
 "nbformat": 4,
 "nbformat_minor": 5
}
