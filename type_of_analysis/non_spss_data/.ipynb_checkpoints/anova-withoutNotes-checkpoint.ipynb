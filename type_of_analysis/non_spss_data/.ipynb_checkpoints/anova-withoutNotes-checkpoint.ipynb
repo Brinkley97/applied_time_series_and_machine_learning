{
 "cells": [
  {
   "cell_type": "markdown",
   "id": "cf68fb05-bd83-4b3b-a4a3-e6c140600627",
   "metadata": {},
   "source": [
    "# Analysis of Variance (ANOVA)\n",
    "- "
   ]
  },
  {
   "cell_type": "markdown",
   "id": "b781dcef-5431-4509-b8f3-d1892f374a91",
   "metadata": {},
   "source": [
    "## Load Dataset"
   ]
  },
  {
   "cell_type": "code",
   "execution_count": 1,
   "id": "1b662105-8e97-4e3b-b251-0aa8b0c15e70",
   "metadata": {},
   "outputs": [],
   "source": [
    "import numpy as np"
   ]
  },
  {
   "cell_type": "code",
   "execution_count": 2,
   "id": "483b1849-a281-43bc-bfa7-6ba9ae2d004a",
   "metadata": {},
   "outputs": [
    {
     "name": "stdout",
     "output_type": "stream",
     "text": [
      "[[194 184 189 189 188 186 195 186 183 188]\n",
      " [189 204 190 190 189 207 203 193 181 206]\n",
      " [185 183 186 183 179 191 188 196 189 194]\n",
      " [183 193 184 186 194 199 196 188 193 196]\n",
      " [195 197 194 202 200 211 203 206 202 195]] 5 x 10\n"
     ]
    }
   ],
   "source": [
    "brands = np.array([\n",
    "    [194, 189, 185, 183, 195],\n",
    "    [184, 204, 183, 193, 197],\n",
    "    [189, 190, 186, 184, 194],\n",
    "    [189, 190, 183, 186, 202],\n",
    "    [188, 189, 179, 194, 200],\n",
    "    [186, 207, 191, 199, 211],\n",
    "    [195, 203, 188, 196, 203],\n",
    "    [186, 193, 196, 188, 206],\n",
    "    [183, 181, 189, 193, 202],\n",
    "    [188, 206, 194, 196, 195]\n",
    "    ])\n",
    "\n",
    "brands_T = brands.T\n",
    "num_of_brands = brands_T.shape[0]\n",
    "num_of_values_for_each_brand = brands_T.shape[1]\n",
    "\n",
    "print(brands_T, num_of_brands, \"x\", num_of_values_for_each_brand)"
   ]
  },
  {
   "cell_type": "code",
   "execution_count": 3,
   "id": "8c34af04-c213-4755-97a3-4910249dbcab",
   "metadata": {},
   "outputs": [],
   "source": [
    "each_distribution_mean = []\n",
    "\n",
    "def separate_sample_mean(distributions):\n",
    "\n",
    "    for row in range(len(distributions)):\n",
    "        each_distribution_mean.append(np.mean(distributions[row]))\n",
    "\n",
    "    return each_distribution_mean\n",
    "\n",
    "def grand_mean(ssm):\n",
    "    \n",
    "    return round(np.mean(ssm), 1)\n",
    "\n",
    "def calc_ss_between(N, each_distribution_mean, combined_mean):\n",
    "\n",
    "    ssb = np.sum(np.multiply(N, np.square(each_distribution_mean - combined_mean)))\n",
    "    \n",
    "    return ssb\n",
    "\n",
    "def calc_ss_within(data, each_distribution_mean):\n",
    "    # print(x, x_mean)\n",
    "    ss_within = np.sum(np.square(np.subtract(each_distribution_mean, data.T)))\n",
    "    \n",
    "    return ss_within\n",
    "\n",
    "degrees_of_freedom = []\n",
    "\n",
    "def calc_df(n, m):\n",
    "    # print(n, m)\n",
    "    factor = m - 1\n",
    "    degrees_of_freedom.append(factor)\n",
    "    error = n - m\n",
    "    degrees_of_freedom.append(error)\n",
    "    total = n - 1\n",
    "    degrees_of_freedom.append(total)\n",
    "    \n",
    "    # print(degrees_of_freedom)\n",
    "    return degrees_of_freedom\n",
    "\n",
    "ms = []\n",
    "def calc_ms(data, num_of_values_for_each_brand, degrees_of_freedom, each_distribution_mean, combined_mean):\n",
    "    \n",
    "    ss_between = calc_ss_between(num_of_values_for_each_brand, each_distribution_mean, combined_mean)\n",
    "    ms_between = ss_between / degrees_of_freedom[0]\n",
    "    ms.append(ms_between)\n",
    "    \n",
    "    ss_within = calc_ss_within(data, each_distribution_mean)\n",
    "    ms_within = ss_within / degrees_of_freedom[1]\n",
    "    ms.append(ms_within)\n",
    "    \n",
    "    return ms\n",
    "\n",
    "def calc_ss_total(spread_within_a_distribution, spread_between_distributions):\n",
    "    return spread_within_a_distribution + spread_between_distributions\n",
    "\n",
    "def calc_f(ms_between, ms_within):\n",
    "    \n",
    "    return ms_between / ms_within"
   ]
  },
  {
   "cell_type": "code",
   "execution_count": 4,
   "id": "6e470a96-d00a-497d-8820-700eaf878eb9",
   "metadata": {},
   "outputs": [
    {
     "data": {
      "text/plain": [
       "[188.2, 195.2, 187.4, 191.2, 200.5]"
      ]
     },
     "execution_count": 4,
     "metadata": {},
     "output_type": "execute_result"
    }
   ],
   "source": [
    "ssm = separate_sample_mean(brands_T)\n",
    "ssm"
   ]
  },
  {
   "cell_type": "code",
   "execution_count": 5,
   "id": "c6993ca5-0d55-4a72-aa2a-bdcecc516cff",
   "metadata": {},
   "outputs": [
    {
     "data": {
      "text/plain": [
       "192.5"
      ]
     },
     "execution_count": 5,
     "metadata": {},
     "output_type": "execute_result"
    }
   ],
   "source": [
    "gm = grand_mean(ssm)\n",
    "gm"
   ]
  },
  {
   "cell_type": "code",
   "execution_count": 6,
   "id": "1a0a0cee-9e46-4873-9e7c-e31a519f5d81",
   "metadata": {},
   "outputs": [
    {
     "data": {
      "text/plain": [
       "1174.8000000000002"
      ]
     },
     "execution_count": 6,
     "metadata": {},
     "output_type": "execute_result"
    }
   ],
   "source": [
    "s_s_b = calc_ss_between(num_of_values_for_each_brand, ssm, gm)\n",
    "s_s_b"
   ]
  },
  {
   "cell_type": "code",
   "execution_count": 7,
   "id": "ea8c52c5-3036-4ded-9ae9-8e4de4ba3c16",
   "metadata": {},
   "outputs": [
    {
     "data": {
      "text/plain": [
       "1661.7"
      ]
     },
     "execution_count": 7,
     "metadata": {},
     "output_type": "execute_result"
    }
   ],
   "source": [
    "s_s_m = calc_ss_within(brands_T, ssm)\n",
    "s_s_m"
   ]
  },
  {
   "cell_type": "code",
   "execution_count": 8,
   "id": "c750f8ff-43b8-4b6a-83b7-0a8559b18899",
   "metadata": {},
   "outputs": [
    {
     "data": {
      "text/plain": [
       "[293.70000000000005, 36.92666666666667]"
      ]
     },
     "execution_count": 8,
     "metadata": {},
     "output_type": "execute_result"
    }
   ],
   "source": [
    "n = len(brands_T) * len(brands_T[1])\n",
    "m = len(brands_T)\n",
    "df = calc_df(n, m)\n",
    "# ms = calc_ms(ssm, gm, brands_T, df)\n",
    "ms = calc_ms(brands_T, num_of_values_for_each_brand, df, ssm, gm)\n",
    "ms"
   ]
  },
  {
   "cell_type": "code",
   "execution_count": 9,
   "id": "8aa5a52f-7860-48d1-b8f9-0371c7fee359",
   "metadata": {},
   "outputs": [
    {
     "data": {
      "text/plain": [
       "2836.5"
      ]
     },
     "execution_count": 9,
     "metadata": {},
     "output_type": "execute_result"
    }
   ],
   "source": [
    "calc_ss_total(s_s_m, s_s_b)"
   ]
  },
  {
   "cell_type": "code",
   "execution_count": 10,
   "id": "a2e0a870-ed07-4022-bc47-7dcf13c27c1c",
   "metadata": {},
   "outputs": [
    {
     "data": {
      "text/plain": [
       "7.953601733164832"
      ]
     },
     "execution_count": 10,
     "metadata": {},
     "output_type": "execute_result"
    }
   ],
   "source": [
    "msb = ms[0]\n",
    "mse = ms[1]\n",
    "f = calc_f(msb, mse)\n",
    "f"
   ]
  },
  {
   "cell_type": "code",
   "execution_count": null,
   "id": "b0745693-3aa1-4015-972e-6e531642d87b",
   "metadata": {},
   "outputs": [],
   "source": []
  }
 ],
 "metadata": {
  "kernelspec": {
   "display_name": "Python 3",
   "language": "python",
   "name": "python3"
  },
  "language_info": {
   "codemirror_mode": {
    "name": "ipython",
    "version": 3
   },
   "file_extension": ".py",
   "mimetype": "text/x-python",
   "name": "python",
   "nbconvert_exporter": "python",
   "pygments_lexer": "ipython3",
   "version": "3.7.5"
  }
 },
 "nbformat": 4,
 "nbformat_minor": 5
}
