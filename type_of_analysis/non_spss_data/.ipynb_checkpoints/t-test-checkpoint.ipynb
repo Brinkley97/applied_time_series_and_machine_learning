{
 "cells": [
  {
   "cell_type": "markdown",
   "id": "c317d8f5-1e66-4f86-9114-eba2f49fa9ac",
   "metadata": {},
   "source": [
    "# T-Test"
   ]
  },
  {
   "cell_type": "code",
   "execution_count": 2,
   "id": "a262b0ee-fe2c-4789-a796-48d2f34370a6",
   "metadata": {},
   "outputs": [],
   "source": [
    "import numpy as np"
   ]
  },
  {
   "cell_type": "code",
   "execution_count": 4,
   "id": "4b7f2cfa-bd39-4750-86b1-b331fb3764ad",
   "metadata": {},
   "outputs": [
    {
     "data": {
      "text/plain": [
       "array([[1, 2, 2, 3, 3, 4, 4, 5, 5, 6],\n",
       "       [1, 2, 4, 5, 5, 5, 6, 6, 7, 9]])"
      ]
     },
     "execution_count": 4,
     "metadata": {},
     "output_type": "execute_result"
    }
   ],
   "source": [
    "data = np.array([\n",
    "                [1, 2, 2, 3, 3, 4, 4, 5, 5, 6],\n",
    "                [1, 2, 4, 5, 5, 5, 6, 6, 7, 9]\n",
    "                ])\n",
    "data"
   ]
  },
  {
   "cell_type": "code",
   "execution_count": 141,
   "id": "5a30bb7c-6f95-4dbf-98d2-06734b4911cc",
   "metadata": {},
   "outputs": [],
   "source": [
    "sum_of_groups = []\n",
    "square_sum_groups = []\n",
    "mean_values = []\n",
    "square_values = []\n",
    "sum_squares_values = []\n",
    "def t_test_analysis(groups):\n",
    "    \n",
    "    for group in range(len(groups)):\n",
    "        sum_each_group = np.sum(groups[group])\n",
    "        print(\"sum_each_group : \", sum_each_group)\n",
    "        sum_of_groups.append(sum_each_group)\n",
    "\n",
    "        square_sum_of_each_group = np.square(sum_each_group)\n",
    "        print(\"square_sum_of_each_group : \", square_sum_of_each_group)\n",
    "        square_sum_groups.append(square_sum_of_each_group)\n",
    "        print(\"square_sum_groups : \", square_sum_groups)\n",
    "        \n",
    "        mean = sum_each_group / len(groups[group])\n",
    "        print(\"mean : \", mean)\n",
    "        mean_values.append(mean)\n",
    "        print(\"mean_values : \", mean_values)\n",
    "        \n",
    "        square_each_value = np.square(groups[group])\n",
    "        print(\"square_each_value : \", square_each_value)\n",
    "        square_values.append(square_each_value)\n",
    "        print(\"square_values : \", square_values)\n",
    "        \n",
    "        sum_squares = np.sum(square_each_value)\n",
    "        print(\"sum_squares : \", sum_squares)\n",
    "        sum_squares_values.append(sum_squares)\n",
    "        print(\"sum_squares_values : \", sum_squares_values)\n",
    "        \n",
    "        print(\"\\n\")\n",
    "    \n",
    "\n",
    "    t_numerator = np.subtract(mean_values[0], mean_values[1])\n",
    "    print(\"t_numerator : \", t_numerator)\n",
    "\n",
    "    t_denominator_divide = np.divide(square_sum_groups, groups.shape[1])\n",
    "    print(\"t_denominator_divide : \", t_denominator_divide)\n",
    "\n",
    "    t_denominator_sum = np.sum(np.subtract(sum_squares_values, t_denominator_divide))\n",
    "    print(\"t_denominator_sum : \", t_denominator_sum)\n",
    "    \n",
    "    t_demoninator_dof = np.subtract(np.add(groups.shape[1], groups.shape[1]), groups.shape[0])\n",
    "    print(\"t_demoninator_dof : \", t_demoninator_dof)\n",
    "    \n",
    "    t_denominator_sum_dof = t_denominator_sum / t_demoninator_dof\n",
    "    print(\"t_denominator_sum_dof : \", t_denominator_sum_dof)\n",
    "    \n",
    "    t_denominator_sqrt = np.sqrt(t_denominator_sum_dof)\n",
    "    print(\"t_denominator_sqrt : \", t_denominator_sqrt)\n",
    "    \n",
    "    t_denominator = np.multiply(t_denominator_sum_dof, (2/10))\n",
    "    print(\"t_denominator : \", t_denominator)\n",
    "    \n",
    "    t = t_numerator / np.sqrt(t_denominator)\n",
    "    return t"
   ]
  },
  {
   "cell_type": "code",
   "execution_count": 142,
   "id": "96bfe82d-0214-4755-95e0-5970681c4dd9",
   "metadata": {},
   "outputs": [
    {
     "name": "stdout",
     "output_type": "stream",
     "text": [
      "sum_each_group :  35\n",
      "square_sum_of_each_group :  1225\n",
      "square_sum_groups :  [1225]\n",
      "mean :  3.5\n",
      "mean_values :  [3.5]\n",
      "square_each_value :  [ 1  4  4  9  9 16 16 25 25 36]\n",
      "square_values :  [array([ 1,  4,  4,  9,  9, 16, 16, 25, 25, 36])]\n",
      "sum_squares :  145\n",
      "sum_squares_values :  [145]\n",
      "\n",
      "\n",
      "sum_each_group :  50\n",
      "square_sum_of_each_group :  2500\n",
      "square_sum_groups :  [1225, 2500]\n",
      "mean :  5.0\n",
      "mean_values :  [3.5, 5.0]\n",
      "square_each_value :  [ 1  4 16 25 25 25 36 36 49 81]\n",
      "square_values :  [array([ 1,  4,  4,  9,  9, 16, 16, 25, 25, 36]), array([ 1,  4, 16, 25, 25, 25, 36, 36, 49, 81])]\n",
      "sum_squares :  298\n",
      "sum_squares_values :  [145, 298]\n",
      "\n",
      "\n",
      "t_numerator :  -1.5\n",
      "t_denominator_divide :  [122.5 250. ]\n",
      "t_denominator_sum :  70.5\n",
      "t_demoninator_dof :  18\n",
      "t_denominator_sum_dof :  3.9166666666666665\n",
      "t_denominator_sqrt :  1.9790570145063195\n",
      "t_denominator :  0.7833333333333333\n"
     ]
    },
    {
     "data": {
      "text/plain": [
       "-1.6947980485980962"
      ]
     },
     "execution_count": 142,
     "metadata": {},
     "output_type": "execute_result"
    }
   ],
   "source": [
    "t_test_analysis(data)"
   ]
  },
  {
   "cell_type": "code",
   "execution_count": null,
   "id": "117b65de-0470-4fab-9b2a-5a5faa906123",
   "metadata": {},
   "outputs": [],
   "source": []
  }
 ],
 "metadata": {
  "kernelspec": {
   "display_name": "Python 3",
   "language": "python",
   "name": "python3"
  },
  "language_info": {
   "codemirror_mode": {
    "name": "ipython",
    "version": 3
   },
   "file_extension": ".py",
   "mimetype": "text/x-python",
   "name": "python",
   "nbconvert_exporter": "python",
   "pygments_lexer": "ipython3",
   "version": "3.7.5"
  }
 },
 "nbformat": 4,
 "nbformat_minor": 5
}
