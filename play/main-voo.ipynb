{
 "cells": [
  {
   "cell_type": "markdown",
   "id": "f706d3a3-596e-4ee1-a442-f7d90b3e16b0",
   "metadata": {},
   "source": [
    "# VOO\n",
    "\n",
    "- Source: [Vanguard 500 Index Fund (VOO)](https://finance.yahoo.com/quote/VOO/history?p=VOO)"
   ]
  },
  {
   "cell_type": "markdown",
   "id": "707f4bf8-264c-44ea-9550-362ec6157a4d",
   "metadata": {},
   "source": [
    "# Imports + Load Data"
   ]
  },
  {
   "cell_type": "code",
   "execution_count": 1,
   "id": "d8fe679c-a749-4b96-b486-54b106500de9",
   "metadata": {},
   "outputs": [],
   "source": [
    "import pandas as pd"
   ]
  },
  {
   "cell_type": "code",
   "execution_count": 2,
   "id": "04d0e73a-93a3-4829-a65a-cc70e810d7ac",
   "metadata": {},
   "outputs": [],
   "source": [
    "BASE = '/Users/brinkley97/Documents/development/'\n",
    "DATASETS = 'applied_time_series_and_machine_learning/datasets/yahoo_finance/'"
   ]
  },
  {
   "cell_type": "code",
   "execution_count": 3,
   "id": "2dab4a3e-f028-4f33-9f8e-a870759b1749",
   "metadata": {},
   "outputs": [],
   "source": [
    "VOO_DAILY_FILE = BASE + DATASETS + 'VOO_DAILY_06-02-23_TO_06-06-22.csv'"
   ]
  },
  {
   "cell_type": "code",
   "execution_count": 4,
   "id": "5d9f4630-d133-46df-91ec-b9ce93c63d5d",
   "metadata": {},
   "outputs": [],
   "source": [
    "def load_data(file):\n",
    "    \n",
    "    original_data = pd.read_csv(file)\n",
    "    copy_of_data = original_data.copy()\n",
    "    \n",
    "    return copy_of_data"
   ]
  },
  {
   "cell_type": "markdown",
   "id": "587aad6d-7859-4029-b700-d71b786fd0cb",
   "metadata": {},
   "source": [
    "# Preprocessing"
   ]
  },
  {
   "cell_type": "markdown",
   "id": "9efe3a10-c8fd-4469-a7d4-4a4a8dccdd02",
   "metadata": {},
   "source": [
    "## Multivariate Time Series of VOO"
   ]
  },
  {
   "cell_type": "code",
   "execution_count": 5,
   "id": "b3e316ab-f5ac-4233-a0df-cadcb6c8b059",
   "metadata": {},
   "outputs": [
    {
     "data": {
      "text/html": [
       "<div>\n",
       "<style scoped>\n",
       "    .dataframe tbody tr th:only-of-type {\n",
       "        vertical-align: middle;\n",
       "    }\n",
       "\n",
       "    .dataframe tbody tr th {\n",
       "        vertical-align: top;\n",
       "    }\n",
       "\n",
       "    .dataframe thead th {\n",
       "        text-align: right;\n",
       "    }\n",
       "</style>\n",
       "<table border=\"1\" class=\"dataframe\">\n",
       "  <thead>\n",
       "    <tr style=\"text-align: right;\">\n",
       "      <th></th>\n",
       "      <th>Date</th>\n",
       "      <th>Open</th>\n",
       "      <th>High</th>\n",
       "      <th>Low</th>\n",
       "      <th>Close</th>\n",
       "      <th>Adj Close</th>\n",
       "      <th>Volume</th>\n",
       "    </tr>\n",
       "  </thead>\n",
       "  <tbody>\n",
       "    <tr>\n",
       "      <th>0</th>\n",
       "      <td>2022-06-06</td>\n",
       "      <td>381.329987</td>\n",
       "      <td>382.959991</td>\n",
       "      <td>377.410004</td>\n",
       "      <td>378.470001</td>\n",
       "      <td>371.954468</td>\n",
       "      <td>2659500</td>\n",
       "    </tr>\n",
       "    <tr>\n",
       "      <th>1</th>\n",
       "      <td>2022-06-07</td>\n",
       "      <td>375.160004</td>\n",
       "      <td>382.609985</td>\n",
       "      <td>374.709991</td>\n",
       "      <td>382.170013</td>\n",
       "      <td>375.590790</td>\n",
       "      <td>2649900</td>\n",
       "    </tr>\n",
       "    <tr>\n",
       "      <th>2</th>\n",
       "      <td>2022-06-08</td>\n",
       "      <td>380.500000</td>\n",
       "      <td>382.230011</td>\n",
       "      <td>377.260010</td>\n",
       "      <td>377.989990</td>\n",
       "      <td>371.482727</td>\n",
       "      <td>3436400</td>\n",
       "    </tr>\n",
       "    <tr>\n",
       "      <th>3</th>\n",
       "      <td>2022-06-09</td>\n",
       "      <td>376.239990</td>\n",
       "      <td>378.440002</td>\n",
       "      <td>369.019989</td>\n",
       "      <td>369.100006</td>\n",
       "      <td>362.745789</td>\n",
       "      <td>3022000</td>\n",
       "    </tr>\n",
       "    <tr>\n",
       "      <th>4</th>\n",
       "      <td>2022-06-10</td>\n",
       "      <td>362.929993</td>\n",
       "      <td>363.690002</td>\n",
       "      <td>358.230011</td>\n",
       "      <td>358.269989</td>\n",
       "      <td>352.102234</td>\n",
       "      <td>7629700</td>\n",
       "    </tr>\n",
       "    <tr>\n",
       "      <th>...</th>\n",
       "      <td>...</td>\n",
       "      <td>...</td>\n",
       "      <td>...</td>\n",
       "      <td>...</td>\n",
       "      <td>...</td>\n",
       "      <td>...</td>\n",
       "      <td>...</td>\n",
       "    </tr>\n",
       "    <tr>\n",
       "      <th>245</th>\n",
       "      <td>2023-05-26</td>\n",
       "      <td>381.640015</td>\n",
       "      <td>386.570007</td>\n",
       "      <td>381.540009</td>\n",
       "      <td>385.869995</td>\n",
       "      <td>385.869995</td>\n",
       "      <td>3042800</td>\n",
       "    </tr>\n",
       "    <tr>\n",
       "      <th>246</th>\n",
       "      <td>2023-05-30</td>\n",
       "      <td>387.760010</td>\n",
       "      <td>388.260010</td>\n",
       "      <td>384.760010</td>\n",
       "      <td>385.989990</td>\n",
       "      <td>385.989990</td>\n",
       "      <td>3968500</td>\n",
       "    </tr>\n",
       "    <tr>\n",
       "      <th>247</th>\n",
       "      <td>2023-05-31</td>\n",
       "      <td>384.309998</td>\n",
       "      <td>385.160004</td>\n",
       "      <td>382.420013</td>\n",
       "      <td>383.890015</td>\n",
       "      <td>383.890015</td>\n",
       "      <td>4205300</td>\n",
       "    </tr>\n",
       "    <tr>\n",
       "      <th>248</th>\n",
       "      <td>2023-06-01</td>\n",
       "      <td>384.200012</td>\n",
       "      <td>388.570007</td>\n",
       "      <td>382.970001</td>\n",
       "      <td>387.570007</td>\n",
       "      <td>387.570007</td>\n",
       "      <td>3563600</td>\n",
       "    </tr>\n",
       "    <tr>\n",
       "      <th>249</th>\n",
       "      <td>2023-06-02</td>\n",
       "      <td>390.079987</td>\n",
       "      <td>393.959991</td>\n",
       "      <td>389.540009</td>\n",
       "      <td>393.260010</td>\n",
       "      <td>393.260010</td>\n",
       "      <td>7365800</td>\n",
       "    </tr>\n",
       "  </tbody>\n",
       "</table>\n",
       "<p>250 rows × 7 columns</p>\n",
       "</div>"
      ],
      "text/plain": [
       "           Date        Open        High         Low       Close   Adj Close  \\\n",
       "0    2022-06-06  381.329987  382.959991  377.410004  378.470001  371.954468   \n",
       "1    2022-06-07  375.160004  382.609985  374.709991  382.170013  375.590790   \n",
       "2    2022-06-08  380.500000  382.230011  377.260010  377.989990  371.482727   \n",
       "3    2022-06-09  376.239990  378.440002  369.019989  369.100006  362.745789   \n",
       "4    2022-06-10  362.929993  363.690002  358.230011  358.269989  352.102234   \n",
       "..          ...         ...         ...         ...         ...         ...   \n",
       "245  2023-05-26  381.640015  386.570007  381.540009  385.869995  385.869995   \n",
       "246  2023-05-30  387.760010  388.260010  384.760010  385.989990  385.989990   \n",
       "247  2023-05-31  384.309998  385.160004  382.420013  383.890015  383.890015   \n",
       "248  2023-06-01  384.200012  388.570007  382.970001  387.570007  387.570007   \n",
       "249  2023-06-02  390.079987  393.959991  389.540009  393.260010  393.260010   \n",
       "\n",
       "      Volume  \n",
       "0    2659500  \n",
       "1    2649900  \n",
       "2    3436400  \n",
       "3    3022000  \n",
       "4    7629700  \n",
       "..       ...  \n",
       "245  3042800  \n",
       "246  3968500  \n",
       "247  4205300  \n",
       "248  3563600  \n",
       "249  7365800  \n",
       "\n",
       "[250 rows x 7 columns]"
      ]
     },
     "execution_count": 5,
     "metadata": {},
     "output_type": "execute_result"
    }
   ],
   "source": [
    "voo_daily_df = load_data(VOO_DAILY_FILE)\n",
    "voo_daily_df"
   ]
  },
  {
   "cell_type": "markdown",
   "id": "f6350e19-7fbc-48a9-b02f-27c6016d4084",
   "metadata": {},
   "source": [
    "## Univariate Time Series of VOO"
   ]
  },
  {
   "cell_type": "code",
   "execution_count": 6,
   "id": "18e8bfec-6778-4f43-a537-8c5013b31487",
   "metadata": {},
   "outputs": [
    {
     "data": {
      "text/plain": [
       "0      381.329987\n",
       "1      375.160004\n",
       "2      380.500000\n",
       "3      376.239990\n",
       "4      362.929993\n",
       "          ...    \n",
       "245    381.640015\n",
       "246    387.760010\n",
       "247    384.309998\n",
       "248    384.200012\n",
       "249    390.079987\n",
       "Name: Open, Length: 250, dtype: float64"
      ]
     },
     "execution_count": 6,
     "metadata": {},
     "output_type": "execute_result"
    }
   ],
   "source": [
    "open_train_df = voo_daily_df.loc[:, 'Open']\n",
    "open_train_df"
   ]
  },
  {
   "cell_type": "code",
   "execution_count": null,
   "id": "3e7f4ce9-8764-4b87-ae61-cd9f6a1373ed",
   "metadata": {},
   "outputs": [],
   "source": []
  },
  {
   "cell_type": "code",
   "execution_count": 8,
   "id": "04697f93-d59d-4ea6-914c-9ce2e2e0b58f",
   "metadata": {},
   "outputs": [],
   "source": [
    "PATH_TO_BOOK = 'book-intro_to_tsf_with_python/'\n",
    "TS_AS_SML_FILE = BASE + PATH_TO_BOOK + '3-timeSeriesAsSupervisedLearning.ipynb'"
   ]
  },
  {
   "cell_type": "code",
   "execution_count": 9,
   "id": "f6a616f4-d7aa-4a4d-bd35-9a4c20d29270",
   "metadata": {},
   "outputs": [],
   "source": [
    "# %load TS_AS_SML_FILE\n",
    "# /Users/brinkley97/Documents/development/book-intro_to_tsf_with_python/3-timeSeriesAsSupervisedLearning.ipynb"
   ]
  },
  {
   "cell_type": "code",
   "execution_count": 10,
   "id": "bd64b56f-0cf0-436d-a5a7-f647d6f4984f",
   "metadata": {},
   "outputs": [
    {
     "name": "stdout",
     "output_type": "stream",
     "text": [
      "Input Univariate Time Series:\n",
      "[ 1  2  3  4  5  6  7  8  9 10] \n",
      "X of size (10,)\n",
      "\n",
      "Univariate Time Series as Supervised Machine Learning:\n",
      "[1 2 3] 4\n",
      "[2 3 4] 5\n",
      "[3 4 5] 6\n",
      "[4 5 6] 7\n",
      "[5 6 7] 8\n",
      "[6 7 8] 9\n",
      "[7 8 9] 10\n",
      "X of size (7, 3)\n",
      "y of size (7,)\n",
      "     0    0    0   0\n",
      "0  NaN  NaN  NaN   1\n",
      "1  NaN  NaN  1.0   2\n",
      "2  NaN  1.0  2.0   3\n",
      "3  1.0  2.0  3.0   4\n",
      "4  2.0  3.0  4.0   5\n",
      "5  3.0  4.0  5.0   6\n",
      "6  4.0  5.0  6.0   7\n",
      "7  5.0  6.0  7.0   8\n",
      "8  6.0  7.0  8.0   9\n",
      "9  7.0  8.0  9.0  10\n",
      "Input Univariate Time Series:\n",
      "[10, 20, 30, 40, 50, 60, 70, 80, 90] \n",
      "X of size (9,)\n",
      "\n",
      "Univariate Time Series as Supervised Machine Learning:\n",
      "X_train: \n",
      "     t-3   t-2   t-1\n",
      "3  10.0  20.0  30.0\n",
      "4  20.0  30.0  40.0\n",
      "5  30.0  40.0  50.0\n",
      "6  40.0  50.0  60.0\n",
      "7  50.0  60.0  70.0\n",
      "8  60.0  70.0  80.0\n",
      "y_train: \n",
      "     t\n",
      "3  40\n",
      "4  50\n",
      "5  60\n",
      "6  70\n",
      "7  80\n",
      "8  90\n"
     ]
    }
   ],
   "source": [
    "%run $TS_AS_SML_FILE"
   ]
  },
  {
   "cell_type": "code",
   "execution_count": 11,
   "id": "39d49424-5d19-404c-92c4-6c34048e43fb",
   "metadata": {},
   "outputs": [],
   "source": [
    "MLP_FILE = BASE + PATH_TO_BOOK + 'mlpUnivariateModel.ipynb'"
   ]
  },
  {
   "cell_type": "code",
   "execution_count": 12,
   "id": "97674aa4-74cc-489f-9a8b-229ef24b3c89",
   "metadata": {},
   "outputs": [
    {
     "name": "stderr",
     "output_type": "stream",
     "text": [
      "2023-06-06 10:05:46.077843: I tensorflow/core/platform/cpu_feature_guard.cc:193] This TensorFlow binary is optimized with oneAPI Deep Neural Network Library (oneDNN) to use the following CPU instructions in performance-critical operations:  SSE4.1 SSE4.2 AVX AVX2 FMA\n",
      "To enable them in other operations, rebuild TensorFlow with the appropriate compiler flags.\n"
     ]
    },
    {
     "name": "stdout",
     "output_type": "stream",
     "text": [
      "Input Univariate Time Series:\n",
      "[ 1  2  3  4  5  6  7  8  9 10] \n",
      "X of size (10,)\n",
      "\n",
      "Univariate Time Series as Supervised Machine Learning:\n",
      "[1 2 3] 4\n",
      "[2 3 4] 5\n",
      "[3 4 5] 6\n",
      "[4 5 6] 7\n",
      "[5 6 7] 8\n",
      "[6 7 8] 9\n",
      "[7 8 9] 10\n",
      "X of size (7, 3)\n",
      "y of size (7,)\n",
      "     0    0    0   0\n",
      "0  NaN  NaN  NaN   1\n",
      "1  NaN  NaN  1.0   2\n",
      "2  NaN  1.0  2.0   3\n",
      "3  1.0  2.0  3.0   4\n",
      "4  2.0  3.0  4.0   5\n",
      "5  3.0  4.0  5.0   6\n",
      "6  4.0  5.0  6.0   7\n",
      "7  5.0  6.0  7.0   8\n",
      "8  6.0  7.0  8.0   9\n",
      "9  7.0  8.0  9.0  10\n",
      "Input Univariate Time Series:\n",
      "[10, 20, 30, 40, 50, 60, 70, 80, 90] \n",
      "X of size (9,)\n",
      "\n",
      "Univariate Time Series as Supervised Machine Learning:\n",
      "X_train: \n",
      "     t-3   t-2   t-1\n",
      "3  10.0  20.0  30.0\n",
      "4  20.0  30.0  40.0\n",
      "5  30.0  40.0  50.0\n",
      "6  40.0  50.0  60.0\n",
      "7  50.0  60.0  70.0\n",
      "8  60.0  70.0  80.0\n",
      "y_train: \n",
      "     t\n",
      "3  40\n",
      "4  50\n",
      "5  60\n",
      "6  70\n",
      "7  80\n",
      "8  90\n",
      "Input Univariate Time Series:\n",
      "[10, 20, 30, 40, 50, 60, 70, 80, 90] \n",
      "X of size (9,)\n",
      "\n",
      "Univariate Time Series as Supervised Machine Learning:\n",
      "X_train: \n",
      "     t-3   t-2   t-1\n",
      "3  10.0  20.0  30.0\n",
      "4  20.0  30.0  40.0\n",
      "5  30.0  40.0  50.0\n",
      "6  40.0  50.0  60.0\n",
      "7  50.0  60.0  70.0\n",
      "8  60.0  70.0  80.0\n",
      "y_train: \n",
      "     t\n",
      "3  40\n",
      "4  50\n",
      "5  60\n",
      "6  70\n",
      "7  80\n",
      "8  90\n",
      "X_train: [[10. 20. 30.]\n",
      " [20. 30. 40.]\n",
      " [30. 40. 50.]\n",
      " [40. 50. 60.]\n",
      " [50. 60. 70.]\n",
      " [60. 70. 80.]]\n",
      "y_train [[40]\n",
      " [50]\n",
      " [60]\n",
      " [70]\n",
      " [80]\n",
      " [90]]\n"
     ]
    },
    {
     "name": "stderr",
     "output_type": "stream",
     "text": [
      "2023-06-06 10:05:48.894495: I tensorflow/core/platform/cpu_feature_guard.cc:193] This TensorFlow binary is optimized with oneAPI Deep Neural Network Library (oneDNN) to use the following CPU instructions in performance-critical operations:  SSE4.1 SSE4.2 AVX AVX2 FMA\n",
      "To enable them in other operations, rebuild TensorFlow with the appropriate compiler flags.\n"
     ]
    },
    {
     "name": "stdout",
     "output_type": "stream",
     "text": [
      "TRUE Y LABEL =  [100]\n",
      "PREDICTED =  [100.18921661376953]\n",
      "ERROR =  0.18921661376953125\n"
     ]
    }
   ],
   "source": [
    "%run $MLP_FILE"
   ]
  },
  {
   "cell_type": "code",
   "execution_count": 19,
   "id": "9b07c93f-c4ed-4cb1-a2f7-e25e33afb9ff",
   "metadata": {},
   "outputs": [],
   "source": [
    "univariate_time_series = open_train_df.values\n",
    "# univariate_time_series = np.flip(univariate_time_series)\n",
    "# univariate_time_series"
   ]
  },
  {
   "cell_type": "markdown",
   "id": "16764b0d-7b66-4e44-95ca-613a964115b4",
   "metadata": {},
   "source": [
    "## Univariate Time Series of VOO to Supervised Machine Learning"
   ]
  },
  {
   "cell_type": "markdown",
   "id": "3066e98c-e955-4443-a2de-0b3ff91c49fe",
   "metadata": {},
   "source": [
    "### Split Data"
   ]
  },
  {
   "cell_type": "code",
   "execution_count": 20,
   "id": "bff7ca65-90fc-48d5-8e14-839b507d8520",
   "metadata": {},
   "outputs": [
    {
     "name": "stdout",
     "output_type": "stream",
     "text": [
      "Input Univariate Time Series:\n",
      "[381.329987 375.160004 380.5      376.23999  362.929993 349.109985\n",
      " 346.369995 346.820007 340.480011 337.309998 343.190002 342.079987\n",
      " 347.630005 352.029999 361.       360.079987 350.429993 345.880005\n",
      " 346.160004 345.480011 351.230011 354.01001  355.910004 354.839996\n",
      " 352.600006 344.73999  343.410004 351.730011 356.970001 354.950012\n",
      " 360.700012 362.359985 366.690002 363.839996 362.119995 362.48999\n",
      " 369.420013 374.730011 376.119995 376.109985 377.190002 380.880005\n",
      " 376.649994 381.779999 379.019989 384.98999  388.869995 387.950012\n",
      " 390.48999  393.23999  391.559998 392.420013 390.700012 383.429993\n",
      " 379.559998 378.899994 381.76001  385.549988 369.769989 371.299988\n",
      " 367.609985 361.100006 367.950012 361.359985 358.859985 363.380005\n",
      " 370.23999  375.820007 369.339996 362.579987 361.160004 354.559998\n",
      " 352.799988 355.380005 356.380005 347.549988 342.079987 338.230011\n",
      " 339.790009 334.799988 337.149994 332.570007 331.790009 342.140015\n",
      " 343.119995 345.179993 339.079987 334.470001 329.200012 329.149994\n",
      " 320.839996 338.619995 334.570007 344.679993 339.040009 338.170013\n",
      " 335.5      345.450012 348.049988 350.700012 352.049988 349.040009\n",
      " 355.160004 358.529999 352.779999 341.339996 346.410004 347.059998\n",
      " 350.209991 349.079987 356.519989 363.690002 364.570007 368.649994\n",
      " 364.700012 358.799988 365.459991 362.769989 364.51001  367.209991\n",
      " 369.390015 366.859985 363.929993 363.450012 375.869995 369.660004\n",
      " 371.279999 367.089996 361.049988 363.130005 363.       362.279999\n",
      " 377.109985 369.100006 362.470001 355.649994 354.130005 348.450012\n",
      " 352.200012 351.980011 348.929993 351.76001  350.420013 348.910004\n",
      " 349.790009 353.179993 352.100006 350.730011 351.589996 358.730011\n",
      " 355.839996 360.410004 364.480011 361.679993 366.190002 366.670013\n",
      " 357.76001  358.450012 364.51001  366.570007 363.779999 370.459991\n",
      " 370.890015 370.149994 368.609985 372.440002 381.25     378.230011\n",
      " 376.579987 375.790009 379.690002 380.970001 373.       375.649994\n",
      " 377.959991 377.149994 375.660004 373.179993 370.399994 367.179993\n",
      " 369.070007 363.309998 367.48999  365.01001  363.339996 360.809998\n",
      " 367.290009 372.26001  371.630005 366.109985 367.350006 359.329987\n",
      " 350.76001  358.880005 354.459991 355.540009 362.76001  360.470001\n",
      " 366.420013 367.779999 364.480011 359.980011 365.730011 363.540009\n",
      " 367.399994 371.230011 371.779999 375.600006 378.190002 374.709991\n",
      " 373.670013 373.549988 376.899994 378.399994 375.910004 379.269989\n",
      " 378.839996 381.839996 378.730011 377.779999 378.679993 378.480011\n",
      " 377.179993 373.660004 373.890015 378.040009 381.730011 381.059998\n",
      " 377.910004 373.839996 375.73999  379.410004 377.709991 380.279999\n",
      " 378.470001 379.850006 378.73999  378.390015 378.850006 381.26001\n",
      " 386.019989 384.660004 383.190002 378.910004 380.98999  381.640015\n",
      " 387.76001  384.309998 384.200012 390.079987] \n",
      "X of size (250,)\n",
      "\n",
      "Univariate Time Series as Supervised Machine Learning:\n",
      "X_train: \n",
      "             t-3         t-2         t-1\n",
      "3    381.329987  375.160004  380.500000\n",
      "4    375.160004  380.500000  376.239990\n",
      "5    380.500000  376.239990  362.929993\n",
      "6    376.239990  362.929993  349.109985\n",
      "7    362.929993  349.109985  346.369995\n",
      "..          ...         ...         ...\n",
      "245  383.190002  378.910004  380.989990\n",
      "246  378.910004  380.989990  381.640015\n",
      "247  380.989990  381.640015  387.760010\n",
      "248  381.640015  387.760010  384.309998\n",
      "249  387.760010  384.309998  384.200012\n",
      "\n",
      "[247 rows x 3 columns]\n",
      "y_train: \n",
      "               t\n",
      "3    376.239990\n",
      "4    362.929993\n",
      "5    349.109985\n",
      "6    346.369995\n",
      "7    346.820007\n",
      "..          ...\n",
      "245  381.640015\n",
      "246  387.760010\n",
      "247  384.309998\n",
      "248  384.200012\n",
      "249  390.079987\n",
      "\n",
      "[247 rows x 1 columns]\n"
     ]
    }
   ],
   "source": [
    "prior_observations, forecasting_step = [3, 1]\n",
    "X_train_df, y_train_df, X_y_df = convert_uts_sequence_to_sml_with_pd(univariate_time_series, prior_observations, forecasting_step) "
   ]
  },
  {
   "cell_type": "code",
   "execution_count": 21,
   "id": "93c5583f-0462-4f3e-ba3c-c816f7dd30de",
   "metadata": {},
   "outputs": [],
   "source": [
    "X_train = X_train_df.values\n",
    "# print(\"X_train:\", X_train.shape, X_train)\n",
    "y_train = y_train_df.values\n",
    "# print(\"y_train\", y_train.shape, y_train)"
   ]
  },
  {
   "cell_type": "code",
   "execution_count": 22,
   "id": "67b6d54a-fcd2-4c88-9f36-8ee9036c552d",
   "metadata": {},
   "outputs": [
    {
     "data": {
      "text/plain": [
       "array([384.309998, 384.200012, 390.079987])"
      ]
     },
     "execution_count": 22,
     "metadata": {},
     "output_type": "execute_result"
    }
   ],
   "source": [
    "x_input = X_y_df.iloc[-1, 1:].values\n",
    "x_input"
   ]
  },
  {
   "cell_type": "code",
   "execution_count": 25,
   "id": "49423575-fea8-4864-b477-01df41c86657",
   "metadata": {},
   "outputs": [],
   "source": [
    "ytrue = [393.54]"
   ]
  },
  {
   "cell_type": "markdown",
   "id": "de15a414-6b26-4323-9d6d-b959b5d8b72a",
   "metadata": {},
   "source": [
    "# Univariate Model"
   ]
  },
  {
   "cell_type": "code",
   "execution_count": 26,
   "id": "a925ef7b-be3e-478f-93d6-6c54332bf1c6",
   "metadata": {},
   "outputs": [
    {
     "name": "stdout",
     "output_type": "stream",
     "text": [
      "TRUE Y LABEL =  [393.54]\n",
      "PREDICTED =  [388.7157287597656]\n",
      "ERROR =  4.8242712402343955\n"
     ]
    },
    {
     "data": {
      "text/plain": [
       "4.8242712402343955"
      ]
     },
     "execution_count": 26,
     "metadata": {},
     "output_type": "execute_result"
    }
   ],
   "source": [
    "univariate_mlp_model(X_train, y_train, x_input, ytrue)"
   ]
  },
  {
   "cell_type": "code",
   "execution_count": null,
   "id": "507c957d-5af1-4030-9874-0603612de861",
   "metadata": {},
   "outputs": [],
   "source": []
  }
 ],
 "metadata": {
  "kernelspec": {
   "display_name": "Python 3 (ipykernel)",
   "language": "python",
   "name": "python3"
  },
  "language_info": {
   "codemirror_mode": {
    "name": "ipython",
    "version": 3
   },
   "file_extension": ".py",
   "mimetype": "text/x-python",
   "name": "python",
   "nbconvert_exporter": "python",
   "pygments_lexer": "ipython3",
   "version": "3.9.16"
  }
 },
 "nbformat": 4,
 "nbformat_minor": 5
}
