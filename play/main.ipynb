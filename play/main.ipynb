{
 "cells": [
  {
   "cell_type": "markdown",
   "id": "204ed677-57bf-45f3-88a8-a16b068b2eed",
   "metadata": {},
   "source": [
    "# A Simple System Design for Forecasting Time Series Stock Data"
   ]
  },
  {
   "cell_type": "markdown",
   "id": "acf0e6dc-a457-4241-8f51-c0a14e357c9f",
   "metadata": {},
   "source": [
    "# Imports"
   ]
  },
  {
   "cell_type": "code",
   "execution_count": 26,
   "id": "5d3af871-d4fe-4bc2-98e7-5eee7bbd6f70",
   "metadata": {},
   "outputs": [],
   "source": [
    "import math\n",
    "import sklearn\n",
    "import numpy as np\n",
    "import pandas as pd\n",
    "import yfinance as yf\n",
    "\n",
    "\n",
    "from abc import ABC\n",
    "from typing import List\n",
    "from abc import abstractmethod\n",
    "from dataclasses import dataclass\n",
    "\n",
    "from keras.layers import Dense\n",
    "from keras.models import Sequential\n",
    "# from sklearn.metrics import mean_squared_error"
   ]
  },
  {
   "cell_type": "markdown",
   "id": "b5d3ab69-0763-48e7-8a7e-4bd1c72c8a91",
   "metadata": {},
   "source": [
    "# Data Processor - Load the stock data\n",
    "\n",
    "1. Retrieve the stock data with `data = yf.download(symbol, start=\"YYYY-MM-DD\", end=\"YYYY-MM-DD\")`\n",
    "2. Specify what column we're seeking to explore to get the univariate time series (uts)\n",
    "3. Convert the univariate time series (uts) to supervised machine learning (sml)"
   ]
  },
  {
   "cell_type": "code",
   "execution_count": 2,
   "id": "12013e23-aec2-410b-9862-df4eec48e15f",
   "metadata": {},
   "outputs": [],
   "source": [
    "@dataclass\n",
    "class YFinanceDataProcessor:\n",
    "    \"\"\"Handles fetching and returning data. \"\"\"\n",
    "    ticker_symbol: str\n",
    "    start_date: str\n",
    "    end_date: str\n",
    "    \n",
    "    def __post_init__(self):\n",
    "        \"\"\"Operations that are performed after the initialization step.\"\"\"\n",
    "        self.data = yf.download(self.ticker_symbol, start=self.start_date, end=self.end_date)\n",
    "    \n",
    "    def filter_by_col(self, col_name: str):\n",
    "        \"\"\"Returns a filtered univariate dataframe with all the rows.\n",
    "        \n",
    "        Parameter:\n",
    "        col_name -- str (that specifies the column) \n",
    "        \n",
    "        Return:\n",
    "        -- pd DataFrame (of the univariate ts data)\n",
    "        \"\"\"\n",
    "        univariate_ts_df = self.data.loc[:, [col_name]]\n",
    "        return univariate_ts_df\n",
    "    \n",
    "    def convert_uts_sequence_to_sml_with_pd(self, uts_observations: pd.DataFrame, prior_observations: int, forecasting_step: int):\n",
    "        \"\"\"Splits a given UTS into multiple input rows where each input row has a specified number of timestamps and the output is a single timestamp.\n",
    "\n",
    "        Parameters:\n",
    "        uts_observations -- pd DataFrame (of UTS data to transform to SML data with size  b rows/length x 1 dimension)\n",
    "        prior_observations -- py int (of all observations before we get to where we want to start making the predictions)\n",
    "        forecasting_step -- py int (of how far out to forecast, 1 only the next timestamp, 2 the next two timestamps, ... n the next n timestamps)\n",
    "\n",
    "        Return:\n",
    "        -- pd DataFrame (of the sml data)\n",
    "        \"\"\"\n",
    "        observations_df = pd.DataFrame(uts_observations)\n",
    "        cols = list()\n",
    "        lag_col_names = []\n",
    "        \n",
    "        # print(\"Input Univariate Time Series:\")\n",
    "        # print(uts_observations, \"\\nX of size\", np.shape(uts_observations))\n",
    "        # print()\n",
    "\n",
    "        # input sequence (t-n, ... t-1)\n",
    "        # name columns for sml df\n",
    "        for prior_observation in range(prior_observations, 0, -1):\n",
    "            # print(\"prior_observation: \", prior_observation)\n",
    "            \n",
    "            cols.append(observations_df.shift(prior_observation))\n",
    "            new_col_name = \"t-\" + str(prior_observation)\n",
    "            # print(new_col_name)\n",
    "            lag_col_names.append(new_col_name)\n",
    "\n",
    "\n",
    "        # forecast sequence (t, t+1, ... t+n)\n",
    "        # name columns for sml df\n",
    "        for i in range(0, forecasting_step):\n",
    "            cols.append(observations_df.shift(-i))\n",
    "\n",
    "            new_col_name = \"t\" \n",
    "            if forecasting_step == 1:\n",
    "                # print(new_col_name)\n",
    "                lag_col_names.append(new_col_name)\n",
    "\n",
    "            else:\n",
    "                if i == 0:\n",
    "                    lag_col_names.append(new_col_name)\n",
    "                else:\n",
    "                    new_col_name = \"t+\" + str(i)\n",
    "                    # print(new_col_name)\n",
    "                    lag_col_names.append(new_col_name)\n",
    "\n",
    "            # put observation cols together and add column names\n",
    "            uts_sml_df = pd.concat(cols, axis=1) \n",
    "            uts_sml_df.columns=[lag_col_names]\n",
    "            \n",
    "            # drop rows with NaN values\n",
    "            uts_sml_df.dropna(inplace=True)\n",
    "            sml_df = uts_sml_df.reset_index(drop=True)\n",
    "            \n",
    "        return sml_df\n",
    "    \n",
    "    def train_test_split(self, uts_sml_df: pd.DataFrame):\n",
    "        \n",
    "        # print(uts_sml_df)\n",
    "        # print(\"Univariate Time Series as Supervised Machine Learning:\")\n",
    "        # colums to use to make prediction for last col\n",
    "\n",
    "        X_train = uts_sml_df.iloc[:, :prior_observations]\n",
    "        # print(\"X_train: \\n\", X_train)\n",
    "\n",
    "        # last column\n",
    "        y_train = uts_sml_df.iloc[:, -forecasting_step:]\n",
    "        # print(\"y_train: \\n\", y_train)\n",
    "        \n",
    "        # Make a prediction for this data\n",
    "        x_input = uts_sml_df.iloc[-1:, forecasting_step:]\n",
    "        \n",
    "        return X_train, y_train, x_input"
   ]
  },
  {
   "cell_type": "code",
   "execution_count": 3,
   "id": "cea87eb8-d6df-4ab5-bc05-0b9b212634d6",
   "metadata": {},
   "outputs": [
    {
     "name": "stdout",
     "output_type": "stream",
     "text": [
      "[*********************100%***********************]  1 of 1 completed\n"
     ]
    },
    {
     "data": {
      "text/html": [
       "<div>\n",
       "<style scoped>\n",
       "    .dataframe tbody tr th:only-of-type {\n",
       "        vertical-align: middle;\n",
       "    }\n",
       "\n",
       "    .dataframe tbody tr th {\n",
       "        vertical-align: top;\n",
       "    }\n",
       "\n",
       "    .dataframe thead th {\n",
       "        text-align: right;\n",
       "    }\n",
       "</style>\n",
       "<table border=\"1\" class=\"dataframe\">\n",
       "  <thead>\n",
       "    <tr style=\"text-align: right;\">\n",
       "      <th></th>\n",
       "      <th>Open</th>\n",
       "    </tr>\n",
       "    <tr>\n",
       "      <th>Date</th>\n",
       "      <th></th>\n",
       "    </tr>\n",
       "  </thead>\n",
       "  <tbody>\n",
       "    <tr>\n",
       "      <th>2022-01-03</th>\n",
       "      <td>437.929993</td>\n",
       "    </tr>\n",
       "    <tr>\n",
       "      <th>2022-01-04</th>\n",
       "      <td>440.579987</td>\n",
       "    </tr>\n",
       "    <tr>\n",
       "      <th>2022-01-05</th>\n",
       "      <td>438.779999</td>\n",
       "    </tr>\n",
       "    <tr>\n",
       "      <th>2022-01-06</th>\n",
       "      <td>430.200012</td>\n",
       "    </tr>\n",
       "    <tr>\n",
       "      <th>2022-01-07</th>\n",
       "      <td>430.209991</td>\n",
       "    </tr>\n",
       "    <tr>\n",
       "      <th>...</th>\n",
       "      <td>...</td>\n",
       "    </tr>\n",
       "    <tr>\n",
       "      <th>2023-06-16</th>\n",
       "      <td>408.690002</td>\n",
       "    </tr>\n",
       "    <tr>\n",
       "      <th>2023-06-20</th>\n",
       "      <td>403.489990</td>\n",
       "    </tr>\n",
       "    <tr>\n",
       "      <th>2023-06-21</th>\n",
       "      <td>402.309998</td>\n",
       "    </tr>\n",
       "    <tr>\n",
       "      <th>2023-06-22</th>\n",
       "      <td>400.279999</td>\n",
       "    </tr>\n",
       "    <tr>\n",
       "      <th>2023-06-23</th>\n",
       "      <td>399.329987</td>\n",
       "    </tr>\n",
       "  </tbody>\n",
       "</table>\n",
       "<p>370 rows × 1 columns</p>\n",
       "</div>"
      ],
      "text/plain": [
       "                  Open\n",
       "Date                  \n",
       "2022-01-03  437.929993\n",
       "2022-01-04  440.579987\n",
       "2022-01-05  438.779999\n",
       "2022-01-06  430.200012\n",
       "2022-01-07  430.209991\n",
       "...                ...\n",
       "2023-06-16  408.690002\n",
       "2023-06-20  403.489990\n",
       "2023-06-21  402.309998\n",
       "2023-06-22  400.279999\n",
       "2023-06-23  399.329987\n",
       "\n",
       "[370 rows x 1 columns]"
      ]
     },
     "execution_count": 3,
     "metadata": {},
     "output_type": "execute_result"
    }
   ],
   "source": [
    "# Set the start and end dates for the data\n",
    "symbol = \"VOO\"\n",
    "# symbol = \"BRK-A\"\n",
    "start_date = \"2022-01-01\"\n",
    "end_date = \"2023-06-25\"\n",
    "\n",
    "data_processor = YFinanceDataProcessor(symbol, start_date, end_date)\n",
    "# data_processor.data\n",
    "uts_observations = data_processor.filter_by_col(\"Open\")\n",
    "uts_observations"
   ]
  },
  {
   "cell_type": "markdown",
   "id": "7761026b-fcd3-4a9c-856a-e0675e2c472b",
   "metadata": {},
   "source": [
    "- Beware of the dates. We want to predict the next day, so we have to split the data as such. \n",
    "- `up_to_today`: historical data to train\n",
    "- `tomorrow`: the true label for the next day"
   ]
  },
  {
   "cell_type": "code",
   "execution_count": 4,
   "id": "3d2b63a8-23c5-4f71-b237-bfca946de4d2",
   "metadata": {},
   "outputs": [
    {
     "data": {
      "text/html": [
       "<div>\n",
       "<style scoped>\n",
       "    .dataframe tbody tr th:only-of-type {\n",
       "        vertical-align: middle;\n",
       "    }\n",
       "\n",
       "    .dataframe tbody tr th {\n",
       "        vertical-align: top;\n",
       "    }\n",
       "\n",
       "    .dataframe thead th {\n",
       "        text-align: right;\n",
       "    }\n",
       "</style>\n",
       "<table border=\"1\" class=\"dataframe\">\n",
       "  <thead>\n",
       "    <tr style=\"text-align: right;\">\n",
       "      <th></th>\n",
       "      <th>Open</th>\n",
       "    </tr>\n",
       "    <tr>\n",
       "      <th>Date</th>\n",
       "      <th></th>\n",
       "    </tr>\n",
       "  </thead>\n",
       "  <tbody>\n",
       "    <tr>\n",
       "      <th>2022-01-03</th>\n",
       "      <td>437.929993</td>\n",
       "    </tr>\n",
       "    <tr>\n",
       "      <th>2022-01-04</th>\n",
       "      <td>440.579987</td>\n",
       "    </tr>\n",
       "    <tr>\n",
       "      <th>2022-01-05</th>\n",
       "      <td>438.779999</td>\n",
       "    </tr>\n",
       "    <tr>\n",
       "      <th>2022-01-06</th>\n",
       "      <td>430.200012</td>\n",
       "    </tr>\n",
       "    <tr>\n",
       "      <th>2022-01-07</th>\n",
       "      <td>430.209991</td>\n",
       "    </tr>\n",
       "    <tr>\n",
       "      <th>...</th>\n",
       "      <td>...</td>\n",
       "    </tr>\n",
       "    <tr>\n",
       "      <th>2023-06-15</th>\n",
       "      <td>401.000000</td>\n",
       "    </tr>\n",
       "    <tr>\n",
       "      <th>2023-06-16</th>\n",
       "      <td>408.690002</td>\n",
       "    </tr>\n",
       "    <tr>\n",
       "      <th>2023-06-20</th>\n",
       "      <td>403.489990</td>\n",
       "    </tr>\n",
       "    <tr>\n",
       "      <th>2023-06-21</th>\n",
       "      <td>402.309998</td>\n",
       "    </tr>\n",
       "    <tr>\n",
       "      <th>2023-06-22</th>\n",
       "      <td>400.279999</td>\n",
       "    </tr>\n",
       "  </tbody>\n",
       "</table>\n",
       "<p>369 rows × 1 columns</p>\n",
       "</div>"
      ],
      "text/plain": [
       "                  Open\n",
       "Date                  \n",
       "2022-01-03  437.929993\n",
       "2022-01-04  440.579987\n",
       "2022-01-05  438.779999\n",
       "2022-01-06  430.200012\n",
       "2022-01-07  430.209991\n",
       "...                ...\n",
       "2023-06-15  401.000000\n",
       "2023-06-16  408.690002\n",
       "2023-06-20  403.489990\n",
       "2023-06-21  402.309998\n",
       "2023-06-22  400.279999\n",
       "\n",
       "[369 rows x 1 columns]"
      ]
     },
     "execution_count": 4,
     "metadata": {},
     "output_type": "execute_result"
    }
   ],
   "source": [
    "up_to_today = uts_observations[:-1]\n",
    "up_to_today"
   ]
  },
  {
   "cell_type": "code",
   "execution_count": 5,
   "id": "376c22ac-847c-461c-97e6-e955d8c6afb4",
   "metadata": {},
   "outputs": [
    {
     "data": {
      "text/html": [
       "<div>\n",
       "<style scoped>\n",
       "    .dataframe tbody tr th:only-of-type {\n",
       "        vertical-align: middle;\n",
       "    }\n",
       "\n",
       "    .dataframe tbody tr th {\n",
       "        vertical-align: top;\n",
       "    }\n",
       "\n",
       "    .dataframe thead th {\n",
       "        text-align: right;\n",
       "    }\n",
       "</style>\n",
       "<table border=\"1\" class=\"dataframe\">\n",
       "  <thead>\n",
       "    <tr style=\"text-align: right;\">\n",
       "      <th></th>\n",
       "      <th>Open</th>\n",
       "    </tr>\n",
       "    <tr>\n",
       "      <th>Date</th>\n",
       "      <th></th>\n",
       "    </tr>\n",
       "  </thead>\n",
       "  <tbody>\n",
       "    <tr>\n",
       "      <th>2023-06-23</th>\n",
       "      <td>399.329987</td>\n",
       "    </tr>\n",
       "  </tbody>\n",
       "</table>\n",
       "</div>"
      ],
      "text/plain": [
       "                  Open\n",
       "Date                  \n",
       "2023-06-23  399.329987"
      ]
     },
     "execution_count": 5,
     "metadata": {},
     "output_type": "execute_result"
    }
   ],
   "source": [
    "tomorrow = uts_observations[-1:]\n",
    "tomorrow"
   ]
  },
  {
   "cell_type": "code",
   "execution_count": 6,
   "id": "76b6043a-a7cc-4e3f-971d-902e6c3e1d45",
   "metadata": {},
   "outputs": [
    {
     "data": {
      "text/plain": [
       "array([[399.32998657]])"
      ]
     },
     "execution_count": 6,
     "metadata": {},
     "output_type": "execute_result"
    }
   ],
   "source": [
    "tomorrow = tomorrow.values\n",
    "tomorrow"
   ]
  },
  {
   "cell_type": "code",
   "execution_count": 7,
   "id": "ab9d4f64-19cf-4a7d-881e-5e59ca3b0e18",
   "metadata": {},
   "outputs": [
    {
     "data": {
      "text/html": [
       "<div>\n",
       "<style scoped>\n",
       "    .dataframe tbody tr th:only-of-type {\n",
       "        vertical-align: middle;\n",
       "    }\n",
       "\n",
       "    .dataframe tbody tr th {\n",
       "        vertical-align: top;\n",
       "    }\n",
       "\n",
       "    .dataframe thead tr th {\n",
       "        text-align: left;\n",
       "    }\n",
       "</style>\n",
       "<table border=\"1\" class=\"dataframe\">\n",
       "  <thead>\n",
       "    <tr>\n",
       "      <th></th>\n",
       "      <th>t-3</th>\n",
       "      <th>t-2</th>\n",
       "      <th>t-1</th>\n",
       "      <th>t</th>\n",
       "    </tr>\n",
       "  </thead>\n",
       "  <tbody>\n",
       "    <tr>\n",
       "      <th>0</th>\n",
       "      <td>437.929993</td>\n",
       "      <td>440.579987</td>\n",
       "      <td>438.779999</td>\n",
       "      <td>430.200012</td>\n",
       "    </tr>\n",
       "    <tr>\n",
       "      <th>1</th>\n",
       "      <td>440.579987</td>\n",
       "      <td>438.779999</td>\n",
       "      <td>430.200012</td>\n",
       "      <td>430.209991</td>\n",
       "    </tr>\n",
       "    <tr>\n",
       "      <th>2</th>\n",
       "      <td>438.779999</td>\n",
       "      <td>430.200012</td>\n",
       "      <td>430.209991</td>\n",
       "      <td>425.380005</td>\n",
       "    </tr>\n",
       "    <tr>\n",
       "      <th>3</th>\n",
       "      <td>430.200012</td>\n",
       "      <td>430.209991</td>\n",
       "      <td>425.380005</td>\n",
       "      <td>427.679993</td>\n",
       "    </tr>\n",
       "    <tr>\n",
       "      <th>4</th>\n",
       "      <td>430.209991</td>\n",
       "      <td>425.380005</td>\n",
       "      <td>427.679993</td>\n",
       "      <td>433.559998</td>\n",
       "    </tr>\n",
       "    <tr>\n",
       "      <th>...</th>\n",
       "      <td>...</td>\n",
       "      <td>...</td>\n",
       "      <td>...</td>\n",
       "      <td>...</td>\n",
       "    </tr>\n",
       "    <tr>\n",
       "      <th>361</th>\n",
       "      <td>395.980011</td>\n",
       "      <td>400.019989</td>\n",
       "      <td>401.609985</td>\n",
       "      <td>401.000000</td>\n",
       "    </tr>\n",
       "    <tr>\n",
       "      <th>362</th>\n",
       "      <td>400.019989</td>\n",
       "      <td>401.609985</td>\n",
       "      <td>401.000000</td>\n",
       "      <td>408.690002</td>\n",
       "    </tr>\n",
       "    <tr>\n",
       "      <th>363</th>\n",
       "      <td>401.609985</td>\n",
       "      <td>401.000000</td>\n",
       "      <td>408.690002</td>\n",
       "      <td>403.489990</td>\n",
       "    </tr>\n",
       "    <tr>\n",
       "      <th>364</th>\n",
       "      <td>401.000000</td>\n",
       "      <td>408.690002</td>\n",
       "      <td>403.489990</td>\n",
       "      <td>402.309998</td>\n",
       "    </tr>\n",
       "    <tr>\n",
       "      <th>365</th>\n",
       "      <td>408.690002</td>\n",
       "      <td>403.489990</td>\n",
       "      <td>402.309998</td>\n",
       "      <td>400.279999</td>\n",
       "    </tr>\n",
       "  </tbody>\n",
       "</table>\n",
       "<p>366 rows × 4 columns</p>\n",
       "</div>"
      ],
      "text/plain": [
       "            t-3         t-2         t-1           t\n",
       "0    437.929993  440.579987  438.779999  430.200012\n",
       "1    440.579987  438.779999  430.200012  430.209991\n",
       "2    438.779999  430.200012  430.209991  425.380005\n",
       "3    430.200012  430.209991  425.380005  427.679993\n",
       "4    430.209991  425.380005  427.679993  433.559998\n",
       "..          ...         ...         ...         ...\n",
       "361  395.980011  400.019989  401.609985  401.000000\n",
       "362  400.019989  401.609985  401.000000  408.690002\n",
       "363  401.609985  401.000000  408.690002  403.489990\n",
       "364  401.000000  408.690002  403.489990  402.309998\n",
       "365  408.690002  403.489990  402.309998  400.279999\n",
       "\n",
       "[366 rows x 4 columns]"
      ]
     },
     "execution_count": 7,
     "metadata": {},
     "output_type": "execute_result"
    }
   ],
   "source": [
    "prior_observations, forecasting_step = [3, 1]\n",
    "sml_samples_df = data_processor.convert_uts_sequence_to_sml_with_pd(up_to_today, prior_observations, forecasting_step)\n",
    "sml_samples_df"
   ]
  },
  {
   "cell_type": "markdown",
   "id": "784e5eb5-8903-4d53-af3d-0711f202ada1",
   "metadata": {},
   "source": [
    "- Matrix X shape is [samples, features] $ \\Rightarrow $ [366, 3] $ \\Rightarrow $ vector x shape is [1, 3]\n",
    "- vector y shape is [samples, 1] $ \\Rightarrow $ [366, 1] $ \\Rightarrow $ scalar y shape is [1, 1]"
   ]
  },
  {
   "cell_type": "code",
   "execution_count": 8,
   "id": "7dc89ea1-2102-46f2-8808-094272104505",
   "metadata": {},
   "outputs": [
    {
     "data": {
      "text/html": [
       "<div>\n",
       "<style scoped>\n",
       "    .dataframe tbody tr th:only-of-type {\n",
       "        vertical-align: middle;\n",
       "    }\n",
       "\n",
       "    .dataframe tbody tr th {\n",
       "        vertical-align: top;\n",
       "    }\n",
       "\n",
       "    .dataframe thead tr th {\n",
       "        text-align: left;\n",
       "    }\n",
       "</style>\n",
       "<table border=\"1\" class=\"dataframe\">\n",
       "  <thead>\n",
       "    <tr>\n",
       "      <th></th>\n",
       "      <th>t-3</th>\n",
       "      <th>t-2</th>\n",
       "      <th>t-1</th>\n",
       "    </tr>\n",
       "  </thead>\n",
       "  <tbody>\n",
       "    <tr>\n",
       "      <th>0</th>\n",
       "      <td>437.929993</td>\n",
       "      <td>440.579987</td>\n",
       "      <td>438.779999</td>\n",
       "    </tr>\n",
       "    <tr>\n",
       "      <th>1</th>\n",
       "      <td>440.579987</td>\n",
       "      <td>438.779999</td>\n",
       "      <td>430.200012</td>\n",
       "    </tr>\n",
       "    <tr>\n",
       "      <th>2</th>\n",
       "      <td>438.779999</td>\n",
       "      <td>430.200012</td>\n",
       "      <td>430.209991</td>\n",
       "    </tr>\n",
       "    <tr>\n",
       "      <th>3</th>\n",
       "      <td>430.200012</td>\n",
       "      <td>430.209991</td>\n",
       "      <td>425.380005</td>\n",
       "    </tr>\n",
       "    <tr>\n",
       "      <th>4</th>\n",
       "      <td>430.209991</td>\n",
       "      <td>425.380005</td>\n",
       "      <td>427.679993</td>\n",
       "    </tr>\n",
       "    <tr>\n",
       "      <th>...</th>\n",
       "      <td>...</td>\n",
       "      <td>...</td>\n",
       "      <td>...</td>\n",
       "    </tr>\n",
       "    <tr>\n",
       "      <th>361</th>\n",
       "      <td>395.980011</td>\n",
       "      <td>400.019989</td>\n",
       "      <td>401.609985</td>\n",
       "    </tr>\n",
       "    <tr>\n",
       "      <th>362</th>\n",
       "      <td>400.019989</td>\n",
       "      <td>401.609985</td>\n",
       "      <td>401.000000</td>\n",
       "    </tr>\n",
       "    <tr>\n",
       "      <th>363</th>\n",
       "      <td>401.609985</td>\n",
       "      <td>401.000000</td>\n",
       "      <td>408.690002</td>\n",
       "    </tr>\n",
       "    <tr>\n",
       "      <th>364</th>\n",
       "      <td>401.000000</td>\n",
       "      <td>408.690002</td>\n",
       "      <td>403.489990</td>\n",
       "    </tr>\n",
       "    <tr>\n",
       "      <th>365</th>\n",
       "      <td>408.690002</td>\n",
       "      <td>403.489990</td>\n",
       "      <td>402.309998</td>\n",
       "    </tr>\n",
       "  </tbody>\n",
       "</table>\n",
       "<p>366 rows × 3 columns</p>\n",
       "</div>"
      ],
      "text/plain": [
       "            t-3         t-2         t-1\n",
       "0    437.929993  440.579987  438.779999\n",
       "1    440.579987  438.779999  430.200012\n",
       "2    438.779999  430.200012  430.209991\n",
       "3    430.200012  430.209991  425.380005\n",
       "4    430.209991  425.380005  427.679993\n",
       "..          ...         ...         ...\n",
       "361  395.980011  400.019989  401.609985\n",
       "362  400.019989  401.609985  401.000000\n",
       "363  401.609985  401.000000  408.690002\n",
       "364  401.000000  408.690002  403.489990\n",
       "365  408.690002  403.489990  402.309998\n",
       "\n",
       "[366 rows x 3 columns]"
      ]
     },
     "execution_count": 8,
     "metadata": {},
     "output_type": "execute_result"
    }
   ],
   "source": [
    "X = sml_samples_df.iloc[:, 0:3]\n",
    "X"
   ]
  },
  {
   "cell_type": "code",
   "execution_count": 9,
   "id": "d6b0989f-fe9f-49fa-9f0a-ce065ee23e14",
   "metadata": {},
   "outputs": [
    {
     "data": {
      "text/plain": [
       "0      430.200012\n",
       "1      430.209991\n",
       "2      425.380005\n",
       "3      427.679993\n",
       "4      433.559998\n",
       "          ...    \n",
       "361    401.000000\n",
       "362    408.690002\n",
       "363    403.489990\n",
       "364    402.309998\n",
       "365    400.279999\n",
       "Name: (t,), Length: 366, dtype: float64"
      ]
     },
     "execution_count": 9,
     "metadata": {},
     "output_type": "execute_result"
    }
   ],
   "source": [
    "y = sml_samples_df.iloc[0:, -1]\n",
    "y"
   ]
  },
  {
   "cell_type": "markdown",
   "id": "a88b718e-80ce-4c18-8fa8-07f0768b9f46",
   "metadata": {},
   "source": [
    "# Machine Learning Models"
   ]
  },
  {
   "cell_type": "code",
   "execution_count": 10,
   "id": "15084148-8971-4927-bee1-1d8f7af1260f",
   "metadata": {},
   "outputs": [],
   "source": [
    "@dataclass\n",
    "class Model(ABC):\n",
    "    \"\"\"This is a base class with an abstract-like implementation. Each specified model inherits from this base class.\n",
    "    \n",
    "    Methods decorated with @abstractmethod must be implemented; if not, the interpreter will throw\n",
    "    an error. Methods not decorated will be shared by all other classes that inherit from Model.\n",
    "    \"\"\"\n",
    "    \n",
    "    @abstractmethod\n",
    "    def __name__(self):\n",
    "        pass\n",
    "    \n",
    "    @abstractmethod\n",
    "    def define_model_with_layers(self):\n",
    "        pass\n",
    "    \n",
    "    @abstractmethod\n",
    "    def fit_model(self):\n",
    "        pass\n",
    "    \n",
    "    @abstractmethod\n",
    "    def predict(self):\n",
    "        pass\n",
    "    \n",
    "    def augment_data(self):\n",
    "        pass"
   ]
  },
  {
   "cell_type": "code",
   "execution_count": 21,
   "id": "2944b391-ce3e-47de-afa1-2a72ddf3f6d3",
   "metadata": {},
   "outputs": [],
   "source": [
    "class MLP(Model):\n",
    "    \n",
    "    \n",
    "    def __name__(self):\n",
    "        return \"MLP\"\n",
    "    \n",
    "    def define_model_with_layers(self, prior_observations, forecasting_step):\n",
    "        model = Sequential()\n",
    "        \n",
    "        layer_1 = Dense(100, activation='relu', input_dim=prior_observations, name=\"1-input_layer\")\n",
    "        model.add(layer_1)\n",
    "        layer_1_weights = layer_1.get_weights()\n",
    "\n",
    "        layer_2 = Dense(forecasting_step, name=\"2-forecasting_layer\")\n",
    "        model.add(layer_2)\n",
    "        layer_2_weights = layer_2.get_weights()\n",
    "        \n",
    "        model.compile(optimizer='adam', loss='mse')\n",
    "        return model, model.summary()\n",
    "    \n",
    "    def fit_model(self, model_to_fit, X_train, y_train):\n",
    "        model_to_fit.fit(X_train, y_train, epochs=2000, verbose=0)\n",
    "        \n",
    "        return model_to_fit\n",
    "    \n",
    "    def predict(self, fitted_model, x_input, prior_observations):\n",
    "        \"\"\"\n",
    "        Parameters:\n",
    "        fitted_model -- keras model\n",
    "        x_input -- pd series\n",
    "        prior_observations -- int\n",
    "        \n",
    "        Returns\n",
    "        -- int (of the prediction at the next time step(s))\n",
    "        \"\"\"\n",
    "        x_input = x_input.values\n",
    "        x_input = x_input.reshape((1, prior_observations))\n",
    "        yhat = fitted_model.predict(x_input)\n",
    "        \n",
    "        return yhat"
   ]
  },
  {
   "cell_type": "code",
   "execution_count": 12,
   "id": "4a78fc99-0d15-4c82-a82b-df03a2da5eca",
   "metadata": {},
   "outputs": [],
   "source": [
    "mlp_model = MLP()"
   ]
  },
  {
   "cell_type": "code",
   "execution_count": 13,
   "id": "35938f76-4098-4c92-bc56-1f9449224178",
   "metadata": {},
   "outputs": [
    {
     "name": "stdout",
     "output_type": "stream",
     "text": [
      "Model: \"sequential\"\n",
      "_________________________________________________________________\n",
      " Layer (type)                Output Shape              Param #   \n",
      "=================================================================\n",
      " 1-input_layer (Dense)       (None, 100)               400       \n",
      "                                                                 \n",
      " 2-forecasting_layer (Dense)  (None, 1)                101       \n",
      "                                                                 \n",
      "=================================================================\n",
      "Total params: 501\n",
      "Trainable params: 501\n",
      "Non-trainable params: 0\n",
      "_________________________________________________________________\n"
     ]
    },
    {
     "name": "stderr",
     "output_type": "stream",
     "text": [
      "2023-06-25 13:44:58.080523: I tensorflow/core/platform/cpu_feature_guard.cc:193] This TensorFlow binary is optimized with oneAPI Deep Neural Network Library (oneDNN) to use the following CPU instructions in performance-critical operations:  SSE4.1 SSE4.2 AVX AVX2 FMA\n",
      "To enable them in other operations, rebuild TensorFlow with the appropriate compiler flags.\n"
     ]
    }
   ],
   "source": [
    "model, model_defined = mlp_model.define_model_with_layers(prior_observations, forecasting_step)"
   ]
  },
  {
   "cell_type": "markdown",
   "id": "f4036323-26ad-480b-8985-aaa9ecc31df6",
   "metadata": {},
   "source": [
    "- Map each vector x sample to each scalar y true sample\n",
    "- ie:\n",
    "    1. sample 0 for vector x and scalar y $ \\Rightarrow $ vector x [437.929993, 440.579987, 438.779999] maps to scalar y [430.200012]\n",
    "    2. sample 1 for vector x and scalar y $ \\Rightarrow $ vector x [440.579987, 438.779999, 430.200012] maps to scalar y [430.209991]"
   ]
  },
  {
   "cell_type": "code",
   "execution_count": 14,
   "id": "8754b6f9-1f1d-47b3-9c2d-4a01b31c6603",
   "metadata": {},
   "outputs": [],
   "source": [
    "model_fitted = mlp_model.fit_model(model, X, y)"
   ]
  },
  {
   "cell_type": "code",
   "execution_count": 15,
   "id": "213710b5-4c2a-489e-bd24-fdbbb9cbe7c3",
   "metadata": {},
   "outputs": [
    {
     "data": {
      "text/plain": [
       "<keras.engine.sequential.Sequential at 0x14c6e1e20>"
      ]
     },
     "execution_count": 15,
     "metadata": {},
     "output_type": "execute_result"
    }
   ],
   "source": [
    "model_fitted"
   ]
  },
  {
   "cell_type": "markdown",
   "id": "f5e58024-24b9-41c6-82a7-061c7d5e1dd6",
   "metadata": {},
   "source": [
    "- Map the last 3 vector x samples (days) to the next scalar y true sample (day)\n",
    "- ie:\n",
    "    1. sample 1 for vector x and scalar y $ \\Rightarrow $ vector x [403.489990, 402.309998, 400.279999] maps to scalar y [399.329987]"
   ]
  },
  {
   "cell_type": "code",
   "execution_count": 19,
   "id": "784fa62c-e704-4371-9f60-5b97a11bcf6b",
   "metadata": {},
   "outputs": [
    {
     "data": {
      "text/plain": [
       "t-2    403.489990\n",
       "t-1    402.309998\n",
       "t      400.279999\n",
       "Name: 365, dtype: float64"
      ]
     },
     "execution_count": 19,
     "metadata": {},
     "output_type": "execute_result"
    }
   ],
   "source": [
    "x_input = sml_samples_df.iloc[-1, -prior_observations:]\n",
    "x_input"
   ]
  },
  {
   "cell_type": "code",
   "execution_count": 20,
   "id": "c34459cb-f9af-4059-9e12-3f375602d949",
   "metadata": {},
   "outputs": [
    {
     "data": {
      "text/plain": [
       "array([[399.32998657]])"
      ]
     },
     "execution_count": 20,
     "metadata": {},
     "output_type": "execute_result"
    }
   ],
   "source": [
    "tomorrow"
   ]
  },
  {
   "cell_type": "code",
   "execution_count": 22,
   "id": "d96610d5-1990-41ae-95b3-b4994bce6fe7",
   "metadata": {},
   "outputs": [
    {
     "name": "stdout",
     "output_type": "stream",
     "text": [
      "1/1 [==============================] - 0s 67ms/step\n"
     ]
    }
   ],
   "source": [
    "model_prediction = mlp_model.predict(model_fitted, x_input, prior_observations)"
   ]
  },
  {
   "cell_type": "code",
   "execution_count": 23,
   "id": "c1a22d30-f04c-4e85-831a-cce456b0bb23",
   "metadata": {},
   "outputs": [
    {
     "data": {
      "text/plain": [
       "array([[399.91702]], dtype=float32)"
      ]
     },
     "execution_count": 23,
     "metadata": {},
     "output_type": "execute_result"
    }
   ],
   "source": [
    "model_prediction"
   ]
  },
  {
   "cell_type": "code",
   "execution_count": 28,
   "id": "db3c2564-1b2c-40cf-adb7-48d8af384418",
   "metadata": {},
   "outputs": [
    {
     "data": {
      "text/plain": [
       "0.5870361328125"
      ]
     },
     "execution_count": 28,
     "metadata": {},
     "output_type": "execute_result"
    }
   ],
   "source": [
    "mse = math.sqrt(sklearn.metrics.mean_squared_error(tomorrow, model_prediction))\n",
    "mse"
   ]
  },
  {
   "cell_type": "code",
   "execution_count": null,
   "id": "e4e38119-1d26-42c5-96e8-aa9f29849cee",
   "metadata": {},
   "outputs": [],
   "source": []
  }
 ],
 "metadata": {
  "kernelspec": {
   "display_name": "Python 3 (ipykernel)",
   "language": "python",
   "name": "python3"
  },
  "language_info": {
   "codemirror_mode": {
    "name": "ipython",
    "version": 3
   },
   "file_extension": ".py",
   "mimetype": "text/x-python",
   "name": "python",
   "nbconvert_exporter": "python",
   "pygments_lexer": "ipython3",
   "version": "3.9.16"
  }
 },
 "nbformat": 4,
 "nbformat_minor": 5
}
