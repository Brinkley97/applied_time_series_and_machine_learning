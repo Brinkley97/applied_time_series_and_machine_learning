{
 "cells": [
  {
   "cell_type": "markdown",
   "id": "76ca8df0-2185-4ef7-a096-9614a434e708",
   "metadata": {},
   "source": [
    "# Creating a TS a Trend, Seasonality, and Irregularity"
   ]
  },
  {
   "cell_type": "code",
   "execution_count": 1,
   "id": "66e69e9f-dc99-47a9-bebf-9663d8d6e414",
   "metadata": {},
   "outputs": [],
   "source": [
    "import numpy as np\n",
    "\n",
    "import matplotlib.pyplot as plt"
   ]
  },
  {
   "cell_type": "code",
   "execution_count": 16,
   "id": "1043731d-1351-4495-9f8d-e8c4075eebdc",
   "metadata": {},
   "outputs": [],
   "source": [
    "def generate_ts_with_components(T: float, S: float, I: float, noise: float):\n",
    "    \"\"\"Generate a time series given the component.\n",
    "    \n",
    "    \"\"\"\n",
    "    ts = []\n",
    "    ss = []\n",
    "    irs = [] \n",
    "    ts_with_components = [] \n",
    "    \n",
    "    for t in range(1, 51):\n",
    "        trend = T * t\n",
    "        ts.append(trend)\n",
    "        \n",
    "        seasonal = 1.6 * np.sin(t * np.pi) / 6\n",
    "        ss.append(seasonal)\n",
    "        \n",
    "        irregular = 0.7 * irregular_lag_k + noise\n",
    "        irs.append(irregular)\n",
    "        \n",
    "        ts_with_component = trend * seasonal * irregular\n",
    "        ts_with_components.append(ts_with_component)\n",
    "        \n",
    "    return ts, ss, irs, ts_with_components"
   ]
  },
  {
   "cell_type": "markdown",
   "id": "904dad33-d89c-4091-a835-6c2d2d13df64",
   "metadata": {},
   "source": [
    "## Trend\n",
    "\n",
    "$$ T_t = 1 + 0.1t $$\n",
    "\n",
    "## Seasonal\n",
    "\n",
    "$$ S_t = 1.6 sin([t * \\pi] / 6) $$\n",
    "\n",
    "## Irregular\n",
    "\n",
    "$$ I_t = 0.7 * I_{t - 1} + \\epsilon_t $$"
   ]
  },
  {
   "cell_type": "code",
   "execution_count": 17,
   "id": "6ea51a4c-f338-4382-8e52-8af96cb16144",
   "metadata": {},
   "outputs": [],
   "source": [
    "trend = 1 + 0.1"
   ]
  },
  {
   "cell_type": "code",
   "execution_count": 18,
   "id": "e66d4398-5c3d-4161-b928-5d652be86d95",
   "metadata": {},
   "outputs": [],
   "source": [
    "seasonal = 1.6"
   ]
  },
  {
   "cell_type": "code",
   "execution_count": 19,
   "id": "a4756c2d-c9f5-4843-8e29-e01a3a454a92",
   "metadata": {},
   "outputs": [],
   "source": [
    "irregular_lag_k = 1\n",
    "noise = 0.5"
   ]
  },
  {
   "cell_type": "code",
   "execution_count": 20,
   "id": "e800d723-53e6-4250-a038-21df43c81d88",
   "metadata": {},
   "outputs": [],
   "source": [
    "t, s, i, ts_with_all_components = generate_ts_with_components(trend, seasonal, irregular_lag_k, noise)"
   ]
  },
  {
   "cell_type": "code",
   "execution_count": 21,
   "id": "1455f54c-9d95-45b1-9886-794831980b19",
   "metadata": {},
   "outputs": [
    {
     "data": {
      "text/plain": [
       "[1.1,\n",
       " 2.2,\n",
       " 3.3000000000000003,\n",
       " 4.4,\n",
       " 5.5,\n",
       " 6.6000000000000005,\n",
       " 7.700000000000001,\n",
       " 8.8,\n",
       " 9.9,\n",
       " 11.0,\n",
       " 12.100000000000001,\n",
       " 13.200000000000001,\n",
       " 14.3,\n",
       " 15.400000000000002,\n",
       " 16.5,\n",
       " 17.6,\n",
       " 18.700000000000003,\n",
       " 19.8,\n",
       " 20.900000000000002,\n",
       " 22.0,\n",
       " 23.1,\n",
       " 24.200000000000003,\n",
       " 25.3,\n",
       " 26.400000000000002,\n",
       " 27.500000000000004,\n",
       " 28.6,\n",
       " 29.700000000000003,\n",
       " 30.800000000000004,\n",
       " 31.900000000000002,\n",
       " 33.0,\n",
       " 34.1,\n",
       " 35.2,\n",
       " 36.300000000000004,\n",
       " 37.400000000000006,\n",
       " 38.5,\n",
       " 39.6,\n",
       " 40.7,\n",
       " 41.800000000000004,\n",
       " 42.900000000000006,\n",
       " 44.0,\n",
       " 45.1,\n",
       " 46.2,\n",
       " 47.300000000000004,\n",
       " 48.400000000000006,\n",
       " 49.50000000000001,\n",
       " 50.6,\n",
       " 51.7,\n",
       " 52.800000000000004,\n",
       " 53.900000000000006,\n",
       " 55.00000000000001]"
      ]
     },
     "execution_count": 21,
     "metadata": {},
     "output_type": "execute_result"
    }
   ],
   "source": [
    "t"
   ]
  },
  {
   "cell_type": "code",
   "execution_count": 22,
   "id": "419eeca8-a387-4e7b-a20c-c84da1d8e0b1",
   "metadata": {},
   "outputs": [
    {
     "data": {
      "text/plain": [
       "[3.265724797726275e-17,\n",
       " -6.53144959545255e-17,\n",
       " 9.797174393178825e-17,\n",
       " -1.30628991909051e-16,\n",
       " 1.6328623988631375e-16,\n",
       " -1.959434878635765e-16,\n",
       " 2.2860073584083927e-16,\n",
       " -2.61257983818102e-16,\n",
       " 2.9391523179536476e-16,\n",
       " -3.265724797726275e-16,\n",
       " 1.3066200420966904e-15,\n",
       " -3.91886975727153e-16,\n",
       " -5.228460906423844e-16,\n",
       " -4.572014716816785e-16,\n",
       " 1.4372490340057416e-15,\n",
       " -5.22515967636204e-16,\n",
       " -3.922170987333335e-16,\n",
       " -5.878304635907295e-16,\n",
       " 1.5678780259147926e-15,\n",
       " -6.53144959545255e-16,\n",
       " -2.615881068242825e-16,\n",
       " -2.613240084193381e-15,\n",
       " 1.6985070178238436e-15,\n",
       " -7.83773951454306e-16,\n",
       " -1.3095911491523147e-16,\n",
       " 1.0456921812847689e-15,\n",
       " 1.8291360097328948e-15,\n",
       " -9.14402943363357e-16,\n",
       " -3.3012300618045746e-19,\n",
       " -2.8744980680114832e-15,\n",
       " 1.9597650016419457e-15,\n",
       " -1.045031935272408e-15,\n",
       " 1.3029886890287057e-16,\n",
       " 7.84434197466667e-16,\n",
       " 2.0903939935509967e-15,\n",
       " -1.175660927181459e-15,\n",
       " 2.609278608119216e-16,\n",
       " -3.1357560518295852e-15,\n",
       " 2.2210229854600477e-15,\n",
       " -1.30628991909051e-15,\n",
       " 4.181118110108174e-15,\n",
       " 5.23176213648565e-16,\n",
       " 2.3516519773690987e-15,\n",
       " -5.226480168386762e-15,\n",
       " 5.221858446300236e-16,\n",
       " -3.397014035647687e-15,\n",
       " -1.3072802881090515e-15,\n",
       " -1.567547902908612e-15,\n",
       " 4.442376093926276e-15,\n",
       " 2.6191822983046294e-16]"
      ]
     },
     "execution_count": 22,
     "metadata": {},
     "output_type": "execute_result"
    }
   ],
   "source": [
    "s"
   ]
  },
  {
   "cell_type": "code",
   "execution_count": 23,
   "id": "35db932b-9c6c-4b14-a6b4-a26384706919",
   "metadata": {},
   "outputs": [
    {
     "data": {
      "text/plain": [
       "[1.2,\n",
       " 1.2,\n",
       " 1.2,\n",
       " 1.2,\n",
       " 1.2,\n",
       " 1.2,\n",
       " 1.2,\n",
       " 1.2,\n",
       " 1.2,\n",
       " 1.2,\n",
       " 1.2,\n",
       " 1.2,\n",
       " 1.2,\n",
       " 1.2,\n",
       " 1.2,\n",
       " 1.2,\n",
       " 1.2,\n",
       " 1.2,\n",
       " 1.2,\n",
       " 1.2,\n",
       " 1.2,\n",
       " 1.2,\n",
       " 1.2,\n",
       " 1.2,\n",
       " 1.2,\n",
       " 1.2,\n",
       " 1.2,\n",
       " 1.2,\n",
       " 1.2,\n",
       " 1.2,\n",
       " 1.2,\n",
       " 1.2,\n",
       " 1.2,\n",
       " 1.2,\n",
       " 1.2,\n",
       " 1.2,\n",
       " 1.2,\n",
       " 1.2,\n",
       " 1.2,\n",
       " 1.2,\n",
       " 1.2,\n",
       " 1.2,\n",
       " 1.2,\n",
       " 1.2,\n",
       " 1.2,\n",
       " 1.2,\n",
       " 1.2,\n",
       " 1.2,\n",
       " 1.2,\n",
       " 1.2]"
      ]
     },
     "execution_count": 23,
     "metadata": {},
     "output_type": "execute_result"
    }
   ],
   "source": [
    "i"
   ]
  },
  {
   "cell_type": "code",
   "execution_count": 24,
   "id": "3b0dd11f-00c0-470f-8bf1-2404618f16d1",
   "metadata": {},
   "outputs": [
    {
     "data": {
      "text/plain": [
       "[4.3107567329986836e-17,\n",
       " -1.7243026931994734e-16,\n",
       " 3.879681059698815e-16,\n",
       " -6.897210772797894e-16,\n",
       " 1.0776891832496706e-15,\n",
       " -1.551872423879526e-15,\n",
       " 2.112270799169355e-15,\n",
       " -2.7588843091191575e-15,\n",
       " 3.4917129537289332e-15,\n",
       " -4.3107567329986824e-15,\n",
       " 1.8972123011243947e-14,\n",
       " -6.207489695518104e-15,\n",
       " -8.972038915423318e-15,\n",
       " -8.44908319667742e-15,\n",
       " 2.8457530873313687e-14,\n",
       " -1.103553723647663e-14,\n",
       " -8.801351695576006e-15,\n",
       " -1.3966851814915733e-14,\n",
       " 3.9322380889943e-14,\n",
       " -1.724302693199473e-14,\n",
       " -7.25122232116911e-15,\n",
       " -7.588849204497579e-14,\n",
       " 5.156667306113189e-14,\n",
       " -2.4829958782072418e-14,\n",
       " -4.3216507922026395e-15,\n",
       " 3.5888155661693274e-14,\n",
       " 6.519040738688037e-14,\n",
       " -3.379633278670968e-14,\n",
       " -1.2637108676587913e-17,\n",
       " -1.1383012349325475e-13,\n",
       " 8.019358386718842e-14,\n",
       " -4.414214894590652e-14,\n",
       " 5.6758187294090424e-15,\n",
       " 3.520540678230402e-14,\n",
       " 9.657620250205605e-14,\n",
       " -5.586740725966293e-14,\n",
       " 1.2743716722054252e-14,\n",
       " -1.57289523559772e-13,\n",
       " 1.1433826329148326e-13,\n",
       " -6.897210772797892e-14,\n",
       " 2.2628211211905438e-13,\n",
       " 2.900488928467644e-14,\n",
       " 1.3347976623547004e-13,\n",
       " -3.0355396817990315e-13,\n",
       " 3.1017839171023404e-14,\n",
       " -2.0626669224452755e-13,\n",
       " -8.110366907428556e-14,\n",
       " -9.931983512828967e-14,\n",
       " 2.8733288575515156e-13,\n",
       " 1.7286603168810558e-14]"
      ]
     },
     "execution_count": 24,
     "metadata": {},
     "output_type": "execute_result"
    }
   ],
   "source": [
    "ts_with_all_components"
   ]
  },
  {
   "cell_type": "code",
   "execution_count": null,
   "id": "21a9ef07-14f7-494a-b900-945c5aae409b",
   "metadata": {},
   "outputs": [],
   "source": [
    "def plot_component(component: float):\n",
    "    \n",
    "    x = range(1, 51)\n",
    "    y = component\n",
    "    plt.plot(x, y)\n",
    "    plt.show"
   ]
  },
  {
   "cell_type": "code",
   "execution_count": 26,
   "id": "5097549b-c567-42e9-8d44-bd35141a46a4",
   "metadata": {},
   "outputs": [
    {
     "data": {
      "image/png": "[encoded data removed]",
      "text/plain": [
       "<Figure size 640x480 with 1 Axes>"
      ]
     },
     "metadata": {},
     "output_type": "display_data"
    }
   ],
   "source": [
    "plot_component(t)"
   ]
  },
  {
   "cell_type": "code",
   "execution_count": 27,
   "id": "51adb7a3-c3de-4170-a32b-6e9576846996",
   "metadata": {},
   "outputs": [
    {
     "data": {
      "image/png": "[encoded data removed]",
      "text/plain": [
       "<Figure size 640x480 with 1 Axes>"
      ]
     },
     "metadata": {},
     "output_type": "display_data"
    }
   ],
   "source": [
    "plot_component(s)"
   ]
  },
  {
   "cell_type": "code",
   "execution_count": 28,
   "id": "c07974aa-feca-4f8d-8910-29df233fe75c",
   "metadata": {},
   "outputs": [
    {
     "data": {
      "image/png": "[encoded data removed]",
      "text/plain": [
       "<Figure size 640x480 with 1 Axes>"
      ]
     },
     "metadata": {},
     "output_type": "display_data"
    }
   ],
   "source": [
    "plot_component(i)"
   ]
  },
  {
   "cell_type": "code",
   "execution_count": null,
   "id": "14366a88-0a56-411e-91b2-cf8cbb094600",
   "metadata": {},
   "outputs": [],
   "source": []
  }
 ],
 "metadata": {
  "kernelspec": {
   "display_name": "Python 3 (ipykernel)",
   "language": "python",
   "name": "python3"
  },
  "language_info": {
   "codemirror_mode": {
    "name": "ipython",
    "version": 3
   },
   "file_extension": ".py",
   "mimetype": "text/x-python",
   "name": "python",
   "nbconvert_exporter": "python",
   "pygments_lexer": "ipython3",
   "version": "3.9.16"
  }
 },
 "nbformat": 4,
 "nbformat_minor": 5
}
