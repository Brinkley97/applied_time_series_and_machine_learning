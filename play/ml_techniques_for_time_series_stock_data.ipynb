{
 "cells": [
  {
   "cell_type": "markdown",
   "id": "204ed677-57bf-45f3-88a8-a16b068b2eed",
   "metadata": {},
   "source": [
    "# ML Techniques for Time Series Stock Data"
   ]
  },
  {
   "cell_type": "markdown",
   "id": "acf0e6dc-a457-4241-8f51-c0a14e357c9f",
   "metadata": {},
   "source": [
    "# Imports"
   ]
  },
  {
   "cell_type": "code",
   "execution_count": 1,
   "id": "5d3af871-d4fe-4bc2-98e7-5eee7bbd6f70",
   "metadata": {},
   "outputs": [
    {
     "name": "stderr",
     "output_type": "stream",
     "text": [
      "2023-09-26 18:41:58.238837: I tensorflow/core/platform/cpu_feature_guard.cc:193] This TensorFlow binary is optimized with oneAPI Deep Neural Network Library (oneDNN) to use the following CPU instructions in performance-critical operations:  SSE4.1 SSE4.2 AVX AVX2 FMA\n",
      "To enable them in other operations, rebuild TensorFlow with the appropriate compiler flags.\n"
     ]
    }
   ],
   "source": [
    "import math\n",
    "import numpy as np\n",
    "import pandas as pd\n",
    "import yfinance as yf\n",
    "\n",
    "from abc import ABC\n",
    "from typing import List\n",
    "from tensorflow import keras\n",
    "from abc import abstractmethod\n",
    "from dataclasses import dataclass\n",
    "\n",
    "\n",
    "from keras.layers import LSTM as model_LSTM\n",
    "from keras.layers import Dense\n",
    "from keras.layers import Flatten\n",
    "from keras.models import Sequential\n",
    "from keras.layers.convolutional import Conv1D \n",
    "from keras.layers.convolutional import MaxPooling1D\n",
    "\n",
    "from sklearn.metrics import max_error, mean_absolute_error, mean_squared_error, mean_absolute_percentage_error"
   ]
  },
  {
   "cell_type": "markdown",
   "id": "b5d3ab69-0763-48e7-8a7e-4bd1c72c8a91",
   "metadata": {},
   "source": [
    "# Data Processor - Load the stock data\n",
    "\n",
    "1. Retrieve the stock data with `data = yf.download(symbol, start=\"YYYY-MM-DD\", end=\"YYYY-MM-DD\")`\n",
    "2. Specify what column we're seeking to explore to get the univariate time series (uts)\n",
    "3. Convert the univariate time series (uts) to supervised machine learning (sml)"
   ]
  },
  {
   "cell_type": "code",
   "execution_count": 2,
   "id": "12013e23-aec2-410b-9862-df4eec48e15f",
   "metadata": {},
   "outputs": [],
   "source": [
    "@dataclass\n",
    "class YFinanceDataProcessor:\n",
    "    \"\"\"Handles fetching and returning data. \"\"\"\n",
    "    ticker_symbol: str\n",
    "    start_date: str\n",
    "    end_date: str\n",
    "    \n",
    "    def __post_init__(self):\n",
    "        \"\"\"Operations that are performed after the initialization step.\"\"\"\n",
    "        self.data = yf.download(self.ticker_symbol, start=self.start_date, end=self.end_date)\n",
    "    \n",
    "    def filter_by_col(self, col_name: str):\n",
    "        \"\"\"Returns a filtered univariate dataframe with all the rows.\n",
    "        \n",
    "        Parameter:\n",
    "        col_name -- str (that specifies the column) \n",
    "        \n",
    "        Return:\n",
    "        -- pd DataFrame (of the univariate ts data)\n",
    "        \"\"\"\n",
    "        univariate_ts_df = self.data.loc[:, [col_name]]\n",
    "        return univariate_ts_df\n",
    "    \n",
    "    def convert_uts_sequence_to_sml_with_pd(self, uts_observations: pd.DataFrame, prior_observations: int, forecasting_step: int):\n",
    "        \"\"\"Splits a given UTS into multiple input rows where each input row has a specified number of timestamps and the output is a single timestamp.\n",
    "\n",
    "        Parameters:\n",
    "        uts_observations -- pd DataFrame (of UTS data to transform to SML data with size  b rows/length x 1 dimension)\n",
    "        prior_observations -- py int (of all observations before we get to where we want to start making the predictions)\n",
    "        forecasting_step -- py int (of how far out to forecast, 1 only the next timestamp, 2 the next two timestamps, ... n the next n timestamps)\n",
    "\n",
    "        Return:\n",
    "        -- pd DataFrame (of the sml data)\n",
    "        \"\"\"\n",
    "        observations_df = pd.DataFrame(uts_observations)\n",
    "        cols = list()\n",
    "        lag_col_names = []\n",
    "        \n",
    "        # print(\"Input Univariate Time Series:\")\n",
    "        # print(uts_observations, \"\\nX of size\", np.shape(uts_observations))\n",
    "        # print()\n",
    "\n",
    "        # input sequence (t-n, ... t-1)\n",
    "        # name columns for sml df\n",
    "        for prior_observation in range(prior_observations, 0, -1):\n",
    "            # print(\"prior_observation: \", prior_observation)\n",
    "            \n",
    "            cols.append(observations_df.shift(prior_observation))\n",
    "            new_col_name = \"t-\" + str(prior_observation)\n",
    "            # print(new_col_name)\n",
    "            lag_col_names.append(new_col_name)\n",
    "\n",
    "\n",
    "        # forecast sequence (t, t+1, ... t+n)\n",
    "        # name columns for sml df\n",
    "        for i in range(0, forecasting_step):\n",
    "            cols.append(observations_df.shift(-i))\n",
    "\n",
    "            new_col_name = \"t\" \n",
    "            if forecasting_step == 1:\n",
    "                # print(new_col_name)\n",
    "                lag_col_names.append(new_col_name)\n",
    "\n",
    "            else:\n",
    "                if i == 0:\n",
    "                    lag_col_names.append(new_col_name)\n",
    "                else:\n",
    "                    new_col_name = \"t+\" + str(i)\n",
    "                    # print(new_col_name)\n",
    "                    lag_col_names.append(new_col_name)\n",
    "\n",
    "            # put observation cols together and add column names\n",
    "            uts_sml_df = pd.concat(cols, axis=1) \n",
    "            uts_sml_df.columns=[lag_col_names]\n",
    "            \n",
    "            # drop rows with NaN values\n",
    "            uts_sml_df.dropna(inplace=True)\n",
    "            sml_df = uts_sml_df.reset_index(drop=True)\n",
    "            \n",
    "        return sml_df\n",
    "    \n",
    "    def train_test_split(self, uts_sml_df: pd.DataFrame):\n",
    "        \n",
    "        # print(uts_sml_df)\n",
    "        # print(\"Univariate Time Series as Supervised Machine Learning:\")\n",
    "        # colums to use to make prediction for last col\n",
    "\n",
    "        X_train = uts_sml_df.iloc[:, :prior_observations]\n",
    "        # print(\"X_train: \\n\", X_train)\n",
    "\n",
    "        # last column\n",
    "        y_train = uts_sml_df.iloc[:, -forecasting_step:]\n",
    "        # print(\"y_train: \\n\", y_train)\n",
    "        \n",
    "        # Make a prediction for this data\n",
    "        x_input = uts_sml_df.iloc[-1:, forecasting_step:]\n",
    "        \n",
    "        return X_train, y_train, x_input"
   ]
  },
  {
   "cell_type": "code",
   "execution_count": 3,
   "id": "cea87eb8-d6df-4ab5-bc05-0b9b212634d6",
   "metadata": {},
   "outputs": [
    {
     "name": "stdout",
     "output_type": "stream",
     "text": [
      "[*********************100%***********************]  1 of 1 completed\n"
     ]
    },
    {
     "data": {
      "text/html": [
       "<div>\n",
       "<style scoped>\n",
       "    .dataframe tbody tr th:only-of-type {\n",
       "        vertical-align: middle;\n",
       "    }\n",
       "\n",
       "    .dataframe tbody tr th {\n",
       "        vertical-align: top;\n",
       "    }\n",
       "\n",
       "    .dataframe thead th {\n",
       "        text-align: right;\n",
       "    }\n",
       "</style>\n",
       "<table border=\"1\" class=\"dataframe\">\n",
       "  <thead>\n",
       "    <tr style=\"text-align: right;\">\n",
       "      <th></th>\n",
       "      <th>Open</th>\n",
       "    </tr>\n",
       "    <tr>\n",
       "      <th>Date</th>\n",
       "      <th></th>\n",
       "    </tr>\n",
       "  </thead>\n",
       "  <tbody>\n",
       "    <tr>\n",
       "      <th>2022-01-03</th>\n",
       "      <td>437.929993</td>\n",
       "    </tr>\n",
       "    <tr>\n",
       "      <th>2022-01-04</th>\n",
       "      <td>440.579987</td>\n",
       "    </tr>\n",
       "    <tr>\n",
       "      <th>2022-01-05</th>\n",
       "      <td>438.779999</td>\n",
       "    </tr>\n",
       "    <tr>\n",
       "      <th>2022-01-06</th>\n",
       "      <td>430.200012</td>\n",
       "    </tr>\n",
       "    <tr>\n",
       "      <th>2022-01-07</th>\n",
       "      <td>430.209991</td>\n",
       "    </tr>\n",
       "    <tr>\n",
       "      <th>...</th>\n",
       "      <td>...</td>\n",
       "    </tr>\n",
       "    <tr>\n",
       "      <th>2023-06-16</th>\n",
       "      <td>408.690002</td>\n",
       "    </tr>\n",
       "    <tr>\n",
       "      <th>2023-06-20</th>\n",
       "      <td>403.489990</td>\n",
       "    </tr>\n",
       "    <tr>\n",
       "      <th>2023-06-21</th>\n",
       "      <td>402.309998</td>\n",
       "    </tr>\n",
       "    <tr>\n",
       "      <th>2023-06-22</th>\n",
       "      <td>400.279999</td>\n",
       "    </tr>\n",
       "    <tr>\n",
       "      <th>2023-06-23</th>\n",
       "      <td>399.329987</td>\n",
       "    </tr>\n",
       "  </tbody>\n",
       "</table>\n",
       "<p>370 rows × 1 columns</p>\n",
       "</div>"
      ],
      "text/plain": [
       "                  Open\n",
       "Date                  \n",
       "2022-01-03  437.929993\n",
       "2022-01-04  440.579987\n",
       "2022-01-05  438.779999\n",
       "2022-01-06  430.200012\n",
       "2022-01-07  430.209991\n",
       "...                ...\n",
       "2023-06-16  408.690002\n",
       "2023-06-20  403.489990\n",
       "2023-06-21  402.309998\n",
       "2023-06-22  400.279999\n",
       "2023-06-23  399.329987\n",
       "\n",
       "[370 rows x 1 columns]"
      ]
     },
     "execution_count": 3,
     "metadata": {},
     "output_type": "execute_result"
    }
   ],
   "source": [
    "# Set the start and end dates for the data\n",
    "symbol = \"VOO\"\n",
    "# symbol = \"BRK-A\"\n",
    "start_date = \"2022-01-01\"\n",
    "end_date = \"2023-06-26\"\n",
    "\n",
    "data_processor = YFinanceDataProcessor(symbol, start_date, end_date)\n",
    "# data_processor.data\n",
    "uts_observations = data_processor.filter_by_col(\"Open\")\n",
    "uts_observations"
   ]
  },
  {
   "cell_type": "markdown",
   "id": "7761026b-fcd3-4a9c-856a-e0675e2c472b",
   "metadata": {},
   "source": [
    "- Beware of the dates. We want to predict the next day, so we have to split the data as such. \n",
    "- `historical_data`: historical data to train\n",
    "- `tomorrow`: the true label for the next day"
   ]
  },
  {
   "cell_type": "code",
   "execution_count": 4,
   "id": "3d2b63a8-23c5-4f71-b237-bfca946de4d2",
   "metadata": {},
   "outputs": [
    {
     "data": {
      "text/html": [
       "<div>\n",
       "<style scoped>\n",
       "    .dataframe tbody tr th:only-of-type {\n",
       "        vertical-align: middle;\n",
       "    }\n",
       "\n",
       "    .dataframe tbody tr th {\n",
       "        vertical-align: top;\n",
       "    }\n",
       "\n",
       "    .dataframe thead th {\n",
       "        text-align: right;\n",
       "    }\n",
       "</style>\n",
       "<table border=\"1\" class=\"dataframe\">\n",
       "  <thead>\n",
       "    <tr style=\"text-align: right;\">\n",
       "      <th></th>\n",
       "      <th>Open</th>\n",
       "    </tr>\n",
       "    <tr>\n",
       "      <th>Date</th>\n",
       "      <th></th>\n",
       "    </tr>\n",
       "  </thead>\n",
       "  <tbody>\n",
       "    <tr>\n",
       "      <th>2022-01-03</th>\n",
       "      <td>437.929993</td>\n",
       "    </tr>\n",
       "    <tr>\n",
       "      <th>2022-01-04</th>\n",
       "      <td>440.579987</td>\n",
       "    </tr>\n",
       "    <tr>\n",
       "      <th>2022-01-05</th>\n",
       "      <td>438.779999</td>\n",
       "    </tr>\n",
       "    <tr>\n",
       "      <th>2022-01-06</th>\n",
       "      <td>430.200012</td>\n",
       "    </tr>\n",
       "    <tr>\n",
       "      <th>2022-01-07</th>\n",
       "      <td>430.209991</td>\n",
       "    </tr>\n",
       "    <tr>\n",
       "      <th>...</th>\n",
       "      <td>...</td>\n",
       "    </tr>\n",
       "    <tr>\n",
       "      <th>2023-06-15</th>\n",
       "      <td>401.000000</td>\n",
       "    </tr>\n",
       "    <tr>\n",
       "      <th>2023-06-16</th>\n",
       "      <td>408.690002</td>\n",
       "    </tr>\n",
       "    <tr>\n",
       "      <th>2023-06-20</th>\n",
       "      <td>403.489990</td>\n",
       "    </tr>\n",
       "    <tr>\n",
       "      <th>2023-06-21</th>\n",
       "      <td>402.309998</td>\n",
       "    </tr>\n",
       "    <tr>\n",
       "      <th>2023-06-22</th>\n",
       "      <td>400.279999</td>\n",
       "    </tr>\n",
       "  </tbody>\n",
       "</table>\n",
       "<p>369 rows × 1 columns</p>\n",
       "</div>"
      ],
      "text/plain": [
       "                  Open\n",
       "Date                  \n",
       "2022-01-03  437.929993\n",
       "2022-01-04  440.579987\n",
       "2022-01-05  438.779999\n",
       "2022-01-06  430.200012\n",
       "2022-01-07  430.209991\n",
       "...                ...\n",
       "2023-06-15  401.000000\n",
       "2023-06-16  408.690002\n",
       "2023-06-20  403.489990\n",
       "2023-06-21  402.309998\n",
       "2023-06-22  400.279999\n",
       "\n",
       "[369 rows x 1 columns]"
      ]
     },
     "execution_count": 4,
     "metadata": {},
     "output_type": "execute_result"
    }
   ],
   "source": [
    "historical_data = uts_observations[:-1]\n",
    "historical_data"
   ]
  },
  {
   "cell_type": "code",
   "execution_count": 5,
   "id": "376c22ac-847c-461c-97e6-e955d8c6afb4",
   "metadata": {},
   "outputs": [
    {
     "data": {
      "text/html": [
       "<div>\n",
       "<style scoped>\n",
       "    .dataframe tbody tr th:only-of-type {\n",
       "        vertical-align: middle;\n",
       "    }\n",
       "\n",
       "    .dataframe tbody tr th {\n",
       "        vertical-align: top;\n",
       "    }\n",
       "\n",
       "    .dataframe thead th {\n",
       "        text-align: right;\n",
       "    }\n",
       "</style>\n",
       "<table border=\"1\" class=\"dataframe\">\n",
       "  <thead>\n",
       "    <tr style=\"text-align: right;\">\n",
       "      <th></th>\n",
       "      <th>Open</th>\n",
       "    </tr>\n",
       "    <tr>\n",
       "      <th>Date</th>\n",
       "      <th></th>\n",
       "    </tr>\n",
       "  </thead>\n",
       "  <tbody>\n",
       "    <tr>\n",
       "      <th>2023-06-23</th>\n",
       "      <td>399.329987</td>\n",
       "    </tr>\n",
       "  </tbody>\n",
       "</table>\n",
       "</div>"
      ],
      "text/plain": [
       "                  Open\n",
       "Date                  \n",
       "2023-06-23  399.329987"
      ]
     },
     "execution_count": 5,
     "metadata": {},
     "output_type": "execute_result"
    }
   ],
   "source": [
    "tomorrow = uts_observations[-1:]\n",
    "tomorrow"
   ]
  },
  {
   "cell_type": "code",
   "execution_count": 6,
   "id": "76b6043a-a7cc-4e3f-971d-902e6c3e1d45",
   "metadata": {},
   "outputs": [
    {
     "data": {
      "text/plain": [
       "array([[399.32998657]])"
      ]
     },
     "execution_count": 6,
     "metadata": {},
     "output_type": "execute_result"
    }
   ],
   "source": [
    "tomorrow = tomorrow.values\n",
    "tomorrow"
   ]
  },
  {
   "cell_type": "code",
   "execution_count": 7,
   "id": "ab9d4f64-19cf-4a7d-881e-5e59ca3b0e18",
   "metadata": {},
   "outputs": [
    {
     "data": {
      "text/html": [
       "<div>\n",
       "<style scoped>\n",
       "    .dataframe tbody tr th:only-of-type {\n",
       "        vertical-align: middle;\n",
       "    }\n",
       "\n",
       "    .dataframe tbody tr th {\n",
       "        vertical-align: top;\n",
       "    }\n",
       "\n",
       "    .dataframe thead tr th {\n",
       "        text-align: left;\n",
       "    }\n",
       "</style>\n",
       "<table border=\"1\" class=\"dataframe\">\n",
       "  <thead>\n",
       "    <tr>\n",
       "      <th></th>\n",
       "      <th>t-3</th>\n",
       "      <th>t-2</th>\n",
       "      <th>t-1</th>\n",
       "      <th>t</th>\n",
       "    </tr>\n",
       "  </thead>\n",
       "  <tbody>\n",
       "    <tr>\n",
       "      <th>0</th>\n",
       "      <td>437.929993</td>\n",
       "      <td>440.579987</td>\n",
       "      <td>438.779999</td>\n",
       "      <td>430.200012</td>\n",
       "    </tr>\n",
       "    <tr>\n",
       "      <th>1</th>\n",
       "      <td>440.579987</td>\n",
       "      <td>438.779999</td>\n",
       "      <td>430.200012</td>\n",
       "      <td>430.209991</td>\n",
       "    </tr>\n",
       "    <tr>\n",
       "      <th>2</th>\n",
       "      <td>438.779999</td>\n",
       "      <td>430.200012</td>\n",
       "      <td>430.209991</td>\n",
       "      <td>425.380005</td>\n",
       "    </tr>\n",
       "    <tr>\n",
       "      <th>3</th>\n",
       "      <td>430.200012</td>\n",
       "      <td>430.209991</td>\n",
       "      <td>425.380005</td>\n",
       "      <td>427.679993</td>\n",
       "    </tr>\n",
       "    <tr>\n",
       "      <th>4</th>\n",
       "      <td>430.209991</td>\n",
       "      <td>425.380005</td>\n",
       "      <td>427.679993</td>\n",
       "      <td>433.559998</td>\n",
       "    </tr>\n",
       "    <tr>\n",
       "      <th>...</th>\n",
       "      <td>...</td>\n",
       "      <td>...</td>\n",
       "      <td>...</td>\n",
       "      <td>...</td>\n",
       "    </tr>\n",
       "    <tr>\n",
       "      <th>361</th>\n",
       "      <td>395.980011</td>\n",
       "      <td>400.019989</td>\n",
       "      <td>401.609985</td>\n",
       "      <td>401.000000</td>\n",
       "    </tr>\n",
       "    <tr>\n",
       "      <th>362</th>\n",
       "      <td>400.019989</td>\n",
       "      <td>401.609985</td>\n",
       "      <td>401.000000</td>\n",
       "      <td>408.690002</td>\n",
       "    </tr>\n",
       "    <tr>\n",
       "      <th>363</th>\n",
       "      <td>401.609985</td>\n",
       "      <td>401.000000</td>\n",
       "      <td>408.690002</td>\n",
       "      <td>403.489990</td>\n",
       "    </tr>\n",
       "    <tr>\n",
       "      <th>364</th>\n",
       "      <td>401.000000</td>\n",
       "      <td>408.690002</td>\n",
       "      <td>403.489990</td>\n",
       "      <td>402.309998</td>\n",
       "    </tr>\n",
       "    <tr>\n",
       "      <th>365</th>\n",
       "      <td>408.690002</td>\n",
       "      <td>403.489990</td>\n",
       "      <td>402.309998</td>\n",
       "      <td>400.279999</td>\n",
       "    </tr>\n",
       "  </tbody>\n",
       "</table>\n",
       "<p>366 rows × 4 columns</p>\n",
       "</div>"
      ],
      "text/plain": [
       "            t-3         t-2         t-1           t\n",
       "0    437.929993  440.579987  438.779999  430.200012\n",
       "1    440.579987  438.779999  430.200012  430.209991\n",
       "2    438.779999  430.200012  430.209991  425.380005\n",
       "3    430.200012  430.209991  425.380005  427.679993\n",
       "4    430.209991  425.380005  427.679993  433.559998\n",
       "..          ...         ...         ...         ...\n",
       "361  395.980011  400.019989  401.609985  401.000000\n",
       "362  400.019989  401.609985  401.000000  408.690002\n",
       "363  401.609985  401.000000  408.690002  403.489990\n",
       "364  401.000000  408.690002  403.489990  402.309998\n",
       "365  408.690002  403.489990  402.309998  400.279999\n",
       "\n",
       "[366 rows x 4 columns]"
      ]
     },
     "execution_count": 7,
     "metadata": {},
     "output_type": "execute_result"
    }
   ],
   "source": [
    "prior_observations, forecasting_step = [3, 1]\n",
    "sml_samples_df = data_processor.convert_uts_sequence_to_sml_with_pd(historical_data, prior_observations, forecasting_step)\n",
    "sml_samples_df"
   ]
  },
  {
   "cell_type": "markdown",
   "id": "784e5eb5-8903-4d53-af3d-0711f202ada1",
   "metadata": {},
   "source": [
    "- Matrix X shape is [samples, features] $ \\Rightarrow $ [366, 3] $ \\Rightarrow $ vector x shape is [1, 3]\n",
    "- vector y shape is [samples, 1] $ \\Rightarrow $ [366, 1] $ \\Rightarrow $ scalar y shape is [1, 1]"
   ]
  },
  {
   "cell_type": "code",
   "execution_count": 8,
   "id": "7dc89ea1-2102-46f2-8808-094272104505",
   "metadata": {},
   "outputs": [
    {
     "data": {
      "text/html": [
       "<div>\n",
       "<style scoped>\n",
       "    .dataframe tbody tr th:only-of-type {\n",
       "        vertical-align: middle;\n",
       "    }\n",
       "\n",
       "    .dataframe tbody tr th {\n",
       "        vertical-align: top;\n",
       "    }\n",
       "\n",
       "    .dataframe thead tr th {\n",
       "        text-align: left;\n",
       "    }\n",
       "</style>\n",
       "<table border=\"1\" class=\"dataframe\">\n",
       "  <thead>\n",
       "    <tr>\n",
       "      <th></th>\n",
       "      <th>t-3</th>\n",
       "      <th>t-2</th>\n",
       "      <th>t-1</th>\n",
       "    </tr>\n",
       "  </thead>\n",
       "  <tbody>\n",
       "    <tr>\n",
       "      <th>0</th>\n",
       "      <td>437.929993</td>\n",
       "      <td>440.579987</td>\n",
       "      <td>438.779999</td>\n",
       "    </tr>\n",
       "    <tr>\n",
       "      <th>1</th>\n",
       "      <td>440.579987</td>\n",
       "      <td>438.779999</td>\n",
       "      <td>430.200012</td>\n",
       "    </tr>\n",
       "    <tr>\n",
       "      <th>2</th>\n",
       "      <td>438.779999</td>\n",
       "      <td>430.200012</td>\n",
       "      <td>430.209991</td>\n",
       "    </tr>\n",
       "    <tr>\n",
       "      <th>3</th>\n",
       "      <td>430.200012</td>\n",
       "      <td>430.209991</td>\n",
       "      <td>425.380005</td>\n",
       "    </tr>\n",
       "    <tr>\n",
       "      <th>4</th>\n",
       "      <td>430.209991</td>\n",
       "      <td>425.380005</td>\n",
       "      <td>427.679993</td>\n",
       "    </tr>\n",
       "    <tr>\n",
       "      <th>...</th>\n",
       "      <td>...</td>\n",
       "      <td>...</td>\n",
       "      <td>...</td>\n",
       "    </tr>\n",
       "    <tr>\n",
       "      <th>361</th>\n",
       "      <td>395.980011</td>\n",
       "      <td>400.019989</td>\n",
       "      <td>401.609985</td>\n",
       "    </tr>\n",
       "    <tr>\n",
       "      <th>362</th>\n",
       "      <td>400.019989</td>\n",
       "      <td>401.609985</td>\n",
       "      <td>401.000000</td>\n",
       "    </tr>\n",
       "    <tr>\n",
       "      <th>363</th>\n",
       "      <td>401.609985</td>\n",
       "      <td>401.000000</td>\n",
       "      <td>408.690002</td>\n",
       "    </tr>\n",
       "    <tr>\n",
       "      <th>364</th>\n",
       "      <td>401.000000</td>\n",
       "      <td>408.690002</td>\n",
       "      <td>403.489990</td>\n",
       "    </tr>\n",
       "    <tr>\n",
       "      <th>365</th>\n",
       "      <td>408.690002</td>\n",
       "      <td>403.489990</td>\n",
       "      <td>402.309998</td>\n",
       "    </tr>\n",
       "  </tbody>\n",
       "</table>\n",
       "<p>366 rows × 3 columns</p>\n",
       "</div>"
      ],
      "text/plain": [
       "            t-3         t-2         t-1\n",
       "0    437.929993  440.579987  438.779999\n",
       "1    440.579987  438.779999  430.200012\n",
       "2    438.779999  430.200012  430.209991\n",
       "3    430.200012  430.209991  425.380005\n",
       "4    430.209991  425.380005  427.679993\n",
       "..          ...         ...         ...\n",
       "361  395.980011  400.019989  401.609985\n",
       "362  400.019989  401.609985  401.000000\n",
       "363  401.609985  401.000000  408.690002\n",
       "364  401.000000  408.690002  403.489990\n",
       "365  408.690002  403.489990  402.309998\n",
       "\n",
       "[366 rows x 3 columns]"
      ]
     },
     "execution_count": 8,
     "metadata": {},
     "output_type": "execute_result"
    }
   ],
   "source": [
    "X = sml_samples_df.iloc[:, 0:3]\n",
    "X"
   ]
  },
  {
   "cell_type": "code",
   "execution_count": 9,
   "id": "d6b0989f-fe9f-49fa-9f0a-ce065ee23e14",
   "metadata": {},
   "outputs": [
    {
     "data": {
      "text/plain": [
       "0      430.200012\n",
       "1      430.209991\n",
       "2      425.380005\n",
       "3      427.679993\n",
       "4      433.559998\n",
       "          ...    \n",
       "361    401.000000\n",
       "362    408.690002\n",
       "363    403.489990\n",
       "364    402.309998\n",
       "365    400.279999\n",
       "Name: (t,), Length: 366, dtype: float64"
      ]
     },
     "execution_count": 9,
     "metadata": {},
     "output_type": "execute_result"
    }
   ],
   "source": [
    "y = sml_samples_df.iloc[0:, -1]\n",
    "y"
   ]
  },
  {
   "cell_type": "code",
   "execution_count": 10,
   "id": "7039d6f2-d5e2-4584-85c4-27ff63649222",
   "metadata": {},
   "outputs": [],
   "source": [
    "# import os  \n",
    "# os.makedirs('../datasets/', exist_ok=True)  \n",
    "# y.to_csv('../datasets/y-voo.csv') "
   ]
  },
  {
   "cell_type": "markdown",
   "id": "a88b718e-80ce-4c18-8fa8-07f0768b9f46",
   "metadata": {},
   "source": [
    "# Machine Learning Models"
   ]
  },
  {
   "cell_type": "code",
   "execution_count": 11,
   "id": "15084148-8971-4927-bee1-1d8f7af1260f",
   "metadata": {},
   "outputs": [],
   "source": [
    "@dataclass\n",
    "class Model(ABC):\n",
    "    \"\"\"This is a base class with an abstract-like implementation. Each specified model inherits from this base class.\n",
    "    \n",
    "    Methods decorated with @abstractmethod must be implemented; if not, the interpreter will throw\n",
    "    an error. Methods not decorated will be shared by all other classes that inherit from Model.\n",
    "    \"\"\"\n",
    "    \n",
    "    @abstractmethod\n",
    "    def __name__(self):\n",
    "        pass\n",
    "    \n",
    "    @abstractmethod\n",
    "    def define_model_with_layers(self):\n",
    "        pass\n",
    "    \n",
    "    @abstractmethod\n",
    "    def fit_model(self):\n",
    "        pass\n",
    "    \n",
    "    @abstractmethod\n",
    "    def predict(self):\n",
    "        pass\n",
    "    \n",
    "    def augment_data(self):\n",
    "        pass"
   ]
  },
  {
   "cell_type": "markdown",
   "id": "b357c207-2594-4411-9b22-89c4764941b3",
   "metadata": {},
   "source": [
    "# MLP"
   ]
  },
  {
   "cell_type": "code",
   "execution_count": 12,
   "id": "2944b391-ce3e-47de-afa1-2a72ddf3f6d3",
   "metadata": {},
   "outputs": [],
   "source": [
    "class MLP(Model):\n",
    "    \n",
    "    def __name__(self):\n",
    "        return \"MLP\"\n",
    "    \n",
    "    def define_model_with_layers(self, prior_observations, forecasting_step):\n",
    "        \"\"\"\n",
    "        prior_observations -- int (of #cols; inputs; #nodes in 1st layer)\n",
    "        forecasting_step -- int (of how far out we want to forecast)\n",
    "        \"\"\"\n",
    "        model = Sequential()\n",
    "        \n",
    "        hidden_layer_1 = Dense(100, activation='relu', input_dim=prior_observations, name=\"hidden_layer\")\n",
    "        model.add(hidden_layer_1)\n",
    "        input_weights_hidden = hidden_layer_1.get_weights()\n",
    "        # print(len(input_weights_hidden), input_weights_hidden)\n",
    "        # print(len(input_weights_hidden[0]))\n",
    "        # print(len(input_weights_hidden[0][0]))\n",
    "        # print(np.shape(input_weights_hidden[0][0]))\n",
    "\n",
    "        output_layer = Dense(forecasting_step, name=\"output_layer\")\n",
    "        model.add(output_layer)\n",
    "        hidden_weights_output = output_layer.get_weights()\n",
    "        # print(len(hidden_weights_output), hidden_weights_output)\n",
    "        # print(len(hidden_weights_output[0]))\n",
    "        # print(len(hidden_weights_output[0][0]))\n",
    "        # print(np.shape(hidden_weights_output[0][0]))\n",
    "        \n",
    "        model.compile(optimizer='adam', loss='mse')\n",
    "        keras.utils.plot_model(model, \"my_first_model.png\", show_shapes=True)\n",
    "\n",
    "        return model, model.summary()\n",
    "    \n",
    "    def fit_model(self, model_to_fit, X_train, y_train):\n",
    "        model_to_fit.fit(X_train, y_train, epochs=2000, verbose=0)\n",
    "        \n",
    "        return model_to_fit\n",
    "    \n",
    "    def predict(self, fitted_model, x_input, prior_observations):\n",
    "        \"\"\"\n",
    "        Parameters:\n",
    "        fitted_model -- keras model\n",
    "        x_input -- pd series\n",
    "        prior_observations -- int\n",
    "        \n",
    "        Returns\n",
    "        -- int (of the prediction at the next time step(s))\n",
    "        \"\"\"\n",
    "        x_input = x_input.values\n",
    "        x_input = x_input.reshape((1, prior_observations))\n",
    "        yhat = fitted_model.predict(x_input)\n",
    "        \n",
    "        return yhat"
   ]
  },
  {
   "cell_type": "code",
   "execution_count": 13,
   "id": "4a78fc99-0d15-4c82-a82b-df03a2da5eca",
   "metadata": {},
   "outputs": [],
   "source": [
    "mlp_model_class = MLP()"
   ]
  },
  {
   "cell_type": "code",
   "execution_count": 14,
   "id": "6218adb6-fb12-41da-b0e8-b22e0de6a3ce",
   "metadata": {},
   "outputs": [
    {
     "data": {
      "text/plain": [
       "3"
      ]
     },
     "execution_count": 14,
     "metadata": {},
     "output_type": "execute_result"
    }
   ],
   "source": [
    "prior_observations"
   ]
  },
  {
   "cell_type": "code",
   "execution_count": 15,
   "id": "43b17be8-ea9d-478e-914c-f41ea67bc8a9",
   "metadata": {},
   "outputs": [],
   "source": [
    "# !pip install pydot"
   ]
  },
  {
   "cell_type": "code",
   "execution_count": 16,
   "id": "35938f76-4098-4c92-bc56-1f9449224178",
   "metadata": {},
   "outputs": [
    {
     "name": "stdout",
     "output_type": "stream",
     "text": [
      "You must install pydot (`pip install pydot`) and install graphviz (see instructions at https://graphviz.gitlab.io/download/) for plot_model to work.\n",
      "Model: \"sequential\"\n",
      "_________________________________________________________________\n",
      " Layer (type)                Output Shape              Param #   \n",
      "=================================================================\n",
      " hidden_layer (Dense)        (None, 100)               400       \n",
      "                                                                 \n",
      " output_layer (Dense)        (None, 1)                 101       \n",
      "                                                                 \n",
      "=================================================================\n",
      "Total params: 501\n",
      "Trainable params: 501\n",
      "Non-trainable params: 0\n",
      "_________________________________________________________________\n"
     ]
    },
    {
     "name": "stderr",
     "output_type": "stream",
     "text": [
      "2023-09-26 18:42:04.432259: I tensorflow/core/platform/cpu_feature_guard.cc:193] This TensorFlow binary is optimized with oneAPI Deep Neural Network Library (oneDNN) to use the following CPU instructions in performance-critical operations:  SSE4.1 SSE4.2 AVX AVX2 FMA\n",
      "To enable them in other operations, rebuild TensorFlow with the appropriate compiler flags.\n"
     ]
    }
   ],
   "source": [
    "mlp_model, model_defined = mlp_model_class.define_model_with_layers(prior_observations, forecasting_step)"
   ]
  },
  {
   "cell_type": "markdown",
   "id": "f4036323-26ad-480b-8985-aaa9ecc31df6",
   "metadata": {},
   "source": [
    "- Map each vector x sample to each scalar y true sample\n",
    "- ie:\n",
    "    1. sample 0 for vector x and scalar y $ \\Rightarrow $ vector x [437.929993, 440.579987, 438.779999] maps to scalar y [430.200012]\n",
    "    2. sample 1 for vector x and scalar y $ \\Rightarrow $ vector x [440.579987, 438.779999, 430.200012] maps to scalar y [430.209991]"
   ]
  },
  {
   "cell_type": "code",
   "execution_count": 17,
   "id": "ddf4572c-0986-4d88-9d5b-c6cb1dd8bc03",
   "metadata": {},
   "outputs": [
    {
     "data": {
      "text/html": [
       "<div>\n",
       "<style scoped>\n",
       "    .dataframe tbody tr th:only-of-type {\n",
       "        vertical-align: middle;\n",
       "    }\n",
       "\n",
       "    .dataframe tbody tr th {\n",
       "        vertical-align: top;\n",
       "    }\n",
       "\n",
       "    .dataframe thead tr th {\n",
       "        text-align: left;\n",
       "    }\n",
       "</style>\n",
       "<table border=\"1\" class=\"dataframe\">\n",
       "  <thead>\n",
       "    <tr>\n",
       "      <th></th>\n",
       "      <th>t-3</th>\n",
       "      <th>t-2</th>\n",
       "      <th>t-1</th>\n",
       "    </tr>\n",
       "  </thead>\n",
       "  <tbody>\n",
       "    <tr>\n",
       "      <th>0</th>\n",
       "      <td>437.929993</td>\n",
       "      <td>440.579987</td>\n",
       "      <td>438.779999</td>\n",
       "    </tr>\n",
       "    <tr>\n",
       "      <th>1</th>\n",
       "      <td>440.579987</td>\n",
       "      <td>438.779999</td>\n",
       "      <td>430.200012</td>\n",
       "    </tr>\n",
       "    <tr>\n",
       "      <th>2</th>\n",
       "      <td>438.779999</td>\n",
       "      <td>430.200012</td>\n",
       "      <td>430.209991</td>\n",
       "    </tr>\n",
       "    <tr>\n",
       "      <th>3</th>\n",
       "      <td>430.200012</td>\n",
       "      <td>430.209991</td>\n",
       "      <td>425.380005</td>\n",
       "    </tr>\n",
       "    <tr>\n",
       "      <th>4</th>\n",
       "      <td>430.209991</td>\n",
       "      <td>425.380005</td>\n",
       "      <td>427.679993</td>\n",
       "    </tr>\n",
       "    <tr>\n",
       "      <th>...</th>\n",
       "      <td>...</td>\n",
       "      <td>...</td>\n",
       "      <td>...</td>\n",
       "    </tr>\n",
       "    <tr>\n",
       "      <th>361</th>\n",
       "      <td>395.980011</td>\n",
       "      <td>400.019989</td>\n",
       "      <td>401.609985</td>\n",
       "    </tr>\n",
       "    <tr>\n",
       "      <th>362</th>\n",
       "      <td>400.019989</td>\n",
       "      <td>401.609985</td>\n",
       "      <td>401.000000</td>\n",
       "    </tr>\n",
       "    <tr>\n",
       "      <th>363</th>\n",
       "      <td>401.609985</td>\n",
       "      <td>401.000000</td>\n",
       "      <td>408.690002</td>\n",
       "    </tr>\n",
       "    <tr>\n",
       "      <th>364</th>\n",
       "      <td>401.000000</td>\n",
       "      <td>408.690002</td>\n",
       "      <td>403.489990</td>\n",
       "    </tr>\n",
       "    <tr>\n",
       "      <th>365</th>\n",
       "      <td>408.690002</td>\n",
       "      <td>403.489990</td>\n",
       "      <td>402.309998</td>\n",
       "    </tr>\n",
       "  </tbody>\n",
       "</table>\n",
       "<p>366 rows × 3 columns</p>\n",
       "</div>"
      ],
      "text/plain": [
       "            t-3         t-2         t-1\n",
       "0    437.929993  440.579987  438.779999\n",
       "1    440.579987  438.779999  430.200012\n",
       "2    438.779999  430.200012  430.209991\n",
       "3    430.200012  430.209991  425.380005\n",
       "4    430.209991  425.380005  427.679993\n",
       "..          ...         ...         ...\n",
       "361  395.980011  400.019989  401.609985\n",
       "362  400.019989  401.609985  401.000000\n",
       "363  401.609985  401.000000  408.690002\n",
       "364  401.000000  408.690002  403.489990\n",
       "365  408.690002  403.489990  402.309998\n",
       "\n",
       "[366 rows x 3 columns]"
      ]
     },
     "execution_count": 17,
     "metadata": {},
     "output_type": "execute_result"
    }
   ],
   "source": [
    "X"
   ]
  },
  {
   "cell_type": "code",
   "execution_count": 18,
   "id": "8754b6f9-1f1d-47b3-9c2d-4a01b31c6603",
   "metadata": {},
   "outputs": [],
   "source": [
    "mlp_model_fitted = mlp_model_class.fit_model(mlp_model, X, y)"
   ]
  },
  {
   "cell_type": "code",
   "execution_count": 19,
   "id": "213710b5-4c2a-489e-bd24-fdbbb9cbe7c3",
   "metadata": {},
   "outputs": [
    {
     "data": {
      "text/plain": [
       "<keras.engine.sequential.Sequential at 0x14e0f7f70>"
      ]
     },
     "execution_count": 19,
     "metadata": {},
     "output_type": "execute_result"
    }
   ],
   "source": [
    "mlp_model_fitted"
   ]
  },
  {
   "cell_type": "markdown",
   "id": "f5e58024-24b9-41c6-82a7-061c7d5e1dd6",
   "metadata": {},
   "source": [
    "- Map the last 3 vector x samples (days) to the next scalar y true sample (day)\n",
    "- ie:\n",
    "    1. sample 1 for vector x and scalar y $ \\Rightarrow $ vector x [403.489990, 402.309998, 400.279999] maps to scalar y [399.329987]"
   ]
  },
  {
   "cell_type": "code",
   "execution_count": 20,
   "id": "784fa62c-e704-4371-9f60-5b97a11bcf6b",
   "metadata": {},
   "outputs": [
    {
     "data": {
      "text/plain": [
       "t-2    403.489990\n",
       "t-1    402.309998\n",
       "t      400.279999\n",
       "Name: 365, dtype: float64"
      ]
     },
     "execution_count": 20,
     "metadata": {},
     "output_type": "execute_result"
    }
   ],
   "source": [
    "x_input = sml_samples_df.iloc[-1, -prior_observations:]\n",
    "x_input"
   ]
  },
  {
   "cell_type": "code",
   "execution_count": 21,
   "id": "c34459cb-f9af-4059-9e12-3f375602d949",
   "metadata": {},
   "outputs": [
    {
     "data": {
      "text/plain": [
       "array([[399.32998657]])"
      ]
     },
     "execution_count": 21,
     "metadata": {},
     "output_type": "execute_result"
    }
   ],
   "source": [
    "tomorrow"
   ]
  },
  {
   "cell_type": "code",
   "execution_count": 22,
   "id": "d96610d5-1990-41ae-95b3-b4994bce6fe7",
   "metadata": {},
   "outputs": [
    {
     "name": "stdout",
     "output_type": "stream",
     "text": [
      "1/1 [==============================] - 0s 60ms/step\n"
     ]
    }
   ],
   "source": [
    "mlp_model_prediction = mlp_model_class.predict(mlp_model_fitted, x_input, prior_observations)"
   ]
  },
  {
   "cell_type": "code",
   "execution_count": 23,
   "id": "c1a22d30-f04c-4e85-831a-cce456b0bb23",
   "metadata": {},
   "outputs": [
    {
     "data": {
      "text/plain": [
       "array([[400.83237]], dtype=float32)"
      ]
     },
     "execution_count": 23,
     "metadata": {},
     "output_type": "execute_result"
    }
   ],
   "source": [
    "mlp_model_prediction"
   ]
  },
  {
   "cell_type": "markdown",
   "id": "c108040c-14b8-46c9-a216-701e405fc3c7",
   "metadata": {},
   "source": [
    "# CNN"
   ]
  },
  {
   "cell_type": "code",
   "execution_count": 24,
   "id": "18261da8-ab12-4244-9d0b-1d0283b84829",
   "metadata": {},
   "outputs": [],
   "source": [
    "class CNN(Model):\n",
    "    \n",
    "    def __name__(self):\n",
    "        return \"CNN\"\n",
    "    \n",
    "    def define_model_with_layers(self, prior_observations, forecasting_step, n_features=1):\n",
    "        model = Sequential()\n",
    "        \n",
    "        conv1d_layer = Conv1D(filters=64, kernel_size=2, activation='relu', input_shape=(prior_observations, n_features), name=\"conv1d_layer\")\n",
    "        model.add(conv1d_layer)\n",
    "        input_weights_hidden = conv1d_layer.get_weights()\n",
    "#         print(len(input_weights_hidden), input_weights_hidden)\n",
    "#         print(len(input_weights_hidden[0]))\n",
    "#         print(len(input_weights_hidden[0][0]))\n",
    "#         print(np.shape(input_weights_hidden[0][0]))\n",
    "        \n",
    "        max_pooling_layer = MaxPooling1D(pool_size=2, strides=1, name=\"max_pooling_layer\")\n",
    "        model.add(max_pooling_layer)\n",
    "        \n",
    "        flatten_layer = Flatten(name=\"flatten_layer\")\n",
    "        model.add(flatten_layer)\n",
    "        \n",
    "        hidden_layer = Dense(50, activation='relu', name=\"hidden_layer\")\n",
    "        model.add(hidden_layer)\n",
    "        \n",
    "        output_layer = Dense(forecasting_step, name=\"output_layer\")\n",
    "        model.add(output_layer)\n",
    "        \n",
    "        model.compile(optimizer='adam', loss='mse')\n",
    "        return model, model.summary()\n",
    "    \n",
    "    def fit_model(self, model_to_fit, X_train, y_train):\n",
    "        model_to_fit.fit(X_train, y_train, epochs=2000, verbose=0)\n",
    "        \n",
    "        return model_to_fit\n",
    "    \n",
    "    def predict(self, fitted_model, x_input, prior_observations, n_features=1):\n",
    "        \"\"\"\n",
    "        Parameters:\n",
    "        fitted_model -- keras model\n",
    "        x_input -- pd series\n",
    "        prior_observations -- int\n",
    "        \n",
    "        Returns\n",
    "        -- int (of the prediction at the next time step(s))\n",
    "        \"\"\"\n",
    "        x_input = x_input.values\n",
    "        x_input = x_input.reshape((1, prior_observations, n_features))\n",
    "        yhat = fitted_model.predict(x_input)\n",
    "        \n",
    "        return yhat"
   ]
  },
  {
   "cell_type": "code",
   "execution_count": 25,
   "id": "62f9d4cd-c7a6-4a75-8df0-280cb948f1e7",
   "metadata": {},
   "outputs": [],
   "source": [
    "cnn_model_class = CNN()"
   ]
  },
  {
   "cell_type": "code",
   "execution_count": 26,
   "id": "96d60607-07bf-410f-8ae9-42324e2af828",
   "metadata": {},
   "outputs": [
    {
     "name": "stdout",
     "output_type": "stream",
     "text": [
      "Model: \"sequential_1\"\n",
      "_________________________________________________________________\n",
      " Layer (type)                Output Shape              Param #   \n",
      "=================================================================\n",
      " conv1d_layer (Conv1D)       (None, 2, 64)             192       \n",
      "                                                                 \n",
      " max_pooling_layer (MaxPooli  (None, 1, 64)            0         \n",
      " ng1D)                                                           \n",
      "                                                                 \n",
      " flatten_layer (Flatten)     (None, 64)                0         \n",
      "                                                                 \n",
      " hidden_layer (Dense)        (None, 50)                3250      \n",
      "                                                                 \n",
      " output_layer (Dense)        (None, 1)                 51        \n",
      "                                                                 \n",
      "=================================================================\n",
      "Total params: 3,493\n",
      "Trainable params: 3,493\n",
      "Non-trainable params: 0\n",
      "_________________________________________________________________\n"
     ]
    }
   ],
   "source": [
    "cnn_model, cnn_model_defined = cnn_model_class.define_model_with_layers(prior_observations, forecasting_step)"
   ]
  },
  {
   "cell_type": "code",
   "execution_count": 27,
   "id": "5e2c53aa-9683-4a94-be4b-5b26190fc913",
   "metadata": {},
   "outputs": [],
   "source": [
    "cnn_model_fitted = cnn_model_class.fit_model(cnn_model, X, y)"
   ]
  },
  {
   "cell_type": "code",
   "execution_count": 28,
   "id": "097a84ca-cf65-40dc-90b0-a357d613328f",
   "metadata": {},
   "outputs": [
    {
     "name": "stdout",
     "output_type": "stream",
     "text": [
      "1/1 [==============================] - 0s 65ms/step\n"
     ]
    }
   ],
   "source": [
    "cnn_model_prediction = cnn_model_class.predict(cnn_model_fitted, x_input, prior_observations)"
   ]
  },
  {
   "cell_type": "code",
   "execution_count": 29,
   "id": "2f50d100-5402-4bc9-96bc-39d588160b2e",
   "metadata": {},
   "outputs": [
    {
     "data": {
      "text/plain": [
       "array([[400.69345]], dtype=float32)"
      ]
     },
     "execution_count": 29,
     "metadata": {},
     "output_type": "execute_result"
    }
   ],
   "source": [
    "cnn_model_prediction"
   ]
  },
  {
   "cell_type": "code",
   "execution_count": 30,
   "id": "21dc1e61-5c9b-4afb-9d3c-cf66579ddcba",
   "metadata": {},
   "outputs": [],
   "source": [
    "class LSTM(Model):\n",
    "    \n",
    "    def __name__(self):\n",
    "        return \"LSTM\"\n",
    "    \n",
    "    def define_model_with_layers(self, prior_observations, forecasting_step, n_features=1):\n",
    "        model = Sequential()\n",
    "        \n",
    "        lstm_layer = model_LSTM(50, activation='relu', input_shape=(prior_observations, n_features))\n",
    "        model.add(lstm_layer)\n",
    "        input_weights_hidden = lstm_layer.get_weights()\n",
    "        \n",
    "        output_layer = Dense(forecasting_step, name=\"output_layer\")\n",
    "        model.add(output_layer)\n",
    "        \n",
    "        model.compile(optimizer='adam', loss='mse')\n",
    "        return model, model.summary()\n",
    "    \n",
    "    def fit_model(self, model_to_fit, X_train, y_train):\n",
    "        model_to_fit.fit(X_train, y_train, epochs=2000, verbose=0)\n",
    "        \n",
    "        return model_to_fit\n",
    "    \n",
    "    def predict(self, fitted_model, x_input, prior_observations, n_features=1):\n",
    "        \"\"\"\n",
    "        Parameters:\n",
    "        fitted_model -- keras model\n",
    "        x_input -- pd series\n",
    "        prior_observations -- int\n",
    "        \n",
    "        Returns\n",
    "        -- int (of the prediction at the next time step(s))\n",
    "        \"\"\"\n",
    "        x_input = x_input.values\n",
    "        x_input = x_input.reshape((1, prior_observations, n_features))\n",
    "        yhat = fitted_model.predict(x_input)\n",
    "        \n",
    "        return yhat"
   ]
  },
  {
   "cell_type": "code",
   "execution_count": 31,
   "id": "a265a91d-baef-4816-a64b-475c68ea0792",
   "metadata": {},
   "outputs": [
    {
     "data": {
      "text/plain": [
       "LSTM()"
      ]
     },
     "execution_count": 31,
     "metadata": {},
     "output_type": "execute_result"
    }
   ],
   "source": [
    "lstm_model_class = LSTM()\n",
    "lstm_model_class"
   ]
  },
  {
   "cell_type": "code",
   "execution_count": 32,
   "id": "20692662-c7ff-45bf-bdb1-cdbdb0c00015",
   "metadata": {},
   "outputs": [
    {
     "name": "stdout",
     "output_type": "stream",
     "text": [
      "Model: \"sequential_2\"\n",
      "_________________________________________________________________\n",
      " Layer (type)                Output Shape              Param #   \n",
      "=================================================================\n",
      " lstm (LSTM)                 (None, 50)                10400     \n",
      "                                                                 \n",
      " output_layer (Dense)        (None, 1)                 51        \n",
      "                                                                 \n",
      "=================================================================\n",
      "Total params: 10,451\n",
      "Trainable params: 10,451\n",
      "Non-trainable params: 0\n",
      "_________________________________________________________________\n"
     ]
    }
   ],
   "source": [
    "lstm_model, lstm_model_defined = lstm_model_class.define_model_with_layers(prior_observations, forecasting_step)"
   ]
  },
  {
   "cell_type": "code",
   "execution_count": 33,
   "id": "b6d5b7c1-f1db-48ce-90eb-6750b5d4f23d",
   "metadata": {},
   "outputs": [],
   "source": [
    "lstm_model_fitted = lstm_model_class.fit_model(lstm_model, X, y)"
   ]
  },
  {
   "cell_type": "code",
   "execution_count": 34,
   "id": "f4109c46-dd56-4631-b630-9ee05fef86d3",
   "metadata": {},
   "outputs": [
    {
     "name": "stdout",
     "output_type": "stream",
     "text": [
      "1/1 [==============================] - 0s 153ms/step\n"
     ]
    }
   ],
   "source": [
    "lstm_model_prediction = lstm_model_class.predict(lstm_model_fitted, x_input, prior_observations)"
   ]
  },
  {
   "cell_type": "markdown",
   "id": "4d027152-1a99-4125-9058-5ec0ca3d3714",
   "metadata": {},
   "source": [
    "# Evaluation Metrics\n",
    "\n",
    "- Points\n",
    "    - true_tomorrow = [1, 2]\n",
    "    - predicted_tomorrow = [3, 8]\n",
    "\n",
    "---\n",
    "\n",
    "1. MRE (max_error): Calculate the maximum residual error of points. Ex.:\n",
    "    - $ \\Rightarrow $ 3 - 1 = 2\n",
    "    - $ \\Rightarrow $ 8 - 2 = 6\n",
    "    - $ \\Rightarrow $ 6 > 2, so choose 6 as our MRE\n",
    "    - Why use in the forecating stocks? We can know the greatest distance between our points. Knowing this will tell us our upper bound to know that our error of all the remaining points fall below this upper bound.\n",
    "2. MSE (mean_squared_error): Calculate the average of the squared difference (or difference squared) between points. Ex.:\n",
    "    - $ \\Rightarrow $ 3 - 1 = 2 $ \\Rightarrow $ $ 2^2 $ = 4\n",
    "    - $ \\Rightarrow $ 8 - 2 = 6 $ \\Rightarrow $ $ 6^2 $ = 36\n",
    "    - $ \\Rightarrow $ 4 + 36 = 40\n",
    "    - $ \\Rightarrow $ 40 / 2 = 20, so choose 20 as our MSE\n",
    "    - Why use in the forecating stocks? We can know the average distance between our points. Knowing this error provides insight to how spread our points are.\n",
    "3. MAE (mean_absolute_error): Use to \n",
    "    - Why use in the forecating stocks?\n",
    "4. MAPE (mean_absolute_percentage_error): Use to \n",
    "    - Why use in the forecating stocks?\n"
   ]
  },
  {
   "cell_type": "code",
   "execution_count": 35,
   "id": "29ed0b48-d388-4759-9a98-93a1e4f32e32",
   "metadata": {},
   "outputs": [
    {
     "name": "stdout",
     "output_type": "stream",
     "text": [
      "6\n",
      "20.0\n"
     ]
    }
   ],
   "source": [
    "# Can ignore; only here to ensure calculations of the errors are correct\n",
    "true_tomorrow = [1, 2]\n",
    "predicted_tomorrow = [3, 8]\n",
    "\n",
    "print(max_error(true_tomorrow, predicted_tomorrow))\n",
    "print(mean_squared_error(true_tomorrow, predicted_tomorrow))"
   ]
  },
  {
   "cell_type": "code",
   "execution_count": 36,
   "id": "33c261d6-9837-466e-894b-5b8897cf9735",
   "metadata": {},
   "outputs": [],
   "source": [
    "@dataclass\n",
    "class EvaluationMetric:\n",
    "    \"\"\"Investigate the philosphy/design behind typing in python. \n",
    "    \n",
    "    https://realpython.com/python-type-checking/\n",
    "    https://machinelearningmastery.com/regression-metrics-for-machine-learning/\n",
    "    \"\"\"\n",
    "    models: List[Model]\n",
    "    \n",
    "    def __post_init__(self):\n",
    "        pass\n",
    "    \n",
    "    def _get_eval_handles(self):\n",
    "        \"\"\"dir(self) grabs all of the available methods and attributes on the class itself.\"\"\"\n",
    "        function_names = [name for name in dir(self) if callable(getattr(self, name)) and not name.startswith(\"__\")]\n",
    "        # print(\"All functions in this class: \", function_names, \"\\n\")\n",
    "        \n",
    "        # Filter for metrics that follow our specific specification and return their names\n",
    "        function_names = [fn for fn in function_names if fn[:5] == \"eval_\"]\n",
    "        # print(\"Functions that start with eval_:\", function_names, \"\\n\")\n",
    "        \n",
    "        # Get a handle on the function objects themselves\n",
    "        functions = [getattr(self, name) for name in function_names]\n",
    "        # print(\"Store functions that start with eval_:\", functions)\n",
    "        \n",
    "        return functions\n",
    "    \n",
    "    def perform_evaluations(self, tomorrow, model_prediction):\n",
    "        eval_metrics = self._get_eval_handles()\n",
    "        eval_results = {}\n",
    "        \n",
    "        # eval_metrics = [eval_mse, eval_mape, ...] --> these are actual function handles we can\n",
    "        # iterate over\n",
    "        # print(eval_metrics)\n",
    "        for eval_metric in eval_metrics:\n",
    "            # print(\"Evaluation Metric\", eval_metric)\n",
    "            eval_results[eval_metric.__name__] = eval_metric(tomorrow, model_prediction) # eval_metric() == self.eval_mse()\n",
    "        # print(eval_results)\n",
    "        \n",
    "        # Update the state of our object\n",
    "        self.eval_results = eval_results\n",
    "        return eval_results\n",
    "    \n",
    "    def eval_mre(self, true_tomorrow, model_prediction_tomorrow) -> float:\n",
    "        return {'MRE': max_error(true_tomorrow, model_prediction_tomorrow)}\n",
    "    \n",
    "    def eval_mse(self, true_tomorrow, model_prediction_tomorrow) -> float:\n",
    "        return {'MSE': mean_squared_error(true_tomorrow, model_prediction_tomorrow)}\n",
    "    \n",
    "    def eval_mae(self, true_tomorrow, model_prediction_tomorrow) -> float:\n",
    "        return {'MAE': mean_absolute_error(true_tomorrow, model_prediction_tomorrow)}\n",
    "    \n",
    "    def eval_mape(self, true_tomorrow, model_prediction_tomorrow) -> float:\n",
    "        return {'MAPE': mean_absolute_percentage_error(true_tomorrow, model_prediction_tomorrow)}"
   ]
  },
  {
   "cell_type": "code",
   "execution_count": 37,
   "id": "db3c2564-1b2c-40cf-adb7-48d8af384418",
   "metadata": {},
   "outputs": [],
   "source": [
    "models = [mlp_model_class, cnn_model_class, lstm_model_class]\n",
    "eval_metrics = EvaluationMetric(models)"
   ]
  },
  {
   "cell_type": "code",
   "execution_count": 38,
   "id": "72027c65-7dc3-42b6-8946-96c8674bfb37",
   "metadata": {},
   "outputs": [
    {
     "data": {
      "text/plain": [
       "[MLP(), CNN(), LSTM()]"
      ]
     },
     "execution_count": 38,
     "metadata": {},
     "output_type": "execute_result"
    }
   ],
   "source": [
    "models"
   ]
  },
  {
   "cell_type": "code",
   "execution_count": 39,
   "id": "bf331cbf-22c5-4edc-94bd-009972f6d491",
   "metadata": {},
   "outputs": [],
   "source": [
    "# eval_metrics.models"
   ]
  },
  {
   "cell_type": "code",
   "execution_count": 40,
   "id": "240b44f3-30a6-4171-9fd8-ca8b4a6cbb64",
   "metadata": {},
   "outputs": [],
   "source": [
    "# eval_metrics_models = eval_metrics.models"
   ]
  },
  {
   "cell_type": "code",
   "execution_count": 41,
   "id": "5928359e-7f26-44a6-8438-8f2856aa6d79",
   "metadata": {},
   "outputs": [
    {
     "data": {
      "text/plain": [
       "array([[400.83237]], dtype=float32)"
      ]
     },
     "execution_count": 41,
     "metadata": {},
     "output_type": "execute_result"
    }
   ],
   "source": [
    "mlp_model_prediction"
   ]
  },
  {
   "cell_type": "code",
   "execution_count": 42,
   "id": "dda47f16-fa88-4765-b8fb-cb4ccfa5146b",
   "metadata": {},
   "outputs": [
    {
     "data": {
      "text/plain": [
       "{'eval_mae': {'MAE': 1.50238037109375},\n",
       " 'eval_mape': {'MAPE': 0.003762252827516795},\n",
       " 'eval_mre': {'MRE': 1.50238037109375},\n",
       " 'eval_mse': {'MSE': 2.257146779447794}}"
      ]
     },
     "execution_count": 42,
     "metadata": {},
     "output_type": "execute_result"
    }
   ],
   "source": [
    "mlp_eval_metrics = eval_metrics.perform_evaluations(tomorrow, mlp_model_prediction)\n",
    "mlp_eval_metrics"
   ]
  },
  {
   "cell_type": "code",
   "execution_count": 43,
   "id": "29876ce5-5831-452c-aa4e-e58222a035ef",
   "metadata": {},
   "outputs": [
    {
     "data": {
      "text/plain": [
       "array([[400.69345]], dtype=float32)"
      ]
     },
     "execution_count": 43,
     "metadata": {},
     "output_type": "execute_result"
    }
   ],
   "source": [
    "cnn_model_prediction"
   ]
  },
  {
   "cell_type": "code",
   "execution_count": 44,
   "id": "16e8582a-41ca-4f1d-9560-d7854e57ca19",
   "metadata": {},
   "outputs": [
    {
     "data": {
      "text/plain": [
       "{'eval_mae': {'MAE': 1.36346435546875},\n",
       " 'eval_mape': {'MAPE': 0.0034143800899409985},\n",
       " 'eval_mre': {'MRE': 1.36346435546875},\n",
       " 'eval_mse': {'MSE': 1.8590350486338139}}"
      ]
     },
     "execution_count": 44,
     "metadata": {},
     "output_type": "execute_result"
    }
   ],
   "source": [
    "cnn_eval_metrics = eval_metrics.perform_evaluations(tomorrow, cnn_model_prediction)\n",
    "cnn_eval_metrics"
   ]
  },
  {
   "cell_type": "code",
   "execution_count": 45,
   "id": "e98169d7-a670-4d2c-a515-00157b40da0b",
   "metadata": {},
   "outputs": [
    {
     "data": {
      "text/plain": [
       "{'eval_mae': {'MAE': 1.003692626953125},\n",
       " 'eval_mape': {'MAPE': 0.0025134416665488495},\n",
       " 'eval_mre': {'MRE': 1.003692626953125},\n",
       " 'eval_mse': {'MSE': 1.007398889400065}}"
      ]
     },
     "execution_count": 45,
     "metadata": {},
     "output_type": "execute_result"
    }
   ],
   "source": [
    "lstm_eval_metrics = eval_metrics.perform_evaluations(tomorrow, lstm_model_prediction)\n",
    "lstm_eval_metrics"
   ]
  },
  {
   "cell_type": "code",
   "execution_count": 46,
   "id": "51727354-b7d7-4043-a3c6-5c637ee8a295",
   "metadata": {},
   "outputs": [],
   "source": [
    "metrics = [mlp_eval_metrics, cnn_eval_metrics, lstm_eval_metrics]"
   ]
  },
  {
   "cell_type": "code",
   "execution_count": 47,
   "id": "3c17ada8-80eb-4220-a32a-9ab45fef56d0",
   "metadata": {},
   "outputs": [],
   "source": [
    "@dataclass\n",
    "class EvaluationResults:\n",
    "    \"\"\"Our diagnostic or reporter class to be further implemented if desired.\"\"\"\n",
    "    # eval_metric: EvaluationMetric\n",
    "    \n",
    "    def summarize(self, eval_metrics_models, metrics):\n",
    "        store_eval_metrics = {}\n",
    "        \n",
    "        for eval_metrics_models_idx in range(len(eval_metrics_models)):\n",
    "            model = str(eval_metrics_models[eval_metrics_models_idx])\n",
    "            store_eval_metrics[model] = metrics[eval_metrics_models_idx]\n",
    "        return store_eval_metrics"
   ]
  },
  {
   "cell_type": "code",
   "execution_count": 48,
   "id": "4d05c515-681c-4618-b61e-919b4db5c0fd",
   "metadata": {},
   "outputs": [],
   "source": [
    "eval_results = EvaluationResults()"
   ]
  },
  {
   "cell_type": "code",
   "execution_count": 49,
   "id": "27d66406-d5d7-4e42-ad4c-36ed0f69bd38",
   "metadata": {},
   "outputs": [
    {
     "data": {
      "text/plain": [
       "EvaluationResults()"
      ]
     },
     "execution_count": 49,
     "metadata": {},
     "output_type": "execute_result"
    }
   ],
   "source": [
    "eval_results"
   ]
  },
  {
   "cell_type": "code",
   "execution_count": 50,
   "id": "0233fd2f-4a3c-496f-a7c0-1c9fcf4982cb",
   "metadata": {},
   "outputs": [
    {
     "data": {
      "text/plain": [
       "{'MLP()': {'eval_mae': {'MAE': 1.50238037109375},\n",
       "  'eval_mape': {'MAPE': 0.003762252827516795},\n",
       "  'eval_mre': {'MRE': 1.50238037109375},\n",
       "  'eval_mse': {'MSE': 2.257146779447794}},\n",
       " 'CNN()': {'eval_mae': {'MAE': 1.36346435546875},\n",
       "  'eval_mape': {'MAPE': 0.0034143800899409985},\n",
       "  'eval_mre': {'MRE': 1.36346435546875},\n",
       "  'eval_mse': {'MSE': 1.8590350486338139}},\n",
       " 'LSTM()': {'eval_mae': {'MAE': 1.003692626953125},\n",
       "  'eval_mape': {'MAPE': 0.0025134416665488495},\n",
       "  'eval_mre': {'MRE': 1.003692626953125},\n",
       "  'eval_mse': {'MSE': 1.007398889400065}}}"
      ]
     },
     "execution_count": 50,
     "metadata": {},
     "output_type": "execute_result"
    }
   ],
   "source": [
    "eval_results.summarize(models, metrics)"
   ]
  },
  {
   "cell_type": "code",
   "execution_count": null,
   "id": "f4f066f4-5dfe-408e-9c8a-9a5f2b7120cd",
   "metadata": {},
   "outputs": [],
   "source": []
  },
  {
   "cell_type": "code",
   "execution_count": null,
   "id": "94152ed2-ebd9-4291-9907-ed5fa963fa0f",
   "metadata": {},
   "outputs": [],
   "source": []
  }
 ],
 "metadata": {
  "kernelspec": {
   "display_name": "Python 3 (ipykernel)",
   "language": "python",
   "name": "python3"
  },
  "language_info": {
   "codemirror_mode": {
    "name": "ipython",
    "version": 3
   },
   "file_extension": ".py",
   "mimetype": "text/x-python",
   "name": "python",
   "nbconvert_exporter": "python",
   "pygments_lexer": "ipython3",
   "version": "3.9.16"
  }
 },
 "nbformat": 4,
 "nbformat_minor": 5
}
