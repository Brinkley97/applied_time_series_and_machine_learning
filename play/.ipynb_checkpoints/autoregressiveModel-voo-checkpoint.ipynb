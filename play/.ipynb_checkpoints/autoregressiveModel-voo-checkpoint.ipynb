{
 "cells": [
  {
   "cell_type": "markdown",
   "id": "483941b9-4ca6-451b-8d58-b05b6d53f036",
   "metadata": {},
   "source": [
    "# Autoregressive Model\n",
    "- Before I place model in [main.ipynb](https://github.com/Brinkley97/applied_time_series_and_machine_learning/blob/main/play/main.ipynb)"
   ]
  },
  {
   "cell_type": "markdown",
   "id": "4d0a8415-5d82-4c86-81e6-1e6893017962",
   "metadata": {},
   "source": [
    "# Imports"
   ]
  },
  {
   "cell_type": "code",
   "execution_count": 1,
   "id": "de3f45c5-d3ac-468d-a37f-6616ebdc4ba4",
   "metadata": {},
   "outputs": [],
   "source": [
    "import numpy as np\n",
    "import pandas as pd\n",
    "import yfinance as yf\n",
    "\n",
    "from matplotlib import pyplot\n",
    "\n",
    "from statsmodels.tsa.ar_model import AutoReg\n",
    "\n",
    "# test for stationarity\n",
    "from statsmodels.tsa.stattools import adfuller\n",
    "\n",
    "# partial autocorrelation\n",
    "from statsmodels.graphics.tsaplots import plot_pacf\n",
    "\n",
    "import statsmodels.graphics.tsaplots as tsa"
   ]
  },
  {
   "cell_type": "code",
   "execution_count": 2,
   "id": "c3e80ab5-9506-49d4-8aac-99f463e10049",
   "metadata": {},
   "outputs": [
    {
     "name": "stdout",
     "output_type": "stream",
     "text": [
      "[*********************100%***********************]  1 of 1 completed\n"
     ]
    },
    {
     "data": {
      "text/html": [
       "<div>\n",
       "<style scoped>\n",
       "    .dataframe tbody tr th:only-of-type {\n",
       "        vertical-align: middle;\n",
       "    }\n",
       "\n",
       "    .dataframe tbody tr th {\n",
       "        vertical-align: top;\n",
       "    }\n",
       "\n",
       "    .dataframe thead th {\n",
       "        text-align: right;\n",
       "    }\n",
       "</style>\n",
       "<table border=\"1\" class=\"dataframe\">\n",
       "  <thead>\n",
       "    <tr style=\"text-align: right;\">\n",
       "      <th></th>\n",
       "      <th>Open</th>\n",
       "      <th>High</th>\n",
       "      <th>Low</th>\n",
       "      <th>Close</th>\n",
       "      <th>Adj Close</th>\n",
       "      <th>Volume</th>\n",
       "    </tr>\n",
       "    <tr>\n",
       "      <th>Date</th>\n",
       "      <th></th>\n",
       "      <th></th>\n",
       "      <th></th>\n",
       "      <th></th>\n",
       "      <th></th>\n",
       "      <th></th>\n",
       "    </tr>\n",
       "  </thead>\n",
       "  <tbody>\n",
       "    <tr>\n",
       "      <th>2022-01-03</th>\n",
       "      <td>437.929993</td>\n",
       "      <td>439.269989</td>\n",
       "      <td>435.640015</td>\n",
       "      <td>439.250000</td>\n",
       "      <td>428.554688</td>\n",
       "      <td>6017300</td>\n",
       "    </tr>\n",
       "    <tr>\n",
       "      <th>2022-01-04</th>\n",
       "      <td>440.579987</td>\n",
       "      <td>441.260010</td>\n",
       "      <td>437.220001</td>\n",
       "      <td>439.070007</td>\n",
       "      <td>428.379028</td>\n",
       "      <td>6262200</td>\n",
       "    </tr>\n",
       "    <tr>\n",
       "      <th>2022-01-05</th>\n",
       "      <td>438.779999</td>\n",
       "      <td>439.410004</td>\n",
       "      <td>430.529999</td>\n",
       "      <td>430.660004</td>\n",
       "      <td>420.173767</td>\n",
       "      <td>7539600</td>\n",
       "    </tr>\n",
       "    <tr>\n",
       "      <th>2022-01-06</th>\n",
       "      <td>430.200012</td>\n",
       "      <td>432.829987</td>\n",
       "      <td>427.899994</td>\n",
       "      <td>430.079987</td>\n",
       "      <td>419.607910</td>\n",
       "      <td>7971500</td>\n",
       "    </tr>\n",
       "    <tr>\n",
       "      <th>2022-01-07</th>\n",
       "      <td>430.209991</td>\n",
       "      <td>431.359985</td>\n",
       "      <td>427.200012</td>\n",
       "      <td>428.589996</td>\n",
       "      <td>418.154236</td>\n",
       "      <td>6157500</td>\n",
       "    </tr>\n",
       "    <tr>\n",
       "      <th>...</th>\n",
       "      <td>...</td>\n",
       "      <td>...</td>\n",
       "      <td>...</td>\n",
       "      <td>...</td>\n",
       "      <td>...</td>\n",
       "      <td>...</td>\n",
       "    </tr>\n",
       "    <tr>\n",
       "      <th>2023-06-30</th>\n",
       "      <td>405.399994</td>\n",
       "      <td>408.220001</td>\n",
       "      <td>405.290009</td>\n",
       "      <td>407.279999</td>\n",
       "      <td>407.279999</td>\n",
       "      <td>5160100</td>\n",
       "    </tr>\n",
       "    <tr>\n",
       "      <th>2023-07-03</th>\n",
       "      <td>406.920013</td>\n",
       "      <td>408.059998</td>\n",
       "      <td>406.679993</td>\n",
       "      <td>408.059998</td>\n",
       "      <td>408.059998</td>\n",
       "      <td>2372000</td>\n",
       "    </tr>\n",
       "    <tr>\n",
       "      <th>2023-07-05</th>\n",
       "      <td>406.010010</td>\n",
       "      <td>407.839996</td>\n",
       "      <td>406.010010</td>\n",
       "      <td>407.149994</td>\n",
       "      <td>407.149994</td>\n",
       "      <td>4230100</td>\n",
       "    </tr>\n",
       "    <tr>\n",
       "      <th>2023-07-06</th>\n",
       "      <td>403.779999</td>\n",
       "      <td>404.350006</td>\n",
       "      <td>401.559998</td>\n",
       "      <td>403.829987</td>\n",
       "      <td>403.829987</td>\n",
       "      <td>6040300</td>\n",
       "    </tr>\n",
       "    <tr>\n",
       "      <th>2023-07-07</th>\n",
       "      <td>403.029999</td>\n",
       "      <td>406.679993</td>\n",
       "      <td>402.709991</td>\n",
       "      <td>402.890015</td>\n",
       "      <td>402.890015</td>\n",
       "      <td>3672200</td>\n",
       "    </tr>\n",
       "  </tbody>\n",
       "</table>\n",
       "<p>379 rows × 6 columns</p>\n",
       "</div>"
      ],
      "text/plain": [
       "                  Open        High         Low       Close   Adj Close  \\\n",
       "Date                                                                     \n",
       "2022-01-03  437.929993  439.269989  435.640015  439.250000  428.554688   \n",
       "2022-01-04  440.579987  441.260010  437.220001  439.070007  428.379028   \n",
       "2022-01-05  438.779999  439.410004  430.529999  430.660004  420.173767   \n",
       "2022-01-06  430.200012  432.829987  427.899994  430.079987  419.607910   \n",
       "2022-01-07  430.209991  431.359985  427.200012  428.589996  418.154236   \n",
       "...                ...         ...         ...         ...         ...   \n",
       "2023-06-30  405.399994  408.220001  405.290009  407.279999  407.279999   \n",
       "2023-07-03  406.920013  408.059998  406.679993  408.059998  408.059998   \n",
       "2023-07-05  406.010010  407.839996  406.010010  407.149994  407.149994   \n",
       "2023-07-06  403.779999  404.350006  401.559998  403.829987  403.829987   \n",
       "2023-07-07  403.029999  406.679993  402.709991  402.890015  402.890015   \n",
       "\n",
       "             Volume  \n",
       "Date                 \n",
       "2022-01-03  6017300  \n",
       "2022-01-04  6262200  \n",
       "2022-01-05  7539600  \n",
       "2022-01-06  7971500  \n",
       "2022-01-07  6157500  \n",
       "...             ...  \n",
       "2023-06-30  5160100  \n",
       "2023-07-03  2372000  \n",
       "2023-07-05  4230100  \n",
       "2023-07-06  6040300  \n",
       "2023-07-07  3672200  \n",
       "\n",
       "[379 rows x 6 columns]"
      ]
     },
     "execution_count": 2,
     "metadata": {},
     "output_type": "execute_result"
    }
   ],
   "source": [
    "ticker_symbol = \"VOO\"\n",
    "# symbol = \"BRK-A\"\n",
    "start_date = \"2022-01-01\"\n",
    "end_date = \"2023-07-26\"\n",
    "voo_df = yf.download(ticker_symbol, start=start_date, end=end_date)\n",
    "voo_df"
   ]
  },
  {
   "cell_type": "code",
   "execution_count": 3,
   "id": "c51836b9-dee0-45c0-ba6e-b16830f33339",
   "metadata": {},
   "outputs": [
    {
     "data": {
      "text/plain": [
       "Date\n",
       "2022-01-03    437.929993\n",
       "2022-01-04    440.579987\n",
       "2022-01-05    438.779999\n",
       "2022-01-06    430.200012\n",
       "2022-01-07    430.209991\n",
       "                 ...    \n",
       "2023-06-30    405.399994\n",
       "2023-07-03    406.920013\n",
       "2023-07-05    406.010010\n",
       "2023-07-06    403.779999\n",
       "2023-07-07    403.029999\n",
       "Name: Open, Length: 379, dtype: float64"
      ]
     },
     "execution_count": 3,
     "metadata": {},
     "output_type": "execute_result"
    }
   ],
   "source": [
    "open_voo_df = voo_df['Open']\n",
    "open_voo_df"
   ]
  },
  {
   "cell_type": "code",
   "execution_count": 4,
   "id": "b597f356-5ccc-4b65-a926-9649977f626c",
   "metadata": {},
   "outputs": [
    {
     "data": {
      "text/plain": [
       "<AxesSubplot: xlabel='Date'>"
      ]
     },
     "execution_count": 4,
     "metadata": {},
     "output_type": "execute_result"
    },
    {
     "data": {
      "image/png": "[encoded data removed]",
      "text/plain": [
       "<Figure size 640x480 with 1 Axes>"
      ]
     },
     "metadata": {},
     "output_type": "display_data"
    }
   ],
   "source": [
    "open_voo_df.plot()"
   ]
  },
  {
   "cell_type": "markdown",
   "id": "9b4edd13-939b-47ee-b4d5-26a80d579a76",
   "metadata": {},
   "source": [
    "# Check Stationarity\n",
    "- [ ] Don't quite understand the `pvalue` from the Augmented Dickey-Fuller unit root test."
   ]
  },
  {
   "cell_type": "code",
   "execution_count": 5,
   "id": "689a5f51-7324-4438-a97f-c4ee48951464",
   "metadata": {},
   "outputs": [
    {
     "data": {
      "text/plain": [
       "(-2.8233222750606606,\n",
       " 0.055018798563588975,\n",
       " 0,\n",
       " 378,\n",
       " {'1%': -3.4477686860685, '5%': -2.869216670067509, '10%': -2.570859500573892},\n",
       " 2193.970478393932)"
      ]
     },
     "execution_count": 5,
     "metadata": {},
     "output_type": "execute_result"
    }
   ],
   "source": [
    "adf, pvalue, usedlag, nobs, critical_values, icbest = adfuller(open_voo_df, autolag='AIC')\n",
    "adf, pvalue, usedlag, nobs, critical_values, icbest"
   ]
  },
  {
   "cell_type": "markdown",
   "id": "967ed637-62c3-46b2-b371-f264f70adb9d",
   "metadata": {},
   "source": [
    "# Plot Partial Autocorrelation\n",
    "- ACor states at lag k, how much spread is there between the 1st observation and my kth observation.\n",
    "- Here, there seems to be low ACor.\n",
    "- [ ] What to do with this? \n",
    "- [ ] Does this mean our model prediction(s) will be off?"
   ]
  },
  {
   "cell_type": "code",
   "execution_count": 6,
   "id": "539c60d4-52ff-4338-a14a-bd901ebed738",
   "metadata": {},
   "outputs": [
    {
     "name": "stderr",
     "output_type": "stream",
     "text": [
      "/Users/brinkley97/opt/anaconda3/envs/time_series/lib/python3.9/site-packages/statsmodels/graphics/tsaplots.py:348: FutureWarning: The default method 'yw' can produce PACF values outside of the [-1,1] interval. After 0.13, the default will change tounadjusted Yule-Walker ('ywm'). You can use this method now by setting method='ywm'.\n",
      "  warnings.warn(\n"
     ]
    },
    {
     "data": {
      "image/png": "[encoded data removed]",
      "text/plain": [
       "<Figure size 640x480 with 1 Axes>"
      ]
     },
     "execution_count": 6,
     "metadata": {},
     "output_type": "execute_result"
    },
    {
     "data": {
      "image/png": "[encoded data removed]",
      "text/plain": [
       "<Figure size 640x480 with 1 Axes>"
      ]
     },
     "metadata": {},
     "output_type": "display_data"
    }
   ],
   "source": [
    "plot_pacf(open_voo_df)"
   ]
  },
  {
   "cell_type": "markdown",
   "id": "c6ba21fb-439a-4182-9a0d-dcb1c0ab6932",
   "metadata": {},
   "source": [
    "# Split Data"
   ]
  },
  {
   "cell_type": "code",
   "execution_count": 7,
   "id": "e830ff8a-c68c-426a-a16d-1f221059dd95",
   "metadata": {},
   "outputs": [
    {
     "data": {
      "text/plain": [
       "379"
      ]
     },
     "execution_count": 7,
     "metadata": {},
     "output_type": "execute_result"
    }
   ],
   "source": [
    "N = len(open_voo_df)\n",
    "N"
   ]
  },
  {
   "cell_type": "code",
   "execution_count": 8,
   "id": "449fb1e2-c756-4527-a590-2125a9a1c06c",
   "metadata": {},
   "outputs": [
    {
     "data": {
      "text/plain": [
       "279"
      ]
     },
     "execution_count": 8,
     "metadata": {},
     "output_type": "execute_result"
    }
   ],
   "source": [
    "split_data_at_length = N - 100\n",
    "split_data_at_length"
   ]
  },
  {
   "cell_type": "code",
   "execution_count": 9,
   "id": "d72036ca-a811-4bd2-b109-5ae0af8145ed",
   "metadata": {},
   "outputs": [
    {
     "data": {
      "text/plain": [
       "Date\n",
       "2022-01-03    437.929993\n",
       "2022-01-04    440.579987\n",
       "2022-01-05    438.779999\n",
       "2022-01-06    430.200012\n",
       "2022-01-07    430.209991\n",
       "                 ...    \n",
       "2023-02-06    376.579987\n",
       "2023-02-07    375.790009\n",
       "2023-02-08    379.690002\n",
       "2023-02-09    380.970001\n",
       "2023-02-10    373.000000\n",
       "Name: Open, Length: 279, dtype: float64"
      ]
     },
     "execution_count": 9,
     "metadata": {},
     "output_type": "execute_result"
    }
   ],
   "source": [
    "train_data = open_voo_df[0:split_data_at_length]\n",
    "train_data"
   ]
  },
  {
   "cell_type": "code",
   "execution_count": 10,
   "id": "e3c32875-e212-4534-bf28-8606e53cdad8",
   "metadata": {},
   "outputs": [
    {
     "data": {
      "text/plain": [
       "Date\n",
       "2023-02-13    375.649994\n",
       "2023-02-14    377.959991\n",
       "2023-02-15    377.149994\n",
       "2023-02-16    375.660004\n",
       "2023-02-17    373.179993\n",
       "                 ...    \n",
       "2023-06-30    405.399994\n",
       "2023-07-03    406.920013\n",
       "2023-07-05    406.010010\n",
       "2023-07-06    403.779999\n",
       "2023-07-07    403.029999\n",
       "Name: Open, Length: 100, dtype: float64"
      ]
     },
     "execution_count": 10,
     "metadata": {},
     "output_type": "execute_result"
    }
   ],
   "source": [
    "test_data = open_voo_df[split_data_at_length:]\n",
    "test_data"
   ]
  },
  {
   "cell_type": "markdown",
   "id": "e1d5bcb1-27db-4f92-a2ae-38d6dbde4663",
   "metadata": {},
   "source": [
    "# Create AR Model\n",
    "- [ ] How to determine the proper lag value? \n",
    "    - Look at the Partial ACor plot. Being that no correlation exists after 2, we'll stop at 2 (where there still exists some correlation)\n",
    "- [ ] How to understand the model summary?"
   ]
  },
  {
   "cell_type": "code",
   "execution_count": 11,
   "id": "e48f32fa-92c4-4e61-9978-450a63b0764c",
   "metadata": {},
   "outputs": [
    {
     "name": "stderr",
     "output_type": "stream",
     "text": [
      "/Users/brinkley97/opt/anaconda3/envs/time_series/lib/python3.9/site-packages/statsmodels/tsa/base/tsa_model.py:471: ValueWarning: A date index has been provided, but it has no associated frequency information and so will be ignored when e.g. forecasting.\n",
      "  self._init_dates(dates, freq)\n"
     ]
    },
    {
     "data": {
      "text/plain": [
       "<statsmodels.tsa.ar_model.AutoReg at 0x13b45f2e0>"
      ]
     },
     "execution_count": 11,
     "metadata": {},
     "output_type": "execute_result"
    }
   ],
   "source": [
    "ar_model = AutoReg(train_data, lags=2)\n",
    "ar_model"
   ]
  },
  {
   "cell_type": "code",
   "execution_count": 12,
   "id": "17453447-50d3-4560-b5b4-a287c5f07ca5",
   "metadata": {},
   "outputs": [
    {
     "data": {
      "text/plain": [
       "<statsmodels.tsa.ar_model.AutoRegResultsWrapper at 0x13b3866a0>"
      ]
     },
     "execution_count": 12,
     "metadata": {},
     "output_type": "execute_result"
    }
   ],
   "source": [
    "train_ar_model = ar_model.fit()\n",
    "train_ar_model"
   ]
  },
  {
   "cell_type": "code",
   "execution_count": 13,
   "id": "a39b75cb-aabd-42aa-abe1-041485c11811",
   "metadata": {},
   "outputs": [
    {
     "data": {
      "text/html": [
       "<table class=\"simpletable\">\n",
       "<caption>AutoReg Model Results</caption>\n",
       "<tr>\n",
       "  <th>Dep. Variable:</th>       <td>Open</td>       <th>  No. Observations:  </th>    <td>279</td>  \n",
       "</tr>\n",
       "<tr>\n",
       "  <th>Model:</th>            <td>AutoReg(2)</td>    <th>  Log Likelihood     </th> <td>-865.476</td>\n",
       "</tr>\n",
       "<tr>\n",
       "  <th>Method:</th>         <td>Conditional MLE</td> <th>  S.D. of innovations</th>   <td>5.504</td> \n",
       "</tr>\n",
       "<tr>\n",
       "  <th>Date:</th>          <td>Fri, 07 Jul 2023</td> <th>  AIC                </th> <td>1738.952</td>\n",
       "</tr>\n",
       "<tr>\n",
       "  <th>Time:</th>              <td>17:44:28</td>     <th>  BIC                </th> <td>1753.448</td>\n",
       "</tr>\n",
       "<tr>\n",
       "  <th>Sample:</th>                <td>2</td>        <th>  HQIC               </th> <td>1744.768</td>\n",
       "</tr>\n",
       "<tr>\n",
       "  <th></th>                      <td>279</td>       <th>                     </th>     <td> </td>   \n",
       "</tr>\n",
       "</table>\n",
       "<table class=\"simpletable\">\n",
       "<tr>\n",
       "     <td></td>        <th>coef</th>     <th>std err</th>      <th>z</th>      <th>P>|z|</th>  <th>[0.025</th>    <th>0.975]</th>  \n",
       "</tr>\n",
       "<tr>\n",
       "  <th>const</th>   <td>   13.0640</td> <td>    4.870</td> <td>    2.683</td> <td> 0.007</td> <td>    3.520</td> <td>   22.608</td>\n",
       "</tr>\n",
       "<tr>\n",
       "  <th>Open.L1</th> <td>    0.9430</td> <td>    0.060</td> <td>   15.669</td> <td> 0.000</td> <td>    0.825</td> <td>    1.061</td>\n",
       "</tr>\n",
       "<tr>\n",
       "  <th>Open.L2</th> <td>    0.0215</td> <td>    0.060</td> <td>    0.362</td> <td> 0.718</td> <td>   -0.095</td> <td>    0.138</td>\n",
       "</tr>\n",
       "</table>\n",
       "<table class=\"simpletable\">\n",
       "<caption>Roots</caption>\n",
       "<tr>\n",
       "    <td></td>   <th>            Real</th>  <th>         Imaginary</th> <th>         Modulus</th>  <th>        Frequency</th>\n",
       "</tr>\n",
       "<tr>\n",
       "  <th>AR.1</th> <td>           1.0360</td> <td>          +0.0000j</td> <td>           1.0360</td> <td>           0.0000</td>\n",
       "</tr>\n",
       "<tr>\n",
       "  <th>AR.2</th> <td>         -44.8435</td> <td>          +0.0000j</td> <td>          44.8435</td> <td>           0.5000</td>\n",
       "</tr>\n",
       "</table>"
      ],
      "text/plain": [
       "<class 'statsmodels.iolib.summary.Summary'>\n",
       "\"\"\"\n",
       "                            AutoReg Model Results                             \n",
       "==============================================================================\n",
       "Dep. Variable:                   Open   No. Observations:                  279\n",
       "Model:                     AutoReg(2)   Log Likelihood                -865.476\n",
       "Method:               Conditional MLE   S.D. of innovations              5.504\n",
       "Date:                Fri, 07 Jul 2023   AIC                           1738.952\n",
       "Time:                        17:44:28   BIC                           1753.448\n",
       "Sample:                             2   HQIC                          1744.768\n",
       "                                  279                                         \n",
       "==============================================================================\n",
       "                 coef    std err          z      P>|z|      [0.025      0.975]\n",
       "------------------------------------------------------------------------------\n",
       "const         13.0640      4.870      2.683      0.007       3.520      22.608\n",
       "Open.L1        0.9430      0.060     15.669      0.000       0.825       1.061\n",
       "Open.L2        0.0215      0.060      0.362      0.718      -0.095       0.138\n",
       "                                    Roots                                    \n",
       "=============================================================================\n",
       "                  Real          Imaginary           Modulus         Frequency\n",
       "-----------------------------------------------------------------------------\n",
       "AR.1            1.0360           +0.0000j            1.0360            0.0000\n",
       "AR.2          -44.8435           +0.0000j           44.8435            0.5000\n",
       "-----------------------------------------------------------------------------\n",
       "\"\"\""
      ]
     },
     "execution_count": 13,
     "metadata": {},
     "output_type": "execute_result"
    }
   ],
   "source": [
    "train_ar_model.summary()"
   ]
  },
  {
   "cell_type": "markdown",
   "id": "fc0a0150-19a6-4fd8-ae5e-662123250694",
   "metadata": {},
   "source": [
    "# Make predictions\n",
    "- Start making predictions at the split observation and go to the n-1 observation. A simplier example is with [1, 2, 3, 4, 5, 6, 7, 8, 9, 10]. Say we split at 7. historical_data would start at 7. We will make predictions for 8, 9. What about 10?"
   ]
  },
  {
   "cell_type": "code",
   "execution_count": 14,
   "id": "4b02bc8b-83c8-4ff8-beb8-99457166963b",
   "metadata": {},
   "outputs": [
    {
     "data": {
      "text/plain": [
       "279"
      ]
     },
     "execution_count": 14,
     "metadata": {},
     "output_type": "execute_result"
    }
   ],
   "source": [
    "historical_data = len(train_data)\n",
    "historical_data"
   ]
  },
  {
   "cell_type": "code",
   "execution_count": 15,
   "id": "f35d56ed-6779-4951-bb54-cda02749381d",
   "metadata": {},
   "outputs": [
    {
     "data": {
      "text/plain": [
       "378"
      ]
     },
     "execution_count": 15,
     "metadata": {},
     "output_type": "execute_result"
    }
   ],
   "source": [
    "tomorrow = len(open_voo_df) - 1\n",
    "tomorrow"
   ]
  },
  {
   "cell_type": "code",
   "execution_count": null,
   "id": "17fa4148-2300-414d-bd77-4b7814360111",
   "metadata": {},
   "outputs": [
    {
     "name": "stderr",
     "output_type": "stream",
     "text": [
      "/Users/brinkley97/opt/anaconda3/envs/time_series/lib/python3.9/site-packages/statsmodels/tsa/base/tsa_model.py:834: ValueWarning: No supported index is available. Prediction results will be given with an integer index beginning at `start`.\n",
      "  return get_prediction_index(\n",
      "/Users/brinkley97/opt/anaconda3/envs/time_series/lib/python3.9/site-packages/statsmodels/tsa/deterministic.py:302: UserWarning: Only PeriodIndexes, DatetimeIndexes with a frequency set, RangesIndexes, and Index with a unit increment support extending. The index is set will contain the position relative to the data length.\n",
      "  fcast_index = self._extend_index(index, steps, forecast_index)\n"
     ]
    },
    {
     "data": {
      "text/plain": [
       "279    372.989315\n",
       "280    372.807685\n",
       "281    372.636184\n",
       "282    372.470556\n",
       "283    372.310683\n",
       "          ...    \n",
       "374    368.046270\n",
       "375    368.040088\n",
       "376    368.034121\n",
       "377    368.028361\n",
       "378    368.022801\n",
       "Length: 100, dtype: float64"
      ]
     },
     "execution_count": 16,
     "metadata": {},
     "output_type": "execute_result"
    }
   ],
   "source": [
    "pred = train_ar_model.predict(start=historical_data, end=tomorrow, dynamic=False)\n",
    "pred"
   ]
  },
  {
   "cell_type": "markdown",
   "id": "9ff733d9-cdd5-47ac-9d17-ef78215f2084",
   "metadata": {},
   "source": [
    "- [ ] Why is our plot as such?"
   ]
  },
  {
   "cell_type": "code",
   "execution_count": 24,
   "id": "b88c7531-b100-4288-9782-89c4a0a162e4",
   "metadata": {},
   "outputs": [
    {
     "data": {
      "text/plain": [
       "[<matplotlib.lines.Line2D at 0x13b823d90>]"
      ]
     },
     "execution_count": 24,
     "metadata": {},
     "output_type": "execute_result"
    },
    {
     "data": {
      "image/png": "[encoded data removed]",
      "text/plain": [
       "<Figure size 640x480 with 1 Axes>"
      ]
     },
     "metadata": {},
     "output_type": "display_data"
    }
   ],
   "source": [
    "pyplot.plot(pred)"
   ]
  },
  {
   "cell_type": "code",
   "execution_count": 25,
   "id": "a67d5143-94ef-474b-8761-08533e980cf1",
   "metadata": {},
   "outputs": [
    {
     "data": {
      "text/plain": [
       "[<matplotlib.lines.Line2D at 0x13b89af10>]"
      ]
     },
     "execution_count": 25,
     "metadata": {},
     "output_type": "execute_result"
    },
    {
     "data": {
      "image/png": "[encoded data removed]",
      "text/plain": [
       "<Figure size 640x480 with 1 Axes>"
      ]
     },
     "metadata": {},
     "output_type": "display_data"
    }
   ],
   "source": [
    "pyplot.plot(test_data, color='red')"
   ]
  },
  {
   "cell_type": "code",
   "execution_count": null,
   "id": "778cdfef-e8aa-4a70-8f7b-7b0689e77b0e",
   "metadata": {},
   "outputs": [],
   "source": []
  }
 ],
 "metadata": {
  "kernelspec": {
   "display_name": "Python 3 (ipykernel)",
   "language": "python",
   "name": "python3"
  },
  "language_info": {
   "codemirror_mode": {
    "name": "ipython",
    "version": 3
   },
   "file_extension": ".py",
   "mimetype": "text/x-python",
   "name": "python",
   "nbconvert_exporter": "python",
   "pygments_lexer": "ipython3",
   "version": "3.9.16"
  }
 },
 "nbformat": 4,
 "nbformat_minor": 5
}
