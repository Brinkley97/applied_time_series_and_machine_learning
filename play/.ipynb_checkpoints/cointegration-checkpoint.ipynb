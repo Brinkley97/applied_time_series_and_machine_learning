{
 "cells": [
  {
   "cell_type": "code",
   "execution_count": 2,
   "id": "5a578b7d-549b-4802-8785-e033e9eec8ae",
   "metadata": {},
   "outputs": [],
   "source": [
    "from fredapi import Fred\n",
    "import pandas as pd"
   ]
  },
  {
   "cell_type": "code",
   "execution_count": 3,
   "id": "f6b4b15c-e2ac-4eac-80c1-d1aa58a3b194",
   "metadata": {},
   "outputs": [],
   "source": [
    "fred = Fred(api_key=\"0e929d96cfbf2133c9a346a74670f033\")"
   ]
  },
  {
   "cell_type": "code",
   "execution_count": 4,
   "id": "a973f575-01c1-4883-9270-aa878ddd0cc8",
   "metadata": {},
   "outputs": [],
   "source": [
    "# get PCE\n",
    "pce = fred.get_series('PCE')"
   ]
  },
  {
   "cell_type": "code",
   "execution_count": 5,
   "id": "40f72211-e9f2-49ca-ba95-5c542add249f",
   "metadata": {},
   "outputs": [],
   "source": [
    "# get DSPI\n",
    "dspi = fred.get_series('DSPI')"
   ]
  },
  {
   "cell_type": "code",
   "execution_count": 6,
   "id": "24539a78-cd38-462d-bf7b-a559116daf32",
   "metadata": {},
   "outputs": [],
   "source": [
    "# convert both series into a df\n",
    "\n",
    "df = pd.concat([pce, dspi], axis=1)\n",
    "df.reset_index(inplace=True)\n",
    "df.columns = ['date','pce', 'dspi']"
   ]
  },
  {
   "cell_type": "code",
   "execution_count": 7,
   "id": "7bc18d24-3ded-4388-a87b-cab2a51c3a7b",
   "metadata": {},
   "outputs": [
    {
     "data": {
      "text/html": [
       "<div>\n",
       "<style scoped>\n",
       "    .dataframe tbody tr th:only-of-type {\n",
       "        vertical-align: middle;\n",
       "    }\n",
       "\n",
       "    .dataframe tbody tr th {\n",
       "        vertical-align: top;\n",
       "    }\n",
       "\n",
       "    .dataframe thead th {\n",
       "        text-align: right;\n",
       "    }\n",
       "</style>\n",
       "<table border=\"1\" class=\"dataframe\">\n",
       "  <thead>\n",
       "    <tr style=\"text-align: right;\">\n",
       "      <th></th>\n",
       "      <th>date</th>\n",
       "      <th>pce</th>\n",
       "      <th>dspi</th>\n",
       "    </tr>\n",
       "  </thead>\n",
       "  <tbody>\n",
       "    <tr>\n",
       "      <th>0</th>\n",
       "      <td>1959-01-01</td>\n",
       "      <td>306.1</td>\n",
       "      <td>351.5</td>\n",
       "    </tr>\n",
       "    <tr>\n",
       "      <th>1</th>\n",
       "      <td>1959-02-01</td>\n",
       "      <td>309.6</td>\n",
       "      <td>352.9</td>\n",
       "    </tr>\n",
       "    <tr>\n",
       "      <th>2</th>\n",
       "      <td>1959-03-01</td>\n",
       "      <td>312.7</td>\n",
       "      <td>355.2</td>\n",
       "    </tr>\n",
       "    <tr>\n",
       "      <th>3</th>\n",
       "      <td>1959-04-01</td>\n",
       "      <td>312.2</td>\n",
       "      <td>358.2</td>\n",
       "    </tr>\n",
       "    <tr>\n",
       "      <th>4</th>\n",
       "      <td>1959-05-01</td>\n",
       "      <td>316.1</td>\n",
       "      <td>360.3</td>\n",
       "    </tr>\n",
       "    <tr>\n",
       "      <th>...</th>\n",
       "      <td>...</td>\n",
       "      <td>...</td>\n",
       "      <td>...</td>\n",
       "    </tr>\n",
       "    <tr>\n",
       "      <th>771</th>\n",
       "      <td>2023-04-01</td>\n",
       "      <td>18363.8</td>\n",
       "      <td>20106.6</td>\n",
       "    </tr>\n",
       "    <tr>\n",
       "      <th>772</th>\n",
       "      <td>2023-05-01</td>\n",
       "      <td>18407.8</td>\n",
       "      <td>20198.8</td>\n",
       "    </tr>\n",
       "    <tr>\n",
       "      <th>773</th>\n",
       "      <td>2023-06-01</td>\n",
       "      <td>18485.4</td>\n",
       "      <td>20224.8</td>\n",
       "    </tr>\n",
       "    <tr>\n",
       "      <th>774</th>\n",
       "      <td>2023-07-01</td>\n",
       "      <td>18643.3</td>\n",
       "      <td>20223.2</td>\n",
       "    </tr>\n",
       "    <tr>\n",
       "      <th>775</th>\n",
       "      <td>2023-08-01</td>\n",
       "      <td>18726.9</td>\n",
       "      <td>20269.8</td>\n",
       "    </tr>\n",
       "  </tbody>\n",
       "</table>\n",
       "<p>776 rows × 3 columns</p>\n",
       "</div>"
      ],
      "text/plain": [
       "          date      pce     dspi\n",
       "0   1959-01-01    306.1    351.5\n",
       "1   1959-02-01    309.6    352.9\n",
       "2   1959-03-01    312.7    355.2\n",
       "3   1959-04-01    312.2    358.2\n",
       "4   1959-05-01    316.1    360.3\n",
       "..         ...      ...      ...\n",
       "771 2023-04-01  18363.8  20106.6\n",
       "772 2023-05-01  18407.8  20198.8\n",
       "773 2023-06-01  18485.4  20224.8\n",
       "774 2023-07-01  18643.3  20223.2\n",
       "775 2023-08-01  18726.9  20269.8\n",
       "\n",
       "[776 rows x 3 columns]"
      ]
     },
     "execution_count": 7,
     "metadata": {},
     "output_type": "execute_result"
    }
   ],
   "source": [
    "df"
   ]
  },
  {
   "cell_type": "code",
   "execution_count": 14,
   "id": "0d369681-385d-43c0-92fb-8005dacdb5bf",
   "metadata": {},
   "outputs": [
    {
     "data": {
      "text/html": [
       "<div>\n",
       "<style scoped>\n",
       "    .dataframe tbody tr th:only-of-type {\n",
       "        vertical-align: middle;\n",
       "    }\n",
       "\n",
       "    .dataframe tbody tr th {\n",
       "        vertical-align: top;\n",
       "    }\n",
       "\n",
       "    .dataframe thead th {\n",
       "        text-align: right;\n",
       "    }\n",
       "</style>\n",
       "<table border=\"1\" class=\"dataframe\">\n",
       "  <thead>\n",
       "    <tr style=\"text-align: right;\">\n",
       "      <th></th>\n",
       "      <th>pce</th>\n",
       "      <th>dspi</th>\n",
       "    </tr>\n",
       "    <tr>\n",
       "      <th>date</th>\n",
       "      <th></th>\n",
       "      <th></th>\n",
       "    </tr>\n",
       "  </thead>\n",
       "  <tbody>\n",
       "    <tr>\n",
       "      <th>1959-01-01</th>\n",
       "      <td>306.1</td>\n",
       "      <td>351.5</td>\n",
       "    </tr>\n",
       "    <tr>\n",
       "      <th>1959-02-01</th>\n",
       "      <td>309.6</td>\n",
       "      <td>352.9</td>\n",
       "    </tr>\n",
       "    <tr>\n",
       "      <th>1959-03-01</th>\n",
       "      <td>312.7</td>\n",
       "      <td>355.2</td>\n",
       "    </tr>\n",
       "    <tr>\n",
       "      <th>1959-04-01</th>\n",
       "      <td>312.2</td>\n",
       "      <td>358.2</td>\n",
       "    </tr>\n",
       "    <tr>\n",
       "      <th>1959-05-01</th>\n",
       "      <td>316.1</td>\n",
       "      <td>360.3</td>\n",
       "    </tr>\n",
       "    <tr>\n",
       "      <th>...</th>\n",
       "      <td>...</td>\n",
       "      <td>...</td>\n",
       "    </tr>\n",
       "    <tr>\n",
       "      <th>2023-04-01</th>\n",
       "      <td>18363.8</td>\n",
       "      <td>20106.6</td>\n",
       "    </tr>\n",
       "    <tr>\n",
       "      <th>2023-05-01</th>\n",
       "      <td>18407.8</td>\n",
       "      <td>20198.8</td>\n",
       "    </tr>\n",
       "    <tr>\n",
       "      <th>2023-06-01</th>\n",
       "      <td>18485.4</td>\n",
       "      <td>20224.8</td>\n",
       "    </tr>\n",
       "    <tr>\n",
       "      <th>2023-07-01</th>\n",
       "      <td>18643.3</td>\n",
       "      <td>20223.2</td>\n",
       "    </tr>\n",
       "    <tr>\n",
       "      <th>2023-08-01</th>\n",
       "      <td>18726.9</td>\n",
       "      <td>20269.8</td>\n",
       "    </tr>\n",
       "  </tbody>\n",
       "</table>\n",
       "<p>776 rows × 2 columns</p>\n",
       "</div>"
      ],
      "text/plain": [
       "                pce     dspi\n",
       "date                        \n",
       "1959-01-01    306.1    351.5\n",
       "1959-02-01    309.6    352.9\n",
       "1959-03-01    312.7    355.2\n",
       "1959-04-01    312.2    358.2\n",
       "1959-05-01    316.1    360.3\n",
       "...             ...      ...\n",
       "2023-04-01  18363.8  20106.6\n",
       "2023-05-01  18407.8  20198.8\n",
       "2023-06-01  18485.4  20224.8\n",
       "2023-07-01  18643.3  20223.2\n",
       "2023-08-01  18726.9  20269.8\n",
       "\n",
       "[776 rows x 2 columns]"
      ]
     },
     "execution_count": 14,
     "metadata": {},
     "output_type": "execute_result"
    }
   ],
   "source": [
    "df.set_index(\"date\", inplace=True)\n",
    "df"
   ]
  },
  {
   "cell_type": "markdown",
   "id": "658941e9-434c-46b3-9cc5-f2c423cd3e2e",
   "metadata": {},
   "source": [
    "- As disposable personal income changes, consumer expenditure changes. There's a sharp increase in dspi and sharp decrease in pce. Why? More savings (with Covid with stimulus checks?) occured as basic economy states `savings = income - expenses`. After that, we have pce increase more rapidly than dspi. Why? People started using their stimulus check. "
   ]
  },
  {
   "cell_type": "code",
   "execution_count": 15,
   "id": "f0c5201a-e451-4be2-9158-65f7197463ed",
   "metadata": {},
   "outputs": [
    {
     "data": {
      "text/plain": [
       "<AxesSubplot: xlabel='date'>"
      ]
     },
     "execution_count": 15,
     "metadata": {},
     "output_type": "execute_result"
    },
    {
     "data": {
      "image/png": "[encoded data removed]",
      "text/plain": [
       "<Figure size 640x480 with 1 Axes>"
      ]
     },
     "metadata": {},
     "output_type": "display_data"
    }
   ],
   "source": [
    "df.plot()"
   ]
  },
  {
   "cell_type": "markdown",
   "id": "8b84b398-3d47-419e-b05b-066f10aad41f",
   "metadata": {},
   "source": [
    "# Cointegration\n",
    "- Joanson test vs Engle-Granger vs Augmented Engle-Granger\n",
    "- What are these results telling us?"
   ]
  },
  {
   "cell_type": "code",
   "execution_count": 17,
   "id": "19c1d6ee-2e18-41d6-acb2-52757ff57ca5",
   "metadata": {},
   "outputs": [],
   "source": [
    "import statsmodels.tsa.stattools as sm"
   ]
  },
  {
   "cell_type": "code",
   "execution_count": 21,
   "id": "c39d0c97-e0db-4830-a4a8-ce5fa9e8905f",
   "metadata": {},
   "outputs": [
    {
     "data": {
      "text/plain": [
       "(-5.436758026018645,\n",
       " 2.3979441424101145e-05,\n",
       " array([-3.9106273 , -3.34402536, -3.04992704]))"
      ]
     },
     "execution_count": 21,
     "metadata": {},
     "output_type": "execute_result"
    }
   ],
   "source": [
    "coint_t, pvalue, crit_value = sm.coint(df[\"pce\"], df[\"dspi\"])\n",
    "coint_t, pvalue, crit_value"
   ]
  },
  {
   "cell_type": "code",
   "execution_count": 29,
   "id": "ed5d9c4c-9f09-4633-a295-c962c2852954",
   "metadata": {},
   "outputs": [],
   "source": [
    "# log instead of percent_change"
   ]
  },
  {
   "cell_type": "code",
   "execution_count": 23,
   "id": "1c719e83-a48d-4909-9528-b12f33f172ef",
   "metadata": {},
   "outputs": [
    {
     "data": {
      "text/html": [
       "<div>\n",
       "<style scoped>\n",
       "    .dataframe tbody tr th:only-of-type {\n",
       "        vertical-align: middle;\n",
       "    }\n",
       "\n",
       "    .dataframe tbody tr th {\n",
       "        vertical-align: top;\n",
       "    }\n",
       "\n",
       "    .dataframe thead th {\n",
       "        text-align: right;\n",
       "    }\n",
       "</style>\n",
       "<table border=\"1\" class=\"dataframe\">\n",
       "  <thead>\n",
       "    <tr style=\"text-align: right;\">\n",
       "      <th></th>\n",
       "      <th>pce</th>\n",
       "      <th>dspi</th>\n",
       "    </tr>\n",
       "    <tr>\n",
       "      <th>date</th>\n",
       "      <th></th>\n",
       "      <th></th>\n",
       "    </tr>\n",
       "  </thead>\n",
       "  <tbody>\n",
       "    <tr>\n",
       "      <th>1959-01-01</th>\n",
       "      <td>NaN</td>\n",
       "      <td>NaN</td>\n",
       "    </tr>\n",
       "    <tr>\n",
       "      <th>1959-02-01</th>\n",
       "      <td>0.011434</td>\n",
       "      <td>0.003983</td>\n",
       "    </tr>\n",
       "    <tr>\n",
       "      <th>1959-03-01</th>\n",
       "      <td>0.010013</td>\n",
       "      <td>0.006517</td>\n",
       "    </tr>\n",
       "    <tr>\n",
       "      <th>1959-04-01</th>\n",
       "      <td>-0.001599</td>\n",
       "      <td>0.008446</td>\n",
       "    </tr>\n",
       "    <tr>\n",
       "      <th>1959-05-01</th>\n",
       "      <td>0.012492</td>\n",
       "      <td>0.005863</td>\n",
       "    </tr>\n",
       "    <tr>\n",
       "      <th>...</th>\n",
       "      <td>...</td>\n",
       "      <td>...</td>\n",
       "    </tr>\n",
       "    <tr>\n",
       "      <th>2023-04-01</th>\n",
       "      <td>0.004441</td>\n",
       "      <td>0.005456</td>\n",
       "    </tr>\n",
       "    <tr>\n",
       "      <th>2023-05-01</th>\n",
       "      <td>0.002396</td>\n",
       "      <td>0.004586</td>\n",
       "    </tr>\n",
       "    <tr>\n",
       "      <th>2023-06-01</th>\n",
       "      <td>0.004216</td>\n",
       "      <td>0.001287</td>\n",
       "    </tr>\n",
       "    <tr>\n",
       "      <th>2023-07-01</th>\n",
       "      <td>0.008542</td>\n",
       "      <td>-0.000079</td>\n",
       "    </tr>\n",
       "    <tr>\n",
       "      <th>2023-08-01</th>\n",
       "      <td>0.004484</td>\n",
       "      <td>0.002304</td>\n",
       "    </tr>\n",
       "  </tbody>\n",
       "</table>\n",
       "<p>776 rows × 2 columns</p>\n",
       "</div>"
      ],
      "text/plain": [
       "                 pce      dspi\n",
       "date                          \n",
       "1959-01-01       NaN       NaN\n",
       "1959-02-01  0.011434  0.003983\n",
       "1959-03-01  0.010013  0.006517\n",
       "1959-04-01 -0.001599  0.008446\n",
       "1959-05-01  0.012492  0.005863\n",
       "...              ...       ...\n",
       "2023-04-01  0.004441  0.005456\n",
       "2023-05-01  0.002396  0.004586\n",
       "2023-06-01  0.004216  0.001287\n",
       "2023-07-01  0.008542 -0.000079\n",
       "2023-08-01  0.004484  0.002304\n",
       "\n",
       "[776 rows x 2 columns]"
      ]
     },
     "execution_count": 23,
     "metadata": {},
     "output_type": "execute_result"
    }
   ],
   "source": [
    "differenced_df = df.pct_change()\n",
    "differenced_df"
   ]
  },
  {
   "cell_type": "code",
   "execution_count": 32,
   "id": "caf44b53-2504-46cb-bc1b-79e933787025",
   "metadata": {},
   "outputs": [],
   "source": [
    "# memory-less but the point of coinintegration is to preserve memory, so don't use pct_change"
   ]
  },
  {
   "cell_type": "code",
   "execution_count": 30,
   "id": "53f62e0b-1d1c-4cf7-9697-9ccb9404e169",
   "metadata": {},
   "outputs": [
    {
     "data": {
      "text/plain": [
       "<AxesSubplot: xlabel='date'>"
      ]
     },
     "execution_count": 30,
     "metadata": {},
     "output_type": "execute_result"
    },
    {
     "data": {
      "image/png": "[encoded data removed]",
      "text/plain": [
       "<Figure size 640x480 with 1 Axes>"
      ]
     },
     "metadata": {},
     "output_type": "display_data"
    }
   ],
   "source": [
    "differenced_df.plot()"
   ]
  },
  {
   "cell_type": "code",
   "execution_count": 31,
   "id": "70e87daa-2e6f-421f-b144-c2141a682dc3",
   "metadata": {},
   "outputs": [
    {
     "data": {
      "text/plain": [
       "<AxesSubplot: xlabel='date'>"
      ]
     },
     "execution_count": 31,
     "metadata": {},
     "output_type": "execute_result"
    },
    {
     "data": {
      "image/png": "[encoded data removed]",
      "text/plain": [
       "<Figure size 640x480 with 1 Axes>"
      ]
     },
     "metadata": {},
     "output_type": "display_data"
    }
   ],
   "source": [
    "df[\"pce\"].plot()"
   ]
  },
  {
   "cell_type": "code",
   "execution_count": 27,
   "id": "5b5548f1-e05d-418b-acf8-4b4c99b41d36",
   "metadata": {},
   "outputs": [
    {
     "data": {
      "text/html": [
       "<div>\n",
       "<style scoped>\n",
       "    .dataframe tbody tr th:only-of-type {\n",
       "        vertical-align: middle;\n",
       "    }\n",
       "\n",
       "    .dataframe tbody tr th {\n",
       "        vertical-align: top;\n",
       "    }\n",
       "\n",
       "    .dataframe thead th {\n",
       "        text-align: right;\n",
       "    }\n",
       "</style>\n",
       "<table border=\"1\" class=\"dataframe\">\n",
       "  <thead>\n",
       "    <tr style=\"text-align: right;\">\n",
       "      <th></th>\n",
       "      <th>pce</th>\n",
       "      <th>dspi</th>\n",
       "    </tr>\n",
       "    <tr>\n",
       "      <th>date</th>\n",
       "      <th></th>\n",
       "      <th></th>\n",
       "    </tr>\n",
       "  </thead>\n",
       "  <tbody>\n",
       "    <tr>\n",
       "      <th>1959-02-01</th>\n",
       "      <td>0.011434</td>\n",
       "      <td>0.003983</td>\n",
       "    </tr>\n",
       "    <tr>\n",
       "      <th>1959-03-01</th>\n",
       "      <td>0.010013</td>\n",
       "      <td>0.006517</td>\n",
       "    </tr>\n",
       "    <tr>\n",
       "      <th>1959-04-01</th>\n",
       "      <td>-0.001599</td>\n",
       "      <td>0.008446</td>\n",
       "    </tr>\n",
       "    <tr>\n",
       "      <th>1959-05-01</th>\n",
       "      <td>0.012492</td>\n",
       "      <td>0.005863</td>\n",
       "    </tr>\n",
       "    <tr>\n",
       "      <th>1959-06-01</th>\n",
       "      <td>0.006643</td>\n",
       "      <td>0.006384</td>\n",
       "    </tr>\n",
       "    <tr>\n",
       "      <th>...</th>\n",
       "      <td>...</td>\n",
       "      <td>...</td>\n",
       "    </tr>\n",
       "    <tr>\n",
       "      <th>2023-04-01</th>\n",
       "      <td>0.004441</td>\n",
       "      <td>0.005456</td>\n",
       "    </tr>\n",
       "    <tr>\n",
       "      <th>2023-05-01</th>\n",
       "      <td>0.002396</td>\n",
       "      <td>0.004586</td>\n",
       "    </tr>\n",
       "    <tr>\n",
       "      <th>2023-06-01</th>\n",
       "      <td>0.004216</td>\n",
       "      <td>0.001287</td>\n",
       "    </tr>\n",
       "    <tr>\n",
       "      <th>2023-07-01</th>\n",
       "      <td>0.008542</td>\n",
       "      <td>-0.000079</td>\n",
       "    </tr>\n",
       "    <tr>\n",
       "      <th>2023-08-01</th>\n",
       "      <td>0.004484</td>\n",
       "      <td>0.002304</td>\n",
       "    </tr>\n",
       "  </tbody>\n",
       "</table>\n",
       "<p>775 rows × 2 columns</p>\n",
       "</div>"
      ],
      "text/plain": [
       "                 pce      dspi\n",
       "date                          \n",
       "1959-02-01  0.011434  0.003983\n",
       "1959-03-01  0.010013  0.006517\n",
       "1959-04-01 -0.001599  0.008446\n",
       "1959-05-01  0.012492  0.005863\n",
       "1959-06-01  0.006643  0.006384\n",
       "...              ...       ...\n",
       "2023-04-01  0.004441  0.005456\n",
       "2023-05-01  0.002396  0.004586\n",
       "2023-06-01  0.004216  0.001287\n",
       "2023-07-01  0.008542 -0.000079\n",
       "2023-08-01  0.004484  0.002304\n",
       "\n",
       "[775 rows x 2 columns]"
      ]
     },
     "execution_count": 27,
     "metadata": {},
     "output_type": "execute_result"
    }
   ],
   "source": [
    "differenced_df = differenced_df.dropna()\n",
    "differenced_df"
   ]
  },
  {
   "cell_type": "code",
   "execution_count": 28,
   "id": "5ff0744f-0b60-4c79-a6a6-623ec46136b4",
   "metadata": {},
   "outputs": [
    {
     "data": {
      "text/plain": [
       "(-6.028861021289375,\n",
       " 1.4062766964130664e-06,\n",
       " array([-3.91064571, -3.34403558, -3.04993413]))"
      ]
     },
     "execution_count": 28,
     "metadata": {},
     "output_type": "execute_result"
    }
   ],
   "source": [
    "differenced_coint_t, differenced_pvalue, differenced_crit_value = sm.coint(differenced_df[\"pce\"], differenced_df[\"dspi\"])\n",
    "differenced_coint_t, differenced_pvalue, differenced_crit_value"
   ]
  },
  {
   "cell_type": "code",
   "execution_count": null,
   "id": "dd63090b-3199-49d8-9025-d4b611cc80cd",
   "metadata": {},
   "outputs": [],
   "source": []
  }
 ],
 "metadata": {
  "kernelspec": {
   "display_name": "Python 3 (ipykernel)",
   "language": "python",
   "name": "python3"
  },
  "language_info": {
   "codemirror_mode": {
    "name": "ipython",
    "version": 3
   },
   "file_extension": ".py",
   "mimetype": "text/x-python",
   "name": "python",
   "nbconvert_exporter": "python",
   "pygments_lexer": "ipython3",
   "version": "3.9.16"
  }
 },
 "nbformat": 4,
 "nbformat_minor": 5
}
