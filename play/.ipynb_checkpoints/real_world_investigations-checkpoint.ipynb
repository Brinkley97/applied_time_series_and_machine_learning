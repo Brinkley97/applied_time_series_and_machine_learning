{
 "cells": [
  {
   "cell_type": "markdown",
   "id": "c62c292e-96b6-4e20-a645-33334e429a64",
   "metadata": {
    "tags": []
   },
   "source": [
    "# On Analyzing Real World Time Series for Forecasting\n",
    "Throughtout this notebook, we will do some preliminary investigations on time series datasets that come from real world problems. We'll begin by conducting exploratory data analysis and then begin developing our models.\n",
    "\n",
    "## What Needs to be Done\n",
    "- [ ] Map out system structure for performing our computations of interest\n",
    "- [ ] Flush out a few models of interest so we can make forecast on real world data\n",
    "- [ ] Develop the abstraction for our `Model` class that most models typically have when forecasting\n",
    "- [ ] Figure out whether the data we're analyzing is stationary or not.\n",
    "- [ ] Write support for `ARIMA` class of models.\n",
    "- [ ] Revisit chapter 2 and add support for other quantities of interest to compute.\n",
    "\n",
    "### Attributes:\n",
    "1. data: A list or array-like structure storing the time series data points.\n",
    "2. timestamps: A list or array-like structure that stores the timestamps for each data point. It could be dates, times, or simply indices.\n",
    "3. frequency: A string or some identifier representing the frequency of data collection (e.g., 'daily', 'monthly').\n",
    "\n",
    "### Methods:\n",
    "5. decompose(): To decompose the time series into trend, seasonality, and residuals.\n",
    "7. train_test_split(split_ratio): To split the data into a training and test set.\n",
    "8. smoothing(method): Apply various smoothing techniques (e.g., moving average).\n",
    "\n",
    "### Files:\n",
    "8. time_series: A python module that contain classes and methods/functions.\n",
    "9. data_loader: A python module that loads data. In this module, we have functions for loading passenger airline and Yahoo Finance stock data."
   ]
  },
  {
   "cell_type": "code",
   "execution_count": 1,
   "id": "e949351e-c0a0-45c0-969c-2a1281b9a7d2",
   "metadata": {},
   "outputs": [],
   "source": [
    "import numpy as np\n",
    "import pandas as pd\n",
    "\n",
    "import matplotlib.pyplot as plt\n",
    "\n",
    "from collections import namedtuple\n",
    "from time_series import TimeSeriesFactory, UnivariateTimeSeries\n",
    "from data_loader import build_airline_passenger_uts, build_stock_uts"
   ]
  },
  {
   "cell_type": "markdown",
   "id": "7e35bdb8-48f7-49e4-a36f-6af74898f205",
   "metadata": {},
   "source": [
    "## Airline Passenger Data Analysis"
   ]
  },
  {
   "cell_type": "code",
   "execution_count": 2,
   "id": "505ebfa8-05b6-45e1-b047-3c40dadde25c",
   "metadata": {},
   "outputs": [
    {
     "data": {
      "text/plain": [
       "UnivariateTimeSeries(passengers_count)"
      ]
     },
     "execution_count": 2,
     "metadata": {},
     "output_type": "execute_result"
    }
   ],
   "source": [
    "airline_passengers = build_airline_passenger_uts()\n",
    "airline_passengers"
   ]
  },
  {
   "cell_type": "markdown",
   "id": "064f7fd9-25dd-4a44-87a0-566e90ed6337",
   "metadata": {},
   "source": [
    "- `object` `.methods()`"
   ]
  },
  {
   "cell_type": "code",
   "execution_count": null,
   "id": "5c6c4353-78e5-4764-99c9-aec4891f5d5b",
   "metadata": {},
   "outputs": [],
   "source": [
    "print(airline_passengers.time_col)\n",
    "print(airline_passengers.value_col)"
   ]
  },
  {
   "cell_type": "code",
   "execution_count": null,
   "id": "6b523279-80a0-42ac-be04-8a40d17f6105",
   "metadata": {},
   "outputs": [],
   "source": [
    "series, col = airline_passengers.get_series(True)\n",
    "series"
   ]
  },
  {
   "cell_type": "code",
   "execution_count": 3,
   "id": "264c415e-b4b4-4103-9dc8-f37cfe328ac6",
   "metadata": {},
   "outputs": [
    {
     "name": "stdout",
     "output_type": "stream",
     "text": [
      "[112 118 132 129 121 135 148 148 136 119 104 118 115 126 141 135 125 149\n",
      " 170 170 158 133 114 140 145 150 178 163 172 178 199 199 184 162 146 166\n",
      " 171 180 193 181 183 218 230 242 209 191 172 194 196 196 236 235 229 243\n",
      " 264 272 237 211 180 201 204 188 235 227 234 264 302 293 259 229 203 229\n",
      " 242 233 267 269 270 315 364 347 312 274 237 278 284 277 317 313 318 374\n",
      " 413 405 355 306 271 306 315 301 356 348 355 422 465 467 404 347 305 336\n",
      " 340 318 362 348 363 435 491 505 404 359 310 337 360 342 406 396 420 472\n",
      " 548 559 463 407 362 405 417 391 419 461 472 535 622 606 508 461 390 432]\n"
     ]
    }
   ],
   "source": [
    "ap_series = airline_passengers.get_series(False)\n",
    "print(ap_series)"
   ]
  },
  {
   "cell_type": "code",
   "execution_count": 4,
   "id": "bca2dbb8-38f6-4dca-8eba-c0a56bcbc428",
   "metadata": {},
   "outputs": [
    {
     "name": "stdout",
     "output_type": "stream",
     "text": [
      "mean_1=182.902778, mean_2=377.694444\n",
      "variance_1=2244.087770, variance_2=7367.962191\n",
      "Mean is not Stationary\n",
      "Variance is not Stationary\n"
     ]
    }
   ],
   "source": [
    "airline_passengers.stationarity_test(ap_series)"
   ]
  },
  {
   "cell_type": "code",
   "execution_count": null,
   "id": "a1c21c21-9877-4369-8e89-1f6a8b90c919",
   "metadata": {},
   "outputs": [],
   "source": [
    "train, validation, test = airline_passengers.get_train_validation_test_split(60, 40)\n",
    "print(train), print(validation), print(test)"
   ]
  },
  {
   "cell_type": "code",
   "execution_count": null,
   "id": "826d406f-7760-414a-bfbb-ddb1eba66b0a",
   "metadata": {},
   "outputs": [],
   "source": [
    "print(airline_passengers.get_slice(1, 50))"
   ]
  },
  {
   "cell_type": "code",
   "execution_count": null,
   "id": "78e8cc48-e260-4b3e-acd8-92b66aaeb31b",
   "metadata": {},
   "outputs": [],
   "source": [
    "print(airline_passengers.autocovariance(3))\n",
    "print(airline_passengers.autocorrelation(3))\n",
    "print(airline_passengers.autocovariance_matrix(2))\n",
    "print(airline_passengers.autocorrelation_matrix(3))"
   ]
  },
  {
   "cell_type": "code",
   "execution_count": null,
   "id": "75fe59c4-0f70-4275-8dd6-88ad9a80505b",
   "metadata": {
    "tags": []
   },
   "outputs": [],
   "source": [
    "new_uts = airline_passengers.normalize()\n",
    "new_uts"
   ]
  },
  {
   "cell_type": "code",
   "execution_count": null,
   "id": "17eefe4c-5fb6-4438-ae69-23564111d7e9",
   "metadata": {},
   "outputs": [],
   "source": [
    "new_uts.data"
   ]
  },
  {
   "cell_type": "code",
   "execution_count": null,
   "id": "a1da6570-812f-4d8c-b403-6f24380a178e",
   "metadata": {},
   "outputs": [],
   "source": []
  },
  {
   "cell_type": "code",
   "execution_count": null,
   "id": "29922800-eeb5-49b7-a8df-7086cc6f1d22",
   "metadata": {},
   "outputs": [],
   "source": [
    "print(airline_passengers.get_order_k_diff(2))"
   ]
  },
  {
   "cell_type": "code",
   "execution_count": null,
   "id": "8b82d654-2cd5-46d4-afd9-d394df2eb1af",
   "metadata": {},
   "outputs": [],
   "source": [
    "print(airline_passengers.mean())\n",
    "print(airline_passengers.std())\n",
    "print(airline_passengers.variance())\n",
    "print(airline_passengers.max_min_range())\n",
    "print(airline_passengers.get_statistics())"
   ]
  },
  {
   "cell_type": "code",
   "execution_count": null,
   "id": "765bbf55-dc98-48ca-b24e-7de81ce11179",
   "metadata": {},
   "outputs": [],
   "source": [
    "airline_passengers.plot(90)"
   ]
  },
  {
   "cell_type": "code",
   "execution_count": null,
   "id": "633c4826-fcbd-451b-862f-40f9ef448d5c",
   "metadata": {},
   "outputs": [],
   "source": [
    "airline_passengers.plot_autocorrelation(2, plot_full=True)"
   ]
  },
  {
   "cell_type": "code",
   "execution_count": null,
   "id": "43026d16-3d13-4fe8-ab62-75cdc2aef091",
   "metadata": {},
   "outputs": [],
   "source": [
    "airline_passengers.scatter_plot(1)"
   ]
  },
  {
   "cell_type": "code",
   "execution_count": null,
   "id": "a9a0c383-f281-41e4-9b64-1b73518ce0a0",
   "metadata": {},
   "outputs": [],
   "source": [
    "print(airline_passengers.get_historical_data(series))"
   ]
  },
  {
   "cell_type": "code",
   "execution_count": null,
   "id": "44aeb5a5-8f8a-436c-aabe-257e5af84767",
   "metadata": {},
   "outputs": [],
   "source": [
    "print(airline_passengers.get_true_label_data(series))"
   ]
  },
  {
   "cell_type": "code",
   "execution_count": null,
   "id": "04b3a977-4fbe-42e1-bddd-290903be9c2f",
   "metadata": {},
   "outputs": [],
   "source": [
    "stationary_series"
   ]
  },
  {
   "cell_type": "code",
   "execution_count": null,
   "id": "56895827-11f1-4a91-bfd2-4c2cdbae3390",
   "metadata": {},
   "outputs": [],
   "source": []
  },
  {
   "cell_type": "code",
   "execution_count": null,
   "id": "e17a3b56-fac2-4118-af40-be35ce5df198",
   "metadata": {},
   "outputs": [],
   "source": []
  },
  {
   "cell_type": "code",
   "execution_count": null,
   "id": "d6912565-7c04-4e3d-8a37-c40522f58502",
   "metadata": {},
   "outputs": [],
   "source": []
  },
  {
   "cell_type": "markdown",
   "id": "f831e037-f926-4bc8-84ec-fdb30ca7802a",
   "metadata": {},
   "source": [
    "## Stock Data Analysis"
   ]
  },
  {
   "cell_type": "code",
   "execution_count": 5,
   "id": "642fbd44-3331-4c7f-9393-5d4e3bccea54",
   "metadata": {},
   "outputs": [
    {
     "name": "stdout",
     "output_type": "stream",
     "text": [
      "[*********************100%***********************]  1 of 1 completed\n",
      "[*********************100%***********************]  1 of 1 completed\n",
      "[*********************100%***********************]  1 of 1 completed\n",
      "[*********************100%***********************]  1 of 1 completed\n",
      "[*********************100%***********************]  1 of 1 completed\n",
      "[*********************100%***********************]  1 of 1 completed\n"
     ]
    }
   ],
   "source": [
    "# Only grab stocks whose data is available for the entire time period\n",
    "start_date, end_date = \"2013-01-01\", \"2023-08-08\"\n",
    "Stock = namedtuple(\"Stock\", [\"symbol\", \"name\"])\n",
    "stocks = [\n",
    "    (\"^GSPC\", \"S&P 500\"),\n",
    "    (\"AAPL\", \"Apple\"),\n",
    "    (\"INTC\", \"Intel\"),\n",
    "    (\"AMZN\", \"Amazon\"),\n",
    "    (\"TSLA\", \"Tesla\"),\n",
    "    (\"GOOGL\", \"Google\")\n",
    "]\n",
    "stocks = [Stock(*s) for s in stocks]\n",
    "stocks = {s.symbol: build_stock_uts(s.symbol, s.name, start_date=start_date, end_date=end_date) for s in stocks}"
   ]
  },
  {
   "cell_type": "code",
   "execution_count": 15,
   "id": "2e27ffe0-a0f2-4ce0-bd89-95e8c26380a7",
   "metadata": {},
   "outputs": [],
   "source": [
    "values_cols = list(stocks.keys())\n",
    "stock_mvts = TimeSeriesFactory.create_time_series(\n",
    "    time_col=\"date\",\n",
    "    time_values=stocks[values_cols[0]].data.index,\n",
    "    values_cols=values_cols,\n",
    "    values=[stock.get_series() for stock in stocks.values()]\n",
    ")"
   ]
  },
  {
   "cell_type": "code",
   "execution_count": 18,
   "id": "95d9aaad-a3f5-4edf-924f-fa53b8db0b63",
   "metadata": {},
   "outputs": [
    {
     "data": {
      "text/plain": [
       "time_series.UnivariateTimeSeries"
      ]
     },
     "execution_count": 18,
     "metadata": {},
     "output_type": "execute_result"
    }
   ],
   "source": [
    "type(stocks['AAPL'])"
   ]
  },
  {
   "cell_type": "code",
   "execution_count": 16,
   "id": "24b1034e-7bfb-4531-9ec5-435a12b09bfd",
   "metadata": {},
   "outputs": [
    {
     "data": {
      "text/plain": [
       "array([ 19.77928543,  19.56714249,  19.17749977, ..., 191.57000732,\n",
       "       185.52000427, 182.13000488])"
      ]
     },
     "execution_count": 16,
     "metadata": {},
     "output_type": "execute_result"
    }
   ],
   "source": [
    "aapl_series = stocks['AAPL'].get_series()\n",
    "aapl_series"
   ]
  },
  {
   "cell_type": "code",
   "execution_count": 17,
   "id": "d3ba3c33",
   "metadata": {},
   "outputs": [
    {
     "name": "stdout",
     "output_type": "stream",
     "text": [
      "mean_1=27.644029, mean_2=108.634631\n",
      "variance_1=65.864152, variance_2=2292.798569\n",
      "Mean is not Stationary\n",
      "Variance is not Stationary\n"
     ]
    }
   ],
   "source": [
    "stocks['AAPL'].stationarity_test(aapl_series)"
   ]
  }
 ],
 "metadata": {
  "kernelspec": {
   "display_name": "Python 3 (ipykernel)",
   "language": "python",
   "name": "python3"
  },
  "language_info": {
   "codemirror_mode": {
    "name": "ipython",
    "version": 3
   },
   "file_extension": ".py",
   "mimetype": "text/x-python",
   "name": "python",
   "nbconvert_exporter": "python",
   "pygments_lexer": "ipython3",
   "version": "3.9.16"
  }
 },
 "nbformat": 4,
 "nbformat_minor": 5
}
