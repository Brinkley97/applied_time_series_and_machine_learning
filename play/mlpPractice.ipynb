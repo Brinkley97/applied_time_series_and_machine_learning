{
 "cells": [
  {
   "cell_type": "markdown",
   "id": "a93950b4",
   "metadata": {},
   "source": [
    "# Multi Layer Perceptron Model\n",
    "\n",
    "- BOOK: [Predict the Future with MLPs, CNNs and LSTMs in Python](https://machinelearningmastery.com/deep-learning-for-time-series-forecasting/) by Jason Brownlee\n",
    "- NOTES: [TS -> ML split function](https://detraviousjbrinkley.notion.site/TS-ML-split-function-9ab51cbb49d244aa8b4ab434d009f8a7?pvs=4) by Detravious J.B. \n",
    "    - See for Forecast vs Prediction"
   ]
  },
  {
   "cell_type": "code",
   "execution_count": 1,
   "id": "b2335e75",
   "metadata": {},
   "outputs": [],
   "source": [
    "import os\n",
    "import sys\n",
    "import torch\n",
    "\n",
    "import numpy as np\n",
    "import pandas as pd\n",
    "\n",
    "import torch.nn as nn\n",
    "import matplotlib.pyplot as plt\n",
    "\n",
    "from tqdm import tqdm\n",
    "\n",
    "# Get the current working directory of the notebook\n",
    "notebook_dir = os.getcwd()\n",
    "\n",
    "# Add the parent directory to the system path\n",
    "sys.path.append(os.path.join(notebook_dir, '../framework_for_time_series_data/tslearn/'))\n",
    "from ml_models import MLP\n",
    "from ts_models import EvaluationMetric"
   ]
  },
  {
   "cell_type": "code",
   "execution_count": 2,
   "id": "f86d7f57",
   "metadata": {},
   "outputs": [],
   "source": [
    "observations = [10, 20, 30, 40, 50, 60, 70, 80, 90]"
   ]
  },
  {
   "cell_type": "markdown",
   "id": "45624d9b",
   "metadata": {},
   "source": [
    "# Book's implementation"
   ]
  },
  {
   "cell_type": "code",
   "execution_count": 3,
   "id": "f03ecb7b",
   "metadata": {},
   "outputs": [],
   "source": [
    "def split_sequence(sequence, n_steps_in, n_steps_out): \n",
    "    X, y = list(), list() \n",
    "    for i in range(len(sequence)): \n",
    "        # find the end of this pattern \n",
    "        end_ix = i + n_steps_in \n",
    "        out_end_ix = end_ix + n_steps_out \n",
    "        # check if we are beyond the sequence \n",
    "        if out_end_ix > len(sequence): \n",
    "            break\n",
    "        # gather input and output parts of the pattern \n",
    "        seq_x, seq_y = sequence[i:end_ix], sequence[end_ix:out_end_ix] \n",
    "        X.append(seq_x)\n",
    "        y.append(seq_y)\n",
    "    return np.array(X), np.array(y)"
   ]
  },
  {
   "cell_type": "code",
   "execution_count": 4,
   "id": "1dc84b3c",
   "metadata": {},
   "outputs": [],
   "source": [
    "X, y = split_sequence(observations, 3, 3)"
   ]
  },
  {
   "cell_type": "code",
   "execution_count": 5,
   "id": "a17514bc",
   "metadata": {},
   "outputs": [
    {
     "data": {
      "text/plain": [
       "array([[10, 20, 30],\n",
       "       [20, 30, 40],\n",
       "       [30, 40, 50],\n",
       "       [40, 50, 60]])"
      ]
     },
     "execution_count": 5,
     "metadata": {},
     "output_type": "execute_result"
    }
   ],
   "source": [
    "X"
   ]
  },
  {
   "cell_type": "code",
   "execution_count": 6,
   "id": "8d9dd5f7",
   "metadata": {},
   "outputs": [
    {
     "data": {
      "text/plain": [
       "array([[40, 50, 60],\n",
       "       [50, 60, 70],\n",
       "       [60, 70, 80],\n",
       "       [70, 80, 90]])"
      ]
     },
     "execution_count": 6,
     "metadata": {},
     "output_type": "execute_result"
    }
   ],
   "source": [
    "y"
   ]
  },
  {
   "cell_type": "markdown",
   "id": "08c0e431",
   "metadata": {},
   "source": [
    "# My implementation"
   ]
  },
  {
   "cell_type": "code",
   "execution_count": 7,
   "id": "8e506fd5",
   "metadata": {},
   "outputs": [],
   "source": [
    "def convert_uts_sequence_to_sml(uts_observations, prior_observations, forecasting_step):\n",
    "    \"\"\"Splits a given UTS into multiple input rows where each input row has a specified number of timestamps and the output is a single timestamp.\n",
    "    \n",
    "    Parameters:\n",
    "    uts_observations -- 1D np array (of UTS data to transform to SML data with size  b rows/length x 1 dimension)\n",
    "    prior_observations -- py int (of all observations before we get to where we want to start making the predictions)\n",
    "    forecasting_step -- py int (of how far out to forecast, 1 only the next timestamp, 2 the next two timestamps, ... n the next n timestamps)\n",
    "    \n",
    "    Return:\n",
    "    agg.values -- np array (of new sml data)\n",
    "    \"\"\"\n",
    "    \n",
    "    df = pd.DataFrame(uts_observations)\n",
    "    cols = list()\n",
    "    \n",
    "    lag_col_names = []\n",
    "    count_lag = 0\n",
    "    # input sequence (t-n, ... t-1)\n",
    "    for prior_observation in range(prior_observations, 0, -1):\n",
    "        # print(\"prior_observation: \", prior_observation)\n",
    "        cols.append(df.shift(prior_observation))\n",
    "        new_col_name = \"t - \" + str(prior_observation)\n",
    "        # print(new_col_name)\n",
    "        lag_col_names.append(new_col_name)\n",
    "        \n",
    "    \n",
    "    # forecast sequence (t, t+1, ... t+n)\n",
    "    for i in range(0, forecasting_step):\n",
    "        cols.append(df.shift(-i))\n",
    "        # print(f\"t + {i}\")\n",
    "        if i == 0:\n",
    "            new_col_name = f\"t\"\n",
    "        else:\n",
    "            new_col_name = f\"t + {i}\"\n",
    "        # print(new_col_name)\n",
    "        lag_col_names.append(new_col_name)\n",
    "        \n",
    "        # put it all together\n",
    "        uts_sml_df = pd.concat(cols, axis=1) \n",
    "        uts_sml_df.columns=[lag_col_names]\n",
    "        # drop rows with NaN values\n",
    "        uts_sml_df.dropna(inplace=True)\n",
    "    \n",
    "    # print(uts_sml_df)\n",
    "    \n",
    "    # colums to use to make prediction for last col\n",
    "    X_train = uts_sml_df.iloc[:, 0: -1]\n",
    "    \n",
    "    # last column\n",
    "    y_train = uts_sml_df.iloc[:, [-1]]\n",
    "    return uts_sml_df"
   ]
  },
  {
   "cell_type": "code",
   "execution_count": 8,
   "id": "6c1f6e7b",
   "metadata": {},
   "outputs": [],
   "source": [
    "n_steps = 3\n",
    "output_size = 2\n",
    "converted_seq_df = convert_uts_sequence_to_sml(observations, n_steps, output_size)"
   ]
  },
  {
   "cell_type": "code",
   "execution_count": 9,
   "id": "a9cf9a53",
   "metadata": {},
   "outputs": [
    {
     "data": {
      "text/html": [
       "<div>\n",
       "<style scoped>\n",
       "    .dataframe tbody tr th:only-of-type {\n",
       "        vertical-align: middle;\n",
       "    }\n",
       "\n",
       "    .dataframe tbody tr th {\n",
       "        vertical-align: top;\n",
       "    }\n",
       "\n",
       "    .dataframe thead tr th {\n",
       "        text-align: left;\n",
       "    }\n",
       "</style>\n",
       "<table border=\"1\" class=\"dataframe\">\n",
       "  <thead>\n",
       "    <tr>\n",
       "      <th></th>\n",
       "      <th>t - 3</th>\n",
       "      <th>t - 2</th>\n",
       "      <th>t - 1</th>\n",
       "      <th>t</th>\n",
       "      <th>t + 1</th>\n",
       "    </tr>\n",
       "  </thead>\n",
       "  <tbody>\n",
       "    <tr>\n",
       "      <th>3</th>\n",
       "      <td>10.0</td>\n",
       "      <td>20.0</td>\n",
       "      <td>30.0</td>\n",
       "      <td>40</td>\n",
       "      <td>50.0</td>\n",
       "    </tr>\n",
       "    <tr>\n",
       "      <th>4</th>\n",
       "      <td>20.0</td>\n",
       "      <td>30.0</td>\n",
       "      <td>40.0</td>\n",
       "      <td>50</td>\n",
       "      <td>60.0</td>\n",
       "    </tr>\n",
       "    <tr>\n",
       "      <th>5</th>\n",
       "      <td>30.0</td>\n",
       "      <td>40.0</td>\n",
       "      <td>50.0</td>\n",
       "      <td>60</td>\n",
       "      <td>70.0</td>\n",
       "    </tr>\n",
       "    <tr>\n",
       "      <th>6</th>\n",
       "      <td>40.0</td>\n",
       "      <td>50.0</td>\n",
       "      <td>60.0</td>\n",
       "      <td>70</td>\n",
       "      <td>80.0</td>\n",
       "    </tr>\n",
       "    <tr>\n",
       "      <th>7</th>\n",
       "      <td>50.0</td>\n",
       "      <td>60.0</td>\n",
       "      <td>70.0</td>\n",
       "      <td>80</td>\n",
       "      <td>90.0</td>\n",
       "    </tr>\n",
       "  </tbody>\n",
       "</table>\n",
       "</div>"
      ],
      "text/plain": [
       "  t - 3 t - 2 t - 1   t t + 1\n",
       "3  10.0  20.0  30.0  40  50.0\n",
       "4  20.0  30.0  40.0  50  60.0\n",
       "5  30.0  40.0  50.0  60  70.0\n",
       "6  40.0  50.0  60.0  70  80.0\n",
       "7  50.0  60.0  70.0  80  90.0"
      ]
     },
     "execution_count": 9,
     "metadata": {},
     "output_type": "execute_result"
    }
   ],
   "source": [
    "converted_seq_df"
   ]
  },
  {
   "cell_type": "code",
   "execution_count": 10,
   "id": "4216c4d8",
   "metadata": {},
   "outputs": [
    {
     "data": {
      "text/html": [
       "<div>\n",
       "<style scoped>\n",
       "    .dataframe tbody tr th:only-of-type {\n",
       "        vertical-align: middle;\n",
       "    }\n",
       "\n",
       "    .dataframe tbody tr th {\n",
       "        vertical-align: top;\n",
       "    }\n",
       "\n",
       "    .dataframe thead tr th {\n",
       "        text-align: left;\n",
       "    }\n",
       "</style>\n",
       "<table border=\"1\" class=\"dataframe\">\n",
       "  <thead>\n",
       "    <tr>\n",
       "      <th></th>\n",
       "      <th>t - 3</th>\n",
       "      <th>t - 2</th>\n",
       "      <th>t - 1</th>\n",
       "    </tr>\n",
       "  </thead>\n",
       "  <tbody>\n",
       "    <tr>\n",
       "      <th>3</th>\n",
       "      <td>10.0</td>\n",
       "      <td>20.0</td>\n",
       "      <td>30.0</td>\n",
       "    </tr>\n",
       "    <tr>\n",
       "      <th>4</th>\n",
       "      <td>20.0</td>\n",
       "      <td>30.0</td>\n",
       "      <td>40.0</td>\n",
       "    </tr>\n",
       "    <tr>\n",
       "      <th>5</th>\n",
       "      <td>30.0</td>\n",
       "      <td>40.0</td>\n",
       "      <td>50.0</td>\n",
       "    </tr>\n",
       "    <tr>\n",
       "      <th>6</th>\n",
       "      <td>40.0</td>\n",
       "      <td>50.0</td>\n",
       "      <td>60.0</td>\n",
       "    </tr>\n",
       "    <tr>\n",
       "      <th>7</th>\n",
       "      <td>50.0</td>\n",
       "      <td>60.0</td>\n",
       "      <td>70.0</td>\n",
       "    </tr>\n",
       "  </tbody>\n",
       "</table>\n",
       "</div>"
      ],
      "text/plain": [
       "  t - 3 t - 2 t - 1\n",
       "3  10.0  20.0  30.0\n",
       "4  20.0  30.0  40.0\n",
       "5  30.0  40.0  50.0\n",
       "6  40.0  50.0  60.0\n",
       "7  50.0  60.0  70.0"
      ]
     },
     "execution_count": 10,
     "metadata": {},
     "output_type": "execute_result"
    }
   ],
   "source": [
    "forecast_X_train_df = converted_seq_df.iloc[:, :n_steps]\n",
    "forecast_X_train_df"
   ]
  },
  {
   "cell_type": "code",
   "execution_count": 11,
   "id": "3030b03f",
   "metadata": {},
   "outputs": [
    {
     "data": {
      "text/html": [
       "<div>\n",
       "<style scoped>\n",
       "    .dataframe tbody tr th:only-of-type {\n",
       "        vertical-align: middle;\n",
       "    }\n",
       "\n",
       "    .dataframe tbody tr th {\n",
       "        vertical-align: top;\n",
       "    }\n",
       "\n",
       "    .dataframe thead tr th {\n",
       "        text-align: left;\n",
       "    }\n",
       "</style>\n",
       "<table border=\"1\" class=\"dataframe\">\n",
       "  <thead>\n",
       "    <tr>\n",
       "      <th></th>\n",
       "      <th>t</th>\n",
       "      <th>t + 1</th>\n",
       "    </tr>\n",
       "  </thead>\n",
       "  <tbody>\n",
       "    <tr>\n",
       "      <th>3</th>\n",
       "      <td>40</td>\n",
       "      <td>50.0</td>\n",
       "    </tr>\n",
       "    <tr>\n",
       "      <th>4</th>\n",
       "      <td>50</td>\n",
       "      <td>60.0</td>\n",
       "    </tr>\n",
       "    <tr>\n",
       "      <th>5</th>\n",
       "      <td>60</td>\n",
       "      <td>70.0</td>\n",
       "    </tr>\n",
       "    <tr>\n",
       "      <th>6</th>\n",
       "      <td>70</td>\n",
       "      <td>80.0</td>\n",
       "    </tr>\n",
       "    <tr>\n",
       "      <th>7</th>\n",
       "      <td>80</td>\n",
       "      <td>90.0</td>\n",
       "    </tr>\n",
       "  </tbody>\n",
       "</table>\n",
       "</div>"
      ],
      "text/plain": [
       "    t t + 1\n",
       "3  40  50.0\n",
       "4  50  60.0\n",
       "5  60  70.0\n",
       "6  70  80.0\n",
       "7  80  90.0"
      ]
     },
     "execution_count": 11,
     "metadata": {},
     "output_type": "execute_result"
    }
   ],
   "source": [
    "forecast_y_train_df = converted_seq_df.iloc[:, -output_size:]\n",
    "forecast_y_train_df"
   ]
  },
  {
   "cell_type": "code",
   "execution_count": 12,
   "id": "b13497cc",
   "metadata": {},
   "outputs": [
    {
     "data": {
      "text/html": [
       "<div>\n",
       "<style scoped>\n",
       "    .dataframe tbody tr th:only-of-type {\n",
       "        vertical-align: middle;\n",
       "    }\n",
       "\n",
       "    .dataframe tbody tr th {\n",
       "        vertical-align: top;\n",
       "    }\n",
       "\n",
       "    .dataframe thead tr th {\n",
       "        text-align: left;\n",
       "    }\n",
       "</style>\n",
       "<table border=\"1\" class=\"dataframe\">\n",
       "  <thead>\n",
       "    <tr>\n",
       "      <th></th>\n",
       "      <th>t - 1</th>\n",
       "      <th>t</th>\n",
       "      <th>t + 1</th>\n",
       "    </tr>\n",
       "  </thead>\n",
       "  <tbody>\n",
       "    <tr>\n",
       "      <th>7</th>\n",
       "      <td>70.0</td>\n",
       "      <td>80</td>\n",
       "      <td>90.0</td>\n",
       "    </tr>\n",
       "  </tbody>\n",
       "</table>\n",
       "</div>"
      ],
      "text/plain": [
       "  t - 1   t t + 1\n",
       "7  70.0  80  90.0"
      ]
     },
     "execution_count": 12,
     "metadata": {},
     "output_type": "execute_result"
    }
   ],
   "source": [
    "forecast_X_test_df = converted_seq_df.iloc[[-1], -n_steps:]\n",
    "forecast_X_test_df"
   ]
  },
  {
   "cell_type": "code",
   "execution_count": 13,
   "id": "42d3307d",
   "metadata": {},
   "outputs": [
    {
     "data": {
      "text/html": [
       "<div>\n",
       "<style scoped>\n",
       "    .dataframe tbody tr th:only-of-type {\n",
       "        vertical-align: middle;\n",
       "    }\n",
       "\n",
       "    .dataframe tbody tr th {\n",
       "        vertical-align: top;\n",
       "    }\n",
       "\n",
       "    .dataframe thead tr th {\n",
       "        text-align: left;\n",
       "    }\n",
       "</style>\n",
       "<table border=\"1\" class=\"dataframe\">\n",
       "  <thead>\n",
       "    <tr>\n",
       "      <th></th>\n",
       "      <th>t - 3</th>\n",
       "      <th>t - 2</th>\n",
       "      <th>t - 1</th>\n",
       "    </tr>\n",
       "  </thead>\n",
       "  <tbody>\n",
       "    <tr>\n",
       "      <th>3</th>\n",
       "      <td>10.0</td>\n",
       "      <td>20.0</td>\n",
       "      <td>30.0</td>\n",
       "    </tr>\n",
       "    <tr>\n",
       "      <th>4</th>\n",
       "      <td>20.0</td>\n",
       "      <td>30.0</td>\n",
       "      <td>40.0</td>\n",
       "    </tr>\n",
       "    <tr>\n",
       "      <th>5</th>\n",
       "      <td>30.0</td>\n",
       "      <td>40.0</td>\n",
       "      <td>50.0</td>\n",
       "    </tr>\n",
       "    <tr>\n",
       "      <th>6</th>\n",
       "      <td>40.0</td>\n",
       "      <td>50.0</td>\n",
       "      <td>60.0</td>\n",
       "    </tr>\n",
       "  </tbody>\n",
       "</table>\n",
       "</div>"
      ],
      "text/plain": [
       "  t - 3 t - 2 t - 1\n",
       "3  10.0  20.0  30.0\n",
       "4  20.0  30.0  40.0\n",
       "5  30.0  40.0  50.0\n",
       "6  40.0  50.0  60.0"
      ]
     },
     "execution_count": 13,
     "metadata": {},
     "output_type": "execute_result"
    }
   ],
   "source": [
    "predict_X_train_df = converted_seq_df.iloc[:-1, :n_steps]\n",
    "predict_X_train_df"
   ]
  },
  {
   "cell_type": "code",
   "execution_count": 14,
   "id": "0c2da8ca",
   "metadata": {},
   "outputs": [
    {
     "data": {
      "text/html": [
       "<div>\n",
       "<style scoped>\n",
       "    .dataframe tbody tr th:only-of-type {\n",
       "        vertical-align: middle;\n",
       "    }\n",
       "\n",
       "    .dataframe tbody tr th {\n",
       "        vertical-align: top;\n",
       "    }\n",
       "\n",
       "    .dataframe thead tr th {\n",
       "        text-align: left;\n",
       "    }\n",
       "</style>\n",
       "<table border=\"1\" class=\"dataframe\">\n",
       "  <thead>\n",
       "    <tr>\n",
       "      <th></th>\n",
       "      <th>t</th>\n",
       "      <th>t + 1</th>\n",
       "    </tr>\n",
       "  </thead>\n",
       "  <tbody>\n",
       "    <tr>\n",
       "      <th>3</th>\n",
       "      <td>40</td>\n",
       "      <td>50.0</td>\n",
       "    </tr>\n",
       "    <tr>\n",
       "      <th>4</th>\n",
       "      <td>50</td>\n",
       "      <td>60.0</td>\n",
       "    </tr>\n",
       "    <tr>\n",
       "      <th>5</th>\n",
       "      <td>60</td>\n",
       "      <td>70.0</td>\n",
       "    </tr>\n",
       "    <tr>\n",
       "      <th>6</th>\n",
       "      <td>70</td>\n",
       "      <td>80.0</td>\n",
       "    </tr>\n",
       "  </tbody>\n",
       "</table>\n",
       "</div>"
      ],
      "text/plain": [
       "    t t + 1\n",
       "3  40  50.0\n",
       "4  50  60.0\n",
       "5  60  70.0\n",
       "6  70  80.0"
      ]
     },
     "execution_count": 14,
     "metadata": {},
     "output_type": "execute_result"
    }
   ],
   "source": [
    "predict_y_train_df = converted_seq_df.iloc[:-1, -output_size:]\n",
    "predict_y_train_df"
   ]
  },
  {
   "cell_type": "code",
   "execution_count": 15,
   "id": "da43b0c9",
   "metadata": {},
   "outputs": [
    {
     "data": {
      "text/html": [
       "<div>\n",
       "<style scoped>\n",
       "    .dataframe tbody tr th:only-of-type {\n",
       "        vertical-align: middle;\n",
       "    }\n",
       "\n",
       "    .dataframe tbody tr th {\n",
       "        vertical-align: top;\n",
       "    }\n",
       "\n",
       "    .dataframe thead tr th {\n",
       "        text-align: left;\n",
       "    }\n",
       "</style>\n",
       "<table border=\"1\" class=\"dataframe\">\n",
       "  <thead>\n",
       "    <tr>\n",
       "      <th></th>\n",
       "      <th>t - 1</th>\n",
       "      <th>t</th>\n",
       "      <th>t + 1</th>\n",
       "    </tr>\n",
       "  </thead>\n",
       "  <tbody>\n",
       "    <tr>\n",
       "      <th>5</th>\n",
       "      <td>50.0</td>\n",
       "      <td>60</td>\n",
       "      <td>70.0</td>\n",
       "    </tr>\n",
       "  </tbody>\n",
       "</table>\n",
       "</div>"
      ],
      "text/plain": [
       "  t - 1   t t + 1\n",
       "5  50.0  60  70.0"
      ]
     },
     "execution_count": 15,
     "metadata": {},
     "output_type": "execute_result"
    }
   ],
   "source": [
    "predict_X_test_df = converted_seq_df.iloc[[-n_steps], -n_steps:]\n",
    "predict_X_test_df"
   ]
  },
  {
   "cell_type": "code",
   "execution_count": 16,
   "id": "0c11b99c",
   "metadata": {},
   "outputs": [
    {
     "data": {
      "text/html": [
       "<div>\n",
       "<style scoped>\n",
       "    .dataframe tbody tr th:only-of-type {\n",
       "        vertical-align: middle;\n",
       "    }\n",
       "\n",
       "    .dataframe tbody tr th {\n",
       "        vertical-align: top;\n",
       "    }\n",
       "\n",
       "    .dataframe thead tr th {\n",
       "        text-align: left;\n",
       "    }\n",
       "</style>\n",
       "<table border=\"1\" class=\"dataframe\">\n",
       "  <thead>\n",
       "    <tr>\n",
       "      <th></th>\n",
       "      <th>t</th>\n",
       "      <th>t + 1</th>\n",
       "    </tr>\n",
       "  </thead>\n",
       "  <tbody>\n",
       "    <tr>\n",
       "      <th>7</th>\n",
       "      <td>80</td>\n",
       "      <td>90.0</td>\n",
       "    </tr>\n",
       "  </tbody>\n",
       "</table>\n",
       "</div>"
      ],
      "text/plain": [
       "    t t + 1\n",
       "7  80  90.0"
      ]
     },
     "execution_count": 16,
     "metadata": {},
     "output_type": "execute_result"
    }
   ],
   "source": [
    "predict_y_test_df = converted_seq_df.iloc[[-1], -output_size:]\n",
    "predict_y_test_df"
   ]
  },
  {
   "cell_type": "markdown",
   "id": "2f31c65e",
   "metadata": {},
   "source": [
    "# Book's implementation\n",
    "- Keras"
   ]
  },
  {
   "cell_type": "markdown",
   "id": "d83c3248",
   "metadata": {},
   "source": [
    "## Forecast model"
   ]
  },
  {
   "cell_type": "code",
   "execution_count": 17,
   "id": "2586bf77",
   "metadata": {},
   "outputs": [
    {
     "name": "stderr",
     "output_type": "stream",
     "text": [
      "2024-07-13 19:26:51.304405: I tensorflow/core/platform/cpu_feature_guard.cc:193] This TensorFlow binary is optimized with oneAPI Deep Neural Network Library (oneDNN) to use the following CPU instructions in performance-critical operations:  SSE4.1 SSE4.2 AVX AVX2 FMA\n",
      "To enable them in other operations, rebuild TensorFlow with the appropriate compiler flags.\n",
      "2024-07-13 19:26:58.971041: I tensorflow/core/platform/cpu_feature_guard.cc:193] This TensorFlow binary is optimized with oneAPI Deep Neural Network Library (oneDNN) to use the following CPU instructions in performance-critical operations:  SSE4.1 SSE4.2 AVX AVX2 FMA\n",
      "To enable them in other operations, rebuild TensorFlow with the appropriate compiler flags.\n"
     ]
    }
   ],
   "source": [
    "from keras.models import Sequential \n",
    "from keras.layers import Dense\n",
    "\n",
    "forecast_model = Sequential() \n",
    "forecast_model.add(Dense(100, activation='relu' , input_dim=n_steps)) \n",
    "forecast_model.add(Dense(output_size)) \n",
    "forecast_model.compile(optimizer='adam' , loss='mse') \n",
    "\n",
    "predict_model = Sequential() \n",
    "predict_model.add(Dense(100, activation='relu' , input_dim=n_steps)) \n",
    "predict_model.add(Dense(output_size)) \n",
    "predict_model.compile(optimizer='adam' , loss='mse') "
   ]
  },
  {
   "cell_type": "code",
   "execution_count": 18,
   "id": "1a7c14ec",
   "metadata": {},
   "outputs": [
    {
     "data": {
      "text/plain": [
       "<keras.callbacks.History at 0x199ab60d0>"
      ]
     },
     "execution_count": 18,
     "metadata": {},
     "output_type": "execute_result"
    }
   ],
   "source": [
    "# fit model \n",
    "forecast_model.fit(forecast_X_train_df, forecast_y_train_df, epochs=2000, verbose=0)"
   ]
  },
  {
   "cell_type": "code",
   "execution_count": 19,
   "id": "e475fd67",
   "metadata": {},
   "outputs": [
    {
     "data": {
      "text/plain": [
       "(array([[70., 80., 90.]]), 1)"
      ]
     },
     "execution_count": 19,
     "metadata": {},
     "output_type": "execute_result"
    }
   ],
   "source": [
    "forecast_X_test = np.array(forecast_X_test_df)\n",
    "forecast_X_test, forecast_X_test.shape[0]"
   ]
  },
  {
   "cell_type": "code",
   "execution_count": 20,
   "id": "90b9f8d6",
   "metadata": {},
   "outputs": [
    {
     "data": {
      "text/plain": [
       "array([[70., 80., 90.]])"
      ]
     },
     "execution_count": 20,
     "metadata": {},
     "output_type": "execute_result"
    }
   ],
   "source": [
    "X_test = forecast_X_test.reshape((forecast_X_test.shape[0]), n_steps)\n",
    "X_test"
   ]
  },
  {
   "cell_type": "code",
   "execution_count": 21,
   "id": "5a0262d6",
   "metadata": {},
   "outputs": [
    {
     "data": {
      "text/plain": [
       "array([[104.40981, 115.59957]], dtype=float32)"
      ]
     },
     "execution_count": 21,
     "metadata": {},
     "output_type": "execute_result"
    }
   ],
   "source": [
    "forecasts = forecast_model.predict(X_test, verbose=0)\n",
    "forecasts"
   ]
  },
  {
   "cell_type": "markdown",
   "id": "524ff7db",
   "metadata": {},
   "source": [
    "## Predict model"
   ]
  },
  {
   "cell_type": "code",
   "execution_count": 22,
   "id": "a17a48c1",
   "metadata": {},
   "outputs": [
    {
     "data": {
      "text/plain": [
       "<keras.callbacks.History at 0x19a259430>"
      ]
     },
     "execution_count": 22,
     "metadata": {},
     "output_type": "execute_result"
    }
   ],
   "source": [
    "predict_model.fit(predict_X_train_df, predict_y_train_df, epochs=20, verbose=0)"
   ]
  },
  {
   "cell_type": "code",
   "execution_count": 23,
   "id": "aea502e5",
   "metadata": {},
   "outputs": [
    {
     "data": {
      "text/plain": [
       "(array([[50., 60., 70.]]), 1)"
      ]
     },
     "execution_count": 23,
     "metadata": {},
     "output_type": "execute_result"
    }
   ],
   "source": [
    "predict_X_test = np.array(predict_X_test_df)\n",
    "predict_X_test, predict_X_test.shape[0]"
   ]
  },
  {
   "cell_type": "code",
   "execution_count": 24,
   "id": "ece813e7",
   "metadata": {},
   "outputs": [
    {
     "data": {
      "text/plain": [
       "array([[70., 80., 90.]])"
      ]
     },
     "execution_count": 24,
     "metadata": {},
     "output_type": "execute_result"
    }
   ],
   "source": [
    "predict_X_test = forecast_X_test.reshape((predict_X_test.shape[0]), n_steps)\n",
    "predict_X_test"
   ]
  },
  {
   "cell_type": "code",
   "execution_count": 25,
   "id": "1cabd8d4",
   "metadata": {},
   "outputs": [
    {
     "data": {
      "text/plain": [
       "array([[25.472755, 45.740124]], dtype=float32)"
      ]
     },
     "execution_count": 25,
     "metadata": {},
     "output_type": "execute_result"
    }
   ],
   "source": [
    "book_model_predictions = predict_model.predict(predict_X_test, verbose=0)\n",
    "book_model_predictions"
   ]
  },
  {
   "cell_type": "code",
   "execution_count": 26,
   "id": "b7afabf3",
   "metadata": {},
   "outputs": [
    {
     "data": {
      "text/html": [
       "<div>\n",
       "<style scoped>\n",
       "    .dataframe tbody tr th:only-of-type {\n",
       "        vertical-align: middle;\n",
       "    }\n",
       "\n",
       "    .dataframe tbody tr th {\n",
       "        vertical-align: top;\n",
       "    }\n",
       "\n",
       "    .dataframe thead tr th {\n",
       "        text-align: left;\n",
       "    }\n",
       "</style>\n",
       "<table border=\"1\" class=\"dataframe\">\n",
       "  <thead>\n",
       "    <tr>\n",
       "      <th></th>\n",
       "      <th>t</th>\n",
       "      <th>t + 1</th>\n",
       "    </tr>\n",
       "  </thead>\n",
       "  <tbody>\n",
       "    <tr>\n",
       "      <th>7</th>\n",
       "      <td>80</td>\n",
       "      <td>90.0</td>\n",
       "    </tr>\n",
       "  </tbody>\n",
       "</table>\n",
       "</div>"
      ],
      "text/plain": [
       "    t t + 1\n",
       "7  80  90.0"
      ]
     },
     "execution_count": 26,
     "metadata": {},
     "output_type": "execute_result"
    }
   ],
   "source": [
    "predict_y_test_df"
   ]
  },
  {
   "cell_type": "code",
   "execution_count": 27,
   "id": "67322618",
   "metadata": {},
   "outputs": [
    {
     "name": "stdout",
     "output_type": "stream",
     "text": [
      "Test MSE: 2466.079\n"
     ]
    }
   ],
   "source": [
    "EvaluationMetric.eval_mse(predict_y_test_df, book_model_predictions, False)"
   ]
  },
  {
   "cell_type": "markdown",
   "id": "43ac988a",
   "metadata": {},
   "source": [
    "## My implementation\n",
    "\n",
    "- Using my TSLearn library\n",
    "\n",
    "### Prediction model\n",
    "\n",
    "- Interpolation of in sample values \n",
    "- Use `50, 60, 70`, so X_test\n",
    "- True predictions `80, 90`, so y_test\n",
    "\n",
    "### Forecast model\n",
    "\n",
    "- Extrapolation of future values `\n",
    "- Use `70, 80, 90`, so X_test\n",
    "- Expected `100, 110`. We say expected because we don't know the actual values, thus no y_test. Expected as in we increment by 10."
   ]
  },
  {
   "cell_type": "code",
   "execution_count": 28,
   "id": "c3c3df5c",
   "metadata": {},
   "outputs": [
    {
     "data": {
      "text/plain": [
       "MLP(\n",
       "  (fc1): Linear(in_features=3, out_features=100, bias=True)\n",
       "  (relu): ReLU()\n",
       "  (fc2): Linear(in_features=100, out_features=2, bias=True)\n",
       ")"
      ]
     },
     "execution_count": 28,
     "metadata": {},
     "output_type": "execute_result"
    }
   ],
   "source": [
    "hidden_size = 100\n",
    "\n",
    "mlp_predict_model = MLP(n_steps, hidden_size, output_size)\n",
    "mlp_predict_model"
   ]
  },
  {
   "cell_type": "code",
   "execution_count": 29,
   "id": "ffb43a43",
   "metadata": {},
   "outputs": [
    {
     "data": {
      "text/plain": [
       "MLP(\n",
       "  (fc1): Linear(in_features=3, out_features=100, bias=True)\n",
       "  (relu): ReLU()\n",
       "  (fc2): Linear(in_features=100, out_features=2, bias=True)\n",
       ")"
      ]
     },
     "execution_count": 29,
     "metadata": {},
     "output_type": "execute_result"
    }
   ],
   "source": [
    "mlp_forecast_model = MLP(n_steps, hidden_size, output_size)\n",
    "mlp_forecast_model"
   ]
  },
  {
   "cell_type": "code",
   "execution_count": 33,
   "id": "8559b466",
   "metadata": {},
   "outputs": [
    {
     "data": {
      "text/html": [
       "<div>\n",
       "<style scoped>\n",
       "    .dataframe tbody tr th:only-of-type {\n",
       "        vertical-align: middle;\n",
       "    }\n",
       "\n",
       "    .dataframe tbody tr th {\n",
       "        vertical-align: top;\n",
       "    }\n",
       "\n",
       "    .dataframe thead tr th {\n",
       "        text-align: left;\n",
       "    }\n",
       "</style>\n",
       "<table border=\"1\" class=\"dataframe\">\n",
       "  <thead>\n",
       "    <tr>\n",
       "      <th></th>\n",
       "      <th>t - 3</th>\n",
       "      <th>t - 2</th>\n",
       "      <th>t - 1</th>\n",
       "    </tr>\n",
       "  </thead>\n",
       "  <tbody>\n",
       "    <tr>\n",
       "      <th>3</th>\n",
       "      <td>10.0</td>\n",
       "      <td>20.0</td>\n",
       "      <td>30.0</td>\n",
       "    </tr>\n",
       "    <tr>\n",
       "      <th>4</th>\n",
       "      <td>20.0</td>\n",
       "      <td>30.0</td>\n",
       "      <td>40.0</td>\n",
       "    </tr>\n",
       "    <tr>\n",
       "      <th>5</th>\n",
       "      <td>30.0</td>\n",
       "      <td>40.0</td>\n",
       "      <td>50.0</td>\n",
       "    </tr>\n",
       "    <tr>\n",
       "      <th>6</th>\n",
       "      <td>40.0</td>\n",
       "      <td>50.0</td>\n",
       "      <td>60.0</td>\n",
       "    </tr>\n",
       "    <tr>\n",
       "      <th>7</th>\n",
       "      <td>50.0</td>\n",
       "      <td>60.0</td>\n",
       "      <td>70.0</td>\n",
       "    </tr>\n",
       "  </tbody>\n",
       "</table>\n",
       "</div>"
      ],
      "text/plain": [
       "  t - 3 t - 2 t - 1\n",
       "3  10.0  20.0  30.0\n",
       "4  20.0  30.0  40.0\n",
       "5  30.0  40.0  50.0\n",
       "6  40.0  50.0  60.0\n",
       "7  50.0  60.0  70.0"
      ]
     },
     "execution_count": 33,
     "metadata": {},
     "output_type": "execute_result"
    }
   ],
   "source": [
    "forecast_X_train_df"
   ]
  },
  {
   "cell_type": "code",
   "execution_count": 30,
   "id": "fcae1763",
   "metadata": {},
   "outputs": [
    {
     "name": "stderr",
     "output_type": "stream",
     "text": [
      "  2%|▏         | 41/2000 [00:00<00:28, 67.90it/s]"
     ]
    },
    {
     "name": "stdout",
     "output_type": "stream",
     "text": [
      "Epoch: 0\n",
      "    Predictions | Train loss: 4074.6533203125 | Test loss: 7711.736328125\n",
      "    Forecasts | Train loss: 4184.96533203125\n",
      "Epoch: 10\n",
      "    Predictions | Train loss: 2750.412841796875 | Test loss: 4833.4306640625\n",
      "    Forecasts | Train loss: 2617.53759765625\n",
      "Epoch: 20\n",
      "    Predictions | Train loss: 1705.462890625 | Test loss: 2662.55908203125\n",
      "    Forecasts | Train loss: 1431.9300537109375\n",
      "Epoch: 30\n",
      "    Predictions | Train loss: 932.5897216796875 | Test loss: 1178.873046875\n",
      "    Forecasts | Train loss: 640.198974609375\n",
      "Epoch: 40\n",
      "    Predictions | Train loss: 424.52294921875 | Test loss: 345.60784912109375\n",
      "    Forecasts | Train loss: 217.2648468017578\n",
      "Epoch: 50\n",
      "    Predictions | Train loss: 156.12008666992188 | Test loss: 41.828922271728516\n",
      "    Forecasts | Train loss: 70.5641860961914\n",
      "Epoch: 60\n",
      "    Predictions | Train loss: 59.31127166748047 | Test loss: 61.111392974853516\n",
      "    Forecasts | Train loss: 53.9788932800293\n",
      "Epoch: 70\n",
      "    Predictions | Train loss: 40.821510314941406 | Test loss: 150.7252960205078\n",
      "    Forecasts | Train loss: 57.16742706298828\n",
      "Epoch: 80\n",
      "    Predictions | Train loss: 39.34535217285156 | Test loss: 184.71917724609375\n",
      "    Forecasts | Train loss: 53.09492111206055\n"
     ]
    },
    {
     "name": "stderr",
     "output_type": "stream",
     "text": [
      "  8%|▊         | 163/2000 [00:01<00:07, 240.07it/s]"
     ]
    },
    {
     "name": "stdout",
     "output_type": "stream",
     "text": [
      "Epoch: 90\n",
      "    Predictions | Train loss: 37.87683868408203 | Test loss: 169.25387573242188\n",
      "    Forecasts | Train loss: 49.59619140625\n",
      "Epoch: 100\n",
      "    Predictions | Train loss: 36.436973571777344 | Test loss: 142.86160278320312\n",
      "    Forecasts | Train loss: 48.0103874206543\n",
      "Epoch: 110\n",
      "    Predictions | Train loss: 35.4530029296875 | Test loss: 124.86209106445312\n",
      "    Forecasts | Train loss: 46.95061492919922\n",
      "Epoch: 120\n",
      "    Predictions | Train loss: 34.63003158569336 | Test loss: 117.28349304199219\n",
      "    Forecasts | Train loss: 45.82170867919922\n",
      "Epoch: 130\n",
      "    Predictions | Train loss: 33.79766082763672 | Test loss: 115.53352355957031\n",
      "    Forecasts | Train loss: 44.69575119018555\n",
      "Epoch: 140\n",
      "    Predictions | Train loss: 32.89731216430664 | Test loss: 114.94806671142578\n",
      "    Forecasts | Train loss: 43.56767654418945\n",
      "Epoch: 150\n",
      "    Predictions | Train loss: 31.886093139648438 | Test loss: 113.35980224609375\n",
      "    Forecasts | Train loss: 42.42289733886719\n",
      "Epoch: 160\n",
      "    Predictions | Train loss: 30.790496826171875 | Test loss: 110.53084564208984\n",
      "    Forecasts | Train loss: 41.26676940917969\n",
      "Epoch: 170\n",
      "    Predictions | Train loss: 29.743839263916016 | Test loss: 106.67805480957031\n",
      "    Forecasts | Train loss: 40.09967803955078\n"
     ]
    },
    {
     "name": "stderr",
     "output_type": "stream",
     "text": [
      " 12%|█▏        | 242/2000 [00:01<00:05, 308.20it/s]"
     ]
    },
    {
     "name": "stdout",
     "output_type": "stream",
     "text": [
      "Epoch: 180\n",
      "    Predictions | Train loss: 28.793899536132812 | Test loss: 102.15785217285156\n",
      "    Forecasts | Train loss: 38.92212677001953\n",
      "Epoch: 190\n",
      "    Predictions | Train loss: 27.825899124145508 | Test loss: 97.94282531738281\n",
      "    Forecasts | Train loss: 37.73595428466797\n",
      "Epoch: 200\n",
      "    Predictions | Train loss: 26.853010177612305 | Test loss: 94.63165283203125\n",
      "    Forecasts | Train loss: 36.552276611328125\n",
      "Epoch: 210\n",
      "    Predictions | Train loss: 25.87710189819336 | Test loss: 92.06838989257812\n",
      "    Forecasts | Train loss: 35.364967346191406\n",
      "Epoch: 220\n",
      "    Predictions | Train loss: 24.899633407592773 | Test loss: 89.8353500366211\n",
      "    Forecasts | Train loss: 34.174190521240234\n",
      "Epoch: 230\n",
      "    Predictions | Train loss: 23.932926177978516 | Test loss: 87.58013916015625\n",
      "    Forecasts | Train loss: 32.98933029174805\n",
      "Epoch: 240\n",
      "    Predictions | Train loss: 22.966880798339844 | Test loss: 84.68968200683594\n",
      "    Forecasts | Train loss: 31.802066802978516\n",
      "Epoch: 250\n",
      "    Predictions | Train loss: 22.014650344848633 | Test loss: 81.5238037109375\n",
      "    Forecasts | Train loss: 30.62737464904785\n"
     ]
    },
    {
     "name": "stderr",
     "output_type": "stream",
     "text": [
      " 16%|█▌        | 323/2000 [00:01<00:04, 351.99it/s]"
     ]
    },
    {
     "name": "stdout",
     "output_type": "stream",
     "text": [
      "Epoch: 260\n",
      "    Predictions | Train loss: 21.058284759521484 | Test loss: 78.17987060546875\n",
      "    Forecasts | Train loss: 29.470529556274414\n",
      "Epoch: 270\n",
      "    Predictions | Train loss: 20.11330795288086 | Test loss: 75.32443237304688\n",
      "    Forecasts | Train loss: 28.31842041015625\n",
      "Epoch: 280\n",
      "    Predictions | Train loss: 19.181358337402344 | Test loss: 72.55296325683594\n",
      "    Forecasts | Train loss: 27.179141998291016\n",
      "Epoch: 290\n",
      "    Predictions | Train loss: 18.258710861206055 | Test loss: 69.65547180175781\n",
      "    Forecasts | Train loss: 26.053409576416016\n",
      "Epoch: 300\n",
      "    Predictions | Train loss: 17.35027503967285 | Test loss: 66.74482727050781\n",
      "    Forecasts | Train loss: 24.944257736206055\n",
      "Epoch: 310\n",
      "    Predictions | Train loss: 16.455774307250977 | Test loss: 63.84687042236328\n",
      "    Forecasts | Train loss: 23.839412689208984\n",
      "Epoch: 320\n",
      "    Predictions | Train loss: 15.577291488647461 | Test loss: 61.00595474243164\n",
      "    Forecasts | Train loss: 22.757137298583984\n",
      "Epoch: 330\n",
      "    Predictions | Train loss: 14.718477249145508 | Test loss: 58.20838165283203\n",
      "    Forecasts | Train loss: 21.690570831298828\n",
      "Epoch: 340\n",
      "    Predictions | Train loss: 13.880675315856934 | Test loss: 55.522743225097656\n",
      "    Forecasts | Train loss: 20.65055274963379\n"
     ]
    },
    {
     "name": "stderr",
     "output_type": "stream",
     "text": [
      " 20%|██        | 405/2000 [00:01<00:04, 375.85it/s]"
     ]
    },
    {
     "name": "stdout",
     "output_type": "stream",
     "text": [
      "Epoch: 350\n",
      "    Predictions | Train loss: 13.064631462097168 | Test loss: 52.86140441894531\n",
      "    Forecasts | Train loss: 19.625513076782227\n",
      "Epoch: 360\n",
      "    Predictions | Train loss: 12.269533157348633 | Test loss: 50.235816955566406\n",
      "    Forecasts | Train loss: 18.62664031982422\n",
      "Epoch: 370\n",
      "    Predictions | Train loss: 11.499849319458008 | Test loss: 47.753570556640625\n",
      "    Forecasts | Train loss: 17.653675079345703\n",
      "Epoch: 380\n",
      "    Predictions | Train loss: 10.758404731750488 | Test loss: 45.30643844604492\n",
      "    Forecasts | Train loss: 16.698932647705078\n",
      "Epoch: 390\n",
      "    Predictions | Train loss: 10.041655540466309 | Test loss: 42.9370231628418\n",
      "    Forecasts | Train loss: 15.779154777526855\n",
      "Epoch: 400\n",
      "    Predictions | Train loss: 9.351503372192383 | Test loss: 40.62732696533203\n",
      "    Forecasts | Train loss: 14.880027770996094\n",
      "Epoch: 410\n",
      "    Predictions | Train loss: 8.6897554397583 | Test loss: 38.30636978149414\n",
      "    Forecasts | Train loss: 14.012855529785156\n",
      "Epoch: 420\n",
      "    Predictions | Train loss: 8.058241844177246 | Test loss: 36.24124526977539\n",
      "    Forecasts | Train loss: 13.175374984741211\n",
      "Epoch: 430\n",
      "    Predictions | Train loss: 7.454395294189453 | Test loss: 34.21256637573242\n",
      "    Forecasts | Train loss: 12.36327838897705\n"
     ]
    },
    {
     "name": "stderr",
     "output_type": "stream",
     "text": [
      " 24%|██▍       | 485/2000 [00:01<00:03, 385.53it/s]"
     ]
    },
    {
     "name": "stdout",
     "output_type": "stream",
     "text": [
      "Epoch: 440\n",
      "    Predictions | Train loss: 6.879201889038086 | Test loss: 32.14448165893555\n",
      "    Forecasts | Train loss: 11.586977005004883\n",
      "Epoch: 450\n",
      "    Predictions | Train loss: 6.336297988891602 | Test loss: 30.30518341064453\n",
      "    Forecasts | Train loss: 10.834024429321289\n",
      "Epoch: 460\n",
      "    Predictions | Train loss: 5.820835590362549 | Test loss: 28.525060653686523\n",
      "    Forecasts | Train loss: 10.119241714477539\n",
      "Epoch: 470\n",
      "    Predictions | Train loss: 5.334562301635742 | Test loss: 26.74346923828125\n",
      "    Forecasts | Train loss: 9.436281204223633\n",
      "Epoch: 480\n",
      "    Predictions | Train loss: 4.8796067237854 | Test loss: 25.12923812866211\n",
      "    Forecasts | Train loss: 8.77613353729248\n",
      "Epoch: 490\n",
      "    Predictions | Train loss: 4.4505510330200195 | Test loss: 23.587554931640625\n",
      "    Forecasts | Train loss: 8.148921966552734\n",
      "Epoch: 500\n",
      "    Predictions | Train loss: 4.050883769989014 | Test loss: 22.104421615600586\n",
      "    Forecasts | Train loss: 7.55746603012085\n",
      "Epoch: 510\n",
      "    Predictions | Train loss: 3.6791093349456787 | Test loss: 20.910316467285156\n",
      "    Forecasts | Train loss: 6.992734432220459\n",
      "Epoch: 520\n",
      "    Predictions | Train loss: 3.3339662551879883 | Test loss: 19.857948303222656\n",
      "    Forecasts | Train loss: 6.462248802185059\n"
     ]
    },
    {
     "name": "stderr",
     "output_type": "stream",
     "text": [
      " 30%|███       | 609/2000 [00:02<00:03, 402.23it/s]"
     ]
    },
    {
     "name": "stdout",
     "output_type": "stream",
     "text": [
      "Epoch: 530\n",
      "    Predictions | Train loss: 3.0120530128479004 | Test loss: 18.90679931640625\n",
      "    Forecasts | Train loss: 5.9579596519470215\n",
      "Epoch: 540\n",
      "    Predictions | Train loss: 2.716090202331543 | Test loss: 18.021020889282227\n",
      "    Forecasts | Train loss: 5.487274646759033\n",
      "Epoch: 550\n",
      "    Predictions | Train loss: 2.4428882598876953 | Test loss: 17.10931396484375\n",
      "    Forecasts | Train loss: 5.040675163269043\n",
      "Epoch: 560\n",
      "    Predictions | Train loss: 2.193622589111328 | Test loss: 16.381338119506836\n",
      "    Forecasts | Train loss: 4.627192497253418\n",
      "Epoch: 570\n",
      "    Predictions | Train loss: 1.9659159183502197 | Test loss: 15.587031364440918\n",
      "    Forecasts | Train loss: 4.244229316711426\n",
      "Epoch: 580\n",
      "    Predictions | Train loss: 1.7552858591079712 | Test loss: 14.896323204040527\n",
      "    Forecasts | Train loss: 3.8931422233581543\n",
      "Epoch: 590\n",
      "    Predictions | Train loss: 1.5648865699768066 | Test loss: 14.2518892288208\n",
      "    Forecasts | Train loss: 3.562903881072998\n",
      "Epoch: 600\n",
      "    Predictions | Train loss: 1.3922390937805176 | Test loss: 13.584114074707031\n",
      "    Forecasts | Train loss: 3.2588183879852295\n",
      "Epoch: 610\n",
      "    Predictions | Train loss: 1.23664128780365 | Test loss: 13.049419403076172\n",
      "    Forecasts | Train loss: 2.9739387035369873\n"
     ]
    },
    {
     "name": "stderr",
     "output_type": "stream",
     "text": [
      " 35%|███▍      | 692/2000 [00:02<00:03, 405.90it/s]"
     ]
    },
    {
     "name": "stdout",
     "output_type": "stream",
     "text": [
      "Epoch: 620\n",
      "    Predictions | Train loss: 1.095155119895935 | Test loss: 12.45294189453125\n",
      "    Forecasts | Train loss: 2.7127785682678223\n",
      "Epoch: 630\n",
      "    Predictions | Train loss: 0.9689192175865173 | Test loss: 11.967727661132812\n",
      "    Forecasts | Train loss: 2.4684863090515137\n",
      "Epoch: 640\n",
      "    Predictions | Train loss: 0.8546534180641174 | Test loss: 11.493032455444336\n",
      "    Forecasts | Train loss: 2.2459053993225098\n",
      "Epoch: 650\n",
      "    Predictions | Train loss: 0.7530642747879028 | Test loss: 11.0466947555542\n",
      "    Forecasts | Train loss: 2.038877010345459\n",
      "Epoch: 660\n",
      "    Predictions | Train loss: 0.6621354222297668 | Test loss: 10.65091323852539\n",
      "    Forecasts | Train loss: 1.8505827188491821\n",
      "Epoch: 670\n",
      "    Predictions | Train loss: 0.5809521675109863 | Test loss: 10.225737571716309\n",
      "    Forecasts | Train loss: 1.6757137775421143\n",
      "Epoch: 680\n",
      "    Predictions | Train loss: 0.509249746799469 | Test loss: 9.92406940460205\n",
      "    Forecasts | Train loss: 1.5154063701629639\n",
      "Epoch: 690\n",
      "    Predictions | Train loss: 0.44510072469711304 | Test loss: 9.544081687927246\n",
      "    Forecasts | Train loss: 1.3692777156829834\n",
      "Epoch: 700\n",
      "    Predictions | Train loss: 0.3888753652572632 | Test loss: 9.281070709228516\n",
      "    Forecasts | Train loss: 1.2362228631973267\n"
     ]
    },
    {
     "name": "stderr",
     "output_type": "stream",
     "text": [
      " 39%|███▊      | 774/2000 [00:02<00:03, 407.31it/s]"
     ]
    },
    {
     "name": "stdout",
     "output_type": "stream",
     "text": [
      "Epoch: 710\n",
      "    Predictions | Train loss: 0.33915892243385315 | Test loss: 8.97273063659668\n",
      "    Forecasts | Train loss: 1.115315556526184\n",
      "Epoch: 720\n",
      "    Predictions | Train loss: 0.2951684296131134 | Test loss: 8.696636199951172\n",
      "    Forecasts | Train loss: 1.0052847862243652\n",
      "Epoch: 730\n",
      "    Predictions | Train loss: 0.2566041350364685 | Test loss: 8.422572135925293\n",
      "    Forecasts | Train loss: 0.9044865369796753\n",
      "Epoch: 740\n",
      "    Predictions | Train loss: 0.22282731533050537 | Test loss: 8.212607383728027\n",
      "    Forecasts | Train loss: 0.8132799863815308\n",
      "Epoch: 750\n",
      "    Predictions | Train loss: 0.1932133138179779 | Test loss: 7.996518611907959\n",
      "    Forecasts | Train loss: 0.7298198342323303\n",
      "Epoch: 760\n",
      "    Predictions | Train loss: 0.1674254834651947 | Test loss: 7.820624351501465\n",
      "    Forecasts | Train loss: 0.6548075675964355\n",
      "Epoch: 770\n",
      "    Predictions | Train loss: 0.14477409422397614 | Test loss: 7.660475730895996\n",
      "    Forecasts | Train loss: 0.5856426954269409\n",
      "Epoch: 780\n",
      "    Predictions | Train loss: 0.12502223253250122 | Test loss: 7.499889373779297\n",
      "    Forecasts | Train loss: 0.5236698985099792\n",
      "Epoch: 790\n",
      "    Predictions | Train loss: 0.10791245102882385 | Test loss: 7.343174934387207\n",
      "    Forecasts | Train loss: 0.46739572286605835\n"
     ]
    },
    {
     "name": "stderr",
     "output_type": "stream",
     "text": [
      " 43%|████▎     | 857/2000 [00:02<00:02, 410.65it/s]"
     ]
    },
    {
     "name": "stdout",
     "output_type": "stream",
     "text": [
      "Epoch: 800\n",
      "    Predictions | Train loss: 0.09300696104764938 | Test loss: 7.2221479415893555\n",
      "    Forecasts | Train loss: 0.41712966561317444\n",
      "Epoch: 810\n",
      "    Predictions | Train loss: 0.08001087605953217 | Test loss: 7.107242584228516\n",
      "    Forecasts | Train loss: 0.371108740568161\n",
      "Epoch: 820\n",
      "    Predictions | Train loss: 0.06882023066282272 | Test loss: 7.001659393310547\n",
      "    Forecasts | Train loss: 0.32996755838394165\n",
      "Epoch: 830\n",
      "    Predictions | Train loss: 0.05913206934928894 | Test loss: 6.9016523361206055\n",
      "    Forecasts | Train loss: 0.2928878664970398\n",
      "Epoch: 840\n",
      "    Predictions | Train loss: 0.0507204569876194 | Test loss: 6.809441566467285\n",
      "    Forecasts | Train loss: 0.25985196232795715\n",
      "Epoch: 850\n",
      "    Predictions | Train loss: 0.043491117656230927 | Test loss: 6.724126815795898\n",
      "    Forecasts | Train loss: 0.23005786538124084\n",
      "Epoch: 860\n",
      "    Predictions | Train loss: 0.0372748002409935 | Test loss: 6.649641513824463\n",
      "    Forecasts | Train loss: 0.20340001583099365\n",
      "Epoch: 870\n",
      "    Predictions | Train loss: 0.031906966120004654 | Test loss: 6.576444149017334\n",
      "    Forecasts | Train loss: 0.17954009771347046\n",
      "Epoch: 880\n",
      "    Predictions | Train loss: 0.027297060936689377 | Test loss: 6.508275985717773\n",
      "    Forecasts | Train loss: 0.15836229920387268\n"
     ]
    },
    {
     "name": "stderr",
     "output_type": "stream",
     "text": [
      " 47%|████▋     | 940/2000 [00:03<00:02, 408.66it/s]"
     ]
    },
    {
     "name": "stdout",
     "output_type": "stream",
     "text": [
      "Epoch: 890\n",
      "    Predictions | Train loss: 0.02332872711122036 | Test loss: 6.449029922485352\n",
      "    Forecasts | Train loss: 0.13948151469230652\n",
      "Epoch: 900\n",
      "    Predictions | Train loss: 0.019942570477724075 | Test loss: 6.398982524871826\n",
      "    Forecasts | Train loss: 0.12263122946023941\n",
      "Epoch: 910\n",
      "    Predictions | Train loss: 0.017030073329806328 | Test loss: 6.348197937011719\n",
      "    Forecasts | Train loss: 0.10764239728450775\n",
      "Epoch: 920\n",
      "    Predictions | Train loss: 0.014550662599503994 | Test loss: 6.300602912902832\n",
      "    Forecasts | Train loss: 0.09440206736326218\n",
      "Epoch: 930\n",
      "    Predictions | Train loss: 0.012415408156812191 | Test loss: 6.2604265213012695\n",
      "    Forecasts | Train loss: 0.08270169794559479\n",
      "Epoch: 940\n",
      "    Predictions | Train loss: 0.010602863505482674 | Test loss: 6.223752498626709\n",
      "    Forecasts | Train loss: 0.07230361551046371\n",
      "Epoch: 950\n",
      "    Predictions | Train loss: 0.009056927636265755 | Test loss: 6.191226005554199\n",
      "    Forecasts | Train loss: 0.06313695758581161\n",
      "Epoch: 960\n",
      "    Predictions | Train loss: 0.007739029824733734 | Test loss: 6.159565448760986\n",
      "    Forecasts | Train loss: 0.055043645203113556\n",
      "Epoch: 970\n",
      "    Predictions | Train loss: 0.006619299296289682 | Test loss: 6.130932807922363\n",
      "    Forecasts | Train loss: 0.047955021262168884\n"
     ]
    },
    {
     "name": "stderr",
     "output_type": "stream",
     "text": [
      " 51%|█████     | 1022/2000 [00:03<00:02, 408.49it/s]"
     ]
    },
    {
     "name": "stdout",
     "output_type": "stream",
     "text": [
      "Epoch: 980\n",
      "    Predictions | Train loss: 0.005669281352311373 | Test loss: 6.104325294494629\n",
      "    Forecasts | Train loss: 0.041715703904628754\n",
      "Epoch: 990\n",
      "    Predictions | Train loss: 0.0048613036051392555 | Test loss: 6.080780506134033\n",
      "    Forecasts | Train loss: 0.036258965730667114\n",
      "Epoch: 1000\n",
      "    Predictions | Train loss: 0.004177028778940439 | Test loss: 6.059504508972168\n",
      "    Forecasts | Train loss: 0.031443726271390915\n",
      "Epoch: 1010\n",
      "    Predictions | Train loss: 0.0035983461420983076 | Test loss: 6.039910316467285\n",
      "    Forecasts | Train loss: 0.027257520705461502\n",
      "Epoch: 1020\n",
      "    Predictions | Train loss: 0.0031090148258954287 | Test loss: 6.0231218338012695\n",
      "    Forecasts | Train loss: 0.02358308434486389\n",
      "Epoch: 1030\n",
      "    Predictions | Train loss: 0.002694894792512059 | Test loss: 6.0078630447387695\n",
      "    Forecasts | Train loss: 0.020383309572935104\n",
      "Epoch: 1040\n",
      "    Predictions | Train loss: 0.0023461878299713135 | Test loss: 5.992048263549805\n",
      "    Forecasts | Train loss: 0.017583144828677177\n",
      "Epoch: 1050\n",
      "    Predictions | Train loss: 0.002051670802757144 | Test loss: 5.977683067321777\n",
      "    Forecasts | Train loss: 0.01515878550708294\n",
      "Epoch: 1060\n",
      "    Predictions | Train loss: 0.0018041216535493731 | Test loss: 5.966570854187012\n",
      "    Forecasts | Train loss: 0.013043394312262535\n"
     ]
    },
    {
     "name": "stderr",
     "output_type": "stream",
     "text": [
      " 57%|█████▋    | 1146/2000 [00:03<00:02, 407.14it/s]"
     ]
    },
    {
     "name": "stdout",
     "output_type": "stream",
     "text": [
      "Epoch: 1070\n",
      "    Predictions | Train loss: 0.0015958592994138598 | Test loss: 5.957634925842285\n",
      "    Forecasts | Train loss: 0.01120575051754713\n",
      "Epoch: 1080\n",
      "    Predictions | Train loss: 0.0014193679671734571 | Test loss: 5.948855400085449\n",
      "    Forecasts | Train loss: 0.009619029238820076\n",
      "Epoch: 1090\n",
      "    Predictions | Train loss: 0.0012691458687186241 | Test loss: 5.942605018615723\n",
      "    Forecasts | Train loss: 0.008248626254498959\n",
      "Epoch: 1100\n",
      "    Predictions | Train loss: 0.0011405679397284985 | Test loss: 5.93868350982666\n",
      "    Forecasts | Train loss: 0.007057602517306805\n",
      "Epoch: 1110\n",
      "    Predictions | Train loss: 0.0010294041130691767 | Test loss: 5.936458587646484\n",
      "    Forecasts | Train loss: 0.006029700394719839\n",
      "Epoch: 1120\n",
      "    Predictions | Train loss: 0.000933003262616694 | Test loss: 5.936595916748047\n",
      "    Forecasts | Train loss: 0.005146989598870277\n",
      "Epoch: 1130\n",
      "    Predictions | Train loss: 0.0008493338245898485 | Test loss: 5.936818599700928\n",
      "    Forecasts | Train loss: 0.004390616901218891\n",
      "Epoch: 1140\n",
      "    Predictions | Train loss: 0.0007769568474031985 | Test loss: 5.936890602111816\n",
      "    Forecasts | Train loss: 0.0037354205269366503\n",
      "Epoch: 1150\n",
      "    Predictions | Train loss: 0.0007138000219129026 | Test loss: 5.936591625213623\n",
      "    Forecasts | Train loss: 0.0031739328987896442\n"
     ]
    },
    {
     "name": "stderr",
     "output_type": "stream",
     "text": [
      " 61%|██████▏   | 1229/2000 [00:03<00:01, 408.27it/s]"
     ]
    },
    {
     "name": "stdout",
     "output_type": "stream",
     "text": [
      "Epoch: 1160\n",
      "    Predictions | Train loss: 0.0006591663113795221 | Test loss: 5.93616247177124\n",
      "    Forecasts | Train loss: 0.0026944486889988184\n",
      "Epoch: 1170\n",
      "    Predictions | Train loss: 0.0006116688018664718 | Test loss: 5.935698509216309\n",
      "    Forecasts | Train loss: 0.002285757102072239\n",
      "Epoch: 1180\n",
      "    Predictions | Train loss: 0.0005703240167349577 | Test loss: 5.935351371765137\n",
      "    Forecasts | Train loss: 0.0019339567515999079\n",
      "Epoch: 1190\n",
      "    Predictions | Train loss: 0.0005352357402443886 | Test loss: 5.93507194519043\n",
      "    Forecasts | Train loss: 0.0016340201254934072\n",
      "Epoch: 1200\n",
      "    Predictions | Train loss: 0.0005053299246355891 | Test loss: 5.934911727905273\n",
      "    Forecasts | Train loss: 0.0013795619597658515\n",
      "Epoch: 1210\n",
      "    Predictions | Train loss: 0.00047914942842908204 | Test loss: 5.934785842895508\n",
      "    Forecasts | Train loss: 0.001163734938018024\n",
      "Epoch: 1220\n",
      "    Predictions | Train loss: 0.0004563144175335765 | Test loss: 5.93453311920166\n",
      "    Forecasts | Train loss: 0.000979290110990405\n",
      "Epoch: 1230\n",
      "    Predictions | Train loss: 0.00043640428339131176 | Test loss: 5.934349060058594\n",
      "    Forecasts | Train loss: 0.0008227283833548427\n",
      "Epoch: 1240\n",
      "    Predictions | Train loss: 0.0004187952436041087 | Test loss: 5.934125900268555\n",
      "    Forecasts | Train loss: 0.0006908654468134046\n"
     ]
    },
    {
     "name": "stderr",
     "output_type": "stream",
     "text": [
      " 66%|██████▌   | 1311/2000 [00:03<00:01, 405.45it/s]"
     ]
    },
    {
     "name": "stdout",
     "output_type": "stream",
     "text": [
      "Epoch: 1250\n",
      "    Predictions | Train loss: 0.00040339061524719 | Test loss: 5.933950424194336\n",
      "    Forecasts | Train loss: 0.000579171406570822\n",
      "Epoch: 1260\n",
      "    Predictions | Train loss: 0.0003899651928804815 | Test loss: 5.933720588684082\n",
      "    Forecasts | Train loss: 0.00048476867959834635\n",
      "Epoch: 1270\n",
      "    Predictions | Train loss: 0.00037817913107573986 | Test loss: 5.933579921722412\n",
      "    Forecasts | Train loss: 0.00040509141399525106\n",
      "Epoch: 1280\n",
      "    Predictions | Train loss: 0.0003679503861349076 | Test loss: 5.933420181274414\n",
      "    Forecasts | Train loss: 0.00033816759241744876\n",
      "Epoch: 1290\n",
      "    Predictions | Train loss: 0.0003589948173612356 | Test loss: 5.933233261108398\n",
      "    Forecasts | Train loss: 0.00028178669163025916\n",
      "Epoch: 1300\n",
      "    Predictions | Train loss: 0.0003511955146677792 | Test loss: 5.933110237121582\n",
      "    Forecasts | Train loss: 0.0002346094261156395\n",
      "Epoch: 1310\n",
      "    Predictions | Train loss: 0.0003443524765316397 | Test loss: 5.932926177978516\n",
      "    Forecasts | Train loss: 0.00019493568106554449\n",
      "Epoch: 1320\n",
      "    Predictions | Train loss: 0.00033836651709862053 | Test loss: 5.932788848876953\n",
      "    Forecasts | Train loss: 0.00016173739277292043\n",
      "Epoch: 1330\n",
      "    Predictions | Train loss: 0.00033312567393295467 | Test loss: 5.932623863220215\n",
      "    Forecasts | Train loss: 0.00013415003195405006\n"
     ]
    },
    {
     "name": "stderr",
     "output_type": "stream",
     "text": [
      " 70%|██████▉   | 1394/2000 [00:04<00:01, 408.38it/s]"
     ]
    },
    {
     "name": "stdout",
     "output_type": "stream",
     "text": [
      "Epoch: 1340\n",
      "    Predictions | Train loss: 0.0003285820712335408 | Test loss: 5.9325337409973145\n",
      "    Forecasts | Train loss: 0.00011094407818745822\n",
      "Epoch: 1350\n",
      "    Predictions | Train loss: 0.0003246006090193987 | Test loss: 5.932424545288086\n",
      "    Forecasts | Train loss: 9.168779070023447e-05\n",
      "Epoch: 1360\n",
      "    Predictions | Train loss: 0.00032119167735800147 | Test loss: 5.93230676651001\n",
      "    Forecasts | Train loss: 7.564318366348743e-05\n",
      "Epoch: 1370\n",
      "    Predictions | Train loss: 0.00031805821345187724 | Test loss: 5.932186126708984\n",
      "    Forecasts | Train loss: 6.229421705938876e-05\n",
      "Epoch: 1380\n",
      "    Predictions | Train loss: 0.0003154592704959214 | Test loss: 5.932074069976807\n",
      "    Forecasts | Train loss: 5.1260147301945835e-05\n",
      "Epoch: 1390\n",
      "    Predictions | Train loss: 0.000313091732095927 | Test loss: 5.931970596313477\n",
      "    Forecasts | Train loss: 4.2121042497456074e-05\n",
      "Epoch: 1400\n",
      "    Predictions | Train loss: 0.0003110873803962022 | Test loss: 5.931884765625\n",
      "    Forecasts | Train loss: 3.4544522350188345e-05\n",
      "Epoch: 1410\n",
      "    Predictions | Train loss: 0.00030934595270082355 | Test loss: 5.931790828704834\n",
      "    Forecasts | Train loss: 2.8314732844592072e-05\n",
      "Epoch: 1420\n",
      "    Predictions | Train loss: 0.0003076856955885887 | Test loss: 5.931660175323486\n",
      "    Forecasts | Train loss: 2.3144137230701745e-05\n"
     ]
    },
    {
     "name": "stderr",
     "output_type": "stream",
     "text": [
      " 74%|███████▍  | 1477/2000 [00:04<00:01, 402.98it/s]"
     ]
    },
    {
     "name": "stdout",
     "output_type": "stream",
     "text": [
      "Epoch: 1430\n",
      "    Predictions | Train loss: 0.0003062931355088949 | Test loss: 5.931574821472168\n",
      "    Forecasts | Train loss: 1.8892387743107975e-05\n",
      "Epoch: 1440\n",
      "    Predictions | Train loss: 0.0003050354134757072 | Test loss: 5.931465148925781\n",
      "    Forecasts | Train loss: 1.5428478945977986e-05\n",
      "Epoch: 1450\n",
      "    Predictions | Train loss: 0.00030388531740754843 | Test loss: 5.9313764572143555\n",
      "    Forecasts | Train loss: 1.2547288861242123e-05\n",
      "Epoch: 1460\n",
      "    Predictions | Train loss: 0.0003029317012988031 | Test loss: 5.931239128112793\n",
      "    Forecasts | Train loss: 1.0188179658143781e-05\n",
      "Epoch: 1470\n",
      "    Predictions | Train loss: 0.00030210596742108464 | Test loss: 5.931224822998047\n",
      "    Forecasts | Train loss: 8.287621312774718e-06\n",
      "Epoch: 1480\n",
      "    Predictions | Train loss: 0.00030126533238217235 | Test loss: 5.931112289428711\n",
      "    Forecasts | Train loss: 6.708863566018408e-06\n",
      "Epoch: 1490\n",
      "    Predictions | Train loss: 0.0003005456237588078 | Test loss: 5.931065559387207\n",
      "    Forecasts | Train loss: 5.417806278273929e-06\n",
      "Epoch: 1500\n",
      "    Predictions | Train loss: 0.0002998985000886023 | Test loss: 5.931002616882324\n",
      "    Forecasts | Train loss: 4.386582986626308e-06\n",
      "Epoch: 1510\n",
      "    Predictions | Train loss: 0.0002993313246406615 | Test loss: 5.930906295776367\n",
      "    Forecasts | Train loss: 3.535472160365316e-06\n"
     ]
    },
    {
     "name": "stderr",
     "output_type": "stream",
     "text": [
      " 80%|████████  | 1602/2000 [00:04<00:00, 409.42it/s]"
     ]
    },
    {
     "name": "stdout",
     "output_type": "stream",
     "text": [
      "Epoch: 1520\n",
      "    Predictions | Train loss: 0.0002988145570270717 | Test loss: 5.930814743041992\n",
      "    Forecasts | Train loss: 2.8414972348400624e-06\n",
      "Epoch: 1530\n",
      "    Predictions | Train loss: 0.00029823422664776444 | Test loss: 5.930764675140381\n",
      "    Forecasts | Train loss: 2.289096300955862e-06\n",
      "Epoch: 1540\n",
      "    Predictions | Train loss: 0.00029771641129627824 | Test loss: 5.930718421936035\n",
      "    Forecasts | Train loss: 1.8381761037744582e-06\n",
      "Epoch: 1550\n",
      "    Predictions | Train loss: 0.0002972815418615937 | Test loss: 5.930667877197266\n",
      "    Forecasts | Train loss: 1.4799850305280415e-06\n",
      "Epoch: 1560\n",
      "    Predictions | Train loss: 0.0002968228072859347 | Test loss: 5.930577278137207\n",
      "    Forecasts | Train loss: 1.1780560953411623e-06\n",
      "Epoch: 1570\n",
      "    Predictions | Train loss: 0.0002964175946544856 | Test loss: 5.930515289306641\n",
      "    Forecasts | Train loss: 9.407056609234132e-07\n",
      "Epoch: 1580\n",
      "    Predictions | Train loss: 0.00029605257441289723 | Test loss: 5.930403709411621\n",
      "    Forecasts | Train loss: 7.514623803217546e-07\n",
      "Epoch: 1590\n",
      "    Predictions | Train loss: 0.0002957358956336975 | Test loss: 5.93034553527832\n",
      "    Forecasts | Train loss: 5.98681822339131e-07\n",
      "Epoch: 1600\n",
      "    Predictions | Train loss: 0.00029539017123170197 | Test loss: 5.930274963378906\n",
      "    Forecasts | Train loss: 4.770990926772356e-07\n"
     ]
    },
    {
     "name": "stderr",
     "output_type": "stream",
     "text": [
      " 84%|████████▍ | 1684/2000 [00:04<00:00, 408.17it/s]"
     ]
    },
    {
     "name": "stdout",
     "output_type": "stream",
     "text": [
      "Epoch: 1610\n",
      "    Predictions | Train loss: 0.00029504921985790133 | Test loss: 5.930184364318848\n",
      "    Forecasts | Train loss: 3.7972057498336653e-07\n",
      "Epoch: 1620\n",
      "    Predictions | Train loss: 0.00029465905390679836 | Test loss: 5.930118560791016\n",
      "    Forecasts | Train loss: 3.0078081181272864e-07\n",
      "Epoch: 1630\n",
      "    Predictions | Train loss: 0.00029434970929287374 | Test loss: 5.930052757263184\n",
      "    Forecasts | Train loss: 2.3737229071230104e-07\n",
      "Epoch: 1640\n",
      "    Predictions | Train loss: 0.0002939584373962134 | Test loss: 5.929908752441406\n",
      "    Forecasts | Train loss: 1.895605237223208e-07\n",
      "Epoch: 1650\n",
      "    Predictions | Train loss: 0.0002936694072559476 | Test loss: 5.929867267608643\n",
      "    Forecasts | Train loss: 1.5062104807839205e-07\n",
      "Epoch: 1660\n",
      "    Predictions | Train loss: 0.0002933517098426819 | Test loss: 5.929821968078613\n",
      "    Forecasts | Train loss: 1.1768861440941691e-07\n",
      "Epoch: 1670\n",
      "    Predictions | Train loss: 0.0002930500195361674 | Test loss: 5.929739952087402\n",
      "    Forecasts | Train loss: 9.242212684057449e-08\n",
      "Epoch: 1680\n",
      "    Predictions | Train loss: 0.0002927607565652579 | Test loss: 5.929640769958496\n",
      "    Forecasts | Train loss: 7.289636272389544e-08\n",
      "Epoch: 1690\n",
      "    Predictions | Train loss: 0.00029240205185487866 | Test loss: 5.929546356201172\n",
      "    Forecasts | Train loss: 5.842593964189291e-08\n"
     ]
    },
    {
     "name": "stderr",
     "output_type": "stream",
     "text": [
      " 88%|████████▊ | 1767/2000 [00:05<00:00, 408.76it/s]"
     ]
    },
    {
     "name": "stdout",
     "output_type": "stream",
     "text": [
      "Epoch: 1700\n",
      "    Predictions | Train loss: 0.0002921119157690555 | Test loss: 5.929443359375\n",
      "    Forecasts | Train loss: 4.456815005937642e-08\n",
      "Epoch: 1710\n",
      "    Predictions | Train loss: 0.00029183353763073683 | Test loss: 5.9293904304504395\n",
      "    Forecasts | Train loss: 3.5588165303579444e-08\n",
      "Epoch: 1720\n",
      "    Predictions | Train loss: 0.0002915197401307523 | Test loss: 5.929333209991455\n",
      "    Forecasts | Train loss: 2.742599392036027e-08\n",
      "Epoch: 1730\n",
      "    Predictions | Train loss: 0.0002911713672801852 | Test loss: 5.92925500869751\n",
      "    Forecasts | Train loss: 2.134911447626564e-08\n",
      "Epoch: 1740\n",
      "    Predictions | Train loss: 0.00029085107962600887 | Test loss: 5.929193496704102\n",
      "    Forecasts | Train loss: 1.7006822616849604e-08\n",
      "Epoch: 1750\n",
      "    Predictions | Train loss: 0.00029053157777525485 | Test loss: 5.929119110107422\n",
      "    Forecasts | Train loss: 1.3441604274078145e-08\n",
      "Epoch: 1760\n",
      "    Predictions | Train loss: 0.0002902705455198884 | Test loss: 5.929066181182861\n",
      "    Forecasts | Train loss: 1.0916846981956496e-08\n",
      "Epoch: 1770\n",
      "    Predictions | Train loss: 0.0002898943203035742 | Test loss: 5.92902946472168\n",
      "    Forecasts | Train loss: 8.429924314157233e-09\n"
     ]
    },
    {
     "name": "stderr",
     "output_type": "stream",
     "text": [
      " 92%|█████████▏| 1846/2000 [00:05<00:00, 365.29it/s]"
     ]
    },
    {
     "name": "stdout",
     "output_type": "stream",
     "text": [
      "Epoch: 1780\n",
      "    Predictions | Train loss: 0.0002896349469665438 | Test loss: 5.9289140701293945\n",
      "    Forecasts | Train loss: 6.670597851865523e-09\n",
      "Epoch: 1790\n",
      "    Predictions | Train loss: 0.00028927301173098385 | Test loss: 5.928824424743652\n",
      "    Forecasts | Train loss: 4.997127600603335e-09\n",
      "Epoch: 1800\n",
      "    Predictions | Train loss: 0.0002889659663196653 | Test loss: 5.928713321685791\n",
      "    Forecasts | Train loss: 4.160392474972241e-09\n",
      "Epoch: 1810\n",
      "    Predictions | Train loss: 0.00028868834488093853 | Test loss: 5.928635597229004\n",
      "    Forecasts | Train loss: 3.3222022910450733e-09\n",
      "Epoch: 1820\n",
      "    Predictions | Train loss: 0.00028839107835665345 | Test loss: 5.928602695465088\n",
      "    Forecasts | Train loss: 2.310844182673577e-09\n",
      "Epoch: 1830\n",
      "    Predictions | Train loss: 0.00028806066256947815 | Test loss: 5.928487777709961\n",
      "    Forecasts | Train loss: 1.8393621070700306e-09\n",
      "Epoch: 1840\n",
      "    Predictions | Train loss: 0.00028776456019841135 | Test loss: 5.928380966186523\n",
      "    Forecasts | Train loss: 1.4129909464699608e-09\n",
      "Epoch: 1850\n",
      "    Predictions | Train loss: 0.00028748164186254144 | Test loss: 5.928332328796387\n",
      "    Forecasts | Train loss: 1.1161318536068165e-09\n"
     ]
    },
    {
     "name": "stderr",
     "output_type": "stream",
     "text": [
      " 96%|█████████▋| 1929/2000 [00:05<00:00, 387.03it/s]"
     ]
    },
    {
     "name": "stdout",
     "output_type": "stream",
     "text": [
      "Epoch: 1860\n",
      "    Predictions | Train loss: 0.0002870742173399776 | Test loss: 5.9282379150390625\n",
      "    Forecasts | Train loss: 9.356881935929096e-10\n",
      "Epoch: 1870\n",
      "    Predictions | Train loss: 0.00028674627537839115 | Test loss: 5.928168296813965\n",
      "    Forecasts | Train loss: 7.392372824988058e-10\n",
      "Epoch: 1880\n",
      "    Predictions | Train loss: 0.00028645165730267763 | Test loss: 5.928094387054443\n",
      "    Forecasts | Train loss: 6.970367616432327e-10\n",
      "Epoch: 1890\n",
      "    Predictions | Train loss: 0.0002861756656784564 | Test loss: 5.928024768829346\n",
      "    Forecasts | Train loss: 6.344634817523342e-10\n",
      "Epoch: 1900\n",
      "    Predictions | Train loss: 0.00028577892226167023 | Test loss: 5.927955627441406\n",
      "    Forecasts | Train loss: 6.344634817523342e-10\n",
      "Epoch: 1910\n",
      "    Predictions | Train loss: 0.0002854835183825344 | Test loss: 5.927881240844727\n",
      "    Forecasts | Train loss: 5.937181302151373e-10\n",
      "Epoch: 1920\n",
      "    Predictions | Train loss: 0.000285144429653883 | Test loss: 5.927828311920166\n",
      "    Forecasts | Train loss: 5.675246939063072e-10\n",
      "Epoch: 1930\n",
      "    Predictions | Train loss: 0.0002848051371984184 | Test loss: 5.927799701690674\n",
      "    Forecasts | Train loss: 5.10772202311216e-10\n",
      "Epoch: 1940\n",
      "    Predictions | Train loss: 0.00028444838244467974 | Test loss: 5.927709579467773\n",
      "    Forecasts | Train loss: 5.340552999832937e-10\n"
     ]
    },
    {
     "name": "stderr",
     "output_type": "stream",
     "text": [
      "100%|██████████| 2000/2000 [00:05<00:00, 350.69it/s]"
     ]
    },
    {
     "name": "stdout",
     "output_type": "stream",
     "text": [
      "Epoch: 1950\n",
      "    Predictions | Train loss: 0.0002841119421645999 | Test loss: 5.92763614654541\n",
      "    Forecasts | Train loss: 5.384208634495735e-10\n",
      "Epoch: 1960\n",
      "    Predictions | Train loss: 0.00028382212622091174 | Test loss: 5.927603244781494\n",
      "    Forecasts | Train loss: 4.933099484460968e-10\n",
      "Epoch: 1970\n",
      "    Predictions | Train loss: 0.0002834461338352412 | Test loss: 5.927554130554199\n",
      "    Forecasts | Train loss: 4.481989779314688e-10\n",
      "Epoch: 1980\n",
      "    Predictions | Train loss: 0.00028320151614025235 | Test loss: 5.927480220794678\n",
      "    Forecasts | Train loss: 4.176399781563589e-10\n",
      "Epoch: 1990\n",
      "    Predictions | Train loss: 0.0002827921125572175 | Test loss: 5.927406311035156\n",
      "    Forecasts | Train loss: 4.3364706270310194e-10\n"
     ]
    },
    {
     "name": "stderr",
     "output_type": "stream",
     "text": [
      "\n"
     ]
    }
   ],
   "source": [
    "# #times to loop through the training\n",
    "# Hyperparameter\n",
    "epochs = 2000\n",
    "criterion = nn.MSELoss()\n",
    "\n",
    "predict_optimizer = torch.optim.Adam(mlp_predict_model.parameters())\n",
    "predict_configs = [criterion, predict_optimizer]\n",
    "\n",
    "forecast_optimizer = torch.optim.Adam(mlp_forecast_model.parameters())\n",
    "forecast_configs = [criterion, forecast_optimizer]\n",
    "\n",
    "# Track different setups (ie: lr, etc) to compare this experiment to future experiments\n",
    "epoch_count = []\n",
    "train_pred_values = []\n",
    "test_pred_values = []\n",
    "\n",
    "predict_train_loss_values = []\n",
    "predict_test_loss_values = []\n",
    "\n",
    "forecast_train_loss_values = []\n",
    "forecast_test_loss_values = []\n",
    "\n",
    "### Training\n",
    "# 0. Loop through the training\n",
    "for epoch in tqdm(range(epochs)):\n",
    "\n",
    "    # In-Sample Prediction\n",
    "    train_predictions, predict_train_loss = mlp_predict_model.train_model(predict_X_train_df, predict_y_train_df, predict_configs)\n",
    "    test_predictions, predict_test_loss = mlp_predict_model.interpolate_predictions(predict_X_test_df, predict_y_test_df, predict_configs)\n",
    "    \n",
    "    # Out-Sample Forecasts\n",
    "    train_forecasts, forecast_train_loss = mlp_forecast_model.train_model(forecast_X_train_df, forecast_y_train_df, forecast_configs)\n",
    "    test_forecasts = mlp_forecast_model.extrapolate_forecasts(forecast_X_test_df)\n",
    "\n",
    "    if epoch % 10 == 0:\n",
    "        epoch_count.append(epoch)\n",
    "        print(f\"Epoch: {epoch}\")\n",
    "\n",
    "        print(f\"    Predictions | Train loss: {predict_train_loss} | Test loss: {predict_test_loss}\")\n",
    "        # print(f\"    Predictions Parameters: {mlp_predict_model.state_dict()}\")\n",
    "        predict_train_loss_values.append(predict_train_loss)\n",
    "        predict_test_loss_values.append(predict_test_loss)\n",
    "\n",
    "        print(f\"    Forecasts | Train loss: {forecast_train_loss}\")\n",
    "        # print(f\"    Forecasts Parameters: {mlp_forecast_model.state_dict()}\")\n",
    "        forecast_train_loss_values.append(forecast_train_loss)\n",
    "        # print()"
   ]
  },
  {
   "cell_type": "code",
   "execution_count": 31,
   "id": "7683feae",
   "metadata": {},
   "outputs": [
    {
     "name": "stdout",
     "output_type": "stream",
     "text": [
      "Test MSE: 5.927\n"
     ]
    }
   ],
   "source": [
    "EvaluationMetric.eval_mse(predict_y_test_df, test_predictions, False) # Matches Test MSE"
   ]
  },
  {
   "cell_type": "code",
   "execution_count": 32,
   "id": "51305f1f",
   "metadata": {},
   "outputs": [
    {
     "data": {
      "image/png": "[encoded data removed]",
      "text/plain": [
       "<Figure size 640x480 with 1 Axes>"
      ]
     },
     "metadata": {},
     "output_type": "display_data"
    }
   ],
   "source": [
    "# Plot the loss curves\n",
    "plt.plot(epoch_count, np.array(torch.tensor(predict_train_loss_values).numpy()), label=\"Predict train loss\")\n",
    "plt.plot(epoch_count, predict_test_loss_values, label=\"Predict test loss\")\n",
    "\n",
    "plt.plot(epoch_count, np.array(torch.tensor(forecast_train_loss_values).numpy()), label=\"Forecast train loss\")\n",
    "\n",
    "plt.title(\"Loss Curves\")\n",
    "plt.ylabel(\"Loss\")\n",
    "plt.xlabel(\"Epochs\")\n",
    "plt.legend();"
   ]
  },
  {
   "cell_type": "code",
   "execution_count": null,
   "id": "59c93aaa",
   "metadata": {},
   "outputs": [],
   "source": []
  }
 ],
 "metadata": {
  "kernelspec": {
   "display_name": "time_series",
   "language": "python",
   "name": "python3"
  },
  "language_info": {
   "codemirror_mode": {
    "name": "ipython",
    "version": 3
   },
   "file_extension": ".py",
   "mimetype": "text/x-python",
   "name": "python",
   "nbconvert_exporter": "python",
   "pygments_lexer": "ipython3",
   "version": "3.9.16"
  }
 },
 "nbformat": 4,
 "nbformat_minor": 5
}
