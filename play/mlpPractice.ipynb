{
 "cells": [
  {
   "cell_type": "markdown",
   "id": "a93950b4",
   "metadata": {},
   "source": [
    "# Multi Layer Perceptron Model\n",
    "\n",
    "- BOOK: [Predict the Future with MLPs, CNNs and LSTMs in Python](https://machinelearningmastery.com/deep-learning-for-time-series-forecasting/) by Jason Brownlee\n",
    "- NOTES: [TS -> ML split function](https://detraviousjbrinkley.notion.site/TS-ML-split-function-9ab51cbb49d244aa8b4ab434d009f8a7?pvs=4) by Detravious J.B. \n",
    "    - See for Forecast vs Prediction"
   ]
  },
  {
   "cell_type": "code",
   "execution_count": 1,
   "id": "b2335e75",
   "metadata": {},
   "outputs": [],
   "source": [
    "import os\n",
    "import sys\n",
    "import torch\n",
    "\n",
    "import numpy as np\n",
    "import pandas as pd\n",
    "\n",
    "import torch.nn as nn\n",
    "import matplotlib.pyplot as plt\n",
    "\n",
    "from tqdm import tqdm\n",
    "\n",
    "# Get the current working directory of the notebook\n",
    "notebook_dir = os.getcwd()\n",
    "\n",
    "# Add the parent directory to the system path\n",
    "sys.path.append(os.path.join(notebook_dir, '../framework_for_time_series_data/tslearn/'))\n",
    "from ml_models import MLP\n",
    "from ts_models import EvaluationMetric"
   ]
  },
  {
   "cell_type": "code",
   "execution_count": 2,
   "id": "f86d7f57",
   "metadata": {},
   "outputs": [],
   "source": [
    "observations = [10, 20, 30, 40, 50, 60, 70, 80, 90]"
   ]
  },
  {
   "cell_type": "markdown",
   "id": "45624d9b",
   "metadata": {},
   "source": [
    "# Book's implementation"
   ]
  },
  {
   "cell_type": "code",
   "execution_count": 3,
   "id": "f03ecb7b",
   "metadata": {},
   "outputs": [],
   "source": [
    "def split_sequence(sequence, n_steps_in, n_steps_out): \n",
    "    X, y = list(), list() \n",
    "    for i in range(len(sequence)): \n",
    "        # find the end of this pattern \n",
    "        end_ix = i + n_steps_in \n",
    "        out_end_ix = end_ix + n_steps_out \n",
    "        # check if we are beyond the sequence \n",
    "        if out_end_ix > len(sequence): \n",
    "            break\n",
    "        # gather input and output parts of the pattern \n",
    "        seq_x, seq_y = sequence[i:end_ix], sequence[end_ix:out_end_ix] \n",
    "        X.append(seq_x)\n",
    "        y.append(seq_y)\n",
    "    return np.array(X), np.array(y)"
   ]
  },
  {
   "cell_type": "code",
   "execution_count": 4,
   "id": "1dc84b3c",
   "metadata": {},
   "outputs": [],
   "source": [
    "X, y = split_sequence(observations, 3, 3)"
   ]
  },
  {
   "cell_type": "code",
   "execution_count": 5,
   "id": "a17514bc",
   "metadata": {},
   "outputs": [
    {
     "data": {
      "text/plain": [
       "array([[10, 20, 30],\n",
       "       [20, 30, 40],\n",
       "       [30, 40, 50],\n",
       "       [40, 50, 60]])"
      ]
     },
     "execution_count": 5,
     "metadata": {},
     "output_type": "execute_result"
    }
   ],
   "source": [
    "X"
   ]
  },
  {
   "cell_type": "code",
   "execution_count": 6,
   "id": "8d9dd5f7",
   "metadata": {},
   "outputs": [
    {
     "data": {
      "text/plain": [
       "array([[40, 50, 60],\n",
       "       [50, 60, 70],\n",
       "       [60, 70, 80],\n",
       "       [70, 80, 90]])"
      ]
     },
     "execution_count": 6,
     "metadata": {},
     "output_type": "execute_result"
    }
   ],
   "source": [
    "y"
   ]
  },
  {
   "cell_type": "markdown",
   "id": "08c0e431",
   "metadata": {},
   "source": [
    "# My implementation"
   ]
  },
  {
   "cell_type": "code",
   "execution_count": 7,
   "id": "8e506fd5",
   "metadata": {},
   "outputs": [],
   "source": [
    "def convert_uts_sequence_to_sml(uts_observations, prior_observations, forecasting_step):\n",
    "    \"\"\"Splits a given UTS into multiple input rows where each input row has a specified number of timestamps and the output is a single timestamp.\n",
    "    \n",
    "    Parameters:\n",
    "    uts_observations -- 1D np array (of UTS data to transform to SML data with size  b rows/length x 1 dimension)\n",
    "    prior_observations -- py int (of all observations before we get to where we want to start making the predictions)\n",
    "    forecasting_step -- py int (of how far out to forecast, 1 only the next timestamp, 2 the next two timestamps, ... n the next n timestamps)\n",
    "    \n",
    "    Return:\n",
    "    agg.values -- np array (of new sml data)\n",
    "    \"\"\"\n",
    "    \n",
    "    df = pd.DataFrame(uts_observations)\n",
    "    cols = list()\n",
    "    \n",
    "    lag_col_names = []\n",
    "    count_lag = 0\n",
    "    # input sequence (t-n, ... t-1)\n",
    "    for prior_observation in range(prior_observations, 0, -1):\n",
    "        # print(\"prior_observation: \", prior_observation)\n",
    "        cols.append(df.shift(prior_observation))\n",
    "        new_col_name = \"t - \" + str(prior_observation)\n",
    "        # print(new_col_name)\n",
    "        lag_col_names.append(new_col_name)\n",
    "        \n",
    "    \n",
    "    # forecast sequence (t, t+1, ... t+n)\n",
    "    for i in range(0, forecasting_step):\n",
    "        cols.append(df.shift(-i))\n",
    "        # print(f\"t + {i}\")\n",
    "        if i == 0:\n",
    "            new_col_name = f\"t\"\n",
    "        else:\n",
    "            new_col_name = f\"t + {i}\"\n",
    "        # print(new_col_name)\n",
    "        lag_col_names.append(new_col_name)\n",
    "        \n",
    "        # put it all together\n",
    "        uts_sml_df = pd.concat(cols, axis=1) \n",
    "        uts_sml_df.columns=[lag_col_names]\n",
    "        # drop rows with NaN values\n",
    "        uts_sml_df.dropna(inplace=True)\n",
    "    \n",
    "    # print(uts_sml_df)\n",
    "    \n",
    "    # colums to use to make prediction for last col\n",
    "    X_train = uts_sml_df.iloc[:, 0: -1]\n",
    "    \n",
    "    # last column\n",
    "    y_train = uts_sml_df.iloc[:, [-1]]\n",
    "    return uts_sml_df"
   ]
  },
  {
   "cell_type": "code",
   "execution_count": 8,
   "id": "6c1f6e7b",
   "metadata": {},
   "outputs": [],
   "source": [
    "n_steps = 3\n",
    "output_size = 2\n",
    "converted_seq_df = convert_uts_sequence_to_sml(observations, n_steps, output_size)"
   ]
  },
  {
   "cell_type": "code",
   "execution_count": 9,
   "id": "a9cf9a53",
   "metadata": {},
   "outputs": [
    {
     "data": {
      "text/html": [
       "<div>\n",
       "<style scoped>\n",
       "    .dataframe tbody tr th:only-of-type {\n",
       "        vertical-align: middle;\n",
       "    }\n",
       "\n",
       "    .dataframe tbody tr th {\n",
       "        vertical-align: top;\n",
       "    }\n",
       "\n",
       "    .dataframe thead tr th {\n",
       "        text-align: left;\n",
       "    }\n",
       "</style>\n",
       "<table border=\"1\" class=\"dataframe\">\n",
       "  <thead>\n",
       "    <tr>\n",
       "      <th></th>\n",
       "      <th>t - 3</th>\n",
       "      <th>t - 2</th>\n",
       "      <th>t - 1</th>\n",
       "      <th>t</th>\n",
       "      <th>t + 1</th>\n",
       "    </tr>\n",
       "  </thead>\n",
       "  <tbody>\n",
       "    <tr>\n",
       "      <th>3</th>\n",
       "      <td>10.0</td>\n",
       "      <td>20.0</td>\n",
       "      <td>30.0</td>\n",
       "      <td>40</td>\n",
       "      <td>50.0</td>\n",
       "    </tr>\n",
       "    <tr>\n",
       "      <th>4</th>\n",
       "      <td>20.0</td>\n",
       "      <td>30.0</td>\n",
       "      <td>40.0</td>\n",
       "      <td>50</td>\n",
       "      <td>60.0</td>\n",
       "    </tr>\n",
       "    <tr>\n",
       "      <th>5</th>\n",
       "      <td>30.0</td>\n",
       "      <td>40.0</td>\n",
       "      <td>50.0</td>\n",
       "      <td>60</td>\n",
       "      <td>70.0</td>\n",
       "    </tr>\n",
       "    <tr>\n",
       "      <th>6</th>\n",
       "      <td>40.0</td>\n",
       "      <td>50.0</td>\n",
       "      <td>60.0</td>\n",
       "      <td>70</td>\n",
       "      <td>80.0</td>\n",
       "    </tr>\n",
       "    <tr>\n",
       "      <th>7</th>\n",
       "      <td>50.0</td>\n",
       "      <td>60.0</td>\n",
       "      <td>70.0</td>\n",
       "      <td>80</td>\n",
       "      <td>90.0</td>\n",
       "    </tr>\n",
       "  </tbody>\n",
       "</table>\n",
       "</div>"
      ],
      "text/plain": [
       "  t - 3 t - 2 t - 1   t t + 1\n",
       "3  10.0  20.0  30.0  40  50.0\n",
       "4  20.0  30.0  40.0  50  60.0\n",
       "5  30.0  40.0  50.0  60  70.0\n",
       "6  40.0  50.0  60.0  70  80.0\n",
       "7  50.0  60.0  70.0  80  90.0"
      ]
     },
     "execution_count": 9,
     "metadata": {},
     "output_type": "execute_result"
    }
   ],
   "source": [
    "converted_seq_df"
   ]
  },
  {
   "cell_type": "code",
   "execution_count": 10,
   "id": "4216c4d8",
   "metadata": {},
   "outputs": [
    {
     "data": {
      "text/html": [
       "<div>\n",
       "<style scoped>\n",
       "    .dataframe tbody tr th:only-of-type {\n",
       "        vertical-align: middle;\n",
       "    }\n",
       "\n",
       "    .dataframe tbody tr th {\n",
       "        vertical-align: top;\n",
       "    }\n",
       "\n",
       "    .dataframe thead tr th {\n",
       "        text-align: left;\n",
       "    }\n",
       "</style>\n",
       "<table border=\"1\" class=\"dataframe\">\n",
       "  <thead>\n",
       "    <tr>\n",
       "      <th></th>\n",
       "      <th>t - 3</th>\n",
       "      <th>t - 2</th>\n",
       "      <th>t - 1</th>\n",
       "    </tr>\n",
       "  </thead>\n",
       "  <tbody>\n",
       "    <tr>\n",
       "      <th>3</th>\n",
       "      <td>10.0</td>\n",
       "      <td>20.0</td>\n",
       "      <td>30.0</td>\n",
       "    </tr>\n",
       "    <tr>\n",
       "      <th>4</th>\n",
       "      <td>20.0</td>\n",
       "      <td>30.0</td>\n",
       "      <td>40.0</td>\n",
       "    </tr>\n",
       "    <tr>\n",
       "      <th>5</th>\n",
       "      <td>30.0</td>\n",
       "      <td>40.0</td>\n",
       "      <td>50.0</td>\n",
       "    </tr>\n",
       "    <tr>\n",
       "      <th>6</th>\n",
       "      <td>40.0</td>\n",
       "      <td>50.0</td>\n",
       "      <td>60.0</td>\n",
       "    </tr>\n",
       "    <tr>\n",
       "      <th>7</th>\n",
       "      <td>50.0</td>\n",
       "      <td>60.0</td>\n",
       "      <td>70.0</td>\n",
       "    </tr>\n",
       "  </tbody>\n",
       "</table>\n",
       "</div>"
      ],
      "text/plain": [
       "  t - 3 t - 2 t - 1\n",
       "3  10.0  20.0  30.0\n",
       "4  20.0  30.0  40.0\n",
       "5  30.0  40.0  50.0\n",
       "6  40.0  50.0  60.0\n",
       "7  50.0  60.0  70.0"
      ]
     },
     "execution_count": 10,
     "metadata": {},
     "output_type": "execute_result"
    }
   ],
   "source": [
    "forecast_X_train_df = converted_seq_df.iloc[:, :n_steps]\n",
    "forecast_X_train_df"
   ]
  },
  {
   "cell_type": "code",
   "execution_count": 11,
   "id": "3030b03f",
   "metadata": {},
   "outputs": [
    {
     "data": {
      "text/html": [
       "<div>\n",
       "<style scoped>\n",
       "    .dataframe tbody tr th:only-of-type {\n",
       "        vertical-align: middle;\n",
       "    }\n",
       "\n",
       "    .dataframe tbody tr th {\n",
       "        vertical-align: top;\n",
       "    }\n",
       "\n",
       "    .dataframe thead tr th {\n",
       "        text-align: left;\n",
       "    }\n",
       "</style>\n",
       "<table border=\"1\" class=\"dataframe\">\n",
       "  <thead>\n",
       "    <tr>\n",
       "      <th></th>\n",
       "      <th>t</th>\n",
       "      <th>t + 1</th>\n",
       "    </tr>\n",
       "  </thead>\n",
       "  <tbody>\n",
       "    <tr>\n",
       "      <th>3</th>\n",
       "      <td>40</td>\n",
       "      <td>50.0</td>\n",
       "    </tr>\n",
       "    <tr>\n",
       "      <th>4</th>\n",
       "      <td>50</td>\n",
       "      <td>60.0</td>\n",
       "    </tr>\n",
       "    <tr>\n",
       "      <th>5</th>\n",
       "      <td>60</td>\n",
       "      <td>70.0</td>\n",
       "    </tr>\n",
       "    <tr>\n",
       "      <th>6</th>\n",
       "      <td>70</td>\n",
       "      <td>80.0</td>\n",
       "    </tr>\n",
       "    <tr>\n",
       "      <th>7</th>\n",
       "      <td>80</td>\n",
       "      <td>90.0</td>\n",
       "    </tr>\n",
       "  </tbody>\n",
       "</table>\n",
       "</div>"
      ],
      "text/plain": [
       "    t t + 1\n",
       "3  40  50.0\n",
       "4  50  60.0\n",
       "5  60  70.0\n",
       "6  70  80.0\n",
       "7  80  90.0"
      ]
     },
     "execution_count": 11,
     "metadata": {},
     "output_type": "execute_result"
    }
   ],
   "source": [
    "forecast_y_train_df = converted_seq_df.iloc[:, -output_size:]\n",
    "forecast_y_train_df"
   ]
  },
  {
   "cell_type": "code",
   "execution_count": 12,
   "id": "b13497cc",
   "metadata": {},
   "outputs": [
    {
     "data": {
      "text/html": [
       "<div>\n",
       "<style scoped>\n",
       "    .dataframe tbody tr th:only-of-type {\n",
       "        vertical-align: middle;\n",
       "    }\n",
       "\n",
       "    .dataframe tbody tr th {\n",
       "        vertical-align: top;\n",
       "    }\n",
       "\n",
       "    .dataframe thead tr th {\n",
       "        text-align: left;\n",
       "    }\n",
       "</style>\n",
       "<table border=\"1\" class=\"dataframe\">\n",
       "  <thead>\n",
       "    <tr>\n",
       "      <th></th>\n",
       "      <th>t - 1</th>\n",
       "      <th>t</th>\n",
       "      <th>t + 1</th>\n",
       "    </tr>\n",
       "  </thead>\n",
       "  <tbody>\n",
       "    <tr>\n",
       "      <th>7</th>\n",
       "      <td>70.0</td>\n",
       "      <td>80</td>\n",
       "      <td>90.0</td>\n",
       "    </tr>\n",
       "  </tbody>\n",
       "</table>\n",
       "</div>"
      ],
      "text/plain": [
       "  t - 1   t t + 1\n",
       "7  70.0  80  90.0"
      ]
     },
     "execution_count": 12,
     "metadata": {},
     "output_type": "execute_result"
    }
   ],
   "source": [
    "forecast_X_test_df = converted_seq_df.iloc[[-1], -n_steps:]\n",
    "forecast_X_test_df"
   ]
  },
  {
   "cell_type": "code",
   "execution_count": 13,
   "id": "42d3307d",
   "metadata": {},
   "outputs": [
    {
     "data": {
      "text/html": [
       "<div>\n",
       "<style scoped>\n",
       "    .dataframe tbody tr th:only-of-type {\n",
       "        vertical-align: middle;\n",
       "    }\n",
       "\n",
       "    .dataframe tbody tr th {\n",
       "        vertical-align: top;\n",
       "    }\n",
       "\n",
       "    .dataframe thead tr th {\n",
       "        text-align: left;\n",
       "    }\n",
       "</style>\n",
       "<table border=\"1\" class=\"dataframe\">\n",
       "  <thead>\n",
       "    <tr>\n",
       "      <th></th>\n",
       "      <th>t - 3</th>\n",
       "      <th>t - 2</th>\n",
       "      <th>t - 1</th>\n",
       "    </tr>\n",
       "  </thead>\n",
       "  <tbody>\n",
       "    <tr>\n",
       "      <th>3</th>\n",
       "      <td>10.0</td>\n",
       "      <td>20.0</td>\n",
       "      <td>30.0</td>\n",
       "    </tr>\n",
       "    <tr>\n",
       "      <th>4</th>\n",
       "      <td>20.0</td>\n",
       "      <td>30.0</td>\n",
       "      <td>40.0</td>\n",
       "    </tr>\n",
       "    <tr>\n",
       "      <th>5</th>\n",
       "      <td>30.0</td>\n",
       "      <td>40.0</td>\n",
       "      <td>50.0</td>\n",
       "    </tr>\n",
       "    <tr>\n",
       "      <th>6</th>\n",
       "      <td>40.0</td>\n",
       "      <td>50.0</td>\n",
       "      <td>60.0</td>\n",
       "    </tr>\n",
       "  </tbody>\n",
       "</table>\n",
       "</div>"
      ],
      "text/plain": [
       "  t - 3 t - 2 t - 1\n",
       "3  10.0  20.0  30.0\n",
       "4  20.0  30.0  40.0\n",
       "5  30.0  40.0  50.0\n",
       "6  40.0  50.0  60.0"
      ]
     },
     "execution_count": 13,
     "metadata": {},
     "output_type": "execute_result"
    }
   ],
   "source": [
    "predict_X_train_df = converted_seq_df.iloc[:-1, :n_steps]\n",
    "predict_X_train_df"
   ]
  },
  {
   "cell_type": "code",
   "execution_count": 14,
   "id": "0c2da8ca",
   "metadata": {},
   "outputs": [
    {
     "data": {
      "text/html": [
       "<div>\n",
       "<style scoped>\n",
       "    .dataframe tbody tr th:only-of-type {\n",
       "        vertical-align: middle;\n",
       "    }\n",
       "\n",
       "    .dataframe tbody tr th {\n",
       "        vertical-align: top;\n",
       "    }\n",
       "\n",
       "    .dataframe thead tr th {\n",
       "        text-align: left;\n",
       "    }\n",
       "</style>\n",
       "<table border=\"1\" class=\"dataframe\">\n",
       "  <thead>\n",
       "    <tr>\n",
       "      <th></th>\n",
       "      <th>t</th>\n",
       "      <th>t + 1</th>\n",
       "    </tr>\n",
       "  </thead>\n",
       "  <tbody>\n",
       "    <tr>\n",
       "      <th>3</th>\n",
       "      <td>40</td>\n",
       "      <td>50.0</td>\n",
       "    </tr>\n",
       "    <tr>\n",
       "      <th>4</th>\n",
       "      <td>50</td>\n",
       "      <td>60.0</td>\n",
       "    </tr>\n",
       "    <tr>\n",
       "      <th>5</th>\n",
       "      <td>60</td>\n",
       "      <td>70.0</td>\n",
       "    </tr>\n",
       "    <tr>\n",
       "      <th>6</th>\n",
       "      <td>70</td>\n",
       "      <td>80.0</td>\n",
       "    </tr>\n",
       "  </tbody>\n",
       "</table>\n",
       "</div>"
      ],
      "text/plain": [
       "    t t + 1\n",
       "3  40  50.0\n",
       "4  50  60.0\n",
       "5  60  70.0\n",
       "6  70  80.0"
      ]
     },
     "execution_count": 14,
     "metadata": {},
     "output_type": "execute_result"
    }
   ],
   "source": [
    "predict_y_train_df = converted_seq_df.iloc[:-1, -output_size:]\n",
    "predict_y_train_df"
   ]
  },
  {
   "cell_type": "code",
   "execution_count": 15,
   "id": "da43b0c9",
   "metadata": {},
   "outputs": [
    {
     "data": {
      "text/html": [
       "<div>\n",
       "<style scoped>\n",
       "    .dataframe tbody tr th:only-of-type {\n",
       "        vertical-align: middle;\n",
       "    }\n",
       "\n",
       "    .dataframe tbody tr th {\n",
       "        vertical-align: top;\n",
       "    }\n",
       "\n",
       "    .dataframe thead tr th {\n",
       "        text-align: left;\n",
       "    }\n",
       "</style>\n",
       "<table border=\"1\" class=\"dataframe\">\n",
       "  <thead>\n",
       "    <tr>\n",
       "      <th></th>\n",
       "      <th>t - 1</th>\n",
       "      <th>t</th>\n",
       "      <th>t + 1</th>\n",
       "    </tr>\n",
       "  </thead>\n",
       "  <tbody>\n",
       "    <tr>\n",
       "      <th>5</th>\n",
       "      <td>50.0</td>\n",
       "      <td>60</td>\n",
       "      <td>70.0</td>\n",
       "    </tr>\n",
       "  </tbody>\n",
       "</table>\n",
       "</div>"
      ],
      "text/plain": [
       "  t - 1   t t + 1\n",
       "5  50.0  60  70.0"
      ]
     },
     "execution_count": 15,
     "metadata": {},
     "output_type": "execute_result"
    }
   ],
   "source": [
    "predict_X_test_df = converted_seq_df.iloc[[-n_steps], -n_steps:]\n",
    "predict_X_test_df"
   ]
  },
  {
   "cell_type": "code",
   "execution_count": 16,
   "id": "0c11b99c",
   "metadata": {},
   "outputs": [
    {
     "data": {
      "text/html": [
       "<div>\n",
       "<style scoped>\n",
       "    .dataframe tbody tr th:only-of-type {\n",
       "        vertical-align: middle;\n",
       "    }\n",
       "\n",
       "    .dataframe tbody tr th {\n",
       "        vertical-align: top;\n",
       "    }\n",
       "\n",
       "    .dataframe thead tr th {\n",
       "        text-align: left;\n",
       "    }\n",
       "</style>\n",
       "<table border=\"1\" class=\"dataframe\">\n",
       "  <thead>\n",
       "    <tr>\n",
       "      <th></th>\n",
       "      <th>t</th>\n",
       "      <th>t + 1</th>\n",
       "    </tr>\n",
       "  </thead>\n",
       "  <tbody>\n",
       "    <tr>\n",
       "      <th>7</th>\n",
       "      <td>80</td>\n",
       "      <td>90.0</td>\n",
       "    </tr>\n",
       "  </tbody>\n",
       "</table>\n",
       "</div>"
      ],
      "text/plain": [
       "    t t + 1\n",
       "7  80  90.0"
      ]
     },
     "execution_count": 16,
     "metadata": {},
     "output_type": "execute_result"
    }
   ],
   "source": [
    "predict_y_test_df = converted_seq_df.iloc[[-1], -output_size:]\n",
    "predict_y_test_df"
   ]
  },
  {
   "cell_type": "markdown",
   "id": "2f31c65e",
   "metadata": {},
   "source": [
    "# Book's implementation\n",
    "- Keras"
   ]
  },
  {
   "cell_type": "markdown",
   "id": "d83c3248",
   "metadata": {},
   "source": [
    "## Forecast model"
   ]
  },
  {
   "cell_type": "code",
   "execution_count": 17,
   "id": "2586bf77",
   "metadata": {},
   "outputs": [
    {
     "name": "stderr",
     "output_type": "stream",
     "text": [
      "2024-06-30 07:15:03.399734: I tensorflow/core/platform/cpu_feature_guard.cc:193] This TensorFlow binary is optimized with oneAPI Deep Neural Network Library (oneDNN) to use the following CPU instructions in performance-critical operations:  SSE4.1 SSE4.2 AVX AVX2 FMA\n",
      "To enable them in other operations, rebuild TensorFlow with the appropriate compiler flags.\n",
      "2024-06-30 07:15:08.501692: I tensorflow/core/platform/cpu_feature_guard.cc:193] This TensorFlow binary is optimized with oneAPI Deep Neural Network Library (oneDNN) to use the following CPU instructions in performance-critical operations:  SSE4.1 SSE4.2 AVX AVX2 FMA\n",
      "To enable them in other operations, rebuild TensorFlow with the appropriate compiler flags.\n"
     ]
    }
   ],
   "source": [
    "from keras.models import Sequential \n",
    "from keras.layers import Dense\n",
    "\n",
    "forecast_model = Sequential() \n",
    "forecast_model.add(Dense(100, activation='relu' , input_dim=n_steps)) \n",
    "forecast_model.add(Dense(output_size)) \n",
    "forecast_model.compile(optimizer='adam' , loss='mse') \n",
    "\n",
    "predict_model = Sequential() \n",
    "predict_model.add(Dense(100, activation='relu' , input_dim=n_steps)) \n",
    "predict_model.add(Dense(output_size)) \n",
    "predict_model.compile(optimizer='adam' , loss='mse') "
   ]
  },
  {
   "cell_type": "code",
   "execution_count": 18,
   "id": "1a7c14ec",
   "metadata": {},
   "outputs": [
    {
     "data": {
      "text/plain": [
       "<keras.callbacks.History at 0x19dcd4130>"
      ]
     },
     "execution_count": 18,
     "metadata": {},
     "output_type": "execute_result"
    }
   ],
   "source": [
    "# fit model \n",
    "forecast_model.fit(forecast_X_train_df, forecast_y_train_df, epochs=2000, verbose=0)"
   ]
  },
  {
   "cell_type": "code",
   "execution_count": 19,
   "id": "e475fd67",
   "metadata": {},
   "outputs": [
    {
     "data": {
      "text/plain": [
       "(array([[70., 80., 90.]]), 1)"
      ]
     },
     "execution_count": 19,
     "metadata": {},
     "output_type": "execute_result"
    }
   ],
   "source": [
    "forecast_X_test = np.array(forecast_X_test_df)\n",
    "forecast_X_test, forecast_X_test.shape[0]"
   ]
  },
  {
   "cell_type": "code",
   "execution_count": 20,
   "id": "90b9f8d6",
   "metadata": {},
   "outputs": [
    {
     "data": {
      "text/plain": [
       "array([[70., 80., 90.]])"
      ]
     },
     "execution_count": 20,
     "metadata": {},
     "output_type": "execute_result"
    }
   ],
   "source": [
    "X_test = forecast_X_test.reshape((forecast_X_test.shape[0]), n_steps)\n",
    "X_test"
   ]
  },
  {
   "cell_type": "code",
   "execution_count": 21,
   "id": "5a0262d6",
   "metadata": {},
   "outputs": [
    {
     "data": {
      "text/plain": [
       "array([[102.74658 , 116.401215]], dtype=float32)"
      ]
     },
     "execution_count": 21,
     "metadata": {},
     "output_type": "execute_result"
    }
   ],
   "source": [
    "forecasts = forecast_model.predict(X_test, verbose=0)\n",
    "forecasts"
   ]
  },
  {
   "cell_type": "markdown",
   "id": "524ff7db",
   "metadata": {},
   "source": [
    "## Predict model"
   ]
  },
  {
   "cell_type": "code",
   "execution_count": 22,
   "id": "a17a48c1",
   "metadata": {},
   "outputs": [
    {
     "data": {
      "text/plain": [
       "<keras.callbacks.History at 0x19dde29a0>"
      ]
     },
     "execution_count": 22,
     "metadata": {},
     "output_type": "execute_result"
    }
   ],
   "source": [
    "predict_model.fit(predict_X_train_df, predict_y_train_df, epochs=20, verbose=0)"
   ]
  },
  {
   "cell_type": "code",
   "execution_count": 23,
   "id": "aea502e5",
   "metadata": {},
   "outputs": [
    {
     "data": {
      "text/plain": [
       "(array([[50., 60., 70.]]), 1)"
      ]
     },
     "execution_count": 23,
     "metadata": {},
     "output_type": "execute_result"
    }
   ],
   "source": [
    "predict_X_test = np.array(predict_X_test_df)\n",
    "predict_X_test, predict_X_test.shape[0]"
   ]
  },
  {
   "cell_type": "code",
   "execution_count": 24,
   "id": "ece813e7",
   "metadata": {},
   "outputs": [
    {
     "data": {
      "text/plain": [
       "array([[70., 80., 90.]])"
      ]
     },
     "execution_count": 24,
     "metadata": {},
     "output_type": "execute_result"
    }
   ],
   "source": [
    "predict_X_test = forecast_X_test.reshape((predict_X_test.shape[0]), n_steps)\n",
    "predict_X_test"
   ]
  },
  {
   "cell_type": "code",
   "execution_count": 25,
   "id": "1cabd8d4",
   "metadata": {},
   "outputs": [
    {
     "data": {
      "text/plain": [
       "array([[73.85715, 67.28449]], dtype=float32)"
      ]
     },
     "execution_count": 25,
     "metadata": {},
     "output_type": "execute_result"
    }
   ],
   "source": [
    "book_model_predictions = predict_model.predict(predict_X_test, verbose=0)\n",
    "book_model_predictions"
   ]
  },
  {
   "cell_type": "code",
   "execution_count": 26,
   "id": "b7afabf3",
   "metadata": {},
   "outputs": [
    {
     "data": {
      "text/html": [
       "<div>\n",
       "<style scoped>\n",
       "    .dataframe tbody tr th:only-of-type {\n",
       "        vertical-align: middle;\n",
       "    }\n",
       "\n",
       "    .dataframe tbody tr th {\n",
       "        vertical-align: top;\n",
       "    }\n",
       "\n",
       "    .dataframe thead tr th {\n",
       "        text-align: left;\n",
       "    }\n",
       "</style>\n",
       "<table border=\"1\" class=\"dataframe\">\n",
       "  <thead>\n",
       "    <tr>\n",
       "      <th></th>\n",
       "      <th>t</th>\n",
       "      <th>t + 1</th>\n",
       "    </tr>\n",
       "  </thead>\n",
       "  <tbody>\n",
       "    <tr>\n",
       "      <th>7</th>\n",
       "      <td>80</td>\n",
       "      <td>90.0</td>\n",
       "    </tr>\n",
       "  </tbody>\n",
       "</table>\n",
       "</div>"
      ],
      "text/plain": [
       "    t t + 1\n",
       "7  80  90.0"
      ]
     },
     "execution_count": 26,
     "metadata": {},
     "output_type": "execute_result"
    }
   ],
   "source": [
    "predict_y_test_df"
   ]
  },
  {
   "cell_type": "code",
   "execution_count": 27,
   "id": "67322618",
   "metadata": {},
   "outputs": [
    {
     "name": "stdout",
     "output_type": "stream",
     "text": [
      "Test MSE: 276.864\n"
     ]
    }
   ],
   "source": [
    "EvaluationMetric.eval_mse(predict_y_test_df, book_model_predictions, False)"
   ]
  },
  {
   "cell_type": "markdown",
   "id": "43ac988a",
   "metadata": {},
   "source": [
    "## My implementation\n",
    "\n",
    "- Using my TSLearn library\n",
    "\n",
    "### Prediction model\n",
    "\n",
    "- Interpolation of in sample values \n",
    "- Use `50, 60, 70`, so X_test\n",
    "- True predictions `80, 90`, so y_test\n",
    "\n",
    "### Forecast model\n",
    "\n",
    "- Extrapolation of future values `\n",
    "- Use `70, 80, 90`, so X_test\n",
    "- Expected `100, 110`. We say expected because we don't know the actual values, thus no y_test. Expected as in we increment by 10."
   ]
  },
  {
   "cell_type": "code",
   "execution_count": 28,
   "id": "c3c3df5c",
   "metadata": {},
   "outputs": [
    {
     "data": {
      "text/plain": [
       "MLP(\n",
       "  (fc1): Linear(in_features=3, out_features=100, bias=True)\n",
       "  (relu): ReLU()\n",
       "  (fc2): Linear(in_features=100, out_features=2, bias=True)\n",
       ")"
      ]
     },
     "execution_count": 28,
     "metadata": {},
     "output_type": "execute_result"
    }
   ],
   "source": [
    "hidden_size = 100\n",
    "\n",
    "mlp_predict_model = MLP(n_steps, hidden_size, output_size)\n",
    "mlp_predict_model"
   ]
  },
  {
   "cell_type": "code",
   "execution_count": 29,
   "id": "ffb43a43",
   "metadata": {},
   "outputs": [
    {
     "data": {
      "text/plain": [
       "MLP(\n",
       "  (fc1): Linear(in_features=3, out_features=100, bias=True)\n",
       "  (relu): ReLU()\n",
       "  (fc2): Linear(in_features=100, out_features=2, bias=True)\n",
       ")"
      ]
     },
     "execution_count": 29,
     "metadata": {},
     "output_type": "execute_result"
    }
   ],
   "source": [
    "mlp_forecast_model = MLP(n_steps, hidden_size, output_size)\n",
    "mlp_forecast_model"
   ]
  },
  {
   "cell_type": "code",
   "execution_count": 30,
   "id": "fcae1763",
   "metadata": {},
   "outputs": [
    {
     "name": "stderr",
     "output_type": "stream",
     "text": [
      "  2%|▏         | 40/2000 [00:00<00:24, 80.31it/s]"
     ]
    },
    {
     "name": "stdout",
     "output_type": "stream",
     "text": [
      "Epoch: 0\n",
      "    Predictions | Train loss: 4082.568603515625 | Test loss: 7801.7333984375\n",
      "    Forecasts | Train loss: 5153.3154296875\n",
      "Epoch: 10\n",
      "    Predictions | Train loss: 2974.27197265625 | Test loss: 5335.6865234375\n",
      "    Forecasts | Train loss: 3435.11328125\n",
      "Epoch: 20\n",
      "    Predictions | Train loss: 2056.011962890625 | Test loss: 3369.5048828125\n",
      "    Forecasts | Train loss: 2098.327392578125\n",
      "Epoch: 30\n",
      "    Predictions | Train loss: 1311.88232421875 | Test loss: 1862.939208984375\n",
      "    Forecasts | Train loss: 1133.962158203125\n",
      "Epoch: 40\n",
      "    Predictions | Train loss: 745.1611938476562 | Test loss: 809.2156982421875\n",
      "    Forecasts | Train loss: 518.3023681640625\n",
      "Epoch: 50\n",
      "    Predictions | Train loss: 362.3883361816406 | Test loss: 212.43104553222656\n",
      "    Forecasts | Train loss: 200.57962036132812\n",
      "Epoch: 60\n",
      "    Predictions | Train loss: 150.69720458984375 | Test loss: 6.719475746154785\n",
      "    Forecasts | Train loss: 88.98686981201172\n",
      "Epoch: 70\n",
      "    Predictions | Train loss: 66.50759887695312 | Test loss: 43.56928634643555\n",
      "    Forecasts | Train loss: 71.71699523925781\n"
     ]
    },
    {
     "name": "stderr",
     "output_type": "stream",
     "text": [
      "  8%|▊         | 161/2000 [00:00<00:07, 261.53it/s]"
     ]
    },
    {
     "name": "stdout",
     "output_type": "stream",
     "text": [
      "Epoch: 80\n",
      "    Predictions | Train loss: 48.4417839050293 | Test loss: 146.49859619140625\n",
      "    Forecasts | Train loss: 72.62535858154297\n",
      "Epoch: 90\n",
      "    Predictions | Train loss: 48.60411071777344 | Test loss: 205.83245849609375\n",
      "    Forecasts | Train loss: 69.62776184082031\n",
      "Epoch: 100\n",
      "    Predictions | Train loss: 48.51105880737305 | Test loss: 208.72576904296875\n",
      "    Forecasts | Train loss: 65.83531951904297\n",
      "Epoch: 110\n",
      "    Predictions | Train loss: 47.21466064453125 | Test loss: 186.72190856933594\n",
      "    Forecasts | Train loss: 63.14654541015625\n",
      "Epoch: 120\n",
      "    Predictions | Train loss: 46.266109466552734 | Test loss: 165.19309997558594\n",
      "    Forecasts | Train loss: 61.189735412597656\n",
      "Epoch: 130\n",
      "    Predictions | Train loss: 45.7205696105957 | Test loss: 152.63827514648438\n",
      "    Forecasts | Train loss: 59.23064422607422\n",
      "Epoch: 140\n",
      "    Predictions | Train loss: 45.238189697265625 | Test loss: 148.05322265625\n",
      "    Forecasts | Train loss: 57.2569694519043\n",
      "Epoch: 150\n",
      "    Predictions | Train loss: 44.72135543823242 | Test loss: 147.67051696777344\n",
      "    Forecasts | Train loss: 55.27428436279297\n",
      "Epoch: 160\n",
      "    Predictions | Train loss: 44.188743591308594 | Test loss: 148.19317626953125\n",
      "    Forecasts | Train loss: 53.243797302246094\n"
     ]
    },
    {
     "name": "stderr",
     "output_type": "stream",
     "text": [
      " 12%|█▏        | 241/2000 [00:01<00:05, 325.53it/s]"
     ]
    },
    {
     "name": "stdout",
     "output_type": "stream",
     "text": [
      "Epoch: 170\n",
      "    Predictions | Train loss: 43.6480712890625 | Test loss: 147.90673828125\n",
      "    Forecasts | Train loss: 51.1898193359375\n",
      "Epoch: 180\n",
      "    Predictions | Train loss: 43.093868255615234 | Test loss: 146.54019165039062\n",
      "    Forecasts | Train loss: 49.116859436035156\n",
      "Epoch: 190\n",
      "    Predictions | Train loss: 42.524898529052734 | Test loss: 144.54002380371094\n",
      "    Forecasts | Train loss: 47.033958435058594\n",
      "Epoch: 200\n",
      "    Predictions | Train loss: 41.941219329833984 | Test loss: 142.39541625976562\n",
      "    Forecasts | Train loss: 44.95040512084961\n",
      "Epoch: 210\n",
      "    Predictions | Train loss: 41.331485748291016 | Test loss: 140.33963012695312\n",
      "    Forecasts | Train loss: 42.9213752746582\n",
      "Epoch: 220\n",
      "    Predictions | Train loss: 40.69643783569336 | Test loss: 138.36770629882812\n",
      "    Forecasts | Train loss: 40.945281982421875\n",
      "Epoch: 230\n",
      "    Predictions | Train loss: 40.0355224609375 | Test loss: 136.391357421875\n",
      "    Forecasts | Train loss: 38.98823547363281\n",
      "Epoch: 240\n",
      "    Predictions | Train loss: 39.3465690612793 | Test loss: 134.34307861328125\n",
      "    Forecasts | Train loss: 37.081390380859375\n",
      "Epoch: 250\n",
      "    Predictions | Train loss: 38.626522064208984 | Test loss: 132.20162963867188\n",
      "    Forecasts | Train loss: 35.19922637939453\n"
     ]
    },
    {
     "name": "stderr",
     "output_type": "stream",
     "text": [
      " 16%|█▌        | 321/2000 [00:01<00:04, 358.02it/s]"
     ]
    },
    {
     "name": "stdout",
     "output_type": "stream",
     "text": [
      "Epoch: 260\n",
      "    Predictions | Train loss: 37.871421813964844 | Test loss: 129.97268676757812\n",
      "    Forecasts | Train loss: 33.35222625732422\n",
      "Epoch: 270\n",
      "    Predictions | Train loss: 37.076683044433594 | Test loss: 127.66363525390625\n",
      "    Forecasts | Train loss: 31.54109764099121\n",
      "Epoch: 280\n",
      "    Predictions | Train loss: 36.23834228515625 | Test loss: 125.27082824707031\n",
      "    Forecasts | Train loss: 29.793121337890625\n",
      "Epoch: 290\n",
      "    Predictions | Train loss: 35.36841583251953 | Test loss: 122.7021484375\n",
      "    Forecasts | Train loss: 28.065942764282227\n",
      "Epoch: 300\n",
      "    Predictions | Train loss: 34.453521728515625 | Test loss: 119.81637573242188\n",
      "    Forecasts | Train loss: 26.390514373779297\n",
      "Epoch: 310\n",
      "    Predictions | Train loss: 33.517822265625 | Test loss: 116.63575744628906\n",
      "    Forecasts | Train loss: 24.772232055664062\n",
      "Epoch: 320\n",
      "    Predictions | Train loss: 32.70011901855469 | Test loss: 113.15094757080078\n",
      "    Forecasts | Train loss: 23.19695281982422\n",
      "Epoch: 330\n",
      "    Predictions | Train loss: 31.87788200378418 | Test loss: 109.75419616699219\n",
      "    Forecasts | Train loss: 21.673664093017578\n",
      "Epoch: 340\n",
      "    Predictions | Train loss: 31.053691864013672 | Test loss: 106.85636901855469\n",
      "    Forecasts | Train loss: 20.2134952545166\n"
     ]
    },
    {
     "name": "stderr",
     "output_type": "stream",
     "text": [
      " 20%|██        | 402/2000 [00:01<00:04, 381.27it/s]"
     ]
    },
    {
     "name": "stdout",
     "output_type": "stream",
     "text": [
      "Epoch: 350\n",
      "    Predictions | Train loss: 30.228408813476562 | Test loss: 104.3765869140625\n",
      "    Forecasts | Train loss: 18.79545783996582\n",
      "Epoch: 360\n",
      "    Predictions | Train loss: 29.402751922607422 | Test loss: 102.03355407714844\n",
      "    Forecasts | Train loss: 17.435712814331055\n",
      "Epoch: 370\n",
      "    Predictions | Train loss: 28.57728385925293 | Test loss: 99.66683959960938\n",
      "    Forecasts | Train loss: 16.143936157226562\n",
      "Epoch: 380\n",
      "    Predictions | Train loss: 27.752347946166992 | Test loss: 97.28398895263672\n",
      "    Forecasts | Train loss: 14.893930435180664\n",
      "Epoch: 390\n",
      "    Predictions | Train loss: 26.928508758544922 | Test loss: 94.94396209716797\n",
      "    Forecasts | Train loss: 13.7139253616333\n",
      "Epoch: 400\n",
      "    Predictions | Train loss: 26.106124877929688 | Test loss: 92.672119140625\n",
      "    Forecasts | Train loss: 12.591259956359863\n",
      "Epoch: 410\n",
      "    Predictions | Train loss: 25.287124633789062 | Test loss: 90.45851135253906\n",
      "    Forecasts | Train loss: 11.525552749633789\n",
      "Epoch: 420\n",
      "    Predictions | Train loss: 24.470745086669922 | Test loss: 88.15830993652344\n",
      "    Forecasts | Train loss: 10.516473770141602\n",
      "Epoch: 430\n",
      "    Predictions | Train loss: 23.659927368164062 | Test loss: 85.61488342285156\n",
      "    Forecasts | Train loss: 9.577738761901855\n"
     ]
    },
    {
     "name": "stderr",
     "output_type": "stream",
     "text": [
      " 24%|██▍       | 482/2000 [00:01<00:03, 390.33it/s]"
     ]
    },
    {
     "name": "stdout",
     "output_type": "stream",
     "text": [
      "Epoch: 440\n",
      "    Predictions | Train loss: 22.85124969482422 | Test loss: 82.97552490234375\n",
      "    Forecasts | Train loss: 8.687599182128906\n",
      "Epoch: 450\n",
      "    Predictions | Train loss: 22.048768997192383 | Test loss: 80.44856262207031\n",
      "    Forecasts | Train loss: 7.860726356506348\n",
      "Epoch: 460\n",
      "    Predictions | Train loss: 21.251502990722656 | Test loss: 78.00849151611328\n",
      "    Forecasts | Train loss: 7.0868659019470215\n",
      "Epoch: 470\n",
      "    Predictions | Train loss: 20.459150314331055 | Test loss: 75.53173065185547\n",
      "    Forecasts | Train loss: 6.3682756423950195\n",
      "Epoch: 480\n",
      "    Predictions | Train loss: 19.67556381225586 | Test loss: 73.07356262207031\n",
      "    Forecasts | Train loss: 5.709125518798828\n",
      "Epoch: 490\n",
      "    Predictions | Train loss: 18.89783477783203 | Test loss: 70.63422393798828\n",
      "    Forecasts | Train loss: 5.09881591796875\n",
      "Epoch: 500\n",
      "    Predictions | Train loss: 18.129451751708984 | Test loss: 68.23135375976562\n",
      "    Forecasts | Train loss: 4.540313720703125\n",
      "Epoch: 510\n",
      "    Predictions | Train loss: 17.370372772216797 | Test loss: 65.89228057861328\n",
      "    Forecasts | Train loss: 4.026199817657471\n",
      "Epoch: 520\n",
      "    Predictions | Train loss: 16.62237548828125 | Test loss: 63.520904541015625\n",
      "    Forecasts | Train loss: 3.5620980262756348\n"
     ]
    },
    {
     "name": "stderr",
     "output_type": "stream",
     "text": [
      " 30%|███       | 604/2000 [00:02<00:03, 395.88it/s]"
     ]
    },
    {
     "name": "stdout",
     "output_type": "stream",
     "text": [
      "Epoch: 530\n",
      "    Predictions | Train loss: 15.89345645904541 | Test loss: 61.282569885253906\n",
      "    Forecasts | Train loss: 3.137002944946289\n",
      "Epoch: 540\n",
      "    Predictions | Train loss: 15.175085067749023 | Test loss: 59.01912307739258\n",
      "    Forecasts | Train loss: 2.7588212490081787\n",
      "Epoch: 550\n",
      "    Predictions | Train loss: 14.48808479309082 | Test loss: 56.88029479980469\n",
      "    Forecasts | Train loss: 2.411323070526123\n",
      "Epoch: 560\n",
      "    Predictions | Train loss: 13.814434051513672 | Test loss: 54.77648162841797\n",
      "    Forecasts | Train loss: 2.1044530868530273\n",
      "Epoch: 570\n",
      "    Predictions | Train loss: 13.153570175170898 | Test loss: 52.58741760253906\n",
      "    Forecasts | Train loss: 1.8284505605697632\n",
      "Epoch: 580\n",
      "    Predictions | Train loss: 12.51028823852539 | Test loss: 50.54969024658203\n",
      "    Forecasts | Train loss: 1.5832674503326416\n",
      "Epoch: 590\n",
      "    Predictions | Train loss: 11.882176399230957 | Test loss: 48.52727127075195\n",
      "    Forecasts | Train loss: 1.3691375255584717\n",
      "Epoch: 600\n",
      "    Predictions | Train loss: 11.275111198425293 | Test loss: 46.52888107299805\n",
      "    Forecasts | Train loss: 1.1769850254058838\n",
      "Epoch: 610\n",
      "    Predictions | Train loss: 10.68545913696289 | Test loss: 44.614768981933594\n",
      "    Forecasts | Train loss: 1.0094431638717651\n"
     ]
    },
    {
     "name": "stderr",
     "output_type": "stream",
     "text": [
      " 34%|███▍      | 686/2000 [00:02<00:03, 400.65it/s]"
     ]
    },
    {
     "name": "stdout",
     "output_type": "stream",
     "text": [
      "Epoch: 620\n",
      "    Predictions | Train loss: 10.11506175994873 | Test loss: 42.6873664855957\n",
      "    Forecasts | Train loss: 0.8627126812934875\n",
      "Epoch: 630\n",
      "    Predictions | Train loss: 9.557247161865234 | Test loss: 40.85413360595703\n",
      "    Forecasts | Train loss: 0.7366355657577515\n",
      "Epoch: 640\n",
      "    Predictions | Train loss: 9.020241737365723 | Test loss: 39.0836067199707\n",
      "    Forecasts | Train loss: 0.6247140169143677\n",
      "Epoch: 650\n",
      "    Predictions | Train loss: 8.500743865966797 | Test loss: 37.30133819580078\n",
      "    Forecasts | Train loss: 0.5292452573776245\n",
      "Epoch: 660\n",
      "    Predictions | Train loss: 8.001798629760742 | Test loss: 35.641143798828125\n",
      "    Forecasts | Train loss: 0.4467509388923645\n",
      "Epoch: 670\n",
      "    Predictions | Train loss: 7.519644737243652 | Test loss: 33.99699783325195\n",
      "    Forecasts | Train loss: 0.3766820430755615\n",
      "Epoch: 680\n",
      "    Predictions | Train loss: 7.057275772094727 | Test loss: 32.387908935546875\n",
      "    Forecasts | Train loss: 0.3158915042877197\n"
     ]
    },
    {
     "name": "stderr",
     "output_type": "stream",
     "text": [
      " 38%|███▊      | 768/2000 [00:02<00:03, 357.03it/s]"
     ]
    },
    {
     "name": "stdout",
     "output_type": "stream",
     "text": [
      "Epoch: 690\n",
      "    Predictions | Train loss: 6.614184379577637 | Test loss: 30.89086151123047\n",
      "    Forecasts | Train loss: 0.26466095447540283\n",
      "Epoch: 700\n",
      "    Predictions | Train loss: 6.190215110778809 | Test loss: 29.37818145751953\n",
      "    Forecasts | Train loss: 0.22090813517570496\n",
      "Epoch: 710\n",
      "    Predictions | Train loss: 5.782928466796875 | Test loss: 27.95938491821289\n",
      "    Forecasts | Train loss: 0.1841737926006317\n",
      "Epoch: 720\n",
      "    Predictions | Train loss: 5.395397663116455 | Test loss: 26.60717010498047\n",
      "    Forecasts | Train loss: 0.15297725796699524\n",
      "Epoch: 730\n",
      "    Predictions | Train loss: 5.025638580322266 | Test loss: 25.245447158813477\n",
      "    Forecasts | Train loss: 0.12693917751312256\n",
      "Epoch: 740\n",
      "    Predictions | Train loss: 4.675687313079834 | Test loss: 24.01026153564453\n",
      "    Forecasts | Train loss: 0.10505913197994232\n",
      "Epoch: 750\n",
      "    Predictions | Train loss: 4.341620445251465 | Test loss: 22.795495986938477\n",
      "    Forecasts | Train loss: 0.08683750778436661\n",
      "Epoch: 760\n",
      "    Predictions | Train loss: 4.026823043823242 | Test loss: 21.660404205322266\n",
      "    Forecasts | Train loss: 0.07174593210220337\n",
      "Epoch: 770\n",
      "    Predictions | Train loss: 3.7289609909057617 | Test loss: 20.569595336914062\n",
      "    Forecasts | Train loss: 0.05906546860933304\n"
     ]
    },
    {
     "name": "stderr",
     "output_type": "stream",
     "text": [
      " 42%|████▎     | 850/2000 [00:02<00:03, 379.80it/s]"
     ]
    },
    {
     "name": "stdout",
     "output_type": "stream",
     "text": [
      "Epoch: 780\n",
      "    Predictions | Train loss: 3.4468038082122803 | Test loss: 19.461538314819336\n",
      "    Forecasts | Train loss: 0.04855594411492348\n",
      "Epoch: 790\n",
      "    Predictions | Train loss: 3.1827027797698975 | Test loss: 18.473217010498047\n",
      "    Forecasts | Train loss: 0.039937298744916916\n",
      "Epoch: 800\n",
      "    Predictions | Train loss: 2.933042049407959 | Test loss: 17.525371551513672\n",
      "    Forecasts | Train loss: 0.03282161429524422\n",
      "Epoch: 810\n",
      "    Predictions | Train loss: 2.699497938156128 | Test loss: 16.6082820892334\n",
      "    Forecasts | Train loss: 0.02700144611299038\n",
      "Epoch: 820\n",
      "    Predictions | Train loss: 2.4810543060302734 | Test loss: 15.756132125854492\n",
      "    Forecasts | Train loss: 0.022216223180294037\n",
      "Epoch: 830\n",
      "    Predictions | Train loss: 2.2765603065490723 | Test loss: 14.89641284942627\n",
      "    Forecasts | Train loss: 0.0183182992041111\n",
      "Epoch: 840\n",
      "    Predictions | Train loss: 2.0855817794799805 | Test loss: 14.118973731994629\n",
      "    Forecasts | Train loss: 0.015125279314815998\n",
      "Epoch: 850\n",
      "    Predictions | Train loss: 1.907665729522705 | Test loss: 13.404415130615234\n",
      "    Forecasts | Train loss: 0.01249903067946434\n",
      "Epoch: 860\n",
      "    Predictions | Train loss: 1.742395043373108 | Test loss: 12.685583114624023\n",
      "    Forecasts | Train loss: 0.010370015166699886\n"
     ]
    },
    {
     "name": "stderr",
     "output_type": "stream",
     "text": [
      " 47%|████▋     | 932/2000 [00:02<00:02, 393.07it/s]"
     ]
    },
    {
     "name": "stdout",
     "output_type": "stream",
     "text": [
      "Epoch: 870\n",
      "    Predictions | Train loss: 1.5895860195159912 | Test loss: 12.038135528564453\n",
      "    Forecasts | Train loss: 0.008648985996842384\n",
      "Epoch: 880\n",
      "    Predictions | Train loss: 1.4485499858856201 | Test loss: 11.396577835083008\n",
      "    Forecasts | Train loss: 0.007253679446876049\n",
      "Epoch: 890\n",
      "    Predictions | Train loss: 1.3164596557617188 | Test loss: 10.831451416015625\n",
      "    Forecasts | Train loss: 0.0061157699674367905\n",
      "Epoch: 900\n",
      "    Predictions | Train loss: 1.1955034732818604 | Test loss: 10.27676010131836\n",
      "    Forecasts | Train loss: 0.005196911282837391\n",
      "Epoch: 910\n",
      "    Predictions | Train loss: 1.0839015245437622 | Test loss: 9.722417831420898\n",
      "    Forecasts | Train loss: 0.004454704932868481\n",
      "Epoch: 920\n",
      "    Predictions | Train loss: 0.9818292260169983 | Test loss: 9.27711009979248\n",
      "    Forecasts | Train loss: 0.003855773014947772\n",
      "Epoch: 930\n",
      "    Predictions | Train loss: 0.8875718712806702 | Test loss: 8.792357444763184\n",
      "    Forecasts | Train loss: 0.0033707101829349995\n",
      "Epoch: 940\n",
      "    Predictions | Train loss: 0.8017067909240723 | Test loss: 8.347270965576172\n",
      "    Forecasts | Train loss: 0.0029808382969349623\n",
      "Epoch: 950\n",
      "    Predictions | Train loss: 0.7230634093284607 | Test loss: 7.97191047668457\n",
      "    Forecasts | Train loss: 0.0026632496155798435\n"
     ]
    },
    {
     "name": "stderr",
     "output_type": "stream",
     "text": [
      " 51%|█████     | 1014/2000 [00:03<00:02, 399.14it/s]"
     ]
    },
    {
     "name": "stdout",
     "output_type": "stream",
     "text": [
      "Epoch: 960\n",
      "    Predictions | Train loss: 0.6510964632034302 | Test loss: 7.564513206481934\n",
      "    Forecasts | Train loss: 0.002407832769677043\n",
      "Epoch: 970\n",
      "    Predictions | Train loss: 0.5858541131019592 | Test loss: 7.236928939819336\n",
      "    Forecasts | Train loss: 0.002201929222792387\n",
      "Epoch: 980\n",
      "    Predictions | Train loss: 0.5261295437812805 | Test loss: 6.888216495513916\n",
      "    Forecasts | Train loss: 0.0020353328436613083\n",
      "Epoch: 990\n",
      "    Predictions | Train loss: 0.47217947244644165 | Test loss: 6.564606189727783\n",
      "    Forecasts | Train loss: 0.0019004890928044915\n",
      "Epoch: 1000\n",
      "    Predictions | Train loss: 0.4231800436973572 | Test loss: 6.295420169830322\n",
      "    Forecasts | Train loss: 0.001791392220184207\n",
      "Epoch: 1010\n",
      "    Predictions | Train loss: 0.378704309463501 | Test loss: 6.000050067901611\n",
      "    Forecasts | Train loss: 0.0017016360070556402\n",
      "Epoch: 1020\n",
      "    Predictions | Train loss: 0.338708758354187 | Test loss: 5.7674431800842285\n",
      "    Forecasts | Train loss: 0.00162740726955235\n",
      "Epoch: 1030\n",
      "    Predictions | Train loss: 0.3023683726787567 | Test loss: 5.516548156738281\n",
      "    Forecasts | Train loss: 0.0015636930475011468\n",
      "Epoch: 1040\n",
      "    Predictions | Train loss: 0.26980507373809814 | Test loss: 5.2857489585876465\n",
      "    Forecasts | Train loss: 0.001509126741439104\n"
     ]
    },
    {
     "name": "stderr",
     "output_type": "stream",
     "text": [
      " 55%|█████▍    | 1096/2000 [00:03<00:02, 396.61it/s]"
     ]
    },
    {
     "name": "stdout",
     "output_type": "stream",
     "text": [
      "Epoch: 1050\n",
      "    Predictions | Train loss: 0.2404525727033615 | Test loss: 5.095760345458984\n",
      "    Forecasts | Train loss: 0.001461303443647921\n",
      "Epoch: 1060\n",
      "    Predictions | Train loss: 0.2140018194913864 | Test loss: 4.883667945861816\n",
      "    Forecasts | Train loss: 0.0014189378125593066\n",
      "Epoch: 1070\n",
      "    Predictions | Train loss: 0.19038791954517365 | Test loss: 4.721042633056641\n",
      "    Forecasts | Train loss: 0.0013812007382512093\n",
      "Epoch: 1080\n",
      "    Predictions | Train loss: 0.16921567916870117 | Test loss: 4.543015480041504\n",
      "    Forecasts | Train loss: 0.0013474782463163137\n",
      "Epoch: 1090\n",
      "    Predictions | Train loss: 0.15012116730213165 | Test loss: 4.390303611755371\n",
      "    Forecasts | Train loss: 0.0013172716135159135\n",
      "Epoch: 1100\n",
      "    Predictions | Train loss: 0.13311409950256348 | Test loss: 4.250165939331055\n",
      "    Forecasts | Train loss: 0.001290369895286858\n",
      "Epoch: 1110\n",
      "    Predictions | Train loss: 0.11793699860572815 | Test loss: 4.103909492492676\n",
      "    Forecasts | Train loss: 0.0012661757646128535\n",
      "Epoch: 1120\n",
      "    Predictions | Train loss: 0.10444606840610504 | Test loss: 3.9902961254119873\n",
      "    Forecasts | Train loss: 0.001244447543285787\n"
     ]
    },
    {
     "name": "stderr",
     "output_type": "stream",
     "text": [
      " 59%|█████▉    | 1179/2000 [00:03<00:02, 402.49it/s]"
     ]
    },
    {
     "name": "stdout",
     "output_type": "stream",
     "text": [
      "Epoch: 1130\n",
      "    Predictions | Train loss: 0.09235240519046783 | Test loss: 3.861619472503662\n",
      "    Forecasts | Train loss: 0.001224992796778679\n",
      "Epoch: 1140\n",
      "    Predictions | Train loss: 0.08165983855724335 | Test loss: 3.7511041164398193\n",
      "    Forecasts | Train loss: 0.0012073360849171877\n",
      "Epoch: 1150\n",
      "    Predictions | Train loss: 0.07210825383663177 | Test loss: 3.657754898071289\n",
      "    Forecasts | Train loss: 0.0011914772912859917\n",
      "Epoch: 1160\n",
      "    Predictions | Train loss: 0.063649483025074 | Test loss: 3.556278705596924\n",
      "    Forecasts | Train loss: 0.00117741827853024\n",
      "Epoch: 1170\n",
      "    Predictions | Train loss: 0.05615340545773506 | Test loss: 3.4767837524414062\n",
      "    Forecasts | Train loss: 0.0011644457699730992\n",
      "Epoch: 1180\n",
      "    Predictions | Train loss: 0.04948144406080246 | Test loss: 3.3865203857421875\n",
      "    Forecasts | Train loss: 0.0011529179755598307\n",
      "Epoch: 1190\n",
      "    Predictions | Train loss: 0.04360818862915039 | Test loss: 3.316783905029297\n",
      "    Forecasts | Train loss: 0.0011420949595049024\n",
      "Epoch: 1200\n",
      "    Predictions | Train loss: 0.038377195596694946 | Test loss: 3.243631601333618\n",
      "    Forecasts | Train loss: 0.0011327920947223902\n",
      "Epoch: 1210\n",
      "    Predictions | Train loss: 0.03377674147486687 | Test loss: 3.1763429641723633\n",
      "    Forecasts | Train loss: 0.0011240557068958879\n"
     ]
    },
    {
     "name": "stderr",
     "output_type": "stream",
     "text": [
      " 63%|██████▎   | 1263/2000 [00:03<00:01, 406.71it/s]"
     ]
    },
    {
     "name": "stdout",
     "output_type": "stream",
     "text": [
      "Epoch: 1220\n",
      "    Predictions | Train loss: 0.02970941737294197 | Test loss: 3.1203269958496094\n",
      "    Forecasts | Train loss: 0.001116342144086957\n",
      "Epoch: 1230\n",
      "    Predictions | Train loss: 0.02611076459288597 | Test loss: 3.056741952896118\n",
      "    Forecasts | Train loss: 0.0011090830666944385\n",
      "Epoch: 1240\n",
      "    Predictions | Train loss: 0.022951118648052216 | Test loss: 3.0138914585113525\n",
      "    Forecasts | Train loss: 0.0011026434367522597\n",
      "Epoch: 1250\n",
      "    Predictions | Train loss: 0.020147401839494705 | Test loss: 2.9579851627349854\n",
      "    Forecasts | Train loss: 0.0010965315159410238\n",
      "Epoch: 1260\n",
      "    Predictions | Train loss: 0.017694029957056046 | Test loss: 2.916721820831299\n",
      "    Forecasts | Train loss: 0.0010908993426710367\n",
      "Epoch: 1270\n",
      "    Predictions | Train loss: 0.015522819943726063 | Test loss: 2.8745837211608887\n",
      "    Forecasts | Train loss: 0.0010858873138204217\n",
      "Epoch: 1280\n",
      "    Predictions | Train loss: 0.013617893680930138 | Test loss: 2.8327064514160156\n",
      "    Forecasts | Train loss: 0.0010811156826093793\n",
      "Epoch: 1290\n",
      "    Predictions | Train loss: 0.011943685822188854 | Test loss: 2.8027267456054688\n",
      "    Forecasts | Train loss: 0.00107674952596426\n",
      "Epoch: 1300\n",
      "    Predictions | Train loss: 0.010466997511684895 | Test loss: 2.763582229614258\n",
      "    Forecasts | Train loss: 0.0010723790619522333\n"
     ]
    },
    {
     "name": "stderr",
     "output_type": "stream",
     "text": [
      " 69%|██████▉   | 1385/2000 [00:04<00:01, 349.34it/s]"
     ]
    },
    {
     "name": "stdout",
     "output_type": "stream",
     "text": [
      "Epoch: 1310\n",
      "    Predictions | Train loss: 0.00917682982981205 | Test loss: 2.7393319606781006\n",
      "    Forecasts | Train loss: 0.001068445504643023\n",
      "Epoch: 1320\n",
      "    Predictions | Train loss: 0.008036612533032894 | Test loss: 2.705852508544922\n",
      "    Forecasts | Train loss: 0.0010647744638845325\n",
      "Epoch: 1330\n",
      "    Predictions | Train loss: 0.00704112509265542 | Test loss: 2.6818106174468994\n",
      "    Forecasts | Train loss: 0.001061339513398707\n",
      "Epoch: 1340\n",
      "    Predictions | Train loss: 0.006166860926896334 | Test loss: 2.6576037406921387\n",
      "    Forecasts | Train loss: 0.001057961257174611\n",
      "Epoch: 1350\n",
      "    Predictions | Train loss: 0.005396716762334108 | Test loss: 2.6352956295013428\n",
      "    Forecasts | Train loss: 0.0010547414422035217\n",
      "Epoch: 1360\n",
      "    Predictions | Train loss: 0.004722003825008869 | Test loss: 2.6153578758239746\n",
      "    Forecasts | Train loss: 0.0010516414185985923\n",
      "Epoch: 1370\n",
      "    Predictions | Train loss: 0.004131287336349487 | Test loss: 2.5936684608459473\n",
      "    Forecasts | Train loss: 0.0010487415129318833\n",
      "Epoch: 1380\n",
      "    Predictions | Train loss: 0.0036154945846647024 | Test loss: 2.5791826248168945\n",
      "    Forecasts | Train loss: 0.0010458629112690687\n"
     ]
    },
    {
     "name": "stderr",
     "output_type": "stream",
     "text": [
      " 73%|███████▎  | 1468/2000 [00:04<00:01, 378.09it/s]"
     ]
    },
    {
     "name": "stdout",
     "output_type": "stream",
     "text": [
      "Epoch: 1390\n",
      "    Predictions | Train loss: 0.0031608943827450275 | Test loss: 2.5593748092651367\n",
      "    Forecasts | Train loss: 0.0010432045673951507\n",
      "Epoch: 1400\n",
      "    Predictions | Train loss: 0.0027647558599710464 | Test loss: 2.5483622550964355\n",
      "    Forecasts | Train loss: 0.0010403023334220052\n",
      "Epoch: 1410\n",
      "    Predictions | Train loss: 0.002415918977931142 | Test loss: 2.5310659408569336\n",
      "    Forecasts | Train loss: 0.0010375356068834662\n",
      "Epoch: 1420\n",
      "    Predictions | Train loss: 0.0021117152646183968 | Test loss: 2.519690990447998\n",
      "    Forecasts | Train loss: 0.0010350237134844065\n",
      "Epoch: 1430\n",
      "    Predictions | Train loss: 0.0018445947207510471 | Test loss: 2.507598638534546\n",
      "    Forecasts | Train loss: 0.0010323843453079462\n",
      "Epoch: 1440\n",
      "    Predictions | Train loss: 0.0016116659389808774 | Test loss: 2.4974005222320557\n",
      "    Forecasts | Train loss: 0.0010298979468643665\n",
      "Epoch: 1450\n",
      "    Predictions | Train loss: 0.0014070910401642323 | Test loss: 2.4871809482574463\n",
      "    Forecasts | Train loss: 0.0010275436798110604\n",
      "Epoch: 1460\n",
      "    Predictions | Train loss: 0.001228703884407878 | Test loss: 2.4768738746643066\n",
      "    Forecasts | Train loss: 0.0010248908074572682\n",
      "Epoch: 1470\n",
      "    Predictions | Train loss: 0.001072221901267767 | Test loss: 2.4705758094787598\n",
      "    Forecasts | Train loss: 0.0010223210556432605\n"
     ]
    },
    {
     "name": "stderr",
     "output_type": "stream",
     "text": [
      " 77%|███████▋  | 1549/2000 [00:04<00:01, 360.31it/s]"
     ]
    },
    {
     "name": "stdout",
     "output_type": "stream",
     "text": [
      "Epoch: 1480\n",
      "    Predictions | Train loss: 0.0009357182425446808 | Test loss: 2.4611120223999023\n",
      "    Forecasts | Train loss: 0.0010198326781392097\n",
      "Epoch: 1490\n",
      "    Predictions | Train loss: 0.0008163683814927936 | Test loss: 2.454838752746582\n",
      "    Forecasts | Train loss: 0.001017568982206285\n",
      "Epoch: 1500\n",
      "    Predictions | Train loss: 0.0007118709618225694 | Test loss: 2.446763515472412\n",
      "    Forecasts | Train loss: 0.0010151166934520006\n",
      "Epoch: 1510\n",
      "    Predictions | Train loss: 0.0006205535028129816 | Test loss: 2.443513870239258\n",
      "    Forecasts | Train loss: 0.0010127811692655087\n",
      "Epoch: 1520\n",
      "    Predictions | Train loss: 0.000540813896805048 | Test loss: 2.436382293701172\n",
      "    Forecasts | Train loss: 0.0010101401712745428\n",
      "Epoch: 1530\n",
      "    Predictions | Train loss: 0.00047121680108830333 | Test loss: 2.4311752319335938\n",
      "    Forecasts | Train loss: 0.0010078628547489643\n",
      "Epoch: 1540\n",
      "    Predictions | Train loss: 0.0004104871186427772 | Test loss: 2.4259884357452393\n",
      "    Forecasts | Train loss: 0.0010053652804344893\n"
     ]
    },
    {
     "name": "stderr",
     "output_type": "stream",
     "text": [
      " 82%|████████▏ | 1633/2000 [00:04<00:00, 384.40it/s]"
     ]
    },
    {
     "name": "stdout",
     "output_type": "stream",
     "text": [
      "Epoch: 1550\n",
      "    Predictions | Train loss: 0.0003572844434529543 | Test loss: 2.4235830307006836\n",
      "    Forecasts | Train loss: 0.001002939185127616\n",
      "Epoch: 1560\n",
      "    Predictions | Train loss: 0.0003108905802946538 | Test loss: 2.4184885025024414\n",
      "    Forecasts | Train loss: 0.0010005627991631627\n",
      "Epoch: 1570\n",
      "    Predictions | Train loss: 0.00027050095377489924 | Test loss: 2.4148364067077637\n",
      "    Forecasts | Train loss: 0.0009982092306017876\n",
      "Epoch: 1580\n",
      "    Predictions | Train loss: 0.0002351420116610825 | Test loss: 2.411079168319702\n",
      "    Forecasts | Train loss: 0.0009957067668437958\n",
      "Epoch: 1590\n",
      "    Predictions | Train loss: 0.00020434337784536183 | Test loss: 2.4094655513763428\n",
      "    Forecasts | Train loss: 0.0009934103582054377\n",
      "Epoch: 1600\n",
      "    Predictions | Train loss: 0.00017743106582202017 | Test loss: 2.4062323570251465\n",
      "    Forecasts | Train loss: 0.0009909083601087332\n",
      "Epoch: 1610\n",
      "    Predictions | Train loss: 0.0001540803350508213 | Test loss: 2.403557062149048\n",
      "    Forecasts | Train loss: 0.0009886038023978472\n",
      "Epoch: 1620\n",
      "    Predictions | Train loss: 0.00013369157386478037 | Test loss: 2.400681257247925\n",
      "    Forecasts | Train loss: 0.0009860448772087693\n",
      "Epoch: 1630\n",
      "    Predictions | Train loss: 0.00011595460819080472 | Test loss: 2.3994879722595215\n",
      "    Forecasts | Train loss: 0.0009836952667683363\n"
     ]
    },
    {
     "name": "stderr",
     "output_type": "stream",
     "text": [
      " 86%|████████▌ | 1716/2000 [00:04<00:00, 396.50it/s]"
     ]
    },
    {
     "name": "stdout",
     "output_type": "stream",
     "text": [
      "Epoch: 1640\n",
      "    Predictions | Train loss: 0.0001005084122880362 | Test loss: 2.397516965866089\n",
      "    Forecasts | Train loss: 0.0009811557829380035\n",
      "Epoch: 1650\n",
      "    Predictions | Train loss: 8.701872866367921e-05 | Test loss: 2.39554500579834\n",
      "    Forecasts | Train loss: 0.000978856929577887\n",
      "Epoch: 1660\n",
      "    Predictions | Train loss: 7.532109884778038e-05 | Test loss: 2.393460750579834\n",
      "    Forecasts | Train loss: 0.0009764390997588634\n",
      "Epoch: 1670\n",
      "    Predictions | Train loss: 6.518395093735307e-05 | Test loss: 2.392472982406616\n",
      "    Forecasts | Train loss: 0.0009738461812958121\n",
      "Epoch: 1680\n",
      "    Predictions | Train loss: 5.638032598653808e-05 | Test loss: 2.391418695449829\n",
      "    Forecasts | Train loss: 0.0009713945910334587\n",
      "Epoch: 1690\n",
      "    Predictions | Train loss: 4.8739871999714524e-05 | Test loss: 2.3898427486419678\n",
      "    Forecasts | Train loss: 0.000969165179412812\n",
      "Epoch: 1700\n",
      "    Predictions | Train loss: 4.208402242511511e-05 | Test loss: 2.3889517784118652\n",
      "    Forecasts | Train loss: 0.0009666156256571412\n",
      "Epoch: 1710\n",
      "    Predictions | Train loss: 3.630064020399004e-05 | Test loss: 2.3875107765197754\n",
      "    Forecasts | Train loss: 0.0009639393538236618\n",
      "Epoch: 1720\n",
      "    Predictions | Train loss: 3.130039112875238e-05 | Test loss: 2.3870785236358643\n",
      "    Forecasts | Train loss: 0.0009617279283702374\n"
     ]
    },
    {
     "name": "stderr",
     "output_type": "stream",
     "text": [
      " 90%|████████▉ | 1797/2000 [00:05<00:00, 370.18it/s]"
     ]
    },
    {
     "name": "stdout",
     "output_type": "stream",
     "text": [
      "Epoch: 1730\n",
      "    Predictions | Train loss: 2.6979350877809338e-05 | Test loss: 2.3860535621643066\n",
      "    Forecasts | Train loss: 0.0009591879206709564\n",
      "Epoch: 1740\n",
      "    Predictions | Train loss: 2.3221513401949778e-05 | Test loss: 2.3853368759155273\n",
      "    Forecasts | Train loss: 0.00095664820400998\n",
      "Epoch: 1750\n",
      "    Predictions | Train loss: 1.998883999476675e-05 | Test loss: 2.3847718238830566\n",
      "    Forecasts | Train loss: 0.000953890208620578\n",
      "Epoch: 1760\n",
      "    Predictions | Train loss: 1.718969360808842e-05 | Test loss: 2.3838958740234375\n",
      "    Forecasts | Train loss: 0.0009516162681393325\n",
      "Epoch: 1770\n",
      "    Predictions | Train loss: 1.4744469808647409e-05 | Test loss: 2.3835511207580566\n",
      "    Forecasts | Train loss: 0.0009490535594522953\n",
      "Epoch: 1780\n",
      "    Predictions | Train loss: 1.2661219443543814e-05 | Test loss: 2.382899761199951\n",
      "    Forecasts | Train loss: 0.00094651710242033\n",
      "Epoch: 1790\n",
      "    Predictions | Train loss: 1.084972609532997e-05 | Test loss: 2.3824191093444824\n",
      "    Forecasts | Train loss: 0.0009440571302548051\n"
     ]
    },
    {
     "name": "stderr",
     "output_type": "stream",
     "text": [
      " 94%|█████████▍| 1880/2000 [00:05<00:00, 390.24it/s]"
     ]
    },
    {
     "name": "stdout",
     "output_type": "stream",
     "text": [
      "Epoch: 1800\n",
      "    Predictions | Train loss: 9.296903954236768e-06 | Test loss: 2.3820855617523193\n",
      "    Forecasts | Train loss: 0.0009415600216016173\n",
      "Epoch: 1810\n",
      "    Predictions | Train loss: 7.958296919241548e-06 | Test loss: 2.381568670272827\n",
      "    Forecasts | Train loss: 0.000938881654292345\n",
      "Epoch: 1820\n",
      "    Predictions | Train loss: 6.816620953031816e-06 | Test loss: 2.381307601928711\n",
      "    Forecasts | Train loss: 0.0009365456062369049\n",
      "Epoch: 1830\n",
      "    Predictions | Train loss: 5.821741069667041e-06 | Test loss: 2.3810126781463623\n",
      "    Forecasts | Train loss: 0.0009338847594335675\n",
      "Epoch: 1840\n",
      "    Predictions | Train loss: 4.9778955144574866e-06 | Test loss: 2.380585193634033\n",
      "    Forecasts | Train loss: 0.0009312977199442685\n",
      "Epoch: 1850\n",
      "    Predictions | Train loss: 4.238063411321491e-06 | Test loss: 2.380398750305176\n",
      "    Forecasts | Train loss: 0.000928897294215858\n",
      "Epoch: 1860\n",
      "    Predictions | Train loss: 3.6198616726323962e-06 | Test loss: 2.380192995071411\n",
      "    Forecasts | Train loss: 0.0009263610700145364\n",
      "Epoch: 1870\n",
      "    Predictions | Train loss: 3.0868377507431433e-06 | Test loss: 2.379931926727295\n",
      "    Forecasts | Train loss: 0.0009238513885065913\n",
      "Epoch: 1880\n",
      "    Predictions | Train loss: 2.615794073790312e-06 | Test loss: 2.3797597885131836\n",
      "    Forecasts | Train loss: 0.0009211452561430633\n"
     ]
    },
    {
     "name": "stderr",
     "output_type": "stream",
     "text": [
      " 98%|█████████▊| 1962/2000 [00:05<00:00, 398.19it/s]"
     ]
    },
    {
     "name": "stdout",
     "output_type": "stream",
     "text": [
      "Epoch: 1890\n",
      "    Predictions | Train loss: 2.221922841272317e-06 | Test loss: 2.379636764526367\n",
      "    Forecasts | Train loss: 0.0009186103707179427\n",
      "Epoch: 1900\n",
      "    Predictions | Train loss: 1.894079105113633e-06 | Test loss: 2.379364490509033\n",
      "    Forecasts | Train loss: 0.0009160034242086112\n",
      "Epoch: 1910\n",
      "    Predictions | Train loss: 1.6062749637058005e-06 | Test loss: 2.3792264461517334\n",
      "    Forecasts | Train loss: 0.0009134296560660005\n",
      "Epoch: 1920\n",
      "    Predictions | Train loss: 1.351967512164265e-06 | Test loss: 2.3791391849517822\n",
      "    Forecasts | Train loss: 0.000911066890694201\n",
      "Epoch: 1930\n",
      "    Predictions | Train loss: 1.1485226423246786e-06 | Test loss: 2.3790433406829834\n",
      "    Forecasts | Train loss: 0.0009083664044737816\n",
      "Epoch: 1940\n",
      "    Predictions | Train loss: 9.753766789799556e-07 | Test loss: 2.3788557052612305\n",
      "    Forecasts | Train loss: 0.0009056509588845074\n",
      "Epoch: 1950\n",
      "    Predictions | Train loss: 8.269762474810705e-07 | Test loss: 2.378774642944336\n",
      "    Forecasts | Train loss: 0.0009033114765770733\n",
      "Epoch: 1960\n",
      "    Predictions | Train loss: 6.943610060261562e-07 | Test loss: 2.3786869049072266\n",
      "    Forecasts | Train loss: 0.0009005172178149223\n",
      "Epoch: 1970\n",
      "    Predictions | Train loss: 5.864039849257097e-07 | Test loss: 2.3786227703094482\n",
      "    Forecasts | Train loss: 0.0008978716214187443\n"
     ]
    },
    {
     "name": "stderr",
     "output_type": "stream",
     "text": [
      "100%|██████████| 2000/2000 [00:05<00:00, 345.98it/s]"
     ]
    },
    {
     "name": "stdout",
     "output_type": "stream",
     "text": [
      "Epoch: 1980\n",
      "    Predictions | Train loss: 4.946541594108567e-07 | Test loss: 2.3785858154296875\n",
      "    Forecasts | Train loss: 0.000895430042874068\n",
      "Epoch: 1990\n",
      "    Predictions | Train loss: 4.1406201489735395e-07 | Test loss: 2.3784661293029785\n",
      "    Forecasts | Train loss: 0.0008927808376029134\n"
     ]
    },
    {
     "name": "stderr",
     "output_type": "stream",
     "text": [
      "\n"
     ]
    }
   ],
   "source": [
    "# #times to loop through the training\n",
    "# Hyperparameter\n",
    "epochs = 2000\n",
    "criterion = nn.MSELoss()\n",
    "\n",
    "predict_optimizer = torch.optim.Adam(mlp_predict_model.parameters())\n",
    "predict_configs = [criterion, predict_optimizer]\n",
    "\n",
    "forecast_optimizer = torch.optim.Adam(mlp_forecast_model.parameters())\n",
    "forecast_configs = [criterion, forecast_optimizer]\n",
    "\n",
    "# Track different setups (ie: lr, etc) to compare this experiment to future experiments\n",
    "epoch_count = []\n",
    "train_pred_values = []\n",
    "test_pred_values = []\n",
    "\n",
    "predict_train_loss_values = []\n",
    "predict_test_loss_values = []\n",
    "\n",
    "forecast_train_loss_values = []\n",
    "forecast_test_loss_values = []\n",
    "\n",
    "### Training\n",
    "# 0. Loop through the training\n",
    "for epoch in tqdm(range(epochs)):\n",
    "\n",
    "    # In-Sample Prediction\n",
    "    train_predictions, predict_train_loss = mlp_predict_model.train_model(predict_X_train_df, predict_y_train_df, predict_configs)\n",
    "    test_predictions, predict_test_loss = mlp_predict_model.interpolate_predictions(predict_X_test_df, predict_y_test_df, predict_configs)\n",
    "    \n",
    "    # Out-Sample Forecasts\n",
    "    train_forecasts, forecast_train_loss = mlp_forecast_model.train_model(forecast_X_train_df, forecast_y_train_df, forecast_configs)\n",
    "    test_forecasts = mlp_forecast_model.extrapolate_forecasts(forecast_X_test_df)\n",
    "\n",
    "    if epoch % 10 == 0:\n",
    "        epoch_count.append(epoch)\n",
    "        print(f\"Epoch: {epoch}\")\n",
    "\n",
    "        print(f\"    Predictions | Train loss: {predict_train_loss} | Test loss: {predict_test_loss}\")\n",
    "        # print(f\"    Predictions Parameters: {mlp_predict_model.state_dict()}\")\n",
    "        predict_train_loss_values.append(predict_train_loss)\n",
    "        predict_test_loss_values.append(predict_test_loss)\n",
    "\n",
    "        print(f\"    Forecasts | Train loss: {forecast_train_loss}\")\n",
    "        # print(f\"    Forecasts Parameters: {mlp_forecast_model.state_dict()}\")\n",
    "        forecast_train_loss_values.append(forecast_train_loss)\n",
    "        # print()"
   ]
  },
  {
   "cell_type": "code",
   "execution_count": 33,
   "id": "7683feae",
   "metadata": {},
   "outputs": [
    {
     "name": "stdout",
     "output_type": "stream",
     "text": [
      "Test MSE: 2.378\n"
     ]
    }
   ],
   "source": [
    "EvaluationMetric.eval_mse(predict_y_test_df, test_predictions, False) # Matches Test MSE"
   ]
  },
  {
   "cell_type": "code",
   "execution_count": 32,
   "id": "51305f1f",
   "metadata": {},
   "outputs": [
    {
     "data": {
      "image/png": "[encoded data removed]",
      "text/plain": [
       "<Figure size 640x480 with 1 Axes>"
      ]
     },
     "metadata": {},
     "output_type": "display_data"
    }
   ],
   "source": [
    "# Plot the loss curves\n",
    "plt.plot(epoch_count, np.array(torch.tensor(predict_train_loss_values).numpy()), label=\"Predict train loss\")\n",
    "plt.plot(epoch_count, predict_test_loss_values, label=\"Predict test loss\")\n",
    "\n",
    "plt.plot(epoch_count, np.array(torch.tensor(forecast_train_loss_values).numpy()), label=\"Forecast train loss\")\n",
    "\n",
    "plt.title(\"Loss Curves\")\n",
    "plt.ylabel(\"Loss\")\n",
    "plt.xlabel(\"Epochs\")\n",
    "plt.legend();"
   ]
  },
  {
   "cell_type": "code",
   "execution_count": null,
   "id": "59c93aaa",
   "metadata": {},
   "outputs": [],
   "source": []
  }
 ],
 "metadata": {
  "kernelspec": {
   "display_name": "Python 3 (ipykernel)",
   "language": "python",
   "name": "python3"
  },
  "language_info": {
   "codemirror_mode": {
    "name": "ipython",
    "version": 3
   },
   "file_extension": ".py",
   "mimetype": "text/x-python",
   "name": "python",
   "nbconvert_exporter": "python",
   "pygments_lexer": "ipython3",
   "version": "3.9.-1"
  }
 },
 "nbformat": 4,
 "nbformat_minor": 5
}
