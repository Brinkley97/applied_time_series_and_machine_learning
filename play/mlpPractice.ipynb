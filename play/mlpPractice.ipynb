{
 "cells": [
  {
   "cell_type": "markdown",
   "id": "a93950b4",
   "metadata": {},
   "source": [
    "# Multi Layer Perceptron Model\n",
    "\n",
    "- BOOK: [Predict the Future with MLPs, CNNs and LSTMs in Python](https://machinelearningmastery.com/deep-learning-for-time-series-forecasting/) by Jason Brownlee\n",
    "- NOTES: [TS -> ML split function](https://detraviousjbrinkley.notion.site/TS-ML-split-function-9ab51cbb49d244aa8b4ab434d009f8a7?pvs=4) by Detravious J.B. \n",
    "    - See for Forecast vs Prediction"
   ]
  },
  {
   "cell_type": "code",
   "execution_count": 1,
   "id": "848d99dc",
   "metadata": {},
   "outputs": [],
   "source": [
    "# !pip3 uninstall -y torch torchvision\n",
    "# !pip3 install torch torchvision"
   ]
  },
  {
   "cell_type": "code",
   "execution_count": 2,
   "id": "b2335e75",
   "metadata": {},
   "outputs": [],
   "source": [
    "import os\n",
    "import sys\n",
    "import torch\n",
    "\n",
    "import numpy as np\n",
    "import pandas as pd\n",
    "\n",
    "import torch.nn as nn\n",
    "import torch.optim as optim\n",
    "\n",
    "# Get the current working directory of the notebook\n",
    "notebook_dir = os.getcwd()\n",
    "\n",
    "# Add the parent directory to the system path\n",
    "sys.path.append(os.path.join(notebook_dir, '../framework_for_time_series_data/tslearn/'))\n",
    "from ml_models import MLP\n",
    "from ts_models import EvaluationMetric"
   ]
  },
  {
   "cell_type": "code",
   "execution_count": 3,
   "id": "f86d7f57",
   "metadata": {},
   "outputs": [],
   "source": [
    "observations = [10, 20, 30, 40, 50, 60, 70, 80, 90]"
   ]
  },
  {
   "cell_type": "markdown",
   "id": "45624d9b",
   "metadata": {},
   "source": [
    "# Book's implementation"
   ]
  },
  {
   "cell_type": "code",
   "execution_count": 4,
   "id": "f03ecb7b",
   "metadata": {},
   "outputs": [],
   "source": [
    "def split_sequence(sequence, n_steps_in, n_steps_out): \n",
    "    X, y = list(), list() \n",
    "    for i in range(len(sequence)): \n",
    "        # find the end of this pattern \n",
    "        end_ix = i + n_steps_in \n",
    "        out_end_ix = end_ix + n_steps_out \n",
    "        # check if we are beyond the sequence \n",
    "        if out_end_ix > len(sequence): \n",
    "            break\n",
    "        # gather input and output parts of the pattern \n",
    "        seq_x, seq_y = sequence[i:end_ix], sequence[end_ix:out_end_ix] \n",
    "        X.append(seq_x)\n",
    "        y.append(seq_y)\n",
    "    return np.array(X), np.array(y)"
   ]
  },
  {
   "cell_type": "code",
   "execution_count": 5,
   "id": "1dc84b3c",
   "metadata": {},
   "outputs": [],
   "source": [
    "X, y = split_sequence(observations, 3, 3)"
   ]
  },
  {
   "cell_type": "code",
   "execution_count": 6,
   "id": "a17514bc",
   "metadata": {},
   "outputs": [
    {
     "data": {
      "text/plain": [
       "array([[10, 20, 30],\n",
       "       [20, 30, 40],\n",
       "       [30, 40, 50],\n",
       "       [40, 50, 60]])"
      ]
     },
     "execution_count": 6,
     "metadata": {},
     "output_type": "execute_result"
    }
   ],
   "source": [
    "X"
   ]
  },
  {
   "cell_type": "code",
   "execution_count": 7,
   "id": "8d9dd5f7",
   "metadata": {},
   "outputs": [
    {
     "data": {
      "text/plain": [
       "array([[40, 50, 60],\n",
       "       [50, 60, 70],\n",
       "       [60, 70, 80],\n",
       "       [70, 80, 90]])"
      ]
     },
     "execution_count": 7,
     "metadata": {},
     "output_type": "execute_result"
    }
   ],
   "source": [
    "y"
   ]
  },
  {
   "cell_type": "markdown",
   "id": "08c0e431",
   "metadata": {},
   "source": [
    "# My implementation"
   ]
  },
  {
   "cell_type": "code",
   "execution_count": 8,
   "id": "8e506fd5",
   "metadata": {},
   "outputs": [],
   "source": [
    "def convert_uts_sequence_to_sml(uts_observations, prior_observations, forecasting_step):\n",
    "    \"\"\"Splits a given UTS into multiple input rows where each input row has a specified number of timestamps and the output is a single timestamp.\n",
    "    \n",
    "    Parameters:\n",
    "    uts_observations -- 1D np array (of UTS data to transform to SML data with size  b rows/length x 1 dimension)\n",
    "    prior_observations -- py int (of all observations before we get to where we want to start making the predictions)\n",
    "    forecasting_step -- py int (of how far out to forecast, 1 only the next timestamp, 2 the next two timestamps, ... n the next n timestamps)\n",
    "    \n",
    "    Return:\n",
    "    agg.values -- np array (of new sml data)\n",
    "    \"\"\"\n",
    "    \n",
    "    df = pd.DataFrame(uts_observations)\n",
    "    cols = list()\n",
    "    \n",
    "    lag_col_names = []\n",
    "    count_lag = 0\n",
    "    # input sequence (t-n, ... t-1)\n",
    "    for prior_observation in range(prior_observations, 0, -1):\n",
    "        # print(\"prior_observation: \", prior_observation)\n",
    "        cols.append(df.shift(prior_observation))\n",
    "        new_col_name = \"t - \" + str(prior_observation)\n",
    "        # print(new_col_name)\n",
    "        lag_col_names.append(new_col_name)\n",
    "        \n",
    "    \n",
    "    # forecast sequence (t, t+1, ... t+n)\n",
    "    for i in range(0, forecasting_step):\n",
    "        cols.append(df.shift(-i))\n",
    "        # print(f\"t + {i}\")\n",
    "        if i == 0:\n",
    "            new_col_name = f\"t\"\n",
    "        else:\n",
    "            new_col_name = f\"t + {i}\"\n",
    "        # print(new_col_name)\n",
    "        lag_col_names.append(new_col_name)\n",
    "        \n",
    "        # put it all together\n",
    "        uts_sml_df = pd.concat(cols, axis=1) \n",
    "        uts_sml_df.columns=[lag_col_names]\n",
    "        # drop rows with NaN values\n",
    "        uts_sml_df.dropna(inplace=True)\n",
    "    \n",
    "    # print(uts_sml_df)\n",
    "    \n",
    "    # colums to use to make prediction for last col\n",
    "    X_train = uts_sml_df.iloc[:, 0: -1]\n",
    "    \n",
    "    # last column\n",
    "    y_train = uts_sml_df.iloc[:, [-1]]\n",
    "    return uts_sml_df"
   ]
  },
  {
   "cell_type": "code",
   "execution_count": 9,
   "id": "6c1f6e7b",
   "metadata": {},
   "outputs": [],
   "source": [
    "n_steps = 3\n",
    "output_size = 2\n",
    "converted_seq_df = convert_uts_sequence_to_sml(observations, n_steps, output_size)"
   ]
  },
  {
   "cell_type": "code",
   "execution_count": 10,
   "id": "a9cf9a53",
   "metadata": {},
   "outputs": [
    {
     "data": {
      "text/html": [
       "<div>\n",
       "<style scoped>\n",
       "    .dataframe tbody tr th:only-of-type {\n",
       "        vertical-align: middle;\n",
       "    }\n",
       "\n",
       "    .dataframe tbody tr th {\n",
       "        vertical-align: top;\n",
       "    }\n",
       "\n",
       "    .dataframe thead tr th {\n",
       "        text-align: left;\n",
       "    }\n",
       "</style>\n",
       "<table border=\"1\" class=\"dataframe\">\n",
       "  <thead>\n",
       "    <tr>\n",
       "      <th></th>\n",
       "      <th>t - 3</th>\n",
       "      <th>t - 2</th>\n",
       "      <th>t - 1</th>\n",
       "      <th>t</th>\n",
       "      <th>t + 1</th>\n",
       "    </tr>\n",
       "  </thead>\n",
       "  <tbody>\n",
       "    <tr>\n",
       "      <th>3</th>\n",
       "      <td>10.0</td>\n",
       "      <td>20.0</td>\n",
       "      <td>30.0</td>\n",
       "      <td>40</td>\n",
       "      <td>50.0</td>\n",
       "    </tr>\n",
       "    <tr>\n",
       "      <th>4</th>\n",
       "      <td>20.0</td>\n",
       "      <td>30.0</td>\n",
       "      <td>40.0</td>\n",
       "      <td>50</td>\n",
       "      <td>60.0</td>\n",
       "    </tr>\n",
       "    <tr>\n",
       "      <th>5</th>\n",
       "      <td>30.0</td>\n",
       "      <td>40.0</td>\n",
       "      <td>50.0</td>\n",
       "      <td>60</td>\n",
       "      <td>70.0</td>\n",
       "    </tr>\n",
       "    <tr>\n",
       "      <th>6</th>\n",
       "      <td>40.0</td>\n",
       "      <td>50.0</td>\n",
       "      <td>60.0</td>\n",
       "      <td>70</td>\n",
       "      <td>80.0</td>\n",
       "    </tr>\n",
       "    <tr>\n",
       "      <th>7</th>\n",
       "      <td>50.0</td>\n",
       "      <td>60.0</td>\n",
       "      <td>70.0</td>\n",
       "      <td>80</td>\n",
       "      <td>90.0</td>\n",
       "    </tr>\n",
       "  </tbody>\n",
       "</table>\n",
       "</div>"
      ],
      "text/plain": [
       "  t - 3 t - 2 t - 1   t t + 1\n",
       "3  10.0  20.0  30.0  40  50.0\n",
       "4  20.0  30.0  40.0  50  60.0\n",
       "5  30.0  40.0  50.0  60  70.0\n",
       "6  40.0  50.0  60.0  70  80.0\n",
       "7  50.0  60.0  70.0  80  90.0"
      ]
     },
     "execution_count": 10,
     "metadata": {},
     "output_type": "execute_result"
    }
   ],
   "source": [
    "converted_seq_df"
   ]
  },
  {
   "cell_type": "code",
   "execution_count": 11,
   "id": "4216c4d8",
   "metadata": {},
   "outputs": [
    {
     "data": {
      "text/html": [
       "<div>\n",
       "<style scoped>\n",
       "    .dataframe tbody tr th:only-of-type {\n",
       "        vertical-align: middle;\n",
       "    }\n",
       "\n",
       "    .dataframe tbody tr th {\n",
       "        vertical-align: top;\n",
       "    }\n",
       "\n",
       "    .dataframe thead tr th {\n",
       "        text-align: left;\n",
       "    }\n",
       "</style>\n",
       "<table border=\"1\" class=\"dataframe\">\n",
       "  <thead>\n",
       "    <tr>\n",
       "      <th></th>\n",
       "      <th>t - 3</th>\n",
       "      <th>t - 2</th>\n",
       "      <th>t - 1</th>\n",
       "    </tr>\n",
       "  </thead>\n",
       "  <tbody>\n",
       "    <tr>\n",
       "      <th>3</th>\n",
       "      <td>10.0</td>\n",
       "      <td>20.0</td>\n",
       "      <td>30.0</td>\n",
       "    </tr>\n",
       "    <tr>\n",
       "      <th>4</th>\n",
       "      <td>20.0</td>\n",
       "      <td>30.0</td>\n",
       "      <td>40.0</td>\n",
       "    </tr>\n",
       "    <tr>\n",
       "      <th>5</th>\n",
       "      <td>30.0</td>\n",
       "      <td>40.0</td>\n",
       "      <td>50.0</td>\n",
       "    </tr>\n",
       "    <tr>\n",
       "      <th>6</th>\n",
       "      <td>40.0</td>\n",
       "      <td>50.0</td>\n",
       "      <td>60.0</td>\n",
       "    </tr>\n",
       "    <tr>\n",
       "      <th>7</th>\n",
       "      <td>50.0</td>\n",
       "      <td>60.0</td>\n",
       "      <td>70.0</td>\n",
       "    </tr>\n",
       "  </tbody>\n",
       "</table>\n",
       "</div>"
      ],
      "text/plain": [
       "  t - 3 t - 2 t - 1\n",
       "3  10.0  20.0  30.0\n",
       "4  20.0  30.0  40.0\n",
       "5  30.0  40.0  50.0\n",
       "6  40.0  50.0  60.0\n",
       "7  50.0  60.0  70.0"
      ]
     },
     "execution_count": 11,
     "metadata": {},
     "output_type": "execute_result"
    }
   ],
   "source": [
    "forecast_X_train_df = converted_seq_df.iloc[:, :n_steps]\n",
    "forecast_X_train_df"
   ]
  },
  {
   "cell_type": "code",
   "execution_count": 12,
   "id": "3030b03f",
   "metadata": {},
   "outputs": [
    {
     "data": {
      "text/html": [
       "<div>\n",
       "<style scoped>\n",
       "    .dataframe tbody tr th:only-of-type {\n",
       "        vertical-align: middle;\n",
       "    }\n",
       "\n",
       "    .dataframe tbody tr th {\n",
       "        vertical-align: top;\n",
       "    }\n",
       "\n",
       "    .dataframe thead tr th {\n",
       "        text-align: left;\n",
       "    }\n",
       "</style>\n",
       "<table border=\"1\" class=\"dataframe\">\n",
       "  <thead>\n",
       "    <tr>\n",
       "      <th></th>\n",
       "      <th>t</th>\n",
       "      <th>t + 1</th>\n",
       "    </tr>\n",
       "  </thead>\n",
       "  <tbody>\n",
       "    <tr>\n",
       "      <th>3</th>\n",
       "      <td>40</td>\n",
       "      <td>50.0</td>\n",
       "    </tr>\n",
       "    <tr>\n",
       "      <th>4</th>\n",
       "      <td>50</td>\n",
       "      <td>60.0</td>\n",
       "    </tr>\n",
       "    <tr>\n",
       "      <th>5</th>\n",
       "      <td>60</td>\n",
       "      <td>70.0</td>\n",
       "    </tr>\n",
       "    <tr>\n",
       "      <th>6</th>\n",
       "      <td>70</td>\n",
       "      <td>80.0</td>\n",
       "    </tr>\n",
       "    <tr>\n",
       "      <th>7</th>\n",
       "      <td>80</td>\n",
       "      <td>90.0</td>\n",
       "    </tr>\n",
       "  </tbody>\n",
       "</table>\n",
       "</div>"
      ],
      "text/plain": [
       "    t t + 1\n",
       "3  40  50.0\n",
       "4  50  60.0\n",
       "5  60  70.0\n",
       "6  70  80.0\n",
       "7  80  90.0"
      ]
     },
     "execution_count": 12,
     "metadata": {},
     "output_type": "execute_result"
    }
   ],
   "source": [
    "forecast_y_train_df = converted_seq_df.iloc[:, -output_size:]\n",
    "forecast_y_train_df"
   ]
  },
  {
   "cell_type": "code",
   "execution_count": 13,
   "id": "b13497cc",
   "metadata": {},
   "outputs": [
    {
     "data": {
      "text/html": [
       "<div>\n",
       "<style scoped>\n",
       "    .dataframe tbody tr th:only-of-type {\n",
       "        vertical-align: middle;\n",
       "    }\n",
       "\n",
       "    .dataframe tbody tr th {\n",
       "        vertical-align: top;\n",
       "    }\n",
       "\n",
       "    .dataframe thead tr th {\n",
       "        text-align: left;\n",
       "    }\n",
       "</style>\n",
       "<table border=\"1\" class=\"dataframe\">\n",
       "  <thead>\n",
       "    <tr>\n",
       "      <th></th>\n",
       "      <th>t - 1</th>\n",
       "      <th>t</th>\n",
       "      <th>t + 1</th>\n",
       "    </tr>\n",
       "  </thead>\n",
       "  <tbody>\n",
       "    <tr>\n",
       "      <th>7</th>\n",
       "      <td>70.0</td>\n",
       "      <td>80</td>\n",
       "      <td>90.0</td>\n",
       "    </tr>\n",
       "  </tbody>\n",
       "</table>\n",
       "</div>"
      ],
      "text/plain": [
       "  t - 1   t t + 1\n",
       "7  70.0  80  90.0"
      ]
     },
     "execution_count": 13,
     "metadata": {},
     "output_type": "execute_result"
    }
   ],
   "source": [
    "forecast_X_test_df = converted_seq_df.iloc[[-1], -n_steps:]\n",
    "forecast_X_test_df"
   ]
  },
  {
   "cell_type": "code",
   "execution_count": 14,
   "id": "42d3307d",
   "metadata": {},
   "outputs": [
    {
     "data": {
      "text/html": [
       "<div>\n",
       "<style scoped>\n",
       "    .dataframe tbody tr th:only-of-type {\n",
       "        vertical-align: middle;\n",
       "    }\n",
       "\n",
       "    .dataframe tbody tr th {\n",
       "        vertical-align: top;\n",
       "    }\n",
       "\n",
       "    .dataframe thead tr th {\n",
       "        text-align: left;\n",
       "    }\n",
       "</style>\n",
       "<table border=\"1\" class=\"dataframe\">\n",
       "  <thead>\n",
       "    <tr>\n",
       "      <th></th>\n",
       "      <th>t - 3</th>\n",
       "      <th>t - 2</th>\n",
       "      <th>t - 1</th>\n",
       "    </tr>\n",
       "  </thead>\n",
       "  <tbody>\n",
       "    <tr>\n",
       "      <th>3</th>\n",
       "      <td>10.0</td>\n",
       "      <td>20.0</td>\n",
       "      <td>30.0</td>\n",
       "    </tr>\n",
       "    <tr>\n",
       "      <th>4</th>\n",
       "      <td>20.0</td>\n",
       "      <td>30.0</td>\n",
       "      <td>40.0</td>\n",
       "    </tr>\n",
       "    <tr>\n",
       "      <th>5</th>\n",
       "      <td>30.0</td>\n",
       "      <td>40.0</td>\n",
       "      <td>50.0</td>\n",
       "    </tr>\n",
       "    <tr>\n",
       "      <th>6</th>\n",
       "      <td>40.0</td>\n",
       "      <td>50.0</td>\n",
       "      <td>60.0</td>\n",
       "    </tr>\n",
       "  </tbody>\n",
       "</table>\n",
       "</div>"
      ],
      "text/plain": [
       "  t - 3 t - 2 t - 1\n",
       "3  10.0  20.0  30.0\n",
       "4  20.0  30.0  40.0\n",
       "5  30.0  40.0  50.0\n",
       "6  40.0  50.0  60.0"
      ]
     },
     "execution_count": 14,
     "metadata": {},
     "output_type": "execute_result"
    }
   ],
   "source": [
    "predict_X_train_df = converted_seq_df.iloc[:-1, :n_steps]\n",
    "predict_X_train_df"
   ]
  },
  {
   "cell_type": "code",
   "execution_count": 15,
   "id": "0c2da8ca",
   "metadata": {},
   "outputs": [
    {
     "data": {
      "text/html": [
       "<div>\n",
       "<style scoped>\n",
       "    .dataframe tbody tr th:only-of-type {\n",
       "        vertical-align: middle;\n",
       "    }\n",
       "\n",
       "    .dataframe tbody tr th {\n",
       "        vertical-align: top;\n",
       "    }\n",
       "\n",
       "    .dataframe thead tr th {\n",
       "        text-align: left;\n",
       "    }\n",
       "</style>\n",
       "<table border=\"1\" class=\"dataframe\">\n",
       "  <thead>\n",
       "    <tr>\n",
       "      <th></th>\n",
       "      <th>t</th>\n",
       "      <th>t + 1</th>\n",
       "    </tr>\n",
       "  </thead>\n",
       "  <tbody>\n",
       "    <tr>\n",
       "      <th>3</th>\n",
       "      <td>40</td>\n",
       "      <td>50.0</td>\n",
       "    </tr>\n",
       "    <tr>\n",
       "      <th>4</th>\n",
       "      <td>50</td>\n",
       "      <td>60.0</td>\n",
       "    </tr>\n",
       "    <tr>\n",
       "      <th>5</th>\n",
       "      <td>60</td>\n",
       "      <td>70.0</td>\n",
       "    </tr>\n",
       "    <tr>\n",
       "      <th>6</th>\n",
       "      <td>70</td>\n",
       "      <td>80.0</td>\n",
       "    </tr>\n",
       "  </tbody>\n",
       "</table>\n",
       "</div>"
      ],
      "text/plain": [
       "    t t + 1\n",
       "3  40  50.0\n",
       "4  50  60.0\n",
       "5  60  70.0\n",
       "6  70  80.0"
      ]
     },
     "execution_count": 15,
     "metadata": {},
     "output_type": "execute_result"
    }
   ],
   "source": [
    "predict_y_train_df = converted_seq_df.iloc[:-1, -output_size:]\n",
    "predict_y_train_df"
   ]
  },
  {
   "cell_type": "code",
   "execution_count": 16,
   "id": "da43b0c9",
   "metadata": {},
   "outputs": [
    {
     "data": {
      "text/html": [
       "<div>\n",
       "<style scoped>\n",
       "    .dataframe tbody tr th:only-of-type {\n",
       "        vertical-align: middle;\n",
       "    }\n",
       "\n",
       "    .dataframe tbody tr th {\n",
       "        vertical-align: top;\n",
       "    }\n",
       "\n",
       "    .dataframe thead tr th {\n",
       "        text-align: left;\n",
       "    }\n",
       "</style>\n",
       "<table border=\"1\" class=\"dataframe\">\n",
       "  <thead>\n",
       "    <tr>\n",
       "      <th></th>\n",
       "      <th>t - 1</th>\n",
       "      <th>t</th>\n",
       "      <th>t + 1</th>\n",
       "    </tr>\n",
       "  </thead>\n",
       "  <tbody>\n",
       "    <tr>\n",
       "      <th>5</th>\n",
       "      <td>50.0</td>\n",
       "      <td>60</td>\n",
       "      <td>70.0</td>\n",
       "    </tr>\n",
       "  </tbody>\n",
       "</table>\n",
       "</div>"
      ],
      "text/plain": [
       "  t - 1   t t + 1\n",
       "5  50.0  60  70.0"
      ]
     },
     "execution_count": 16,
     "metadata": {},
     "output_type": "execute_result"
    }
   ],
   "source": [
    "predict_X_test_df = converted_seq_df.iloc[[-n_steps], -n_steps:]\n",
    "predict_X_test_df"
   ]
  },
  {
   "cell_type": "code",
   "execution_count": 17,
   "id": "0c11b99c",
   "metadata": {},
   "outputs": [
    {
     "data": {
      "text/html": [
       "<div>\n",
       "<style scoped>\n",
       "    .dataframe tbody tr th:only-of-type {\n",
       "        vertical-align: middle;\n",
       "    }\n",
       "\n",
       "    .dataframe tbody tr th {\n",
       "        vertical-align: top;\n",
       "    }\n",
       "\n",
       "    .dataframe thead tr th {\n",
       "        text-align: left;\n",
       "    }\n",
       "</style>\n",
       "<table border=\"1\" class=\"dataframe\">\n",
       "  <thead>\n",
       "    <tr>\n",
       "      <th></th>\n",
       "      <th>t</th>\n",
       "      <th>t + 1</th>\n",
       "    </tr>\n",
       "  </thead>\n",
       "  <tbody>\n",
       "    <tr>\n",
       "      <th>7</th>\n",
       "      <td>80</td>\n",
       "      <td>90.0</td>\n",
       "    </tr>\n",
       "  </tbody>\n",
       "</table>\n",
       "</div>"
      ],
      "text/plain": [
       "    t t + 1\n",
       "7  80  90.0"
      ]
     },
     "execution_count": 17,
     "metadata": {},
     "output_type": "execute_result"
    }
   ],
   "source": [
    "predict_y_test_df = converted_seq_df.iloc[[-1], -output_size:]\n",
    "predict_y_test_df"
   ]
  },
  {
   "cell_type": "markdown",
   "id": "2f31c65e",
   "metadata": {},
   "source": [
    "# Book's implementation\n",
    "- Keras"
   ]
  },
  {
   "cell_type": "markdown",
   "id": "d83c3248",
   "metadata": {},
   "source": [
    "## Forecast model"
   ]
  },
  {
   "cell_type": "code",
   "execution_count": 18,
   "id": "2586bf77",
   "metadata": {},
   "outputs": [
    {
     "name": "stderr",
     "output_type": "stream",
     "text": [
      "2024-06-30 03:00:25.651230: I tensorflow/core/platform/cpu_feature_guard.cc:193] This TensorFlow binary is optimized with oneAPI Deep Neural Network Library (oneDNN) to use the following CPU instructions in performance-critical operations:  SSE4.1 SSE4.2 AVX AVX2 FMA\n",
      "To enable them in other operations, rebuild TensorFlow with the appropriate compiler flags.\n",
      "2024-06-30 03:00:30.343867: I tensorflow/core/platform/cpu_feature_guard.cc:193] This TensorFlow binary is optimized with oneAPI Deep Neural Network Library (oneDNN) to use the following CPU instructions in performance-critical operations:  SSE4.1 SSE4.2 AVX AVX2 FMA\n",
      "To enable them in other operations, rebuild TensorFlow with the appropriate compiler flags.\n"
     ]
    }
   ],
   "source": [
    "from keras.models import Sequential \n",
    "from keras.layers import Dense\n",
    "\n",
    "forecast_model = Sequential() \n",
    "forecast_model.add(Dense(100, activation='relu' , input_dim=n_steps)) \n",
    "forecast_model.add(Dense(output_size)) \n",
    "forecast_model.compile(optimizer='adam' , loss='mse') \n",
    "\n",
    "predict_model = Sequential() \n",
    "predict_model.add(Dense(100, activation='relu' , input_dim=n_steps)) \n",
    "predict_model.add(Dense(output_size)) \n",
    "predict_model.compile(optimizer='adam' , loss='mse') "
   ]
  },
  {
   "cell_type": "code",
   "execution_count": 19,
   "id": "1a7c14ec",
   "metadata": {},
   "outputs": [
    {
     "data": {
      "text/plain": [
       "<keras.callbacks.History at 0x1988bd160>"
      ]
     },
     "execution_count": 19,
     "metadata": {},
     "output_type": "execute_result"
    }
   ],
   "source": [
    "# fit model \n",
    "forecast_model.fit(forecast_X_train_df, forecast_y_train_df, epochs=2000, verbose=0)"
   ]
  },
  {
   "cell_type": "code",
   "execution_count": 20,
   "id": "e475fd67",
   "metadata": {},
   "outputs": [
    {
     "data": {
      "text/plain": [
       "(array([[70., 80., 90.]]), 1)"
      ]
     },
     "execution_count": 20,
     "metadata": {},
     "output_type": "execute_result"
    }
   ],
   "source": [
    "forecast_X_test = np.array(forecast_X_test_df)\n",
    "forecast_X_test, forecast_X_test.shape[0]"
   ]
  },
  {
   "cell_type": "code",
   "execution_count": 21,
   "id": "90b9f8d6",
   "metadata": {},
   "outputs": [
    {
     "data": {
      "text/plain": [
       "array([[70., 80., 90.]])"
      ]
     },
     "execution_count": 21,
     "metadata": {},
     "output_type": "execute_result"
    }
   ],
   "source": [
    "X_test = forecast_X_test.reshape((forecast_X_test.shape[0]), n_steps)\n",
    "X_test"
   ]
  },
  {
   "cell_type": "code",
   "execution_count": 22,
   "id": "5a0262d6",
   "metadata": {},
   "outputs": [
    {
     "data": {
      "text/plain": [
       "array([[103.35738, 113.1224 ]], dtype=float32)"
      ]
     },
     "execution_count": 22,
     "metadata": {},
     "output_type": "execute_result"
    }
   ],
   "source": [
    "forecasts = forecast_model.predict(X_test, verbose=0)\n",
    "forecasts"
   ]
  },
  {
   "cell_type": "markdown",
   "id": "524ff7db",
   "metadata": {},
   "source": [
    "## Predict model"
   ]
  },
  {
   "cell_type": "code",
   "execution_count": 23,
   "id": "a17a48c1",
   "metadata": {},
   "outputs": [
    {
     "data": {
      "text/plain": [
       "<keras.callbacks.History at 0x1989c7340>"
      ]
     },
     "execution_count": 23,
     "metadata": {},
     "output_type": "execute_result"
    }
   ],
   "source": [
    "predict_model.fit(predict_X_train_df, predict_y_train_df, epochs=2000, verbose=0)"
   ]
  },
  {
   "cell_type": "code",
   "execution_count": 24,
   "id": "aea502e5",
   "metadata": {},
   "outputs": [
    {
     "data": {
      "text/plain": [
       "(array([[50., 60., 70.]]), 1)"
      ]
     },
     "execution_count": 24,
     "metadata": {},
     "output_type": "execute_result"
    }
   ],
   "source": [
    "predict_X_test = np.array(predict_X_test_df)\n",
    "predict_X_test, predict_X_test.shape[0]"
   ]
  },
  {
   "cell_type": "code",
   "execution_count": 25,
   "id": "ece813e7",
   "metadata": {},
   "outputs": [
    {
     "data": {
      "text/plain": [
       "array([[70., 80., 90.]])"
      ]
     },
     "execution_count": 25,
     "metadata": {},
     "output_type": "execute_result"
    }
   ],
   "source": [
    "predict_X_test = forecast_X_test.reshape((predict_X_test.shape[0]), n_steps)\n",
    "predict_X_test"
   ]
  },
  {
   "cell_type": "code",
   "execution_count": 26,
   "id": "1cabd8d4",
   "metadata": {},
   "outputs": [
    {
     "data": {
      "text/plain": [
       "array([[101.16806, 111.03617]], dtype=float32)"
      ]
     },
     "execution_count": 26,
     "metadata": {},
     "output_type": "execute_result"
    }
   ],
   "source": [
    "book_model_predictions = predict_model.predict(predict_X_test, verbose=0)\n",
    "book_model_predictions"
   ]
  },
  {
   "cell_type": "code",
   "execution_count": 27,
   "id": "b7afabf3",
   "metadata": {},
   "outputs": [
    {
     "data": {
      "text/html": [
       "<div>\n",
       "<style scoped>\n",
       "    .dataframe tbody tr th:only-of-type {\n",
       "        vertical-align: middle;\n",
       "    }\n",
       "\n",
       "    .dataframe tbody tr th {\n",
       "        vertical-align: top;\n",
       "    }\n",
       "\n",
       "    .dataframe thead tr th {\n",
       "        text-align: left;\n",
       "    }\n",
       "</style>\n",
       "<table border=\"1\" class=\"dataframe\">\n",
       "  <thead>\n",
       "    <tr>\n",
       "      <th></th>\n",
       "      <th>t</th>\n",
       "      <th>t + 1</th>\n",
       "    </tr>\n",
       "  </thead>\n",
       "  <tbody>\n",
       "    <tr>\n",
       "      <th>7</th>\n",
       "      <td>80</td>\n",
       "      <td>90.0</td>\n",
       "    </tr>\n",
       "  </tbody>\n",
       "</table>\n",
       "</div>"
      ],
      "text/plain": [
       "    t t + 1\n",
       "7  80  90.0"
      ]
     },
     "execution_count": 27,
     "metadata": {},
     "output_type": "execute_result"
    }
   ],
   "source": [
    "predict_y_test_df"
   ]
  },
  {
   "cell_type": "code",
   "execution_count": 28,
   "id": "67322618",
   "metadata": {},
   "outputs": [
    {
     "name": "stdout",
     "output_type": "stream",
     "text": [
      "Test MSE: 445.304\n"
     ]
    }
   ],
   "source": [
    "EvaluationMetric.eval_mse(predict_y_test_df, book_model_predictions, False)"
   ]
  },
  {
   "cell_type": "markdown",
   "id": "43ac988a",
   "metadata": {},
   "source": [
    "# My implementation\n",
    "- PyTorch using my library"
   ]
  },
  {
   "cell_type": "markdown",
   "id": "47dda739",
   "metadata": {},
   "source": [
    "## Forecast model\n",
    "\n",
    "- Extrapolation of future values `\n",
    "- Use `70, 80, 90`, so X_test\n",
    "- Expected `100, 110`. We say expected because we don't know the actual values, thus no y_test. Expected as in we increment by 10."
   ]
  },
  {
   "cell_type": "code",
   "execution_count": 29,
   "id": "c3c3df5c",
   "metadata": {},
   "outputs": [
    {
     "data": {
      "text/plain": [
       "MLP(\n",
       "  (fc1): Linear(in_features=3, out_features=100, bias=True)\n",
       "  (relu): ReLU()\n",
       "  (fc2): Linear(in_features=100, out_features=2, bias=True)\n",
       ")"
      ]
     },
     "execution_count": 29,
     "metadata": {},
     "output_type": "execute_result"
    }
   ],
   "source": [
    "hidden_size = 100\n",
    "\n",
    "mlp_forecast_model = MLP(n_steps, hidden_size, output_size)\n",
    "mlp_forecast_model"
   ]
  },
  {
   "cell_type": "code",
   "execution_count": 30,
   "id": "98b8f58d",
   "metadata": {},
   "outputs": [
    {
     "data": {
      "text/html": [
       "<div>\n",
       "<style scoped>\n",
       "    .dataframe tbody tr th:only-of-type {\n",
       "        vertical-align: middle;\n",
       "    }\n",
       "\n",
       "    .dataframe tbody tr th {\n",
       "        vertical-align: top;\n",
       "    }\n",
       "\n",
       "    .dataframe thead tr th {\n",
       "        text-align: left;\n",
       "    }\n",
       "</style>\n",
       "<table border=\"1\" class=\"dataframe\">\n",
       "  <thead>\n",
       "    <tr>\n",
       "      <th></th>\n",
       "      <th>t - 3</th>\n",
       "      <th>t - 2</th>\n",
       "      <th>t - 1</th>\n",
       "    </tr>\n",
       "  </thead>\n",
       "  <tbody>\n",
       "    <tr>\n",
       "      <th>3</th>\n",
       "      <td>10.0</td>\n",
       "      <td>20.0</td>\n",
       "      <td>30.0</td>\n",
       "    </tr>\n",
       "    <tr>\n",
       "      <th>4</th>\n",
       "      <td>20.0</td>\n",
       "      <td>30.0</td>\n",
       "      <td>40.0</td>\n",
       "    </tr>\n",
       "    <tr>\n",
       "      <th>5</th>\n",
       "      <td>30.0</td>\n",
       "      <td>40.0</td>\n",
       "      <td>50.0</td>\n",
       "    </tr>\n",
       "    <tr>\n",
       "      <th>6</th>\n",
       "      <td>40.0</td>\n",
       "      <td>50.0</td>\n",
       "      <td>60.0</td>\n",
       "    </tr>\n",
       "    <tr>\n",
       "      <th>7</th>\n",
       "      <td>50.0</td>\n",
       "      <td>60.0</td>\n",
       "      <td>70.0</td>\n",
       "    </tr>\n",
       "  </tbody>\n",
       "</table>\n",
       "</div>"
      ],
      "text/plain": [
       "  t - 3 t - 2 t - 1\n",
       "3  10.0  20.0  30.0\n",
       "4  20.0  30.0  40.0\n",
       "5  30.0  40.0  50.0\n",
       "6  40.0  50.0  60.0\n",
       "7  50.0  60.0  70.0"
      ]
     },
     "execution_count": 30,
     "metadata": {},
     "output_type": "execute_result"
    }
   ],
   "source": [
    "forecast_X_train_df"
   ]
  },
  {
   "cell_type": "code",
   "execution_count": 31,
   "id": "12507a2d",
   "metadata": {},
   "outputs": [
    {
     "data": {
      "text/html": [
       "<div>\n",
       "<style scoped>\n",
       "    .dataframe tbody tr th:only-of-type {\n",
       "        vertical-align: middle;\n",
       "    }\n",
       "\n",
       "    .dataframe tbody tr th {\n",
       "        vertical-align: top;\n",
       "    }\n",
       "\n",
       "    .dataframe thead tr th {\n",
       "        text-align: left;\n",
       "    }\n",
       "</style>\n",
       "<table border=\"1\" class=\"dataframe\">\n",
       "  <thead>\n",
       "    <tr>\n",
       "      <th></th>\n",
       "      <th>t</th>\n",
       "      <th>t + 1</th>\n",
       "    </tr>\n",
       "  </thead>\n",
       "  <tbody>\n",
       "    <tr>\n",
       "      <th>3</th>\n",
       "      <td>40</td>\n",
       "      <td>50.0</td>\n",
       "    </tr>\n",
       "    <tr>\n",
       "      <th>4</th>\n",
       "      <td>50</td>\n",
       "      <td>60.0</td>\n",
       "    </tr>\n",
       "    <tr>\n",
       "      <th>5</th>\n",
       "      <td>60</td>\n",
       "      <td>70.0</td>\n",
       "    </tr>\n",
       "    <tr>\n",
       "      <th>6</th>\n",
       "      <td>70</td>\n",
       "      <td>80.0</td>\n",
       "    </tr>\n",
       "    <tr>\n",
       "      <th>7</th>\n",
       "      <td>80</td>\n",
       "      <td>90.0</td>\n",
       "    </tr>\n",
       "  </tbody>\n",
       "</table>\n",
       "</div>"
      ],
      "text/plain": [
       "    t t + 1\n",
       "3  40  50.0\n",
       "4  50  60.0\n",
       "5  60  70.0\n",
       "6  70  80.0\n",
       "7  80  90.0"
      ]
     },
     "execution_count": 31,
     "metadata": {},
     "output_type": "execute_result"
    }
   ],
   "source": [
    "forecast_y_train_df"
   ]
  },
  {
   "cell_type": "code",
   "execution_count": 32,
   "id": "d481fa2e",
   "metadata": {},
   "outputs": [
    {
     "name": "stdout",
     "output_type": "stream",
     "text": [
      "Epoch [50/2000], Loss: 55.46837615966797\n",
      "Epoch [100/2000], Loss: 47.05717849731445\n",
      "Epoch [150/2000], Loss: 40.73920822143555\n",
      "Epoch [200/2000], Loss: 34.15233612060547\n",
      "Epoch [250/2000], Loss: 27.485387802124023\n",
      "Epoch [300/2000], Loss: 21.043737411499023\n",
      "Epoch [350/2000], Loss: 15.135043144226074\n",
      "Epoch [400/2000], Loss: 10.141475677490234\n",
      "Epoch [450/2000], Loss: 6.243488311767578\n",
      "Epoch [500/2000], Loss: 3.375147581100464\n",
      "Epoch [550/2000], Loss: 1.7234878540039062\n",
      "Epoch [600/2000], Loss: 0.8195081949234009\n",
      "Epoch [650/2000], Loss: 0.3646969795227051\n",
      "Epoch [700/2000], Loss: 0.15380480885505676\n",
      "Epoch [750/2000], Loss: 0.06195255368947983\n",
      "Epoch [800/2000], Loss: 0.02407493256032467\n",
      "Epoch [850/2000], Loss: 0.00906088761985302\n",
      "Epoch [900/2000], Loss: 0.003329445840790868\n",
      "Epoch [950/2000], Loss: 0.0012305721174925566\n",
      "Epoch [1000/2000], Loss: 0.00043836949043907225\n",
      "Epoch [1050/2000], Loss: 0.00014950436889193952\n",
      "Epoch [1100/2000], Loss: 4.8855552449822426e-05\n",
      "Epoch [1150/2000], Loss: 1.5236348190228455e-05\n",
      "Epoch [1200/2000], Loss: 4.525478288996965e-06\n",
      "Epoch [1250/2000], Loss: 1.288850057790114e-06\n",
      "Epoch [1300/2000], Loss: 3.4825788475245645e-07\n",
      "Epoch [1350/2000], Loss: 9.07035442310189e-08\n",
      "Epoch [1400/2000], Loss: 2.183660363641593e-08\n",
      "Epoch [1450/2000], Loss: 5.496258559389844e-09\n",
      "Epoch [1500/2000], Loss: 1.4173565654473919e-09\n",
      "Epoch [1550/2000], Loss: 6.082700454435042e-10\n",
      "Epoch [1600/2000], Loss: 3.7398423247125834e-10\n",
      "Epoch [1650/2000], Loss: 2.28465066309802e-10\n",
      "Epoch [1700/2000], Loss: 1.5861587043808356e-10\n",
      "Epoch [1750/2000], Loss: 1.2514647651507005e-10\n",
      "Epoch [1800/2000], Loss: 9.022187164031692e-11\n",
      "Epoch [1850/2000], Loss: 7.130438600677635e-11\n",
      "Epoch [1900/2000], Loss: 5.820766091346741e-11\n",
      "Epoch [1950/2000], Loss: 5.093170329928398e-11\n",
      "Epoch [2000/2000], Loss: 5.093170329928398e-11\n"
     ]
    }
   ],
   "source": [
    "criterion = nn.MSELoss()\n",
    "optimizer = optim.Adam(mlp_forecast_model.parameters())\n",
    "N_epochs = 2000\n",
    "configs = [criterion, optimizer, N_epochs]\n",
    "\n",
    "train_forecast_mlp_model = mlp_forecast_model.train(forecast_X_train_df, forecast_y_train_df, configs)"
   ]
  },
  {
   "cell_type": "code",
   "execution_count": 33,
   "id": "3984528b",
   "metadata": {},
   "outputs": [
    {
     "data": {
      "text/html": [
       "<div>\n",
       "<style scoped>\n",
       "    .dataframe tbody tr th:only-of-type {\n",
       "        vertical-align: middle;\n",
       "    }\n",
       "\n",
       "    .dataframe tbody tr th {\n",
       "        vertical-align: top;\n",
       "    }\n",
       "\n",
       "    .dataframe thead tr th {\n",
       "        text-align: left;\n",
       "    }\n",
       "</style>\n",
       "<table border=\"1\" class=\"dataframe\">\n",
       "  <thead>\n",
       "    <tr>\n",
       "      <th></th>\n",
       "      <th>t - 1</th>\n",
       "      <th>t</th>\n",
       "      <th>t + 1</th>\n",
       "    </tr>\n",
       "  </thead>\n",
       "  <tbody>\n",
       "    <tr>\n",
       "      <th>7</th>\n",
       "      <td>70.0</td>\n",
       "      <td>80</td>\n",
       "      <td>90.0</td>\n",
       "    </tr>\n",
       "  </tbody>\n",
       "</table>\n",
       "</div>"
      ],
      "text/plain": [
       "  t - 1   t t + 1\n",
       "7  70.0  80  90.0"
      ]
     },
     "execution_count": 33,
     "metadata": {},
     "output_type": "execute_result"
    }
   ],
   "source": [
    "X_test_df = forecast_X_test_df.iloc[[-1], -n_steps:].copy()\n",
    "X_test_df"
   ]
  },
  {
   "cell_type": "code",
   "execution_count": 34,
   "id": "2cabed58",
   "metadata": {},
   "outputs": [
    {
     "name": "stdout",
     "output_type": "stream",
     "text": [
      "Predicted Outputs: [[103.61579895019531, 114.97189331054688]]\n"
     ]
    },
    {
     "data": {
      "text/plain": [
       "[[103.61579895019531, 114.97189331054688]]"
      ]
     },
     "execution_count": 34,
     "metadata": {},
     "output_type": "execute_result"
    }
   ],
   "source": [
    "mlp_forecasts = mlp_forecast_model.predict(X_test_df)\n",
    "mlp_forecasts"
   ]
  },
  {
   "cell_type": "markdown",
   "id": "952debbb",
   "metadata": {},
   "source": [
    "# Prediction model\n",
    "\n",
    "- Interpolation of in sample values \n",
    "- Use `50, 60, 70`, so X_test\n",
    "- True predictions `80, 90`, so y_test"
   ]
  },
  {
   "cell_type": "code",
   "execution_count": 35,
   "id": "3a357d63",
   "metadata": {},
   "outputs": [
    {
     "data": {
      "text/plain": [
       "MLP(\n",
       "  (fc1): Linear(in_features=3, out_features=100, bias=True)\n",
       "  (relu): ReLU()\n",
       "  (fc2): Linear(in_features=100, out_features=2, bias=True)\n",
       ")"
      ]
     },
     "execution_count": 35,
     "metadata": {},
     "output_type": "execute_result"
    }
   ],
   "source": [
    "hidden_size = 100\n",
    "\n",
    "mlp_predict_model = MLP(n_steps, hidden_size, output_size)\n",
    "mlp_predict_model"
   ]
  },
  {
   "cell_type": "code",
   "execution_count": 36,
   "id": "4128fc58",
   "metadata": {},
   "outputs": [
    {
     "name": "stdout",
     "output_type": "stream",
     "text": [
      "Epoch [50/2000], Loss: 38.59309768676758\n",
      "Epoch [100/2000], Loss: 33.279563903808594\n",
      "Epoch [150/2000], Loss: 27.690452575683594\n",
      "Epoch [200/2000], Loss: 22.207914352416992\n",
      "Epoch [250/2000], Loss: 17.012147903442383\n",
      "Epoch [300/2000], Loss: 12.346281051635742\n",
      "Epoch [350/2000], Loss: 8.44957160949707\n",
      "Epoch [400/2000], Loss: 5.435917854309082\n",
      "Epoch [450/2000], Loss: 3.282123327255249\n",
      "Epoch [500/2000], Loss: 1.886763334274292\n",
      "Epoch [550/2000], Loss: 1.039473533630371\n",
      "Epoch [600/2000], Loss: 0.5480918884277344\n",
      "Epoch [650/2000], Loss: 0.2766892611980438\n",
      "Epoch [700/2000], Loss: 0.13389042019844055\n",
      "Epoch [750/2000], Loss: 0.062112726271152496\n",
      "Epoch [800/2000], Loss: 0.027594950050115585\n",
      "Epoch [850/2000], Loss: 0.01172571536153555\n",
      "Epoch [900/2000], Loss: 0.004769054241478443\n",
      "Epoch [950/2000], Loss: 0.0018550738459452987\n",
      "Epoch [1000/2000], Loss: 0.0006900576408952475\n",
      "Epoch [1050/2000], Loss: 0.00024520314764231443\n",
      "Epoch [1100/2000], Loss: 8.298102329717949e-05\n",
      "Epoch [1150/2000], Loss: 2.6848407287616283e-05\n",
      "Epoch [1200/2000], Loss: 8.27808071335312e-06\n",
      "Epoch [1250/2000], Loss: 2.4255987227661535e-06\n",
      "Epoch [1300/2000], Loss: 6.737118383171037e-07\n",
      "Epoch [1350/2000], Loss: 1.7960155673790723e-07\n",
      "Epoch [1400/2000], Loss: 4.481626092456281e-08\n",
      "Epoch [1450/2000], Loss: 1.1434167390689254e-08\n",
      "Epoch [1500/2000], Loss: 2.790329745039344e-09\n",
      "Epoch [1550/2000], Loss: 6.96672941558063e-10\n",
      "Epoch [1600/2000], Loss: 3.183231456205249e-10\n",
      "Epoch [1650/2000], Loss: 2.6921043172478676e-10\n",
      "Epoch [1700/2000], Loss: 2.2919266484677792e-10\n",
      "Epoch [1750/2000], Loss: 2.219167072325945e-10\n",
      "Epoch [1800/2000], Loss: 2.3646862246096134e-10\n",
      "Epoch [1850/2000], Loss: 1.9099388737231493e-10\n",
      "Epoch [1900/2000], Loss: 2.0736479200422764e-10\n",
      "Epoch [1950/2000], Loss: 1.7280399333685637e-10\n",
      "Epoch [2000/2000], Loss: 1.1823431123048067e-10\n"
     ]
    }
   ],
   "source": [
    "criterion = nn.MSELoss()\n",
    "optimizer = optim.Adam(mlp_predict_model.parameters())\n",
    "N_epochs = 2000\n",
    "configs = [criterion, optimizer, N_epochs]\n",
    "\n",
    "train_predict_mlp_model = mlp_predict_model.train(predict_X_train_df, predict_y_train_df, configs)"
   ]
  },
  {
   "cell_type": "code",
   "execution_count": 37,
   "id": "62d8af8f",
   "metadata": {},
   "outputs": [
    {
     "data": {
      "text/html": [
       "<div>\n",
       "<style scoped>\n",
       "    .dataframe tbody tr th:only-of-type {\n",
       "        vertical-align: middle;\n",
       "    }\n",
       "\n",
       "    .dataframe tbody tr th {\n",
       "        vertical-align: top;\n",
       "    }\n",
       "\n",
       "    .dataframe thead tr th {\n",
       "        text-align: left;\n",
       "    }\n",
       "</style>\n",
       "<table border=\"1\" class=\"dataframe\">\n",
       "  <thead>\n",
       "    <tr>\n",
       "      <th></th>\n",
       "      <th>t - 1</th>\n",
       "      <th>t</th>\n",
       "      <th>t + 1</th>\n",
       "    </tr>\n",
       "  </thead>\n",
       "  <tbody>\n",
       "    <tr>\n",
       "      <th>5</th>\n",
       "      <td>50.0</td>\n",
       "      <td>60</td>\n",
       "      <td>70.0</td>\n",
       "    </tr>\n",
       "  </tbody>\n",
       "</table>\n",
       "</div>"
      ],
      "text/plain": [
       "  t - 1   t t + 1\n",
       "5  50.0  60  70.0"
      ]
     },
     "execution_count": 37,
     "metadata": {},
     "output_type": "execute_result"
    }
   ],
   "source": [
    "X_test_df = predict_X_test_df.iloc[[-1], -n_steps:].copy()\n",
    "X_test_df"
   ]
  },
  {
   "cell_type": "code",
   "execution_count": 38,
   "id": "fe18b75b",
   "metadata": {},
   "outputs": [
    {
     "name": "stdout",
     "output_type": "stream",
     "text": [
      "Predicted Outputs: [[82.41029357910156, 94.2548599243164]]\n"
     ]
    },
    {
     "data": {
      "text/plain": [
       "[[82.41029357910156, 94.2548599243164]]"
      ]
     },
     "execution_count": 38,
     "metadata": {},
     "output_type": "execute_result"
    }
   ],
   "source": [
    "mlp_predictions = mlp_predict_model.predict(X_test_df)\n",
    "mlp_predictions"
   ]
  },
  {
   "cell_type": "code",
   "execution_count": 39,
   "id": "5980aefc",
   "metadata": {},
   "outputs": [
    {
     "data": {
      "text/html": [
       "<div>\n",
       "<style scoped>\n",
       "    .dataframe tbody tr th:only-of-type {\n",
       "        vertical-align: middle;\n",
       "    }\n",
       "\n",
       "    .dataframe tbody tr th {\n",
       "        vertical-align: top;\n",
       "    }\n",
       "\n",
       "    .dataframe thead tr th {\n",
       "        text-align: left;\n",
       "    }\n",
       "</style>\n",
       "<table border=\"1\" class=\"dataframe\">\n",
       "  <thead>\n",
       "    <tr>\n",
       "      <th></th>\n",
       "      <th>t</th>\n",
       "      <th>t + 1</th>\n",
       "    </tr>\n",
       "  </thead>\n",
       "  <tbody>\n",
       "    <tr>\n",
       "      <th>7</th>\n",
       "      <td>80</td>\n",
       "      <td>90.0</td>\n",
       "    </tr>\n",
       "  </tbody>\n",
       "</table>\n",
       "</div>"
      ],
      "text/plain": [
       "    t t + 1\n",
       "7  80  90.0"
      ]
     },
     "execution_count": 39,
     "metadata": {},
     "output_type": "execute_result"
    }
   ],
   "source": [
    "predict_y_test_df"
   ]
  },
  {
   "cell_type": "code",
   "execution_count": 40,
   "id": "7683feae",
   "metadata": {},
   "outputs": [
    {
     "name": "stdout",
     "output_type": "stream",
     "text": [
      "Test MSE: 11.957\n"
     ]
    }
   ],
   "source": [
    "EvaluationMetric.eval_mse(predict_y_test_df, mlp_predictions, False)"
   ]
  }
 ],
 "metadata": {
  "kernelspec": {
   "display_name": "Python 3 (ipykernel)",
   "language": "python",
   "name": "python3"
  },
  "language_info": {
   "codemirror_mode": {
    "name": "ipython",
    "version": 3
   },
   "file_extension": ".py",
   "mimetype": "text/x-python",
   "name": "python",
   "nbconvert_exporter": "python",
   "pygments_lexer": "ipython3",
   "version": "3.9.-1"
  }
 },
 "nbformat": 4,
 "nbformat_minor": 5
}
