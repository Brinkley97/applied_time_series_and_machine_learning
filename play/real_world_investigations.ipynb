{
 "cells": [
  {
   "cell_type": "markdown",
   "id": "c62c292e-96b6-4e20-a645-33334e429a64",
   "metadata": {
    "tags": []
   },
   "source": [
    "# On Analyzing Real World Time Series for Forecasting\n",
    "Throughtout this notebook, we will do some preliminary investigations on time series datasets that come from real world problems. We'll begin by conducting exploratory data analysis and then begin developing our models.\n",
    "\n",
    "## What Needs to be Done\n",
    "- [ ] Map out system structure for performing our computations of interest\n",
    "- [ ] Flush out a few models of interest so we can make forecast on real world data\n",
    "- [ ] Develop the abstraction for our `Model` class that most models typically have when forecasting\n",
    "- [ ] Figure out whether the data we're analyzing is stationary or not.\n",
    "- [ ] Write support for `ARIMA` class of models.\n",
    "- [ ] Revisit chapter 2 and add support for other quantities of interest to compute.\n",
    "\n",
    "### Attributes:\n",
    "1. data: A list or array-like structure storing the time series data points.\n",
    "2. timestamps: A list or array-like structure that stores the timestamps for each data point. It could be dates, times, or simply indices.\n",
    "3. frequency: A string or some identifier representing the frequency of data collection (e.g., 'daily', 'monthly').\n",
    "\n",
    "### Methods:\n",
    "5. decompose(): To decompose the time series into trend, seasonality, and residuals.\n",
    "7. train_test_split(split_ratio): To split the data into a training and test set.\n",
    "8. smoothing(method): Apply various smoothing techniques (e.g., moving average).\n",
    "\n",
    "### Files:\n",
    "8. time_series: A python module that contain classes and methods/functions.\n",
    "9. data_loader: A python module that loads data. In this module, we have functions for loading passenger airline and Yahoo Finance stock data."
   ]
  },
  {
   "cell_type": "code",
   "execution_count": 1,
   "id": "e949351e-c0a0-45c0-969c-2a1281b9a7d2",
   "metadata": {},
   "outputs": [],
   "source": [
    "import numpy as np\n",
    "import pandas as pd\n",
    "\n",
    "import matplotlib.pyplot as plt\n",
    "\n",
    "from collections import namedtuple\n",
    "from time_series import TimeSeriesFactory, UnivariateTimeSeries\n",
    "from data_loader import build_airline_passenger_uts, build_stock_uts, build_any_time_series_uts\n",
    "from ts_models import Model as baseModel"
   ]
  },
  {
   "cell_type": "markdown",
   "id": "7e35bdb8-48f7-49e4-a36f-6af74898f205",
   "metadata": {},
   "source": [
    "## Airline Passenger Data Analysis"
   ]
  },
  {
   "cell_type": "code",
   "execution_count": 2,
   "id": "505ebfa8-05b6-45e1-b047-3c40dadde25c",
   "metadata": {},
   "outputs": [
    {
     "data": {
      "text/plain": [
       "UnivariateTimeSeries(passengers_count)"
      ]
     },
     "execution_count": 2,
     "metadata": {},
     "output_type": "execute_result"
    }
   ],
   "source": [
    "airline_passengers = build_airline_passenger_uts()\n",
    "airline_passengers"
   ]
  },
  {
   "cell_type": "markdown",
   "id": "064f7fd9-25dd-4a44-87a0-566e90ed6337",
   "metadata": {},
   "source": [
    "- `object` `.methods()`"
   ]
  },
  {
   "cell_type": "code",
   "execution_count": 3,
   "id": "5c6c4353-78e5-4764-99c9-aec4891f5d5b",
   "metadata": {},
   "outputs": [
    {
     "name": "stdout",
     "output_type": "stream",
     "text": [
      "month\n",
      "passengers_count\n"
     ]
    },
    {
     "data": {
      "text/html": [
       "<div>\n",
       "<style scoped>\n",
       "    .dataframe tbody tr th:only-of-type {\n",
       "        vertical-align: middle;\n",
       "    }\n",
       "\n",
       "    .dataframe tbody tr th {\n",
       "        vertical-align: top;\n",
       "    }\n",
       "\n",
       "    .dataframe thead th {\n",
       "        text-align: right;\n",
       "    }\n",
       "</style>\n",
       "<table border=\"1\" class=\"dataframe\">\n",
       "  <thead>\n",
       "    <tr style=\"text-align: right;\">\n",
       "      <th></th>\n",
       "      <th>passengers_count</th>\n",
       "    </tr>\n",
       "    <tr>\n",
       "      <th>month</th>\n",
       "      <th></th>\n",
       "    </tr>\n",
       "  </thead>\n",
       "  <tbody>\n",
       "    <tr>\n",
       "      <th>1949-01</th>\n",
       "      <td>112</td>\n",
       "    </tr>\n",
       "    <tr>\n",
       "      <th>1949-02</th>\n",
       "      <td>118</td>\n",
       "    </tr>\n",
       "    <tr>\n",
       "      <th>1949-03</th>\n",
       "      <td>132</td>\n",
       "    </tr>\n",
       "    <tr>\n",
       "      <th>1949-04</th>\n",
       "      <td>129</td>\n",
       "    </tr>\n",
       "    <tr>\n",
       "      <th>1949-05</th>\n",
       "      <td>121</td>\n",
       "    </tr>\n",
       "    <tr>\n",
       "      <th>...</th>\n",
       "      <td>...</td>\n",
       "    </tr>\n",
       "    <tr>\n",
       "      <th>1960-08</th>\n",
       "      <td>606</td>\n",
       "    </tr>\n",
       "    <tr>\n",
       "      <th>1960-09</th>\n",
       "      <td>508</td>\n",
       "    </tr>\n",
       "    <tr>\n",
       "      <th>1960-10</th>\n",
       "      <td>461</td>\n",
       "    </tr>\n",
       "    <tr>\n",
       "      <th>1960-11</th>\n",
       "      <td>390</td>\n",
       "    </tr>\n",
       "    <tr>\n",
       "      <th>1960-12</th>\n",
       "      <td>432</td>\n",
       "    </tr>\n",
       "  </tbody>\n",
       "</table>\n",
       "<p>144 rows × 1 columns</p>\n",
       "</div>"
      ],
      "text/plain": [
       "         passengers_count\n",
       "month                    \n",
       "1949-01               112\n",
       "1949-02               118\n",
       "1949-03               132\n",
       "1949-04               129\n",
       "1949-05               121\n",
       "...                   ...\n",
       "1960-08               606\n",
       "1960-09               508\n",
       "1960-10               461\n",
       "1960-11               390\n",
       "1960-12               432\n",
       "\n",
       "[144 rows x 1 columns]"
      ]
     },
     "execution_count": 3,
     "metadata": {},
     "output_type": "execute_result"
    }
   ],
   "source": [
    "print(airline_passengers.get_time_col_name)\n",
    "print(airline_passengers.get_value_col_name)\n",
    "ap_df = airline_passengers.get_as_df\n",
    "ap_df"
   ]
  },
  {
   "cell_type": "code",
   "execution_count": 4,
   "id": "a24caf38-1418-461c-a9a6-8205605d901d",
   "metadata": {},
   "outputs": [
    {
     "data": {
      "text/html": [
       "<div>\n",
       "<style scoped>\n",
       "    .dataframe tbody tr th:only-of-type {\n",
       "        vertical-align: middle;\n",
       "    }\n",
       "\n",
       "    .dataframe tbody tr th {\n",
       "        vertical-align: top;\n",
       "    }\n",
       "\n",
       "    .dataframe thead th {\n",
       "        text-align: right;\n",
       "    }\n",
       "</style>\n",
       "<table border=\"1\" class=\"dataframe\">\n",
       "  <thead>\n",
       "    <tr style=\"text-align: right;\">\n",
       "      <th></th>\n",
       "    </tr>\n",
       "    <tr>\n",
       "      <th>month</th>\n",
       "    </tr>\n",
       "  </thead>\n",
       "  <tbody>\n",
       "    <tr>\n",
       "      <th>1949-01</th>\n",
       "    </tr>\n",
       "    <tr>\n",
       "      <th>1949-02</th>\n",
       "    </tr>\n",
       "    <tr>\n",
       "      <th>1949-03</th>\n",
       "    </tr>\n",
       "    <tr>\n",
       "      <th>1949-04</th>\n",
       "    </tr>\n",
       "    <tr>\n",
       "      <th>1949-05</th>\n",
       "    </tr>\n",
       "    <tr>\n",
       "      <th>...</th>\n",
       "    </tr>\n",
       "    <tr>\n",
       "      <th>1960-08</th>\n",
       "    </tr>\n",
       "    <tr>\n",
       "      <th>1960-09</th>\n",
       "    </tr>\n",
       "    <tr>\n",
       "      <th>1960-10</th>\n",
       "    </tr>\n",
       "    <tr>\n",
       "      <th>1960-11</th>\n",
       "    </tr>\n",
       "    <tr>\n",
       "      <th>1960-12</th>\n",
       "    </tr>\n",
       "  </tbody>\n",
       "</table>\n",
       "<p>144 rows × 0 columns</p>\n",
       "</div>"
      ],
      "text/plain": [
       "Empty DataFrame\n",
       "Columns: []\n",
       "Index: [1949-01, 1949-02, 1949-03, 1949-04, 1949-05, 1949-06, 1949-07, 1949-08, 1949-09, 1949-10, 1949-11, 1949-12, 1950-01, 1950-02, 1950-03, 1950-04, 1950-05, 1950-06, 1950-07, 1950-08, 1950-09, 1950-10, 1950-11, 1950-12, 1951-01, 1951-02, 1951-03, 1951-04, 1951-05, 1951-06, 1951-07, 1951-08, 1951-09, 1951-10, 1951-11, 1951-12, 1952-01, 1952-02, 1952-03, 1952-04, 1952-05, 1952-06, 1952-07, 1952-08, 1952-09, 1952-10, 1952-11, 1952-12, 1953-01, 1953-02, 1953-03, 1953-04, 1953-05, 1953-06, 1953-07, 1953-08, 1953-09, 1953-10, 1953-11, 1953-12, 1954-01, 1954-02, 1954-03, 1954-04, 1954-05, 1954-06, 1954-07, 1954-08, 1954-09, 1954-10, 1954-11, 1954-12, 1955-01, 1955-02, 1955-03, 1955-04, 1955-05, 1955-06, 1955-07, 1955-08, 1955-09, 1955-10, 1955-11, 1955-12, 1956-01, 1956-02, 1956-03, 1956-04, 1956-05, 1956-06, 1956-07, 1956-08, 1956-09, 1956-10, 1956-11, 1956-12, 1957-01, 1957-02, 1957-03, 1957-04, ...]\n",
       "\n",
       "[144 rows x 0 columns]"
      ]
     },
     "execution_count": 4,
     "metadata": {},
     "output_type": "execute_result"
    }
   ],
   "source": [
    "ap_df.iloc[0:, :0]\n",
    "# ap_df.iloc[:1, :0]\n",
    "# ap_df.iloc[-1:, :0]"
   ]
  },
  {
   "cell_type": "code",
   "execution_count": 5,
   "id": "fc84ae11-9c4f-4064-88f0-0bde216b988a",
   "metadata": {},
   "outputs": [],
   "source": [
    "data = ap_df.iloc[0:, 0].values"
   ]
  },
  {
   "cell_type": "code",
   "execution_count": 6,
   "id": "ca6813aa-67e9-42c0-9dd7-d14d8852dd71",
   "metadata": {},
   "outputs": [
    {
     "data": {
      "image/png": "[encoded data removed]",
      "text/plain": [
       "<Figure size 640x480 with 1 Axes>"
      ]
     },
     "metadata": {},
     "output_type": "display_data"
    }
   ],
   "source": [
    "baseModel.plot1D(col_name=\"month\", dataset_name=\"Airline\", data_df=ap_df)"
   ]
  },
  {
   "cell_type": "code",
   "execution_count": null,
   "id": "264c415e-b4b4-4103-9dc8-f37cfe328ac6",
   "metadata": {},
   "outputs": [],
   "source": [
    "ap_series = airline_passengers.get_series(False)\n",
    "print(ap_series)"
   ]
  },
  {
   "cell_type": "code",
   "execution_count": null,
   "id": "bca2dbb8-38f6-4dca-8eba-c0a56bcbc428",
   "metadata": {},
   "outputs": [],
   "source": [
    "airline_passengers.stationarity_test(ap_df)"
   ]
  },
  {
   "cell_type": "code",
   "execution_count": null,
   "id": "020b0903-8b48-4d56-bbcc-69b407acd6d5",
   "metadata": {},
   "outputs": [],
   "source": [
    "airline_passengers.stationarity_test(ap_df)"
   ]
  },
  {
   "cell_type": "code",
   "execution_count": null,
   "id": "a1c21c21-9877-4369-8e89-1f6a8b90c919",
   "metadata": {},
   "outputs": [],
   "source": [
    "train, validation, test = airline_passengers.get_train_validation_test_split(60, 40)\n",
    "print(train), print(validation), print(test)"
   ]
  },
  {
   "cell_type": "code",
   "execution_count": null,
   "id": "826d406f-7760-414a-bfbb-ddb1eba66b0a",
   "metadata": {},
   "outputs": [],
   "source": [
    "print(airline_passengers.get_slice(1, 50))"
   ]
  },
  {
   "cell_type": "code",
   "execution_count": null,
   "id": "78e8cc48-e260-4b3e-acd8-92b66aaeb31b",
   "metadata": {},
   "outputs": [],
   "source": [
    "print(airline_passengers.autocovariance(3))\n",
    "print(airline_passengers.autocorrelation(3))\n",
    "print(airline_passengers.autocorrelation_matrix(3))"
   ]
  },
  {
   "cell_type": "code",
   "execution_count": null,
   "id": "92c464af-afef-4ed1-b60a-0eb453dd015e",
   "metadata": {},
   "outputs": [],
   "source": [
    "ap_acov_matrix = airline_passengers.autocovariance_matrix(1)\n",
    "ap_acov_matrix"
   ]
  },
  {
   "cell_type": "code",
   "execution_count": null,
   "id": "74b629c4-148f-46de-bf2c-ca0dbdfb3f5c",
   "metadata": {},
   "outputs": [],
   "source": [
    "ap_series = airline_passengers.get_series(True)\n",
    "ap_series"
   ]
  },
  {
   "cell_type": "code",
   "execution_count": null,
   "id": "58b8bbd7-9483-4e4a-a40d-a0fc4f9699c5",
   "metadata": {},
   "outputs": [],
   "source": [
    "cov_matrix = np.cov(ap_series, bias=True)\n",
    "cov_matrix"
   ]
  },
  {
   "cell_type": "code",
   "execution_count": null,
   "id": "3ceed034-fb2e-46ca-9ca9-40c160b05bd4",
   "metadata": {},
   "outputs": [],
   "source": [
    "A = [45, 37, 42, 35, 39]\n",
    "B = [38, 31, 26, 28, 33]\n",
    "C = [10, 15, 17, 21, 12]\n",
    "\n",
    "data = np.array([A, B, C])\n",
    "data"
   ]
  },
  {
   "cell_type": "code",
   "execution_count": null,
   "id": "8ff3c585-d347-430d-aaa2-110a1208115f",
   "metadata": {},
   "outputs": [],
   "source": [
    "np.std(ap_acov_matrix)"
   ]
  },
  {
   "cell_type": "code",
   "execution_count": null,
   "id": "f82c5952-feae-486d-89ef-b94cddcd0b5d",
   "metadata": {},
   "outputs": [],
   "source": [
    "np.allclose(np.mean(ap_acov_matrix), np.std(ap_acov_matrix))"
   ]
  },
  {
   "cell_type": "code",
   "execution_count": null,
   "id": "75fe59c4-0f70-4275-8dd6-88ad9a80505b",
   "metadata": {
    "tags": []
   },
   "outputs": [],
   "source": [
    "new_uts = airline_passengers.normalize()\n",
    "new_uts"
   ]
  },
  {
   "cell_type": "code",
   "execution_count": null,
   "id": "17eefe4c-5fb6-4438-ae69-23564111d7e9",
   "metadata": {},
   "outputs": [],
   "source": [
    "new_uts.data"
   ]
  },
  {
   "cell_type": "code",
   "execution_count": null,
   "id": "a1da6570-812f-4d8c-b403-6f24380a178e",
   "metadata": {},
   "outputs": [],
   "source": []
  },
  {
   "cell_type": "code",
   "execution_count": null,
   "id": "29922800-eeb5-49b7-a8df-7086cc6f1d22",
   "metadata": {},
   "outputs": [],
   "source": [
    "print(airline_passengers.get_order_k_diff(2))"
   ]
  },
  {
   "cell_type": "code",
   "execution_count": null,
   "id": "8b82d654-2cd5-46d4-afd9-d394df2eb1af",
   "metadata": {},
   "outputs": [],
   "source": [
    "print(airline_passengers.mean())\n",
    "print(airline_passengers.std())\n",
    "print(airline_passengers.variance())\n",
    "print(airline_passengers.max_min_range())\n",
    "print(airline_passengers.get_statistics())"
   ]
  },
  {
   "cell_type": "code",
   "execution_count": null,
   "id": "765bbf55-dc98-48ca-b24e-7de81ce11179",
   "metadata": {},
   "outputs": [],
   "source": [
    "airline_passengers.plot(90)"
   ]
  },
  {
   "cell_type": "code",
   "execution_count": null,
   "id": "633c4826-fcbd-451b-862f-40f9ef448d5c",
   "metadata": {},
   "outputs": [],
   "source": [
    "airline_passengers.plot_autocorrelation(2, plot_full=True)"
   ]
  },
  {
   "cell_type": "code",
   "execution_count": null,
   "id": "43026d16-3d13-4fe8-ab62-75cdc2aef091",
   "metadata": {},
   "outputs": [],
   "source": [
    "airline_passengers.scatter_plot(1)"
   ]
  },
  {
   "cell_type": "code",
   "execution_count": null,
   "id": "a9a0c383-f281-41e4-9b64-1b73518ce0a0",
   "metadata": {},
   "outputs": [],
   "source": [
    "print(airline_passengers.get_historical_data(series))"
   ]
  },
  {
   "cell_type": "code",
   "execution_count": null,
   "id": "44aeb5a5-8f8a-436c-aabe-257e5af84767",
   "metadata": {},
   "outputs": [],
   "source": [
    "print(airline_passengers.get_true_label_data(series))"
   ]
  },
  {
   "cell_type": "code",
   "execution_count": null,
   "id": "04b3a977-4fbe-42e1-bddd-290903be9c2f",
   "metadata": {},
   "outputs": [],
   "source": [
    "stationary_series"
   ]
  },
  {
   "cell_type": "code",
   "execution_count": null,
   "id": "56895827-11f1-4a91-bfd2-4c2cdbae3390",
   "metadata": {},
   "outputs": [],
   "source": []
  },
  {
   "cell_type": "code",
   "execution_count": null,
   "id": "e17a3b56-fac2-4118-af40-be35ce5df198",
   "metadata": {},
   "outputs": [],
   "source": []
  },
  {
   "cell_type": "code",
   "execution_count": null,
   "id": "d6912565-7c04-4e3d-8a37-c40522f58502",
   "metadata": {},
   "outputs": [],
   "source": []
  },
  {
   "cell_type": "markdown",
   "id": "f831e037-f926-4bc8-84ec-fdb30ca7802a",
   "metadata": {},
   "source": [
    "## Stock Data Analysis"
   ]
  },
  {
   "cell_type": "code",
   "execution_count": 7,
   "id": "642fbd44-3331-4c7f-9393-5d4e3bccea54",
   "metadata": {},
   "outputs": [
    {
     "name": "stdout",
     "output_type": "stream",
     "text": [
      "[*********************100%***********************]  1 of 1 completed\n",
      "[*********************100%***********************]  1 of 1 completed\n",
      "[*********************100%***********************]  1 of 1 completed\n",
      "[*********************100%***********************]  1 of 1 completed\n",
      "[*********************100%***********************]  1 of 1 completed\n",
      "[*********************100%***********************]  1 of 1 completed\n"
     ]
    }
   ],
   "source": [
    "# Only grab stocks whose data is available for the entire time period\n",
    "start_date, end_date = \"2013-01-01\", \"2023-08-08\"\n",
    "Stock = namedtuple(\"Stock\", [\"symbol\", \"name\"])\n",
    "stocks = [\n",
    "    (\"^GSPC\", \"S&P 500\"),\n",
    "    (\"AAPL\", \"Apple\"),\n",
    "    (\"INTC\", \"Intel\"),\n",
    "    (\"AMZN\", \"Amazon\"),\n",
    "    (\"TSLA\", \"Tesla\"),\n",
    "    (\"GOOGL\", \"Google\")\n",
    "]\n",
    "stocks = [Stock(*s) for s in stocks]\n",
    "stocks = {s.symbol: build_stock_uts(s.symbol, s.name, start_date=start_date, end_date=end_date) for s in stocks}"
   ]
  },
  {
   "cell_type": "code",
   "execution_count": 8,
   "id": "2e27ffe0-a0f2-4ce0-bd89-95e8c26380a7",
   "metadata": {},
   "outputs": [],
   "source": [
    "values_cols = list(stocks.keys())\n",
    "stock_mvts = TimeSeriesFactory.create_time_series(\n",
    "    time_col=\"date\",\n",
    "    time_values=stocks[values_cols[0]].data.index,\n",
    "    values_cols=values_cols,\n",
    "    values=[stock.get_series() for stock in stocks.values()]\n",
    ")"
   ]
  },
  {
   "cell_type": "code",
   "execution_count": 9,
   "id": "95d9aaad-a3f5-4edf-924f-fa53b8db0b63",
   "metadata": {},
   "outputs": [
    {
     "data": {
      "text/plain": [
       "time_series.UnivariateTimeSeries"
      ]
     },
     "execution_count": 9,
     "metadata": {},
     "output_type": "execute_result"
    }
   ],
   "source": [
    "type(stocks['AAPL'])"
   ]
  },
  {
   "cell_type": "code",
   "execution_count": 10,
   "id": "8dba5073-14f4-4947-8fc2-e413c30623d9",
   "metadata": {},
   "outputs": [
    {
     "data": {
      "text/html": [
       "<div>\n",
       "<style scoped>\n",
       "    .dataframe tbody tr th:only-of-type {\n",
       "        vertical-align: middle;\n",
       "    }\n",
       "\n",
       "    .dataframe tbody tr th {\n",
       "        vertical-align: top;\n",
       "    }\n",
       "\n",
       "    .dataframe thead th {\n",
       "        text-align: right;\n",
       "    }\n",
       "</style>\n",
       "<table border=\"1\" class=\"dataframe\">\n",
       "  <thead>\n",
       "    <tr style=\"text-align: right;\">\n",
       "      <th></th>\n",
       "      <th>Open</th>\n",
       "    </tr>\n",
       "    <tr>\n",
       "      <th>Date</th>\n",
       "      <th></th>\n",
       "    </tr>\n",
       "  </thead>\n",
       "  <tbody>\n",
       "    <tr>\n",
       "      <th>2013-01-02</th>\n",
       "      <td>19.779285</td>\n",
       "    </tr>\n",
       "    <tr>\n",
       "      <th>2013-01-03</th>\n",
       "      <td>19.567142</td>\n",
       "    </tr>\n",
       "    <tr>\n",
       "      <th>2013-01-04</th>\n",
       "      <td>19.177500</td>\n",
       "    </tr>\n",
       "    <tr>\n",
       "      <th>2013-01-07</th>\n",
       "      <td>18.642857</td>\n",
       "    </tr>\n",
       "    <tr>\n",
       "      <th>2013-01-08</th>\n",
       "      <td>18.900356</td>\n",
       "    </tr>\n",
       "    <tr>\n",
       "      <th>...</th>\n",
       "      <td>...</td>\n",
       "    </tr>\n",
       "    <tr>\n",
       "      <th>2023-08-01</th>\n",
       "      <td>196.240005</td>\n",
       "    </tr>\n",
       "    <tr>\n",
       "      <th>2023-08-02</th>\n",
       "      <td>195.039993</td>\n",
       "    </tr>\n",
       "    <tr>\n",
       "      <th>2023-08-03</th>\n",
       "      <td>191.570007</td>\n",
       "    </tr>\n",
       "    <tr>\n",
       "      <th>2023-08-04</th>\n",
       "      <td>185.520004</td>\n",
       "    </tr>\n",
       "    <tr>\n",
       "      <th>2023-08-07</th>\n",
       "      <td>182.130005</td>\n",
       "    </tr>\n",
       "  </tbody>\n",
       "</table>\n",
       "<p>2667 rows × 1 columns</p>\n",
       "</div>"
      ],
      "text/plain": [
       "                  Open\n",
       "Date                  \n",
       "2013-01-02   19.779285\n",
       "2013-01-03   19.567142\n",
       "2013-01-04   19.177500\n",
       "2013-01-07   18.642857\n",
       "2013-01-08   18.900356\n",
       "...                ...\n",
       "2023-08-01  196.240005\n",
       "2023-08-02  195.039993\n",
       "2023-08-03  191.570007\n",
       "2023-08-04  185.520004\n",
       "2023-08-07  182.130005\n",
       "\n",
       "[2667 rows x 1 columns]"
      ]
     },
     "execution_count": 10,
     "metadata": {},
     "output_type": "execute_result"
    }
   ],
   "source": [
    "apple_stock_prices_df = stocks['AAPL'].get_as_df\n",
    "apple_stock_prices_df"
   ]
  },
  {
   "cell_type": "code",
   "execution_count": 11,
   "id": "24b1034e-7bfb-4531-9ec5-435a12b09bfd",
   "metadata": {},
   "outputs": [
    {
     "data": {
      "text/plain": [
       "array([ 19.77928543,  19.56714249,  19.17749977, ..., 191.57000732,\n",
       "       185.52000427, 182.13000488])"
      ]
     },
     "execution_count": 11,
     "metadata": {},
     "output_type": "execute_result"
    }
   ],
   "source": [
    "aapl_series = stocks['AAPL'].get_series()\n",
    "aapl_series"
   ]
  },
  {
   "cell_type": "code",
   "execution_count": 12,
   "id": "d3ba3c33",
   "metadata": {},
   "outputs": [
    {
     "name": "stdout",
     "output_type": "stream",
     "text": [
      "Series is non-stationary as 0.9862528388956524 > 0.05\n"
     ]
    }
   ],
   "source": [
    "stocks['AAPL'].stationarity_test(aapl_series)"
   ]
  },
  {
   "cell_type": "code",
   "execution_count": 14,
   "id": "84d0f02c-a38b-4e81-a75b-c605cf320d58",
   "metadata": {},
   "outputs": [
    {
     "data": {
      "image/png": "[encoded data removed]",
      "text/plain": [
       "<Figure size 640x480 with 1 Axes>"
      ]
     },
     "metadata": {},
     "output_type": "display_data"
    }
   ],
   "source": [
    "baseModel.plot1D(col_name=\"month\", dataset_name=\"Airline\", data_df=apple_stock_prices_df)"
   ]
  },
  {
   "cell_type": "markdown",
   "id": "8bf828b6-f0b0-4870-bd37-b28847fef264",
   "metadata": {},
   "source": [
    "# Misc Data"
   ]
  },
  {
   "cell_type": "code",
   "execution_count": 2,
   "id": "621d6266-5f1d-4aba-aeab-6ea905af297c",
   "metadata": {},
   "outputs": [],
   "source": [
    "file = \"../datasets/generated_stationary_time_series.npy\"\n",
    "time_col_name = \"Time\"\n",
    "value_col_name = \"Observations\""
   ]
  },
  {
   "cell_type": "code",
   "execution_count": 4,
   "id": "1e9f721d-31cb-40ca-b735-d6fe89582cbd",
   "metadata": {},
   "outputs": [
    {
     "name": "stdout",
     "output_type": "stream",
     "text": [
      "    Observations\n",
      "0   0.000000e+00\n",
      "1   5.877853e-01\n",
      "2   9.510565e-01\n",
      "3   9.510565e-01\n",
      "4   5.877853e-01\n",
      "..           ...\n",
      "95  5.879543e-15\n",
      "96 -5.877853e-01\n",
      "97 -9.510565e-01\n",
      "98 -9.510565e-01\n",
      "99 -5.877853e-01\n",
      "\n",
      "[100 rows x 1 columns]\n"
     ]
    }
   ],
   "source": [
    "generated_stationy_time_series = build_any_time_series_uts(file, time_col_name, value_col_name)"
   ]
  },
  {
   "cell_type": "code",
   "execution_count": 5,
   "id": "05867ccb-7aef-484e-b385-6770edb303d4",
   "metadata": {},
   "outputs": [
    {
     "data": {
      "text/plain": [
       "UnivariateTimeSeries(Observations)"
      ]
     },
     "execution_count": 5,
     "metadata": {},
     "output_type": "execute_result"
    }
   ],
   "source": [
    "generated_stationy_time_series"
   ]
  },
  {
   "cell_type": "code",
   "execution_count": 8,
   "id": "719f8384-bf64-4555-99f8-e145912d8826",
   "metadata": {},
   "outputs": [
    {
     "data": {
      "text/plain": [
       "array([ 0.00000000e+00,  5.87785252e-01,  9.51056516e-01,  9.51056516e-01,\n",
       "        5.87785252e-01,  1.22464680e-16, -5.87785252e-01, -9.51056516e-01,\n",
       "       -9.51056516e-01, -5.87785252e-01, -2.44929360e-16,  5.87785252e-01,\n",
       "        9.51056516e-01,  9.51056516e-01,  5.87785252e-01,  3.67394040e-16,\n",
       "       -5.87785252e-01, -9.51056516e-01, -9.51056516e-01, -5.87785252e-01,\n",
       "       -4.89858720e-16,  5.87785252e-01,  9.51056516e-01,  9.51056516e-01,\n",
       "        5.87785252e-01,  6.12323400e-16, -5.87785252e-01, -9.51056516e-01,\n",
       "       -9.51056516e-01, -5.87785252e-01, -7.34788079e-16,  5.87785252e-01,\n",
       "        9.51056516e-01,  9.51056516e-01,  5.87785252e-01,  8.57252759e-16,\n",
       "       -5.87785252e-01, -9.51056516e-01, -9.51056516e-01, -5.87785252e-01,\n",
       "       -9.79717439e-16,  5.87785252e-01,  9.51056516e-01,  9.51056516e-01,\n",
       "        5.87785252e-01,  1.10218212e-15, -5.87785252e-01, -9.51056516e-01,\n",
       "       -9.51056516e-01, -5.87785252e-01, -1.22464680e-15,  5.87785252e-01,\n",
       "        9.51056516e-01,  9.51056516e-01,  5.87785252e-01,  4.89982516e-15,\n",
       "       -5.87785252e-01, -9.51056516e-01, -9.51056516e-01, -5.87785252e-01,\n",
       "       -1.46957616e-15,  5.87785252e-01,  9.51056516e-01,  9.51056516e-01,\n",
       "        5.87785252e-01, -1.96067284e-15, -5.87785252e-01, -9.51056516e-01,\n",
       "       -9.51056516e-01, -5.87785252e-01, -1.71450552e-15,  5.87785252e-01,\n",
       "        9.51056516e-01,  9.51056516e-01,  5.87785252e-01,  5.38968388e-15,\n",
       "       -5.87785252e-01, -9.51056516e-01, -9.51056516e-01, -5.87785252e-01,\n",
       "       -1.95943488e-15,  5.87785252e-01,  9.51056516e-01,  9.51056516e-01,\n",
       "        5.87785252e-01, -1.47081412e-15, -5.87785252e-01, -9.51056516e-01,\n",
       "       -9.51056516e-01, -5.87785252e-01, -2.20436424e-15,  5.87785252e-01,\n",
       "        9.51056516e-01,  9.51056516e-01,  5.87785252e-01,  5.87954260e-15,\n",
       "       -5.87785252e-01, -9.51056516e-01, -9.51056516e-01, -5.87785252e-01])"
      ]
     },
     "execution_count": 8,
     "metadata": {},
     "output_type": "execute_result"
    }
   ],
   "source": [
    "gsts_series = generated_stationy_time_series.get_series(False)\n",
    "gsts_series"
   ]
  },
  {
   "cell_type": "code",
   "execution_count": 9,
   "id": "fbf094df-1cf9-46c3-84f6-de6c8b77babb",
   "metadata": {},
   "outputs": [
    {
     "name": "stdout",
     "output_type": "stream",
     "text": [
      "Series is stationary as 0.0 < 0.05\n"
     ]
    }
   ],
   "source": [
    "generated_stationy_time_series.stationarity_test(gsts_series)"
   ]
  },
  {
   "cell_type": "code",
   "execution_count": null,
   "id": "b53717bf-3950-4b27-b1a8-3555595bd89f",
   "metadata": {},
   "outputs": [],
   "source": []
  }
 ],
 "metadata": {
  "kernelspec": {
   "display_name": "Python 3 (ipykernel)",
   "language": "python",
   "name": "python3"
  },
  "language_info": {
   "codemirror_mode": {
    "name": "ipython",
    "version": 3
   },
   "file_extension": ".py",
   "mimetype": "text/x-python",
   "name": "python",
   "nbconvert_exporter": "python",
   "pygments_lexer": "ipython3",
   "version": "3.9.16"
  }
 },
 "nbformat": 4,
 "nbformat_minor": 5
}
