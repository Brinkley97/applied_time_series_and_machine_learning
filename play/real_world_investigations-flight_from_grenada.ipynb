{
 "cells": [
  {
   "cell_type": "markdown",
   "metadata": {},
   "source": [
    "# Flight Prices"
   ]
  },
  {
   "cell_type": "code",
   "execution_count": 3,
   "metadata": {},
   "outputs": [],
   "source": [
    "import pandas as pd\n",
    "\n",
    "from amadeus import Client"
   ]
  },
  {
   "cell_type": "code",
   "execution_count": 11,
   "metadata": {},
   "outputs": [
    {
     "name": "stdout",
     "output_type": "stream",
     "text": [
      "Empty DataFrame\n",
      "Columns: []\n",
      "Index: []\n"
     ]
    }
   ],
   "source": [
    "amadeus = Client(client_id='kz4kSwYPdnOR20f3N6eK3pCqyDSExRMA', client_secret='kfVMKAphqouF6pp9')\n",
    "\n",
    "response = amadeus.analytics.itinerary_price_metrics.get(\n",
    "    originIataCode='GND',\n",
    "    destinationIataCode='ORD',\n",
    "    departureDate='2024-12-12',\n",
    "    oneWay=False\n",
    ")\n",
    "\n",
    "# Extract price and date details\n",
    "data = []\n",
    "for offer in response.data:\n",
    "    price = offer['price']['total']\n",
    "    departure = offer['itineraries'][0]['segments'][0]['departure']['at']\n",
    "    data.append({'departure_date': departure, 'price': price})\n",
    "\n",
    "# Convert to DataFrame\n",
    "df = pd.DataFrame(data)\n",
    "print(df)"
   ]
  },
  {
   "cell_type": "code",
   "execution_count": null,
   "metadata": {},
   "outputs": [],
   "source": []
  }
 ],
 "metadata": {
  "kernelspec": {
   "display_name": "time_series",
   "language": "python",
   "name": "python3"
  },
  "language_info": {
   "codemirror_mode": {
    "name": "ipython",
    "version": 3
   },
   "file_extension": ".py",
   "mimetype": "text/x-python",
   "name": "python",
   "nbconvert_exporter": "python",
   "pygments_lexer": "ipython3",
   "version": "3.9.16"
  }
 },
 "nbformat": 4,
 "nbformat_minor": 2
}
